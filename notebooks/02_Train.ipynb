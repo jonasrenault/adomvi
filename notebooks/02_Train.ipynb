{
 "cells": [
  {
   "cell_type": "markdown",
   "id": "b16172d3-4aaf-4b8d-b9e1-b67f8322e01d",
   "metadata": {},
   "source": [
    "# Fine-tune a YOLOv8 detection model\n",
    "\n",
    "This notebook will train a [Yolov8](https://github.com/ultralytics/ultralytics) model for tank detection using publicly available annotated images of tanks. As the notebook will run the training with `PyTorch`, it is recommended to have GPUs available.\n",
    "This notebook expects that the dataset created in the notebook [01_Dataset](./01_Dataset.ipynb) has been saved to disk."
   ]
  },
  {
   "cell_type": "markdown",
   "id": "d3d75f09-636f-4786-9d60-4a672c41c055",
   "metadata": {},
   "source": [
    "### Setup"
   ]
  },
  {
   "cell_type": "markdown",
   "id": "e78070ae-5cde-47ef-a394-4cbd74ad3cf7",
   "metadata": {},
   "source": [
    "To start, check GPU support."
   ]
  },
  {
   "cell_type": "code",
   "execution_count": 1,
   "id": "8dc4c32f-48a1-453a-8526-63f79f504b0b",
   "metadata": {},
   "outputs": [
    {
     "name": "stdout",
     "output_type": "stream",
     "text": [
      "Setup complete. Using torch 2.3.1+cu121 (NVIDIA RTX A6000)\n"
     ]
    }
   ],
   "source": [
    "import torch\n",
    "\n",
    "print(f\"Setup complete. Using torch {torch.__version__} ({torch.cuda.get_device_properties(0).name if torch.cuda.is_available() else 'CPU'})\")"
   ]
  },
  {
   "cell_type": "markdown",
   "id": "15382b1e-27bb-4614-b6e2-431ec0dd4967",
   "metadata": {},
   "source": [
    "### Load dataset"
   ]
  },
  {
   "cell_type": "markdown",
   "id": "5ef8e715-e340-4187-a130-7c908114dd53",
   "metadata": {},
   "source": [
    "We'll first load the dataset created on disk."
   ]
  },
  {
   "cell_type": "code",
   "execution_count": 2,
   "id": "ed58948a-0722-4abe-8bef-455309e652af",
   "metadata": {},
   "outputs": [],
   "source": [
    "from pathlib import Path\n",
    "\n",
    "dataset_dir = Path() / \"dataset\""
   ]
  },
  {
   "cell_type": "code",
   "execution_count": 3,
   "id": "031dba9b-53d3-4d09-8c4d-21f4cf15aca3",
   "metadata": {},
   "outputs": [
    {
     "name": "stdout",
     "output_type": "stream",
     "text": []
    },
    {
     "name": "stdout",
     "output_type": "stream",
     "text": [
      " 100% |███████████████| 2668/2668 [2.4s elapsed, 0s remaining, 1.1K samples/s]      \n",
      " 100% |█████████████████| 334/334 [302.6ms elapsed, 0s remaining, 1.1K samples/s]     \n",
      " 100% |█████████████████| 333/333 [411.4ms elapsed, 0s remaining, 809.5 samples/s]     \n"
     ]
    }
   ],
   "source": [
    "import fiftyone as fo\n",
    "\n",
    "# The splits to load\n",
    "splits = [\"train\", \"val\", \"test\"]\n",
    "\n",
    "# Load the dataset, using tags to mark the samples in each split\n",
    "dataset = fo.Dataset()\n",
    "for split in splits:\n",
    "    dataset.add_dir(\n",
    "        dataset_dir=dataset_dir,\n",
    "        dataset_type=fo.types.YOLOv5Dataset,\n",
    "        split=split,\n",
    "        tags=split,\n",
    ")"
   ]
  },
  {
   "cell_type": "markdown",
   "id": "55a0513e-7034-4949-b2f7-07423bfdfaca",
   "metadata": {},
   "source": [
    "### Train a YoloV8 model"
   ]
  },
  {
   "cell_type": "markdown",
   "id": "5c987c05-848b-439e-8705-0735b100180f",
   "metadata": {},
   "source": [
    "We can now train a YoloV8 base model on our exported dataset. We use the `yolov8m.pt` (nano) model, which provides a good comprise between size and speed, but other models are available from ultralytics. Simply replace `yolov8m.pt` with the [right model](https://docs.ultralytics.com/models/yolov8/#key-features)."
   ]
  },
  {
   "cell_type": "code",
   "execution_count": 4,
   "id": "b6999159-b029-4cd7-97ed-68b40311cbc8",
   "metadata": {},
   "outputs": [
    {
     "name": "stdout",
     "output_type": "stream",
     "text": [
      "New https://pypi.org/project/ultralytics/8.2.45 available 😃 Update with 'pip install -U ultralytics'\n",
      "Ultralytics YOLOv8.2.38 🚀 Python-3.10.14 torch-2.3.1+cu121 CUDA:1 (NVIDIA RTX A6000, 48677MiB)\n",
      "\u001b[34m\u001b[1mengine/trainer: \u001b[0mtask=detect, mode=train, model=yolov8m.pt, data=dataset/dataset.yaml, epochs=60, time=None, patience=100, batch=64, imgsz=640, save=True, save_period=-1, cache=False, device=1, workers=8, project=None, name=train3, exist_ok=False, pretrained=True, optimizer=auto, verbose=True, seed=0, deterministic=True, single_cls=False, rect=False, cos_lr=False, close_mosaic=10, resume=False, amp=True, fraction=1.0, profile=False, freeze=None, multi_scale=False, overlap_mask=True, mask_ratio=4, dropout=0.0, val=True, split=val, save_json=False, save_hybrid=False, conf=None, iou=0.7, max_det=300, half=False, dnn=False, plots=True, source=None, vid_stride=1, stream_buffer=False, visualize=False, augment=False, agnostic_nms=False, classes=None, retina_masks=False, embed=None, show=False, save_frames=False, save_txt=False, save_conf=False, save_crop=False, show_labels=True, show_conf=True, show_boxes=True, line_width=None, format=torchscript, keras=False, optimize=False, int8=False, dynamic=False, simplify=False, opset=None, workspace=4, nms=False, lr0=0.01, lrf=0.01, momentum=0.937, weight_decay=0.0005, warmup_epochs=3.0, warmup_momentum=0.8, warmup_bias_lr=0.1, box=7.5, cls=0.5, dfl=1.5, pose=12.0, kobj=1.0, label_smoothing=0.0, nbs=64, hsv_h=0.015, hsv_s=0.7, hsv_v=0.4, degrees=0.0, translate=0.1, scale=0.5, shear=0.0, perspective=0.0, flipud=0.0, fliplr=0.5, bgr=0.0, mosaic=1.0, mixup=0.0, copy_paste=0.0, auto_augment=randaugment, erasing=0.4, crop_fraction=1.0, cfg=None, tracker=botsort.yaml, save_dir=runs/detect/train3\n",
      "Overriding model.yaml nc=80 with nc=4\n",
      "\n",
      "                   from  n    params  module                                       arguments                     \n",
      "  0                  -1  1      1392  ultralytics.nn.modules.conv.Conv             [3, 48, 3, 2]                 \n",
      "  1                  -1  1     41664  ultralytics.nn.modules.conv.Conv             [48, 96, 3, 2]                \n",
      "  2                  -1  2    111360  ultralytics.nn.modules.block.C2f             [96, 96, 2, True]             \n",
      "  3                  -1  1    166272  ultralytics.nn.modules.conv.Conv             [96, 192, 3, 2]               \n",
      "  4                  -1  4    813312  ultralytics.nn.modules.block.C2f             [192, 192, 4, True]           \n",
      "  5                  -1  1    664320  ultralytics.nn.modules.conv.Conv             [192, 384, 3, 2]              \n",
      "  6                  -1  4   3248640  ultralytics.nn.modules.block.C2f             [384, 384, 4, True]           \n",
      "  7                  -1  1   1991808  ultralytics.nn.modules.conv.Conv             [384, 576, 3, 2]              \n",
      "  8                  -1  2   3985920  ultralytics.nn.modules.block.C2f             [576, 576, 2, True]           \n",
      "  9                  -1  1    831168  ultralytics.nn.modules.block.SPPF            [576, 576, 5]                 \n",
      " 10                  -1  1         0  torch.nn.modules.upsampling.Upsample         [None, 2, 'nearest']          \n",
      " 11             [-1, 6]  1         0  ultralytics.nn.modules.conv.Concat           [1]                           \n",
      " 12                  -1  2   1993728  ultralytics.nn.modules.block.C2f             [960, 384, 2]                 \n",
      " 13                  -1  1         0  torch.nn.modules.upsampling.Upsample         [None, 2, 'nearest']          \n",
      " 14             [-1, 4]  1         0  ultralytics.nn.modules.conv.Concat           [1]                           \n",
      " 15                  -1  2    517632  ultralytics.nn.modules.block.C2f             [576, 192, 2]                 \n",
      " 16                  -1  1    332160  ultralytics.nn.modules.conv.Conv             [192, 192, 3, 2]              \n",
      " 17            [-1, 12]  1         0  ultralytics.nn.modules.conv.Concat           [1]                           \n",
      " 18                  -1  2   1846272  ultralytics.nn.modules.block.C2f             [576, 384, 2]                 \n",
      " 19                  -1  1   1327872  ultralytics.nn.modules.conv.Conv             [384, 384, 3, 2]              \n",
      " 20             [-1, 9]  1         0  ultralytics.nn.modules.conv.Concat           [1]                           \n",
      " 21                  -1  2   4207104  ultralytics.nn.modules.block.C2f             [960, 576, 2]                 \n",
      " 22        [15, 18, 21]  1   3778012  ultralytics.nn.modules.head.Detect           [4, [192, 384, 576]]          \n",
      "Model summary: 295 layers, 25858636 parameters, 25858620 gradients, 79.1 GFLOPs\n",
      "\n",
      "Transferred 469/475 items from pretrained weights\n",
      "Freezing layer 'model.22.dfl.conv.weight'\n",
      "\u001b[34m\u001b[1mAMP: \u001b[0mrunning Automatic Mixed Precision (AMP) checks with YOLOv8n...\n",
      "\u001b[34m\u001b[1mAMP: \u001b[0mchecks passed ✅\n"
     ]
    },
    {
     "name": "stderr",
     "output_type": "stream",
     "text": [
      "\u001b[34m\u001b[1mtrain: \u001b[0mScanning /home/jrenault/workspace/adomvi2/notebooks/dataset/labels/train... 2668 images, 44 backgrounds, 0 corrupt: 100%|████\u001b[0m"
     ]
    },
    {
     "name": "stdout",
     "output_type": "stream",
     "text": [
      "\u001b[34m\u001b[1mtrain: \u001b[0mNew cache created: /home/jrenault/workspace/adomvi2/notebooks/dataset/labels/train.cache\n"
     ]
    },
    {
     "name": "stderr",
     "output_type": "stream",
     "text": [
      "\n",
      "\u001b[34m\u001b[1mval: \u001b[0mScanning /home/jrenault/workspace/adomvi2/notebooks/dataset/labels/val... 334 images, 4 backgrounds, 0 corrupt: 100%|██████████\u001b[0m"
     ]
    },
    {
     "name": "stdout",
     "output_type": "stream",
     "text": [
      "\u001b[34m\u001b[1mval: \u001b[0mNew cache created: /home/jrenault/workspace/adomvi2/notebooks/dataset/labels/val.cache\n"
     ]
    },
    {
     "name": "stderr",
     "output_type": "stream",
     "text": [
      "\n"
     ]
    },
    {
     "name": "stdout",
     "output_type": "stream",
     "text": [
      "Plotting labels to runs/detect/train3/labels.jpg... \n",
      "\u001b[34m\u001b[1moptimizer:\u001b[0m 'optimizer=auto' found, ignoring 'lr0=0.01' and 'momentum=0.937' and determining best 'optimizer', 'lr0' and 'momentum' automatically... \n",
      "\u001b[34m\u001b[1moptimizer:\u001b[0m AdamW(lr=0.00125, momentum=0.9) with parameter groups 77 weight(decay=0.0), 84 weight(decay=0.0005), 83 bias(decay=0.0)\n",
      "Image sizes 640 train, 640 val\n",
      "Using 8 dataloader workers\n",
      "Logging results to \u001b[1mruns/detect/train3\u001b[0m\n",
      "Starting training for 60 epochs...\n",
      "\n",
      "      Epoch    GPU_mem   box_loss   cls_loss   dfl_loss  Instances       Size\n"
     ]
    },
    {
     "name": "stderr",
     "output_type": "stream",
     "text": [
      "       1/60      25.5G     0.9885      2.406      1.437        163        640: 100%|██████████| 42/42 [00:46<00:00,  1.10s/it]\n",
      "                 Class     Images  Instances      Box(P          R      mAP50  mAP50-95): 100%|██████████| 3/3 [00:04<00:00,  1.50s/"
     ]
    },
    {
     "name": "stdout",
     "output_type": "stream",
     "text": [
      "                   all        334        434      0.483      0.447      0.239      0.126\n"
     ]
    },
    {
     "name": "stderr",
     "output_type": "stream",
     "text": [
      "\n"
     ]
    },
    {
     "name": "stdout",
     "output_type": "stream",
     "text": [
      "\n",
      "      Epoch    GPU_mem   box_loss   cls_loss   dfl_loss  Instances       Size\n"
     ]
    },
    {
     "name": "stderr",
     "output_type": "stream",
     "text": [
      "       2/60      25.6G      1.118      1.503      1.517        143        640: 100%|██████████| 42/42 [00:42<00:00,  1.02s/it]\n",
      "                 Class     Images  Instances      Box(P          R      mAP50  mAP50-95): 100%|██████████| 3/3 [00:04<00:00,  1.44s/"
     ]
    },
    {
     "name": "stdout",
     "output_type": "stream",
     "text": [
      "                   all        334        434      0.301      0.297       0.03    0.00785\n"
     ]
    },
    {
     "name": "stderr",
     "output_type": "stream",
     "text": [
      "\n"
     ]
    },
    {
     "name": "stdout",
     "output_type": "stream",
     "text": [
      "\n",
      "      Epoch    GPU_mem   box_loss   cls_loss   dfl_loss  Instances       Size\n"
     ]
    },
    {
     "name": "stderr",
     "output_type": "stream",
     "text": [
      "       3/60      25.7G      1.248      1.624      1.601        147        640: 100%|██████████| 42/42 [00:42<00:00,  1.01s/it]\n",
      "                 Class     Images  Instances      Box(P          R      mAP50  mAP50-95): 100%|██████████| 3/3 [00:03<00:00,  1.21s/"
     ]
    },
    {
     "name": "stdout",
     "output_type": "stream",
     "text": [
      "                   all        334        434     0.0112      0.333     0.0111    0.00324\n"
     ]
    },
    {
     "name": "stderr",
     "output_type": "stream",
     "text": [
      "\n"
     ]
    },
    {
     "name": "stdout",
     "output_type": "stream",
     "text": [
      "\n",
      "      Epoch    GPU_mem   box_loss   cls_loss   dfl_loss  Instances       Size\n"
     ]
    },
    {
     "name": "stderr",
     "output_type": "stream",
     "text": [
      "       4/60      25.7G      1.277      1.626      1.628        154        640: 100%|██████████| 42/42 [00:43<00:00,  1.05s/it]\n",
      "                 Class     Images  Instances      Box(P          R      mAP50  mAP50-95): 100%|██████████| 3/3 [00:05<00:00,  1.71s/"
     ]
    },
    {
     "name": "stdout",
     "output_type": "stream",
     "text": [
      "                   all        334        434       0.36      0.251      0.103     0.0432\n"
     ]
    },
    {
     "name": "stderr",
     "output_type": "stream",
     "text": [
      "\n"
     ]
    },
    {
     "name": "stdout",
     "output_type": "stream",
     "text": [
      "\n",
      "      Epoch    GPU_mem   box_loss   cls_loss   dfl_loss  Instances       Size\n"
     ]
    },
    {
     "name": "stderr",
     "output_type": "stream",
     "text": [
      "       5/60      25.7G       1.19      1.519      1.565        142        640: 100%|██████████| 42/42 [00:40<00:00,  1.03it/s]\n",
      "                 Class     Images  Instances      Box(P          R      mAP50  mAP50-95): 100%|██████████| 3/3 [00:03<00:00,  1.04s/"
     ]
    },
    {
     "name": "stdout",
     "output_type": "stream",
     "text": [
      "                   all        334        434       0.44      0.475      0.257       0.15\n"
     ]
    },
    {
     "name": "stderr",
     "output_type": "stream",
     "text": [
      "\n"
     ]
    },
    {
     "name": "stdout",
     "output_type": "stream",
     "text": [
      "\n",
      "      Epoch    GPU_mem   box_loss   cls_loss   dfl_loss  Instances       Size\n"
     ]
    },
    {
     "name": "stderr",
     "output_type": "stream",
     "text": [
      "       6/60      25.2G      1.131       1.46      1.515        131        640: 100%|██████████| 42/42 [00:38<00:00,  1.08it/s]\n",
      "                 Class     Images  Instances      Box(P          R      mAP50  mAP50-95): 100%|██████████| 3/3 [00:03<00:00,  1.10s/"
     ]
    },
    {
     "name": "stdout",
     "output_type": "stream",
     "text": [
      "                   all        334        434      0.477      0.362       0.21      0.111\n"
     ]
    },
    {
     "name": "stderr",
     "output_type": "stream",
     "text": [
      "\n"
     ]
    },
    {
     "name": "stdout",
     "output_type": "stream",
     "text": [
      "\n",
      "      Epoch    GPU_mem   box_loss   cls_loss   dfl_loss  Instances       Size\n"
     ]
    },
    {
     "name": "stderr",
     "output_type": "stream",
     "text": [
      "       7/60      25.2G       1.09      1.378      1.484        127        640: 100%|██████████| 42/42 [00:39<00:00,  1.06it/s]\n",
      "                 Class     Images  Instances      Box(P          R      mAP50  mAP50-95): 100%|██████████| 3/3 [00:03<00:00,  1.30s/"
     ]
    },
    {
     "name": "stdout",
     "output_type": "stream",
     "text": [
      "                   all        334        434       0.78      0.414      0.477      0.313\n"
     ]
    },
    {
     "name": "stderr",
     "output_type": "stream",
     "text": [
      "\n"
     ]
    },
    {
     "name": "stdout",
     "output_type": "stream",
     "text": [
      "\n",
      "      Epoch    GPU_mem   box_loss   cls_loss   dfl_loss  Instances       Size\n"
     ]
    },
    {
     "name": "stderr",
     "output_type": "stream",
     "text": [
      "       8/60      25.2G      1.035      1.328      1.449        125        640: 100%|██████████| 42/42 [00:39<00:00,  1.07it/s]\n",
      "                 Class     Images  Instances      Box(P          R      mAP50  mAP50-95): 100%|██████████| 3/3 [00:03<00:00,  1.05s/"
     ]
    },
    {
     "name": "stdout",
     "output_type": "stream",
     "text": [
      "                   all        334        434      0.679      0.318      0.425      0.285\n"
     ]
    },
    {
     "name": "stderr",
     "output_type": "stream",
     "text": [
      "\n"
     ]
    },
    {
     "name": "stdout",
     "output_type": "stream",
     "text": [
      "\n",
      "      Epoch    GPU_mem   box_loss   cls_loss   dfl_loss  Instances       Size\n"
     ]
    },
    {
     "name": "stderr",
     "output_type": "stream",
     "text": [
      "       9/60      25.3G      1.016      1.306      1.439        129        640: 100%|██████████| 42/42 [00:38<00:00,  1.08it/s]\n",
      "                 Class     Images  Instances      Box(P          R      mAP50  mAP50-95): 100%|██████████| 3/3 [00:03<00:00,  1.20s/"
     ]
    },
    {
     "name": "stdout",
     "output_type": "stream",
     "text": [
      "                   all        334        434      0.742      0.515      0.533      0.373\n"
     ]
    },
    {
     "name": "stderr",
     "output_type": "stream",
     "text": [
      "\n"
     ]
    },
    {
     "name": "stdout",
     "output_type": "stream",
     "text": [
      "\n",
      "      Epoch    GPU_mem   box_loss   cls_loss   dfl_loss  Instances       Size\n"
     ]
    },
    {
     "name": "stderr",
     "output_type": "stream",
     "text": [
      "      10/60      25.6G     0.9971      1.243      1.422        141        640: 100%|██████████| 42/42 [00:40<00:00,  1.03it/s]\n",
      "                 Class     Images  Instances      Box(P          R      mAP50  mAP50-95): 100%|██████████| 3/3 [00:05<00:00,  1.78s/"
     ]
    },
    {
     "name": "stdout",
     "output_type": "stream",
     "text": [
      "                   all        334        434      0.637      0.452      0.449      0.296\n"
     ]
    },
    {
     "name": "stderr",
     "output_type": "stream",
     "text": [
      "\n"
     ]
    },
    {
     "name": "stdout",
     "output_type": "stream",
     "text": [
      "\n",
      "      Epoch    GPU_mem   box_loss   cls_loss   dfl_loss  Instances       Size\n"
     ]
    },
    {
     "name": "stderr",
     "output_type": "stream",
     "text": [
      "      11/60      25.6G     0.9816      1.223      1.412        125        640: 100%|██████████| 42/42 [00:45<00:00,  1.08s/it]\n",
      "                 Class     Images  Instances      Box(P          R      mAP50  mAP50-95): 100%|██████████| 3/3 [00:03<00:00,  1.28s/"
     ]
    },
    {
     "name": "stdout",
     "output_type": "stream",
     "text": [
      "                   all        334        434      0.806       0.46      0.578      0.399\n"
     ]
    },
    {
     "name": "stderr",
     "output_type": "stream",
     "text": [
      "\n"
     ]
    },
    {
     "name": "stdout",
     "output_type": "stream",
     "text": [
      "\n",
      "      Epoch    GPU_mem   box_loss   cls_loss   dfl_loss  Instances       Size\n"
     ]
    },
    {
     "name": "stderr",
     "output_type": "stream",
     "text": [
      "      12/60      25.2G     0.9506      1.187      1.383        128        640: 100%|██████████| 42/42 [00:43<00:00,  1.03s/it]\n",
      "                 Class     Images  Instances      Box(P          R      mAP50  mAP50-95): 100%|██████████| 3/3 [00:04<00:00,  1.55s/"
     ]
    },
    {
     "name": "stdout",
     "output_type": "stream",
     "text": [
      "                   all        334        434      0.746      0.501       0.56      0.405\n"
     ]
    },
    {
     "name": "stderr",
     "output_type": "stream",
     "text": [
      "\n"
     ]
    },
    {
     "name": "stdout",
     "output_type": "stream",
     "text": [
      "\n",
      "      Epoch    GPU_mem   box_loss   cls_loss   dfl_loss  Instances       Size\n"
     ]
    },
    {
     "name": "stderr",
     "output_type": "stream",
     "text": [
      "      13/60      25.2G     0.9533      1.153      1.379        132        640: 100%|██████████| 42/42 [00:43<00:00,  1.04s/it]\n",
      "                 Class     Images  Instances      Box(P          R      mAP50  mAP50-95): 100%|██████████| 3/3 [00:03<00:00,  1.10s/"
     ]
    },
    {
     "name": "stdout",
     "output_type": "stream",
     "text": [
      "                   all        334        434      0.537      0.537      0.505      0.359\n"
     ]
    },
    {
     "name": "stderr",
     "output_type": "stream",
     "text": [
      "\n"
     ]
    },
    {
     "name": "stdout",
     "output_type": "stream",
     "text": [
      "\n",
      "      Epoch    GPU_mem   box_loss   cls_loss   dfl_loss  Instances       Size\n"
     ]
    },
    {
     "name": "stderr",
     "output_type": "stream",
     "text": [
      "      14/60      25.6G     0.9292      1.128      1.366        122        640: 100%|██████████| 42/42 [00:44<00:00,  1.06s/it]\n",
      "                 Class     Images  Instances      Box(P          R      mAP50  mAP50-95): 100%|██████████| 3/3 [00:03<00:00,  1.30s/"
     ]
    },
    {
     "name": "stdout",
     "output_type": "stream",
     "text": [
      "                   all        334        434      0.776      0.533      0.642      0.483\n"
     ]
    },
    {
     "name": "stderr",
     "output_type": "stream",
     "text": [
      "\n"
     ]
    },
    {
     "name": "stdout",
     "output_type": "stream",
     "text": [
      "\n",
      "      Epoch    GPU_mem   box_loss   cls_loss   dfl_loss  Instances       Size\n"
     ]
    },
    {
     "name": "stderr",
     "output_type": "stream",
     "text": [
      "      15/60      25.7G     0.8968      1.107      1.349        133        640: 100%|██████████| 42/42 [00:42<00:00,  1.02s/it]\n",
      "                 Class     Images  Instances      Box(P          R      mAP50  mAP50-95): 100%|██████████| 3/3 [00:04<00:00,  1.54s/"
     ]
    },
    {
     "name": "stdout",
     "output_type": "stream",
     "text": [
      "                   all        334        434      0.413      0.634       0.57      0.386\n"
     ]
    },
    {
     "name": "stderr",
     "output_type": "stream",
     "text": [
      "\n"
     ]
    },
    {
     "name": "stdout",
     "output_type": "stream",
     "text": [
      "\n",
      "      Epoch    GPU_mem   box_loss   cls_loss   dfl_loss  Instances       Size\n"
     ]
    },
    {
     "name": "stderr",
     "output_type": "stream",
     "text": [
      "      16/60      25.2G     0.9178      1.103      1.354        162        640: 100%|██████████| 42/42 [00:44<00:00,  1.05s/it]\n",
      "                 Class     Images  Instances      Box(P          R      mAP50  mAP50-95): 100%|██████████| 3/3 [00:05<00:00,  1.75s/"
     ]
    },
    {
     "name": "stdout",
     "output_type": "stream",
     "text": [
      "                   all        334        434      0.784      0.556      0.636       0.49\n"
     ]
    },
    {
     "name": "stderr",
     "output_type": "stream",
     "text": [
      "\n"
     ]
    },
    {
     "name": "stdout",
     "output_type": "stream",
     "text": [
      "\n",
      "      Epoch    GPU_mem   box_loss   cls_loss   dfl_loss  Instances       Size\n"
     ]
    },
    {
     "name": "stderr",
     "output_type": "stream",
     "text": [
      "      17/60      25.7G     0.8718      1.067      1.332        138        640: 100%|██████████| 42/42 [00:44<00:00,  1.07s/it]\n",
      "                 Class     Images  Instances      Box(P          R      mAP50  mAP50-95): 100%|██████████| 3/3 [00:05<00:00,  1.68s/"
     ]
    },
    {
     "name": "stdout",
     "output_type": "stream",
     "text": [
      "                   all        334        434      0.784      0.531      0.625      0.491\n"
     ]
    },
    {
     "name": "stderr",
     "output_type": "stream",
     "text": [
      "\n"
     ]
    },
    {
     "name": "stdout",
     "output_type": "stream",
     "text": [
      "\n",
      "      Epoch    GPU_mem   box_loss   cls_loss   dfl_loss  Instances       Size\n"
     ]
    },
    {
     "name": "stderr",
     "output_type": "stream",
     "text": [
      "      18/60      25.2G     0.8551      1.025      1.314        141        640: 100%|██████████| 42/42 [00:44<00:00,  1.05s/it]\n",
      "                 Class     Images  Instances      Box(P          R      mAP50  mAP50-95): 100%|██████████| 3/3 [00:05<00:00,  1.89s/"
     ]
    },
    {
     "name": "stdout",
     "output_type": "stream",
     "text": [
      "                   all        334        434      0.605       0.66      0.655      0.496\n"
     ]
    },
    {
     "name": "stderr",
     "output_type": "stream",
     "text": [
      "\n"
     ]
    },
    {
     "name": "stdout",
     "output_type": "stream",
     "text": [
      "\n",
      "      Epoch    GPU_mem   box_loss   cls_loss   dfl_loss  Instances       Size\n"
     ]
    },
    {
     "name": "stderr",
     "output_type": "stream",
     "text": [
      "      19/60      25.6G     0.8503      1.016      1.315        129        640: 100%|██████████| 42/42 [00:43<00:00,  1.04s/it]\n",
      "                 Class     Images  Instances      Box(P          R      mAP50  mAP50-95): 100%|██████████| 3/3 [00:05<00:00,  1.88s/"
     ]
    },
    {
     "name": "stdout",
     "output_type": "stream",
     "text": [
      "                   all        334        434      0.805      0.769      0.852      0.664\n"
     ]
    },
    {
     "name": "stderr",
     "output_type": "stream",
     "text": [
      "\n"
     ]
    },
    {
     "name": "stdout",
     "output_type": "stream",
     "text": [
      "\n",
      "      Epoch    GPU_mem   box_loss   cls_loss   dfl_loss  Instances       Size\n"
     ]
    },
    {
     "name": "stderr",
     "output_type": "stream",
     "text": [
      "      20/60      25.2G     0.8366     0.9856      1.307        141        640: 100%|██████████| 42/42 [00:43<00:00,  1.04s/it]\n",
      "                 Class     Images  Instances      Box(P          R      mAP50  mAP50-95): 100%|██████████| 3/3 [00:05<00:00,  1.68s/"
     ]
    },
    {
     "name": "stdout",
     "output_type": "stream",
     "text": [
      "                   all        334        434      0.633      0.769      0.762      0.567\n"
     ]
    },
    {
     "name": "stderr",
     "output_type": "stream",
     "text": [
      "\n"
     ]
    },
    {
     "name": "stdout",
     "output_type": "stream",
     "text": [
      "\n",
      "      Epoch    GPU_mem   box_loss   cls_loss   dfl_loss  Instances       Size\n"
     ]
    },
    {
     "name": "stderr",
     "output_type": "stream",
     "text": [
      "      21/60      25.7G     0.8285      0.974      1.296        133        640: 100%|██████████| 42/42 [00:43<00:00,  1.03s/it]\n",
      "                 Class     Images  Instances      Box(P          R      mAP50  mAP50-95): 100%|██████████| 3/3 [00:06<00:00,  2.10s/"
     ]
    },
    {
     "name": "stdout",
     "output_type": "stream",
     "text": [
      "                   all        334        434      0.763      0.725      0.823      0.636\n"
     ]
    },
    {
     "name": "stderr",
     "output_type": "stream",
     "text": [
      "\n"
     ]
    },
    {
     "name": "stdout",
     "output_type": "stream",
     "text": [
      "\n",
      "      Epoch    GPU_mem   box_loss   cls_loss   dfl_loss  Instances       Size\n"
     ]
    },
    {
     "name": "stderr",
     "output_type": "stream",
     "text": [
      "      22/60      25.2G     0.8061     0.9415      1.283        137        640: 100%|██████████| 42/42 [00:43<00:00,  1.04s/it]\n",
      "                 Class     Images  Instances      Box(P          R      mAP50  mAP50-95): 100%|██████████| 3/3 [00:04<00:00,  1.36s/"
     ]
    },
    {
     "name": "stdout",
     "output_type": "stream",
     "text": [
      "                   all        334        434      0.538      0.711      0.695      0.529\n"
     ]
    },
    {
     "name": "stderr",
     "output_type": "stream",
     "text": [
      "\n"
     ]
    },
    {
     "name": "stdout",
     "output_type": "stream",
     "text": [
      "\n",
      "      Epoch    GPU_mem   box_loss   cls_loss   dfl_loss  Instances       Size\n"
     ]
    },
    {
     "name": "stderr",
     "output_type": "stream",
     "text": [
      "      23/60      25.6G     0.8116     0.9269      1.282        141        640: 100%|██████████| 42/42 [00:41<00:00,  1.02it/s]\n",
      "                 Class     Images  Instances      Box(P          R      mAP50  mAP50-95): 100%|██████████| 3/3 [00:04<00:00,  1.35s/"
     ]
    },
    {
     "name": "stdout",
     "output_type": "stream",
     "text": [
      "                   all        334        434      0.659      0.633      0.688      0.528\n"
     ]
    },
    {
     "name": "stderr",
     "output_type": "stream",
     "text": [
      "\n"
     ]
    },
    {
     "name": "stdout",
     "output_type": "stream",
     "text": [
      "\n",
      "      Epoch    GPU_mem   box_loss   cls_loss   dfl_loss  Instances       Size\n"
     ]
    },
    {
     "name": "stderr",
     "output_type": "stream",
     "text": [
      "      24/60      25.2G      0.791      0.906      1.268        149        640: 100%|██████████| 42/42 [00:39<00:00,  1.05it/s]\n",
      "                 Class     Images  Instances      Box(P          R      mAP50  mAP50-95): 100%|██████████| 3/3 [00:03<00:00,  1.07s/"
     ]
    },
    {
     "name": "stdout",
     "output_type": "stream",
     "text": [
      "                   all        334        434      0.806      0.669      0.803      0.629\n"
     ]
    },
    {
     "name": "stderr",
     "output_type": "stream",
     "text": [
      "\n"
     ]
    },
    {
     "name": "stdout",
     "output_type": "stream",
     "text": [
      "\n",
      "      Epoch    GPU_mem   box_loss   cls_loss   dfl_loss  Instances       Size\n"
     ]
    },
    {
     "name": "stderr",
     "output_type": "stream",
     "text": [
      "      25/60      25.2G      0.806      0.899       1.28        153        640: 100%|██████████| 42/42 [00:39<00:00,  1.07it/s]\n",
      "                 Class     Images  Instances      Box(P          R      mAP50  mAP50-95): 100%|██████████| 3/3 [00:03<00:00,  1.01s/"
     ]
    },
    {
     "name": "stdout",
     "output_type": "stream",
     "text": [
      "                   all        334        434      0.744      0.765      0.836       0.67\n"
     ]
    },
    {
     "name": "stderr",
     "output_type": "stream",
     "text": [
      "\n"
     ]
    },
    {
     "name": "stdout",
     "output_type": "stream",
     "text": [
      "\n",
      "      Epoch    GPU_mem   box_loss   cls_loss   dfl_loss  Instances       Size\n"
     ]
    },
    {
     "name": "stderr",
     "output_type": "stream",
     "text": [
      "      26/60      25.2G     0.7858     0.8618      1.256        174        640: 100%|██████████| 42/42 [00:40<00:00,  1.04it/s]\n",
      "                 Class     Images  Instances      Box(P          R      mAP50  mAP50-95): 100%|██████████| 3/3 [00:03<00:00,  1.28s/"
     ]
    },
    {
     "name": "stdout",
     "output_type": "stream",
     "text": [
      "                   all        334        434      0.665       0.78      0.735      0.581\n"
     ]
    },
    {
     "name": "stderr",
     "output_type": "stream",
     "text": [
      "\n"
     ]
    },
    {
     "name": "stdout",
     "output_type": "stream",
     "text": [
      "\n",
      "      Epoch    GPU_mem   box_loss   cls_loss   dfl_loss  Instances       Size\n"
     ]
    },
    {
     "name": "stderr",
     "output_type": "stream",
     "text": [
      "      27/60      25.2G      0.784     0.8517      1.265        131        640: 100%|██████████| 42/42 [00:39<00:00,  1.06it/s]\n",
      "                 Class     Images  Instances      Box(P          R      mAP50  mAP50-95): 100%|██████████| 3/3 [00:03<00:00,  1.16s/"
     ]
    },
    {
     "name": "stdout",
     "output_type": "stream",
     "text": [
      "                   all        334        434       0.74      0.652        0.8      0.665\n"
     ]
    },
    {
     "name": "stderr",
     "output_type": "stream",
     "text": [
      "\n"
     ]
    },
    {
     "name": "stdout",
     "output_type": "stream",
     "text": [
      "\n",
      "      Epoch    GPU_mem   box_loss   cls_loss   dfl_loss  Instances       Size\n"
     ]
    },
    {
     "name": "stderr",
     "output_type": "stream",
     "text": [
      "      28/60      25.2G      0.759     0.8362      1.241        142        640: 100%|██████████| 42/42 [00:40<00:00,  1.03it/s]\n",
      "                 Class     Images  Instances      Box(P          R      mAP50  mAP50-95): 100%|██████████| 3/3 [00:04<00:00,  1.48s/"
     ]
    },
    {
     "name": "stdout",
     "output_type": "stream",
     "text": [
      "                   all        334        434      0.778      0.695      0.816      0.607\n"
     ]
    },
    {
     "name": "stderr",
     "output_type": "stream",
     "text": [
      "\n"
     ]
    },
    {
     "name": "stdout",
     "output_type": "stream",
     "text": [
      "\n",
      "      Epoch    GPU_mem   box_loss   cls_loss   dfl_loss  Instances       Size\n"
     ]
    },
    {
     "name": "stderr",
     "output_type": "stream",
     "text": [
      "      29/60      25.6G     0.7362     0.8147      1.223        141        640: 100%|██████████| 42/42 [00:42<00:00,  1.02s/it]\n",
      "                 Class     Images  Instances      Box(P          R      mAP50  mAP50-95): 100%|██████████| 3/3 [00:04<00:00,  1.51s/"
     ]
    },
    {
     "name": "stdout",
     "output_type": "stream",
     "text": [
      "                   all        334        434      0.676      0.673      0.762       0.61\n"
     ]
    },
    {
     "name": "stderr",
     "output_type": "stream",
     "text": [
      "\n"
     ]
    },
    {
     "name": "stdout",
     "output_type": "stream",
     "text": [
      "\n",
      "      Epoch    GPU_mem   box_loss   cls_loss   dfl_loss  Instances       Size\n"
     ]
    },
    {
     "name": "stderr",
     "output_type": "stream",
     "text": [
      "      30/60      25.7G     0.7532     0.8223      1.245        142        640: 100%|██████████| 42/42 [00:44<00:00,  1.05s/it]\n",
      "                 Class     Images  Instances      Box(P          R      mAP50  mAP50-95): 100%|██████████| 3/3 [00:05<00:00,  1.76s/"
     ]
    },
    {
     "name": "stdout",
     "output_type": "stream",
     "text": [
      "                   all        334        434      0.751      0.729      0.817      0.624\n"
     ]
    },
    {
     "name": "stderr",
     "output_type": "stream",
     "text": [
      "\n"
     ]
    },
    {
     "name": "stdout",
     "output_type": "stream",
     "text": [
      "\n",
      "      Epoch    GPU_mem   box_loss   cls_loss   dfl_loss  Instances       Size\n"
     ]
    },
    {
     "name": "stderr",
     "output_type": "stream",
     "text": [
      "      31/60      25.2G     0.7304     0.7855      1.218        133        640: 100%|██████████| 42/42 [00:43<00:00,  1.05s/it]\n",
      "                 Class     Images  Instances      Box(P          R      mAP50  mAP50-95): 100%|██████████| 3/3 [00:03<00:00,  1.13s/"
     ]
    },
    {
     "name": "stdout",
     "output_type": "stream",
     "text": [
      "                   all        334        434      0.814      0.772      0.852       0.67\n"
     ]
    },
    {
     "name": "stderr",
     "output_type": "stream",
     "text": [
      "\n"
     ]
    },
    {
     "name": "stdout",
     "output_type": "stream",
     "text": [
      "\n",
      "      Epoch    GPU_mem   box_loss   cls_loss   dfl_loss  Instances       Size\n"
     ]
    },
    {
     "name": "stderr",
     "output_type": "stream",
     "text": [
      "      32/60      25.2G     0.7287     0.7901      1.227        132        640: 100%|██████████| 42/42 [00:43<00:00,  1.04s/it]\n",
      "                 Class     Images  Instances      Box(P          R      mAP50  mAP50-95): 100%|██████████| 3/3 [00:03<00:00,  1.32s/"
     ]
    },
    {
     "name": "stdout",
     "output_type": "stream",
     "text": [
      "                   all        334        434      0.869      0.683      0.836      0.679\n"
     ]
    },
    {
     "name": "stderr",
     "output_type": "stream",
     "text": [
      "\n"
     ]
    },
    {
     "name": "stdout",
     "output_type": "stream",
     "text": [
      "\n",
      "      Epoch    GPU_mem   box_loss   cls_loss   dfl_loss  Instances       Size\n"
     ]
    },
    {
     "name": "stderr",
     "output_type": "stream",
     "text": [
      "      33/60      25.6G     0.7136      0.767       1.21        117        640: 100%|██████████| 42/42 [00:44<00:00,  1.06s/it]\n",
      "                 Class     Images  Instances      Box(P          R      mAP50  mAP50-95): 100%|██████████| 3/3 [00:04<00:00,  1.38s/"
     ]
    },
    {
     "name": "stdout",
     "output_type": "stream",
     "text": [
      "                   all        334        434      0.758      0.709      0.845      0.686\n"
     ]
    },
    {
     "name": "stderr",
     "output_type": "stream",
     "text": [
      "\n"
     ]
    },
    {
     "name": "stdout",
     "output_type": "stream",
     "text": [
      "\n",
      "      Epoch    GPU_mem   box_loss   cls_loss   dfl_loss  Instances       Size\n"
     ]
    },
    {
     "name": "stderr",
     "output_type": "stream",
     "text": [
      "      34/60      25.6G     0.7014      0.735      1.206        143        640: 100%|██████████| 42/42 [00:43<00:00,  1.04s/it]\n",
      "                 Class     Images  Instances      Box(P          R      mAP50  mAP50-95): 100%|██████████| 3/3 [00:03<00:00,  1.13s/"
     ]
    },
    {
     "name": "stdout",
     "output_type": "stream",
     "text": [
      "                   all        334        434      0.845      0.682      0.865      0.702\n"
     ]
    },
    {
     "name": "stderr",
     "output_type": "stream",
     "text": [
      "\n"
     ]
    },
    {
     "name": "stdout",
     "output_type": "stream",
     "text": [
      "\n",
      "      Epoch    GPU_mem   box_loss   cls_loss   dfl_loss  Instances       Size\n"
     ]
    },
    {
     "name": "stderr",
     "output_type": "stream",
     "text": [
      "      35/60      25.6G     0.6952     0.7511        1.2        132        640: 100%|██████████| 42/42 [00:43<00:00,  1.03s/it]\n",
      "                 Class     Images  Instances      Box(P          R      mAP50  mAP50-95): 100%|██████████| 3/3 [00:05<00:00,  1.67s/"
     ]
    },
    {
     "name": "stdout",
     "output_type": "stream",
     "text": [
      "                   all        334        434       0.72      0.709      0.831       0.68\n"
     ]
    },
    {
     "name": "stderr",
     "output_type": "stream",
     "text": [
      "\n"
     ]
    },
    {
     "name": "stdout",
     "output_type": "stream",
     "text": [
      "\n",
      "      Epoch    GPU_mem   box_loss   cls_loss   dfl_loss  Instances       Size\n"
     ]
    },
    {
     "name": "stderr",
     "output_type": "stream",
     "text": [
      "      36/60      25.3G     0.6798      0.725      1.184        144        640: 100%|██████████| 42/42 [00:43<00:00,  1.03s/it]\n",
      "                 Class     Images  Instances      Box(P          R      mAP50  mAP50-95): 100%|██████████| 3/3 [00:04<00:00,  1.37s/"
     ]
    },
    {
     "name": "stdout",
     "output_type": "stream",
     "text": [
      "                   all        334        434      0.693      0.782      0.776       0.65\n"
     ]
    },
    {
     "name": "stderr",
     "output_type": "stream",
     "text": [
      "\n"
     ]
    },
    {
     "name": "stdout",
     "output_type": "stream",
     "text": [
      "\n",
      "      Epoch    GPU_mem   box_loss   cls_loss   dfl_loss  Instances       Size\n"
     ]
    },
    {
     "name": "stderr",
     "output_type": "stream",
     "text": [
      "      37/60      25.6G     0.6808     0.7119      1.189        121        640: 100%|██████████| 42/42 [00:44<00:00,  1.05s/it]\n",
      "                 Class     Images  Instances      Box(P          R      mAP50  mAP50-95): 100%|██████████| 3/3 [00:04<00:00,  1.45s/"
     ]
    },
    {
     "name": "stdout",
     "output_type": "stream",
     "text": [
      "                   all        334        434      0.735      0.763       0.84      0.673\n"
     ]
    },
    {
     "name": "stderr",
     "output_type": "stream",
     "text": [
      "\n"
     ]
    },
    {
     "name": "stdout",
     "output_type": "stream",
     "text": [
      "\n",
      "      Epoch    GPU_mem   box_loss   cls_loss   dfl_loss  Instances       Size\n"
     ]
    },
    {
     "name": "stderr",
     "output_type": "stream",
     "text": [
      "      38/60      25.7G     0.6657     0.6792      1.177        150        640: 100%|██████████| 42/42 [00:43<00:00,  1.03s/it]\n",
      "                 Class     Images  Instances      Box(P          R      mAP50  mAP50-95): 100%|██████████| 3/3 [00:04<00:00,  1.39s/"
     ]
    },
    {
     "name": "stdout",
     "output_type": "stream",
     "text": [
      "                   all        334        434      0.779      0.744      0.833      0.686\n"
     ]
    },
    {
     "name": "stderr",
     "output_type": "stream",
     "text": [
      "\n"
     ]
    },
    {
     "name": "stdout",
     "output_type": "stream",
     "text": [
      "\n",
      "      Epoch    GPU_mem   box_loss   cls_loss   dfl_loss  Instances       Size\n"
     ]
    },
    {
     "name": "stderr",
     "output_type": "stream",
     "text": [
      "      39/60      25.6G     0.6713     0.6677       1.18        128        640: 100%|██████████| 42/42 [00:43<00:00,  1.03s/it]\n",
      "                 Class     Images  Instances      Box(P          R      mAP50  mAP50-95): 100%|██████████| 3/3 [00:03<00:00,  1.23s/"
     ]
    },
    {
     "name": "stdout",
     "output_type": "stream",
     "text": [
      "                   all        334        434      0.749      0.755      0.795      0.641\n"
     ]
    },
    {
     "name": "stderr",
     "output_type": "stream",
     "text": [
      "\n"
     ]
    },
    {
     "name": "stdout",
     "output_type": "stream",
     "text": [
      "\n",
      "      Epoch    GPU_mem   box_loss   cls_loss   dfl_loss  Instances       Size\n"
     ]
    },
    {
     "name": "stderr",
     "output_type": "stream",
     "text": [
      "      40/60      25.6G     0.6573     0.6674      1.169        158        640: 100%|██████████| 42/42 [00:43<00:00,  1.04s/it]\n",
      "                 Class     Images  Instances      Box(P          R      mAP50  mAP50-95): 100%|██████████| 3/3 [00:04<00:00,  1.41s/"
     ]
    },
    {
     "name": "stdout",
     "output_type": "stream",
     "text": [
      "                   all        334        434      0.837      0.773      0.833      0.679\n"
     ]
    },
    {
     "name": "stderr",
     "output_type": "stream",
     "text": [
      "\n"
     ]
    },
    {
     "name": "stdout",
     "output_type": "stream",
     "text": [
      "\n",
      "      Epoch    GPU_mem   box_loss   cls_loss   dfl_loss  Instances       Size\n"
     ]
    },
    {
     "name": "stderr",
     "output_type": "stream",
     "text": [
      "      41/60      25.6G      0.665     0.6638      1.174        137        640: 100%|██████████| 42/42 [00:43<00:00,  1.05s/it]\n",
      "                 Class     Images  Instances      Box(P          R      mAP50  mAP50-95): 100%|██████████| 3/3 [00:04<00:00,  1.54s/"
     ]
    },
    {
     "name": "stdout",
     "output_type": "stream",
     "text": [
      "                   all        334        434      0.766      0.726      0.818      0.664\n"
     ]
    },
    {
     "name": "stderr",
     "output_type": "stream",
     "text": [
      "\n"
     ]
    },
    {
     "name": "stdout",
     "output_type": "stream",
     "text": [
      "\n",
      "      Epoch    GPU_mem   box_loss   cls_loss   dfl_loss  Instances       Size\n"
     ]
    },
    {
     "name": "stderr",
     "output_type": "stream",
     "text": [
      "      42/60      25.7G     0.6429     0.6285      1.157        140        640: 100%|██████████| 42/42 [00:40<00:00,  1.04it/s]\n",
      "                 Class     Images  Instances      Box(P          R      mAP50  mAP50-95): 100%|██████████| 3/3 [00:03<00:00,  1.21s/"
     ]
    },
    {
     "name": "stdout",
     "output_type": "stream",
     "text": [
      "                   all        334        434      0.784      0.714      0.838        0.7\n"
     ]
    },
    {
     "name": "stderr",
     "output_type": "stream",
     "text": [
      "\n"
     ]
    },
    {
     "name": "stdout",
     "output_type": "stream",
     "text": [
      "\n",
      "      Epoch    GPU_mem   box_loss   cls_loss   dfl_loss  Instances       Size\n"
     ]
    },
    {
     "name": "stderr",
     "output_type": "stream",
     "text": [
      "      43/60      25.6G     0.6413     0.6126      1.159        146        640: 100%|██████████| 42/42 [00:40<00:00,  1.04it/s]\n",
      "                 Class     Images  Instances      Box(P          R      mAP50  mAP50-95): 100%|██████████| 3/3 [00:02<00:00,  1.01it"
     ]
    },
    {
     "name": "stdout",
     "output_type": "stream",
     "text": [
      "                   all        334        434        0.8      0.677      0.779      0.659\n"
     ]
    },
    {
     "name": "stderr",
     "output_type": "stream",
     "text": [
      "\n"
     ]
    },
    {
     "name": "stdout",
     "output_type": "stream",
     "text": [
      "\n",
      "      Epoch    GPU_mem   box_loss   cls_loss   dfl_loss  Instances       Size\n"
     ]
    },
    {
     "name": "stderr",
     "output_type": "stream",
     "text": [
      "      44/60      25.6G     0.6341     0.6173       1.15        155        640: 100%|██████████| 42/42 [00:40<00:00,  1.03it/s]\n",
      "                 Class     Images  Instances      Box(P          R      mAP50  mAP50-95): 100%|██████████| 3/3 [00:03<00:00,  1.08s/"
     ]
    },
    {
     "name": "stdout",
     "output_type": "stream",
     "text": [
      "                   all        334        434      0.704      0.783      0.854      0.718\n"
     ]
    },
    {
     "name": "stderr",
     "output_type": "stream",
     "text": [
      "\n"
     ]
    },
    {
     "name": "stdout",
     "output_type": "stream",
     "text": [
      "\n",
      "      Epoch    GPU_mem   box_loss   cls_loss   dfl_loss  Instances       Size\n"
     ]
    },
    {
     "name": "stderr",
     "output_type": "stream",
     "text": [
      "      45/60        26G     0.6252     0.6038      1.152        126        640: 100%|██████████| 42/42 [00:40<00:00,  1.03it/s]\n",
      "                 Class     Images  Instances      Box(P          R      mAP50  mAP50-95): 100%|██████████| 3/3 [00:03<00:00,  1.28s/"
     ]
    },
    {
     "name": "stdout",
     "output_type": "stream",
     "text": [
      "                   all        334        434      0.738      0.802       0.84      0.712\n"
     ]
    },
    {
     "name": "stderr",
     "output_type": "stream",
     "text": [
      "\n"
     ]
    },
    {
     "name": "stdout",
     "output_type": "stream",
     "text": [
      "\n",
      "      Epoch    GPU_mem   box_loss   cls_loss   dfl_loss  Instances       Size\n"
     ]
    },
    {
     "name": "stderr",
     "output_type": "stream",
     "text": [
      "      46/60      25.6G     0.6128     0.6004      1.136        133        640: 100%|██████████| 42/42 [00:41<00:00,  1.01it/s]\n",
      "                 Class     Images  Instances      Box(P          R      mAP50  mAP50-95): 100%|██████████| 3/3 [00:06<00:00,  2.20s/"
     ]
    },
    {
     "name": "stdout",
     "output_type": "stream",
     "text": [
      "                   all        334        434       0.89      0.728       0.83      0.686\n"
     ]
    },
    {
     "name": "stderr",
     "output_type": "stream",
     "text": [
      "\n"
     ]
    },
    {
     "name": "stdout",
     "output_type": "stream",
     "text": [
      "\n",
      "      Epoch    GPU_mem   box_loss   cls_loss   dfl_loss  Instances       Size\n"
     ]
    },
    {
     "name": "stderr",
     "output_type": "stream",
     "text": [
      "      47/60      25.6G     0.6068     0.5903      1.134        144        640: 100%|██████████| 42/42 [00:43<00:00,  1.05s/it]\n",
      "                 Class     Images  Instances      Box(P          R      mAP50  mAP50-95): 100%|██████████| 3/3 [00:04<00:00,  1.53s/"
     ]
    },
    {
     "name": "stdout",
     "output_type": "stream",
     "text": [
      "                   all        334        434      0.847      0.743      0.868      0.734\n"
     ]
    },
    {
     "name": "stderr",
     "output_type": "stream",
     "text": [
      "\n"
     ]
    },
    {
     "name": "stdout",
     "output_type": "stream",
     "text": [
      "\n",
      "      Epoch    GPU_mem   box_loss   cls_loss   dfl_loss  Instances       Size\n"
     ]
    },
    {
     "name": "stderr",
     "output_type": "stream",
     "text": [
      "      48/60      25.6G     0.6022     0.5717      1.134        139        640: 100%|██████████| 42/42 [00:43<00:00,  1.03s/it]\n",
      "                 Class     Images  Instances      Box(P          R      mAP50  mAP50-95): 100%|██████████| 3/3 [00:05<00:00,  1.97s/"
     ]
    },
    {
     "name": "stdout",
     "output_type": "stream",
     "text": [
      "                   all        334        434      0.589      0.811      0.751      0.633\n"
     ]
    },
    {
     "name": "stderr",
     "output_type": "stream",
     "text": [
      "\n"
     ]
    },
    {
     "name": "stdout",
     "output_type": "stream",
     "text": [
      "\n",
      "      Epoch    GPU_mem   box_loss   cls_loss   dfl_loss  Instances       Size\n"
     ]
    },
    {
     "name": "stderr",
     "output_type": "stream",
     "text": [
      "      49/60      25.7G      0.601     0.5723      1.134        131        640: 100%|██████████| 42/42 [00:43<00:00,  1.04s/it]\n",
      "                 Class     Images  Instances      Box(P          R      mAP50  mAP50-95): 100%|██████████| 3/3 [00:05<00:00,  1.95s/"
     ]
    },
    {
     "name": "stdout",
     "output_type": "stream",
     "text": [
      "                   all        334        434      0.831      0.743      0.859      0.718\n"
     ]
    },
    {
     "name": "stderr",
     "output_type": "stream",
     "text": [
      "\n"
     ]
    },
    {
     "name": "stdout",
     "output_type": "stream",
     "text": [
      "\n",
      "      Epoch    GPU_mem   box_loss   cls_loss   dfl_loss  Instances       Size\n"
     ]
    },
    {
     "name": "stderr",
     "output_type": "stream",
     "text": [
      "      50/60      25.7G     0.5886     0.5592      1.127        126        640: 100%|██████████| 42/42 [00:44<00:00,  1.06s/it]\n",
      "                 Class     Images  Instances      Box(P          R      mAP50  mAP50-95): 100%|██████████| 3/3 [00:04<00:00,  1.53s/"
     ]
    },
    {
     "name": "stdout",
     "output_type": "stream",
     "text": [
      "                   all        334        434       0.74      0.832      0.869      0.729\n"
     ]
    },
    {
     "name": "stderr",
     "output_type": "stream",
     "text": [
      "\n"
     ]
    },
    {
     "name": "stdout",
     "output_type": "stream",
     "text": [
      "Closing dataloader mosaic\n",
      "\n",
      "      Epoch    GPU_mem   box_loss   cls_loss   dfl_loss  Instances       Size\n"
     ]
    },
    {
     "name": "stderr",
     "output_type": "stream",
     "text": [
      "      51/60      25.6G      0.479     0.4032      1.063         55        640: 100%|██████████| 42/42 [00:44<00:00,  1.05s/it]\n",
      "                 Class     Images  Instances      Box(P          R      mAP50  mAP50-95): 100%|██████████| 3/3 [00:03<00:00,  1.27s/"
     ]
    },
    {
     "name": "stdout",
     "output_type": "stream",
     "text": [
      "                   all        334        434      0.883      0.677      0.801      0.682\n"
     ]
    },
    {
     "name": "stderr",
     "output_type": "stream",
     "text": [
      "\n"
     ]
    },
    {
     "name": "stdout",
     "output_type": "stream",
     "text": [
      "\n",
      "      Epoch    GPU_mem   box_loss   cls_loss   dfl_loss  Instances       Size\n"
     ]
    },
    {
     "name": "stderr",
     "output_type": "stream",
     "text": [
      "      52/60      25.6G     0.4653      0.369      1.054         57        640: 100%|██████████| 42/42 [00:42<00:00,  1.00s/it]\n",
      "                 Class     Images  Instances      Box(P          R      mAP50  mAP50-95): 100%|██████████| 3/3 [00:04<00:00,  1.47s/"
     ]
    },
    {
     "name": "stdout",
     "output_type": "stream",
     "text": [
      "                   all        334        434      0.787      0.775       0.86      0.722\n"
     ]
    },
    {
     "name": "stderr",
     "output_type": "stream",
     "text": [
      "\n"
     ]
    },
    {
     "name": "stdout",
     "output_type": "stream",
     "text": [
      "\n",
      "      Epoch    GPU_mem   box_loss   cls_loss   dfl_loss  Instances       Size\n"
     ]
    },
    {
     "name": "stderr",
     "output_type": "stream",
     "text": [
      "      53/60      25.6G      0.451     0.3628       1.04         62        640: 100%|██████████| 42/42 [00:42<00:00,  1.02s/it]\n",
      "                 Class     Images  Instances      Box(P          R      mAP50  mAP50-95): 100%|██████████| 3/3 [00:03<00:00,  1.27s/"
     ]
    },
    {
     "name": "stdout",
     "output_type": "stream",
     "text": [
      "                   all        334        434      0.767      0.754      0.799       0.68\n"
     ]
    },
    {
     "name": "stderr",
     "output_type": "stream",
     "text": [
      "\n"
     ]
    },
    {
     "name": "stdout",
     "output_type": "stream",
     "text": [
      "\n",
      "      Epoch    GPU_mem   box_loss   cls_loss   dfl_loss  Instances       Size\n"
     ]
    },
    {
     "name": "stderr",
     "output_type": "stream",
     "text": [
      "      54/60      25.6G     0.4284     0.3439      1.018         59        640: 100%|██████████| 42/42 [00:42<00:00,  1.00s/it]\n",
      "                 Class     Images  Instances      Box(P          R      mAP50  mAP50-95): 100%|██████████| 3/3 [00:04<00:00,  1.48s/"
     ]
    },
    {
     "name": "stdout",
     "output_type": "stream",
     "text": [
      "                   all        334        434      0.789      0.771        0.8       0.69\n"
     ]
    },
    {
     "name": "stderr",
     "output_type": "stream",
     "text": [
      "\n"
     ]
    },
    {
     "name": "stdout",
     "output_type": "stream",
     "text": [
      "\n",
      "      Epoch    GPU_mem   box_loss   cls_loss   dfl_loss  Instances       Size\n"
     ]
    },
    {
     "name": "stderr",
     "output_type": "stream",
     "text": [
      "      55/60      25.6G     0.4225     0.3262      1.011         52        640: 100%|██████████| 42/42 [00:42<00:00,  1.00s/it]\n",
      "                 Class     Images  Instances      Box(P          R      mAP50  mAP50-95): 100%|██████████| 3/3 [00:04<00:00,  1.42s/"
     ]
    },
    {
     "name": "stdout",
     "output_type": "stream",
     "text": [
      "                   all        334        434      0.827      0.764      0.814      0.699\n"
     ]
    },
    {
     "name": "stderr",
     "output_type": "stream",
     "text": [
      "\n"
     ]
    },
    {
     "name": "stdout",
     "output_type": "stream",
     "text": [
      "\n",
      "      Epoch    GPU_mem   box_loss   cls_loss   dfl_loss  Instances       Size\n"
     ]
    },
    {
     "name": "stderr",
     "output_type": "stream",
     "text": [
      "      56/60      25.6G     0.4156     0.3126      1.005         52        640: 100%|██████████| 42/42 [00:43<00:00,  1.03s/it]\n",
      "                 Class     Images  Instances      Box(P          R      mAP50  mAP50-95): 100%|██████████| 3/3 [00:03<00:00,  1.17s/"
     ]
    },
    {
     "name": "stdout",
     "output_type": "stream",
     "text": [
      "                   all        334        434       0.81      0.761      0.825      0.711\n"
     ]
    },
    {
     "name": "stderr",
     "output_type": "stream",
     "text": [
      "\n"
     ]
    },
    {
     "name": "stdout",
     "output_type": "stream",
     "text": [
      "\n",
      "      Epoch    GPU_mem   box_loss   cls_loss   dfl_loss  Instances       Size\n"
     ]
    },
    {
     "name": "stderr",
     "output_type": "stream",
     "text": [
      "      57/60      25.6G      0.397     0.3011     0.9955         48        640: 100%|██████████| 42/42 [00:42<00:00,  1.01s/it]\n",
      "                 Class     Images  Instances      Box(P          R      mAP50  mAP50-95): 100%|██████████| 3/3 [00:04<00:00,  1.42s/"
     ]
    },
    {
     "name": "stdout",
     "output_type": "stream",
     "text": [
      "                   all        334        434      0.745      0.835      0.808      0.685\n"
     ]
    },
    {
     "name": "stderr",
     "output_type": "stream",
     "text": [
      "\n"
     ]
    },
    {
     "name": "stdout",
     "output_type": "stream",
     "text": [
      "\n",
      "      Epoch    GPU_mem   box_loss   cls_loss   dfl_loss  Instances       Size\n"
     ]
    },
    {
     "name": "stderr",
     "output_type": "stream",
     "text": [
      "      58/60      25.7G     0.4045     0.3029     0.9973         52        640: 100%|██████████| 42/42 [00:42<00:00,  1.02s/it]\n",
      "                 Class     Images  Instances      Box(P          R      mAP50  mAP50-95): 100%|██████████| 3/3 [00:04<00:00,  1.66s/"
     ]
    },
    {
     "name": "stdout",
     "output_type": "stream",
     "text": [
      "                   all        334        434      0.801      0.808      0.803      0.681\n"
     ]
    },
    {
     "name": "stderr",
     "output_type": "stream",
     "text": [
      "\n"
     ]
    },
    {
     "name": "stdout",
     "output_type": "stream",
     "text": [
      "\n",
      "      Epoch    GPU_mem   box_loss   cls_loss   dfl_loss  Instances       Size\n"
     ]
    },
    {
     "name": "stderr",
     "output_type": "stream",
     "text": [
      "      59/60      25.6G     0.3833     0.2843     0.9857         60        640: 100%|██████████| 42/42 [00:44<00:00,  1.06s/it]\n",
      "                 Class     Images  Instances      Box(P          R      mAP50  mAP50-95): 100%|██████████| 3/3 [00:04<00:00,  1.56s/"
     ]
    },
    {
     "name": "stdout",
     "output_type": "stream",
     "text": [
      "                   all        334        434      0.799       0.78      0.829      0.711\n"
     ]
    },
    {
     "name": "stderr",
     "output_type": "stream",
     "text": [
      "\n"
     ]
    },
    {
     "name": "stdout",
     "output_type": "stream",
     "text": [
      "\n",
      "      Epoch    GPU_mem   box_loss   cls_loss   dfl_loss  Instances       Size\n"
     ]
    },
    {
     "name": "stderr",
     "output_type": "stream",
     "text": [
      "      60/60      25.6G     0.3827     0.2829     0.9801         53        640: 100%|██████████| 42/42 [00:41<00:00,  1.00it/s]\n",
      "                 Class     Images  Instances      Box(P          R      mAP50  mAP50-95): 100%|██████████| 3/3 [00:03<00:00,  1.25s/"
     ]
    },
    {
     "name": "stdout",
     "output_type": "stream",
     "text": [
      "                   all        334        434      0.829      0.754      0.836      0.718\n"
     ]
    },
    {
     "name": "stderr",
     "output_type": "stream",
     "text": [
      "\n"
     ]
    },
    {
     "name": "stdout",
     "output_type": "stream",
     "text": [
      "\n",
      "60 epochs completed in 0.804 hours.\n",
      "Optimizer stripped from runs/detect/train3/weights/last.pt, 52.0MB\n",
      "Optimizer stripped from runs/detect/train3/weights/best.pt, 52.0MB\n",
      "\n",
      "Validating runs/detect/train3/weights/best.pt...\n",
      "Ultralytics YOLOv8.2.38 🚀 Python-3.10.14 torch-2.3.1+cu121 CUDA:1 (NVIDIA RTX A6000, 48677MiB)\n",
      "Model summary (fused): 218 layers, 25842076 parameters, 0 gradients, 78.7 GFLOPs\n"
     ]
    },
    {
     "name": "stderr",
     "output_type": "stream",
     "text": [
      "                 Class     Images  Instances      Box(P          R      mAP50  mAP50-95): 100%|██████████| 3/3 [00:04<00:00,  1.43s/\n"
     ]
    },
    {
     "name": "stdout",
     "output_type": "stream",
     "text": [
      "                   all        334        434      0.848      0.743      0.868      0.732\n",
      "                   AFV        257        349      0.985      0.571      0.904      0.677\n",
      "                   APC         52         61      0.949      0.656       0.86      0.719\n",
      "                   MEV          5          5      0.603        0.8       0.76      0.656\n",
      "                   LAV         17         19      0.856      0.947      0.947      0.876\n",
      "Speed: 0.2ms preprocess, 4.7ms inference, 0.0ms loss, 1.6ms postprocess per image\n",
      "Results saved to \u001b[1mruns/detect/train3\u001b[0m\n"
     ]
    }
   ],
   "source": [
    "from adomvi.yolo.yolo import train\n",
    "\n",
    "results_train = train(\"yolov8m.pt\", data=dataset_dir / \"dataset.yaml\", epochs=60, batch=64, device=1)\n",
    "\n",
    "#Load the path of the training model results\n",
    "results_train_dir = Path(results_train.save_dir)"
   ]
  },
  {
   "cell_type": "markdown",
   "id": "93614090-c4ea-4121-8e85-b85c5d49bec5",
   "metadata": {},
   "source": [
    "### Use the fine-tuned model to predict detections"
   ]
  },
  {
   "cell_type": "markdown",
   "id": "307d024f-a83a-490f-80ff-020165dc8231",
   "metadata": {},
   "source": [
    "Once our model is trained, we can use it to predict detections on our test dataset. Simply pass the path to the best model weights and the directory containing the test images to the `predict` function."
   ]
  },
  {
   "cell_type": "code",
   "execution_count": 5,
   "id": "712aefbd-757a-4184-8de6-4203a517f794",
   "metadata": {},
   "outputs": [
    {
     "name": "stdout",
     "output_type": "stream",
     "text": [
      "\n",
      "image 1/333 /home/jrenault/workspace/adomvi2/notebooks/dataset/images/test/00f772b75be12ddc.jpg: 480x640 1 AFV, 206.0ms\n",
      "image 2/333 /home/jrenault/workspace/adomvi2/notebooks/dataset/images/test/01aa441c93747718.jpg: 448x640 1 AFV, 172.4ms\n",
      "image 3/333 /home/jrenault/workspace/adomvi2/notebooks/dataset/images/test/01c1bff29e25b149.jpg: 320x640 2 AFVs, 175.2ms\n",
      "image 4/333 /home/jrenault/workspace/adomvi2/notebooks/dataset/images/test/01d517af269faac1.jpg: 416x640 1 AFV, 177.5ms\n",
      "image 5/333 /home/jrenault/workspace/adomvi2/notebooks/dataset/images/test/025457c66e740c30.jpg: 448x640 2 AFVs, 10.2ms\n",
      "image 6/333 /home/jrenault/workspace/adomvi2/notebooks/dataset/images/test/028aaf856e96f775.jpg: 640x640 1 AFV, 1 MEV, 11.6ms\n",
      "image 7/333 /home/jrenault/workspace/adomvi2/notebooks/dataset/images/test/031f4ced45f48697.jpg: 512x640 1 AFV, 178.2ms\n",
      "image 8/333 /home/jrenault/workspace/adomvi2/notebooks/dataset/images/test/044a3e7c7b006202.jpg: 640x640 1 AFV, 19.9ms\n",
      "image 9/333 /home/jrenault/workspace/adomvi2/notebooks/dataset/images/test/047ba9fce6932e35.jpg: 448x640 1 AFV, 18.5ms\n",
      "image 10/333 /home/jrenault/workspace/adomvi2/notebooks/dataset/images/test/0531ad5af5ad23a1.jpg: 448x640 1 AFV, 12.5ms\n",
      "image 11/333 /home/jrenault/workspace/adomvi2/notebooks/dataset/images/test/0630d98abbe260fe.jpg: 448x640 1 AFV, 11.6ms\n",
      "image 12/333 /home/jrenault/workspace/adomvi2/notebooks/dataset/images/test/067371b2633fef26.jpg: 480x640 1 AFV, 1 MEV, 18.5ms\n",
      "image 13/333 /home/jrenault/workspace/adomvi2/notebooks/dataset/images/test/071f7b0c6ee318db.jpg: 448x640 1 AFV, 1 MEV, 18.5ms\n",
      "image 14/333 /home/jrenault/workspace/adomvi2/notebooks/dataset/images/test/0743cb95ebef2863.jpg: 448x640 1 AFV, 11.4ms\n",
      "image 15/333 /home/jrenault/workspace/adomvi2/notebooks/dataset/images/test/07fd5398f5cc2b95.jpg: 448x640 2 AFVs, 11.5ms\n",
      "image 16/333 /home/jrenault/workspace/adomvi2/notebooks/dataset/images/test/08794752f8f40af8.jpg: 448x640 1 AFV, 11.6ms\n",
      "image 17/333 /home/jrenault/workspace/adomvi2/notebooks/dataset/images/test/0900a9ac-fd03-48e3-9682-451ab3e253f1.JPEG: 480x640 1 LAV, 18.8ms\n",
      "image 18/333 /home/jrenault/workspace/adomvi2/notebooks/dataset/images/test/09b54da1cb7c49e2.jpg: 448x640 1 MEV, 12.0ms\n",
      "image 19/333 /home/jrenault/workspace/adomvi2/notebooks/dataset/images/test/0b2ad6cd25204aa0.jpg: 448x640 3 AFVs, 8.8ms\n",
      "image 20/333 /home/jrenault/workspace/adomvi2/notebooks/dataset/images/test/0c3357a8e4e6d77c.jpg: 448x640 1 AFV, 7.9ms\n",
      "image 21/333 /home/jrenault/workspace/adomvi2/notebooks/dataset/images/test/0ca54d48b26f4d20.jpg: 480x640 2 AFVs, 12.5ms\n",
      "image 22/333 /home/jrenault/workspace/adomvi2/notebooks/dataset/images/test/0da0bced0cd61629.jpg: 640x640 1 AFV, 1 MEV, 12.0ms\n",
      "image 23/333 /home/jrenault/workspace/adomvi2/notebooks/dataset/images/test/0e2496162028cd60.jpg: 448x640 1 AFV, 10.3ms\n",
      "image 24/333 /home/jrenault/workspace/adomvi2/notebooks/dataset/images/test/0f454dcbbeb6b8d7.jpg: 480x640 1 AFV, 11.9ms\n",
      "image 25/333 /home/jrenault/workspace/adomvi2/notebooks/dataset/images/test/0f59dc7c455679fe.jpg: 448x640 2 AFVs, 10.2ms\n",
      "image 26/333 /home/jrenault/workspace/adomvi2/notebooks/dataset/images/test/0f9634e14af25067.jpg: 480x640 1 AFV, 19.0ms\n",
      "image 27/333 /home/jrenault/workspace/adomvi2/notebooks/dataset/images/test/0fdcc462b472369a.jpg: 480x640 1 AFV, 18.4ms\n",
      "image 28/333 /home/jrenault/workspace/adomvi2/notebooks/dataset/images/test/100_jpg.rf.94823f40b66e1105e1083b25a3b20af1.jpg: 640x640 1 AFV, 1 APC, 15.8ms\n",
      "image 29/333 /home/jrenault/workspace/adomvi2/notebooks/dataset/images/test/100_jpg.rf.f2330a11f8b6872e0ad397c2b9727c08.jpg: 640x640 1 APC, 16.6ms\n",
      "image 30/333 /home/jrenault/workspace/adomvi2/notebooks/dataset/images/test/10295d3373cd30d0.jpg: 480x640 1 MEV, 11.8ms\n",
      "image 31/333 /home/jrenault/workspace/adomvi2/notebooks/dataset/images/test/104b83fa-0c19-43b9-b0ca-2963ab202177.JPEG: 480x640 1 APC, 12.0ms\n",
      "image 32/333 /home/jrenault/workspace/adomvi2/notebooks/dataset/images/test/10821e28720e9d9a.jpg: 384x640 1 AFV, 184.1ms\n",
      "image 33/333 /home/jrenault/workspace/adomvi2/notebooks/dataset/images/test/11308194-d0df-4e85-9335-f0699035e176.JPEG: 320x640 1 AFV, 22.4ms\n",
      "image 34/333 /home/jrenault/workspace/adomvi2/notebooks/dataset/images/test/11_jpg.rf.54ea3d46e41b64f42db68e98fd4b4a70.jpg: 640x640 2 AFVs, 24.1ms\n",
      "image 35/333 /home/jrenault/workspace/adomvi2/notebooks/dataset/images/test/11e4261170ec0f60.jpg: 416x640 1 AFV, 18.6ms\n",
      "image 36/333 /home/jrenault/workspace/adomvi2/notebooks/dataset/images/test/12_jpg.rf.a7f61477a96681505b0ac7441caaaf1e.jpg: 640x640 1 AFV, 16.4ms\n",
      "image 37/333 /home/jrenault/workspace/adomvi2/notebooks/dataset/images/test/12_png.rf.8ab7d84d455592c3765e0919d07b8f4f.jpg: 640x640 2 AFVs, 9.8ms\n",
      "image 38/333 /home/jrenault/workspace/adomvi2/notebooks/dataset/images/test/13_jpg.rf.a87cd120209715b5bfe2322a93102678.jpg: 640x640 3 AFVs, 10.3ms\n",
      "image 39/333 /home/jrenault/workspace/adomvi2/notebooks/dataset/images/test/13ad4c70d41eee2d.jpg: 448x640 2 AFVs, 13.4ms\n",
      "image 40/333 /home/jrenault/workspace/adomvi2/notebooks/dataset/images/test/13f58d21-9c55-4dc5-932c-3d1790c6733b.JPEG: 448x640 2 LAVs, 9.8ms\n",
      "image 41/333 /home/jrenault/workspace/adomvi2/notebooks/dataset/images/test/14_jpg.rf.431d64cb318e9956c00eb12fbe90afc4.jpg: 640x640 1 AFV, 9.0ms\n",
      "image 42/333 /home/jrenault/workspace/adomvi2/notebooks/dataset/images/test/15_png.rf.6de4c9daf24df70ba3b23be17a706c70.jpg: 640x640 1 AFV, 9.9ms\n",
      "image 43/333 /home/jrenault/workspace/adomvi2/notebooks/dataset/images/test/164451530d3466b5.jpg: 512x640 1 AFV, 8.9ms\n",
      "image 44/333 /home/jrenault/workspace/adomvi2/notebooks/dataset/images/test/16_jpg.rf.36ae061cda1e45c3025c627d5966fd0d.jpg: 640x640 1 AFV, 19.3ms\n",
      "image 45/333 /home/jrenault/workspace/adomvi2/notebooks/dataset/images/test/16_jpg.rf.4b436bdf60355e71779d9a65392fe0a3.jpg: 640x640 2 AFVs, 10.7ms\n",
      "image 46/333 /home/jrenault/workspace/adomvi2/notebooks/dataset/images/test/16d5804cd488ed8e.jpg: 448x640 1 AFV, 18.5ms\n",
      "image 47/333 /home/jrenault/workspace/adomvi2/notebooks/dataset/images/test/17a5f0fb-7af3-46bb-bcf2-3d9276dc9548.JPEG: 416x640 1 APC, 1 MEV, 19.5ms\n",
      "image 48/333 /home/jrenault/workspace/adomvi2/notebooks/dataset/images/test/18_jpg.rf.2214a9d21dda4e56160769f48134cabc.jpg: 640x640 2 AFVs, 21.4ms\n",
      "image 49/333 /home/jrenault/workspace/adomvi2/notebooks/dataset/images/test/191feb71272487c3.jpg: 448x640 2 AFVs, 18.6ms\n",
      "image 50/333 /home/jrenault/workspace/adomvi2/notebooks/dataset/images/test/19542237554afa08.jpg: 480x640 1 AFV, 19.0ms\n",
      "image 51/333 /home/jrenault/workspace/adomvi2/notebooks/dataset/images/test/19_jpg.rf.32bd2fc1f8e7cb7997b1bc280accb00b.jpg: 640x640 1 AFV, 21.8ms\n",
      "image 52/333 /home/jrenault/workspace/adomvi2/notebooks/dataset/images/test/1_jpg.rf.1bee97da610023d31ea4a6c9666d44be.jpg: 640x640 1 AFV, 14.8ms\n",
      "image 53/333 /home/jrenault/workspace/adomvi2/notebooks/dataset/images/test/1b939e100136697c.jpg: 640x448 2 AFVs, 169.2ms\n",
      "image 54/333 /home/jrenault/workspace/adomvi2/notebooks/dataset/images/test/1c1b752401588b0b.jpg: 448x640 1 AFV, 12.6ms\n",
      "image 55/333 /home/jrenault/workspace/adomvi2/notebooks/dataset/images/test/1c66bc7c-b01f-4d24-a17f-a4dbb1d4f289.JPEG: 448x640 2 AFVs, 9.2ms\n",
      "image 56/333 /home/jrenault/workspace/adomvi2/notebooks/dataset/images/test/1dbde041-6389-4231-b116-86772736659d.JPEG: 352x640 1 AFV, 1 LAV, 186.0ms\n",
      "image 57/333 /home/jrenault/workspace/adomvi2/notebooks/dataset/images/test/1e2bcaae7a640edc.jpg: 480x640 1 AFV, 23.5ms\n",
      "image 58/333 /home/jrenault/workspace/adomvi2/notebooks/dataset/images/test/1fcb29bc-a948-4e35-8649-fade5d5bfa8c.JPEG: 480x640 1 MEV, 23.6ms\n",
      "image 59/333 /home/jrenault/workspace/adomvi2/notebooks/dataset/images/test/209f967f8f7517b8.jpg: 448x640 2 AFVs, 18.8ms\n",
      "image 60/333 /home/jrenault/workspace/adomvi2/notebooks/dataset/images/test/21_jpg.rf.44b477b41f84c562199acb79432a8643.jpg: 640x640 1 AFV, 19.0ms\n",
      "image 61/333 /home/jrenault/workspace/adomvi2/notebooks/dataset/images/test/22669cd0-e313-41ea-a5fd-375552440888.WEBP: 480x640 1 APC, 1 MEV, 21.1ms\n",
      "image 62/333 /home/jrenault/workspace/adomvi2/notebooks/dataset/images/test/22902f98b24b705c.jpg: 448x640 1 AFV, 18.5ms\n",
      "image 63/333 /home/jrenault/workspace/adomvi2/notebooks/dataset/images/test/22d10a408d7c4525.jpg: 480x640 1 AFV, 2 APCs, 18.7ms\n",
      "image 64/333 /home/jrenault/workspace/adomvi2/notebooks/dataset/images/test/236625db-44b3-47e2-8cfd-6c9ca228c078.JPEG: 352x640 1 AFV, 17.7ms\n",
      "image 65/333 /home/jrenault/workspace/adomvi2/notebooks/dataset/images/test/23_jpg.rf.7292b0ea52f291549964ac91a32cf97c.jpg: 640x640 2 AFVs, 21.7ms\n",
      "image 66/333 /home/jrenault/workspace/adomvi2/notebooks/dataset/images/test/23_jpg.rf.de1baa3050ec4b15da1337097bc6df79.jpg: 640x640 2 AFVs, 18.2ms\n",
      "image 67/333 /home/jrenault/workspace/adomvi2/notebooks/dataset/images/test/24_jpg.rf.07a93d08450b4d2b687af5c085d15cf0.jpg: 640x640 1 AFV, 8.4ms\n",
      "image 68/333 /home/jrenault/workspace/adomvi2/notebooks/dataset/images/test/24ac44874456e1ac.jpg: 448x640 1 AFV, 12.2ms\n",
      "image 69/333 /home/jrenault/workspace/adomvi2/notebooks/dataset/images/test/2588193d-7e88-4e9a-903a-0575bb14a073.JPEG: 480x640 1 LAV, 9.4ms\n",
      "image 70/333 /home/jrenault/workspace/adomvi2/notebooks/dataset/images/test/25_jpg.rf.950c36688ac8c3d86c19c4263d51516c.jpg: 640x640 1 APC, 10.5ms\n",
      "image 71/333 /home/jrenault/workspace/adomvi2/notebooks/dataset/images/test/25_jpg.rf.95a925dfdabc0a391d425c65569b9eaa.jpg: 640x640 1 APC, 9.6ms\n",
      "image 72/333 /home/jrenault/workspace/adomvi2/notebooks/dataset/images/test/26_jpg.rf.1173bccf562e29f3d3fcd774c2ffd7df.jpg: 640x640 1 APC, 9.8ms\n",
      "image 73/333 /home/jrenault/workspace/adomvi2/notebooks/dataset/images/test/26_jpg.rf.f78840e1340519fd23aad45157e930fd.jpg: 640x640 1 APC, 16.9ms\n",
      "image 74/333 /home/jrenault/workspace/adomvi2/notebooks/dataset/images/test/27aff01e4c08171a.jpg: 480x640 1 AFV, 11.0ms\n",
      "image 75/333 /home/jrenault/workspace/adomvi2/notebooks/dataset/images/test/2857b16ec993dc68.jpg: 512x640 2 AFVs, 18.4ms\n",
      "image 76/333 /home/jrenault/workspace/adomvi2/notebooks/dataset/images/test/28_jpg.rf.7ccb4de01178f3d44b8e0774e3db27d1.jpg: 640x640 1 APC, 24.1ms\n",
      "image 77/333 /home/jrenault/workspace/adomvi2/notebooks/dataset/images/test/29f86102a86db308.jpg: 480x640 1 AFV, 18.8ms\n",
      "image 78/333 /home/jrenault/workspace/adomvi2/notebooks/dataset/images/test/2ac5c8a5-9121-4533-948b-df155ce303e5.JPEG: 448x640 3 APCs, 18.6ms\n",
      "image 79/333 /home/jrenault/workspace/adomvi2/notebooks/dataset/images/test/2c0c4f4ae903fbdb.jpg: 448x640 1 AFV, 1 MEV, 11.6ms\n",
      "image 80/333 /home/jrenault/workspace/adomvi2/notebooks/dataset/images/test/2decf91c-7b48-4bc2-a39b-0dbad3246a4a.JPEG: 448x640 1 APC, 13.7ms\n",
      "image 81/333 /home/jrenault/workspace/adomvi2/notebooks/dataset/images/test/2ecdb1f7e844d276.jpg: 480x640 1 AFV, 12.4ms\n",
      "image 82/333 /home/jrenault/workspace/adomvi2/notebooks/dataset/images/test/2f9e85f3-6a77-4d34-88c9-850fd81bbab6.JPEG: 480x640 1 APC, 11.7ms\n",
      "image 83/333 /home/jrenault/workspace/adomvi2/notebooks/dataset/images/test/2fd38d5e5be9e690.jpg: 448x640 2 AFVs, 18.6ms\n",
      "image 84/333 /home/jrenault/workspace/adomvi2/notebooks/dataset/images/test/30403490e5259620.jpg: 448x640 1 AFV, 11.7ms\n",
      "image 85/333 /home/jrenault/workspace/adomvi2/notebooks/dataset/images/test/3041ef7ec37652b1.jpg: 448x640 1 AFV, 11.6ms\n",
      "image 86/333 /home/jrenault/workspace/adomvi2/notebooks/dataset/images/test/30dec7d5-9a99-4177-93e9-8955073e721d.WEBP: 384x640 2 AFVs, 1 APC, 1 LAV, 13.0ms\n",
      "image 87/333 /home/jrenault/workspace/adomvi2/notebooks/dataset/images/test/319ece040b3987b4.jpg: 640x544 1 AFV, 292.1ms\n",
      "image 88/333 /home/jrenault/workspace/adomvi2/notebooks/dataset/images/test/31_jpeg.rf.1c5a9c29825c84ccc84c318ffd008f36.jpg: 640x640 1 AFV, 19.5ms\n",
      "image 89/333 /home/jrenault/workspace/adomvi2/notebooks/dataset/images/test/31_jpg.rf.181eba41c8b02c5754be0de04ab88cf2.jpg: 640x640 1 AFV, 1 APC, 12.4ms\n",
      "image 90/333 /home/jrenault/workspace/adomvi2/notebooks/dataset/images/test/31_jpg.rf.bf51af4ef56e60dabee5ddf3b1854d9b.jpg: 640x640 1 AFV, 9.1ms\n",
      "image 91/333 /home/jrenault/workspace/adomvi2/notebooks/dataset/images/test/322ab66f-69b6-4383-ae8d-8e10c660119f.JPEG: 448x640 1 APC, 18.7ms\n",
      "image 92/333 /home/jrenault/workspace/adomvi2/notebooks/dataset/images/test/32_jpg.rf.eda04ebad6eb7a879b3276ee4bc408a7.jpg: 640x640 1 AFV, 1 APC, 21.1ms\n",
      "image 93/333 /home/jrenault/workspace/adomvi2/notebooks/dataset/images/test/3376cf40-8489-46c7-a693-15331f1b4e20.WEBP: 480x640 1 APC, 23.4ms\n",
      "image 94/333 /home/jrenault/workspace/adomvi2/notebooks/dataset/images/test/33a27cbf400f9eef.jpg: 416x640 1 AFV, 1 MEV, 18.4ms\n",
      "image 95/333 /home/jrenault/workspace/adomvi2/notebooks/dataset/images/test/34_jpg.rf.adb4ec41e9f80e7358c5aad7c5b4e46c.jpg: 640x640 2 AFVs, 24.0ms\n",
      "image 96/333 /home/jrenault/workspace/adomvi2/notebooks/dataset/images/test/35_png.rf.e2bb3cdd69c310bc6f8f117e458496fb.jpg: 640x640 3 AFVs, 12.5ms\n",
      "image 97/333 /home/jrenault/workspace/adomvi2/notebooks/dataset/images/test/35cc90c9-7973-41c0-97c3-d0ff33bd90b1.JPEG: 448x640 2 LAVs, 15.8ms\n",
      "image 98/333 /home/jrenault/workspace/adomvi2/notebooks/dataset/images/test/366a19969fa8590f.jpg: 480x640 1 AFV, 10.5ms\n",
      "image 99/333 /home/jrenault/workspace/adomvi2/notebooks/dataset/images/test/36_jpg.rf.0be00d5f37266ec050d6a925bab7378d.jpg: 640x640 1 AFV, 10.6ms\n",
      "image 100/333 /home/jrenault/workspace/adomvi2/notebooks/dataset/images/test/36_png.rf.25785698b2352395b5e828be043c88a3.jpg: 640x640 2 AFVs, 8.1ms\n",
      "image 101/333 /home/jrenault/workspace/adomvi2/notebooks/dataset/images/test/37_jpg.rf.16d37e649b440a8697150afdd2d1ef40.jpg: 640x640 2 AFVs, 9.4ms\n",
      "image 102/333 /home/jrenault/workspace/adomvi2/notebooks/dataset/images/test/37_jpg.rf.f99b759d5375371474a4db20f3b6ae9c.jpg: 640x640 1 AFV, 16.6ms\n",
      "image 103/333 /home/jrenault/workspace/adomvi2/notebooks/dataset/images/test/38836ac3-6d8e-4c7a-b179-5ff9df0130a5.JPEG: 384x640 1 APC, 1 LAV, 8.3ms\n",
      "image 104/333 /home/jrenault/workspace/adomvi2/notebooks/dataset/images/test/39_jpg.rf.e354018e96dda60778f3ae6222ec1fc8.jpg: 640x640 1 APC, 11.8ms\n",
      "image 105/333 /home/jrenault/workspace/adomvi2/notebooks/dataset/images/test/3_png.rf.61cd824f466c8fe4a4d6c79fc8474fe9.jpg: 640x640 1 AFV, 8.8ms\n",
      "image 106/333 /home/jrenault/workspace/adomvi2/notebooks/dataset/images/test/3a66ef4929893c84.jpg: 480x640 2 AFVs, 17.8ms\n",
      "image 107/333 /home/jrenault/workspace/adomvi2/notebooks/dataset/images/test/3c3acf3d-d242-4e89-a2c1-44b2dec5b725.JPEG: 448x640 1 AFV, 1 LAV, 18.5ms\n",
      "image 108/333 /home/jrenault/workspace/adomvi2/notebooks/dataset/images/test/3d73e9f589064a44.jpg: 480x640 1 AFV, 18.7ms\n",
      "image 109/333 /home/jrenault/workspace/adomvi2/notebooks/dataset/images/test/3dc8f5ab-55e4-4a48-95b2-67dd3df46351.JPEG: 448x640 1 AFV, 14.2ms\n",
      "image 110/333 /home/jrenault/workspace/adomvi2/notebooks/dataset/images/test/40329e2829c196dc.jpg: 448x640 1 AFV, 10.4ms\n",
      "image 111/333 /home/jrenault/workspace/adomvi2/notebooks/dataset/images/test/40_jpg.rf.a1823957e978f1fec42e15cfe8c876ed.jpg: 640x640 1 AFV, 11.4ms\n",
      "image 112/333 /home/jrenault/workspace/adomvi2/notebooks/dataset/images/test/42_jpg.rf.64cf158641684aa584425c369f33ba70.jpg: 640x640 1 AFV, 9.8ms\n",
      "image 113/333 /home/jrenault/workspace/adomvi2/notebooks/dataset/images/test/43_jpg.rf.3254ea1b1853e71882aa0b55e88b6aec.jpg: 640x640 1 AFV, 20.9ms\n",
      "image 114/333 /home/jrenault/workspace/adomvi2/notebooks/dataset/images/test/442df321-f25f-4255-9883-ec703b2c2b51.JPEG: 480x640 1 AFV, 20.8ms\n",
      "image 115/333 /home/jrenault/workspace/adomvi2/notebooks/dataset/images/test/44_png.rf.931e959ced2d170a2049f12c05985b67.jpg: 640x640 3 AFVs, 24.7ms\n",
      "image 116/333 /home/jrenault/workspace/adomvi2/notebooks/dataset/images/test/46_jpg.rf.6b3d0a2228cdf04005f1e7b43ff07141.jpg: 640x640 1 AFV, 1 APC, 12.3ms\n",
      "image 117/333 /home/jrenault/workspace/adomvi2/notebooks/dataset/images/test/46_jpg.rf.aa4e585c82277186e08defef3dfda8f8.jpg: 640x640 1 AFV, 12.4ms\n",
      "image 118/333 /home/jrenault/workspace/adomvi2/notebooks/dataset/images/test/473d8a48d680ead6.jpg: 480x640 1 AFV, 18.9ms\n",
      "image 119/333 /home/jrenault/workspace/adomvi2/notebooks/dataset/images/test/47_jpg.rf.1e77b5d18652537e3b372af48b898186.jpg: 640x640 1 APC, 19.6ms\n",
      "image 120/333 /home/jrenault/workspace/adomvi2/notebooks/dataset/images/test/47_png.rf.b43ac293e728b6ceb397cd8780a798a5.jpg: 640x640 1 AFV, 12.6ms\n",
      "image 121/333 /home/jrenault/workspace/adomvi2/notebooks/dataset/images/test/485e75d96a3c123d.jpg: 480x640 1 AFV, 9.6ms\n",
      "image 122/333 /home/jrenault/workspace/adomvi2/notebooks/dataset/images/test/48_jpg.rf.cd6f8eed82dbe929b3425ae3031b9928.jpg: 640x640 2 AFVs, 9.3ms\n",
      "image 123/333 /home/jrenault/workspace/adomvi2/notebooks/dataset/images/test/497be471-9696-45dc-9e2b-0af5e08e40a9.JPEG: 480x640 1 APC, 9.6ms\n",
      "image 124/333 /home/jrenault/workspace/adomvi2/notebooks/dataset/images/test/49_jpg.rf.41d82a9310bdcb23a2ad798edb310fd5.jpg: 640x640 2 APCs, 9.9ms\n",
      "image 125/333 /home/jrenault/workspace/adomvi2/notebooks/dataset/images/test/49_jpg.rf.e0c3731797f023a74f3b1aec8fb9db65.jpg: 640x640 1 AFV, 9.1ms\n",
      "image 126/333 /home/jrenault/workspace/adomvi2/notebooks/dataset/images/test/4adb38fa-b93c-421b-996e-8e47087610f0.JPEG: 448x640 1 APC, 10.2ms\n",
      "image 127/333 /home/jrenault/workspace/adomvi2/notebooks/dataset/images/test/4bea3841709965aa.jpg: 480x640 1 AFV, 1 APC, 10.6ms\n",
      "image 128/333 /home/jrenault/workspace/adomvi2/notebooks/dataset/images/test/4c588f13-3b38-4e3a-8305-0e0f53ed0ff7.JPEG: 480x640 1 LAV, 9.4ms\n",
      "image 129/333 /home/jrenault/workspace/adomvi2/notebooks/dataset/images/test/4d2900a5cf30c7fa.jpg: 640x640 1 AFV, 7.7ms\n",
      "image 130/333 /home/jrenault/workspace/adomvi2/notebooks/dataset/images/test/4d485a11-b2f6-45df-ac6f-09eca6a772e2.JPEG: 416x640 1 APC, 18.1ms\n",
      "image 131/333 /home/jrenault/workspace/adomvi2/notebooks/dataset/images/test/4efa8100afb48058.jpg: 480x640 2 AFVs, 18.9ms\n",
      "image 132/333 /home/jrenault/workspace/adomvi2/notebooks/dataset/images/test/50_jpg.rf.c9a06302f93c38361055e3ca34e70e9e.jpg: 640x640 1 APC, 14.6ms\n",
      "image 133/333 /home/jrenault/workspace/adomvi2/notebooks/dataset/images/test/51398d8516b4cd6e.jpg: 448x640 1 AFV, 10.7ms\n",
      "image 134/333 /home/jrenault/workspace/adomvi2/notebooks/dataset/images/test/51_jpg.rf.faf959d819d9f18cf885614924bb8008.jpg: 640x640 1 APC, 10.3ms\n",
      "image 135/333 /home/jrenault/workspace/adomvi2/notebooks/dataset/images/test/524a873b5b00b185.jpg: 448x640 1 AFV, 11.3ms\n",
      "image 136/333 /home/jrenault/workspace/adomvi2/notebooks/dataset/images/test/52_jpg.rf.4baff40eed308e9ea95d29d7407f550a.jpg: 640x640 1 AFV, 11.8ms\n",
      "image 137/333 /home/jrenault/workspace/adomvi2/notebooks/dataset/images/test/52_jpg.rf.c2d39b58bcd3117894adcaef54511233.jpg: 640x640 1 AFV, 8.7ms\n",
      "image 138/333 /home/jrenault/workspace/adomvi2/notebooks/dataset/images/test/53_jpg.rf.d9d1a36d087e1b30c288a56f56438258.jpg: 640x640 1 APC, 12.4ms\n",
      "image 139/333 /home/jrenault/workspace/adomvi2/notebooks/dataset/images/test/546308a2-3d1d-4ef3-8886-e0412597a115.JPEG: 448x640 1 LAV, 9.7ms\n",
      "image 140/333 /home/jrenault/workspace/adomvi2/notebooks/dataset/images/test/54_jpg.rf.1f55ba7c04279adfa2e840d82fe90398.jpg: 640x640 1 APC, 13.2ms\n",
      "image 141/333 /home/jrenault/workspace/adomvi2/notebooks/dataset/images/test/5785b2b0-484b-49c3-addd-a0dc726f923b.JPEG: 384x640 1 AFV, 10.0ms\n",
      "image 142/333 /home/jrenault/workspace/adomvi2/notebooks/dataset/images/test/583b54ce-b4a1-41e3-8e9e-c8ea4585f2a2.JPEG: 640x640 1 MEV, 9.3ms\n",
      "image 143/333 /home/jrenault/workspace/adomvi2/notebooks/dataset/images/test/58_jpg.rf.52fc112012267ff1f5e81389cf499686.jpg: 640x640 1 AFV, 9.0ms\n",
      "image 144/333 /home/jrenault/workspace/adomvi2/notebooks/dataset/images/test/58_jpg.rf.76c17bf8e29b975d5dd92ab159dfaf19.jpg: 640x640 1 APC, 8.4ms\n",
      "image 145/333 /home/jrenault/workspace/adomvi2/notebooks/dataset/images/test/58_png.rf.086933a6e36ea3e0b901e9c50ce86de2.jpg: 640x640 1 AFV, 9.3ms\n",
      "image 146/333 /home/jrenault/workspace/adomvi2/notebooks/dataset/images/test/58_png.rf.156e6e2c1d5f888ac429d958dbc22ef8.jpg: 640x640 1 AFV, 12.2ms\n",
      "image 147/333 /home/jrenault/workspace/adomvi2/notebooks/dataset/images/test/59_jpg.rf.03fdff13ea2d6fd54d871e1f14905ba0.jpg: 640x640 3 AFVs, 8.5ms\n",
      "image 148/333 /home/jrenault/workspace/adomvi2/notebooks/dataset/images/test/5_jpg.rf.548ae68aeca01105742d2e1c09caf4e5.jpg: 640x640 6 AFVs, 10.0ms\n",
      "image 149/333 /home/jrenault/workspace/adomvi2/notebooks/dataset/images/test/5_jpg.rf.9008947443ec81cacd6e31b1dbd006af.jpg: 640x640 1 AFV, 14.7ms\n",
      "image 150/333 /home/jrenault/workspace/adomvi2/notebooks/dataset/images/test/60b8ebd84d2b3a4c.jpg: 448x640 1 AFV, 19.2ms\n",
      "image 151/333 /home/jrenault/workspace/adomvi2/notebooks/dataset/images/test/61_jpg.rf.b199c545f503dfbb246ad80881c45452.jpg: 640x640 1 AFV, 12.1ms\n",
      "image 152/333 /home/jrenault/workspace/adomvi2/notebooks/dataset/images/test/61ebf4bf-9bf0-48aa-93fe-4ebe6b37d0f8.JPEG: 448x640 1 AFV, 18.4ms\n",
      "image 153/333 /home/jrenault/workspace/adomvi2/notebooks/dataset/images/test/63bd430a-e700-4f0e-b987-c29547c51454.JPEG: 640x640 1 MEV, 9.4ms\n",
      "image 154/333 /home/jrenault/workspace/adomvi2/notebooks/dataset/images/test/642b8d481cdfbcab.jpg: 480x640 3 AFVs, 9.5ms\n",
      "image 155/333 /home/jrenault/workspace/adomvi2/notebooks/dataset/images/test/65_jpg.rf.40174fa515f8ea1fee276d8987b26f17.jpg: 640x640 1 AFV, 9.5ms\n",
      "image 156/333 /home/jrenault/workspace/adomvi2/notebooks/dataset/images/test/66_jpg.rf.2ce1844a83adf78fd4249c96faf8d381.jpg: 640x640 2 AFVs, 9.0ms\n",
      "image 157/333 /home/jrenault/workspace/adomvi2/notebooks/dataset/images/test/66_png.rf.7746c0cf9f9af5ce04ff5cd4fc56912d.jpg: 640x640 1 AFV, 9.0ms\n",
      "image 158/333 /home/jrenault/workspace/adomvi2/notebooks/dataset/images/test/67_jpg.rf.1bc0126a25235d03f23af5b897dadc20.jpg: 640x640 2 AFVs, 9.8ms\n",
      "image 159/333 /home/jrenault/workspace/adomvi2/notebooks/dataset/images/test/68_jpg.rf.dcbb10c1e3c20eca48121b243387e205.jpg: 640x640 1 AFV, 14.4ms\n",
      "image 160/333 /home/jrenault/workspace/adomvi2/notebooks/dataset/images/test/68c8ddadc54f617e.jpg: 384x640 1 AFV, 9.5ms\n",
      "image 161/333 /home/jrenault/workspace/adomvi2/notebooks/dataset/images/test/6968b6819ca9875c.jpg: 448x640 (no detections), 11.1ms\n",
      "image 162/333 /home/jrenault/workspace/adomvi2/notebooks/dataset/images/test/69_jpg.rf.f4b634c4b3dd88b266496f136471046c.jpg: 640x640 1 APC, 12.8ms\n",
      "image 163/333 /home/jrenault/workspace/adomvi2/notebooks/dataset/images/test/6_jpg.rf.20b672f6f0eea9d4a5817362f862fc8c.jpg: 640x640 4 AFVs, 12.5ms\n",
      "image 164/333 /home/jrenault/workspace/adomvi2/notebooks/dataset/images/test/6_jpg.rf.c5c58cb1d0365b8ea66693cbc927a61a.jpg: 640x640 1 APC, 12.4ms\n",
      "image 165/333 /home/jrenault/workspace/adomvi2/notebooks/dataset/images/test/6af89666-017a-42b8-adbe-874c81ff4649.JPEG: 416x640 2 LAVs, 22.5ms\n",
      "image 166/333 /home/jrenault/workspace/adomvi2/notebooks/dataset/images/test/6cf94cec5127602a.jpg: 480x640 1 MEV, 12.3ms\n",
      "image 167/333 /home/jrenault/workspace/adomvi2/notebooks/dataset/images/test/6ed8abe1a2909a59.jpg: 544x640 1 AFV, 160.3ms\n",
      "image 168/333 /home/jrenault/workspace/adomvi2/notebooks/dataset/images/test/6f9b1c96d8bedf9c.jpg: 480x640 1 AFV, 18.8ms\n",
      "image 169/333 /home/jrenault/workspace/adomvi2/notebooks/dataset/images/test/7012b13b53272e04.jpg: 416x640 1 AFV, 18.4ms\n",
      "image 170/333 /home/jrenault/workspace/adomvi2/notebooks/dataset/images/test/70_jpg.rf.42574b3c80e53027dd884a2e42b4bf05.jpg: 640x640 1 AFV, 21.8ms\n",
      "image 171/333 /home/jrenault/workspace/adomvi2/notebooks/dataset/images/test/70_png.rf.4cf295fb5a92bbbea2e4aa70c6995ecb.jpg: 640x640 1 AFV, 12.0ms\n",
      "image 172/333 /home/jrenault/workspace/adomvi2/notebooks/dataset/images/test/70a72e9ba7131dce.jpg: 480x640 1 AFV, 10.6ms\n",
      "image 173/333 /home/jrenault/workspace/adomvi2/notebooks/dataset/images/test/71_jpg.rf.3978d45ce891cbb7075aa714b00e534c.jpg: 640x640 1 AFV, 15.8ms\n",
      "image 174/333 /home/jrenault/workspace/adomvi2/notebooks/dataset/images/test/71_png.rf.a199f70a3b6dfa87dc15868d33e4de1f.jpg: 640x640 1 AFV, 9.1ms\n",
      "image 175/333 /home/jrenault/workspace/adomvi2/notebooks/dataset/images/test/727f77753997184a.jpg: 512x640 2 AFVs, 10.6ms\n",
      "image 176/333 /home/jrenault/workspace/adomvi2/notebooks/dataset/images/test/72_jpeg.rf.ee7a3047dbc97a41ee1361e8d4067eb0.jpg: 640x640 1 AFV, 10.7ms\n",
      "image 177/333 /home/jrenault/workspace/adomvi2/notebooks/dataset/images/test/741ae21e01cde8fd.jpg: 448x640 2 AFVs, 9.6ms\n",
      "image 178/333 /home/jrenault/workspace/adomvi2/notebooks/dataset/images/test/742f1a25543b2ab0.jpg: 480x640 1 AFV, 10.7ms\n",
      "image 179/333 /home/jrenault/workspace/adomvi2/notebooks/dataset/images/test/74_jpg.rf.0a4f44d9d76b71d3e01dfd94040df335.jpg: 640x640 1 AFV, 9.4ms\n",
      "image 180/333 /home/jrenault/workspace/adomvi2/notebooks/dataset/images/test/74_jpg.rf.b8c81b29e777e23cf0ee5691af1033f1.jpg: 640x640 1 AFV, 1 APC, 10.3ms\n",
      "image 181/333 /home/jrenault/workspace/adomvi2/notebooks/dataset/images/test/74_jpg.rf.f5328605ef256a5eb14f784877f3199a.jpg: 640x640 2 AFVs, 9.9ms\n",
      "image 182/333 /home/jrenault/workspace/adomvi2/notebooks/dataset/images/test/76ced4530257b1bd.jpg: 480x640 2 AFVs, 16.6ms\n",
      "image 183/333 /home/jrenault/workspace/adomvi2/notebooks/dataset/images/test/771ca5d8-d700-43f6-b8de-e6494dc7329f.JPEG: 480x640 1 AFV, 11.8ms\n",
      "image 184/333 /home/jrenault/workspace/adomvi2/notebooks/dataset/images/test/772295ac25d8da1d.jpg: 448x640 3 AFVs, 10.2ms\n",
      "image 185/333 /home/jrenault/workspace/adomvi2/notebooks/dataset/images/test/77_jpg.rf.3bf8c4a1b621d37d876ec41849c16ccb.jpg: 640x640 1 AFV, 21.8ms\n",
      "image 186/333 /home/jrenault/workspace/adomvi2/notebooks/dataset/images/test/77_jpg.rf.9ca19a204db62498b3084c07ba7a6607.jpg: 640x640 1 AFV, 14.7ms\n",
      "image 187/333 /home/jrenault/workspace/adomvi2/notebooks/dataset/images/test/77_png.rf.d7030b863dd1761a951d96ef75b43d31.jpg: 640x640 1 AFV, 13.2ms\n",
      "image 188/333 /home/jrenault/workspace/adomvi2/notebooks/dataset/images/test/7803eaf9-e425-49de-9c45-43fffdffb109.JPEG: 448x640 2 APCs, 11.3ms\n",
      "image 189/333 /home/jrenault/workspace/adomvi2/notebooks/dataset/images/test/79_jpg.rf.5d03e4926b025288245d19d277d1178d.jpg: 640x640 1 AFV, 19.5ms\n",
      "image 190/333 /home/jrenault/workspace/adomvi2/notebooks/dataset/images/test/7_jpg.rf.5c0ed5b3cd7c6fbcf2d98ca5d13e1bc6.jpg: 640x640 1 APC, 15.0ms\n",
      "image 191/333 /home/jrenault/workspace/adomvi2/notebooks/dataset/images/test/7_jpg.rf.79dd640e6bbe4b5ae14cc866d8a797fc.jpg: 640x640 1 AFV, 12.6ms\n",
      "image 192/333 /home/jrenault/workspace/adomvi2/notebooks/dataset/images/test/7_png.rf.ff23924b78924fa3cb6121cca6da7a49.jpg: 640x640 1 AFV, 10.2ms\n",
      "image 193/333 /home/jrenault/workspace/adomvi2/notebooks/dataset/images/test/7aabdfec-89ce-4af5-95d7-58dd954da335.JPEG: 480x640 1 AFV, 19.0ms\n",
      "image 194/333 /home/jrenault/workspace/adomvi2/notebooks/dataset/images/test/7b84cca1-12a2-4f1c-9f2e-e970ccf03f98.JPEG: 480x640 1 LAV, 9.7ms\n",
      "image 195/333 /home/jrenault/workspace/adomvi2/notebooks/dataset/images/test/7d80f9a261daa9d8.jpg: 416x640 1 AFV, 23.0ms\n",
      "image 196/333 /home/jrenault/workspace/adomvi2/notebooks/dataset/images/test/7e0f5b3b3c8e2a1f.jpg: 480x640 1 AFV, 10.4ms\n",
      "image 197/333 /home/jrenault/workspace/adomvi2/notebooks/dataset/images/test/80f73bb50ae00d60.jpg: 416x640 1 AFV, 1 MEV, 9.3ms\n",
      "image 198/333 /home/jrenault/workspace/adomvi2/notebooks/dataset/images/test/81_jpg.rf.00592f7c859c6952e7084e56e9df48cb.jpg: 640x640 1 AFV, 9.2ms\n",
      "image 199/333 /home/jrenault/workspace/adomvi2/notebooks/dataset/images/test/81e7d34a-98e4-4ae9-8a89-3140f8fdcf12.JPEG: 448x640 1 AFV, 12.5ms\n",
      "image 200/333 /home/jrenault/workspace/adomvi2/notebooks/dataset/images/test/83778f18-8795-4ffc-bf38-2f3e57eeb5b1.JPEG: 480x640 1 LAV, 9.4ms\n",
      "image 201/333 /home/jrenault/workspace/adomvi2/notebooks/dataset/images/test/83_jpg.rf.630b305fadd2411a20900f307894f688.jpg: 640x640 1 AFV, 9.0ms\n",
      "image 202/333 /home/jrenault/workspace/adomvi2/notebooks/dataset/images/test/8415f4b196f1551b.jpg: 448x640 1 AFV, 11.7ms\n",
      "image 203/333 /home/jrenault/workspace/adomvi2/notebooks/dataset/images/test/84_png.rf.c1d08871a970abcb21d9951b459fb27d.jpg: 640x640 1 AFV, 9.7ms\n",
      "image 204/333 /home/jrenault/workspace/adomvi2/notebooks/dataset/images/test/84aa733f-4e5c-47c6-ade2-7b05346476e5.JPEG: 512x640 1 APC, 1 LAV, 9.4ms\n",
      "image 205/333 /home/jrenault/workspace/adomvi2/notebooks/dataset/images/test/85_jpg.rf.0e489198bfd48b0e15eb46fcbe0a1ffc.jpg: 640x640 1 APC, 26.4ms\n",
      "image 206/333 /home/jrenault/workspace/adomvi2/notebooks/dataset/images/test/85e755fa2b84a514.jpg: 512x640 1 AFV, 10.9ms\n",
      "image 207/333 /home/jrenault/workspace/adomvi2/notebooks/dataset/images/test/86_jpg.rf.af241f4f3f0778d36791a8ca3418320d.jpg: 640x640 2 AFVs, 1 APC, 24.2ms\n",
      "image 208/333 /home/jrenault/workspace/adomvi2/notebooks/dataset/images/test/86ba56e1fc9c7486.jpg: 480x640 1 MEV, 1 LAV, 18.7ms\n",
      "image 209/333 /home/jrenault/workspace/adomvi2/notebooks/dataset/images/test/87_jpg.rf.404fa3e9c68d308a82b59f62184c33b9.jpg: 640x640 1 AFV, 26.4ms\n",
      "image 210/333 /home/jrenault/workspace/adomvi2/notebooks/dataset/images/test/88619e2979d3adf5.jpg: 640x448 1 AFV, 10.8ms\n",
      "image 211/333 /home/jrenault/workspace/adomvi2/notebooks/dataset/images/test/88_jpg.rf.b3c836dc34826d1efcb122041f613be4.jpg: 640x640 1 AFV, 9.3ms\n",
      "image 212/333 /home/jrenault/workspace/adomvi2/notebooks/dataset/images/test/891cc3c81863758f.jpg: 640x512 1 AFV, 165.9ms\n",
      "image 213/333 /home/jrenault/workspace/adomvi2/notebooks/dataset/images/test/8_jpg.rf.67e7f699cfc0058bf594fe79996fd190.jpg: 640x640 2 APCs, 19.8ms\n",
      "image 214/333 /home/jrenault/workspace/adomvi2/notebooks/dataset/images/test/8_jpg.rf.87331def271bd3e16ab460809c1d1e2f.jpg: 640x640 1 AFV, 12.3ms\n",
      "image 215/333 /home/jrenault/workspace/adomvi2/notebooks/dataset/images/test/8ac36739-4656-4e92-b5b2-e6c45ff52a31.WEBP: 320x640 1 AFV, 1 LAV, 9.9ms\n",
      "image 216/333 /home/jrenault/workspace/adomvi2/notebooks/dataset/images/test/8b9f451fd2169008.jpg: 448x640 1 AFV, 11.5ms\n",
      "image 217/333 /home/jrenault/workspace/adomvi2/notebooks/dataset/images/test/8e4388bd-944e-4716-b5b8-2ef7cf47a8e1.JPEG: 480x640 1 LAV, 10.9ms\n",
      "image 218/333 /home/jrenault/workspace/adomvi2/notebooks/dataset/images/test/90_jpg.rf.59ad61d3afc6363e8dff7f1607442e16.jpg: 640x640 1 APC, 9.3ms\n",
      "image 219/333 /home/jrenault/workspace/adomvi2/notebooks/dataset/images/test/90_jpg.rf.a569d1804079567359e3015487e7eeb2.jpg: 640x640 1 APC, 10.2ms\n",
      "image 220/333 /home/jrenault/workspace/adomvi2/notebooks/dataset/images/test/93_jpg.rf.90401ddf2a3696efd729188c60211473.jpg: 640x640 2 APCs, 8.8ms\n",
      "image 221/333 /home/jrenault/workspace/adomvi2/notebooks/dataset/images/test/93_jpg.rf.c55f1ff6d296fb3f3274a181b472b820.jpg: 640x640 3 AFVs, 1 LAV, 8.3ms\n",
      "image 222/333 /home/jrenault/workspace/adomvi2/notebooks/dataset/images/test/95_jpg.rf.0767cd497b5e0334160f825fe2c586f3.jpg: 640x640 1 AFV, 9.3ms\n",
      "image 223/333 /home/jrenault/workspace/adomvi2/notebooks/dataset/images/test/95_jpg.rf.8c581e6944bbe1d77cbce63256652ae0.jpg: 640x640 1 AFV, 9.3ms\n",
      "image 224/333 /home/jrenault/workspace/adomvi2/notebooks/dataset/images/test/961eee0c-57d0-4187-9ece-8c6a38fc88dc.JPEG: 640x640 1 LAV, 9.7ms\n",
      "image 225/333 /home/jrenault/workspace/adomvi2/notebooks/dataset/images/test/9754108dfee1ab17.jpg: 544x640 1 AFV, 9.3ms\n",
      "image 226/333 /home/jrenault/workspace/adomvi2/notebooks/dataset/images/test/97_jpg.rf.eb3cf2c9ab824501ce833718dd50d0e4.jpg: 640x640 2 AFVs, 9.4ms\n",
      "image 227/333 /home/jrenault/workspace/adomvi2/notebooks/dataset/images/test/98_jpg.rf.09a67d9be8920e074cba9273e6e014e5.jpg: 640x640 1 APC, 21.6ms\n",
      "image 228/333 /home/jrenault/workspace/adomvi2/notebooks/dataset/images/test/98c4b3d9-426d-47fd-8ac5-97c18b72ab49.JPEG: 384x640 1 LAV, 23.8ms\n",
      "image 229/333 /home/jrenault/workspace/adomvi2/notebooks/dataset/images/test/98c656f4-3290-435b-94a9-61ec88f0baa4.WEBP: 320x640 1 AFV, 19.2ms\n",
      "image 230/333 /home/jrenault/workspace/adomvi2/notebooks/dataset/images/test/9b5283f4-f8bf-40da-8e97-e2612ca960a8.JPEG: 416x640 2 AFVs, 10.3ms\n",
      "image 231/333 /home/jrenault/workspace/adomvi2/notebooks/dataset/images/test/a022ee18-7511-491f-ae77-fdaef7274a60.WEBP: 416x640 1 AFV, 11.3ms\n",
      "image 232/333 /home/jrenault/workspace/adomvi2/notebooks/dataset/images/test/a2b52bd4-8fc6-498e-8ae5-2d6c8b9b69f3.JPEG: 448x640 1 APC, 23.2ms\n",
      "image 233/333 /home/jrenault/workspace/adomvi2/notebooks/dataset/images/test/a4d55d542b9b8fa6.jpg: 448x640 2 AFVs, 11.6ms\n",
      "image 234/333 /home/jrenault/workspace/adomvi2/notebooks/dataset/images/test/a6600fae268cc186.jpg: 480x640 1 AFV, 21.3ms\n",
      "image 235/333 /home/jrenault/workspace/adomvi2/notebooks/dataset/images/test/a899e96856e3d6e7.jpg: 416x640 4 AFVs, 11.7ms\n",
      "image 236/333 /home/jrenault/workspace/adomvi2/notebooks/dataset/images/test/a905d7512ba7b68c.jpg: 640x640 1 LAV, 19.3ms\n",
      "image 237/333 /home/jrenault/workspace/adomvi2/notebooks/dataset/images/test/a9715e9112ad53c7.jpg: 448x640 1 AFV, 19.4ms\n",
      "image 238/333 /home/jrenault/workspace/adomvi2/notebooks/dataset/images/test/ab5061fbc48be23c.jpg: 448x640 2 AFVs, 1 LAV, 11.5ms\n",
      "image 239/333 /home/jrenault/workspace/adomvi2/notebooks/dataset/images/test/acabe445244c1ddd.jpg: 480x640 3 AFVs, 11.5ms\n",
      "image 240/333 /home/jrenault/workspace/adomvi2/notebooks/dataset/images/test/acf04184ed8876b5.jpg: 448x640 2 AFVs, 11.6ms\n",
      "image 241/333 /home/jrenault/workspace/adomvi2/notebooks/dataset/images/test/ad1cda62-88fe-463f-bd4d-b06fbf901464.JPEG: 384x640 1 AFV, 1 LAV, 13.1ms\n",
      "image 242/333 /home/jrenault/workspace/adomvi2/notebooks/dataset/images/test/ae0d77fd856dc2d7.jpg: 480x640 1 AFV, 10.8ms\n",
      "image 243/333 /home/jrenault/workspace/adomvi2/notebooks/dataset/images/test/b06f8252-b47c-4164-9786-1a550988e55f.JPEG: 384x640 1 LAV, 10.7ms\n",
      "image 244/333 /home/jrenault/workspace/adomvi2/notebooks/dataset/images/test/b0d2439c-24f6-4206-9733-1c2a07ceb258.JPEG: 384x640 1 LAV, 8.8ms\n",
      "image 245/333 /home/jrenault/workspace/adomvi2/notebooks/dataset/images/test/b515f23366c98cbe.jpg: 448x640 1 AFV, 15.8ms\n",
      "image 246/333 /home/jrenault/workspace/adomvi2/notebooks/dataset/images/test/b54b7a8e2ec14ec8.jpg: 448x640 1 AFV, 11.2ms\n",
      "image 247/333 /home/jrenault/workspace/adomvi2/notebooks/dataset/images/test/b5954340b7665c26.jpg: 448x640 3 AFVs, 11.4ms\n",
      "image 248/333 /home/jrenault/workspace/adomvi2/notebooks/dataset/images/test/b85d846dbc861d1c.jpg: 448x640 1 AFV, 11.3ms\n",
      "image 249/333 /home/jrenault/workspace/adomvi2/notebooks/dataset/images/test/b90383e33081021d.jpg: 480x640 1 AFV, 18.8ms\n",
      "image 250/333 /home/jrenault/workspace/adomvi2/notebooks/dataset/images/test/ba3c9e7fb2de1a4c.jpg: 448x640 1 AFV, 18.6ms\n",
      "image 251/333 /home/jrenault/workspace/adomvi2/notebooks/dataset/images/test/c0d3d06b-1eca-435d-adc8-af22af31baed.JPEG: 512x640 1 APC, 18.7ms\n",
      "image 252/333 /home/jrenault/workspace/adomvi2/notebooks/dataset/images/test/c17c2f61f42d1c31.jpg: 448x640 1 AFV, 18.7ms\n",
      "image 253/333 /home/jrenault/workspace/adomvi2/notebooks/dataset/images/test/c4a20f46fcf91c13.jpg: 448x640 1 AFV, 11.5ms\n",
      "image 254/333 /home/jrenault/workspace/adomvi2/notebooks/dataset/images/test/c5c933fb-e13a-4bdc-b2d3-10313e75dd64.JPEG: 384x640 1 LAV, 17.8ms\n",
      "image 255/333 /home/jrenault/workspace/adomvi2/notebooks/dataset/images/test/c72e00ec-a04e-4836-8e53-6e154e757db7.JPEG: 512x640 1 AFV, 12.8ms\n",
      "image 256/333 /home/jrenault/workspace/adomvi2/notebooks/dataset/images/test/c7b83b747bc28d94.jpg: 544x640 3 AFVs, 12.4ms\n",
      "image 257/333 /home/jrenault/workspace/adomvi2/notebooks/dataset/images/test/c8836505-995f-4def-a8d2-27ec0767083c.JPEG: 288x640 1 LAV, 150.5ms\n",
      "image 258/333 /home/jrenault/workspace/adomvi2/notebooks/dataset/images/test/c925faf756935ff7.jpg: 512x640 1 AFV, 10.5ms\n",
      "image 259/333 /home/jrenault/workspace/adomvi2/notebooks/dataset/images/test/c9ce63abf06e7fe4.jpg: 448x640 1 AFV, 18.4ms\n",
      "image 260/333 /home/jrenault/workspace/adomvi2/notebooks/dataset/images/test/cbce1393-0d78-4aef-bce5-17ad700d3eb1.JPEG: 448x640 1 AFV, 13.7ms\n",
      "image 261/333 /home/jrenault/workspace/adomvi2/notebooks/dataset/images/test/cf195f80-c7e0-4d65-8922-19b2c2acaea1.JPEG: 480x640 1 LAV, 18.9ms\n",
      "image 262/333 /home/jrenault/workspace/adomvi2/notebooks/dataset/images/test/d056682c73703115.jpg: 640x640 1 LAV, 19.5ms\n",
      "image 263/333 /home/jrenault/workspace/adomvi2/notebooks/dataset/images/test/d3240ca1-86e9-4b64-8784-863eedfcc237.WEBP: 448x640 1 APC, 19.3ms\n",
      "image 264/333 /home/jrenault/workspace/adomvi2/notebooks/dataset/images/test/d55965a9ea0eef56.jpg: 448x640 2 AFVs, 14.0ms\n",
      "image 265/333 /home/jrenault/workspace/adomvi2/notebooks/dataset/images/test/d6767610-374d-4f30-be5f-2633b2dd9cd4.JPEG: 384x640 1 AFV, 22.6ms\n",
      "image 266/333 /home/jrenault/workspace/adomvi2/notebooks/dataset/images/test/d80fa1bfdd6d4e8a.jpg: 480x640 2 AFVs, 1 MEV, 23.6ms\n",
      "image 267/333 /home/jrenault/workspace/adomvi2/notebooks/dataset/images/test/d9639517-6451-4011-ade0-9fe8911c2f88.JPEG: 480x640 1 APC, 13.9ms\n",
      "image 268/333 /home/jrenault/workspace/adomvi2/notebooks/dataset/images/test/d996a0e74060e22c.jpg: 512x640 1 AFV, 18.5ms\n",
      "image 269/333 /home/jrenault/workspace/adomvi2/notebooks/dataset/images/test/da82539684a90087.jpg: 480x640 1 AFV, 19.0ms\n",
      "image 270/333 /home/jrenault/workspace/adomvi2/notebooks/dataset/images/test/dbe8bbe0-2573-48c5-8e7b-9f851f6cac56.WEBP: 480x640 2 APCs, 11.1ms\n",
      "image 271/333 /home/jrenault/workspace/adomvi2/notebooks/dataset/images/test/dc36c51296d324c5.jpg: 320x640 2 AFVs, 15.1ms\n",
      "image 272/333 /home/jrenault/workspace/adomvi2/notebooks/dataset/images/test/dd173ffae69560b3.jpg: 416x640 4 AFVs, 11.7ms\n",
      "image 273/333 /home/jrenault/workspace/adomvi2/notebooks/dataset/images/test/de680b4414308480.jpg: 384x640 8 AFVs, 11.0ms\n",
      "image 274/333 /home/jrenault/workspace/adomvi2/notebooks/dataset/images/test/deb2aa08a1bcd6fe.jpg: 480x640 1 AFV, 1 LAV, 12.9ms\n",
      "image 275/333 /home/jrenault/workspace/adomvi2/notebooks/dataset/images/test/e145b7be75d7fc99.jpg: 512x640 1 AFV, 10.9ms\n",
      "image 276/333 /home/jrenault/workspace/adomvi2/notebooks/dataset/images/test/e22363d7a7086ac9.jpg: 480x640 2 AFVs, 21.5ms\n",
      "image 277/333 /home/jrenault/workspace/adomvi2/notebooks/dataset/images/test/e32ed42d-a0a6-4cc0-bb2a-5a5e94d4c4b5.WEBP: 512x640 1 LAV, 21.0ms\n",
      "image 278/333 /home/jrenault/workspace/adomvi2/notebooks/dataset/images/test/e4af596eaa299d57.jpg: 416x640 2 AFVs, 18.5ms\n",
      "image 279/333 /home/jrenault/workspace/adomvi2/notebooks/dataset/images/test/e4c727a1564da778.jpg: 480x640 1 MEV, 18.7ms\n",
      "image 280/333 /home/jrenault/workspace/adomvi2/notebooks/dataset/images/test/e8030fabe7ba159c.jpg: 480x640 1 AFV, 11.1ms\n",
      "image 281/333 /home/jrenault/workspace/adomvi2/notebooks/dataset/images/test/e94bfc19d23c7e2f.jpg: 480x640 2 AFVs, 11.9ms\n",
      "image 282/333 /home/jrenault/workspace/adomvi2/notebooks/dataset/images/test/eaa9d636094e7be6.jpg: 448x640 3 AFVs, 18.5ms\n",
      "image 283/333 /home/jrenault/workspace/adomvi2/notebooks/dataset/images/test/ec59ff4e-d0dc-4c7d-8b92-ad2cb0b1d46b.WEBP: 448x640 2 LAVs, 11.5ms\n",
      "image 284/333 /home/jrenault/workspace/adomvi2/notebooks/dataset/images/test/ed0320014f04131e.jpg: 448x640 1 AFV, 11.4ms\n",
      "image 285/333 /home/jrenault/workspace/adomvi2/notebooks/dataset/images/test/ee3971adc32c85ed.jpg: 448x640 1 AFV, 11.5ms\n",
      "image 286/333 /home/jrenault/workspace/adomvi2/notebooks/dataset/images/test/f1085e634858ffb9.jpg: 480x640 8 AFVs, 9.8ms\n",
      "image 287/333 /home/jrenault/workspace/adomvi2/notebooks/dataset/images/test/f1a6da54-3819-4387-a712-1d6656efb5b7.JPEG: 384x640 1 LAV, 11.2ms\n",
      "image 288/333 /home/jrenault/workspace/adomvi2/notebooks/dataset/images/test/f21a93d7f43e6ac8.jpg: 448x640 1 AFV, 10.8ms\n",
      "image 289/333 /home/jrenault/workspace/adomvi2/notebooks/dataset/images/test/f3ded5377f1f2298.jpg: 480x640 1 AFV, 12.5ms\n",
      "image 290/333 /home/jrenault/workspace/adomvi2/notebooks/dataset/images/test/f76db3cc93c41727.jpg: 480x640 1 AFV, 9.8ms\n",
      "image 291/333 /home/jrenault/workspace/adomvi2/notebooks/dataset/images/test/f786ffc26db6fd0d.jpg: 448x640 1 AFV, 12.4ms\n",
      "image 292/333 /home/jrenault/workspace/adomvi2/notebooks/dataset/images/test/f7a886f365520180.jpg: 448x640 2 AFVs, 15.0ms\n",
      "image 293/333 /home/jrenault/workspace/adomvi2/notebooks/dataset/images/test/f7d64418696de09c.jpg: 448x640 2 AFVs, 10.8ms\n",
      "image 294/333 /home/jrenault/workspace/adomvi2/notebooks/dataset/images/test/fb469cf5-b590-4c2e-86cb-519ce4ffa886.JPEG: 448x640 1 AFV, 1 LAV, 9.3ms\n",
      "image 295/333 /home/jrenault/workspace/adomvi2/notebooks/dataset/images/test/fe1ed911699189aa.jpg: 448x640 1 AFV, 9.4ms\n",
      "image 296/333 /home/jrenault/workspace/adomvi2/notebooks/dataset/images/test/n04389033_10251.JPEG: 480x640 2 AFVs, 11.2ms\n",
      "image 297/333 /home/jrenault/workspace/adomvi2/notebooks/dataset/images/test/n04389033_10271.JPEG: 448x640 1 AFV, 11.8ms\n",
      "image 298/333 /home/jrenault/workspace/adomvi2/notebooks/dataset/images/test/n04389033_12442.JPEG: 480x640 1 AFV, 11.5ms\n",
      "image 299/333 /home/jrenault/workspace/adomvi2/notebooks/dataset/images/test/n04389033_14675.JPEG: 512x640 2 AFVs, 11.4ms\n",
      "image 300/333 /home/jrenault/workspace/adomvi2/notebooks/dataset/images/test/n04389033_14900.JPEG: 448x640 1 AFV, 1 MEV, 12.3ms\n",
      "image 301/333 /home/jrenault/workspace/adomvi2/notebooks/dataset/images/test/n04389033_15226.JPEG: 640x448 1 AFV, 12.1ms\n",
      "image 302/333 /home/jrenault/workspace/adomvi2/notebooks/dataset/images/test/n04389033_16408.JPEG: 416x640 2 AFVs, 11.0ms\n",
      "image 303/333 /home/jrenault/workspace/adomvi2/notebooks/dataset/images/test/n04389033_1842.JPEG: 480x640 1 AFV, 28.2ms\n",
      "image 304/333 /home/jrenault/workspace/adomvi2/notebooks/dataset/images/test/n04389033_18555.JPEG: 480x640 1 AFV, 1 APC, 13.8ms\n",
      "image 305/333 /home/jrenault/workspace/adomvi2/notebooks/dataset/images/test/n04389033_19585.JPEG: 448x640 1 AFV, 10.7ms\n",
      "image 306/333 /home/jrenault/workspace/adomvi2/notebooks/dataset/images/test/n04389033_19837.JPEG: 480x640 1 AFV, 9.6ms\n",
      "image 307/333 /home/jrenault/workspace/adomvi2/notebooks/dataset/images/test/n04389033_2043.JPEG: 480x640 2 AFVs, 8.9ms\n",
      "image 308/333 /home/jrenault/workspace/adomvi2/notebooks/dataset/images/test/n04389033_21794.JPEG: 416x640 1 AFV, 10.0ms\n",
      "image 309/333 /home/jrenault/workspace/adomvi2/notebooks/dataset/images/test/n04389033_21964.JPEG: 480x640 1 AFV, 9.4ms\n",
      "image 310/333 /home/jrenault/workspace/adomvi2/notebooks/dataset/images/test/n04389033_23949.JPEG: 480x640 1 AFV, 8.4ms\n",
      "image 311/333 /home/jrenault/workspace/adomvi2/notebooks/dataset/images/test/n04389033_2433.JPEG: 512x640 1 AFV, 9.5ms\n",
      "image 312/333 /home/jrenault/workspace/adomvi2/notebooks/dataset/images/test/n04389033_25311.JPEG: 448x640 1 AFV, 18.5ms\n",
      "image 313/333 /home/jrenault/workspace/adomvi2/notebooks/dataset/images/test/n04389033_2557.JPEG: 480x640 4 AFVs, 20.5ms\n",
      "image 314/333 /home/jrenault/workspace/adomvi2/notebooks/dataset/images/test/n04389033_26896.JPEG: 448x640 1 AFV, 21.1ms\n",
      "image 315/333 /home/jrenault/workspace/adomvi2/notebooks/dataset/images/test/n04389033_2713.JPEG: 448x640 1 AFV, 10.5ms\n",
      "image 316/333 /home/jrenault/workspace/adomvi2/notebooks/dataset/images/test/n04389033_28287.JPEG: 416x640 1 AFV, 18.7ms\n",
      "image 317/333 /home/jrenault/workspace/adomvi2/notebooks/dataset/images/test/n04389033_2868.JPEG: 480x640 1 AFV, 19.7ms\n",
      "image 318/333 /home/jrenault/workspace/adomvi2/notebooks/dataset/images/test/n04389033_29960.JPEG: 448x640 2 AFVs, 22.3ms\n",
      "image 319/333 /home/jrenault/workspace/adomvi2/notebooks/dataset/images/test/n04389033_30976.JPEG: 448x640 1 AFV, 13.1ms\n",
      "image 320/333 /home/jrenault/workspace/adomvi2/notebooks/dataset/images/test/n04389033_31540.JPEG: 480x640 1 AFV, 18.8ms\n",
      "image 321/333 /home/jrenault/workspace/adomvi2/notebooks/dataset/images/test/n04389033_31765.JPEG: 480x640 1 AFV, 1 MEV, 10.7ms\n",
      "image 322/333 /home/jrenault/workspace/adomvi2/notebooks/dataset/images/test/n04389033_32111.JPEG: 320x640 1 AFV, 10.0ms\n",
      "image 323/333 /home/jrenault/workspace/adomvi2/notebooks/dataset/images/test/n04389033_32488.JPEG: 480x640 1 AFV, 10.3ms\n",
      "image 324/333 /home/jrenault/workspace/adomvi2/notebooks/dataset/images/test/n04389033_3777.JPEG: 480x640 1 AFV, 11.3ms\n",
      "image 325/333 /home/jrenault/workspace/adomvi2/notebooks/dataset/images/test/n04389033_4366.JPEG: 480x640 1 AFV, 8.9ms\n",
      "image 326/333 /home/jrenault/workspace/adomvi2/notebooks/dataset/images/test/n04389033_546.JPEG: 608x640 1 AFV, 192.6ms\n",
      "image 327/333 /home/jrenault/workspace/adomvi2/notebooks/dataset/images/test/n04389033_7506.JPEG: 640x512 1 AFV, 18.6ms\n",
      "image 328/333 /home/jrenault/workspace/adomvi2/notebooks/dataset/images/test/n04389033_8194.JPEG: 448x640 1 AFV, 17.8ms\n",
      "image 329/333 /home/jrenault/workspace/adomvi2/notebooks/dataset/images/test/n04389033_843.JPEG: 384x640 1 AFV, 25.4ms\n",
      "image 330/333 /home/jrenault/workspace/adomvi2/notebooks/dataset/images/test/n04389033_9144.JPEG: 480x640 1 AFV, 17.4ms\n",
      "image 331/333 /home/jrenault/workspace/adomvi2/notebooks/dataset/images/test/n04389033_92.JPEG: 448x640 1 AFV, 13.0ms\n",
      "image 332/333 /home/jrenault/workspace/adomvi2/notebooks/dataset/images/test/n04389033_9412.JPEG: 480x640 1 AFV, 23.4ms\n",
      "image 333/333 /home/jrenault/workspace/adomvi2/notebooks/dataset/images/test/null--56-_jpg.rf.2628184265e4c10102020cb70a151e54.jpg: 640x640 (no detections), 21.8ms\n",
      "Speed: 4.5ms preprocess, 20.7ms inference, 6.3ms postprocess per image at shape (1, 3, 640, 640)\n",
      "Results saved to \u001b[1mruns/detect/predict3\u001b[0m\n",
      "331 labels saved to runs/detect/predict3/labels\n"
     ]
    }
   ],
   "source": [
    "from adomvi.yolo.yolo import predict\n",
    "\n",
    "best_model = Path() / results_train_dir / \"weights/best.pt\"\n",
    "results_predict = predict(best_model, source=dataset_dir / \"images/test\")\n",
    "\n",
    "# Load the path of the prediction model results\n",
    "results_predict_dir = Path(results_predict[0].save_dir)"
   ]
  },
  {
   "cell_type": "markdown",
   "id": "71ef120f-376b-4218-ba8b-fdb5baad96c2",
   "metadata": {},
   "source": [
    "### Evaluate model predictions"
   ]
  },
  {
   "cell_type": "markdown",
   "id": "a9c3470a-653b-4552-a750-90238b94039e",
   "metadata": {},
   "source": [
    "We can first evaluate our model by loading the predictions in a Fiftyone dataset view of our test data. We select the images tagged as part of the test set in our dataset."
   ]
  },
  {
   "cell_type": "code",
   "execution_count": 6,
   "id": "0d17c385-0934-41d4-952c-d25364780bbc",
   "metadata": {},
   "outputs": [],
   "source": [
    "# The test split of the dataset\n",
    "test_view = dataset.match_tags(\"test\")"
   ]
  },
  {
   "cell_type": "markdown",
   "id": "20ccadc7-987c-4aff-91ec-d44da3370dde",
   "metadata": {},
   "source": [
    "Then we can load the model predictions as fields of the images in our test view."
   ]
  },
  {
   "cell_type": "code",
   "execution_count": 7,
   "id": "5ebffeaa-46b3-4f96-8e5b-db0531e8d6f8",
   "metadata": {},
   "outputs": [],
   "source": [
    "from adomvi.yolo.utils import add_yolo_detections\n",
    "\n",
    "prediction_field = \"yolov8\"\n",
    "predictions_dir = Path() / results_predict_dir / \"labels\"\n",
    "add_yolo_detections(test_view, prediction_field=prediction_field, predictions_dir=predictions_dir, class_list=[\"AFV\", \"APC\", \"MEV\", \"LAV\"])"
   ]
  },
  {
   "cell_type": "markdown",
   "id": "c06d3a9f-aabe-43a5-b264-c0d935194b0e",
   "metadata": {},
   "source": [
    "Finally, we can evaluate our model's predictions and print the mean Average Precision (mAP)."
   ]
  },
  {
   "cell_type": "code",
   "execution_count": 8,
   "id": "f04724f1-42ff-424c-bc65-b8b7f76d097c",
   "metadata": {},
   "outputs": [
    {
     "name": "stdout",
     "output_type": "stream",
     "text": [
      "Evaluating detections...\n",
      " 100% |█████████████████| 333/333 [1.3s elapsed, 0s remaining, 253.6 samples/s]         \n",
      "Performing IoU sweep...\n",
      " 100% |█████████████████| 333/333 [1.7s elapsed, 0s remaining, 208.9 samples/s]         \n"
     ]
    }
   ],
   "source": [
    "detection_results = test_view.evaluate_detections(\n",
    "    prediction_field, \n",
    "    eval_key=\"eval\",\n",
    "    compute_mAP=True,\n",
    "    gt_field=\"ground_truth\",\n",
    ")"
   ]
  },
  {
   "cell_type": "code",
   "execution_count": 9,
   "id": "ba9326b5-b4fc-49d9-96ff-a21293e8bd86",
   "metadata": {},
   "outputs": [
    {
     "name": "stdout",
     "output_type": "stream",
     "text": [
      "mAP = 0.5429961992710977\n"
     ]
    }
   ],
   "source": [
    "mAP = detection_results.mAP()\n",
    "print(f\"mAP = {mAP}\")"
   ]
  },
  {
   "cell_type": "code",
   "execution_count": 10,
   "id": "6818e918-1a61-4ac7-a403-e1e59b3fe9d4",
   "metadata": {},
   "outputs": [
    {
     "name": "stdout",
     "output_type": "stream",
     "text": [
      "              precision    recall  f1-score   support\n",
      "\n",
      "         AFV       0.82      0.79      0.80       377\n",
      "         APC       0.73      0.69      0.71        64\n",
      "         LAV       0.47      0.69      0.56        26\n",
      "         MEV       0.15      0.75      0.25         4\n",
      "\n",
      "   micro avg       0.75      0.77      0.76       471\n",
      "   macro avg       0.54      0.73      0.58       471\n",
      "weighted avg       0.78      0.77      0.77       471\n",
      "\n"
     ]
    }
   ],
   "source": [
    "detection_results.print_report()"
   ]
  }
 ],
 "metadata": {
  "kernelspec": {
   "display_name": "Python 3 (ipykernel)",
   "language": "python",
   "name": "python3"
  },
  "language_info": {
   "codemirror_mode": {
    "name": "ipython",
    "version": 3
   },
   "file_extension": ".py",
   "mimetype": "text/x-python",
   "name": "python",
   "nbconvert_exporter": "python",
   "pygments_lexer": "ipython3",
   "version": "3.10.14"
  }
 },
 "nbformat": 4,
 "nbformat_minor": 5
}
