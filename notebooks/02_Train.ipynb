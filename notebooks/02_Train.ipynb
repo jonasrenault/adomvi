{
 "cells": [
  {
   "cell_type": "markdown",
   "id": "b16172d3-4aaf-4b8d-b9e1-b67f8322e01d",
   "metadata": {},
   "source": [
    "# Fine-tune a YOLOv8 detection model\n",
    "\n",
    "This notebook will train a [Yolov8](https://github.com/ultralytics/ultralytics) model for tank detection using publicly available annotated images of tanks.\n",
    "\n",
    "As the notebook will run the training with `PyTorch`, it is recommended to have GPUs available. If running in Google Colab, go to Edit > Notebook settings and select GPU hardware acceleration.\n",
    "\n",
    "This notebook expects that the dataset created in the notebook [01_Dataset](./01_Dataset.ipynb) has been saved to disk."
   ]
  },
  {
   "cell_type": "markdown",
   "id": "d3d75f09-636f-4786-9d60-4a672c41c055",
   "metadata": {},
   "source": [
    "### Setup"
   ]
  },
  {
   "cell_type": "code",
   "execution_count": 1,
   "id": "b49a9fd6-7e7e-4f53-b0b0-63b76935b5fc",
   "metadata": {},
   "outputs": [],
   "source": [
    "%load_ext autoreload\n",
    "%autoreload 2"
   ]
  },
  {
   "cell_type": "markdown",
   "id": "e78070ae-5cde-47ef-a394-4cbd74ad3cf7",
   "metadata": {},
   "source": [
    "To start, check GPU support."
   ]
  },
  {
   "cell_type": "code",
   "execution_count": 2,
   "id": "8dc4c32f-48a1-453a-8526-63f79f504b0b",
   "metadata": {},
   "outputs": [
    {
     "name": "stdout",
     "output_type": "stream",
     "text": [
      "Setup complete. Using torch 2.3.0+cu121 (NVIDIA RTX A6000)\n"
     ]
    }
   ],
   "source": [
    "import torch\n",
    "\n",
    "print(f\"Setup complete. Using torch {torch.__version__} ({torch.cuda.get_device_properties(0).name if torch.cuda.is_available() else 'CPU'})\")"
   ]
  },
  {
   "cell_type": "markdown",
   "id": "15382b1e-27bb-4614-b6e2-431ec0dd4967",
   "metadata": {},
   "source": [
    "### Load dataset"
   ]
  },
  {
   "cell_type": "markdown",
   "id": "5ef8e715-e340-4187-a130-7c908114dd53",
   "metadata": {},
   "source": [
    "We'll first load the dataset created on disk."
   ]
  },
  {
   "cell_type": "code",
   "execution_count": 3,
   "id": "ed58948a-0722-4abe-8bef-455309e652af",
   "metadata": {},
   "outputs": [],
   "source": [
    "from pathlib import Path\n",
    "\n",
    "dataset_dir = Path() / \"dataset\""
   ]
  },
  {
   "cell_type": "code",
   "execution_count": 4,
   "id": "031dba9b-53d3-4d09-8c4d-21f4cf15aca3",
   "metadata": {},
   "outputs": [
    {
     "name": "stdout",
     "output_type": "stream",
     "text": []
    },
    {
     "name": "stdout",
     "output_type": "stream",
     "text": [
      " 100% |███████████████| 1299/1299 [1.2s elapsed, 0s remaining, 1.1K samples/s]         \n",
      " 100% |█████████████████| 163/163 [274.9ms elapsed, 0s remaining, 598.5 samples/s]    \n",
      " 100% |█████████████████| 162/162 [127.8ms elapsed, 0s remaining, 1.3K samples/s]     \n"
     ]
    }
   ],
   "source": [
    "import fiftyone as fo\n",
    "\n",
    "# The splits to load\n",
    "splits = [\"train\", \"val\", \"test\"]\n",
    "\n",
    "# Load the dataset, using tags to mark the samples in each split\n",
    "dataset = fo.Dataset()\n",
    "for split in splits:\n",
    "    dataset.add_dir(\n",
    "        dataset_dir=dataset_dir,\n",
    "        dataset_type=fo.types.YOLOv5Dataset,\n",
    "        split=split,\n",
    "        tags=split,\n",
    ")"
   ]
  },
  {
   "cell_type": "code",
   "execution_count": 5,
   "id": "dec0a8e5-e73f-4ea3-b430-a0685292befe",
   "metadata": {},
   "outputs": [
    {
     "name": "stdout",
     "output_type": "stream",
     "text": [
      "Connected to FiftyOne on port 5151 at localhost.\n",
      "If you are not connecting to a remote session, you may need to start a new session and specify a port\n",
      "Session launched. Run `session.show()` to open the App in a cell output.\n"
     ]
    }
   ],
   "source": [
    "session = fo.launch_app(dataset, auto=False)"
   ]
  },
  {
   "cell_type": "code",
   "execution_count": 6,
   "id": "32557b80-147f-4628-963e-b0b4c41342f4",
   "metadata": {},
   "outputs": [
    {
     "data": {
      "application/javascript": [
       "window.open('http://localhost:5151/');"
      ],
      "text/plain": [
       "<IPython.core.display.Javascript object>"
      ]
     },
     "metadata": {},
     "output_type": "display_data"
    }
   ],
   "source": [
    "session.open_tab()"
   ]
  },
  {
   "cell_type": "markdown",
   "id": "55a0513e-7034-4949-b2f7-07423bfdfaca",
   "metadata": {},
   "source": [
    "### Train a YoloV8 model"
   ]
  },
  {
   "cell_type": "markdown",
   "id": "5c987c05-848b-439e-8705-0735b100180f",
   "metadata": {},
   "source": [
    "We can now train a YoloV8 base model on our exported dataset. We use the `yolov8n.pt` (nano) model, which is the smallest, but larger models are available from ultralytics. Simply replace `yolov8n.pt` with the [right model](https://docs.ultralytics.com/models/yolov8/#key-features)."
   ]
  },
  {
   "cell_type": "code",
   "execution_count": 7,
   "id": "b6999159-b029-4cd7-97ed-68b40311cbc8",
   "metadata": {},
   "outputs": [
    {
     "name": "stdout",
     "output_type": "stream",
     "text": [
      "Ultralytics YOLOv8.2.28 🚀 Python-3.10.14 torch-2.3.0+cu121 CUDA:0 (NVIDIA RTX A6000, 48677MiB)\n",
      "                                                            CUDA:1 (NVIDIA RTX A6000, 48655MiB)\n",
      "\u001b[34m\u001b[1mengine/trainer: \u001b[0mtask=detect, mode=train, model=yolov8m.pt, data=dataset/dataset.yaml, epochs=60, time=None, patience=100, batch=64, imgsz=640, save=True, save_period=-1, cache=False, device=[0, 1], workers=8, project=None, name=train, exist_ok=False, pretrained=True, optimizer=auto, verbose=True, seed=0, deterministic=True, single_cls=False, rect=False, cos_lr=False, close_mosaic=10, resume=False, amp=True, fraction=1.0, profile=False, freeze=None, multi_scale=False, overlap_mask=True, mask_ratio=4, dropout=0.0, val=True, split=val, save_json=False, save_hybrid=False, conf=None, iou=0.7, max_det=300, half=False, dnn=False, plots=True, source=None, vid_stride=1, stream_buffer=False, visualize=False, augment=False, agnostic_nms=False, classes=None, retina_masks=False, embed=None, show=False, save_frames=False, save_txt=False, save_conf=False, save_crop=False, show_labels=True, show_conf=True, show_boxes=True, line_width=None, format=torchscript, keras=False, optimize=False, int8=False, dynamic=False, simplify=False, opset=None, workspace=4, nms=False, lr0=0.01, lrf=0.01, momentum=0.937, weight_decay=0.0005, warmup_epochs=3.0, warmup_momentum=0.8, warmup_bias_lr=0.1, box=7.5, cls=0.5, dfl=1.5, pose=12.0, kobj=1.0, label_smoothing=0.0, nbs=64, hsv_h=0.015, hsv_s=0.7, hsv_v=0.4, degrees=0.0, translate=0.1, scale=0.5, shear=0.0, perspective=0.0, flipud=0.0, fliplr=0.5, bgr=0.0, mosaic=1.0, mixup=0.0, copy_paste=0.0, auto_augment=randaugment, erasing=0.4, crop_fraction=1.0, cfg=None, tracker=botsort.yaml, save_dir=runs/detect/train\n",
      "Overriding model.yaml nc=80 with nc=1\n",
      "\n",
      "                   from  n    params  module                                       arguments                     \n",
      "  0                  -1  1      1392  ultralytics.nn.modules.conv.Conv             [3, 48, 3, 2]                 \n",
      "  1                  -1  1     41664  ultralytics.nn.modules.conv.Conv             [48, 96, 3, 2]                \n",
      "  2                  -1  2    111360  ultralytics.nn.modules.block.C2f             [96, 96, 2, True]             \n",
      "  3                  -1  1    166272  ultralytics.nn.modules.conv.Conv             [96, 192, 3, 2]               \n",
      "  4                  -1  4    813312  ultralytics.nn.modules.block.C2f             [192, 192, 4, True]           \n",
      "  5                  -1  1    664320  ultralytics.nn.modules.conv.Conv             [192, 384, 3, 2]              \n",
      "  6                  -1  4   3248640  ultralytics.nn.modules.block.C2f             [384, 384, 4, True]           \n",
      "  7                  -1  1   1991808  ultralytics.nn.modules.conv.Conv             [384, 576, 3, 2]              \n",
      "  8                  -1  2   3985920  ultralytics.nn.modules.block.C2f             [576, 576, 2, True]           \n",
      "  9                  -1  1    831168  ultralytics.nn.modules.block.SPPF            [576, 576, 5]                 \n",
      " 10                  -1  1         0  torch.nn.modules.upsampling.Upsample         [None, 2, 'nearest']          \n",
      " 11             [-1, 6]  1         0  ultralytics.nn.modules.conv.Concat           [1]                           \n",
      " 12                  -1  2   1993728  ultralytics.nn.modules.block.C2f             [960, 384, 2]                 \n",
      " 13                  -1  1         0  torch.nn.modules.upsampling.Upsample         [None, 2, 'nearest']          \n",
      " 14             [-1, 4]  1         0  ultralytics.nn.modules.conv.Concat           [1]                           \n",
      " 15                  -1  2    517632  ultralytics.nn.modules.block.C2f             [576, 192, 2]                 \n",
      " 16                  -1  1    332160  ultralytics.nn.modules.conv.Conv             [192, 192, 3, 2]              \n",
      " 17            [-1, 12]  1         0  ultralytics.nn.modules.conv.Concat           [1]                           \n",
      " 18                  -1  2   1846272  ultralytics.nn.modules.block.C2f             [576, 384, 2]                 \n",
      " 19                  -1  1   1327872  ultralytics.nn.modules.conv.Conv             [384, 384, 3, 2]              \n",
      " 20             [-1, 9]  1         0  ultralytics.nn.modules.conv.Concat           [1]                           \n",
      " 21                  -1  2   4207104  ultralytics.nn.modules.block.C2f             [960, 576, 2]                 \n",
      " 22        [15, 18, 21]  1   3776275  ultralytics.nn.modules.head.Detect           [1, [192, 384, 576]]          \n",
      "Model summary: 295 layers, 25856899 parameters, 25856883 gradients, 79.1 GFLOPs\n",
      "\n",
      "Transferred 469/475 items from pretrained weights\n",
      "\u001b[34m\u001b[1mDDP:\u001b[0m debug command /home/jrenault/mambaforge/envs/adomvi2/bin/python -m torch.distributed.run --nproc_per_node 2 --master_port 60101 /home/jrenault/.config/Ultralytics/DDP/_temp_ayr6qiwn140631817790816.py\n",
      "Ultralytics YOLOv8.2.28 🚀 Python-3.10.14 torch-2.3.0+cu121 CUDA:0 (NVIDIA RTX A6000, 48677MiB)\n",
      "                                                            CUDA:1 (NVIDIA RTX A6000, 48655MiB)\n",
      "Overriding model.yaml nc=80 with nc=1\n",
      "Transferred 469/475 items from pretrained weights\n",
      "Freezing layer 'model.22.dfl.conv.weight'\n",
      "\u001b[34m\u001b[1mAMP: \u001b[0mrunning Automatic Mixed Precision (AMP) checks with YOLOv8n...\n"
     ]
    },
    {
     "name": "stderr",
     "output_type": "stream",
     "text": [
      "/home/jrenault/mambaforge/envs/adomvi2/lib/python3.10/site-packages/torch/nn/modules/conv.py:456: UserWarning: Plan failed with a cudnnException: CUDNN_BACKEND_EXECUTION_PLAN_DESCRIPTOR: cudnnFinalize Descriptor Failed cudnn_status: CUDNN_STATUS_NOT_SUPPORTED (Triggered internally at ../aten/src/ATen/native/cudnn/Conv_v8.cpp:919.)\n",
      "  return F.conv2d(input, weight, bias, self.stride,\n"
     ]
    },
    {
     "name": "stdout",
     "output_type": "stream",
     "text": [
      "\u001b[34m\u001b[1mAMP: \u001b[0mchecks passed ✅\n"
     ]
    },
    {
     "name": "stderr",
     "output_type": "stream",
     "text": [
      "\u001b[34m\u001b[1mtrain: \u001b[0mScanning /home/jrenault/workspace/adomvi2/notebooks/dataset/labels/train.cache... 1299 images, 0 backgrounds, 0 corrupt: 100%|██████████| 1299/1299 [00:00<?, ?it/s]\n",
      "\u001b[34m\u001b[1mval: \u001b[0mScanning /home/jrenault/workspace/adomvi2/notebooks/dataset/labels/val.cache... 163 images, 0 backgrounds, 0 corrupt: 100%|██████████| 163/163 [00:00<?, ?it/s]\n"
     ]
    },
    {
     "name": "stdout",
     "output_type": "stream",
     "text": [
      "Plotting labels to runs/detect/train/labels.jpg... \n",
      "\u001b[34m\u001b[1moptimizer:\u001b[0m 'optimizer=auto' found, ignoring 'lr0=0.01' and 'momentum=0.937' and determining best 'optimizer', 'lr0' and 'momentum' automatically... \n",
      "\u001b[34m\u001b[1moptimizer:\u001b[0m AdamW(lr=0.000714, momentum=0.9) with parameter groups 77 weight(decay=0.0), 84 weight(decay=0.0005), 83 bias(decay=0.0)\n",
      "Image sizes 640 train, 640 val\n",
      "Using 16 dataloader workers\n",
      "Logging results to \u001b[1mruns/detect/train\u001b[0m\n",
      "Starting training for 60 epochs...\n",
      "\n",
      "      Epoch    GPU_mem   box_loss   cls_loss   dfl_loss  Instances       Size\n"
     ]
    },
    {
     "name": "stderr",
     "output_type": "stream",
     "text": [
      "       1/60      13.3G      1.007      1.976      1.414         35        640: 100%|██████████| 21/21 [00:08<00:00,  2.54it/s]\n",
      "                 Class     Images  Instances      Box(P          R      mAP50  mAP50-95):  67%|██████▋   | 2/3 [00:00<00:00,  3.12it/s]/home/jrenault/mambaforge/envs/adomvi2/lib/python3.10/site-packages/torch/nn/modules/conv.py:456: UserWarning: Plan failed with a cudnnException: CUDNN_BACKEND_EXECUTION_PLAN_DESCRIPTOR: cudnnFinalize Descriptor Failed cudnn_status: CUDNN_STATUS_NOT_SUPPORTED (Triggered internally at ../aten/src/ATen/native/cudnn/Conv_v8.cpp:919.)\n",
      "  return F.conv2d(input, weight, bias, self.stride,\n",
      "                 Class     Images  Instances      Box(P          R      mAP50  mAP50-95): 100%|██████████| 3/3 [00:00<00:00,  3.48it/s]\n"
     ]
    },
    {
     "name": "stdout",
     "output_type": "stream",
     "text": [
      "                   all        163        256      0.745      0.718      0.766      0.532\n",
      "\n",
      "      Epoch    GPU_mem   box_loss   cls_loss   dfl_loss  Instances       Size\n"
     ]
    },
    {
     "name": "stderr",
     "output_type": "stream",
     "text": [
      "       2/60      13.5G     0.8912      1.137      1.338         34        640: 100%|██████████| 21/21 [00:06<00:00,  3.14it/s]\n",
      "                 Class     Images  Instances      Box(P          R      mAP50  mAP50-95): 100%|██████████| 3/3 [00:00<00:00,  4.24it/s]\n"
     ]
    },
    {
     "name": "stdout",
     "output_type": "stream",
     "text": [
      "                   all        163        256      0.607      0.656      0.644      0.397\n",
      "\n",
      "      Epoch    GPU_mem   box_loss   cls_loss   dfl_loss  Instances       Size\n"
     ]
    },
    {
     "name": "stderr",
     "output_type": "stream",
     "text": [
      "       3/60      13.5G     0.9352      1.012      1.358         41        640: 100%|██████████| 21/21 [00:06<00:00,  3.13it/s]\n",
      "                 Class     Images  Instances      Box(P          R      mAP50  mAP50-95): 100%|██████████| 3/3 [00:00<00:00,  4.41it/s]\n"
     ]
    },
    {
     "name": "stdout",
     "output_type": "stream",
     "text": [
      "                   all        163        256      0.549      0.582      0.567      0.331\n",
      "\n",
      "      Epoch    GPU_mem   box_loss   cls_loss   dfl_loss  Instances       Size\n"
     ]
    },
    {
     "name": "stderr",
     "output_type": "stream",
     "text": [
      "       4/60      13.6G      1.048      1.083      1.458         33        640: 100%|██████████| 21/21 [00:06<00:00,  3.14it/s]\n",
      "                 Class     Images  Instances      Box(P          R      mAP50  mAP50-95): 100%|██████████| 3/3 [00:00<00:00,  4.47it/s]\n"
     ]
    },
    {
     "name": "stdout",
     "output_type": "stream",
     "text": [
      "                   all        163        256      0.343      0.551      0.388      0.195\n",
      "\n",
      "      Epoch    GPU_mem   box_loss   cls_loss   dfl_loss  Instances       Size\n"
     ]
    },
    {
     "name": "stderr",
     "output_type": "stream",
     "text": [
      "       5/60      13.5G      1.112      1.176      1.506         29        640: 100%|██████████| 21/21 [00:06<00:00,  3.15it/s]\n",
      "                 Class     Images  Instances      Box(P          R      mAP50  mAP50-95): 100%|██████████| 3/3 [00:00<00:00,  4.55it/s]\n"
     ]
    },
    {
     "name": "stdout",
     "output_type": "stream",
     "text": [
      "                   all        163        256     0.0735      0.379     0.0509     0.0156\n",
      "\n",
      "      Epoch    GPU_mem   box_loss   cls_loss   dfl_loss  Instances       Size\n"
     ]
    },
    {
     "name": "stderr",
     "output_type": "stream",
     "text": [
      "       6/60      13.5G      1.136      1.142      1.507         38        640: 100%|██████████| 21/21 [00:06<00:00,  3.14it/s]\n",
      "                 Class     Images  Instances      Box(P          R      mAP50  mAP50-95): 100%|██████████| 3/3 [00:00<00:00,  4.58it/s]\n"
     ]
    },
    {
     "name": "stdout",
     "output_type": "stream",
     "text": [
      "                   all        163        256      0.138      0.535      0.107     0.0492\n",
      "\n",
      "      Epoch    GPU_mem   box_loss   cls_loss   dfl_loss  Instances       Size\n"
     ]
    },
    {
     "name": "stderr",
     "output_type": "stream",
     "text": [
      "       7/60      13.5G      1.129      1.124      1.504         30        640: 100%|██████████| 21/21 [00:06<00:00,  3.14it/s]\n",
      "                 Class     Images  Instances      Box(P          R      mAP50  mAP50-95): 100%|██████████| 3/3 [00:00<00:00,  4.56it/s]\n"
     ]
    },
    {
     "name": "stdout",
     "output_type": "stream",
     "text": [
      "                   all        163        256      0.195      0.344      0.137     0.0508\n",
      "\n",
      "      Epoch    GPU_mem   box_loss   cls_loss   dfl_loss  Instances       Size\n"
     ]
    },
    {
     "name": "stderr",
     "output_type": "stream",
     "text": [
      "       8/60      13.5G        1.1      1.092      1.488         37        640: 100%|██████████| 21/21 [00:06<00:00,  3.17it/s]\n",
      "                 Class     Images  Instances      Box(P          R      mAP50  mAP50-95): 100%|██████████| 3/3 [00:00<00:00,  4.38it/s]\n"
     ]
    },
    {
     "name": "stdout",
     "output_type": "stream",
     "text": [
      "                   all        163        256      0.582      0.488      0.471      0.249\n",
      "\n",
      "      Epoch    GPU_mem   box_loss   cls_loss   dfl_loss  Instances       Size\n"
     ]
    },
    {
     "name": "stderr",
     "output_type": "stream",
     "text": [
      "       9/60      13.5G      1.092      1.062      1.467         36        640: 100%|██████████| 21/21 [00:06<00:00,  3.12it/s]\n",
      "                 Class     Images  Instances      Box(P          R      mAP50  mAP50-95): 100%|██████████| 3/3 [00:00<00:00,  4.38it/s]\n"
     ]
    },
    {
     "name": "stdout",
     "output_type": "stream",
     "text": [
      "                   all        163        256      0.739      0.727       0.74      0.436\n",
      "\n",
      "      Epoch    GPU_mem   box_loss   cls_loss   dfl_loss  Instances       Size\n"
     ]
    },
    {
     "name": "stderr",
     "output_type": "stream",
     "text": [
      "      10/60      13.6G      1.068       1.03      1.457         43        640: 100%|██████████| 21/21 [00:06<00:00,  3.13it/s]\n",
      "                 Class     Images  Instances      Box(P          R      mAP50  mAP50-95): 100%|██████████| 3/3 [00:00<00:00,  4.58it/s]\n"
     ]
    },
    {
     "name": "stdout",
     "output_type": "stream",
     "text": [
      "                   all        163        256      0.738      0.626       0.68      0.407\n",
      "\n",
      "      Epoch    GPU_mem   box_loss   cls_loss   dfl_loss  Instances       Size\n"
     ]
    },
    {
     "name": "stderr",
     "output_type": "stream",
     "text": [
      "      11/60      13.5G          1     0.9971      1.414         32        640: 100%|██████████| 21/21 [00:06<00:00,  3.13it/s]\n",
      "                 Class     Images  Instances      Box(P          R      mAP50  mAP50-95): 100%|██████████| 3/3 [00:00<00:00,  4.60it/s]\n"
     ]
    },
    {
     "name": "stdout",
     "output_type": "stream",
     "text": [
      "                   all        163        256      0.834      0.586      0.697      0.448\n",
      "\n",
      "      Epoch    GPU_mem   box_loss   cls_loss   dfl_loss  Instances       Size\n"
     ]
    },
    {
     "name": "stderr",
     "output_type": "stream",
     "text": [
      "      12/60      13.5G     0.9893     0.9774      1.403         43        640: 100%|██████████| 21/21 [00:06<00:00,  3.13it/s]\n",
      "                 Class     Images  Instances      Box(P          R      mAP50  mAP50-95): 100%|██████████| 3/3 [00:00<00:00,  4.40it/s]\n"
     ]
    },
    {
     "name": "stdout",
     "output_type": "stream",
     "text": [
      "                   all        163        256       0.74      0.629      0.688      0.411\n",
      "\n",
      "      Epoch    GPU_mem   box_loss   cls_loss   dfl_loss  Instances       Size\n"
     ]
    },
    {
     "name": "stderr",
     "output_type": "stream",
     "text": [
      "      13/60      13.5G     0.9369     0.8724       1.37         26        640: 100%|██████████| 21/21 [00:06<00:00,  3.11it/s]\n",
      "                 Class     Images  Instances      Box(P          R      mAP50  mAP50-95): 100%|██████████| 3/3 [00:00<00:00,  4.54it/s]\n"
     ]
    },
    {
     "name": "stdout",
     "output_type": "stream",
     "text": [
      "                   all        163        256       0.81      0.613      0.693      0.426\n",
      "\n",
      "      Epoch    GPU_mem   box_loss   cls_loss   dfl_loss  Instances       Size\n"
     ]
    },
    {
     "name": "stderr",
     "output_type": "stream",
     "text": [
      "      14/60      13.5G     0.9289     0.8705      1.352         34        640: 100%|██████████| 21/21 [00:06<00:00,  3.14it/s]\n",
      "                 Class     Images  Instances      Box(P          R      mAP50  mAP50-95): 100%|██████████| 3/3 [00:00<00:00,  4.50it/s]\n"
     ]
    },
    {
     "name": "stdout",
     "output_type": "stream",
     "text": [
      "                   all        163        256      0.842      0.668       0.77      0.502\n",
      "\n",
      "      Epoch    GPU_mem   box_loss   cls_loss   dfl_loss  Instances       Size\n"
     ]
    },
    {
     "name": "stderr",
     "output_type": "stream",
     "text": [
      "      15/60      13.5G     0.9061      0.875      1.342         28        640: 100%|██████████| 21/21 [00:06<00:00,  3.16it/s]\n",
      "                 Class     Images  Instances      Box(P          R      mAP50  mAP50-95): 100%|██████████| 3/3 [00:00<00:00,  4.48it/s]\n"
     ]
    },
    {
     "name": "stdout",
     "output_type": "stream",
     "text": [
      "                   all        163        256       0.87      0.672      0.772        0.5\n",
      "\n",
      "      Epoch    GPU_mem   box_loss   cls_loss   dfl_loss  Instances       Size\n"
     ]
    },
    {
     "name": "stderr",
     "output_type": "stream",
     "text": [
      "      16/60      13.6G     0.8958     0.8367      1.329         27        640: 100%|██████████| 21/21 [00:06<00:00,  3.11it/s]\n",
      "                 Class     Images  Instances      Box(P          R      mAP50  mAP50-95): 100%|██████████| 3/3 [00:00<00:00,  4.43it/s]\n"
     ]
    },
    {
     "name": "stdout",
     "output_type": "stream",
     "text": [
      "                   all        163        256      0.795      0.727      0.784      0.482\n",
      "\n",
      "      Epoch    GPU_mem   box_loss   cls_loss   dfl_loss  Instances       Size\n"
     ]
    },
    {
     "name": "stderr",
     "output_type": "stream",
     "text": [
      "      17/60      13.5G     0.8482     0.7909      1.291         42        640: 100%|██████████| 21/21 [00:06<00:00,  3.11it/s]\n",
      "                 Class     Images  Instances      Box(P          R      mAP50  mAP50-95): 100%|██████████| 3/3 [00:00<00:00,  4.54it/s]\n"
     ]
    },
    {
     "name": "stdout",
     "output_type": "stream",
     "text": [
      "                   all        163        256      0.851      0.668      0.771      0.512\n",
      "\n",
      "      Epoch    GPU_mem   box_loss   cls_loss   dfl_loss  Instances       Size\n"
     ]
    },
    {
     "name": "stderr",
     "output_type": "stream",
     "text": [
      "      18/60      13.5G     0.8731     0.8109      1.314         30        640: 100%|██████████| 21/21 [00:07<00:00,  2.99it/s]\n",
      "                 Class     Images  Instances      Box(P          R      mAP50  mAP50-95): 100%|██████████| 3/3 [00:00<00:00,  4.16it/s]\n"
     ]
    },
    {
     "name": "stdout",
     "output_type": "stream",
     "text": [
      "                   all        163        256      0.808      0.672      0.771      0.496\n",
      "\n",
      "      Epoch    GPU_mem   box_loss   cls_loss   dfl_loss  Instances       Size\n"
     ]
    },
    {
     "name": "stderr",
     "output_type": "stream",
     "text": [
      "      19/60      13.6G     0.8714     0.8088      1.318         26        640: 100%|██████████| 21/21 [00:06<00:00,  3.10it/s]\n",
      "                 Class     Images  Instances      Box(P          R      mAP50  mAP50-95): 100%|██████████| 3/3 [00:00<00:00,  4.28it/s]\n"
     ]
    },
    {
     "name": "stdout",
     "output_type": "stream",
     "text": [
      "                   all        163        256      0.828      0.735      0.799      0.546\n",
      "\n",
      "      Epoch    GPU_mem   box_loss   cls_loss   dfl_loss  Instances       Size\n"
     ]
    },
    {
     "name": "stderr",
     "output_type": "stream",
     "text": [
      "      20/60      13.5G     0.8455     0.7793      1.306         37        640: 100%|██████████| 21/21 [00:06<00:00,  3.13it/s]\n",
      "                 Class     Images  Instances      Box(P          R      mAP50  mAP50-95): 100%|██████████| 3/3 [00:00<00:00,  4.45it/s]\n"
     ]
    },
    {
     "name": "stdout",
     "output_type": "stream",
     "text": [
      "                   all        163        256      0.807      0.715      0.799      0.528\n",
      "\n",
      "      Epoch    GPU_mem   box_loss   cls_loss   dfl_loss  Instances       Size\n"
     ]
    },
    {
     "name": "stderr",
     "output_type": "stream",
     "text": [
      "      21/60      13.5G     0.8452     0.7796      1.305         30        640: 100%|██████████| 21/21 [00:06<00:00,  3.12it/s]\n",
      "                 Class     Images  Instances      Box(P          R      mAP50  mAP50-95): 100%|██████████| 3/3 [00:00<00:00,  4.46it/s]\n"
     ]
    },
    {
     "name": "stdout",
     "output_type": "stream",
     "text": [
      "                   all        163        256      0.846      0.734      0.807      0.528\n",
      "\n",
      "      Epoch    GPU_mem   box_loss   cls_loss   dfl_loss  Instances       Size\n"
     ]
    },
    {
     "name": "stderr",
     "output_type": "stream",
     "text": [
      "      22/60      13.5G     0.8061     0.7507      1.256         35        640: 100%|██████████| 21/21 [00:06<00:00,  3.11it/s]\n",
      "                 Class     Images  Instances      Box(P          R      mAP50  mAP50-95): 100%|██████████| 3/3 [00:00<00:00,  4.50it/s]\n"
     ]
    },
    {
     "name": "stdout",
     "output_type": "stream",
     "text": [
      "                   all        163        256      0.859      0.689      0.811       0.57\n",
      "\n",
      "      Epoch    GPU_mem   box_loss   cls_loss   dfl_loss  Instances       Size\n"
     ]
    },
    {
     "name": "stderr",
     "output_type": "stream",
     "text": [
      "      23/60      13.6G     0.8112     0.7493      1.264         37        640: 100%|██████████| 21/21 [00:06<00:00,  3.11it/s]\n",
      "                 Class     Images  Instances      Box(P          R      mAP50  mAP50-95): 100%|██████████| 3/3 [00:00<00:00,  4.54it/s]\n"
     ]
    },
    {
     "name": "stdout",
     "output_type": "stream",
     "text": [
      "                   all        163        256      0.814      0.738      0.793      0.543\n",
      "\n",
      "      Epoch    GPU_mem   box_loss   cls_loss   dfl_loss  Instances       Size\n"
     ]
    },
    {
     "name": "stderr",
     "output_type": "stream",
     "text": [
      "      24/60      13.5G     0.8137     0.7184      1.263         37        640: 100%|██████████| 21/21 [00:06<00:00,  3.09it/s]\n",
      "                 Class     Images  Instances      Box(P          R      mAP50  mAP50-95): 100%|██████████| 3/3 [00:00<00:00,  4.61it/s]\n"
     ]
    },
    {
     "name": "stdout",
     "output_type": "stream",
     "text": [
      "                   all        163        256      0.874      0.756      0.825       0.58\n",
      "\n",
      "      Epoch    GPU_mem   box_loss   cls_loss   dfl_loss  Instances       Size\n"
     ]
    },
    {
     "name": "stderr",
     "output_type": "stream",
     "text": [
      "      25/60      13.5G      0.789     0.7154      1.254         32        640: 100%|██████████| 21/21 [00:06<00:00,  3.11it/s]\n",
      "                 Class     Images  Instances      Box(P          R      mAP50  mAP50-95): 100%|██████████| 3/3 [00:00<00:00,  4.48it/s]\n"
     ]
    },
    {
     "name": "stdout",
     "output_type": "stream",
     "text": [
      "                   all        163        256      0.828      0.791      0.837      0.575\n",
      "\n",
      "      Epoch    GPU_mem   box_loss   cls_loss   dfl_loss  Instances       Size\n"
     ]
    },
    {
     "name": "stderr",
     "output_type": "stream",
     "text": [
      "      26/60      13.5G     0.7732     0.6957      1.247         48        640: 100%|██████████| 21/21 [00:06<00:00,  3.11it/s]\n",
      "                 Class     Images  Instances      Box(P          R      mAP50  mAP50-95): 100%|██████████| 3/3 [00:00<00:00,  4.59it/s]\n"
     ]
    },
    {
     "name": "stdout",
     "output_type": "stream",
     "text": [
      "                   all        163        256      0.848      0.754      0.831      0.598\n",
      "\n",
      "      Epoch    GPU_mem   box_loss   cls_loss   dfl_loss  Instances       Size\n"
     ]
    },
    {
     "name": "stderr",
     "output_type": "stream",
     "text": [
      "      27/60      13.5G     0.7467     0.6537      1.221         30        640: 100%|██████████| 21/21 [00:06<00:00,  3.12it/s]\n",
      "                 Class     Images  Instances      Box(P          R      mAP50  mAP50-95): 100%|██████████| 3/3 [00:00<00:00,  4.59it/s]\n"
     ]
    },
    {
     "name": "stdout",
     "output_type": "stream",
     "text": [
      "                   all        163        256      0.846      0.738      0.808      0.566\n",
      "\n",
      "      Epoch    GPU_mem   box_loss   cls_loss   dfl_loss  Instances       Size\n"
     ]
    },
    {
     "name": "stderr",
     "output_type": "stream",
     "text": [
      "      28/60      13.5G     0.7323     0.6342      1.212         28        640: 100%|██████████| 21/21 [00:06<00:00,  3.11it/s]\n",
      "                 Class     Images  Instances      Box(P          R      mAP50  mAP50-95): 100%|██████████| 3/3 [00:00<00:00,  4.47it/s]\n"
     ]
    },
    {
     "name": "stdout",
     "output_type": "stream",
     "text": [
      "                   all        163        256      0.845      0.719      0.799      0.598\n",
      "\n",
      "      Epoch    GPU_mem   box_loss   cls_loss   dfl_loss  Instances       Size\n"
     ]
    },
    {
     "name": "stderr",
     "output_type": "stream",
     "text": [
      "      29/60      13.5G      0.747     0.6584      1.223         30        640: 100%|██████████| 21/21 [00:06<00:00,  3.13it/s]\n",
      "                 Class     Images  Instances      Box(P          R      mAP50  mAP50-95): 100%|██████████| 3/3 [00:00<00:00,  4.42it/s]\n"
     ]
    },
    {
     "name": "stdout",
     "output_type": "stream",
     "text": [
      "                   all        163        256      0.859      0.759       0.83      0.604\n",
      "\n",
      "      Epoch    GPU_mem   box_loss   cls_loss   dfl_loss  Instances       Size\n"
     ]
    },
    {
     "name": "stderr",
     "output_type": "stream",
     "text": [
      "      30/60      13.6G      0.728     0.6344      1.214         26        640: 100%|██████████| 21/21 [00:06<00:00,  3.05it/s]\n",
      "                 Class     Images  Instances      Box(P          R      mAP50  mAP50-95): 100%|██████████| 3/3 [00:00<00:00,  4.49it/s]\n"
     ]
    },
    {
     "name": "stdout",
     "output_type": "stream",
     "text": [
      "                   all        163        256      0.864      0.773      0.833      0.598\n",
      "\n",
      "      Epoch    GPU_mem   box_loss   cls_loss   dfl_loss  Instances       Size\n"
     ]
    },
    {
     "name": "stderr",
     "output_type": "stream",
     "text": [
      "      31/60      13.5G     0.7165     0.6341      1.192         39        640: 100%|██████████| 21/21 [00:06<00:00,  3.12it/s]\n",
      "                 Class     Images  Instances      Box(P          R      mAP50  mAP50-95): 100%|██████████| 3/3 [00:00<00:00,  4.58it/s]\n"
     ]
    },
    {
     "name": "stdout",
     "output_type": "stream",
     "text": [
      "                   all        163        256      0.874      0.738      0.816      0.614\n",
      "\n",
      "      Epoch    GPU_mem   box_loss   cls_loss   dfl_loss  Instances       Size\n"
     ]
    },
    {
     "name": "stderr",
     "output_type": "stream",
     "text": [
      "      32/60      13.5G     0.7159     0.6334      1.178         53        640: 100%|██████████| 21/21 [00:06<00:00,  3.12it/s]\n",
      "                 Class     Images  Instances      Box(P          R      mAP50  mAP50-95): 100%|██████████| 3/3 [00:00<00:00,  4.60it/s]\n"
     ]
    },
    {
     "name": "stdout",
     "output_type": "stream",
     "text": [
      "                   all        163        256      0.883      0.758      0.834      0.616\n",
      "\n",
      "      Epoch    GPU_mem   box_loss   cls_loss   dfl_loss  Instances       Size\n"
     ]
    },
    {
     "name": "stderr",
     "output_type": "stream",
     "text": [
      "      33/60      13.5G     0.6656     0.5821      1.157         26        640: 100%|██████████| 21/21 [00:06<00:00,  3.13it/s]\n",
      "                 Class     Images  Instances      Box(P          R      mAP50  mAP50-95): 100%|██████████| 3/3 [00:00<00:00,  4.49it/s]\n"
     ]
    },
    {
     "name": "stdout",
     "output_type": "stream",
     "text": [
      "                   all        163        256      0.892      0.742      0.839       0.62\n",
      "\n",
      "      Epoch    GPU_mem   box_loss   cls_loss   dfl_loss  Instances       Size\n"
     ]
    },
    {
     "name": "stderr",
     "output_type": "stream",
     "text": [
      "      34/60      13.5G       0.68     0.5941      1.177         38        640: 100%|██████████| 21/21 [00:06<00:00,  3.11it/s]\n",
      "                 Class     Images  Instances      Box(P          R      mAP50  mAP50-95): 100%|██████████| 3/3 [00:00<00:00,  4.52it/s]\n"
     ]
    },
    {
     "name": "stdout",
     "output_type": "stream",
     "text": [
      "                   all        163        256       0.81      0.782      0.826      0.616\n",
      "\n",
      "      Epoch    GPU_mem   box_loss   cls_loss   dfl_loss  Instances       Size\n"
     ]
    },
    {
     "name": "stderr",
     "output_type": "stream",
     "text": [
      "      35/60      13.5G     0.6968     0.5931      1.182         40        640: 100%|██████████| 21/21 [00:06<00:00,  3.11it/s]\n",
      "                 Class     Images  Instances      Box(P          R      mAP50  mAP50-95): 100%|██████████| 3/3 [00:00<00:00,  4.50it/s]\n"
     ]
    },
    {
     "name": "stdout",
     "output_type": "stream",
     "text": [
      "                   all        163        256      0.844      0.781      0.836      0.597\n",
      "\n",
      "      Epoch    GPU_mem   box_loss   cls_loss   dfl_loss  Instances       Size\n"
     ]
    },
    {
     "name": "stderr",
     "output_type": "stream",
     "text": [
      "      36/60      13.5G     0.6631     0.5687      1.155         31        640: 100%|██████████| 21/21 [00:06<00:00,  3.11it/s]\n",
      "                 Class     Images  Instances      Box(P          R      mAP50  mAP50-95): 100%|██████████| 3/3 [00:00<00:00,  4.59it/s]\n"
     ]
    },
    {
     "name": "stdout",
     "output_type": "stream",
     "text": [
      "                   all        163        256      0.829       0.74      0.818      0.585\n",
      "\n",
      "      Epoch    GPU_mem   box_loss   cls_loss   dfl_loss  Instances       Size\n"
     ]
    },
    {
     "name": "stderr",
     "output_type": "stream",
     "text": [
      "      37/60      13.5G     0.6505     0.5429      1.145         25        640: 100%|██████████| 21/21 [00:06<00:00,  3.11it/s]\n",
      "                 Class     Images  Instances      Box(P          R      mAP50  mAP50-95): 100%|██████████| 3/3 [00:00<00:00,  4.51it/s]\n"
     ]
    },
    {
     "name": "stdout",
     "output_type": "stream",
     "text": [
      "                   all        163        256      0.901      0.707      0.828      0.624\n",
      "\n",
      "      Epoch    GPU_mem   box_loss   cls_loss   dfl_loss  Instances       Size\n"
     ]
    },
    {
     "name": "stderr",
     "output_type": "stream",
     "text": [
      "      38/60      13.5G     0.6265     0.5308      1.147         35        640: 100%|██████████| 21/21 [00:06<00:00,  3.13it/s]\n",
      "                 Class     Images  Instances      Box(P          R      mAP50  mAP50-95): 100%|██████████| 3/3 [00:00<00:00,  4.60it/s]\n"
     ]
    },
    {
     "name": "stdout",
     "output_type": "stream",
     "text": [
      "                   all        163        256      0.895      0.754      0.829      0.625\n",
      "\n",
      "      Epoch    GPU_mem   box_loss   cls_loss   dfl_loss  Instances       Size\n"
     ]
    },
    {
     "name": "stderr",
     "output_type": "stream",
     "text": [
      "      39/60      13.6G     0.6315     0.5456      1.139         33        640: 100%|██████████| 21/21 [00:06<00:00,  3.12it/s]\n",
      "                 Class     Images  Instances      Box(P          R      mAP50  mAP50-95): 100%|██████████| 3/3 [00:00<00:00,  4.48it/s]\n"
     ]
    },
    {
     "name": "stdout",
     "output_type": "stream",
     "text": [
      "                   all        163        256      0.946      0.749      0.849      0.637\n",
      "\n",
      "      Epoch    GPU_mem   box_loss   cls_loss   dfl_loss  Instances       Size\n"
     ]
    },
    {
     "name": "stderr",
     "output_type": "stream",
     "text": [
      "      40/60      13.5G     0.6221     0.5203      1.132         30        640: 100%|██████████| 21/21 [00:06<00:00,  3.11it/s]\n",
      "                 Class     Images  Instances      Box(P          R      mAP50  mAP50-95): 100%|██████████| 3/3 [00:00<00:00,  4.59it/s]\n"
     ]
    },
    {
     "name": "stdout",
     "output_type": "stream",
     "text": [
      "                   all        163        256      0.912      0.719      0.837      0.616\n",
      "\n",
      "      Epoch    GPU_mem   box_loss   cls_loss   dfl_loss  Instances       Size\n"
     ]
    },
    {
     "name": "stderr",
     "output_type": "stream",
     "text": [
      "      41/60      13.5G      0.632     0.5128      1.143         25        640: 100%|██████████| 21/21 [00:06<00:00,  3.12it/s]\n",
      "                 Class     Images  Instances      Box(P          R      mAP50  mAP50-95): 100%|██████████| 3/3 [00:00<00:00,  4.54it/s]\n"
     ]
    },
    {
     "name": "stdout",
     "output_type": "stream",
     "text": [
      "                   all        163        256      0.889      0.746      0.811      0.603\n",
      "\n",
      "      Epoch    GPU_mem   box_loss   cls_loss   dfl_loss  Instances       Size\n"
     ]
    },
    {
     "name": "stderr",
     "output_type": "stream",
     "text": [
      "      42/60      13.5G      0.616     0.5221      1.126         29        640: 100%|██████████| 21/21 [00:06<00:00,  3.11it/s]\n",
      "                 Class     Images  Instances      Box(P          R      mAP50  mAP50-95): 100%|██████████| 3/3 [00:00<00:00,  4.53it/s]\n"
     ]
    },
    {
     "name": "stdout",
     "output_type": "stream",
     "text": [
      "                   all        163        256       0.92      0.711       0.82      0.616\n",
      "\n",
      "      Epoch    GPU_mem   box_loss   cls_loss   dfl_loss  Instances       Size\n"
     ]
    },
    {
     "name": "stderr",
     "output_type": "stream",
     "text": [
      "      43/60      13.6G     0.5918     0.4954       1.11         27        640: 100%|██████████| 21/21 [00:06<00:00,  3.11it/s]\n",
      "                 Class     Images  Instances      Box(P          R      mAP50  mAP50-95): 100%|██████████| 3/3 [00:00<00:00,  4.41it/s]\n"
     ]
    },
    {
     "name": "stdout",
     "output_type": "stream",
     "text": [
      "                   all        163        256      0.909      0.707      0.822       0.62\n",
      "\n",
      "      Epoch    GPU_mem   box_loss   cls_loss   dfl_loss  Instances       Size\n"
     ]
    },
    {
     "name": "stderr",
     "output_type": "stream",
     "text": [
      "      44/60      13.5G     0.6089      0.487      1.126         44        640: 100%|██████████| 21/21 [00:06<00:00,  3.14it/s]\n",
      "                 Class     Images  Instances      Box(P          R      mAP50  mAP50-95): 100%|██████████| 3/3 [00:00<00:00,  4.50it/s]\n"
     ]
    },
    {
     "name": "stdout",
     "output_type": "stream",
     "text": [
      "                   all        163        256      0.878      0.746      0.849      0.637\n",
      "\n",
      "      Epoch    GPU_mem   box_loss   cls_loss   dfl_loss  Instances       Size\n"
     ]
    },
    {
     "name": "stderr",
     "output_type": "stream",
     "text": [
      "      45/60      13.5G     0.5892     0.4708      1.102         37        640: 100%|██████████| 21/21 [00:06<00:00,  3.11it/s]\n",
      "                 Class     Images  Instances      Box(P          R      mAP50  mAP50-95): 100%|██████████| 3/3 [00:00<00:00,  4.57it/s]\n"
     ]
    },
    {
     "name": "stdout",
     "output_type": "stream",
     "text": [
      "                   all        163        256       0.85      0.797      0.859      0.649\n",
      "\n",
      "      Epoch    GPU_mem   box_loss   cls_loss   dfl_loss  Instances       Size\n"
     ]
    },
    {
     "name": "stderr",
     "output_type": "stream",
     "text": [
      "      46/60      13.5G     0.5786     0.4588      1.102         26        640: 100%|██████████| 21/21 [00:06<00:00,  3.10it/s]\n",
      "                 Class     Images  Instances      Box(P          R      mAP50  mAP50-95): 100%|██████████| 3/3 [00:00<00:00,  4.49it/s]\n"
     ]
    },
    {
     "name": "stdout",
     "output_type": "stream",
     "text": [
      "                   all        163        256      0.918       0.77      0.869      0.653\n",
      "\n",
      "      Epoch    GPU_mem   box_loss   cls_loss   dfl_loss  Instances       Size\n"
     ]
    },
    {
     "name": "stderr",
     "output_type": "stream",
     "text": [
      "      47/60      13.5G     0.5566     0.4683      1.096         36        640: 100%|██████████| 21/21 [00:06<00:00,  3.12it/s]\n",
      "                 Class     Images  Instances      Box(P          R      mAP50  mAP50-95): 100%|██████████| 3/3 [00:00<00:00,  4.51it/s]\n"
     ]
    },
    {
     "name": "stdout",
     "output_type": "stream",
     "text": [
      "                   all        163        256      0.863      0.789      0.845      0.632\n",
      "\n",
      "      Epoch    GPU_mem   box_loss   cls_loss   dfl_loss  Instances       Size\n"
     ]
    },
    {
     "name": "stderr",
     "output_type": "stream",
     "text": [
      "      48/60      13.6G     0.5463     0.4479      1.086         42        640: 100%|██████████| 21/21 [00:06<00:00,  3.12it/s]\n",
      "                 Class     Images  Instances      Box(P          R      mAP50  mAP50-95): 100%|██████████| 3/3 [00:00<00:00,  4.63it/s]\n"
     ]
    },
    {
     "name": "stdout",
     "output_type": "stream",
     "text": [
      "                   all        163        256      0.825      0.801      0.846      0.624\n",
      "\n",
      "      Epoch    GPU_mem   box_loss   cls_loss   dfl_loss  Instances       Size\n"
     ]
    },
    {
     "name": "stderr",
     "output_type": "stream",
     "text": [
      "      49/60      13.5G     0.5237     0.4197      1.064         36        640: 100%|██████████| 21/21 [00:06<00:00,  3.08it/s]\n",
      "                 Class     Images  Instances      Box(P          R      mAP50  mAP50-95): 100%|██████████| 3/3 [00:00<00:00,  4.19it/s]\n"
     ]
    },
    {
     "name": "stdout",
     "output_type": "stream",
     "text": [
      "                   all        163        256      0.896      0.801      0.868      0.661\n",
      "\n",
      "      Epoch    GPU_mem   box_loss   cls_loss   dfl_loss  Instances       Size\n"
     ]
    },
    {
     "name": "stderr",
     "output_type": "stream",
     "text": [
      "      50/60      13.5G     0.5338     0.4444      1.082         33        640: 100%|██████████| 21/21 [00:06<00:00,  3.10it/s]\n",
      "                 Class     Images  Instances      Box(P          R      mAP50  mAP50-95): 100%|██████████| 3/3 [00:00<00:00,  4.63it/s]\n"
     ]
    },
    {
     "name": "stdout",
     "output_type": "stream",
     "text": [
      "                   all        163        256       0.89      0.792      0.861      0.651\n",
      "Closing dataloader mosaic\n",
      "\n",
      "      Epoch    GPU_mem   box_loss   cls_loss   dfl_loss  Instances       Size\n"
     ]
    },
    {
     "name": "stderr",
     "output_type": "stream",
     "text": [
      "      51/60      13.5G     0.4649     0.3655      1.019         10        640: 100%|██████████| 21/21 [00:07<00:00,  2.72it/s]\n",
      "                 Class     Images  Instances      Box(P          R      mAP50  mAP50-95): 100%|██████████| 3/3 [00:00<00:00,  4.46it/s]\n"
     ]
    },
    {
     "name": "stdout",
     "output_type": "stream",
     "text": [
      "                   all        163        256      0.869      0.785      0.841      0.628\n",
      "\n",
      "      Epoch    GPU_mem   box_loss   cls_loss   dfl_loss  Instances       Size\n"
     ]
    },
    {
     "name": "stderr",
     "output_type": "stream",
     "text": [
      "      52/60      13.5G     0.4287     0.3094     0.9875         10        640: 100%|██████████| 21/21 [00:06<00:00,  3.16it/s]\n",
      "                 Class     Images  Instances      Box(P          R      mAP50  mAP50-95): 100%|██████████| 3/3 [00:00<00:00,  4.57it/s]\n"
     ]
    },
    {
     "name": "stdout",
     "output_type": "stream",
     "text": [
      "                   all        163        256      0.913      0.742      0.847       0.64\n",
      "\n",
      "      Epoch    GPU_mem   box_loss   cls_loss   dfl_loss  Instances       Size\n"
     ]
    },
    {
     "name": "stderr",
     "output_type": "stream",
     "text": [
      "      53/60      13.5G     0.4219     0.2955     0.9906         12        640: 100%|██████████| 21/21 [00:06<00:00,  3.06it/s]\n",
      "                 Class     Images  Instances      Box(P          R      mAP50  mAP50-95): 100%|██████████| 3/3 [00:00<00:00,  4.52it/s]\n"
     ]
    },
    {
     "name": "stdout",
     "output_type": "stream",
     "text": [
      "                   all        163        256      0.875      0.765      0.859      0.658\n",
      "\n",
      "      Epoch    GPU_mem   box_loss   cls_loss   dfl_loss  Instances       Size\n"
     ]
    },
    {
     "name": "stderr",
     "output_type": "stream",
     "text": [
      "      54/60      13.5G     0.4038     0.2882     0.9705         27        640: 100%|██████████| 21/21 [00:06<00:00,  3.13it/s]\n",
      "                 Class     Images  Instances      Box(P          R      mAP50  mAP50-95): 100%|██████████| 3/3 [00:00<00:00,  4.62it/s]\n"
     ]
    },
    {
     "name": "stdout",
     "output_type": "stream",
     "text": [
      "                   all        163        256      0.877      0.797      0.877       0.67\n",
      "\n",
      "      Epoch    GPU_mem   box_loss   cls_loss   dfl_loss  Instances       Size\n"
     ]
    },
    {
     "name": "stderr",
     "output_type": "stream",
     "text": [
      "      55/60      13.5G     0.4033     0.2825     0.9624         10        640: 100%|██████████| 21/21 [00:06<00:00,  3.14it/s]\n",
      "                 Class     Images  Instances      Box(P          R      mAP50  mAP50-95): 100%|██████████| 3/3 [00:00<00:00,  4.62it/s]\n"
     ]
    },
    {
     "name": "stdout",
     "output_type": "stream",
     "text": [
      "                   all        163        256      0.868      0.789      0.861      0.669\n",
      "\n",
      "      Epoch    GPU_mem   box_loss   cls_loss   dfl_loss  Instances       Size\n"
     ]
    },
    {
     "name": "stderr",
     "output_type": "stream",
     "text": [
      "      56/60      13.5G     0.3829     0.2673      0.951         12        640: 100%|██████████| 21/21 [00:06<00:00,  3.14it/s]\n",
      "                 Class     Images  Instances      Box(P          R      mAP50  mAP50-95): 100%|██████████| 3/3 [00:00<00:00,  4.56it/s]\n"
     ]
    },
    {
     "name": "stdout",
     "output_type": "stream",
     "text": [
      "                   all        163        256      0.898       0.77      0.852      0.662\n",
      "\n",
      "      Epoch    GPU_mem   box_loss   cls_loss   dfl_loss  Instances       Size\n"
     ]
    },
    {
     "name": "stderr",
     "output_type": "stream",
     "text": [
      "      57/60      13.5G     0.3752     0.2641     0.9522         13        640: 100%|██████████| 21/21 [00:06<00:00,  3.13it/s]\n",
      "                 Class     Images  Instances      Box(P          R      mAP50  mAP50-95): 100%|██████████| 3/3 [00:00<00:00,  4.45it/s]\n"
     ]
    },
    {
     "name": "stdout",
     "output_type": "stream",
     "text": [
      "                   all        163        256      0.881      0.781      0.858      0.661\n",
      "\n",
      "      Epoch    GPU_mem   box_loss   cls_loss   dfl_loss  Instances       Size\n"
     ]
    },
    {
     "name": "stderr",
     "output_type": "stream",
     "text": [
      "      58/60      13.6G     0.3687     0.2482     0.9508         19        640: 100%|██████████| 21/21 [00:06<00:00,  3.15it/s]\n",
      "                 Class     Images  Instances      Box(P          R      mAP50  mAP50-95): 100%|██████████| 3/3 [00:00<00:00,  4.44it/s]\n"
     ]
    },
    {
     "name": "stdout",
     "output_type": "stream",
     "text": [
      "                   all        163        256       0.89      0.781      0.862      0.673\n",
      "\n",
      "      Epoch    GPU_mem   box_loss   cls_loss   dfl_loss  Instances       Size\n"
     ]
    },
    {
     "name": "stderr",
     "output_type": "stream",
     "text": [
      "      59/60      13.5G     0.3547     0.2423     0.9437         11        640: 100%|██████████| 21/21 [00:06<00:00,  3.14it/s]\n",
      "                 Class     Images  Instances      Box(P          R      mAP50  mAP50-95): 100%|██████████| 3/3 [00:00<00:00,  4.64it/s]\n"
     ]
    },
    {
     "name": "stdout",
     "output_type": "stream",
     "text": [
      "                   all        163        256      0.885      0.783      0.867      0.673\n",
      "\n",
      "      Epoch    GPU_mem   box_loss   cls_loss   dfl_loss  Instances       Size\n"
     ]
    },
    {
     "name": "stderr",
     "output_type": "stream",
     "text": [
      "      60/60      13.5G     0.3363     0.2315     0.9307         10        640: 100%|██████████| 21/21 [00:06<00:00,  3.14it/s]\n",
      "                 Class     Images  Instances      Box(P          R      mAP50  mAP50-95): 100%|██████████| 3/3 [00:00<00:00,  4.67it/s]\n"
     ]
    },
    {
     "name": "stdout",
     "output_type": "stream",
     "text": [
      "                   all        163        256      0.893      0.777      0.869      0.676\n",
      "\n",
      "60 epochs completed in 0.140 hours.\n",
      "Optimizer stripped from runs/detect/train/weights/last.pt, 52.0MB\n",
      "Optimizer stripped from runs/detect/train/weights/best.pt, 52.0MB\n",
      "\n",
      "Validating runs/detect/train/weights/best.pt...\n",
      "Ultralytics YOLOv8.2.28 🚀 Python-3.10.14 torch-2.3.0+cu121 CUDA:0 (NVIDIA RTX A6000, 48677MiB)\n",
      "                                                            CUDA:1 (NVIDIA RTX A6000, 48655MiB)\n"
     ]
    },
    {
     "name": "stderr",
     "output_type": "stream",
     "text": [
      "/home/jrenault/mambaforge/envs/adomvi2/lib/python3.10/site-packages/torch/nn/modules/conv.py:456: UserWarning: Plan failed with a cudnnException: CUDNN_BACKEND_EXECUTION_PLAN_DESCRIPTOR: cudnnFinalize Descriptor Failed cudnn_status: CUDNN_STATUS_NOT_SUPPORTED (Triggered internally at ../aten/src/ATen/native/cudnn/Conv_v8.cpp:919.)\n",
      "  return F.conv2d(input, weight, bias, self.stride,\n"
     ]
    },
    {
     "name": "stdout",
     "output_type": "stream",
     "text": [
      "Model summary (fused): 218 layers, 25840339 parameters, 0 gradients, 78.7 GFLOPs\n"
     ]
    },
    {
     "name": "stderr",
     "output_type": "stream",
     "text": [
      "                 Class     Images  Instances      Box(P          R      mAP50  mAP50-95): 100%|██████████| 3/3 [00:00<00:00,  3.26it/s]\n"
     ]
    },
    {
     "name": "stdout",
     "output_type": "stream",
     "text": [
      "                   all        163        256      0.893      0.777      0.869      0.677\n",
      "Speed: 0.1ms preprocess, 2.4ms inference, 0.0ms loss, 0.7ms postprocess per image\n",
      "Results saved to \u001b[1mruns/detect/train\u001b[0m\n"
     ]
    }
   ],
   "source": [
    "from adomvi.yolo.yolo import train\n",
    "\n",
    "train(\"yolov8m.pt\", data=dataset_dir / \"dataset.yaml\", batch=64, device=[0, 1])"
   ]
  },
  {
   "cell_type": "markdown",
   "id": "93614090-c4ea-4121-8e85-b85c5d49bec5",
   "metadata": {},
   "source": [
    "### Use the fine-tuned model to predict detections"
   ]
  },
  {
   "cell_type": "markdown",
   "id": "307d024f-a83a-490f-80ff-020165dc8231",
   "metadata": {},
   "source": [
    "Once our model is trained, we can simply use it to predict detections on our test dataset. Simply pass the path to the best model weights and the directory containing the test images to the `predict` function."
   ]
  },
  {
   "cell_type": "code",
   "execution_count": 9,
   "id": "712aefbd-757a-4184-8de6-4203a517f794",
   "metadata": {},
   "outputs": [
    {
     "name": "stdout",
     "output_type": "stream",
     "text": [
      "\n",
      "image 1/162 /home/jrenault/workspace/adomvi2/notebooks/dataset/images/test/00baa6ef7ac4c7f8.jpg: 448x640 2 tanks, 98.6ms\n",
      "image 2/162 /home/jrenault/workspace/adomvi2/notebooks/dataset/images/test/00e1d10e0c4eb95d.jpg: 448x640 1 tank, 5.5ms\n",
      "image 3/162 /home/jrenault/workspace/adomvi2/notebooks/dataset/images/test/01c1bff29e25b149.jpg: 320x640 2 tanks, 96.8ms\n",
      "image 4/162 /home/jrenault/workspace/adomvi2/notebooks/dataset/images/test/02f1626beaddbde2.jpg: 480x640 1 tank, 98.0ms\n",
      "image 5/162 /home/jrenault/workspace/adomvi2/notebooks/dataset/images/test/03819eb2b5b90628.jpg: 448x640 2 tanks, 6.0ms\n",
      "image 6/162 /home/jrenault/workspace/adomvi2/notebooks/dataset/images/test/0410130b4a7e92bb.jpg: 480x640 1 tank, 6.0ms\n",
      "image 7/162 /home/jrenault/workspace/adomvi2/notebooks/dataset/images/test/04386a1683e69585.jpg: 640x608 1 tank, 96.3ms\n",
      "image 8/162 /home/jrenault/workspace/adomvi2/notebooks/dataset/images/test/0456e7f65df9f603.jpg: 384x640 (no detections), 96.8ms\n",
      "image 9/162 /home/jrenault/workspace/adomvi2/notebooks/dataset/images/test/05635fc2ed26e1b6.jpg: 448x640 1 tank, 6.0ms\n",
      "image 10/162 /home/jrenault/workspace/adomvi2/notebooks/dataset/images/test/0623cc9c96617318.jpg: 448x640 1 tank, 5.6ms\n",
      "image 11/162 /home/jrenault/workspace/adomvi2/notebooks/dataset/images/test/0630d98abbe260fe.jpg: 448x640 1 tank, 5.4ms\n",
      "image 12/162 /home/jrenault/workspace/adomvi2/notebooks/dataset/images/test/0743cb95ebef2863.jpg: 448x640 1 tank, 5.4ms\n",
      "image 13/162 /home/jrenault/workspace/adomvi2/notebooks/dataset/images/test/081173aa49c4348f.jpg: 480x640 1 tank, 5.8ms\n",
      "image 14/162 /home/jrenault/workspace/adomvi2/notebooks/dataset/images/test/0818e7009a2d2e04.jpg: 448x640 1 tank, 5.8ms\n",
      "image 15/162 /home/jrenault/workspace/adomvi2/notebooks/dataset/images/test/08794752f8f40af8.jpg: 448x640 1 tank, 5.3ms\n",
      "image 16/162 /home/jrenault/workspace/adomvi2/notebooks/dataset/images/test/0a72fba6291b9b80.jpg: 480x640 3 tanks, 5.7ms\n",
      "image 17/162 /home/jrenault/workspace/adomvi2/notebooks/dataset/images/test/0af4d66572273aaf.jpg: 384x640 1 tank, 5.9ms\n",
      "image 18/162 /home/jrenault/workspace/adomvi2/notebooks/dataset/images/test/0b017d477440b7cd.jpg: 640x480 1 tank, 95.6ms\n",
      "image 19/162 /home/jrenault/workspace/adomvi2/notebooks/dataset/images/test/0c3d30a9e8c1143b.jpg: 512x640 1 tank, 97.7ms\n",
      "image 20/162 /home/jrenault/workspace/adomvi2/notebooks/dataset/images/test/0ca54d48b26f4d20.jpg: 480x640 2 tanks, 6.1ms\n",
      "image 21/162 /home/jrenault/workspace/adomvi2/notebooks/dataset/images/test/0ffa0df2150db516.jpg: 608x640 2 tanks, 94.6ms\n",
      "image 22/162 /home/jrenault/workspace/adomvi2/notebooks/dataset/images/test/1022934d0289a7f1.jpg: 448x640 2 tanks, 5.9ms\n",
      "image 23/162 /home/jrenault/workspace/adomvi2/notebooks/dataset/images/test/10be5edf863db0c1.jpg: 256x640 3 tanks, 98.3ms\n",
      "image 24/162 /home/jrenault/workspace/adomvi2/notebooks/dataset/images/test/16e8b0610e405cac.jpg: 448x640 1 tank, 6.0ms\n",
      "image 25/162 /home/jrenault/workspace/adomvi2/notebooks/dataset/images/test/1b03c41bcbf2a022.jpg: 640x480 2 tanks, 6.2ms\n",
      "image 26/162 /home/jrenault/workspace/adomvi2/notebooks/dataset/images/test/1e5e6ef4a2a05366.jpg: 480x640 2 tanks, 5.8ms\n",
      "image 27/162 /home/jrenault/workspace/adomvi2/notebooks/dataset/images/test/1e935e285a46b4c3.jpg: 448x640 1 tank, 5.8ms\n",
      "image 28/162 /home/jrenault/workspace/adomvi2/notebooks/dataset/images/test/27c8c0956e71b1bb.jpg: 448x640 1 tank, 5.4ms\n",
      "image 29/162 /home/jrenault/workspace/adomvi2/notebooks/dataset/images/test/282b603c8d93806b.jpg: 480x640 1 tank, 5.8ms\n",
      "image 30/162 /home/jrenault/workspace/adomvi2/notebooks/dataset/images/test/2c50097f3d617933.jpg: 480x640 1 tank, 5.4ms\n",
      "image 31/162 /home/jrenault/workspace/adomvi2/notebooks/dataset/images/test/2f144aeaf919c6d6.jpg: 480x640 3 tanks, 5.6ms\n",
      "image 32/162 /home/jrenault/workspace/adomvi2/notebooks/dataset/images/test/2ff4fd318cca3084.jpg: 448x640 1 tank, 5.7ms\n",
      "image 33/162 /home/jrenault/workspace/adomvi2/notebooks/dataset/images/test/33a27cbf400f9eef.jpg: 416x640 1 tank, 97.9ms\n",
      "image 34/162 /home/jrenault/workspace/adomvi2/notebooks/dataset/images/test/353fbff31f6039aa.jpg: 416x640 1 tank, 6.2ms\n",
      "image 35/162 /home/jrenault/workspace/adomvi2/notebooks/dataset/images/test/3854e8238640cc4c.jpg: 448x640 1 tank, 5.9ms\n",
      "image 36/162 /home/jrenault/workspace/adomvi2/notebooks/dataset/images/test/3a66ef4929893c84.jpg: 480x640 1 tank, 6.0ms\n",
      "image 37/162 /home/jrenault/workspace/adomvi2/notebooks/dataset/images/test/3daa3ea2208f8424.jpg: 416x640 1 tank, 5.7ms\n",
      "image 38/162 /home/jrenault/workspace/adomvi2/notebooks/dataset/images/test/40aa4a58f58fb91b.jpg: 480x640 1 tank, 5.8ms\n",
      "image 39/162 /home/jrenault/workspace/adomvi2/notebooks/dataset/images/test/42cfb4f23fc22be8.jpg: 480x640 2 tanks, 5.4ms\n",
      "image 40/162 /home/jrenault/workspace/adomvi2/notebooks/dataset/images/test/485e75d96a3c123d.jpg: 480x640 1 tank, 5.4ms\n",
      "image 41/162 /home/jrenault/workspace/adomvi2/notebooks/dataset/images/test/4c019fc564098de4.jpg: 480x640 1 tank, 5.4ms\n",
      "image 42/162 /home/jrenault/workspace/adomvi2/notebooks/dataset/images/test/4c7dd323cc02e946.jpg: 448x640 1 tank, 5.8ms\n",
      "image 43/162 /home/jrenault/workspace/adomvi2/notebooks/dataset/images/test/524a873b5b00b185.jpg: 448x640 1 tank, 5.3ms\n",
      "image 44/162 /home/jrenault/workspace/adomvi2/notebooks/dataset/images/test/5512787f74b2d996.jpg: 512x640 1 tank, 5.9ms\n",
      "image 45/162 /home/jrenault/workspace/adomvi2/notebooks/dataset/images/test/5568baffb6280b92.jpg: 480x640 4 tanks, 5.9ms\n",
      "image 46/162 /home/jrenault/workspace/adomvi2/notebooks/dataset/images/test/55b1b7a6b295aafe.jpg: 448x640 1 tank, 5.8ms\n",
      "image 47/162 /home/jrenault/workspace/adomvi2/notebooks/dataset/images/test/55cef9f4eafe2ec2.jpg: 448x640 1 tank, 5.3ms\n",
      "image 48/162 /home/jrenault/workspace/adomvi2/notebooks/dataset/images/test/5677daedf1b7dbe7.jpg: 448x640 1 tank, 5.3ms\n",
      "image 49/162 /home/jrenault/workspace/adomvi2/notebooks/dataset/images/test/5755759be6b7b542.jpg: 384x640 1 tank, 6.0ms\n",
      "image 50/162 /home/jrenault/workspace/adomvi2/notebooks/dataset/images/test/57d969b962c7c5bb.jpg: 448x640 1 tank, 5.8ms\n",
      "image 51/162 /home/jrenault/workspace/adomvi2/notebooks/dataset/images/test/5af50421db1ae7ef.jpg: 448x640 1 tank, 5.3ms\n",
      "image 52/162 /home/jrenault/workspace/adomvi2/notebooks/dataset/images/test/5d7491ca3d9554af.jpg: 512x640 1 tank, 5.9ms\n",
      "image 53/162 /home/jrenault/workspace/adomvi2/notebooks/dataset/images/test/5fe8c87743c44b58.jpg: 448x640 1 tank, 5.7ms\n",
      "image 54/162 /home/jrenault/workspace/adomvi2/notebooks/dataset/images/test/61945903dab27d9e.jpg: 320x640 2 tanks, 5.8ms\n",
      "image 55/162 /home/jrenault/workspace/adomvi2/notebooks/dataset/images/test/63b6cbe440a4c377.jpg: 416x640 1 tank, 5.8ms\n",
      "image 56/162 /home/jrenault/workspace/adomvi2/notebooks/dataset/images/test/685b997b03ad5208.jpg: 352x640 3 tanks, 97.6ms\n",
      "image 57/162 /home/jrenault/workspace/adomvi2/notebooks/dataset/images/test/6cf94cec5127602a.jpg: 480x640 1 tank, 6.1ms\n",
      "image 58/162 /home/jrenault/workspace/adomvi2/notebooks/dataset/images/test/6e2ea7312e197bb7.jpg: 448x640 1 tank, 5.9ms\n",
      "image 59/162 /home/jrenault/workspace/adomvi2/notebooks/dataset/images/test/71eb26982a159340.jpg: 448x640 1 tank, 5.5ms\n",
      "image 60/162 /home/jrenault/workspace/adomvi2/notebooks/dataset/images/test/775bf5fd15132b39.jpg: 448x640 1 tank, 5.3ms\n",
      "image 61/162 /home/jrenault/workspace/adomvi2/notebooks/dataset/images/test/7860208cd6e7c759.jpg: 416x640 2 tanks, 5.8ms\n",
      "image 62/162 /home/jrenault/workspace/adomvi2/notebooks/dataset/images/test/7a79e08f8acdb60e.jpg: 448x640 2 tanks, 5.7ms\n",
      "image 63/162 /home/jrenault/workspace/adomvi2/notebooks/dataset/images/test/7c41c389d18c24e3.jpg: 480x640 1 tank, 5.8ms\n",
      "image 64/162 /home/jrenault/workspace/adomvi2/notebooks/dataset/images/test/7dac64d44e05a703.jpg: 480x640 3 tanks, 5.4ms\n",
      "image 65/162 /home/jrenault/workspace/adomvi2/notebooks/dataset/images/test/7dd4d76cf73b0891.jpg: 384x640 1 tank, 5.8ms\n",
      "image 66/162 /home/jrenault/workspace/adomvi2/notebooks/dataset/images/test/8370854a76d4a4b6.jpg: 448x640 1 tank, 5.7ms\n",
      "image 67/162 /home/jrenault/workspace/adomvi2/notebooks/dataset/images/test/8522239081e735c8.jpg: 448x640 2 tanks, 5.3ms\n",
      "image 68/162 /home/jrenault/workspace/adomvi2/notebooks/dataset/images/test/872f62a994f3782e.jpg: 448x640 (no detections), 5.3ms\n",
      "image 69/162 /home/jrenault/workspace/adomvi2/notebooks/dataset/images/test/8826caaf914f27e0.jpg: 448x640 2 tanks, 5.2ms\n",
      "image 70/162 /home/jrenault/workspace/adomvi2/notebooks/dataset/images/test/88f4864248fdded4.jpg: 480x640 1 tank, 5.8ms\n",
      "image 71/162 /home/jrenault/workspace/adomvi2/notebooks/dataset/images/test/8a0bec590e606399.jpg: 448x640 1 tank, 5.8ms\n",
      "image 72/162 /home/jrenault/workspace/adomvi2/notebooks/dataset/images/test/8db139f2a21d7450.jpg: 480x640 1 tank, 5.9ms\n",
      "image 73/162 /home/jrenault/workspace/adomvi2/notebooks/dataset/images/test/902e329e13685a03.jpg: 448x640 1 tank, 5.8ms\n",
      "image 74/162 /home/jrenault/workspace/adomvi2/notebooks/dataset/images/test/9185511e0baf0497.jpg: 384x640 1 tank, 5.9ms\n",
      "image 75/162 /home/jrenault/workspace/adomvi2/notebooks/dataset/images/test/988707c5783689ce.jpg: 448x640 2 tanks, 5.8ms\n",
      "image 76/162 /home/jrenault/workspace/adomvi2/notebooks/dataset/images/test/992ddb9aa11e82ca.jpg: 480x640 1 tank, 5.9ms\n",
      "image 77/162 /home/jrenault/workspace/adomvi2/notebooks/dataset/images/test/9a46cbd2e4f8dfa6.jpg: 512x640 1 tank, 5.9ms\n",
      "image 78/162 /home/jrenault/workspace/adomvi2/notebooks/dataset/images/test/9d9089cadb1a2d2e.jpg: 480x640 1 tank, 5.9ms\n",
      "image 79/162 /home/jrenault/workspace/adomvi2/notebooks/dataset/images/test/a01c74e0504e13ca.jpg: 480x640 1 tank, 5.4ms\n",
      "image 80/162 /home/jrenault/workspace/adomvi2/notebooks/dataset/images/test/a1b291e0338e4349.jpg: 640x480 1 tank, 5.7ms\n",
      "image 81/162 /home/jrenault/workspace/adomvi2/notebooks/dataset/images/test/a1d2ecf8bd302c27.jpg: 480x640 1 tank, 5.8ms\n",
      "image 82/162 /home/jrenault/workspace/adomvi2/notebooks/dataset/images/test/a2f3c2ba48af6b39.jpg: 512x640 2 tanks, 5.9ms\n",
      "image 83/162 /home/jrenault/workspace/adomvi2/notebooks/dataset/images/test/a33847cc6b573c97.jpg: 480x640 1 tank, 5.8ms\n",
      "image 84/162 /home/jrenault/workspace/adomvi2/notebooks/dataset/images/test/a354e28199a2815a.jpg: 448x640 1 tank, 5.7ms\n",
      "image 85/162 /home/jrenault/workspace/adomvi2/notebooks/dataset/images/test/a73db085216aef47.jpg: 448x640 1 tank, 5.3ms\n",
      "image 86/162 /home/jrenault/workspace/adomvi2/notebooks/dataset/images/test/a899e96856e3d6e7.jpg: 416x640 6 tanks, 5.8ms\n",
      "image 87/162 /home/jrenault/workspace/adomvi2/notebooks/dataset/images/test/a905d7512ba7b68c.jpg: 640x640 1 tank, 5.8ms\n",
      "image 88/162 /home/jrenault/workspace/adomvi2/notebooks/dataset/images/test/ab81bfcaa8526559.jpg: 416x640 3 tanks, 5.7ms\n",
      "image 89/162 /home/jrenault/workspace/adomvi2/notebooks/dataset/images/test/abf6f722083976e5.jpg: 448x640 1 tank, 5.8ms\n",
      "image 90/162 /home/jrenault/workspace/adomvi2/notebooks/dataset/images/test/acb0ab3c27848348.jpg: 448x640 2 tanks, 5.3ms\n",
      "image 91/162 /home/jrenault/workspace/adomvi2/notebooks/dataset/images/test/ad0e07536ba99aa6.jpg: 480x640 1 tank, 8.2ms\n",
      "image 92/162 /home/jrenault/workspace/adomvi2/notebooks/dataset/images/test/b10b6e26eec43fae.jpg: 480x640 4 tanks, 9.9ms\n",
      "image 93/162 /home/jrenault/workspace/adomvi2/notebooks/dataset/images/test/b388ee77a7f0ba11.jpg: 480x640 1 tank, 5.5ms\n",
      "image 94/162 /home/jrenault/workspace/adomvi2/notebooks/dataset/images/test/b4e1810f831ec78b.jpg: 448x640 1 tank, 5.7ms\n",
      "image 95/162 /home/jrenault/workspace/adomvi2/notebooks/dataset/images/test/b90383e33081021d.jpg: 480x640 1 tank, 5.8ms\n",
      "image 96/162 /home/jrenault/workspace/adomvi2/notebooks/dataset/images/test/b94450049148a2ba.jpg: 448x640 1 tank, 5.7ms\n",
      "image 97/162 /home/jrenault/workspace/adomvi2/notebooks/dataset/images/test/ba72e37be9448f1e.jpg: 448x640 1 tank, 5.3ms\n",
      "image 98/162 /home/jrenault/workspace/adomvi2/notebooks/dataset/images/test/baa70b9defe6332c.jpg: 448x640 4 tanks, 5.2ms\n",
      "image 99/162 /home/jrenault/workspace/adomvi2/notebooks/dataset/images/test/baf4601e24e6b539.jpg: 480x640 1 tank, 5.8ms\n",
      "image 100/162 /home/jrenault/workspace/adomvi2/notebooks/dataset/images/test/bb08722daf024840.jpg: 608x640 1 tank, 5.7ms\n",
      "image 101/162 /home/jrenault/workspace/adomvi2/notebooks/dataset/images/test/c440b500f09b39ea.jpg: 640x448 1 tank, 95.7ms\n",
      "image 102/162 /home/jrenault/workspace/adomvi2/notebooks/dataset/images/test/c5ed1732df8f8bb6.jpg: 640x640 5 tanks, 5.9ms\n",
      "image 103/162 /home/jrenault/workspace/adomvi2/notebooks/dataset/images/test/c5f784481b651356.jpg: 448x640 1 tank, 5.8ms\n",
      "image 104/162 /home/jrenault/workspace/adomvi2/notebooks/dataset/images/test/c8d7b85f7fcce26f.jpg: 448x640 6 tanks, 5.4ms\n",
      "image 105/162 /home/jrenault/workspace/adomvi2/notebooks/dataset/images/test/c94285bc48dc0768.jpg: 480x640 1 tank, 5.8ms\n",
      "image 106/162 /home/jrenault/workspace/adomvi2/notebooks/dataset/images/test/c95560ba2e314637.jpg: 480x640 1 tank, 5.4ms\n",
      "image 107/162 /home/jrenault/workspace/adomvi2/notebooks/dataset/images/test/c9ec966646e60da4.jpg: 416x640 1 tank, 5.8ms\n",
      "image 108/162 /home/jrenault/workspace/adomvi2/notebooks/dataset/images/test/ca5cb5039537114c.jpg: 480x640 1 tank, 5.8ms\n",
      "image 109/162 /home/jrenault/workspace/adomvi2/notebooks/dataset/images/test/cd6470b726c59bf9.jpg: 480x640 1 tank, 5.3ms\n",
      "image 110/162 /home/jrenault/workspace/adomvi2/notebooks/dataset/images/test/cf2099c1f03f6b21.jpg: 448x640 3 tanks, 5.7ms\n",
      "image 111/162 /home/jrenault/workspace/adomvi2/notebooks/dataset/images/test/d21ac33fb41905d0.jpg: 448x640 3 tanks, 5.4ms\n",
      "image 112/162 /home/jrenault/workspace/adomvi2/notebooks/dataset/images/test/d339a4a95eb9b935.jpg: 480x640 3 tanks, 5.7ms\n",
      "image 113/162 /home/jrenault/workspace/adomvi2/notebooks/dataset/images/test/d36b2a3ccef077a8.jpg: 448x640 1 tank, 5.8ms\n",
      "image 114/162 /home/jrenault/workspace/adomvi2/notebooks/dataset/images/test/d80cde470bb87a3b.jpg: 448x640 1 tank, 5.3ms\n",
      "image 115/162 /home/jrenault/workspace/adomvi2/notebooks/dataset/images/test/d906a23f080eca65.jpg: 448x640 2 tanks, 5.4ms\n",
      "image 116/162 /home/jrenault/workspace/adomvi2/notebooks/dataset/images/test/da82539684a90087.jpg: 480x640 1 tank, 5.8ms\n",
      "image 117/162 /home/jrenault/workspace/adomvi2/notebooks/dataset/images/test/ddd75be08321c4e8.jpg: 448x640 2 tanks, 5.7ms\n",
      "image 118/162 /home/jrenault/workspace/adomvi2/notebooks/dataset/images/test/dddc86231692d5cc.jpg: 448x640 1 tank, 9.7ms\n",
      "image 119/162 /home/jrenault/workspace/adomvi2/notebooks/dataset/images/test/e2a23434cc959921.jpg: 384x640 1 tank, 8.6ms\n",
      "image 120/162 /home/jrenault/workspace/adomvi2/notebooks/dataset/images/test/e33595ae296ceec7.jpg: 384x640 1 tank, 5.4ms\n",
      "image 121/162 /home/jrenault/workspace/adomvi2/notebooks/dataset/images/test/e54c74071ae75342.jpg: 512x640 1 tank, 6.0ms\n",
      "image 122/162 /home/jrenault/workspace/adomvi2/notebooks/dataset/images/test/ebf36e85edfd6ba2.jpg: 480x640 1 tank, 5.7ms\n",
      "image 123/162 /home/jrenault/workspace/adomvi2/notebooks/dataset/images/test/ed28c62134a5ab5d.jpg: 448x640 1 tank, 5.7ms\n",
      "image 124/162 /home/jrenault/workspace/adomvi2/notebooks/dataset/images/test/ed2c4449542711cb.jpg: 480x640 1 tank, 5.7ms\n",
      "image 125/162 /home/jrenault/workspace/adomvi2/notebooks/dataset/images/test/f1aada6f3a0b7027.jpg: 448x640 3 tanks, 5.7ms\n",
      "image 126/162 /home/jrenault/workspace/adomvi2/notebooks/dataset/images/test/f57d7f62ed0f2e7c.jpg: 480x640 2 tanks, 5.8ms\n",
      "image 127/162 /home/jrenault/workspace/adomvi2/notebooks/dataset/images/test/f5be8e5d60d00e1a.jpg: 448x640 1 tank, 5.6ms\n",
      "image 128/162 /home/jrenault/workspace/adomvi2/notebooks/dataset/images/test/f7a886f365520180.jpg: 448x640 2 tanks, 5.3ms\n",
      "image 129/162 /home/jrenault/workspace/adomvi2/notebooks/dataset/images/test/f984870cacd3a103.jpg: 448x640 (no detections), 5.3ms\n",
      "image 130/162 /home/jrenault/workspace/adomvi2/notebooks/dataset/images/test/n04389033_10271.JPEG: 448x640 1 tank, 5.2ms\n",
      "image 131/162 /home/jrenault/workspace/adomvi2/notebooks/dataset/images/test/n04389033_12149.JPEG: 480x640 1 tank, 5.7ms\n",
      "image 132/162 /home/jrenault/workspace/adomvi2/notebooks/dataset/images/test/n04389033_14072.JPEG: 384x640 1 tank, 5.8ms\n",
      "image 133/162 /home/jrenault/workspace/adomvi2/notebooks/dataset/images/test/n04389033_14675.JPEG: 512x640 1 tank, 5.6ms\n",
      "image 134/162 /home/jrenault/workspace/adomvi2/notebooks/dataset/images/test/n04389033_14789.JPEG: 480x640 1 tank, 5.7ms\n",
      "image 135/162 /home/jrenault/workspace/adomvi2/notebooks/dataset/images/test/n04389033_14995.JPEG: 480x640 1 tank, 5.3ms\n",
      "image 136/162 /home/jrenault/workspace/adomvi2/notebooks/dataset/images/test/n04389033_15226.JPEG: 640x448 1 tank, 5.6ms\n",
      "image 137/162 /home/jrenault/workspace/adomvi2/notebooks/dataset/images/test/n04389033_1581.JPEG: 512x640 1 tank, 5.6ms\n",
      "image 138/162 /home/jrenault/workspace/adomvi2/notebooks/dataset/images/test/n04389033_17345.JPEG: 448x640 1 tank, 5.6ms\n",
      "image 139/162 /home/jrenault/workspace/adomvi2/notebooks/dataset/images/test/n04389033_19293.JPEG: 480x640 1 tank, 5.6ms\n",
      "image 140/162 /home/jrenault/workspace/adomvi2/notebooks/dataset/images/test/n04389033_19633.JPEG: 480x640 3 tanks, 5.3ms\n",
      "image 141/162 /home/jrenault/workspace/adomvi2/notebooks/dataset/images/test/n04389033_20223.JPEG: 448x640 1 tank, 5.9ms\n",
      "image 142/162 /home/jrenault/workspace/adomvi2/notebooks/dataset/images/test/n04389033_21280.JPEG: 480x640 1 tank, 5.7ms\n",
      "image 143/162 /home/jrenault/workspace/adomvi2/notebooks/dataset/images/test/n04389033_21384.JPEG: 448x640 1 tank, 5.7ms\n",
      "image 144/162 /home/jrenault/workspace/adomvi2/notebooks/dataset/images/test/n04389033_2265.JPEG: 640x480 3 tanks, 5.7ms\n",
      "image 145/162 /home/jrenault/workspace/adomvi2/notebooks/dataset/images/test/n04389033_24431.JPEG: 480x640 1 tank, 5.7ms\n",
      "image 146/162 /home/jrenault/workspace/adomvi2/notebooks/dataset/images/test/n04389033_25292.JPEG: 480x640 1 tank, 5.2ms\n",
      "image 147/162 /home/jrenault/workspace/adomvi2/notebooks/dataset/images/test/n04389033_28965.JPEG: 416x640 1 tank, 5.6ms\n",
      "image 148/162 /home/jrenault/workspace/adomvi2/notebooks/dataset/images/test/n04389033_28967.JPEG: 384x640 1 tank, 5.7ms\n",
      "image 149/162 /home/jrenault/workspace/adomvi2/notebooks/dataset/images/test/n04389033_29601.JPEG: 480x640 1 tank, 5.6ms\n",
      "image 150/162 /home/jrenault/workspace/adomvi2/notebooks/dataset/images/test/n04389033_31010.JPEG: 416x640 1 tank, 5.6ms\n",
      "image 151/162 /home/jrenault/workspace/adomvi2/notebooks/dataset/images/test/n04389033_32241.JPEG: 448x640 2 tanks, 5.6ms\n",
      "image 152/162 /home/jrenault/workspace/adomvi2/notebooks/dataset/images/test/n04389033_32488.JPEG: 480x640 1 tank, 5.6ms\n",
      "image 153/162 /home/jrenault/workspace/adomvi2/notebooks/dataset/images/test/n04389033_33580.JPEG: 448x640 1 tank, 5.6ms\n",
      "image 154/162 /home/jrenault/workspace/adomvi2/notebooks/dataset/images/test/n04389033_362.JPEG: 480x640 1 tank, 5.7ms\n",
      "image 155/162 /home/jrenault/workspace/adomvi2/notebooks/dataset/images/test/n04389033_622.JPEG: 448x640 1 tank, 5.5ms\n",
      "image 156/162 /home/jrenault/workspace/adomvi2/notebooks/dataset/images/test/n04389033_6906.JPEG: 640x640 2 tanks, 5.7ms\n",
      "image 157/162 /home/jrenault/workspace/adomvi2/notebooks/dataset/images/test/n04389033_7040.JPEG: 448x640 1 tank, 5.6ms\n",
      "image 158/162 /home/jrenault/workspace/adomvi2/notebooks/dataset/images/test/n04389033_7950.JPEG: 512x640 1 tank, 5.7ms\n",
      "image 159/162 /home/jrenault/workspace/adomvi2/notebooks/dataset/images/test/n04389033_843.JPEG: 384x640 1 tank, 5.7ms\n",
      "image 160/162 /home/jrenault/workspace/adomvi2/notebooks/dataset/images/test/n04389033_92.JPEG: 448x640 1 tank, 5.6ms\n",
      "image 161/162 /home/jrenault/workspace/adomvi2/notebooks/dataset/images/test/n04389033_933.JPEG: 480x640 1 tank, 5.7ms\n",
      "image 162/162 /home/jrenault/workspace/adomvi2/notebooks/dataset/images/test/n04389033_9345.JPEG: 480x640 1 tank, 5.2ms\n",
      "Speed: 1.5ms preprocess, 12.5ms inference, 0.8ms postprocess per image at shape (1, 3, 480, 640)\n",
      "Results saved to \u001b[1mruns/detect/predict\u001b[0m\n",
      "159 labels saved to runs/detect/predict/labels\n"
     ]
    }
   ],
   "source": [
    "from pathlib import Path\n",
    "from adomvi.yolo.yolo import predict\n",
    "\n",
    "best_model = Path() / \"runs/detect/train/weights/best.pt\"\n",
    "results = predict(best_model, source=dataset_dir / \"images/test\")"
   ]
  },
  {
   "cell_type": "markdown",
   "id": "71ef120f-376b-4218-ba8b-fdb5baad96c2",
   "metadata": {},
   "source": [
    "### Evaluate model predictions"
   ]
  },
  {
   "cell_type": "markdown",
   "id": "a9c3470a-653b-4552-a750-90238b94039e",
   "metadata": {},
   "source": [
    "We can first evaluate our model by loading the predictions in a Fiftyone dataset view of our test data. We select the images tagged as part of the test set in our dataset."
   ]
  },
  {
   "cell_type": "code",
   "execution_count": 10,
   "id": "0d17c385-0934-41d4-952c-d25364780bbc",
   "metadata": {},
   "outputs": [],
   "source": [
    "# The test split of the dataset\n",
    "test_view = dataset.match_tags(\"test\")"
   ]
  },
  {
   "cell_type": "markdown",
   "id": "20ccadc7-987c-4aff-91ec-d44da3370dde",
   "metadata": {},
   "source": [
    "Then we can load the model predictions as fields of the images in our test view."
   ]
  },
  {
   "cell_type": "code",
   "execution_count": 11,
   "id": "5ebffeaa-46b3-4f96-8e5b-db0531e8d6f8",
   "metadata": {},
   "outputs": [],
   "source": [
    "from pathlib import Path\n",
    "from adomvi.yolo.utils import add_yolo_detections\n",
    "\n",
    "prediction_field = \"yolov8\"\n",
    "predictions_dir = Path() / \"runs/detect/predict/labels\"\n",
    "add_yolo_detections(test_view, prediction_field=prediction_field, predictions_dir=predictions_dir, class_list=[\"tank\"])"
   ]
  },
  {
   "cell_type": "markdown",
   "id": "08a6c727-fc8a-46f8-aef0-613ff77d7cc4",
   "metadata": {},
   "source": [
    "Now we can visualize these YOLOv8 model predictions on the samples in our dataset in the FiftyOne app:"
   ]
  },
  {
   "cell_type": "code",
   "execution_count": 12,
   "id": "5c0da62f-30e6-4abf-a33b-68923ae40175",
   "metadata": {},
   "outputs": [
    {
     "data": {
      "application/javascript": [
       "window.open('http://localhost:5151/');"
      ],
      "text/plain": [
       "<IPython.core.display.Javascript object>"
      ]
     },
     "metadata": {},
     "output_type": "display_data"
    }
   ],
   "source": [
    "session.open_tab()"
   ]
  },
  {
   "cell_type": "markdown",
   "id": "c06d3a9f-aabe-43a5-b264-c0d935194b0e",
   "metadata": {},
   "source": [
    "Finally, we can evaluate our model's predictions and print the mAP."
   ]
  },
  {
   "cell_type": "code",
   "execution_count": 13,
   "id": "f04724f1-42ff-424c-bc65-b8b7f76d097c",
   "metadata": {},
   "outputs": [
    {
     "name": "stdout",
     "output_type": "stream",
     "text": [
      "Evaluating detections...\n",
      " 100% |█████████████████| 162/162 [429.8ms elapsed, 0s remaining, 377.0 samples/s]      \n",
      "Performing IoU sweep...\n",
      " 100% |█████████████████| 162/162 [438.8ms elapsed, 0s remaining, 369.2 samples/s]      \n"
     ]
    }
   ],
   "source": [
    "detection_results = test_view.evaluate_detections(\n",
    "    prediction_field, \n",
    "    eval_key=\"eval\",\n",
    "    compute_mAP=True,\n",
    "    gt_field=\"ground_truth\",\n",
    ")"
   ]
  },
  {
   "cell_type": "code",
   "execution_count": 14,
   "id": "ba9326b5-b4fc-49d9-96ff-a21293e8bd86",
   "metadata": {},
   "outputs": [
    {
     "name": "stdout",
     "output_type": "stream",
     "text": [
      "mAP = 0.6280499359210924\n"
     ]
    }
   ],
   "source": [
    "mAP = detection_results.mAP()\n",
    "print(f\"mAP = {mAP}\")"
   ]
  },
  {
   "cell_type": "code",
   "execution_count": 15,
   "id": "6818e918-1a61-4ac7-a403-e1e59b3fe9d4",
   "metadata": {},
   "outputs": [
    {
     "name": "stdout",
     "output_type": "stream",
     "text": [
      "              precision    recall  f1-score   support\n",
      "\n",
      "        tank       0.86      0.85      0.85       230\n",
      "\n",
      "   micro avg       0.86      0.85      0.85       230\n",
      "   macro avg       0.86      0.85      0.85       230\n",
      "weighted avg       0.86      0.85      0.85       230\n",
      "\n"
     ]
    }
   ],
   "source": [
    "detection_results.print_report()"
   ]
  },
  {
   "cell_type": "code",
   "execution_count": null,
   "id": "008583b5-5ff9-4fce-8e51-bd9ac8583c32",
   "metadata": {},
   "outputs": [],
   "source": []
  }
 ],
 "metadata": {
  "kernelspec": {
   "display_name": "Python 3 (ipykernel)",
   "language": "python",
   "name": "python3"
  },
  "language_info": {
   "codemirror_mode": {
    "name": "ipython",
    "version": 3
   },
   "file_extension": ".py",
   "mimetype": "text/x-python",
   "name": "python",
   "nbconvert_exporter": "python",
   "pygments_lexer": "ipython3",
   "version": "3.10.14"
  }
 },
 "nbformat": 4,
 "nbformat_minor": 5
}
