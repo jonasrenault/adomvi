{
 "cells": [
  {
   "cell_type": "markdown",
   "id": "b16172d3-4aaf-4b8d-b9e1-b67f8322e01d",
   "metadata": {},
   "source": [
    "# Fine-tune a YOLOv8 detection model\n",
    "\n",
    "This notebook will train a [Yolov8](https://github.com/ultralytics/ultralytics) model for tank detection using publicly available annotated images of tanks.\n",
    "\n",
    "As the notebook will run the training with `PyTorch`, it is recommended to have GPUs available. If running in Google Colab, go to Edit > Notebook settings and select GPU hardware acceleration.\n",
    "\n",
    "This notebook expects that the dataset created in the notebook [01_Dataset](./01_Dataset.ipynb) has been saved to disk."
   ]
  },
  {
   "cell_type": "markdown",
   "id": "d3d75f09-636f-4786-9d60-4a672c41c055",
   "metadata": {},
   "source": [
    "### Setup"
   ]
  },
  {
   "cell_type": "markdown",
   "id": "e78070ae-5cde-47ef-a394-4cbd74ad3cf7",
   "metadata": {},
   "source": [
    "To start, check GPU support."
   ]
  },
  {
   "cell_type": "code",
   "execution_count": 1,
   "id": "8dc4c32f-48a1-453a-8526-63f79f504b0b",
   "metadata": {},
   "outputs": [
    {
     "name": "stdout",
     "output_type": "stream",
     "text": [
      "Setup complete. Using torch 2.3.1+cu121 (NVIDIA RTX A6000)\n"
     ]
    }
   ],
   "source": [
    "import torch\n",
    "\n",
    "print(f\"Setup complete. Using torch {torch.__version__} ({torch.cuda.get_device_properties(0).name if torch.cuda.is_available() else 'CPU'})\")"
   ]
  },
  {
   "cell_type": "markdown",
   "id": "15382b1e-27bb-4614-b6e2-431ec0dd4967",
   "metadata": {},
   "source": [
    "### Load dataset"
   ]
  },
  {
   "cell_type": "markdown",
   "id": "5ef8e715-e340-4187-a130-7c908114dd53",
   "metadata": {},
   "source": [
    "We'll first load the dataset created on disk."
   ]
  },
  {
   "cell_type": "code",
   "execution_count": 2,
   "id": "ed58948a-0722-4abe-8bef-455309e652af",
   "metadata": {},
   "outputs": [],
   "source": [
    "from pathlib import Path\n",
    "\n",
    "dataset_dir = Path() / \"dataset\""
   ]
  },
  {
   "cell_type": "code",
   "execution_count": 3,
   "id": "031dba9b-53d3-4d09-8c4d-21f4cf15aca3",
   "metadata": {},
   "outputs": [
    {
     "name": "stdout",
     "output_type": "stream",
     "text": []
    },
    {
     "name": "stdout",
     "output_type": "stream",
     "text": [
      " 100% |███████████████| 2270/2270 [2.0s elapsed, 0s remaining, 1.2K samples/s]      \n",
      " 100% |█████████████████| 174/174 [153.4ms elapsed, 0s remaining, 1.2K samples/s]     \n",
      " 100% |█████████████████| 173/173 [150.0ms elapsed, 0s remaining, 1.2K samples/s]     \n"
     ]
    }
   ],
   "source": [
    "import fiftyone as fo\n",
    "\n",
    "# The splits to load\n",
    "splits = [\"train\", \"val\", \"test\"]\n",
    "\n",
    "# Load the dataset, using tags to mark the samples in each split\n",
    "dataset = fo.Dataset()\n",
    "for split in splits:\n",
    "    dataset.add_dir(\n",
    "        dataset_dir=dataset_dir,\n",
    "        dataset_type=fo.types.YOLOv5Dataset,\n",
    "        split=split,\n",
    "        tags=split,\n",
    ")"
   ]
  },
  {
   "cell_type": "code",
   "execution_count": 4,
   "id": "dec0a8e5-e73f-4ea3-b430-a0685292befe",
   "metadata": {},
   "outputs": [
    {
     "name": "stdout",
     "output_type": "stream",
     "text": [
      "Connected to FiftyOne on port 5151 at localhost.\n",
      "If you are not connecting to a remote session, you may need to start a new session and specify a port\n",
      "Session launched. Run `session.show()` to open the App in a cell output.\n"
     ]
    }
   ],
   "source": [
    "session = fo.launch_app(dataset, auto=False)"
   ]
  },
  {
   "cell_type": "code",
   "execution_count": 5,
   "id": "32557b80-147f-4628-963e-b0b4c41342f4",
   "metadata": {},
   "outputs": [
    {
     "data": {
      "application/javascript": [
       "window.open('http://localhost:5151/');"
      ],
      "text/plain": [
       "<IPython.core.display.Javascript object>"
      ]
     },
     "metadata": {},
     "output_type": "display_data"
    }
   ],
   "source": [
    "session.open_tab()"
   ]
  },
  {
   "cell_type": "markdown",
   "id": "55a0513e-7034-4949-b2f7-07423bfdfaca",
   "metadata": {},
   "source": [
    "### Train a YoloV8 model"
   ]
  },
  {
   "cell_type": "markdown",
   "id": "5c987c05-848b-439e-8705-0735b100180f",
   "metadata": {},
   "source": [
    "We can now train a YoloV8 base model on our exported dataset. We use the `yolov8n.pt` (nano) model, which is the smallest, but larger models are available from ultralytics. Simply replace `yolov8n.pt` with the [right model](https://docs.ultralytics.com/models/yolov8/#key-features)."
   ]
  },
  {
   "cell_type": "code",
   "execution_count": 6,
   "id": "b6999159-b029-4cd7-97ed-68b40311cbc8",
   "metadata": {
    "scrolled": true
   },
   "outputs": [
    {
     "name": "stdout",
     "output_type": "stream",
     "text": [
      "Ultralytics YOLOv8.2.31 🚀 Python-3.10.14 torch-2.3.1+cu121 CUDA:0 (NVIDIA RTX A6000, 48677MiB)\n",
      "                                                            CUDA:1 (NVIDIA RTX A6000, 48655MiB)\n",
      "\u001b[34m\u001b[1mengine/trainer: \u001b[0mtask=detect, mode=train, model=yolov8m.pt, data=dataset/dataset.yaml, epochs=60, time=None, patience=100, batch=64, imgsz=640, save=True, save_period=-1, cache=False, device=[0, 1], workers=8, project=None, name=train2, exist_ok=False, pretrained=True, optimizer=auto, verbose=True, seed=0, deterministic=True, single_cls=False, rect=False, cos_lr=False, close_mosaic=10, resume=False, amp=True, fraction=1.0, profile=False, freeze=None, multi_scale=False, overlap_mask=True, mask_ratio=4, dropout=0.0, val=True, split=val, save_json=False, save_hybrid=False, conf=None, iou=0.7, max_det=300, half=False, dnn=False, plots=True, source=None, vid_stride=1, stream_buffer=False, visualize=False, augment=False, agnostic_nms=False, classes=None, retina_masks=False, embed=None, show=False, save_frames=False, save_txt=False, save_conf=False, save_crop=False, show_labels=True, show_conf=True, show_boxes=True, line_width=None, format=torchscript, keras=False, optimize=False, int8=False, dynamic=False, simplify=False, opset=None, workspace=4, nms=False, lr0=0.01, lrf=0.01, momentum=0.937, weight_decay=0.0005, warmup_epochs=3.0, warmup_momentum=0.8, warmup_bias_lr=0.1, box=7.5, cls=0.5, dfl=1.5, pose=12.0, kobj=1.0, label_smoothing=0.0, nbs=64, hsv_h=0.015, hsv_s=0.7, hsv_v=0.4, degrees=0.0, translate=0.1, scale=0.5, shear=0.0, perspective=0.0, flipud=0.0, fliplr=0.5, bgr=0.0, mosaic=1.0, mixup=0.0, copy_paste=0.0, auto_augment=randaugment, erasing=0.4, crop_fraction=1.0, cfg=None, tracker=botsort.yaml, save_dir=runs/detect/train2\n",
      "Overriding model.yaml nc=80 with nc=1\n",
      "\n",
      "                   from  n    params  module                                       arguments                     \n",
      "  0                  -1  1      1392  ultralytics.nn.modules.conv.Conv             [3, 48, 3, 2]                 \n",
      "  1                  -1  1     41664  ultralytics.nn.modules.conv.Conv             [48, 96, 3, 2]                \n",
      "  2                  -1  2    111360  ultralytics.nn.modules.block.C2f             [96, 96, 2, True]             \n",
      "  3                  -1  1    166272  ultralytics.nn.modules.conv.Conv             [96, 192, 3, 2]               \n",
      "  4                  -1  4    813312  ultralytics.nn.modules.block.C2f             [192, 192, 4, True]           \n",
      "  5                  -1  1    664320  ultralytics.nn.modules.conv.Conv             [192, 384, 3, 2]              \n",
      "  6                  -1  4   3248640  ultralytics.nn.modules.block.C2f             [384, 384, 4, True]           \n",
      "  7                  -1  1   1991808  ultralytics.nn.modules.conv.Conv             [384, 576, 3, 2]              \n",
      "  8                  -1  2   3985920  ultralytics.nn.modules.block.C2f             [576, 576, 2, True]           \n",
      "  9                  -1  1    831168  ultralytics.nn.modules.block.SPPF            [576, 576, 5]                 \n",
      " 10                  -1  1         0  torch.nn.modules.upsampling.Upsample         [None, 2, 'nearest']          \n",
      " 11             [-1, 6]  1         0  ultralytics.nn.modules.conv.Concat           [1]                           \n",
      " 12                  -1  2   1993728  ultralytics.nn.modules.block.C2f             [960, 384, 2]                 \n",
      " 13                  -1  1         0  torch.nn.modules.upsampling.Upsample         [None, 2, 'nearest']          \n",
      " 14             [-1, 4]  1         0  ultralytics.nn.modules.conv.Concat           [1]                           \n",
      " 15                  -1  2    517632  ultralytics.nn.modules.block.C2f             [576, 192, 2]                 \n",
      " 16                  -1  1    332160  ultralytics.nn.modules.conv.Conv             [192, 192, 3, 2]              \n",
      " 17            [-1, 12]  1         0  ultralytics.nn.modules.conv.Concat           [1]                           \n",
      " 18                  -1  2   1846272  ultralytics.nn.modules.block.C2f             [576, 384, 2]                 \n",
      " 19                  -1  1   1327872  ultralytics.nn.modules.conv.Conv             [384, 384, 3, 2]              \n",
      " 20             [-1, 9]  1         0  ultralytics.nn.modules.conv.Concat           [1]                           \n",
      " 21                  -1  2   4207104  ultralytics.nn.modules.block.C2f             [960, 576, 2]                 \n",
      " 22        [15, 18, 21]  1   3776275  ultralytics.nn.modules.head.Detect           [1, [192, 384, 576]]          \n",
      "Model summary: 295 layers, 25856899 parameters, 25856883 gradients, 79.1 GFLOPs\n",
      "\n",
      "Transferred 469/475 items from pretrained weights\n",
      "\u001b[34m\u001b[1mDDP:\u001b[0m debug command /home/ukemkata/miniconda3/envs/adomvi2/bin/python -m torch.distributed.run --nproc_per_node 2 --master_port 49779 /home/ukemkata/.config/Ultralytics/DDP/_temp_ad2zhuyp139794670978912.py\n",
      "Ultralytics YOLOv8.2.31 🚀 Python-3.10.14 torch-2.3.1+cu121 CUDA:0 (NVIDIA RTX A6000, 48677MiB)\n",
      "                                                            CUDA:1 (NVIDIA RTX A6000, 48655MiB)\n",
      "Overriding model.yaml nc=80 with nc=1\n",
      "Transferred 469/475 items from pretrained weights\n",
      "Freezing layer 'model.22.dfl.conv.weight'\n",
      "\u001b[34m\u001b[1mAMP: \u001b[0mrunning Automatic Mixed Precision (AMP) checks with YOLOv8n...\n",
      "\u001b[34m\u001b[1mAMP: \u001b[0mchecks passed ✅\n"
     ]
    },
    {
     "name": "stderr",
     "output_type": "stream",
     "text": [
      "\u001b[34m\u001b[1mtrain: \u001b[0mScanning /home/ukemkata/workspace/adomvi2/notebooks/dataset/labels/train... 2270 images, 0 backgrounds, 0 corrupt: 100%|██████████| 2270/2270 [00:02<00:00, 958.15it/s] \n"
     ]
    },
    {
     "name": "stdout",
     "output_type": "stream",
     "text": [
      "\u001b[34m\u001b[1mtrain: \u001b[0mNew cache created: /home/ukemkata/workspace/adomvi2/notebooks/dataset/labels/train.cache\n"
     ]
    },
    {
     "name": "stderr",
     "output_type": "stream",
     "text": [
      "\u001b[34m\u001b[1mval: \u001b[0mScanning /home/ukemkata/workspace/adomvi2/notebooks/dataset/labels/val... 174 images, 0 backgrounds, 0 corrupt: 100%|██████████| 174/174 [00:00<00:00, 1629.46it/s]\n"
     ]
    },
    {
     "name": "stdout",
     "output_type": "stream",
     "text": [
      "\u001b[34m\u001b[1mval: \u001b[0mNew cache created: /home/ukemkata/workspace/adomvi2/notebooks/dataset/labels/val.cache\n",
      "Plotting labels to runs/detect/train2/labels.jpg... \n",
      "\u001b[34m\u001b[1moptimizer:\u001b[0m 'optimizer=auto' found, ignoring 'lr0=0.01' and 'momentum=0.937' and determining best 'optimizer', 'lr0' and 'momentum' automatically... \n",
      "\u001b[34m\u001b[1moptimizer:\u001b[0m AdamW(lr=0.000714, momentum=0.9) with parameter groups 77 weight(decay=0.0), 84 weight(decay=0.0005), 83 bias(decay=0.0)\n",
      "Image sizes 640 train, 640 val\n",
      "Using 16 dataloader workers\n",
      "Logging results to \u001b[1mruns/detect/train2\u001b[0m\n",
      "Starting training for 60 epochs...\n",
      "\n",
      "      Epoch    GPU_mem   box_loss   cls_loss   dfl_loss  Instances       Size\n"
     ]
    },
    {
     "name": "stderr",
     "output_type": "stream",
     "text": [
      "       1/60      13.3G     0.9053      1.533      1.383         41        640: 100%|██████████| 36/36 [00:13<00:00,  2.72it/s]\n",
      "                 Class     Images  Instances      Box(P          R      mAP50  mAP50-95): 100%|██████████| 3/3 [00:01<00:00,  2.25it/s]\n"
     ]
    },
    {
     "name": "stdout",
     "output_type": "stream",
     "text": [
      "                   all        174        263      0.788      0.684      0.742      0.479\n",
      "\n",
      "      Epoch    GPU_mem   box_loss   cls_loss   dfl_loss  Instances       Size\n"
     ]
    },
    {
     "name": "stderr",
     "output_type": "stream",
     "text": [
      "       2/60      13.5G      1.005      1.053      1.452         45        640: 100%|██████████| 36/36 [00:11<00:00,  3.15it/s]\n",
      "                 Class     Images  Instances      Box(P          R      mAP50  mAP50-95): 100%|██████████| 3/3 [00:00<00:00,  4.25it/s]\n"
     ]
    },
    {
     "name": "stdout",
     "output_type": "stream",
     "text": [
      "                   all        174        263       0.17      0.291     0.0871     0.0298\n",
      "\n",
      "      Epoch    GPU_mem   box_loss   cls_loss   dfl_loss  Instances       Size\n"
     ]
    },
    {
     "name": "stderr",
     "output_type": "stream",
     "text": [
      "       3/60      13.5G      1.138      1.144      1.541         41        640: 100%|██████████| 36/36 [00:11<00:00,  3.13it/s]\n",
      "                 Class     Images  Instances      Box(P          R      mAP50  mAP50-95): 100%|██████████| 3/3 [00:00<00:00,  3.87it/s]\n"
     ]
    },
    {
     "name": "stdout",
     "output_type": "stream",
     "text": [
      "                   all        174        263    0.00222      0.319    0.00151   0.000583\n",
      "\n",
      "      Epoch    GPU_mem   box_loss   cls_loss   dfl_loss  Instances       Size\n"
     ]
    },
    {
     "name": "stderr",
     "output_type": "stream",
     "text": [
      "       4/60      13.5G      1.163        1.2      1.558         54        640: 100%|██████████| 36/36 [00:11<00:00,  3.13it/s]\n",
      "                 Class     Images  Instances      Box(P          R      mAP50  mAP50-95): 100%|██████████| 3/3 [00:00<00:00,  4.12it/s]\n"
     ]
    },
    {
     "name": "stdout",
     "output_type": "stream",
     "text": [
      "                   all        174        263      0.614      0.468      0.472       0.21\n",
      "\n",
      "      Epoch    GPU_mem   box_loss   cls_loss   dfl_loss  Instances       Size\n"
     ]
    },
    {
     "name": "stderr",
     "output_type": "stream",
     "text": [
      "       5/60      13.5G      1.161      1.113      1.556         43        640: 100%|██████████| 36/36 [00:11<00:00,  3.13it/s]\n",
      "                 Class     Images  Instances      Box(P          R      mAP50  mAP50-95): 100%|██████████| 3/3 [00:00<00:00,  4.21it/s]\n"
     ]
    },
    {
     "name": "stdout",
     "output_type": "stream",
     "text": [
      "                   all        174        263       0.54      0.529      0.468      0.231\n",
      "\n",
      "      Epoch    GPU_mem   box_loss   cls_loss   dfl_loss  Instances       Size\n"
     ]
    },
    {
     "name": "stderr",
     "output_type": "stream",
     "text": [
      "       6/60      13.5G      1.091      1.023      1.507         48        640: 100%|██████████| 36/36 [00:11<00:00,  3.14it/s]\n",
      "                 Class     Images  Instances      Box(P          R      mAP50  mAP50-95): 100%|██████████| 3/3 [00:00<00:00,  4.20it/s]\n"
     ]
    },
    {
     "name": "stdout",
     "output_type": "stream",
     "text": [
      "                   all        174        263      0.694       0.62      0.655      0.383\n",
      "\n",
      "      Epoch    GPU_mem   box_loss   cls_loss   dfl_loss  Instances       Size\n"
     ]
    },
    {
     "name": "stderr",
     "output_type": "stream",
     "text": [
      "       7/60      13.5G      1.059      1.033      1.479         45        640: 100%|██████████| 36/36 [00:11<00:00,  3.12it/s]\n",
      "                 Class     Images  Instances      Box(P          R      mAP50  mAP50-95): 100%|██████████| 3/3 [00:00<00:00,  4.27it/s]\n"
     ]
    },
    {
     "name": "stdout",
     "output_type": "stream",
     "text": [
      "                   all        174        263      0.697      0.577      0.591      0.315\n",
      "\n",
      "      Epoch    GPU_mem   box_loss   cls_loss   dfl_loss  Instances       Size\n"
     ]
    },
    {
     "name": "stderr",
     "output_type": "stream",
     "text": [
      "       8/60      13.6G      1.012     0.9592      1.451         51        640: 100%|██████████| 36/36 [00:11<00:00,  3.13it/s]\n",
      "                 Class     Images  Instances      Box(P          R      mAP50  mAP50-95): 100%|██████████| 3/3 [00:00<00:00,  4.18it/s]\n"
     ]
    },
    {
     "name": "stdout",
     "output_type": "stream",
     "text": [
      "                   all        174        263      0.766      0.726       0.78      0.488\n",
      "\n",
      "      Epoch    GPU_mem   box_loss   cls_loss   dfl_loss  Instances       Size\n"
     ]
    },
    {
     "name": "stderr",
     "output_type": "stream",
     "text": [
      "       9/60      13.6G     0.9839     0.9048      1.427         50        640: 100%|██████████| 36/36 [00:11<00:00,  3.12it/s]\n",
      "                 Class     Images  Instances      Box(P          R      mAP50  mAP50-95): 100%|██████████| 3/3 [00:00<00:00,  4.22it/s]\n"
     ]
    },
    {
     "name": "stdout",
     "output_type": "stream",
     "text": [
      "                   all        174        263      0.751      0.677      0.738      0.442\n",
      "\n",
      "      Epoch    GPU_mem   box_loss   cls_loss   dfl_loss  Instances       Size\n"
     ]
    },
    {
     "name": "stderr",
     "output_type": "stream",
     "text": [
      "      10/60      13.5G     0.9539     0.9013      1.391         40        640: 100%|██████████| 36/36 [00:11<00:00,  3.12it/s]\n",
      "                 Class     Images  Instances      Box(P          R      mAP50  mAP50-95): 100%|██████████| 3/3 [00:00<00:00,  4.16it/s]\n"
     ]
    },
    {
     "name": "stdout",
     "output_type": "stream",
     "text": [
      "                   all        174        263      0.842      0.662       0.75      0.486\n",
      "\n",
      "      Epoch    GPU_mem   box_loss   cls_loss   dfl_loss  Instances       Size\n"
     ]
    },
    {
     "name": "stderr",
     "output_type": "stream",
     "text": [
      "      11/60      13.5G     0.9466     0.8741      1.389         55        640: 100%|██████████| 36/36 [00:11<00:00,  3.12it/s]\n",
      "                 Class     Images  Instances      Box(P          R      mAP50  mAP50-95): 100%|██████████| 3/3 [00:00<00:00,  4.10it/s]\n"
     ]
    },
    {
     "name": "stdout",
     "output_type": "stream",
     "text": [
      "                   all        174        263      0.894      0.673      0.787      0.486\n",
      "\n",
      "      Epoch    GPU_mem   box_loss   cls_loss   dfl_loss  Instances       Size\n"
     ]
    },
    {
     "name": "stderr",
     "output_type": "stream",
     "text": [
      "      12/60      13.5G     0.9319     0.8591      1.396         63        640: 100%|██████████| 36/36 [00:11<00:00,  3.11it/s]\n",
      "                 Class     Images  Instances      Box(P          R      mAP50  mAP50-95): 100%|██████████| 3/3 [00:00<00:00,  4.18it/s]\n"
     ]
    },
    {
     "name": "stdout",
     "output_type": "stream",
     "text": [
      "                   all        174        263      0.884      0.734      0.817      0.538\n",
      "\n",
      "      Epoch    GPU_mem   box_loss   cls_loss   dfl_loss  Instances       Size\n"
     ]
    },
    {
     "name": "stderr",
     "output_type": "stream",
     "text": [
      "      13/60      13.6G     0.9088     0.8275      1.374         50        640: 100%|██████████| 36/36 [00:11<00:00,  3.09it/s]\n",
      "                 Class     Images  Instances      Box(P          R      mAP50  mAP50-95): 100%|██████████| 3/3 [00:00<00:00,  3.92it/s]\n"
     ]
    },
    {
     "name": "stdout",
     "output_type": "stream",
     "text": [
      "                   all        174        263      0.761      0.715      0.768      0.478\n",
      "\n",
      "      Epoch    GPU_mem   box_loss   cls_loss   dfl_loss  Instances       Size\n"
     ]
    },
    {
     "name": "stderr",
     "output_type": "stream",
     "text": [
      "      14/60      13.5G     0.8911     0.8026      1.354         52        640: 100%|██████████| 36/36 [00:11<00:00,  3.11it/s]\n",
      "                 Class     Images  Instances      Box(P          R      mAP50  mAP50-95): 100%|██████████| 3/3 [00:00<00:00,  4.15it/s]\n"
     ]
    },
    {
     "name": "stdout",
     "output_type": "stream",
     "text": [
      "                   all        174        263       0.74      0.745       0.79      0.541\n",
      "\n",
      "      Epoch    GPU_mem   box_loss   cls_loss   dfl_loss  Instances       Size\n"
     ]
    },
    {
     "name": "stderr",
     "output_type": "stream",
     "text": [
      "      15/60      13.5G     0.8487     0.7829      1.325         51        640: 100%|██████████| 36/36 [00:11<00:00,  3.11it/s]\n",
      "                 Class     Images  Instances      Box(P          R      mAP50  mAP50-95): 100%|██████████| 3/3 [00:00<00:00,  4.17it/s]\n"
     ]
    },
    {
     "name": "stdout",
     "output_type": "stream",
     "text": [
      "                   all        174        263      0.863      0.766      0.843      0.572\n",
      "\n",
      "      Epoch    GPU_mem   box_loss   cls_loss   dfl_loss  Instances       Size\n"
     ]
    },
    {
     "name": "stderr",
     "output_type": "stream",
     "text": [
      "      16/60      13.6G     0.8249     0.7415      1.306         55        640: 100%|██████████| 36/36 [00:11<00:00,  3.11it/s]\n",
      "                 Class     Images  Instances      Box(P          R      mAP50  mAP50-95): 100%|██████████| 3/3 [00:00<00:00,  4.12it/s]\n"
     ]
    },
    {
     "name": "stdout",
     "output_type": "stream",
     "text": [
      "                   all        174        263      0.851       0.76      0.816      0.543\n",
      "\n",
      "      Epoch    GPU_mem   box_loss   cls_loss   dfl_loss  Instances       Size\n"
     ]
    },
    {
     "name": "stderr",
     "output_type": "stream",
     "text": [
      "      17/60      13.6G     0.8369     0.7535      1.319         42        640: 100%|██████████| 36/36 [00:11<00:00,  3.10it/s]\n",
      "                 Class     Images  Instances      Box(P          R      mAP50  mAP50-95): 100%|██████████| 3/3 [00:00<00:00,  4.21it/s]\n"
     ]
    },
    {
     "name": "stdout",
     "output_type": "stream",
     "text": [
      "                   all        174        263      0.829      0.764      0.824      0.569\n",
      "\n",
      "      Epoch    GPU_mem   box_loss   cls_loss   dfl_loss  Instances       Size\n"
     ]
    },
    {
     "name": "stderr",
     "output_type": "stream",
     "text": [
      "      18/60      13.6G     0.8562     0.7554      1.328         52        640: 100%|██████████| 36/36 [00:11<00:00,  3.09it/s]\n",
      "                 Class     Images  Instances      Box(P          R      mAP50  mAP50-95): 100%|██████████| 3/3 [00:00<00:00,  4.20it/s]\n"
     ]
    },
    {
     "name": "stdout",
     "output_type": "stream",
     "text": [
      "                   all        174        263       0.85      0.774      0.824       0.56\n",
      "\n",
      "      Epoch    GPU_mem   box_loss   cls_loss   dfl_loss  Instances       Size\n"
     ]
    },
    {
     "name": "stderr",
     "output_type": "stream",
     "text": [
      "      19/60      13.5G     0.8254     0.7298      1.299         47        640: 100%|██████████| 36/36 [00:11<00:00,  3.09it/s]\n",
      "                 Class     Images  Instances      Box(P          R      mAP50  mAP50-95): 100%|██████████| 3/3 [00:00<00:00,  4.20it/s]\n"
     ]
    },
    {
     "name": "stdout",
     "output_type": "stream",
     "text": [
      "                   all        174        263       0.86      0.722      0.811      0.584\n",
      "\n",
      "      Epoch    GPU_mem   box_loss   cls_loss   dfl_loss  Instances       Size\n"
     ]
    },
    {
     "name": "stderr",
     "output_type": "stream",
     "text": [
      "      20/60      13.6G     0.8105     0.7209      1.291         40        640: 100%|██████████| 36/36 [00:11<00:00,  3.11it/s]\n",
      "                 Class     Images  Instances      Box(P          R      mAP50  mAP50-95): 100%|██████████| 3/3 [00:00<00:00,  4.19it/s]\n"
     ]
    },
    {
     "name": "stdout",
     "output_type": "stream",
     "text": [
      "                   all        174        263       0.86       0.77      0.826      0.585\n",
      "\n",
      "      Epoch    GPU_mem   box_loss   cls_loss   dfl_loss  Instances       Size\n"
     ]
    },
    {
     "name": "stderr",
     "output_type": "stream",
     "text": [
      "      21/60      13.5G      0.804     0.7034      1.297         49        640: 100%|██████████| 36/36 [00:11<00:00,  3.11it/s]\n",
      "                 Class     Images  Instances      Box(P          R      mAP50  mAP50-95): 100%|██████████| 3/3 [00:00<00:00,  4.18it/s]\n"
     ]
    },
    {
     "name": "stdout",
     "output_type": "stream",
     "text": [
      "                   all        174        263      0.857      0.752       0.84      0.605\n",
      "\n",
      "      Epoch    GPU_mem   box_loss   cls_loss   dfl_loss  Instances       Size\n"
     ]
    },
    {
     "name": "stderr",
     "output_type": "stream",
     "text": [
      "      22/60      13.5G     0.7727     0.6828      1.272         47        640: 100%|██████████| 36/36 [00:11<00:00,  3.10it/s]\n",
      "                 Class     Images  Instances      Box(P          R      mAP50  mAP50-95): 100%|██████████| 3/3 [00:00<00:00,  4.21it/s]\n"
     ]
    },
    {
     "name": "stdout",
     "output_type": "stream",
     "text": [
      "                   all        174        263      0.918      0.764      0.858      0.609\n",
      "\n",
      "      Epoch    GPU_mem   box_loss   cls_loss   dfl_loss  Instances       Size\n"
     ]
    },
    {
     "name": "stderr",
     "output_type": "stream",
     "text": [
      "      23/60      13.5G     0.7887     0.6842      1.273         46        640: 100%|██████████| 36/36 [00:11<00:00,  3.10it/s]\n",
      "                 Class     Images  Instances      Box(P          R      mAP50  mAP50-95): 100%|██████████| 3/3 [00:00<00:00,  4.08it/s]\n"
     ]
    },
    {
     "name": "stdout",
     "output_type": "stream",
     "text": [
      "                   all        174        263      0.878      0.768      0.847       0.57\n",
      "\n",
      "      Epoch    GPU_mem   box_loss   cls_loss   dfl_loss  Instances       Size\n"
     ]
    },
    {
     "name": "stderr",
     "output_type": "stream",
     "text": [
      "      24/60      13.5G     0.7515     0.6644      1.247         64        640: 100%|██████████| 36/36 [00:11<00:00,  3.10it/s]\n",
      "                 Class     Images  Instances      Box(P          R      mAP50  mAP50-95): 100%|██████████| 3/3 [00:00<00:00,  4.17it/s]\n"
     ]
    },
    {
     "name": "stdout",
     "output_type": "stream",
     "text": [
      "                   all        174        263      0.863      0.721      0.841      0.607\n",
      "\n",
      "      Epoch    GPU_mem   box_loss   cls_loss   dfl_loss  Instances       Size\n"
     ]
    },
    {
     "name": "stderr",
     "output_type": "stream",
     "text": [
      "      25/60      13.5G     0.7663     0.6669      1.261         56        640: 100%|██████████| 36/36 [00:11<00:00,  3.10it/s]\n",
      "                 Class     Images  Instances      Box(P          R      mAP50  mAP50-95): 100%|██████████| 3/3 [00:00<00:00,  4.21it/s]\n"
     ]
    },
    {
     "name": "stdout",
     "output_type": "stream",
     "text": [
      "                   all        174        263      0.835       0.79      0.841      0.619\n",
      "\n",
      "      Epoch    GPU_mem   box_loss   cls_loss   dfl_loss  Instances       Size\n"
     ]
    },
    {
     "name": "stderr",
     "output_type": "stream",
     "text": [
      "      26/60      13.5G     0.7481      0.642      1.246         40        640: 100%|██████████| 36/36 [00:11<00:00,  3.10it/s]\n",
      "                 Class     Images  Instances      Box(P          R      mAP50  mAP50-95): 100%|██████████| 3/3 [00:00<00:00,  4.30it/s]\n"
     ]
    },
    {
     "name": "stdout",
     "output_type": "stream",
     "text": [
      "                   all        174        263      0.874      0.745      0.824      0.581\n",
      "\n",
      "      Epoch    GPU_mem   box_loss   cls_loss   dfl_loss  Instances       Size\n"
     ]
    },
    {
     "name": "stderr",
     "output_type": "stream",
     "text": [
      "      27/60      13.5G     0.7503     0.6508      1.253         50        640: 100%|██████████| 36/36 [00:11<00:00,  3.09it/s]\n",
      "                 Class     Images  Instances      Box(P          R      mAP50  mAP50-95): 100%|██████████| 3/3 [00:00<00:00,  4.20it/s]\n"
     ]
    },
    {
     "name": "stdout",
     "output_type": "stream",
     "text": [
      "                   all        174        263      0.845       0.79      0.851      0.629\n",
      "\n",
      "      Epoch    GPU_mem   box_loss   cls_loss   dfl_loss  Instances       Size\n"
     ]
    },
    {
     "name": "stderr",
     "output_type": "stream",
     "text": [
      "      28/60      13.5G     0.7349     0.6258      1.231         44        640: 100%|██████████| 36/36 [00:11<00:00,  3.11it/s]\n",
      "                 Class     Images  Instances      Box(P          R      mAP50  mAP50-95): 100%|██████████| 3/3 [00:00<00:00,  4.12it/s]\n"
     ]
    },
    {
     "name": "stdout",
     "output_type": "stream",
     "text": [
      "                   all        174        263       0.87      0.757      0.856      0.617\n",
      "\n",
      "      Epoch    GPU_mem   box_loss   cls_loss   dfl_loss  Instances       Size\n"
     ]
    },
    {
     "name": "stderr",
     "output_type": "stream",
     "text": [
      "      29/60      13.5G     0.7139     0.6028      1.222         52        640: 100%|██████████| 36/36 [00:11<00:00,  3.10it/s]\n",
      "                 Class     Images  Instances      Box(P          R      mAP50  mAP50-95): 100%|██████████| 3/3 [00:00<00:00,  4.20it/s]\n"
     ]
    },
    {
     "name": "stdout",
     "output_type": "stream",
     "text": [
      "                   all        174        263      0.836      0.798      0.854      0.586\n",
      "\n",
      "      Epoch    GPU_mem   box_loss   cls_loss   dfl_loss  Instances       Size\n"
     ]
    },
    {
     "name": "stderr",
     "output_type": "stream",
     "text": [
      "      30/60      13.5G     0.6919     0.5816      1.214         49        640: 100%|██████████| 36/36 [00:11<00:00,  3.10it/s]\n",
      "                 Class     Images  Instances      Box(P          R      mAP50  mAP50-95): 100%|██████████| 3/3 [00:00<00:00,  4.22it/s]\n"
     ]
    },
    {
     "name": "stdout",
     "output_type": "stream",
     "text": [
      "                   all        174        263      0.841      0.802      0.855      0.627\n",
      "\n",
      "      Epoch    GPU_mem   box_loss   cls_loss   dfl_loss  Instances       Size\n"
     ]
    },
    {
     "name": "stderr",
     "output_type": "stream",
     "text": [
      "      31/60      13.5G     0.6882     0.5804      1.204         38        640: 100%|██████████| 36/36 [00:11<00:00,  3.10it/s]\n",
      "                 Class     Images  Instances      Box(P          R      mAP50  mAP50-95): 100%|██████████| 3/3 [00:00<00:00,  4.28it/s]\n"
     ]
    },
    {
     "name": "stdout",
     "output_type": "stream",
     "text": [
      "                   all        174        263      0.891      0.805      0.868      0.625\n",
      "\n",
      "      Epoch    GPU_mem   box_loss   cls_loss   dfl_loss  Instances       Size\n"
     ]
    },
    {
     "name": "stderr",
     "output_type": "stream",
     "text": [
      "      32/60      13.5G     0.6778     0.5842      1.196         54        640: 100%|██████████| 36/36 [00:11<00:00,  3.10it/s]\n",
      "                 Class     Images  Instances      Box(P          R      mAP50  mAP50-95): 100%|██████████| 3/3 [00:00<00:00,  4.32it/s]\n"
     ]
    },
    {
     "name": "stdout",
     "output_type": "stream",
     "text": [
      "                   all        174        263      0.892      0.791      0.858      0.612\n",
      "\n",
      "      Epoch    GPU_mem   box_loss   cls_loss   dfl_loss  Instances       Size\n"
     ]
    },
    {
     "name": "stderr",
     "output_type": "stream",
     "text": [
      "      33/60      13.5G     0.6995     0.5797      1.219         56        640: 100%|██████████| 36/36 [00:11<00:00,  3.10it/s]\n",
      "                 Class     Images  Instances      Box(P          R      mAP50  mAP50-95): 100%|██████████| 3/3 [00:00<00:00,  4.19it/s]\n"
     ]
    },
    {
     "name": "stdout",
     "output_type": "stream",
     "text": [
      "                   all        174        263      0.892       0.75       0.86      0.627\n",
      "\n",
      "      Epoch    GPU_mem   box_loss   cls_loss   dfl_loss  Instances       Size\n"
     ]
    },
    {
     "name": "stderr",
     "output_type": "stream",
     "text": [
      "      34/60      13.5G      0.687     0.5718      1.213         50        640: 100%|██████████| 36/36 [00:11<00:00,  3.10it/s]\n",
      "                 Class     Images  Instances      Box(P          R      mAP50  mAP50-95): 100%|██████████| 3/3 [00:00<00:00,  4.16it/s]\n"
     ]
    },
    {
     "name": "stdout",
     "output_type": "stream",
     "text": [
      "                   all        174        263      0.845      0.795      0.853      0.648\n",
      "\n",
      "      Epoch    GPU_mem   box_loss   cls_loss   dfl_loss  Instances       Size\n"
     ]
    },
    {
     "name": "stderr",
     "output_type": "stream",
     "text": [
      "      35/60      13.5G     0.6754     0.5563      1.185         55        640: 100%|██████████| 36/36 [00:11<00:00,  3.11it/s]\n",
      "                 Class     Images  Instances      Box(P          R      mAP50  mAP50-95): 100%|██████████| 3/3 [00:00<00:00,  4.18it/s]\n"
     ]
    },
    {
     "name": "stdout",
     "output_type": "stream",
     "text": [
      "                   all        174        263      0.904      0.787      0.872      0.648\n",
      "\n",
      "      Epoch    GPU_mem   box_loss   cls_loss   dfl_loss  Instances       Size\n"
     ]
    },
    {
     "name": "stderr",
     "output_type": "stream",
     "text": [
      "      36/60      13.5G     0.6569     0.5434      1.182         47        640: 100%|██████████| 36/36 [00:11<00:00,  3.11it/s]\n",
      "                 Class     Images  Instances      Box(P          R      mAP50  mAP50-95): 100%|██████████| 3/3 [00:00<00:00,  4.20it/s]\n"
     ]
    },
    {
     "name": "stdout",
     "output_type": "stream",
     "text": [
      "                   all        174        263      0.872      0.805      0.887      0.664\n",
      "\n",
      "      Epoch    GPU_mem   box_loss   cls_loss   dfl_loss  Instances       Size\n"
     ]
    },
    {
     "name": "stderr",
     "output_type": "stream",
     "text": [
      "      37/60      13.5G     0.6499     0.5349      1.186         42        640: 100%|██████████| 36/36 [00:11<00:00,  3.11it/s]\n",
      "                 Class     Images  Instances      Box(P          R      mAP50  mAP50-95): 100%|██████████| 3/3 [00:00<00:00,  4.31it/s]\n"
     ]
    },
    {
     "name": "stdout",
     "output_type": "stream",
     "text": [
      "                   all        174        263      0.894      0.803      0.872      0.657\n",
      "\n",
      "      Epoch    GPU_mem   box_loss   cls_loss   dfl_loss  Instances       Size\n"
     ]
    },
    {
     "name": "stderr",
     "output_type": "stream",
     "text": [
      "      38/60      13.5G      0.623     0.5116      1.161         42        640: 100%|██████████| 36/36 [00:11<00:00,  3.10it/s]\n",
      "                 Class     Images  Instances      Box(P          R      mAP50  mAP50-95): 100%|██████████| 3/3 [00:00<00:00,  4.31it/s]\n"
     ]
    },
    {
     "name": "stdout",
     "output_type": "stream",
     "text": [
      "                   all        174        263      0.833      0.806      0.853      0.631\n",
      "\n",
      "      Epoch    GPU_mem   box_loss   cls_loss   dfl_loss  Instances       Size\n"
     ]
    },
    {
     "name": "stderr",
     "output_type": "stream",
     "text": [
      "      39/60      13.6G      0.645     0.5186      1.162         44        640: 100%|██████████| 36/36 [00:11<00:00,  3.11it/s]\n",
      "                 Class     Images  Instances      Box(P          R      mAP50  mAP50-95): 100%|██████████| 3/3 [00:00<00:00,  4.07it/s]\n"
     ]
    },
    {
     "name": "stdout",
     "output_type": "stream",
     "text": [
      "                   all        174        263      0.863      0.783      0.856      0.638\n",
      "\n",
      "      Epoch    GPU_mem   box_loss   cls_loss   dfl_loss  Instances       Size\n"
     ]
    },
    {
     "name": "stderr",
     "output_type": "stream",
     "text": [
      "      40/60      13.6G     0.6182     0.5118      1.157         49        640: 100%|██████████| 36/36 [00:11<00:00,  3.12it/s]\n",
      "                 Class     Images  Instances      Box(P          R      mAP50  mAP50-95): 100%|██████████| 3/3 [00:00<00:00,  4.07it/s]\n"
     ]
    },
    {
     "name": "stdout",
     "output_type": "stream",
     "text": [
      "                   all        174        263       0.89      0.771      0.865       0.66\n",
      "\n",
      "      Epoch    GPU_mem   box_loss   cls_loss   dfl_loss  Instances       Size\n"
     ]
    },
    {
     "name": "stderr",
     "output_type": "stream",
     "text": [
      "      41/60      13.5G     0.6085     0.4979      1.147         39        640: 100%|██████████| 36/36 [00:11<00:00,  3.10it/s]\n",
      "                 Class     Images  Instances      Box(P          R      mAP50  mAP50-95): 100%|██████████| 3/3 [00:00<00:00,  4.23it/s]\n"
     ]
    },
    {
     "name": "stdout",
     "output_type": "stream",
     "text": [
      "                   all        174        263      0.848       0.84      0.876      0.664\n",
      "\n",
      "      Epoch    GPU_mem   box_loss   cls_loss   dfl_loss  Instances       Size\n"
     ]
    },
    {
     "name": "stderr",
     "output_type": "stream",
     "text": [
      "      42/60      13.5G      0.603     0.4945      1.138         47        640: 100%|██████████| 36/36 [00:11<00:00,  3.11it/s]\n",
      "                 Class     Images  Instances      Box(P          R      mAP50  mAP50-95): 100%|██████████| 3/3 [00:00<00:00,  4.17it/s]\n"
     ]
    },
    {
     "name": "stdout",
     "output_type": "stream",
     "text": [
      "                   all        174        263      0.844      0.821      0.866      0.652\n",
      "\n",
      "      Epoch    GPU_mem   box_loss   cls_loss   dfl_loss  Instances       Size\n"
     ]
    },
    {
     "name": "stderr",
     "output_type": "stream",
     "text": [
      "      43/60      13.5G     0.5929     0.4789      1.138         46        640: 100%|██████████| 36/36 [00:11<00:00,  3.11it/s]\n",
      "                 Class     Images  Instances      Box(P          R      mAP50  mAP50-95): 100%|██████████| 3/3 [00:00<00:00,  4.34it/s]\n"
     ]
    },
    {
     "name": "stdout",
     "output_type": "stream",
     "text": [
      "                   all        174        263      0.844      0.806      0.861      0.664\n",
      "\n",
      "      Epoch    GPU_mem   box_loss   cls_loss   dfl_loss  Instances       Size\n"
     ]
    },
    {
     "name": "stderr",
     "output_type": "stream",
     "text": [
      "      44/60      13.5G     0.5964     0.4715      1.149         49        640: 100%|██████████| 36/36 [00:11<00:00,  3.10it/s]\n",
      "                 Class     Images  Instances      Box(P          R      mAP50  mAP50-95): 100%|██████████| 3/3 [00:00<00:00,  4.28it/s]\n"
     ]
    },
    {
     "name": "stdout",
     "output_type": "stream",
     "text": [
      "                   all        174        263      0.867      0.791      0.869      0.657\n",
      "\n",
      "      Epoch    GPU_mem   box_loss   cls_loss   dfl_loss  Instances       Size\n"
     ]
    },
    {
     "name": "stderr",
     "output_type": "stream",
     "text": [
      "      45/60      13.5G     0.5722     0.4616      1.133         59        640: 100%|██████████| 36/36 [00:11<00:00,  3.10it/s]\n",
      "                 Class     Images  Instances      Box(P          R      mAP50  mAP50-95): 100%|██████████| 3/3 [00:00<00:00,  4.30it/s]\n"
     ]
    },
    {
     "name": "stdout",
     "output_type": "stream",
     "text": [
      "                   all        174        263      0.882      0.765      0.859      0.657\n",
      "\n",
      "      Epoch    GPU_mem   box_loss   cls_loss   dfl_loss  Instances       Size\n"
     ]
    },
    {
     "name": "stderr",
     "output_type": "stream",
     "text": [
      "      46/60      13.5G     0.5819     0.4698       1.13         56        640: 100%|██████████| 36/36 [00:11<00:00,  3.11it/s]\n",
      "                 Class     Images  Instances      Box(P          R      mAP50  mAP50-95): 100%|██████████| 3/3 [00:00<00:00,  4.20it/s]\n"
     ]
    },
    {
     "name": "stdout",
     "output_type": "stream",
     "text": [
      "                   all        174        263      0.901      0.776      0.856      0.632\n",
      "\n",
      "      Epoch    GPU_mem   box_loss   cls_loss   dfl_loss  Instances       Size\n"
     ]
    },
    {
     "name": "stderr",
     "output_type": "stream",
     "text": [
      "      47/60      13.6G     0.5785      0.461      1.125         51        640: 100%|██████████| 36/36 [00:11<00:00,  3.11it/s]\n",
      "                 Class     Images  Instances      Box(P          R      mAP50  mAP50-95): 100%|██████████| 3/3 [00:00<00:00,  4.30it/s]\n"
     ]
    },
    {
     "name": "stdout",
     "output_type": "stream",
     "text": [
      "                   all        174        263      0.891      0.779      0.868      0.655\n",
      "\n",
      "      Epoch    GPU_mem   box_loss   cls_loss   dfl_loss  Instances       Size\n"
     ]
    },
    {
     "name": "stderr",
     "output_type": "stream",
     "text": [
      "      48/60      13.5G     0.5686     0.4694       1.11         45        640: 100%|██████████| 36/36 [00:11<00:00,  3.10it/s]\n",
      "                 Class     Images  Instances      Box(P          R      mAP50  mAP50-95): 100%|██████████| 3/3 [00:00<00:00,  4.29it/s]\n"
     ]
    },
    {
     "name": "stdout",
     "output_type": "stream",
     "text": [
      "                   all        174        263      0.882      0.792      0.871      0.662\n",
      "\n",
      "      Epoch    GPU_mem   box_loss   cls_loss   dfl_loss  Instances       Size\n"
     ]
    },
    {
     "name": "stderr",
     "output_type": "stream",
     "text": [
      "      49/60      13.5G     0.5475     0.4391      1.112         48        640: 100%|██████████| 36/36 [00:11<00:00,  3.10it/s]\n",
      "                 Class     Images  Instances      Box(P          R      mAP50  mAP50-95): 100%|██████████| 3/3 [00:00<00:00,  4.21it/s]\n"
     ]
    },
    {
     "name": "stdout",
     "output_type": "stream",
     "text": [
      "                   all        174        263      0.884      0.791      0.868       0.65\n",
      "\n",
      "      Epoch    GPU_mem   box_loss   cls_loss   dfl_loss  Instances       Size\n"
     ]
    },
    {
     "name": "stderr",
     "output_type": "stream",
     "text": [
      "      50/60      13.5G     0.5795     0.4611      1.122         51        640: 100%|██████████| 36/36 [00:11<00:00,  3.10it/s]\n",
      "                 Class     Images  Instances      Box(P          R      mAP50  mAP50-95): 100%|██████████| 3/3 [00:00<00:00,  4.17it/s]\n"
     ]
    },
    {
     "name": "stdout",
     "output_type": "stream",
     "text": [
      "                   all        174        263      0.868      0.806       0.87      0.638\n",
      "Closing dataloader mosaic\n",
      "\n",
      "      Epoch    GPU_mem   box_loss   cls_loss   dfl_loss  Instances       Size\n"
     ]
    },
    {
     "name": "stderr",
     "output_type": "stream",
     "text": [
      "      51/60      13.5G     0.4429       0.34      1.042         16        640: 100%|██████████| 36/36 [00:12<00:00,  2.90it/s]\n",
      "                 Class     Images  Instances      Box(P          R      mAP50  mAP50-95): 100%|██████████| 3/3 [00:00<00:00,  4.14it/s]\n"
     ]
    },
    {
     "name": "stdout",
     "output_type": "stream",
     "text": [
      "                   all        174        263      0.891      0.806       0.88      0.669\n",
      "\n",
      "      Epoch    GPU_mem   box_loss   cls_loss   dfl_loss  Instances       Size\n"
     ]
    },
    {
     "name": "stderr",
     "output_type": "stream",
     "text": [
      "      52/60      13.5G     0.4294     0.2974      1.027         16        640: 100%|██████████| 36/36 [00:11<00:00,  3.12it/s]\n",
      "                 Class     Images  Instances      Box(P          R      mAP50  mAP50-95): 100%|██████████| 3/3 [00:00<00:00,  4.31it/s]\n"
     ]
    },
    {
     "name": "stdout",
     "output_type": "stream",
     "text": [
      "                   all        174        263       0.92      0.787      0.878      0.668\n",
      "\n",
      "      Epoch    GPU_mem   box_loss   cls_loss   dfl_loss  Instances       Size\n"
     ]
    },
    {
     "name": "stderr",
     "output_type": "stream",
     "text": [
      "      53/60      13.5G     0.4155     0.2891      1.005         17        640: 100%|██████████| 36/36 [00:11<00:00,  3.12it/s]\n",
      "                 Class     Images  Instances      Box(P          R      mAP50  mAP50-95): 100%|██████████| 3/3 [00:00<00:00,  4.22it/s]\n"
     ]
    },
    {
     "name": "stdout",
     "output_type": "stream",
     "text": [
      "                   all        174        263      0.902      0.791      0.871      0.668\n",
      "\n",
      "      Epoch    GPU_mem   box_loss   cls_loss   dfl_loss  Instances       Size\n"
     ]
    },
    {
     "name": "stderr",
     "output_type": "stream",
     "text": [
      "      54/60      13.5G     0.4035     0.2818      1.002         18        640: 100%|██████████| 36/36 [00:11<00:00,  3.14it/s]\n",
      "                 Class     Images  Instances      Box(P          R      mAP50  mAP50-95): 100%|██████████| 3/3 [00:00<00:00,  4.21it/s]\n"
     ]
    },
    {
     "name": "stdout",
     "output_type": "stream",
     "text": [
      "                   all        174        263      0.851      0.828       0.88      0.669\n",
      "\n",
      "      Epoch    GPU_mem   box_loss   cls_loss   dfl_loss  Instances       Size\n"
     ]
    },
    {
     "name": "stderr",
     "output_type": "stream",
     "text": [
      "      55/60      13.5G     0.3991     0.2804     0.9965         21        640: 100%|██████████| 36/36 [00:11<00:00,  3.12it/s]\n",
      "                 Class     Images  Instances      Box(P          R      mAP50  mAP50-95): 100%|██████████| 3/3 [00:00<00:00,  4.25it/s]\n"
     ]
    },
    {
     "name": "stdout",
     "output_type": "stream",
     "text": [
      "                   all        174        263      0.855      0.828      0.881      0.666\n",
      "\n",
      "      Epoch    GPU_mem   box_loss   cls_loss   dfl_loss  Instances       Size\n"
     ]
    },
    {
     "name": "stderr",
     "output_type": "stream",
     "text": [
      "      56/60      13.5G     0.4011     0.2649     0.9993         19        640: 100%|██████████| 36/36 [00:11<00:00,  3.12it/s]\n",
      "                 Class     Images  Instances      Box(P          R      mAP50  mAP50-95): 100%|██████████| 3/3 [00:00<00:00,  4.32it/s]\n"
     ]
    },
    {
     "name": "stdout",
     "output_type": "stream",
     "text": [
      "                   all        174        263      0.901      0.798      0.881      0.668\n",
      "\n",
      "      Epoch    GPU_mem   box_loss   cls_loss   dfl_loss  Instances       Size\n"
     ]
    },
    {
     "name": "stderr",
     "output_type": "stream",
     "text": [
      "      57/60      13.5G     0.3633     0.2498     0.9723         16        640: 100%|██████████| 36/36 [00:11<00:00,  3.12it/s]\n",
      "                 Class     Images  Instances      Box(P          R      mAP50  mAP50-95): 100%|██████████| 3/3 [00:00<00:00,  4.29it/s]\n"
     ]
    },
    {
     "name": "stdout",
     "output_type": "stream",
     "text": [
      "                   all        174        263      0.858      0.821       0.88      0.669\n",
      "\n",
      "      Epoch    GPU_mem   box_loss   cls_loss   dfl_loss  Instances       Size\n"
     ]
    },
    {
     "name": "stderr",
     "output_type": "stream",
     "text": [
      "      58/60      13.5G     0.3636     0.2501     0.9848         17        640: 100%|██████████| 36/36 [00:11<00:00,  3.11it/s]\n",
      "                 Class     Images  Instances      Box(P          R      mAP50  mAP50-95): 100%|██████████| 3/3 [00:00<00:00,  4.25it/s]\n"
     ]
    },
    {
     "name": "stdout",
     "output_type": "stream",
     "text": [
      "                   all        174        263      0.843      0.833      0.879      0.686\n",
      "\n",
      "      Epoch    GPU_mem   box_loss   cls_loss   dfl_loss  Instances       Size\n"
     ]
    },
    {
     "name": "stderr",
     "output_type": "stream",
     "text": [
      "      59/60      13.5G     0.3646     0.2431     0.9682         22        640: 100%|██████████| 36/36 [00:11<00:00,  3.13it/s]\n",
      "                 Class     Images  Instances      Box(P          R      mAP50  mAP50-95): 100%|██████████| 3/3 [00:00<00:00,  4.21it/s]\n"
     ]
    },
    {
     "name": "stdout",
     "output_type": "stream",
     "text": [
      "                   all        174        263      0.879      0.804      0.879      0.681\n",
      "\n",
      "      Epoch    GPU_mem   box_loss   cls_loss   dfl_loss  Instances       Size\n"
     ]
    },
    {
     "name": "stderr",
     "output_type": "stream",
     "text": [
      "      60/60      13.5G     0.3507     0.2314     0.9565         18        640: 100%|██████████| 36/36 [00:11<00:00,  3.13it/s]\n",
      "                 Class     Images  Instances      Box(P          R      mAP50  mAP50-95): 100%|██████████| 3/3 [00:00<00:00,  4.23it/s]\n"
     ]
    },
    {
     "name": "stdout",
     "output_type": "stream",
     "text": [
      "                   all        174        263      0.884      0.814      0.879      0.678\n",
      "\n",
      "60 epochs completed in 0.221 hours.\n",
      "Optimizer stripped from runs/detect/train2/weights/last.pt, 52.0MB\n",
      "Optimizer stripped from runs/detect/train2/weights/best.pt, 52.0MB\n",
      "\n",
      "Validating runs/detect/train2/weights/best.pt...\n",
      "Ultralytics YOLOv8.2.31 🚀 Python-3.10.14 torch-2.3.1+cu121 CUDA:0 (NVIDIA RTX A6000, 48677MiB)\n",
      "                                                            CUDA:1 (NVIDIA RTX A6000, 48655MiB)\n",
      "Model summary (fused): 218 layers, 25840339 parameters, 0 gradients, 78.7 GFLOPs\n"
     ]
    },
    {
     "name": "stderr",
     "output_type": "stream",
     "text": [
      "                 Class     Images  Instances      Box(P          R      mAP50  mAP50-95): 100%|██████████| 3/3 [00:00<00:00,  3.07it/s]\n"
     ]
    },
    {
     "name": "stdout",
     "output_type": "stream",
     "text": [
      "                   all        174        263      0.842      0.833      0.879      0.686\n",
      "Speed: 0.1ms preprocess, 2.3ms inference, 0.0ms loss, 0.5ms postprocess per image\n",
      "Results saved to \u001b[1mruns/detect/train2\u001b[0m\n"
     ]
    }
   ],
   "source": [
    "from adomvi.yolo.yolo import train\n",
    "\n",
    "train(\"yolov8m.pt\", data=dataset_dir / \"dataset.yaml\", batch=64, device=[0, 1])"
   ]
  },
  {
   "cell_type": "markdown",
   "id": "93614090-c4ea-4121-8e85-b85c5d49bec5",
   "metadata": {},
   "source": [
    "### Use the fine-tuned model to predict detections"
   ]
  },
  {
   "cell_type": "markdown",
   "id": "307d024f-a83a-490f-80ff-020165dc8231",
   "metadata": {},
   "source": [
    "Once our model is trained, we can simply use it to predict detections on our test dataset. Simply pass the path to the best model weights and the directory containing the test images to the `predict` function."
   ]
  },
  {
   "cell_type": "code",
   "execution_count": 7,
   "id": "712aefbd-757a-4184-8de6-4203a517f794",
   "metadata": {
    "scrolled": true
   },
   "outputs": [
    {
     "name": "stdout",
     "output_type": "stream",
     "text": [
      "\n",
      "image 1/173 /home/ukemkata/workspace/adomvi2/notebooks/dataset/images/test/00741fb6fb4c7209.jpg: 512x640 1 tank, 151.0ms\n",
      "image 2/173 /home/ukemkata/workspace/adomvi2/notebooks/dataset/images/test/01d517af269faac1.jpg: 416x640 1 tank, 147.5ms\n",
      "image 3/173 /home/ukemkata/workspace/adomvi2/notebooks/dataset/images/test/021d9739adae9f9c.jpg: 480x640 1 tank, 152.2ms\n",
      "image 4/173 /home/ukemkata/workspace/adomvi2/notebooks/dataset/images/test/030eab769f338ba7.jpg: 352x640 1 tank, 88.5ms\n",
      "image 5/173 /home/ukemkata/workspace/adomvi2/notebooks/dataset/images/test/043eccfe44f4ae5c.jpg: 480x640 2 tanks, 5.8ms\n",
      "image 6/173 /home/ukemkata/workspace/adomvi2/notebooks/dataset/images/test/04deb749185941bf.jpg: 448x640 3 tanks, 87.9ms\n",
      "image 7/173 /home/ukemkata/workspace/adomvi2/notebooks/dataset/images/test/05304464737d93eb.jpg: 480x640 1 tank, 5.4ms\n",
      "image 8/173 /home/ukemkata/workspace/adomvi2/notebooks/dataset/images/test/06151edcba0f9cf9.jpg: 384x640 2 tanks, 87.7ms\n",
      "image 9/173 /home/ukemkata/workspace/adomvi2/notebooks/dataset/images/test/07350ee1e8e1c52e.jpg: 480x640 1 tank, 7.9ms\n",
      "image 10/173 /home/ukemkata/workspace/adomvi2/notebooks/dataset/images/test/08c0605b9fd0f607.jpg: 448x640 1 tank, 6.6ms\n",
      "image 11/173 /home/ukemkata/workspace/adomvi2/notebooks/dataset/images/test/0970f69fb9bed976.jpg: 416x640 1 tank, 5.5ms\n",
      "image 12/173 /home/ukemkata/workspace/adomvi2/notebooks/dataset/images/test/09b54da1cb7c49e2.jpg: 448x640 1 tank, 5.3ms\n",
      "image 13/173 /home/ukemkata/workspace/adomvi2/notebooks/dataset/images/test/09d3a7b32cb8d588.jpg: 480x640 4 tanks, 5.3ms\n",
      "image 14/173 /home/ukemkata/workspace/adomvi2/notebooks/dataset/images/test/0e773d51b2db5c64.jpg: 480x640 4 tanks, 5.0ms\n",
      "image 15/173 /home/ukemkata/workspace/adomvi2/notebooks/dataset/images/test/0f2270dea4f924cd.jpg: 640x448 (no detections), 87.1ms\n",
      "image 16/173 /home/ukemkata/workspace/adomvi2/notebooks/dataset/images/test/115f99ecc4191c86.jpg: 448x640 1 tank, 5.4ms\n",
      "image 17/173 /home/ukemkata/workspace/adomvi2/notebooks/dataset/images/test/11abde108502a9c7.jpg: 448x640 4 tanks, 4.9ms\n",
      "image 18/173 /home/ukemkata/workspace/adomvi2/notebooks/dataset/images/test/11b159a4cf6012fe.jpg: 448x640 1 tank, 4.9ms\n",
      "image 19/173 /home/ukemkata/workspace/adomvi2/notebooks/dataset/images/test/11ea48dd9164441d.jpg: 448x640 1 tank, 4.9ms\n",
      "image 20/173 /home/ukemkata/workspace/adomvi2/notebooks/dataset/images/test/1297b7848ddd2429.jpg: 480x640 1 tank, 5.3ms\n",
      "image 21/173 /home/ukemkata/workspace/adomvi2/notebooks/dataset/images/test/14_jpg.rf.76fda5f717d5488e95cb5afda9a09416.jpg: 640x640 1 tank, 5.7ms\n",
      "image 22/173 /home/ukemkata/workspace/adomvi2/notebooks/dataset/images/test/1566a94f7c44daf1.jpg: 480x640 1 tank, 5.4ms\n",
      "image 23/173 /home/ukemkata/workspace/adomvi2/notebooks/dataset/images/test/15e2ebc038cc5f0f.jpg: 448x640 10 tanks, 5.3ms\n",
      "image 24/173 /home/ukemkata/workspace/adomvi2/notebooks/dataset/images/test/164905cea963c061.jpg: 448x640 1 tank, 4.8ms\n",
      "image 25/173 /home/ukemkata/workspace/adomvi2/notebooks/dataset/images/test/16_jpg.rf.ce92ea9affc34c2506dfa7a9e05da22c.jpg: 640x640 1 tank, 5.7ms\n",
      "image 26/173 /home/ukemkata/workspace/adomvi2/notebooks/dataset/images/test/16a562b9ddbf11ac.jpg: 224x640 6 tanks, 150.4ms\n",
      "image 27/173 /home/ukemkata/workspace/adomvi2/notebooks/dataset/images/test/183f600e458397cc.jpg: 448x640 1 tank, 5.7ms\n",
      "image 28/173 /home/ukemkata/workspace/adomvi2/notebooks/dataset/images/test/18_jpg.rf.b62e1a478aefe8edff4dbb6702a72100.jpg: 640x640 1 tank, 5.8ms\n",
      "image 29/173 /home/ukemkata/workspace/adomvi2/notebooks/dataset/images/test/1b939e100136697c.jpg: 640x448 2 tanks, 5.6ms\n",
      "image 30/173 /home/ukemkata/workspace/adomvi2/notebooks/dataset/images/test/1e979696da9ccd5e.jpg: 448x640 1 tank, 5.5ms\n",
      "image 31/173 /home/ukemkata/workspace/adomvi2/notebooks/dataset/images/test/1fd90a675043ffad.jpg: 448x640 1 tank, 4.8ms\n",
      "image 32/173 /home/ukemkata/workspace/adomvi2/notebooks/dataset/images/test/21_jpg.rf.186c0b15c411bfcab48168531f415e9c.jpg: 640x640 1 tank, 5.7ms\n",
      "image 33/173 /home/ukemkata/workspace/adomvi2/notebooks/dataset/images/test/225c0102b31e53a6.jpg: 448x640 3 tanks, 5.2ms\n",
      "image 34/173 /home/ukemkata/workspace/adomvi2/notebooks/dataset/images/test/22_jpg.rf.c9822cbe171e4a7769d0f55e001d6d8b.jpg: 640x640 1 tank, 10.9ms\n",
      "image 35/173 /home/ukemkata/workspace/adomvi2/notebooks/dataset/images/test/22ef4b1618e5ad4b.jpg: 448x640 1 tank, 5.5ms\n",
      "image 36/173 /home/ukemkata/workspace/adomvi2/notebooks/dataset/images/test/24ac44874456e1ac.jpg: 448x640 1 tank, 5.1ms\n",
      "image 37/173 /home/ukemkata/workspace/adomvi2/notebooks/dataset/images/test/25_jpg.rf.b9e0f8d90e4c0b2cf2e7ec86f2c6f0f4.jpg: 640x640 1 tank, 5.7ms\n",
      "image 38/173 /home/ukemkata/workspace/adomvi2/notebooks/dataset/images/test/29_jpg.rf.ba857b24cd82e8db58d678a853c56b01.jpg: 640x640 1 tank, 5.3ms\n",
      "image 39/173 /home/ukemkata/workspace/adomvi2/notebooks/dataset/images/test/2ecdb1f7e844d276.jpg: 480x640 1 tank, 5.4ms\n",
      "image 40/173 /home/ukemkata/workspace/adomvi2/notebooks/dataset/images/test/2fd38d5e5be9e690.jpg: 448x640 2 tanks, 5.2ms\n",
      "image 41/173 /home/ukemkata/workspace/adomvi2/notebooks/dataset/images/test/311cbe1f04f8f6ba.jpg: 480x640 1 tank, 5.2ms\n",
      "image 42/173 /home/ukemkata/workspace/adomvi2/notebooks/dataset/images/test/33_jpg.rf.571300a0641cd65819346c1ea1653ae9.jpg: 640x640 1 tank, 5.7ms\n",
      "image 43/173 /home/ukemkata/workspace/adomvi2/notebooks/dataset/images/test/36625c5d4bd26d56.jpg: 640x512 2 tanks, 87.2ms\n",
      "image 44/173 /home/ukemkata/workspace/adomvi2/notebooks/dataset/images/test/37_jpg.rf.bfc98f6264055141d918ed3dc3a2c6f7.jpg: 640x640 2 tanks, 5.7ms\n",
      "image 45/173 /home/ukemkata/workspace/adomvi2/notebooks/dataset/images/test/3854e8238640cc4c.jpg: 448x640 1 tank, 5.3ms\n",
      "image 46/173 /home/ukemkata/workspace/adomvi2/notebooks/dataset/images/test/3_png.rf.f2ea8e8caa41bf8a5fb2637c4a9b6306.jpg: 640x640 1 tank, 5.7ms\n",
      "image 47/173 /home/ukemkata/workspace/adomvi2/notebooks/dataset/images/test/3b2b74ce9fe6a438.jpg: 640x448 1 tank, 5.1ms\n",
      "image 48/173 /home/ukemkata/workspace/adomvi2/notebooks/dataset/images/test/3d73e9f589064a44.jpg: 480x640 2 tanks, 5.3ms\n",
      "image 49/173 /home/ukemkata/workspace/adomvi2/notebooks/dataset/images/test/3eee137586a92d2a.jpg: 480x640 1 tank, 4.9ms\n",
      "image 50/173 /home/ukemkata/workspace/adomvi2/notebooks/dataset/images/test/42cfb4f23fc22be8.jpg: 480x640 2 tanks, 5.0ms\n",
      "image 51/173 /home/ukemkata/workspace/adomvi2/notebooks/dataset/images/test/455a06159c57874b.jpg: 480x640 1 tank, 4.8ms\n",
      "image 52/173 /home/ukemkata/workspace/adomvi2/notebooks/dataset/images/test/4561265b6f9c9f4c.jpg: 480x640 1 tank, 4.8ms\n",
      "image 53/173 /home/ukemkata/workspace/adomvi2/notebooks/dataset/images/test/4afa98c7e0f38cf2.jpg: 480x640 1 tank, 4.8ms\n",
      "image 54/173 /home/ukemkata/workspace/adomvi2/notebooks/dataset/images/test/4e363080cec3a122.jpg: 448x640 2 tanks, 5.1ms\n",
      "image 55/173 /home/ukemkata/workspace/adomvi2/notebooks/dataset/images/test/513786877cb15154.jpg: 640x480 1 tank, 86.5ms\n",
      "image 56/173 /home/ukemkata/workspace/adomvi2/notebooks/dataset/images/test/524a873b5b00b185.jpg: 448x640 1 tank, 5.3ms\n",
      "image 57/173 /home/ukemkata/workspace/adomvi2/notebooks/dataset/images/test/53_jpg.rf.1cf122b2a00f0875de6abb6de5f2938e.jpg: 640x640 1 tank, 5.7ms\n",
      "image 58/173 /home/ukemkata/workspace/adomvi2/notebooks/dataset/images/test/567031e1d7be3a7c.jpg: 448x640 1 tank, 5.2ms\n",
      "image 59/173 /home/ukemkata/workspace/adomvi2/notebooks/dataset/images/test/5677daedf1b7dbe7.jpg: 448x640 1 tank, 5.1ms\n",
      "image 60/173 /home/ukemkata/workspace/adomvi2/notebooks/dataset/images/test/586f62e4a8f1cddd.jpg: 448x640 1 tank, 4.8ms\n",
      "image 61/173 /home/ukemkata/workspace/adomvi2/notebooks/dataset/images/test/5b31e464a83c03ee.jpg: 640x448 1 tank, 5.2ms\n",
      "image 62/173 /home/ukemkata/workspace/adomvi2/notebooks/dataset/images/test/5f24155aa9cc824f.jpg: 448x640 1 tank, 5.1ms\n",
      "image 63/173 /home/ukemkata/workspace/adomvi2/notebooks/dataset/images/test/61f54f030e93f5d0.jpg: 480x640 2 tanks, 5.2ms\n",
      "image 64/173 /home/ukemkata/workspace/adomvi2/notebooks/dataset/images/test/634eeb64ecd1f00b.jpg: 448x640 1 tank, 5.1ms\n",
      "image 65/173 /home/ukemkata/workspace/adomvi2/notebooks/dataset/images/test/6652ddbe7365ad05.jpg: 480x640 1 tank, 5.2ms\n",
      "image 66/173 /home/ukemkata/workspace/adomvi2/notebooks/dataset/images/test/6bf0658e3e157848.jpg: 448x640 2 tanks, 5.2ms\n",
      "image 67/173 /home/ukemkata/workspace/adomvi2/notebooks/dataset/images/test/70ff8f6119ed1eae.jpg: 448x640 1 tank, 4.9ms\n",
      "image 68/173 /home/ukemkata/workspace/adomvi2/notebooks/dataset/images/test/7144d226f7c80b43.jpg: 512x640 1 tank, 5.5ms\n",
      "image 69/173 /home/ukemkata/workspace/adomvi2/notebooks/dataset/images/test/71b01293338c3c58.jpg: 640x448 1 tank, 5.2ms\n",
      "image 70/173 /home/ukemkata/workspace/adomvi2/notebooks/dataset/images/test/71eb26982a159340.jpg: 448x640 1 tank, 5.4ms\n",
      "image 71/173 /home/ukemkata/workspace/adomvi2/notebooks/dataset/images/test/75b6696bfbfc3023.jpg: 448x640 1 tank, 4.8ms\n",
      "image 72/173 /home/ukemkata/workspace/adomvi2/notebooks/dataset/images/test/76534b0c6ac08260.jpg: 448x640 1 tank, 4.8ms\n",
      "image 73/173 /home/ukemkata/workspace/adomvi2/notebooks/dataset/images/test/7f224131d6a25d69.jpg: 352x640 1 tank, 5.2ms\n",
      "image 74/173 /home/ukemkata/workspace/adomvi2/notebooks/dataset/images/test/8012ec4e43ca276d.jpg: 448x640 2 tanks, 5.1ms\n",
      "image 75/173 /home/ukemkata/workspace/adomvi2/notebooks/dataset/images/test/808186ac2bfb22ce.jpg: 448x640 1 tank, 4.8ms\n",
      "image 76/173 /home/ukemkata/workspace/adomvi2/notebooks/dataset/images/test/856f53386eb173f3.jpg: 448x640 5 tanks, 5.0ms\n",
      "image 77/173 /home/ukemkata/workspace/adomvi2/notebooks/dataset/images/test/88c6e5a38b7545a6.jpg: 384x640 1 tank, 5.2ms\n",
      "image 78/173 /home/ukemkata/workspace/adomvi2/notebooks/dataset/images/test/898354d7f9eee32c.jpg: 448x640 1 tank, 5.0ms\n",
      "image 79/173 /home/ukemkata/workspace/adomvi2/notebooks/dataset/images/test/8a9dc797707de1ca.jpg: 640x512 1 tank, 5.2ms\n",
      "image 80/173 /home/ukemkata/workspace/adomvi2/notebooks/dataset/images/test/8c869aaca75a507a.jpg: 480x640 1 tank, 5.2ms\n",
      "image 81/173 /home/ukemkata/workspace/adomvi2/notebooks/dataset/images/test/8e9f2bf646848279.jpg: 608x640 1 tank, 87.3ms\n",
      "image 82/173 /home/ukemkata/workspace/adomvi2/notebooks/dataset/images/test/8fd8f8f962f40943.jpg: 448x640 2 tanks, 5.3ms\n",
      "image 83/173 /home/ukemkata/workspace/adomvi2/notebooks/dataset/images/test/93c7b108cd1b629a.jpg: 480x640 1 tank, 5.4ms\n",
      "image 84/173 /home/ukemkata/workspace/adomvi2/notebooks/dataset/images/test/948aa1bcfdbe333f.jpg: 448x640 1 tank, 5.2ms\n",
      "image 85/173 /home/ukemkata/workspace/adomvi2/notebooks/dataset/images/test/97c6b561c81a42f7.jpg: 448x640 1 tank, 4.7ms\n",
      "image 86/173 /home/ukemkata/workspace/adomvi2/notebooks/dataset/images/test/9840be05492eeced.jpg: 448x640 1 tank, 4.7ms\n",
      "image 87/173 /home/ukemkata/workspace/adomvi2/notebooks/dataset/images/test/9c6bcae2aaf99a02.jpg: 640x448 2 tanks, 5.1ms\n",
      "image 88/173 /home/ukemkata/workspace/adomvi2/notebooks/dataset/images/test/9d48d7c24ea94c81.jpg: 448x640 2 tanks, 5.0ms\n",
      "image 89/173 /home/ukemkata/workspace/adomvi2/notebooks/dataset/images/test/9e9435737f1fc4cd.jpg: 448x640 1 tank, 4.9ms\n",
      "image 90/173 /home/ukemkata/workspace/adomvi2/notebooks/dataset/images/test/a43e63b111bf1546.jpg: 448x640 1 tank, 4.8ms\n",
      "image 91/173 /home/ukemkata/workspace/adomvi2/notebooks/dataset/images/test/a4c4762024799e50.jpg: 448x640 1 tank, 4.6ms\n",
      "image 92/173 /home/ukemkata/workspace/adomvi2/notebooks/dataset/images/test/a4d55d542b9b8fa6.jpg: 448x640 1 tank, 4.7ms\n",
      "image 93/173 /home/ukemkata/workspace/adomvi2/notebooks/dataset/images/test/a4f9a3fd4848804f.jpg: 480x640 1 tank, 6.9ms\n",
      "image 94/173 /home/ukemkata/workspace/adomvi2/notebooks/dataset/images/test/a6bd49f0c1f9dc96.jpg: 448x640 1 tank, 5.4ms\n",
      "image 95/173 /home/ukemkata/workspace/adomvi2/notebooks/dataset/images/test/acabe445244c1ddd.jpg: 480x640 5 tanks, 5.2ms\n",
      "image 96/173 /home/ukemkata/workspace/adomvi2/notebooks/dataset/images/test/b0ab66c440cfb524.jpg: 480x640 1 tank, 4.9ms\n",
      "image 97/173 /home/ukemkata/workspace/adomvi2/notebooks/dataset/images/test/b3f7830364af27ab.jpg: 448x640 1 tank, 5.4ms\n",
      "image 98/173 /home/ukemkata/workspace/adomvi2/notebooks/dataset/images/test/b5954340b7665c26.jpg: 448x640 2 tanks, 4.8ms\n",
      "image 99/173 /home/ukemkata/workspace/adomvi2/notebooks/dataset/images/test/b657fe02a07018ae.jpg: 480x640 1 tank, 7.5ms\n",
      "image 100/173 /home/ukemkata/workspace/adomvi2/notebooks/dataset/images/test/b706958208407197.jpg: 448x640 1 tank, 5.3ms\n",
      "image 101/173 /home/ukemkata/workspace/adomvi2/notebooks/dataset/images/test/ba3c9e7fb2de1a4c.jpg: 448x640 1 tank, 5.0ms\n",
      "image 102/173 /home/ukemkata/workspace/adomvi2/notebooks/dataset/images/test/baf4601e24e6b539.jpg: 480x640 1 tank, 5.2ms\n",
      "image 103/173 /home/ukemkata/workspace/adomvi2/notebooks/dataset/images/test/c1031c897473bb6d.jpg: 352x640 2 tanks, 5.2ms\n",
      "image 104/173 /home/ukemkata/workspace/adomvi2/notebooks/dataset/images/test/c5d0d1d6790fc196.jpg: 448x640 3 tanks, 5.1ms\n",
      "image 105/173 /home/ukemkata/workspace/adomvi2/notebooks/dataset/images/test/c82929b35355c6a1.jpg: 448x640 2 tanks, 4.9ms\n",
      "image 106/173 /home/ukemkata/workspace/adomvi2/notebooks/dataset/images/test/c95560ba2e314637.jpg: 480x640 1 tank, 5.2ms\n",
      "image 107/173 /home/ukemkata/workspace/adomvi2/notebooks/dataset/images/test/cc6ef3c0991a6793.jpg: 480x640 3 tanks, 4.9ms\n",
      "image 108/173 /home/ukemkata/workspace/adomvi2/notebooks/dataset/images/test/d17775017cae458d.jpg: 448x640 1 tank, 5.2ms\n",
      "image 109/173 /home/ukemkata/workspace/adomvi2/notebooks/dataset/images/test/d4d9d34959345882.jpg: 256x640 4 tanks, 88.5ms\n",
      "image 110/173 /home/ukemkata/workspace/adomvi2/notebooks/dataset/images/test/d622c6f6be11eb3f.jpg: 480x640 1 tank, 5.3ms\n",
      "image 111/173 /home/ukemkata/workspace/adomvi2/notebooks/dataset/images/test/d6fc94e452045cd7.jpg: 448x640 2 tanks, 5.2ms\n",
      "image 112/173 /home/ukemkata/workspace/adomvi2/notebooks/dataset/images/test/d704f00d59406263.jpg: 448x640 2 tanks, 4.8ms\n",
      "image 113/173 /home/ukemkata/workspace/adomvi2/notebooks/dataset/images/test/da73ca0fa1212d49.jpg: 448x640 3 tanks, 4.7ms\n",
      "image 114/173 /home/ukemkata/workspace/adomvi2/notebooks/dataset/images/test/dbe857af5ef2e66a.jpg: 480x640 1 tank, 5.1ms\n",
      "image 115/173 /home/ukemkata/workspace/adomvi2/notebooks/dataset/images/test/dd05a94067a2c89d.jpg: 448x640 1 tank, 5.3ms\n",
      "image 116/173 /home/ukemkata/workspace/adomvi2/notebooks/dataset/images/test/deddbc8353ed9eb7.jpg: 384x640 1 tank, 5.2ms\n",
      "image 117/173 /home/ukemkata/workspace/adomvi2/notebooks/dataset/images/test/df0a06478f1021ad.jpg: 448x640 1 tank, 5.1ms\n",
      "image 118/173 /home/ukemkata/workspace/adomvi2/notebooks/dataset/images/test/e70022b1aed95e7b.jpg: 448x640 1 tank, 4.7ms\n",
      "image 119/173 /home/ukemkata/workspace/adomvi2/notebooks/dataset/images/test/e8030fabe7ba159c.jpg: 480x640 1 tank, 5.3ms\n",
      "image 120/173 /home/ukemkata/workspace/adomvi2/notebooks/dataset/images/test/e8801aead8698e10.jpg: 640x512 1 tank, 5.4ms\n",
      "image 121/173 /home/ukemkata/workspace/adomvi2/notebooks/dataset/images/test/ed28c62134a5ab5d.jpg: 448x640 1 tank, 5.1ms\n",
      "image 122/173 /home/ukemkata/workspace/adomvi2/notebooks/dataset/images/test/ee3971adc32c85ed.jpg: 448x640 3 tanks, 4.7ms\n",
      "image 123/173 /home/ukemkata/workspace/adomvi2/notebooks/dataset/images/test/ef3441b1ae13ef4d.jpg: 256x640 1 tank, 5.5ms\n",
      "image 124/173 /home/ukemkata/workspace/adomvi2/notebooks/dataset/images/test/f3ded5377f1f2298.jpg: 480x640 3 tanks, 5.1ms\n",
      "image 125/173 /home/ukemkata/workspace/adomvi2/notebooks/dataset/images/test/f41ac836abbc5bf5.jpg: 640x640 6 tanks, 5.9ms\n",
      "image 126/173 /home/ukemkata/workspace/adomvi2/notebooks/dataset/images/test/f538884e202e2896.jpg: 448x640 1 tank, 5.3ms\n",
      "image 127/173 /home/ukemkata/workspace/adomvi2/notebooks/dataset/images/test/f786ffc26db6fd0d.jpg: 448x640 2 tanks, 4.7ms\n",
      "image 128/173 /home/ukemkata/workspace/adomvi2/notebooks/dataset/images/test/f8b574ab75a36aa7.jpg: 448x640 1 tank, 4.8ms\n",
      "image 129/173 /home/ukemkata/workspace/adomvi2/notebooks/dataset/images/test/f8eb0ee54fb3a201.jpg: 480x640 6 tanks, 5.2ms\n",
      "image 130/173 /home/ukemkata/workspace/adomvi2/notebooks/dataset/images/test/fd44cd30a3c31b3c.jpg: 448x640 1 tank, 5.0ms\n",
      "image 131/173 /home/ukemkata/workspace/adomvi2/notebooks/dataset/images/test/n04389033_10251.JPEG: 480x640 1 tank, 5.1ms\n",
      "image 132/173 /home/ukemkata/workspace/adomvi2/notebooks/dataset/images/test/n04389033_11005.JPEG: 640x448 1 tank, 5.1ms\n",
      "image 133/173 /home/ukemkata/workspace/adomvi2/notebooks/dataset/images/test/n04389033_11395.JPEG: 480x640 2 tanks, 5.0ms\n",
      "image 134/173 /home/ukemkata/workspace/adomvi2/notebooks/dataset/images/test/n04389033_12149.JPEG: 480x640 1 tank, 4.6ms\n",
      "image 135/173 /home/ukemkata/workspace/adomvi2/notebooks/dataset/images/test/n04389033_12246.JPEG: 352x640 1 tank, 5.1ms\n",
      "image 136/173 /home/ukemkata/workspace/adomvi2/notebooks/dataset/images/test/n04389033_12423.JPEG: 448x640 1 tank, 5.0ms\n",
      "image 137/173 /home/ukemkata/workspace/adomvi2/notebooks/dataset/images/test/n04389033_12457.JPEG: 448x640 1 tank, 4.7ms\n",
      "image 138/173 /home/ukemkata/workspace/adomvi2/notebooks/dataset/images/test/n04389033_13101.JPEG: 480x640 2 tanks, 5.1ms\n",
      "image 139/173 /home/ukemkata/workspace/adomvi2/notebooks/dataset/images/test/n04389033_14793.JPEG: 448x640 1 tank, 5.4ms\n",
      "image 140/173 /home/ukemkata/workspace/adomvi2/notebooks/dataset/images/test/n04389033_1627.JPEG: 512x640 1 tank, 5.4ms\n",
      "image 141/173 /home/ukemkata/workspace/adomvi2/notebooks/dataset/images/test/n04389033_1631.JPEG: 480x640 1 tank, 5.2ms\n",
      "image 142/173 /home/ukemkata/workspace/adomvi2/notebooks/dataset/images/test/n04389033_17345.JPEG: 448x640 1 tank, 5.1ms\n",
      "image 143/173 /home/ukemkata/workspace/adomvi2/notebooks/dataset/images/test/n04389033_19246.JPEG: 352x640 1 tank, 5.4ms\n",
      "image 144/173 /home/ukemkata/workspace/adomvi2/notebooks/dataset/images/test/n04389033_19257.JPEG: 480x640 1 tank, 5.1ms\n",
      "image 145/173 /home/ukemkata/workspace/adomvi2/notebooks/dataset/images/test/n04389033_19310.JPEG: 320x640 1 tank, 87.4ms\n",
      "image 146/173 /home/ukemkata/workspace/adomvi2/notebooks/dataset/images/test/n04389033_1953.JPEG: 384x640 1 tank, 5.3ms\n",
      "image 147/173 /home/ukemkata/workspace/adomvi2/notebooks/dataset/images/test/n04389033_19633.JPEG: 480x640 3 tanks, 5.3ms\n",
      "image 148/173 /home/ukemkata/workspace/adomvi2/notebooks/dataset/images/test/n04389033_19771.JPEG: 480x640 1 tank, 4.9ms\n",
      "image 149/173 /home/ukemkata/workspace/adomvi2/notebooks/dataset/images/test/n04389033_20085.JPEG: 640x608 1 tank, 86.0ms\n",
      "image 150/173 /home/ukemkata/workspace/adomvi2/notebooks/dataset/images/test/n04389033_20412.JPEG: 448x640 1 tank, 5.4ms\n",
      "image 151/173 /home/ukemkata/workspace/adomvi2/notebooks/dataset/images/test/n04389033_2265.JPEG: 640x480 2 tanks, 5.2ms\n",
      "image 152/173 /home/ukemkata/workspace/adomvi2/notebooks/dataset/images/test/n04389033_24620.JPEG: 448x640 2 tanks, 5.1ms\n",
      "image 153/173 /home/ukemkata/workspace/adomvi2/notebooks/dataset/images/test/n04389033_25311.JPEG: 448x640 1 tank, 4.6ms\n",
      "image 154/173 /home/ukemkata/workspace/adomvi2/notebooks/dataset/images/test/n04389033_26017.JPEG: 480x640 1 tank, 5.0ms\n",
      "image 155/173 /home/ukemkata/workspace/adomvi2/notebooks/dataset/images/test/n04389033_26695.JPEG: 448x640 1 tank, 5.2ms\n",
      "image 156/173 /home/ukemkata/workspace/adomvi2/notebooks/dataset/images/test/n04389033_29813.JPEG: 480x640 1 tank, 5.1ms\n",
      "image 157/173 /home/ukemkata/workspace/adomvi2/notebooks/dataset/images/test/n04389033_30289.JPEG: 416x640 2 tanks, 5.2ms\n",
      "image 158/173 /home/ukemkata/workspace/adomvi2/notebooks/dataset/images/test/n04389033_3051.JPEG: 480x640 1 tank, 5.0ms\n",
      "image 159/173 /home/ukemkata/workspace/adomvi2/notebooks/dataset/images/test/n04389033_30588.JPEG: 480x640 2 tanks, 4.7ms\n",
      "image 160/173 /home/ukemkata/workspace/adomvi2/notebooks/dataset/images/test/n04389033_32382.JPEG: 640x608 1 tank, 5.5ms\n",
      "image 161/173 /home/ukemkata/workspace/adomvi2/notebooks/dataset/images/test/n04389033_32488.JPEG: 480x640 1 tank, 5.0ms\n",
      "image 162/173 /home/ukemkata/workspace/adomvi2/notebooks/dataset/images/test/n04389033_32819.JPEG: 448x640 1 tank, 5.0ms\n",
      "image 163/173 /home/ukemkata/workspace/adomvi2/notebooks/dataset/images/test/n04389033_33415.JPEG: 448x640 1 tank, 4.7ms\n",
      "image 164/173 /home/ukemkata/workspace/adomvi2/notebooks/dataset/images/test/n04389033_5020.JPEG: 448x640 1 tank, 4.5ms\n",
      "image 165/173 /home/ukemkata/workspace/adomvi2/notebooks/dataset/images/test/n04389033_5954.JPEG: 448x640 1 tank, 4.6ms\n",
      "image 166/173 /home/ukemkata/workspace/adomvi2/notebooks/dataset/images/test/n04389033_6262.JPEG: 448x640 1 tank, 4.6ms\n",
      "image 167/173 /home/ukemkata/workspace/adomvi2/notebooks/dataset/images/test/n04389033_8072.JPEG: 480x640 1 tank, 5.0ms\n",
      "image 168/173 /home/ukemkata/workspace/adomvi2/notebooks/dataset/images/test/n04389033_8272.JPEG: 512x640 1 tank, 5.2ms\n",
      "image 169/173 /home/ukemkata/workspace/adomvi2/notebooks/dataset/images/test/n04389033_8351.JPEG: 480x640 1 tank, 5.0ms\n",
      "image 170/173 /home/ukemkata/workspace/adomvi2/notebooks/dataset/images/test/n04389033_8657.JPEG: 480x640 1 tank, 4.6ms\n",
      "image 171/173 /home/ukemkata/workspace/adomvi2/notebooks/dataset/images/test/n04389033_916.JPEG: 480x640 1 tank, 4.6ms\n",
      "image 172/173 /home/ukemkata/workspace/adomvi2/notebooks/dataset/images/test/n04389033_960.JPEG: 416x640 2 tanks, 5.3ms\n",
      "image 173/173 /home/ukemkata/workspace/adomvi2/notebooks/dataset/images/test/n04389033_9862.JPEG: 480x640 1 tank, 5.2ms\n",
      "Speed: 1.4ms preprocess, 13.3ms inference, 0.7ms postprocess per image at shape (1, 3, 480, 640)\n",
      "Results saved to \u001b[1mruns/detect/predict2\u001b[0m\n",
      "172 labels saved to runs/detect/predict2/labels\n"
     ]
    }
   ],
   "source": [
    "from pathlib import Path\n",
    "from adomvi.yolo.yolo import predict\n",
    "\n",
    "best_model = Path() / \"runs/detect/train/weights/best.pt\"\n",
    "results = predict(best_model, source=dataset_dir / \"images/test\")"
   ]
  },
  {
   "cell_type": "markdown",
   "id": "71ef120f-376b-4218-ba8b-fdb5baad96c2",
   "metadata": {},
   "source": [
    "### Evaluate model predictions"
   ]
  },
  {
   "cell_type": "markdown",
   "id": "a9c3470a-653b-4552-a750-90238b94039e",
   "metadata": {},
   "source": [
    "We can first evaluate our model by loading the predictions in a Fiftyone dataset view of our test data. We select the images tagged as part of the test set in our dataset."
   ]
  },
  {
   "cell_type": "code",
   "execution_count": 8,
   "id": "0d17c385-0934-41d4-952c-d25364780bbc",
   "metadata": {},
   "outputs": [],
   "source": [
    "# The test split of the dataset\n",
    "test_view = dataset.match_tags(\"test\")"
   ]
  },
  {
   "cell_type": "markdown",
   "id": "20ccadc7-987c-4aff-91ec-d44da3370dde",
   "metadata": {},
   "source": [
    "Then we can load the model predictions as fields of the images in our test view."
   ]
  },
  {
   "cell_type": "code",
   "execution_count": 10,
   "id": "5ebffeaa-46b3-4f96-8e5b-db0531e8d6f8",
   "metadata": {},
   "outputs": [],
   "source": [
    "from pathlib import Path\n",
    "from adomvi.yolo.utils import add_yolo_detections\n",
    "\n",
    "prediction_field = \"yolov8\"\n",
    "predictions_dir = Path() / \"runs/detect/predict/labels\"\n",
    "add_yolo_detections(test_view, prediction_field=prediction_field, predictions_dir=predictions_dir, class_list=[\"tank\"])"
   ]
  },
  {
   "cell_type": "markdown",
   "id": "08a6c727-fc8a-46f8-aef0-613ff77d7cc4",
   "metadata": {},
   "source": [
    "Now we can visualize these YOLOv8 model predictions on the samples in our dataset in the FiftyOne app:"
   ]
  },
  {
   "cell_type": "code",
   "execution_count": 11,
   "id": "5c0da62f-30e6-4abf-a33b-68923ae40175",
   "metadata": {},
   "outputs": [
    {
     "data": {
      "application/javascript": [
       "window.open('http://localhost:5151/');"
      ],
      "text/plain": [
       "<IPython.core.display.Javascript object>"
      ]
     },
     "metadata": {},
     "output_type": "display_data"
    }
   ],
   "source": [
    "session.open_tab()"
   ]
  },
  {
   "cell_type": "markdown",
   "id": "c06d3a9f-aabe-43a5-b264-c0d935194b0e",
   "metadata": {},
   "source": [
    "Finally, we can evaluate our model's predictions and print the mAP."
   ]
  },
  {
   "cell_type": "code",
   "execution_count": 12,
   "id": "f04724f1-42ff-424c-bc65-b8b7f76d097c",
   "metadata": {},
   "outputs": [
    {
     "name": "stdout",
     "output_type": "stream",
     "text": [
      "Evaluating detections...\n",
      " 100% |█████████████████| 173/173 [255.2ms elapsed, 0s remaining, 677.9 samples/s]      \n",
      "Performing IoU sweep...\n",
      " 100% |█████████████████| 173/173 [298.7ms elapsed, 0s remaining, 579.2 samples/s]      \n"
     ]
    }
   ],
   "source": [
    "detection_results = test_view.evaluate_detections(\n",
    "    prediction_field, \n",
    "    eval_key=\"eval\",\n",
    "    compute_mAP=True,\n",
    "    gt_field=\"ground_truth\",\n",
    ")"
   ]
  },
  {
   "cell_type": "code",
   "execution_count": 13,
   "id": "ba9326b5-b4fc-49d9-96ff-a21293e8bd86",
   "metadata": {},
   "outputs": [
    {
     "name": "stdout",
     "output_type": "stream",
     "text": [
      "mAP = 0.05006000600060006\n"
     ]
    }
   ],
   "source": [
    "mAP = detection_results.mAP()\n",
    "print(f\"mAP = {mAP}\")"
   ]
  },
  {
   "cell_type": "code",
   "execution_count": 14,
   "id": "6818e918-1a61-4ac7-a403-e1e59b3fe9d4",
   "metadata": {},
   "outputs": [
    {
     "name": "stdout",
     "output_type": "stream",
     "text": [
      "              precision    recall  f1-score   support\n",
      "\n",
      "        tank       0.76      0.06      0.11       264\n",
      "\n",
      "   micro avg       0.76      0.06      0.11       264\n",
      "   macro avg       0.76      0.06      0.11       264\n",
      "weighted avg       0.76      0.06      0.11       264\n",
      "\n"
     ]
    }
   ],
   "source": [
    "detection_results.print_report()"
   ]
  },
  {
   "cell_type": "code",
   "execution_count": null,
   "id": "b72bc4ea-0293-4b6f-bb06-1f4997fec08c",
   "metadata": {},
   "outputs": [],
   "source": []
  }
 ],
 "metadata": {
  "kernelspec": {
   "display_name": "Python 3 (ipykernel)",
   "language": "python",
   "name": "python3"
  },
  "language_info": {
   "codemirror_mode": {
    "name": "ipython",
    "version": 3
   },
   "file_extension": ".py",
   "mimetype": "text/x-python",
   "name": "python",
   "nbconvert_exporter": "python",
   "pygments_lexer": "ipython3",
   "version": "3.10.14"
  }
 },
 "nbformat": 4,
 "nbformat_minor": 5
}
