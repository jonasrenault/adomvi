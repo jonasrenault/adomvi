{
 "cells": [
  {
   "cell_type": "markdown",
   "id": "3dd3446b-0b0d-4a38-a5ed-47ff8e9ab632",
   "metadata": {},
   "source": [
    "# Dataset creation to train a YoloV8 model for tank detection"
   ]
  },
  {
   "cell_type": "markdown",
   "id": "d88e76d6-108c-4efd-8349-40ffcdb51e3e",
   "metadata": {},
   "source": [
    "This notebook shows how to build a dataset of annotated images to train a computer vision model for object detection. We use images from open source object-detection datasets to create a dataset of military vehicles and format it correctly for YoloV8 training.\n",
    "\n",
    "We use [fiftyone](https://github.com/voxel51/fiftyone) to convert, merge, label and format the images prior to training with [Yolov8](https://github.com/ultralytics/ultralytics)."
   ]
  },
  {
   "cell_type": "markdown",
   "id": "802bb522-399e-4de2-aa90-f98f57f52554",
   "metadata": {},
   "source": [
    "### Defining classes"
   ]
  },
  {
   "cell_type": "markdown",
   "id": "82b8be81-9954-4692-977f-ef7d5aff878c",
   "metadata": {},
   "source": [
    "In order to have a model that discriminates between different types of military vehicles, we'll try to define large class labels by using Wikipedia's [Military vehicles by type](https://en.wikipedia.org/wiki/Category:Military_vehicles_by_type) category.\n",
    "\n",
    "We'll use 4 classes : \n",
    "\n",
    "- **Armoured fighting vehicle (AFV)** is an armed combat vehicle protected by armour, generally combining operational mobility with offensive and defensive capabilities. AFVs can be wheeled or tracked. Examples of AFVs are tanks, armoured cars, assault guns, self-propelled guns, infantry fighting vehicles (IFV), and armoured personnel carriers (APC).\n",
    "- **Armoured personnel carrier (APC)** is a broad type of armoured military vehicle designed to transport personnel and equipment in combat zones.\n",
    "- **Military engineering vehicle (MEV)** is a vehicle built for construction work or for the transportation of combat engineers on the battlefield.\n",
    "- **Light armoured vehicle (LAV) (incl. Reconnaissance vehicle - RV)** is the lightest weight class military vehicle category. A Jeep-like four-wheel drive vehicle for military use, with light or no armour. **Reconnaissance vehicle (RV)** is a military vehicle used for forward reconnaissance. Both tracked and wheeled reconnaissance vehicles are in service."
   ]
  },
  {
   "cell_type": "markdown",
   "id": "296639f3-2882-4663-a8b8-f280a47e4c6a",
   "metadata": {},
   "source": [
    "### Setup"
   ]
  },
  {
   "cell_type": "markdown",
   "id": "b1b6e7f6-8b1a-4d6f-a4b0-81558b647c45",
   "metadata": {},
   "source": [
    "We start by setting up some logging."
   ]
  },
  {
   "cell_type": "code",
   "execution_count": 1,
   "id": "9fab28ec-2198-4420-9d0e-2d3a218656c5",
   "metadata": {},
   "outputs": [],
   "source": [
    "import logging\n",
    "\n",
    "logger = logging.getLogger('adomvi')\n",
    "logger.setLevel(logging.INFO)\n",
    "ch = logging.StreamHandler()\n",
    "ch.setLevel(logging.INFO)\n",
    "ch.setFormatter(logging.Formatter('%(asctime)s - %(levelname)s - %(message)s'))\n",
    "logger.addHandler(ch)"
   ]
  },
  {
   "cell_type": "markdown",
   "id": "9ee6b90c-8341-41fb-8f56-4b4428155fe0",
   "metadata": {},
   "source": [
    "### Download images from ImageNet"
   ]
  },
  {
   "cell_type": "markdown",
   "id": "d4e68115-1933-4a75-adfa-fb783455d80f",
   "metadata": {},
   "source": [
    "The first dataset we'll use is ImageNet21k. The ImageNet21k dataset is available at [https://image-net.org/download-images.php](https://image-net.org/download-images.php). You need to register and be granted access to download the images. We use the Winter 21 version since it gives the option of downloading the images for a single synset: https://image-net.org/data/winter21_whole/SYNSET_ID.tar, e.g., https://image-net.org/data/winter21_whole/n02352591.tar. The processed version of ImageNet21k is available here : https://github.com/Alibaba-MIIL/ImageNet21K. The class ids and names are available here https://github.com/google-research/big_transfer/issues/7#issuecomment-640048775."
   ]
  },
  {
   "cell_type": "markdown",
   "id": "7a888ead-b05d-4829-8a8b-f911f36ce2f5",
   "metadata": {},
   "source": [
    "We'll begin by downloading the class names that are in ImageNet21k and look for relevant classes that we can use."
   ]
  },
  {
   "cell_type": "code",
   "execution_count": 2,
   "id": "8fa19546-d7cb-450f-a849-a9164dd47bbe",
   "metadata": {},
   "outputs": [],
   "source": [
    "from pathlib import Path\n",
    "\n",
    "imagenet_dir = Path() / \"imagenet\""
   ]
  },
  {
   "cell_type": "code",
   "execution_count": 3,
   "id": "228b63bd-3b4f-4d34-89d8-d10a36c6b199",
   "metadata": {},
   "outputs": [
    {
     "name": "stderr",
     "output_type": "stream",
     "text": [
      "2024-07-12 01:09:35,701 - INFO - File imagenet/imagenet21k_wordnet_ids.txt already exists. Skipping download.\n",
      "2024-07-12 01:09:35,703 - INFO - File imagenet/imagenet21k_wordnet_lemmas.txt already exists. Skipping download.\n"
     ]
    },
    {
     "data": {
      "text/plain": [
       "{'n03762982': 'military_hospital',\n",
       " 'n03763727': 'military_quarters',\n",
       " 'n03763968': 'military_uniform',\n",
       " 'n03764276': 'military_vehicle',\n",
       " 'n04552348': 'warplane, military_plane',\n",
       " 'n08249459': 'concert_band, military_band',\n",
       " 'n09809538': 'army_engineer, military_engineer',\n",
       " 'n09943239': 'commissioned_military_officer',\n",
       " 'n10316360': 'military_attache',\n",
       " 'n10316527': 'military_chaplain, padre, Holy_Joe, sky_pilot',\n",
       " 'n10316862': 'military_leader',\n",
       " 'n10317007': 'military_officer, officer',\n",
       " 'n10317500': 'military_policeman, MP',\n",
       " 'n10512372': 'recruit, military_recruit',\n",
       " 'n10582746': 'serviceman, military_man, man, military_personnel',\n",
       " 'n10759331': 'volunteer, military_volunteer, voluntary'}"
      ]
     },
     "execution_count": 3,
     "metadata": {},
     "output_type": "execute_result"
    }
   ],
   "source": [
    "from adomvi.datasets.imagenet import download_class_names, find_class_by_text\n",
    "\n",
    "classes = download_class_names(imagenet_dir)\n",
    "find_class_by_text(classes, \"military\")"
   ]
  },
  {
   "cell_type": "markdown",
   "id": "cbe8d5b9-3b76-466e-9cbc-1d77732c623d",
   "metadata": {},
   "source": [
    "We can now download images and annotations for the relevant classes. The `download_imagenet_detections` function will download the images and annotations for the given class ids **if the annotations exist** (not all classes have been annotated)."
   ]
  },
  {
   "cell_type": "code",
   "execution_count": 4,
   "id": "676125e1-2745-4604-b68c-4fb64545bb31",
   "metadata": {},
   "outputs": [
    {
     "name": "stderr",
     "output_type": "stream",
     "text": [
      "2024-07-12 01:09:35,767 - INFO - File imagenet/bboxes_annotations.tar.gz already exists. Skipping download.\n",
      "2024-07-12 01:09:36,311 - INFO - There are not annotations for class n02740300.\n",
      "2024-07-12 01:09:36,312 - INFO - Annotations directory imagenet/labels/n04389033 already exists. Skipping extract.\n",
      "2024-07-12 01:09:36,313 - INFO - There are not annotations for class n02740533.\n",
      "2024-07-12 01:09:36,314 - INFO - There are not annotations for class n04464852.\n",
      "2024-07-12 01:09:36,315 - INFO - There are not annotations for class n03764276.\n",
      "2024-07-12 01:09:36,316 - INFO - Deleting annotations dir.\n"
     ]
    }
   ],
   "source": [
    "from adomvi.datasets.imagenet import download_imagenet_detections\n",
    "\n",
    "class_ids = [\"n02740300\", \"n04389033\", \"n02740533\", \"n04464852\", \"n03764276\"]\n",
    "download_imagenet_detections(class_ids, imagenet_dir)"
   ]
  },
  {
   "cell_type": "markdown",
   "id": "714f4169-7104-4f49-8ed8-b85c019cba82",
   "metadata": {},
   "source": [
    "The data we just downloaded into the `imagenet` directory is not all clean: there are annotations which have no corresponding image. We need to remove those labels, otherwise this causes errors when importing the data into fiftyone."
   ]
  },
  {
   "cell_type": "code",
   "execution_count": 5,
   "id": "f932c93e-4f15-45df-afdb-4fd3a8493a7f",
   "metadata": {},
   "outputs": [
    {
     "name": "stderr",
     "output_type": "stream",
     "text": [
      "2024-07-12 01:09:36,381 - INFO - Deleting 0 labels without images\n"
     ]
    }
   ],
   "source": [
    "from adomvi.datasets.imagenet import cleanup_labels_without_images\n",
    "\n",
    "cleanup_labels_without_images(imagenet_dir)"
   ]
  },
  {
   "cell_type": "markdown",
   "id": "11276d55-6ed3-452a-9ed3-8a76be140797",
   "metadata": {},
   "source": [
    "We can now create a new dataset with `fiftyone`. Fiftyone allows us to manage images annotated with bounding boxes and labels, to merge datasets from different sources, and to split the datasets and prepare them for processing."
   ]
  },
  {
   "cell_type": "code",
   "execution_count": 6,
   "id": "033129fc-b01b-40d4-8a04-f14ecf9823cf",
   "metadata": {},
   "outputs": [
    {
     "name": "stdout",
     "output_type": "stream",
     "text": [
      " 100% |█████████████████| 378/378 [520.8ms elapsed, 0s remaining, 730.2 samples/s]      \n"
     ]
    }
   ],
   "source": [
    "import fiftyone as fo\n",
    "\n",
    "# Create the dataset\n",
    "dataset = fo.Dataset.from_dir(\n",
    "    dataset_dir=imagenet_dir,\n",
    "    dataset_type=fo.types.VOCDetectionDataset,\n",
    ")\n",
    "\n",
    "dataset.map_labels(\"ground_truth\", {\"n04389033\": \"AFV\"}).save()"
   ]
  },
  {
   "cell_type": "markdown",
   "id": "76c4fe7c-a8da-4b6e-b799-ada2fedc8274",
   "metadata": {},
   "source": [
    "Once our dataset is created, we can launch a session to display the dataset and view the annotated images"
   ]
  },
  {
   "cell_type": "code",
   "execution_count": 7,
   "id": "e969c160-6fff-4c61-8ffa-84c9d80c72d4",
   "metadata": {},
   "outputs": [
    {
     "data": {
      "text/html": [
       "\n",
       "<style>\n",
       "@import url(\"https://fonts.googleapis.com/css2?family=Palanquin&display=swap\");\n",
       "\n",
       "body, html {\n",
       "  margin: 0;\n",
       "  padding: 0;\n",
       "  width: 100%;\n",
       "}\n",
       "\n",
       "#focontainer-54cecb1c-f959-4504-b659-1d0c7e63c97d {\n",
       "  position: relative;\n",
       "  height: 800px;\n",
       "  display: block !important;\n",
       "}\n",
       "#foactivate-54cecb1c-f959-4504-b659-1d0c7e63c97d {\n",
       "  font-weight: bold;\n",
       "  cursor: pointer;\n",
       "  font-size: 24px;\n",
       "  border-radius: 3px;\n",
       "  text-align: center;\n",
       "  padding: 0.5em;\n",
       "  color: rgb(255, 255, 255);\n",
       "  font-family: \"Palanquin\", sans-serif;\n",
       "  position: absolute;\n",
       "  left: 50%;\n",
       "  top: 50%;\n",
       "  width: 160px;\n",
       "  margin-left: -80px;\n",
       "  margin-top: -23px;\n",
       "  background: hsla(210,11%,15%, 0.8);\n",
       "  border: none;\n",
       "}\n",
       "#foactivate-54cecb1c-f959-4504-b659-1d0c7e63c97d:focus {\n",
       "  outline: none;\n",
       "}\n",
       "#fooverlay-54cecb1c-f959-4504-b659-1d0c7e63c97d {\n",
       "  width: 100%;\n",
       "  height: 100%;\n",
       "  background: hsla(208, 7%, 46%, 0.7);\n",
       "  position: absolute;\n",
       "  top: 0;\n",
       "  left: 0;\n",
       "  display: none;\n",
       "  cursor: pointer;\n",
       "}\n",
       "</style>\n",
       "\n",
       "<div id=\"focontainer-54cecb1c-f959-4504-b659-1d0c7e63c97d\">\n",
       "   <div id=\"fooverlay-54cecb1c-f959-4504-b659-1d0c7e63c97d\" style=\"display: none;\">\n",
       "      <button id=\"foactivate-54cecb1c-f959-4504-b659-1d0c7e63c97d\" >Activate</button>\n",
       "   </div>\n",
       "   <img src='data:image/jpeg;base64,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' style=\"width: 100%; max-width: 758px;\"/>\n",
       "</div>\n",
       "\n",
       "<script type=\"text/javascript\">\n",
       "   (function() {\n",
       "     var container = document.getElementById(\"focontainer-54cecb1c-f959-4504-b659-1d0c7e63c97d\");\n",
       "     var overlay = document.getElementById(\"fooverlay-54cecb1c-f959-4504-b659-1d0c7e63c97d\");\n",
       "     fetch(`http://localhost:5151/fiftyone`)\n",
       "     .then(() => {\n",
       "        overlay.addEventListener(\"click\", () => {\n",
       "          fetch(`http://localhost:5151/event`, {\n",
       "            method: \"POST\",\n",
       "            body: JSON.stringify({\n",
       "              event: \"reactivate_notebook_cell\",\n",
       "              data: { subscription: \"54cecb1c-f959-4504-b659-1d0c7e63c97d\" },\n",
       "              subscription: \"54cecb1c-f959-4504-b659-1d0c7e63c97d\"\n",
       "            })\n",
       "          })\n",
       "        });\n",
       "        container.addEventListener(\"mouseenter\", () => overlay.style.display = \"block\");\n",
       "        container.addEventListener(\"mouseleave\", () => overlay.style.display = \"none\");\n",
       "     });\n",
       "   })();\n",
       "</script>"
      ],
      "text/plain": [
       "<IPython.core.display.HTML object>"
      ]
     },
     "metadata": {},
     "output_type": "display_data"
    }
   ],
   "source": [
    "session = fo.launch_app(dataset)"
   ]
  },
  {
   "cell_type": "markdown",
   "id": "0944d846-1af1-4d4a-a138-447769c8cb6d",
   "metadata": {},
   "source": [
    "### Add OpenImage samples\n",
    "\n",
    "The ImageNet dataset only contained 378 annotated images of tanks, so we'll look into other available datasets to improve training of the model. We’ll load [Open Images](https://storage.googleapis.com/openimages/web/index.html) samples with `Tank` detection labels, passing in `only_matching=True` to only load the `Tank` labels. We then map these labels by changing `Tank` into `AFV`."
   ]
  },
  {
   "cell_type": "code",
   "execution_count": 8,
   "id": "4cebf0db-655d-4ead-86af-dd8284e06639",
   "metadata": {},
   "outputs": [
    {
     "name": "stdout",
     "output_type": "stream",
     "text": [
      "Downloading split 'train' to '/home/ukemkata/fiftyone/open-images-v7/train' if necessary\n",
      "Necessary images already downloaded\n",
      "Existing download of split 'train' is sufficient\n",
      "Downloading split 'test' to '/home/ukemkata/fiftyone/open-images-v7/test' if necessary\n",
      "Necessary images already downloaded\n",
      "Existing download of split 'test' is sufficient\n",
      "Downloading split 'validation' to '/home/ukemkata/fiftyone/open-images-v7/validation' if necessary\n",
      "Necessary images already downloaded\n",
      "Existing download of split 'validation' is sufficient\n",
      "Loading existing dataset 'open-images-v7'. To reload from disk, either delete the existing dataset or provide a custom `dataset_name` to use\n"
     ]
    }
   ],
   "source": [
    "import fiftyone.zoo as foz\n",
    "\n",
    "oi_samples = foz.load_zoo_dataset(\n",
    "    \"open-images-v7\",\n",
    "    classes = [\"Tank\"],\n",
    "    only_matching=True,\n",
    "    label_types=\"detections\"\n",
    ").map_labels(\n",
    "    \"ground_truth\",\n",
    "    {\"Tank\":\"AFV\"}\n",
    ")"
   ]
  },
  {
   "cell_type": "markdown",
   "id": "11a6e6b2",
   "metadata": {},
   "source": [
    "We can add these new samples into our training dataset with `merge_samples()`:"
   ]
  },
  {
   "cell_type": "code",
   "execution_count": 9,
   "id": "192e02cc-3b6f-474a-956e-c28d38aba00d",
   "metadata": {},
   "outputs": [],
   "source": [
    "dataset.merge_samples(oi_samples)"
   ]
  },
  {
   "cell_type": "code",
   "execution_count": 10,
   "id": "a9caba2a-75a0-47a4-8cb3-ffc0960166f8",
   "metadata": {},
   "outputs": [
    {
     "data": {
      "text/html": [
       "\n",
       "<style>\n",
       "@import url(\"https://fonts.googleapis.com/css2?family=Palanquin&display=swap\");\n",
       "\n",
       "body, html {\n",
       "  margin: 0;\n",
       "  padding: 0;\n",
       "  width: 100%;\n",
       "}\n",
       "\n",
       "#focontainer-125c4694-cc1e-4b9b-9bea-c2bcee58108a {\n",
       "  position: relative;\n",
       "  height: 800px;\n",
       "  display: block !important;\n",
       "}\n",
       "#foactivate-125c4694-cc1e-4b9b-9bea-c2bcee58108a {\n",
       "  font-weight: bold;\n",
       "  cursor: pointer;\n",
       "  font-size: 24px;\n",
       "  border-radius: 3px;\n",
       "  text-align: center;\n",
       "  padding: 0.5em;\n",
       "  color: rgb(255, 255, 255);\n",
       "  font-family: \"Palanquin\", sans-serif;\n",
       "  position: absolute;\n",
       "  left: 50%;\n",
       "  top: 50%;\n",
       "  width: 160px;\n",
       "  margin-left: -80px;\n",
       "  margin-top: -23px;\n",
       "  background: hsla(210,11%,15%, 0.8);\n",
       "  border: none;\n",
       "}\n",
       "#foactivate-125c4694-cc1e-4b9b-9bea-c2bcee58108a:focus {\n",
       "  outline: none;\n",
       "}\n",
       "#fooverlay-125c4694-cc1e-4b9b-9bea-c2bcee58108a {\n",
       "  width: 100%;\n",
       "  height: 100%;\n",
       "  background: hsla(208, 7%, 46%, 0.7);\n",
       "  position: absolute;\n",
       "  top: 0;\n",
       "  left: 0;\n",
       "  display: none;\n",
       "  cursor: pointer;\n",
       "}\n",
       "</style>\n",
       "\n",
       "<div id=\"focontainer-125c4694-cc1e-4b9b-9bea-c2bcee58108a\">\n",
       "   <div id=\"fooverlay-125c4694-cc1e-4b9b-9bea-c2bcee58108a\" style=\"display: none;\">\n",
       "      <button id=\"foactivate-125c4694-cc1e-4b9b-9bea-c2bcee58108a\" >Activate</button>\n",
       "   </div>\n",
       "   <img src='data:image/jpeg;base64,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' style=\"width: 100%; max-width: 758px;\"/>\n",
       "</div>\n",
       "\n",
       "<script type=\"text/javascript\">\n",
       "   (function() {\n",
       "     var container = document.getElementById(\"focontainer-125c4694-cc1e-4b9b-9bea-c2bcee58108a\");\n",
       "     var overlay = document.getElementById(\"fooverlay-125c4694-cc1e-4b9b-9bea-c2bcee58108a\");\n",
       "     fetch(`http://localhost:5151/fiftyone`)\n",
       "     .then(() => {\n",
       "        overlay.addEventListener(\"click\", () => {\n",
       "          fetch(`http://localhost:5151/event`, {\n",
       "            method: \"POST\",\n",
       "            body: JSON.stringify({\n",
       "              event: \"reactivate_notebook_cell\",\n",
       "              data: { subscription: \"125c4694-cc1e-4b9b-9bea-c2bcee58108a\" },\n",
       "              subscription: \"125c4694-cc1e-4b9b-9bea-c2bcee58108a\"\n",
       "            })\n",
       "          })\n",
       "        });\n",
       "        container.addEventListener(\"mouseenter\", () => overlay.style.display = \"block\");\n",
       "        container.addEventListener(\"mouseleave\", () => overlay.style.display = \"none\");\n",
       "     });\n",
       "   })();\n",
       "</script>"
      ],
      "text/plain": [
       "<IPython.core.display.HTML object>"
      ]
     },
     "metadata": {},
     "output_type": "display_data"
    }
   ],
   "source": [
    "session.show()"
   ]
  },
  {
   "cell_type": "markdown",
   "id": "31602b1c",
   "metadata": {},
   "source": [
    "### Add Roboflow dataset\n",
    "\n",
    "We now have 1624 annotated images of tanks, which is good but still a bit small. To get even more training images, we'll load another annotated dataset of military vehicles, made available by Tuomo Hiippala from the Digital Geography Lab, on [Roboflow](https://universe.roboflow.com/capstoneproject/russian-military-annotated).\n",
    "\n",
    "The following code will download, restructure, and import the dataset into fityone."
   ]
  },
  {
   "cell_type": "code",
   "execution_count": 11,
   "id": "cc1c1661-7680-430a-a2a7-be0759bd1c53",
   "metadata": {},
   "outputs": [
    {
     "name": "stderr",
     "output_type": "stream",
     "text": [
      "2024-07-12 01:10:29,220 - INFO - Downloading roboflow/dataset_rf.zip from https://universe.roboflow.com/ds/P2jPq32qKU?key=E4MIo8mavP ...\n",
      "2024-07-12 01:11:02,618 - INFO - Download complete.\n",
      "2024-07-12 01:11:02,796 - INFO - Extracted to roboflow\n",
      "2024-07-12 01:11:02,960 - INFO - Dataset dir restructured successfully.\n"
     ]
    }
   ],
   "source": [
    "from adomvi.datasets.roboflow import download_roboflow_dataset, restructure_dataset\n",
    "\n",
    "roboflow_dir = Path() / \"roboflow\"\n",
    "url=\"https://universe.roboflow.com/ds/P2jPq32qKU?key=E4MIo8mavP\"\n",
    "download_roboflow_dataset(url, roboflow_dir)\n",
    "restructure_dataset(roboflow_dir)"
   ]
  },
  {
   "cell_type": "markdown",
   "id": "712c9fa0-c838-46c5-a40c-83db1ae98afe",
   "metadata": {},
   "source": [
    "Since this new dataset defines the type of vehicle as classes, we'll map those to our four classes."
   ]
  },
  {
   "cell_type": "code",
   "execution_count": 12,
   "id": "0907a902-9b29-4a09-a826-c3bc953fc542",
   "metadata": {},
   "outputs": [
    {
     "name": "stdout",
     "output_type": "stream",
     "text": [
      " 100% |███████████████| 1042/1042 [1.4s elapsed, 0s remaining, 747.8 samples/s]         \n"
     ]
    }
   ],
   "source": [
    "# Import the roboflow dataset\n",
    "dataset_rf = fo.Dataset.from_dir(\n",
    "    dataset_dir=roboflow_dir,\n",
    "    dataset_type=fo.types.VOCDetectionDataset,\n",
    ")\n",
    "\n",
    "# Define the existing labels and their mappings\n",
    "label_mapping = {\n",
    "    \"bm-21\": \"AFV\",\n",
    "    \"t-80\": \"AFV\",\n",
    "    \"t-64\": \"AFV\",\n",
    "    \"t-72\": \"AFV\",\n",
    "    \"bmp-1\": \"AFV\",\n",
    "    \"bmp-2\": \"AFV\",\n",
    "    \"bmd-2\": \"AFV\",\n",
    "    \"btr-70\": \"APC\",\n",
    "    \"btr-80\": \"APC\",\n",
    "    \"mt-lb\": \"APC\",\n",
    "}\n",
    "\n",
    "# Map the labels\n",
    "dataset_rf.map_labels(\n",
    "    \"ground_truth\",\n",
    "    label_mapping\n",
    ").save()"
   ]
  },
  {
   "cell_type": "markdown",
   "id": "c3c1b416-1d09-4e2a-83b6-93a4cee2cbbc",
   "metadata": {},
   "source": [
    "Optionally, we can remove the few images which have no labels and actually don't contain images of military vehicles."
   ]
  },
  {
   "cell_type": "code",
   "execution_count": 13,
   "id": "18785b64-9b34-4754-aa0a-9af8f940b35e",
   "metadata": {},
   "outputs": [],
   "source": [
    "# from adomvi.datasets.roboflow import delete_images_without_labels\n",
    "\n",
    "# delete_images_without_labels(dataset_rf)"
   ]
  },
  {
   "cell_type": "markdown",
   "id": "857002b8",
   "metadata": {},
   "source": [
    "Finally, we can add these new samples into our training dataset."
   ]
  },
  {
   "cell_type": "code",
   "execution_count": 14,
   "id": "1cf02686-f078-4dff-8420-90cd5afd50b7",
   "metadata": {},
   "outputs": [],
   "source": [
    "dataset.merge_samples(dataset_rf)"
   ]
  },
  {
   "cell_type": "code",
   "execution_count": 15,
   "id": "1c4a3aba-341a-4682-9965-74b075aa6dda",
   "metadata": {},
   "outputs": [
    {
     "data": {
      "text/html": [
       "\n",
       "<style>\n",
       "@import url(\"https://fonts.googleapis.com/css2?family=Palanquin&display=swap\");\n",
       "\n",
       "body, html {\n",
       "  margin: 0;\n",
       "  padding: 0;\n",
       "  width: 100%;\n",
       "}\n",
       "\n",
       "#focontainer-366b24c4-482f-4a75-ac43-e621739cab5c {\n",
       "  position: relative;\n",
       "  height: 800px;\n",
       "  display: block !important;\n",
       "}\n",
       "#foactivate-366b24c4-482f-4a75-ac43-e621739cab5c {\n",
       "  font-weight: bold;\n",
       "  cursor: pointer;\n",
       "  font-size: 24px;\n",
       "  border-radius: 3px;\n",
       "  text-align: center;\n",
       "  padding: 0.5em;\n",
       "  color: rgb(255, 255, 255);\n",
       "  font-family: \"Palanquin\", sans-serif;\n",
       "  position: absolute;\n",
       "  left: 50%;\n",
       "  top: 50%;\n",
       "  width: 160px;\n",
       "  margin-left: -80px;\n",
       "  margin-top: -23px;\n",
       "  background: hsla(210,11%,15%, 0.8);\n",
       "  border: none;\n",
       "}\n",
       "#foactivate-366b24c4-482f-4a75-ac43-e621739cab5c:focus {\n",
       "  outline: none;\n",
       "}\n",
       "#fooverlay-366b24c4-482f-4a75-ac43-e621739cab5c {\n",
       "  width: 100%;\n",
       "  height: 100%;\n",
       "  background: hsla(208, 7%, 46%, 0.7);\n",
       "  position: absolute;\n",
       "  top: 0;\n",
       "  left: 0;\n",
       "  display: none;\n",
       "  cursor: pointer;\n",
       "}\n",
       "</style>\n",
       "\n",
       "<div id=\"focontainer-366b24c4-482f-4a75-ac43-e621739cab5c\">\n",
       "   <div id=\"fooverlay-366b24c4-482f-4a75-ac43-e621739cab5c\" style=\"display: none;\">\n",
       "      <button id=\"foactivate-366b24c4-482f-4a75-ac43-e621739cab5c\" >Activate</button>\n",
       "   </div>\n",
       "   <img src='data:image/jpeg;base64,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' style=\"width: 100%; max-width: 758px;\"/>\n",
       "</div>\n",
       "\n",
       "<script type=\"text/javascript\">\n",
       "   (function() {\n",
       "     var container = document.getElementById(\"focontainer-366b24c4-482f-4a75-ac43-e621739cab5c\");\n",
       "     var overlay = document.getElementById(\"fooverlay-366b24c4-482f-4a75-ac43-e621739cab5c\");\n",
       "     fetch(`http://localhost:5151/fiftyone`)\n",
       "     .then(() => {\n",
       "        overlay.addEventListener(\"click\", () => {\n",
       "          fetch(`http://localhost:5151/event`, {\n",
       "            method: \"POST\",\n",
       "            body: JSON.stringify({\n",
       "              event: \"reactivate_notebook_cell\",\n",
       "              data: { subscription: \"366b24c4-482f-4a75-ac43-e621739cab5c\" },\n",
       "              subscription: \"366b24c4-482f-4a75-ac43-e621739cab5c\"\n",
       "            })\n",
       "          })\n",
       "        });\n",
       "        container.addEventListener(\"mouseenter\", () => overlay.style.display = \"block\");\n",
       "        container.addEventListener(\"mouseleave\", () => overlay.style.display = \"none\");\n",
       "     });\n",
       "   })();\n",
       "</script>"
      ],
      "text/plain": [
       "<IPython.core.display.HTML object>"
      ]
     },
     "metadata": {},
     "output_type": "display_data"
    }
   ],
   "source": [
    "session.show()"
   ]
  },
  {
   "cell_type": "markdown",
   "id": "7cf52027",
   "metadata": {},
   "source": [
    "### Add a custom dataset scraped from Google\n",
    "\n",
    "We now have 2666 images of military vehicles. To improve that a bit, we provide a [sample dataset](https://github.com/jonasrenault/adomvi/releases/download/v1.2.0/military-vehicles-dataset.tar.gz) of images scraped from Google and annotated with our 4 classes (*AFV*, *APC*, *LAV* & *MEV*). Let's download the dataset and merge it with our existing dataset."
   ]
  },
  {
   "cell_type": "code",
   "execution_count": 16,
   "id": "3a09856e",
   "metadata": {},
   "outputs": [
    {
     "name": "stderr",
     "output_type": "stream",
     "text": [
      "2024-07-12 01:11:04,810 - INFO - Downloading google/military-vehicles-dataset.tar.gz from https://github.com/jonasrenault/adomvi/releases/download/v1.2.0/military-vehicles-dataset.tar.gz ...\n",
      "2024-07-12 01:11:23,149 - INFO - Download complete.\n",
      "2024-07-12 01:11:23,658 - INFO - Extracted to google\n"
     ]
    }
   ],
   "source": [
    "from adomvi.datasets.google import download_google_dataset\n",
    "\n",
    "google_dir = Path() / \"google\"\n",
    "url = \"https://github.com/jonasrenault/adomvi/releases/download/v1.2.0/military-vehicles-dataset.tar.gz\"\n",
    "\n",
    "download_google_dataset(url, google_dir)"
   ]
  },
  {
   "cell_type": "code",
   "execution_count": 17,
   "id": "36c2dc44",
   "metadata": {},
   "outputs": [
    {
     "name": "stdout",
     "output_type": "stream",
     "text": [
      "Images file '/home/ukemkata/workspace/adomvi2/notebooks/google/dataset/images.txt' not found. Listing data directory '/home/ukemkata/workspace/adomvi2/notebooks/google/dataset/data/' instead\n",
      " 100% |█████████████████| 669/669 [548.4ms elapsed, 0s remaining, 1.2K samples/s]      \n"
     ]
    }
   ],
   "source": [
    "dataset_google = fo.Dataset.from_dir(\n",
    "    dataset_dir=google_dir / \"dataset\",\n",
    "    dataset_type=fo.types.YOLOv4Dataset,\n",
    ")"
   ]
  },
  {
   "cell_type": "code",
   "execution_count": 18,
   "id": "fd2bb83c",
   "metadata": {},
   "outputs": [],
   "source": [
    "dataset.merge_samples(dataset_google)\n"
   ]
  },
  {
   "cell_type": "code",
   "execution_count": 19,
   "id": "f1209140",
   "metadata": {},
   "outputs": [
    {
     "data": {
      "text/html": [
       "\n",
       "<style>\n",
       "@import url(\"https://fonts.googleapis.com/css2?family=Palanquin&display=swap\");\n",
       "\n",
       "body, html {\n",
       "  margin: 0;\n",
       "  padding: 0;\n",
       "  width: 100%;\n",
       "}\n",
       "\n",
       "#focontainer-0e2c6dac-17e0-427f-86f9-24ad92c70732 {\n",
       "  position: relative;\n",
       "  height: 800px;\n",
       "  display: block !important;\n",
       "}\n",
       "#foactivate-0e2c6dac-17e0-427f-86f9-24ad92c70732 {\n",
       "  font-weight: bold;\n",
       "  cursor: pointer;\n",
       "  font-size: 24px;\n",
       "  border-radius: 3px;\n",
       "  text-align: center;\n",
       "  padding: 0.5em;\n",
       "  color: rgb(255, 255, 255);\n",
       "  font-family: \"Palanquin\", sans-serif;\n",
       "  position: absolute;\n",
       "  left: 50%;\n",
       "  top: 50%;\n",
       "  width: 160px;\n",
       "  margin-left: -80px;\n",
       "  margin-top: -23px;\n",
       "  background: hsla(210,11%,15%, 0.8);\n",
       "  border: none;\n",
       "}\n",
       "#foactivate-0e2c6dac-17e0-427f-86f9-24ad92c70732:focus {\n",
       "  outline: none;\n",
       "}\n",
       "#fooverlay-0e2c6dac-17e0-427f-86f9-24ad92c70732 {\n",
       "  width: 100%;\n",
       "  height: 100%;\n",
       "  background: hsla(208, 7%, 46%, 0.7);\n",
       "  position: absolute;\n",
       "  top: 0;\n",
       "  left: 0;\n",
       "  display: none;\n",
       "  cursor: pointer;\n",
       "}\n",
       "</style>\n",
       "\n",
       "<div id=\"focontainer-0e2c6dac-17e0-427f-86f9-24ad92c70732\">\n",
       "   <div id=\"fooverlay-0e2c6dac-17e0-427f-86f9-24ad92c70732\" style=\"display: none;\">\n",
       "      <button id=\"foactivate-0e2c6dac-17e0-427f-86f9-24ad92c70732\" >Activate</button>\n",
       "   </div>\n",
       "   <img src='data:image/jpeg;base64,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' style=\"width: 100%; max-width: 758px;\"/>\n",
       "</div>\n",
       "\n",
       "<script type=\"text/javascript\">\n",
       "   (function() {\n",
       "     var container = document.getElementById(\"focontainer-0e2c6dac-17e0-427f-86f9-24ad92c70732\");\n",
       "     var overlay = document.getElementById(\"fooverlay-0e2c6dac-17e0-427f-86f9-24ad92c70732\");\n",
       "     fetch(`http://localhost:5151/fiftyone`)\n",
       "     .then(() => {\n",
       "        overlay.addEventListener(\"click\", () => {\n",
       "          fetch(`http://localhost:5151/event`, {\n",
       "            method: \"POST\",\n",
       "            body: JSON.stringify({\n",
       "              event: \"reactivate_notebook_cell\",\n",
       "              data: { subscription: \"0e2c6dac-17e0-427f-86f9-24ad92c70732\" },\n",
       "              subscription: \"0e2c6dac-17e0-427f-86f9-24ad92c70732\"\n",
       "            })\n",
       "          })\n",
       "        });\n",
       "        container.addEventListener(\"mouseenter\", () => overlay.style.display = \"block\");\n",
       "        container.addEventListener(\"mouseleave\", () => overlay.style.display = \"none\");\n",
       "     });\n",
       "   })();\n",
       "</script>"
      ],
      "text/plain": [
       "<IPython.core.display.HTML object>"
      ]
     },
     "metadata": {},
     "output_type": "display_data"
    }
   ],
   "source": [
    "session.show()"
   ]
  },
  {
   "cell_type": "markdown",
   "id": "189695b2-2323-49a7-a734-5b68fc2b48ae",
   "metadata": {},
   "source": [
    "### Export dataset to disk\n",
    "\n",
    "Now that our dataset is created, we'll export it into a format supported by YOLOv8 to train our model."
   ]
  },
  {
   "cell_type": "markdown",
   "id": "e98d4156-7b05-4544-863a-f568cfb6192e",
   "metadata": {},
   "source": [
    "We first remove tags from the dataset, and split it into a train, val and test sets."
   ]
  },
  {
   "cell_type": "code",
   "execution_count": 20,
   "id": "25a1477a-4f56-4404-a714-a9ee14b8507c",
   "metadata": {},
   "outputs": [],
   "source": [
    "import fiftyone.utils.random as four\n",
    "\n",
    "## delete existing tags to start fresh\n",
    "dataset.untag_samples(dataset.distinct(\"tags\"))\n",
    "\n",
    "## split into train, test and val\n",
    "four.random_split(dataset, {\"train\": 0.8, \"val\": 0.1, \"test\": 0.1})"
   ]
  },
  {
   "cell_type": "markdown",
   "id": "d1a2c420-c3f6-4d17-814c-ea64f6824aa9",
   "metadata": {},
   "source": [
    "Once our dataset is split, we can export it to a specific directory."
   ]
  },
  {
   "cell_type": "code",
   "execution_count": 21,
   "id": "78ffa7f9-0c00-4adf-a017-d91bf8fbbe08",
   "metadata": {},
   "outputs": [
    {
     "name": "stdout",
     "output_type": "stream",
     "text": [
      " 100% |███████████████| 2668/2668 [2.1s elapsed, 0s remaining, 1.5K samples/s]       \n",
      "Directory 'dataset' already exists; export will be merged with existing files\n",
      " 100% |█████████████████| 334/334 [296.2ms elapsed, 0s remaining, 1.1K samples/s]       \n",
      "Directory 'dataset' already exists; export will be merged with existing files\n",
      " 100% |█████████████████| 333/333 [375.1ms elapsed, 0s remaining, 887.9 samples/s]      \n"
     ]
    }
   ],
   "source": [
    "from adomvi.yolo.utils import export_yolo_data\n",
    "\n",
    "export_dir = Path() / \"dataset\"\n",
    "export_yolo_data(dataset, export_dir, [\"AFV\", \"APC\", \"MEV\", \"LAV\"], split = [\"train\", \"val\", \"test\"], overwrite=True)"
   ]
  },
  {
   "cell_type": "markdown",
   "id": "831b6b92",
   "metadata": {},
   "source": [
    "### Add augmentaions\n",
    "\n",
    "Here we use the data augmention to add more data at our dataset to up the model performance"
   ]
  },
  {
   "cell_type": "code",
   "execution_count": 22,
   "id": "11019557",
   "metadata": {},
   "outputs": [
    {
     "name": "stdout",
     "output_type": "stream",
     "text": [
      "-------------------------------------------------------------\n",
      "Le dossier test vient de passer\n",
      "333  images\n",
      "333  labels\n",
      "-------------------------------------------------------------\n",
      "Le dossier train vient de passer\n",
      "2668  images\n",
      "2668  labels\n"
     ]
    }
   ],
   "source": [
    "from adomvi.datasets.augmentation import func_augmentation, augment_dataset\n",
    "from pathlib import Path\n",
    "\n",
    "\n",
    "dataset_path = Path() / \"dataset\"\n",
    "\n",
    "augment_dataset(dataset_path, func_augmentation)"
   ]
  },
  {
   "cell_type": "code",
   "execution_count": 23,
   "id": "8034c0cc",
   "metadata": {},
   "outputs": [
    {
     "name": "stdout",
     "output_type": "stream",
     "text": [
      " 100% |███████████████| 5336/5336 [4.5s elapsed, 0s remaining, 1.3K samples/s]        \n"
     ]
    },
    {
     "name": "stderr",
     "output_type": "stream",
     "text": [
      "INFO:eta.core.utils: 100% |███████████████| 5336/5336 [4.5s elapsed, 0s remaining, 1.3K samples/s]        \n"
     ]
    },
    {
     "name": "stdout",
     "output_type": "stream",
     "text": [
      " 100% |█████████████████| 334/334 [240.9ms elapsed, 0s remaining, 1.4K samples/s]     \n"
     ]
    },
    {
     "name": "stderr",
     "output_type": "stream",
     "text": [
      "INFO:eta.core.utils: 100% |█████████████████| 334/334 [240.9ms elapsed, 0s remaining, 1.4K samples/s]     \n"
     ]
    },
    {
     "name": "stdout",
     "output_type": "stream",
     "text": [
      " 100% |█████████████████| 666/666 [490.0ms elapsed, 0s remaining, 1.4K samples/s]      \n"
     ]
    },
    {
     "name": "stderr",
     "output_type": "stream",
     "text": [
      "INFO:eta.core.utils: 100% |█████████████████| 666/666 [490.0ms elapsed, 0s remaining, 1.4K samples/s]      \n"
     ]
    }
   ],
   "source": [
    "import fiftyone as fo\n",
    "\n",
    "dataset_dir = Path() / \"dataset\"\n",
    "\n",
    "\n",
    "# The splits to load\n",
    "splits = [\"train\", \"val\", \"test\"]\n",
    "\n",
    "# Load the dataset, using tags to mark the samples in each split\n",
    "dataset = fo.Dataset()\n",
    "for split in splits:\n",
    "    dataset.add_dir(\n",
    "        dataset_dir=dataset_dir,\n",
    "        dataset_type=fo.types.YOLOv5Dataset,\n",
    "        split=split,\n",
    "        tags=split,\n",
    ")"
   ]
  },
  {
   "cell_type": "code",
   "execution_count": 24,
   "id": "741b3d2a",
   "metadata": {},
   "outputs": [
    {
     "data": {
      "text/html": [
       "\n",
       "        <iframe\n",
       "            width=\"100%\"\n",
       "            height=\"800\"\n",
       "            src=\"http://localhost:5151/?notebook=True&subscription=dd2cabb5-8cda-43a6-b592-bc0f8a5ddb52\"\n",
       "            frameborder=\"0\"\n",
       "            allowfullscreen\n",
       "            \n",
       "        ></iframe>\n",
       "        "
      ],
      "text/plain": [
       "<IPython.lib.display.IFrame at 0x7f4921727b80>"
      ]
     },
     "metadata": {},
     "output_type": "display_data"
    }
   ],
   "source": [
    "session = fo.launch_app(dataset)\n"
   ]
  }
 ],
 "metadata": {
  "kernelspec": {
   "display_name": "Python 3 (ipykernel)",
   "language": "python",
   "name": "python3"
  },
  "language_info": {
   "codemirror_mode": {
    "name": "ipython",
    "version": 3
   },
   "file_extension": ".py",
   "mimetype": "text/x-python",
   "name": "python",
   "nbconvert_exporter": "python",
   "pygments_lexer": "ipython3",
   "version": "3.10.14"
  }
 },
 "nbformat": 4,
 "nbformat_minor": 5
}
