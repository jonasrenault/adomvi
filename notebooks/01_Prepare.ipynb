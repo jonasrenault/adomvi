{
 "cells": [
  {
   "cell_type": "markdown",
   "id": "3dd3446b-0b0d-4a38-a5ed-47ff8e9ab632",
   "metadata": {},
   "source": [
    "# Dataset creation to train a YoloV8 model for tank detection"
   ]
  },
  {
   "cell_type": "markdown",
   "id": "d88e76d6-108c-4efd-8349-40ffcdb51e3e",
   "metadata": {},
   "source": [
    "This notebook shows how to build a dataset of annotated images to train a computer vision model for object detection. We use images from open source object-detection datasets to create a dataset of military vehicles and format it correctly for YoloV8 training.\n",
    "\n",
    "We use [fiftyone](https://github.com/voxel51/fiftyone) to convert, merge, label and format the images prior to training with [Yolov8](https://github.com/ultralytics/ultralytics)."
   ]
  },
  {
   "cell_type": "markdown",
   "id": "802bb522-399e-4de2-aa90-f98f57f52554",
   "metadata": {},
   "source": [
    "### Defining classes"
   ]
  },
  {
   "cell_type": "markdown",
   "id": "82b8be81-9954-4692-977f-ef7d5aff878c",
   "metadata": {},
   "source": [
    "In order to have a model that discriminates between different types of military vehicles, we'll try to define large class labels by using Wikipedia's [Military vehicles by type](https://en.wikipedia.org/wiki/Category:Military_vehicles_by_type) category.\n",
    "\n",
    "We'll use 4 classes : \n",
    "\n",
    "- **Armoured fighting vehicle (AFV)** is an armed combat vehicle protected by armour, generally combining operational mobility with offensive and defensive capabilities. AFVs can be wheeled or tracked. Examples of AFVs are tanks, armoured cars, assault guns, self-propelled guns, infantry fighting vehicles (IFV), and armoured personnel carriers (APC).\n",
    "- **Armoured personnel carrier (APC)** is a broad type of armoured military vehicle designed to transport personnel and equipment in combat zones.\n",
    "- **Military engineering vehicle (MEV)** is a vehicle built for construction work or for the transportation of combat engineers on the battlefield.\n",
    "- **Light armoured vehicle (LAV) (incl. Reconnaissance vehicle - RV)** is the lightest weight class military vehicle category. A Jeep-like four-wheel drive vehicle for military use, with light or no armour. **Reconnaissance vehicle (RV)** is a military vehicle used for forward reconnaissance. Both tracked and wheeled reconnaissance vehicles are in service."
   ]
  },
  {
   "cell_type": "markdown",
   "id": "296639f3-2882-4663-a8b8-f280a47e4c6a",
   "metadata": {},
   "source": [
    "### Setup"
   ]
  },
  {
   "cell_type": "markdown",
   "id": "b1b6e7f6-8b1a-4d6f-a4b0-81558b647c45",
   "metadata": {},
   "source": [
    "We start by setting up some logging."
   ]
  },
  {
   "cell_type": "code",
   "execution_count": 1,
   "id": "9fab28ec-2198-4420-9d0e-2d3a218656c5",
   "metadata": {},
   "outputs": [],
   "source": [
    "import logging\n",
    "\n",
    "logger = logging.getLogger('adomvi')\n",
    "logger.setLevel(logging.INFO)\n",
    "ch = logging.StreamHandler()\n",
    "ch.setLevel(logging.INFO)\n",
    "ch.setFormatter(logging.Formatter('%(asctime)s - %(levelname)s - %(message)s'))\n",
    "logger.addHandler(ch)"
   ]
  },
  {
   "cell_type": "markdown",
   "id": "9ee6b90c-8341-41fb-8f56-4b4428155fe0",
   "metadata": {},
   "source": [
    "### Download images from ImageNet"
   ]
  },
  {
   "cell_type": "markdown",
   "id": "d4e68115-1933-4a75-adfa-fb783455d80f",
   "metadata": {},
   "source": [
    "The first dataset we'll use is ImageNet21k. The ImageNet21k dataset is available at [https://image-net.org/download-images.php](https://image-net.org/download-images.php). You need to register and be granted access to download the images. We use the Winter 21 version since it gives the option of downloading the images for a single synset: https://image-net.org/data/winter21_whole/SYNSET_ID.tar, e.g., https://image-net.org/data/winter21_whole/n02352591.tar. The processed version of ImageNet21k is available here : https://github.com/Alibaba-MIIL/ImageNet21K. The class ids and names are available here https://github.com/google-research/big_transfer/issues/7#issuecomment-640048775."
   ]
  },
  {
   "cell_type": "markdown",
   "id": "7a888ead-b05d-4829-8a8b-f911f36ce2f5",
   "metadata": {},
   "source": [
    "We'll begin by downloading the class names that are in ImageNet21k and look for relevant classes that we can use."
   ]
  },
  {
   "cell_type": "code",
   "execution_count": 2,
   "id": "8fa19546-d7cb-450f-a849-a9164dd47bbe",
   "metadata": {},
   "outputs": [],
   "source": [
    "from pathlib import Path\n",
    "\n",
    "imagenet_dir = Path() / \"imagenet\""
   ]
  },
  {
   "cell_type": "code",
   "execution_count": 3,
   "id": "228b63bd-3b4f-4d34-89d8-d10a36c6b199",
   "metadata": {},
   "outputs": [
    {
     "name": "stderr",
     "output_type": "stream",
     "text": [
      "2024-07-12 11:43:30,070 - INFO - File imagenet/imagenet21k_wordnet_ids.txt already exists. Skipping download.\n",
      "2024-07-12 11:43:30,071 - INFO - File imagenet/imagenet21k_wordnet_lemmas.txt already exists. Skipping download.\n"
     ]
    },
    {
     "data": {
      "text/plain": [
       "{'n03762982': 'military_hospital',\n",
       " 'n03763727': 'military_quarters',\n",
       " 'n03763968': 'military_uniform',\n",
       " 'n03764276': 'military_vehicle',\n",
       " 'n04552348': 'warplane, military_plane',\n",
       " 'n08249459': 'concert_band, military_band',\n",
       " 'n09809538': 'army_engineer, military_engineer',\n",
       " 'n09943239': 'commissioned_military_officer',\n",
       " 'n10316360': 'military_attache',\n",
       " 'n10316527': 'military_chaplain, padre, Holy_Joe, sky_pilot',\n",
       " 'n10316862': 'military_leader',\n",
       " 'n10317007': 'military_officer, officer',\n",
       " 'n10317500': 'military_policeman, MP',\n",
       " 'n10512372': 'recruit, military_recruit',\n",
       " 'n10582746': 'serviceman, military_man, man, military_personnel',\n",
       " 'n10759331': 'volunteer, military_volunteer, voluntary'}"
      ]
     },
     "execution_count": 3,
     "metadata": {},
     "output_type": "execute_result"
    }
   ],
   "source": [
    "from adomvi.datasets.imagenet import download_class_names, find_class_by_text\n",
    "\n",
    "classes = download_class_names(imagenet_dir)\n",
    "find_class_by_text(classes, \"military\")"
   ]
  },
  {
   "cell_type": "markdown",
   "id": "cbe8d5b9-3b76-466e-9cbc-1d77732c623d",
   "metadata": {},
   "source": [
    "We can now download images and annotations for the relevant classes. The `download_imagenet_detections` function will download the images and annotations for the given class ids **if the annotations exist** (not all classes have been annotated)."
   ]
  },
  {
   "cell_type": "code",
   "execution_count": 4,
   "id": "676125e1-2745-4604-b68c-4fb64545bb31",
   "metadata": {},
   "outputs": [
    {
     "name": "stderr",
     "output_type": "stream",
     "text": [
      "2024-07-12 11:43:30,104 - INFO - File imagenet/bboxes_annotations.tar.gz already exists. Skipping download.\n",
      "2024-07-12 11:43:30,669 - INFO - There are not annotations for class n02740300.\n",
      "2024-07-12 11:43:30,670 - INFO - Annotations directory imagenet/labels/n04389033 already exists. Skipping extract.\n",
      "2024-07-12 11:43:30,671 - INFO - There are not annotations for class n02740533.\n",
      "2024-07-12 11:43:30,672 - INFO - There are not annotations for class n04464852.\n",
      "2024-07-12 11:43:30,673 - INFO - There are not annotations for class n03764276.\n",
      "2024-07-12 11:43:30,674 - INFO - Deleting annotations dir.\n"
     ]
    }
   ],
   "source": [
    "from adomvi.datasets.imagenet import download_imagenet_detections\n",
    "\n",
    "class_ids = [\"n02740300\", \"n04389033\", \"n02740533\", \"n04464852\", \"n03764276\"]\n",
    "download_imagenet_detections(class_ids, imagenet_dir)"
   ]
  },
  {
   "cell_type": "markdown",
   "id": "714f4169-7104-4f49-8ed8-b85c019cba82",
   "metadata": {},
   "source": [
    "The data we just downloaded into the `imagenet` directory is not all clean: there are annotations which have no corresponding image. We need to remove those labels, otherwise this causes errors when importing the data into fiftyone."
   ]
  },
  {
   "cell_type": "code",
   "execution_count": 5,
   "id": "f932c93e-4f15-45df-afdb-4fd3a8493a7f",
   "metadata": {},
   "outputs": [
    {
     "name": "stderr",
     "output_type": "stream",
     "text": [
      "2024-07-12 11:43:30,754 - INFO - Deleting 0 labels without images\n"
     ]
    }
   ],
   "source": [
    "from adomvi.datasets.imagenet import cleanup_labels_without_images\n",
    "\n",
    "cleanup_labels_without_images(imagenet_dir)"
   ]
  },
  {
   "cell_type": "markdown",
   "id": "11276d55-6ed3-452a-9ed3-8a76be140797",
   "metadata": {},
   "source": [
    "We can now create a new dataset with `fiftyone`. Fiftyone allows us to manage images annotated with bounding boxes and labels, to merge datasets from different sources, and to split the datasets and prepare them for processing."
   ]
  },
  {
   "cell_type": "code",
   "execution_count": 6,
   "id": "033129fc-b01b-40d4-8a04-f14ecf9823cf",
   "metadata": {},
   "outputs": [
    {
     "name": "stdout",
     "output_type": "stream",
     "text": [
      " 100% |█████████████████| 378/378 [558.8ms elapsed, 0s remaining, 680.2 samples/s]      \n"
     ]
    }
   ],
   "source": [
    "import fiftyone as fo\n",
    "\n",
    "# Create the dataset\n",
    "dataset = fo.Dataset.from_dir(\n",
    "    dataset_dir=imagenet_dir,\n",
    "    dataset_type=fo.types.VOCDetectionDataset,\n",
    ")\n",
    "\n",
    "dataset.map_labels(\"ground_truth\", {\"n04389033\": \"AFV\"}).save()"
   ]
  },
  {
   "cell_type": "markdown",
   "id": "76c4fe7c-a8da-4b6e-b799-ada2fedc8274",
   "metadata": {},
   "source": [
    "Once our dataset is created, we can launch a session to display the dataset and view the annotated images"
   ]
  },
  {
   "cell_type": "code",
   "execution_count": 7,
   "id": "e969c160-6fff-4c61-8ffa-84c9d80c72d4",
   "metadata": {},
   "outputs": [
    {
     "data": {
      "text/html": [
       "\n",
       "<style>\n",
       "@import url(\"https://fonts.googleapis.com/css2?family=Palanquin&display=swap\");\n",
       "\n",
       "body, html {\n",
       "  margin: 0;\n",
       "  padding: 0;\n",
       "  width: 100%;\n",
       "}\n",
       "\n",
       "#focontainer-81c0ca67-7d87-4e11-bc8f-a549dd7cf82d {\n",
       "  position: relative;\n",
       "  height: 800px;\n",
       "  display: block !important;\n",
       "}\n",
       "#foactivate-81c0ca67-7d87-4e11-bc8f-a549dd7cf82d {\n",
       "  font-weight: bold;\n",
       "  cursor: pointer;\n",
       "  font-size: 24px;\n",
       "  border-radius: 3px;\n",
       "  text-align: center;\n",
       "  padding: 0.5em;\n",
       "  color: rgb(255, 255, 255);\n",
       "  font-family: \"Palanquin\", sans-serif;\n",
       "  position: absolute;\n",
       "  left: 50%;\n",
       "  top: 50%;\n",
       "  width: 160px;\n",
       "  margin-left: -80px;\n",
       "  margin-top: -23px;\n",
       "  background: hsla(210,11%,15%, 0.8);\n",
       "  border: none;\n",
       "}\n",
       "#foactivate-81c0ca67-7d87-4e11-bc8f-a549dd7cf82d:focus {\n",
       "  outline: none;\n",
       "}\n",
       "#fooverlay-81c0ca67-7d87-4e11-bc8f-a549dd7cf82d {\n",
       "  width: 100%;\n",
       "  height: 100%;\n",
       "  background: hsla(208, 7%, 46%, 0.7);\n",
       "  position: absolute;\n",
       "  top: 0;\n",
       "  left: 0;\n",
       "  display: none;\n",
       "  cursor: pointer;\n",
       "}\n",
       "</style>\n",
       "\n",
       "<div id=\"focontainer-81c0ca67-7d87-4e11-bc8f-a549dd7cf82d\">\n",
       "   <div id=\"fooverlay-81c0ca67-7d87-4e11-bc8f-a549dd7cf82d\" style=\"display: none;\">\n",
       "      <button id=\"foactivate-81c0ca67-7d87-4e11-bc8f-a549dd7cf82d\" >Activate</button>\n",
       "   </div>\n",
       "   <img src='data:image/jpeg;base64,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' style=\"width: 100%; max-width: 561px;\"/>\n",
       "</div>\n",
       "\n",
       "<script type=\"text/javascript\">\n",
       "   (function() {\n",
       "     var container = document.getElementById(\"focontainer-81c0ca67-7d87-4e11-bc8f-a549dd7cf82d\");\n",
       "     var overlay = document.getElementById(\"fooverlay-81c0ca67-7d87-4e11-bc8f-a549dd7cf82d\");\n",
       "     fetch(`http://localhost:5151/fiftyone`)\n",
       "     .then(() => {\n",
       "        overlay.addEventListener(\"click\", () => {\n",
       "          fetch(`http://localhost:5151/event`, {\n",
       "            method: \"POST\",\n",
       "            body: JSON.stringify({\n",
       "              event: \"reactivate_notebook_cell\",\n",
       "              data: { subscription: \"81c0ca67-7d87-4e11-bc8f-a549dd7cf82d\" },\n",
       "              subscription: \"81c0ca67-7d87-4e11-bc8f-a549dd7cf82d\"\n",
       "            })\n",
       "          })\n",
       "        });\n",
       "        container.addEventListener(\"mouseenter\", () => overlay.style.display = \"block\");\n",
       "        container.addEventListener(\"mouseleave\", () => overlay.style.display = \"none\");\n",
       "     });\n",
       "   })();\n",
       "</script>"
      ],
      "text/plain": [
       "<IPython.core.display.HTML object>"
      ]
     },
     "metadata": {},
     "output_type": "display_data"
    }
   ],
   "source": [
    "session = fo.launch_app(dataset)"
   ]
  },
  {
   "cell_type": "markdown",
   "id": "0944d846-1af1-4d4a-a138-447769c8cb6d",
   "metadata": {},
   "source": [
    "### Add OpenImage samples\n",
    "\n",
    "The ImageNet dataset only contained 378 annotated images of tanks, so we'll look into other available datasets to improve training of the model. We’ll load [Open Images](https://storage.googleapis.com/openimages/web/index.html) samples with `Tank` detection labels, passing in `only_matching=True` to only load the `Tank` labels. We then map these labels by changing `Tank` into `AFV`."
   ]
  },
  {
   "cell_type": "code",
   "execution_count": 8,
   "id": "4cebf0db-655d-4ead-86af-dd8284e06639",
   "metadata": {},
   "outputs": [
    {
     "name": "stdout",
     "output_type": "stream",
     "text": [
      "Downloading split 'train' to '/home/ukemkata/fiftyone/open-images-v7/train' if necessary\n",
      "Necessary images already downloaded\n",
      "Existing download of split 'train' is sufficient\n",
      "Downloading split 'test' to '/home/ukemkata/fiftyone/open-images-v7/test' if necessary\n",
      "Necessary images already downloaded\n",
      "Existing download of split 'test' is sufficient\n",
      "Downloading split 'validation' to '/home/ukemkata/fiftyone/open-images-v7/validation' if necessary\n",
      "Necessary images already downloaded\n",
      "Existing download of split 'validation' is sufficient\n",
      "Loading existing dataset 'open-images-v7'. To reload from disk, either delete the existing dataset or provide a custom `dataset_name` to use\n"
     ]
    }
   ],
   "source": [
    "import fiftyone.zoo as foz\n",
    "\n",
    "oi_samples = foz.load_zoo_dataset(\n",
    "    \"open-images-v7\",\n",
    "    classes = [\"Tank\"],\n",
    "    only_matching=True,\n",
    "    label_types=\"detections\"\n",
    ").map_labels(\n",
    "    \"ground_truth\",\n",
    "    {\"Tank\":\"AFV\"}\n",
    ")"
   ]
  },
  {
   "cell_type": "markdown",
   "id": "11a6e6b2",
   "metadata": {},
   "source": [
    "We can add these new samples into our training dataset with `merge_samples()`:"
   ]
  },
  {
   "cell_type": "code",
   "execution_count": 9,
   "id": "192e02cc-3b6f-474a-956e-c28d38aba00d",
   "metadata": {},
   "outputs": [],
   "source": [
    "dataset.merge_samples(oi_samples)"
   ]
  },
  {
   "cell_type": "code",
   "execution_count": 10,
   "id": "a9caba2a-75a0-47a4-8cb3-ffc0960166f8",
   "metadata": {},
   "outputs": [
    {
     "data": {
      "text/html": [
       "\n",
       "<style>\n",
       "@import url(\"https://fonts.googleapis.com/css2?family=Palanquin&display=swap\");\n",
       "\n",
       "body, html {\n",
       "  margin: 0;\n",
       "  padding: 0;\n",
       "  width: 100%;\n",
       "}\n",
       "\n",
       "#focontainer-7de26236-3457-496e-a151-3897cc0d1833 {\n",
       "  position: relative;\n",
       "  height: 800px;\n",
       "  display: block !important;\n",
       "}\n",
       "#foactivate-7de26236-3457-496e-a151-3897cc0d1833 {\n",
       "  font-weight: bold;\n",
       "  cursor: pointer;\n",
       "  font-size: 24px;\n",
       "  border-radius: 3px;\n",
       "  text-align: center;\n",
       "  padding: 0.5em;\n",
       "  color: rgb(255, 255, 255);\n",
       "  font-family: \"Palanquin\", sans-serif;\n",
       "  position: absolute;\n",
       "  left: 50%;\n",
       "  top: 50%;\n",
       "  width: 160px;\n",
       "  margin-left: -80px;\n",
       "  margin-top: -23px;\n",
       "  background: hsla(210,11%,15%, 0.8);\n",
       "  border: none;\n",
       "}\n",
       "#foactivate-7de26236-3457-496e-a151-3897cc0d1833:focus {\n",
       "  outline: none;\n",
       "}\n",
       "#fooverlay-7de26236-3457-496e-a151-3897cc0d1833 {\n",
       "  width: 100%;\n",
       "  height: 100%;\n",
       "  background: hsla(208, 7%, 46%, 0.7);\n",
       "  position: absolute;\n",
       "  top: 0;\n",
       "  left: 0;\n",
       "  display: none;\n",
       "  cursor: pointer;\n",
       "}\n",
       "</style>\n",
       "\n",
       "<div id=\"focontainer-7de26236-3457-496e-a151-3897cc0d1833\">\n",
       "   <div id=\"fooverlay-7de26236-3457-496e-a151-3897cc0d1833\" style=\"display: none;\">\n",
       "      <button id=\"foactivate-7de26236-3457-496e-a151-3897cc0d1833\" >Activate</button>\n",
       "   </div>\n",
       "   <img src='data:image/jpeg;base64,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' style=\"width: 100%; max-width: 633px;\"/>\n",
       "</div>\n",
       "\n",
       "<script type=\"text/javascript\">\n",
       "   (function() {\n",
       "     var container = document.getElementById(\"focontainer-7de26236-3457-496e-a151-3897cc0d1833\");\n",
       "     var overlay = document.getElementById(\"fooverlay-7de26236-3457-496e-a151-3897cc0d1833\");\n",
       "     fetch(`http://localhost:5151/fiftyone`)\n",
       "     .then(() => {\n",
       "        overlay.addEventListener(\"click\", () => {\n",
       "          fetch(`http://localhost:5151/event`, {\n",
       "            method: \"POST\",\n",
       "            body: JSON.stringify({\n",
       "              event: \"reactivate_notebook_cell\",\n",
       "              data: { subscription: \"7de26236-3457-496e-a151-3897cc0d1833\" },\n",
       "              subscription: \"7de26236-3457-496e-a151-3897cc0d1833\"\n",
       "            })\n",
       "          })\n",
       "        });\n",
       "        container.addEventListener(\"mouseenter\", () => overlay.style.display = \"block\");\n",
       "        container.addEventListener(\"mouseleave\", () => overlay.style.display = \"none\");\n",
       "     });\n",
       "   })();\n",
       "</script>"
      ],
      "text/plain": [
       "<IPython.core.display.HTML object>"
      ]
     },
     "metadata": {},
     "output_type": "display_data"
    }
   ],
   "source": [
    "session.show()"
   ]
  },
  {
   "cell_type": "markdown",
   "id": "31602b1c",
   "metadata": {},
   "source": [
    "### Add Roboflow dataset\n",
    "\n",
    "We now have 1624 annotated images of tanks, which is good but still a bit small. To get even more training images, we'll load another annotated dataset of military vehicles, made available by Tuomo Hiippala from the Digital Geography Lab, on [Roboflow](https://universe.roboflow.com/capstoneproject/russian-military-annotated).\n",
    "\n",
    "The following code will download, restructure, and import the dataset into fityone."
   ]
  },
  {
   "cell_type": "code",
   "execution_count": 11,
   "id": "cc1c1661-7680-430a-a2a7-be0759bd1c53",
   "metadata": {},
   "outputs": [
    {
     "name": "stderr",
     "output_type": "stream",
     "text": [
      "2024-07-12 11:44:33,752 - INFO - Downloading roboflow/dataset_rf.zip from https://universe.roboflow.com/ds/P2jPq32qKU?key=E4MIo8mavP ...\n",
      "2024-07-12 11:45:04,585 - INFO - Download complete.\n",
      "2024-07-12 11:45:04,879 - INFO - Extracted to roboflow\n",
      "2024-07-12 11:45:05,041 - INFO - Dataset dir restructured successfully.\n"
     ]
    }
   ],
   "source": [
    "from adomvi.datasets.roboflow import download_roboflow_dataset, restructure_dataset\n",
    "\n",
    "roboflow_dir = Path() / \"roboflow\"\n",
    "url=\"https://universe.roboflow.com/ds/P2jPq32qKU?key=E4MIo8mavP\"\n",
    "download_roboflow_dataset(url, roboflow_dir)\n",
    "restructure_dataset(roboflow_dir)"
   ]
  },
  {
   "cell_type": "markdown",
   "id": "712c9fa0-c838-46c5-a40c-83db1ae98afe",
   "metadata": {},
   "source": [
    "Since this new dataset defines the type of vehicle as classes, we'll map those to our four classes."
   ]
  },
  {
   "cell_type": "code",
   "execution_count": 12,
   "id": "0907a902-9b29-4a09-a826-c3bc953fc542",
   "metadata": {},
   "outputs": [
    {
     "name": "stdout",
     "output_type": "stream",
     "text": [
      " 100% |███████████████| 1042/1042 [1.4s elapsed, 0s remaining, 749.3 samples/s]         \n"
     ]
    }
   ],
   "source": [
    "# Import the roboflow dataset\n",
    "dataset_rf = fo.Dataset.from_dir(\n",
    "    dataset_dir=roboflow_dir,\n",
    "    dataset_type=fo.types.VOCDetectionDataset,\n",
    ")\n",
    "\n",
    "# Define the existing labels and their mappings\n",
    "label_mapping = {\n",
    "    \"bm-21\": \"AFV\",\n",
    "    \"t-80\": \"AFV\",\n",
    "    \"t-64\": \"AFV\",\n",
    "    \"t-72\": \"AFV\",\n",
    "    \"bmp-1\": \"AFV\",\n",
    "    \"bmp-2\": \"AFV\",\n",
    "    \"bmd-2\": \"AFV\",\n",
    "    \"btr-70\": \"APC\",\n",
    "    \"btr-80\": \"APC\",\n",
    "    \"mt-lb\": \"APC\",\n",
    "}\n",
    "\n",
    "# Map the labels\n",
    "dataset_rf.map_labels(\n",
    "    \"ground_truth\",\n",
    "    label_mapping\n",
    ").save()"
   ]
  },
  {
   "cell_type": "markdown",
   "id": "c3c1b416-1d09-4e2a-83b6-93a4cee2cbbc",
   "metadata": {},
   "source": [
    "Optionally, we can remove the few images which have no labels and actually don't contain images of military vehicles."
   ]
  },
  {
   "cell_type": "code",
   "execution_count": 13,
   "id": "18785b64-9b34-4754-aa0a-9af8f940b35e",
   "metadata": {},
   "outputs": [],
   "source": [
    "# from adomvi.datasets.roboflow import delete_images_without_labels\n",
    "\n",
    "# delete_images_without_labels(dataset_rf)"
   ]
  },
  {
   "cell_type": "markdown",
   "id": "857002b8",
   "metadata": {},
   "source": [
    "Finally, we can add these new samples into our training dataset."
   ]
  },
  {
   "cell_type": "code",
   "execution_count": 14,
   "id": "1cf02686-f078-4dff-8420-90cd5afd50b7",
   "metadata": {},
   "outputs": [],
   "source": [
    "dataset.merge_samples(dataset_rf)"
   ]
  },
  {
   "cell_type": "code",
   "execution_count": 15,
   "id": "1c4a3aba-341a-4682-9965-74b075aa6dda",
   "metadata": {},
   "outputs": [
    {
     "data": {
      "text/html": [
       "\n",
       "<style>\n",
       "@import url(\"https://fonts.googleapis.com/css2?family=Palanquin&display=swap\");\n",
       "\n",
       "body, html {\n",
       "  margin: 0;\n",
       "  padding: 0;\n",
       "  width: 100%;\n",
       "}\n",
       "\n",
       "#focontainer-7a820357-8610-4836-924f-2f19390cc686 {\n",
       "  position: relative;\n",
       "  height: 800px;\n",
       "  display: block !important;\n",
       "}\n",
       "#foactivate-7a820357-8610-4836-924f-2f19390cc686 {\n",
       "  font-weight: bold;\n",
       "  cursor: pointer;\n",
       "  font-size: 24px;\n",
       "  border-radius: 3px;\n",
       "  text-align: center;\n",
       "  padding: 0.5em;\n",
       "  color: rgb(255, 255, 255);\n",
       "  font-family: \"Palanquin\", sans-serif;\n",
       "  position: absolute;\n",
       "  left: 50%;\n",
       "  top: 50%;\n",
       "  width: 160px;\n",
       "  margin-left: -80px;\n",
       "  margin-top: -23px;\n",
       "  background: hsla(210,11%,15%, 0.8);\n",
       "  border: none;\n",
       "}\n",
       "#foactivate-7a820357-8610-4836-924f-2f19390cc686:focus {\n",
       "  outline: none;\n",
       "}\n",
       "#fooverlay-7a820357-8610-4836-924f-2f19390cc686 {\n",
       "  width: 100%;\n",
       "  height: 100%;\n",
       "  background: hsla(208, 7%, 46%, 0.7);\n",
       "  position: absolute;\n",
       "  top: 0;\n",
       "  left: 0;\n",
       "  display: none;\n",
       "  cursor: pointer;\n",
       "}\n",
       "</style>\n",
       "\n",
       "<div id=\"focontainer-7a820357-8610-4836-924f-2f19390cc686\">\n",
       "   <div id=\"fooverlay-7a820357-8610-4836-924f-2f19390cc686\" style=\"display: none;\">\n",
       "      <button id=\"foactivate-7a820357-8610-4836-924f-2f19390cc686\" >Activate</button>\n",
       "   </div>\n",
       "   <img src='data:image/jpeg;base64,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' style=\"width: 100%; max-width: 633px;\"/>\n",
       "</div>\n",
       "\n",
       "<script type=\"text/javascript\">\n",
       "   (function() {\n",
       "     var container = document.getElementById(\"focontainer-7a820357-8610-4836-924f-2f19390cc686\");\n",
       "     var overlay = document.getElementById(\"fooverlay-7a820357-8610-4836-924f-2f19390cc686\");\n",
       "     fetch(`http://localhost:5151/fiftyone`)\n",
       "     .then(() => {\n",
       "        overlay.addEventListener(\"click\", () => {\n",
       "          fetch(`http://localhost:5151/event`, {\n",
       "            method: \"POST\",\n",
       "            body: JSON.stringify({\n",
       "              event: \"reactivate_notebook_cell\",\n",
       "              data: { subscription: \"7a820357-8610-4836-924f-2f19390cc686\" },\n",
       "              subscription: \"7a820357-8610-4836-924f-2f19390cc686\"\n",
       "            })\n",
       "          })\n",
       "        });\n",
       "        container.addEventListener(\"mouseenter\", () => overlay.style.display = \"block\");\n",
       "        container.addEventListener(\"mouseleave\", () => overlay.style.display = \"none\");\n",
       "     });\n",
       "   })();\n",
       "</script>"
      ],
      "text/plain": [
       "<IPython.core.display.HTML object>"
      ]
     },
     "metadata": {},
     "output_type": "display_data"
    }
   ],
   "source": [
    "session.show()"
   ]
  },
  {
   "cell_type": "markdown",
   "id": "7cf52027",
   "metadata": {},
   "source": [
    "### Add a custom dataset scraped from Google\n",
    "\n",
    "We now have 2666 images of military vehicles. To improve that a bit, we provide a [sample dataset](https://github.com/jonasrenault/adomvi/releases/download/v1.2.0/military-vehicles-dataset.tar.gz) of images scraped from Google and annotated with our 4 classes (*AFV*, *APC*, *LAV* & *MEV*). Let's download the dataset and merge it with our existing dataset."
   ]
  },
  {
   "cell_type": "code",
   "execution_count": 16,
   "id": "3a09856e",
   "metadata": {},
   "outputs": [
    {
     "name": "stderr",
     "output_type": "stream",
     "text": [
      "2024-07-12 11:45:06,871 - INFO - Downloading google/military-vehicles-dataset.tar.gz from https://github.com/jonasrenault/adomvi/releases/download/v1.2.0/military-vehicles-dataset.tar.gz ...\n",
      "2024-07-12 11:45:57,401 - INFO - Download complete.\n",
      "2024-07-12 11:45:57,923 - INFO - Extracted to google\n"
     ]
    }
   ],
   "source": [
    "from adomvi.datasets.google import download_google_dataset\n",
    "\n",
    "google_dir = Path() / \"google\"\n",
    "url = \"https://github.com/jonasrenault/adomvi/releases/download/v1.2.0/military-vehicles-dataset.tar.gz\"\n",
    "\n",
    "download_google_dataset(url, google_dir)"
   ]
  },
  {
   "cell_type": "code",
   "execution_count": 17,
   "id": "36c2dc44",
   "metadata": {},
   "outputs": [
    {
     "name": "stdout",
     "output_type": "stream",
     "text": [
      "Images file '/home/ukemkata/workspace/adomvi2/notebooks/google/dataset/images.txt' not found. Listing data directory '/home/ukemkata/workspace/adomvi2/notebooks/google/dataset/data/' instead\n",
      " 100% |█████████████████| 669/669 [637.7ms elapsed, 0s remaining, 1.1K samples/s]       \n"
     ]
    }
   ],
   "source": [
    "dataset_google = fo.Dataset.from_dir(\n",
    "    dataset_dir=google_dir / \"dataset\",\n",
    "    dataset_type=fo.types.YOLOv4Dataset,\n",
    ")"
   ]
  },
  {
   "cell_type": "code",
   "execution_count": 18,
   "id": "fd2bb83c",
   "metadata": {},
   "outputs": [],
   "source": [
    "dataset.merge_samples(dataset_google)\n"
   ]
  },
  {
   "cell_type": "code",
   "execution_count": 19,
   "id": "f1209140",
   "metadata": {},
   "outputs": [
    {
     "data": {
      "text/html": [
       "\n",
       "        <iframe\n",
       "            width=\"100%\"\n",
       "            height=\"800\"\n",
       "            src=\"http://localhost:5151/?notebook=True&subscription=a0ed713e-e69e-446c-8dfc-1b3b9c2cf344\"\n",
       "            frameborder=\"0\"\n",
       "            allowfullscreen\n",
       "            \n",
       "        ></iframe>\n",
       "        "
      ],
      "text/plain": [
       "<IPython.lib.display.IFrame at 0x7f8e7d442680>"
      ]
     },
     "metadata": {},
     "output_type": "display_data"
    }
   ],
   "source": [
    "session.show()"
   ]
  },
  {
   "cell_type": "markdown",
   "id": "189695b2-2323-49a7-a734-5b68fc2b48ae",
   "metadata": {},
   "source": [
    "### Export dataset to disk\n",
    "\n",
    "Now that our dataset is created, we'll export it into a format supported by YOLOv8 to train our model."
   ]
  },
  {
   "cell_type": "markdown",
   "id": "e98d4156-7b05-4544-863a-f568cfb6192e",
   "metadata": {},
   "source": [
    "We first remove tags from the dataset, and split it into a train, val and test sets."
   ]
  },
  {
   "cell_type": "code",
   "execution_count": 20,
   "id": "25a1477a-4f56-4404-a714-a9ee14b8507c",
   "metadata": {},
   "outputs": [],
   "source": [
    "import fiftyone.utils.random as four\n",
    "\n",
    "## delete existing tags to start fresh\n",
    "dataset.untag_samples(dataset.distinct(\"tags\"))\n",
    "\n",
    "## split into train, test and val\n",
    "four.random_split(dataset, {\"train\": 0.8, \"val\": 0.1, \"test\": 0.1})"
   ]
  },
  {
   "cell_type": "markdown",
   "id": "d1a2c420-c3f6-4d17-814c-ea64f6824aa9",
   "metadata": {},
   "source": [
    "Once our dataset is split, we can export it to a specific directory."
   ]
  },
  {
   "cell_type": "code",
   "execution_count": 21,
   "id": "78ffa7f9-0c00-4adf-a017-d91bf8fbbe08",
   "metadata": {},
   "outputs": [
    {
     "name": "stdout",
     "output_type": "stream",
     "text": [
      " 100% |███████████████| 2668/2668 [3.0s elapsed, 0s remaining, 1.3K samples/s]       \n",
      "Directory 'dataset' already exists; export will be merged with existing files\n",
      " 100% |█████████████████| 334/334 [449.0ms elapsed, 0s remaining, 743.9 samples/s]      \n",
      "Directory 'dataset' already exists; export will be merged with existing files\n",
      " 100% |█████████████████| 333/333 [384.8ms elapsed, 0s remaining, 865.4 samples/s]      \n"
     ]
    }
   ],
   "source": [
    "from adomvi.yolo.utils import export_yolo_data\n",
    "\n",
    "export_dir = Path() / \"dataset\"\n",
    "export_yolo_data(dataset, export_dir, [\"AFV\", \"APC\", \"MEV\", \"LAV\"], split = [\"train\", \"val\", \"test\"], overwrite=True)"
   ]
  },
  {
   "cell_type": "markdown",
   "id": "831b6b92",
   "metadata": {},
   "source": [
    "### Add augmentaions\n",
    "\n",
    "Here we use the data augmention to add more data at our dataset to up the model performance"
   ]
  },
  {
   "cell_type": "code",
   "execution_count": 22,
   "id": "11019557",
   "metadata": {},
   "outputs": [
    {
     "name": "stderr",
     "output_type": "stream",
     "text": [
      "2024-07-12 11:50:48,500 - INFO - Images and labels saved to dataset\n",
      "INFO:adomvi.datasets.augmentation:Images and labels saved to dataset\n"
     ]
    }
   ],
   "source": [
    "from adomvi.datasets.augmentation import augment_dataset\n",
    "\n",
    "augment_dataset(\n",
    "    export_dir,\n",
    "    scale=(0.2, 0.8),\n",
    "    translate_percent=(-0.2, 0.2),\n",
    "    max_holes=8,\n",
    "    max_height=100,\n",
    "    max_width=100,\n",
    "    min_holes=3,\n",
    "    min_height=30,\n",
    "    min_width=30,\n",
    "    p_affine=1.0,\n",
    "    p_coarse_dropout=1.0,\n",
    "    p_weather=1.0,\n",
    ")"
   ]
  }
 ],
 "metadata": {
  "kernelspec": {
   "display_name": "Python 3 (ipykernel)",
   "language": "python",
   "name": "python3"
  },
  "language_info": {
   "codemirror_mode": {
    "name": "ipython",
    "version": 3
   },
   "file_extension": ".py",
   "mimetype": "text/x-python",
   "name": "python",
   "nbconvert_exporter": "python",
   "pygments_lexer": "ipython3",
   "version": "3.10.14"
  }
 },
 "nbformat": 4,
 "nbformat_minor": 5
}
