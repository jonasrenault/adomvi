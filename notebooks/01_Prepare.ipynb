{
 "cells": [
  {
   "cell_type": "markdown",
   "id": "3dd3446b-0b0d-4a38-a5ed-47ff8e9ab632",
   "metadata": {},
   "source": [
    "# Dataset creation to train a YoloV8 model for tank detection"
   ]
  },
  {
   "cell_type": "markdown",
   "id": "d88e76d6-108c-4efd-8349-40ffcdb51e3e",
   "metadata": {},
   "source": [
    "This notebook shows how to build a dataset of annotated images to train a computer vision model for object detection. We use available open source datasets to create a dataset of military vehicles and format it correctly for YoloV8 training.\n",
    "\n",
    "We use [fiftyone](https://github.com/voxel51/fiftyone) to convert, merge, label and format the images prior to training with [Yolov8](https://github.com/ultralytics/ultralytics)."
   ]
  },
  {
   "cell_type": "markdown",
   "id": "296639f3-2882-4663-a8b8-f280a47e4c6a",
   "metadata": {},
   "source": [
    "### Setup"
   ]
  },
  {
   "cell_type": "markdown",
   "id": "b1b6e7f6-8b1a-4d6f-a4b0-81558b647c45",
   "metadata": {},
   "source": [
    "We start by setting up some logging."
   ]
  },
  {
   "cell_type": "code",
   "execution_count": null,
   "id": "9fab28ec-2198-4420-9d0e-2d3a218656c5",
   "metadata": {},
   "outputs": [],
   "source": [
    "import logging\n",
    "\n",
    "logging.basicConfig(level=logging.INFO)"
   ]
  },
  {
   "cell_type": "markdown",
   "id": "9ee6b90c-8341-41fb-8f56-4b4428155fe0",
   "metadata": {},
   "source": [
    "### Download images from ImageNet"
   ]
  },
  {
   "cell_type": "markdown",
   "id": "d4e68115-1933-4a75-adfa-fb783455d80f",
   "metadata": {},
   "source": [
    "The first dataset we'll use is ImageNet21k. The ImageNet21k dataset is available at [https://image-net.org/download-images.php](https://image-net.org/download-images.php). You need to register and be granted access to download the images. We use the Winter 21 version since it gives the option of downloading the images for a single synset: https://image-net.org/data/winter21_whole/SYNSET_ID.tar, e.g., https://image-net.org/data/winter21_whole/n02352591.tar. The processed version of ImageNet21k is available here : https://github.com/Alibaba-MIIL/ImageNet21K. The class ids and names are available here https://github.com/google-research/big_transfer/issues/7#issuecomment-640048775."
   ]
  },
  {
   "cell_type": "markdown",
   "id": "7a888ead-b05d-4829-8a8b-f911f36ce2f5",
   "metadata": {},
   "source": [
    "We'll begin by downloading the class names that are in ImageNet21k and look for relevant classes that we can use."
   ]
  },
  {
   "cell_type": "code",
   "execution_count": null,
   "id": "8fa19546-d7cb-450f-a849-a9164dd47bbe",
   "metadata": {},
   "outputs": [],
   "source": [
    "from pathlib import Path\n",
    "\n",
    "imagenet_dir = Path() / \"imagenet\""
   ]
  },
  {
   "cell_type": "code",
   "execution_count": null,
   "id": "228b63bd-3b4f-4d34-89d8-d10a36c6b199",
   "metadata": {},
   "outputs": [],
   "source": [
    "from adomvi.datasets.imagenet import download_class_names, find_class_by_text\n",
    "\n",
    "classes = download_class_names(imagenet_dir)\n",
    "find_class_by_text(classes, \"military\")"
   ]
  },
  {
   "cell_type": "markdown",
   "id": "cbe8d5b9-3b76-466e-9cbc-1d77732c623d",
   "metadata": {},
   "source": [
    "We can now download images and annotations for the relevant classes. The `download_imagenet_detections` function will download the images and annotations for the given class ids **if the annotations exist** (not all classes have been annotated)."
   ]
  },
  {
   "cell_type": "code",
   "execution_count": null,
   "id": "676125e1-2745-4604-b68c-4fb64545bb31",
   "metadata": {},
   "outputs": [],
   "source": [
    "from adomvi.datasets.imagenet import download_imagenet_detections\n",
    "\n",
    "class_ids = [\"n02740300\", \"n04389033\", \"n02740533\", \"n04464852\", \"n03764276\"]\n",
    "download_imagenet_detections(class_ids, imagenet_dir)"
   ]
  },
  {
   "cell_type": "markdown",
   "id": "714f4169-7104-4f49-8ed8-b85c019cba82",
   "metadata": {},
   "source": [
    "The data we just downloaded into the `imagenet` directory is not all clean: there are annotations which have no corresponding image. We need to remove those labels, otherwise this causes errors when importing the data into fiftyone."
   ]
  },
  {
   "cell_type": "code",
   "execution_count": null,
   "id": "f932c93e-4f15-45df-afdb-4fd3a8493a7f",
   "metadata": {},
   "outputs": [],
   "source": [
    "from adomvi.datasets.imagenet import cleanup_labels_without_images\n",
    "\n",
    "cleanup_labels_without_images(imagenet_dir)"
   ]
  },
  {
   "cell_type": "markdown",
   "id": "11276d55-6ed3-452a-9ed3-8a76be140797",
   "metadata": {},
   "source": [
    "We can now create a new dataset with `fiftyone`. Fiftyone allows us to manage images annotated with bounding boxes and labels, to merge datasets from different sources, and to split the datasets and prepare them for processing."
   ]
  },
  {
   "cell_type": "code",
   "execution_count": null,
   "id": "198c7c10",
   "metadata": {},
   "outputs": [],
   "source": [
    "from adomvi.utils import cleanup_existing_dataset\n",
    "\n",
    "imagenet_name = \"military-vehicles\"\n",
    "cleanup_existing_dataset(imagenet_name)"
   ]
  },
  {
   "cell_type": "code",
   "execution_count": null,
   "id": "033129fc-b01b-40d4-8a04-f14ecf9823cf",
   "metadata": {},
   "outputs": [],
   "source": [
    "import fiftyone as fo\n",
    "\n",
    "# Create the dataset\n",
    "dataset = fo.Dataset.from_dir(\n",
    "    dataset_dir=imagenet_dir,\n",
    "    dataset_type=fo.types.VOCDetectionDataset,\n",
    "    # dataset_name = imagenet_name,\n",
    ")\n",
    "\n",
    "dataset.name = imagenet_name\n",
    "\n",
    "dataset.map_labels(\n",
    "    \"ground_truth\",\n",
    "    {\"n04389033\":\"tank\"}\n",
    ").save()"
   ]
  },
  {
   "cell_type": "markdown",
   "id": "76c4fe7c-a8da-4b6e-b799-ada2fedc8274",
   "metadata": {},
   "source": [
    "Once our dataset is created, we can launch a session to display the dataset and view the annotated images"
   ]
  },
  {
   "cell_type": "code",
   "execution_count": null,
   "id": "e969c160-6fff-4c61-8ffa-84c9d80c72d4",
   "metadata": {
    "scrolled": true
   },
   "outputs": [],
   "source": [
    "session = fo.launch_app(dataset, auto=False)"
   ]
  },
  {
   "cell_type": "code",
   "execution_count": null,
   "id": "82b70fae-95de-4f5e-9ce9-c8822790c346",
   "metadata": {},
   "outputs": [],
   "source": [
    "session.show()"
   ]
  },
  {
   "cell_type": "markdown",
   "id": "0944d846-1af1-4d4a-a138-447769c8cb6d",
   "metadata": {},
   "source": [
    "### Add OpenImage samples\n",
    "\n",
    "The ImageNet dataset only contained 378 annotated images of tanks, so we'll look into other available datasets to improve training of the model. We’ll load [Open Images](https://storage.googleapis.com/openimages/web/index.html) samples with `Tank` detection labels, passing in `only_matching=True` to only load the `Tank` labels. We then map these labels by changing `Tank` into `tank`."
   ]
  },
  {
   "cell_type": "code",
   "execution_count": null,
   "id": "4cebf0db-655d-4ead-86af-dd8284e06639",
   "metadata": {
    "scrolled": true
   },
   "outputs": [],
   "source": [
    "import fiftyone.zoo as foz\n",
    "\n",
    "oi_samples = foz.load_zoo_dataset(\n",
    "    \"open-images-v7\",\n",
    "    classes = [\"Tank\"],\n",
    "    only_matching=True,\n",
    "    label_types=\"detections\"\n",
    ").map_labels(\n",
    "    \"ground_truth\",\n",
    "    {\"Tank\":\"tank\"}\n",
    ")"
   ]
  },
  {
   "cell_type": "markdown",
   "id": "11a6e6b2",
   "metadata": {},
   "source": [
    "We can add these new samples into our training dataset with `merge_samples()`:"
   ]
  },
  {
   "cell_type": "code",
   "execution_count": null,
   "id": "192e02cc-3b6f-474a-956e-c28d38aba00d",
   "metadata": {},
   "outputs": [],
   "source": [
    "dataset.merge_samples(oi_samples)"
   ]
  },
  {
   "cell_type": "code",
   "execution_count": null,
   "id": "e812ff2e-6608-4539-9625-15b58a0082d7",
   "metadata": {},
   "outputs": [],
   "source": [
    "session = fo.launch_app(dataset, auto=False)"
   ]
  },
  {
   "cell_type": "code",
   "execution_count": null,
   "id": "a9caba2a-75a0-47a4-8cb3-ffc0960166f8",
   "metadata": {},
   "outputs": [],
   "source": [
    "session.show()"
   ]
  },
  {
   "cell_type": "markdown",
   "id": "31602b1c",
   "metadata": {},
   "source": [
    "### Add Roboflow dataset\n",
    "\n",
    "The current data contained 1624 annotated images of tank, so we'll look into other available datasets to improve training of the model. We’ll load [Roboflow Images](https://universe.roboflow.com/) with `Tank` detection labels."
   ]
  },
  {
   "cell_type": "code",
   "execution_count": null,
   "id": "cc1c1661-7680-430a-a2a7-be0759bd1c53",
   "metadata": {},
   "outputs": [],
   "source": [
    "from adomvi.datasets.roboflow import download_roboflow_dataset\n",
    "\n",
    "roboflow_dir = Path() / \"roboflow\"\n",
    "url=\"https://universe.roboflow.com/ds/P2jPq32qKU?key=E4MIo8mavP\"\n",
    "download_roboflow_dataset(url, roboflow_dir)"
   ]
  },
  {
   "cell_type": "code",
   "execution_count": null,
   "id": "17e621e1-7324-4499-9554-1c0ffea49c09",
   "metadata": {
    "scrolled": true
   },
   "outputs": [],
   "source": [
    "from adomvi.datasets.roboflow import restructure_dataset\n",
    "\n",
    "restructure_dataset(roboflow_dir)"
   ]
  },
  {
   "cell_type": "code",
   "execution_count": null,
   "id": "a24d8512",
   "metadata": {},
   "outputs": [],
   "source": [
    "roboflow_name = \"russian-military-annotated\"\n",
    "cleanup_existing_dataset(roboflow_name)"
   ]
  },
  {
   "cell_type": "code",
   "execution_count": null,
   "id": "0907a902-9b29-4a09-a826-c3bc953fc542",
   "metadata": {
    "scrolled": true
   },
   "outputs": [],
   "source": [
    "# Import the roboflow dataset\n",
    "dataset_rf = fo.Dataset.from_dir(\n",
    "    dataset_dir=roboflow_dir,\n",
    "    dataset_type=fo.types.VOCDetectionDataset,\n",
    "    name = roboflow_name,\n",
    ")\n",
    "\n",
    "existing_labels = [\"bm-21\", \"t-80\", \"t-64\", \"btr-80\", \"mt-lb\", \"t-72\", \"bmp-1\", \"bmp-2\", \"bmd-2\", \"btr-70\"]\n",
    "\n",
    "label_mapping = {label: \"tank\" for label in existing_labels}\n",
    "\n",
    "dataset_rf.map_labels(\n",
    "    \"ground_truth\",\n",
    "    label_mapping\n",
    ").save()"
   ]
  },
  {
   "cell_type": "code",
   "execution_count": null,
   "id": "18785b64-9b34-4754-aa0a-9af8f940b35e",
   "metadata": {},
   "outputs": [],
   "source": [
    "# from adomvi.datasets.roboflow import delete_images_without_labels\n",
    "\n",
    "# delete_images_without_labels(dataset_rf)"
   ]
  },
  {
   "cell_type": "markdown",
   "id": "857002b8",
   "metadata": {},
   "source": [
    "We can add these new samples into our training dataset"
   ]
  },
  {
   "cell_type": "code",
   "execution_count": null,
   "id": "1cf02686-f078-4dff-8420-90cd5afd50b7",
   "metadata": {},
   "outputs": [],
   "source": [
    "dataset.merge_samples(dataset_rf)"
   ]
  },
  {
   "cell_type": "code",
   "execution_count": null,
   "id": "38e1672f-9b68-4500-bf1e-655129c1b1f6",
   "metadata": {},
   "outputs": [],
   "source": [
    "session = fo.launch_app(dataset, auto=False)"
   ]
  },
  {
   "cell_type": "code",
   "execution_count": null,
   "id": "1c4a3aba-341a-4682-9965-74b075aa6dda",
   "metadata": {},
   "outputs": [],
   "source": [
    "session.show()"
   ]
  },
  {
   "cell_type": "markdown",
   "id": "7cf52027",
   "metadata": {},
   "source": [
    "### Add google dataset\n",
    "\n",
    "We provide a sample annotated dataset with 4 classes (*AFV*, *APC*, *LAV* & *MEV*). You can download the dataset from [here](https://github.com/jonasrenault/adomvi/releases/download/v1.2.0/military-vehicles-dataset.tar.gz) and extract it."
   ]
  },
  {
   "cell_type": "code",
   "execution_count": null,
   "id": "3a09856e",
   "metadata": {},
   "outputs": [],
   "source": [
    "from adomvi.datasets.google import download_google_dataset\n",
    "\n",
    "google_dir = Path() / \"google\"\n",
    "url = \"https://github.com/jonasrenault/adomvi/releases/download/v1.2.0/military-vehicles-dataset.tar.gz\"\n",
    "\n",
    "download_google_dataset(url, google_dir)"
   ]
  },
  {
   "cell_type": "markdown",
   "id": "743ed3fe",
   "metadata": {},
   "source": [
    "We'll use fiftyone to load and preview the dataset."
   ]
  },
  {
   "cell_type": "code",
   "execution_count": null,
   "id": "1fea1e48",
   "metadata": {},
   "outputs": [],
   "source": [
    "google_name = \"google-military-vehicles\"\n",
    "cleanup_existing_dataset(google_name)"
   ]
  },
  {
   "cell_type": "code",
   "execution_count": null,
   "id": "36c2dc44",
   "metadata": {},
   "outputs": [],
   "source": [
    "dataset_google_dir = google_dir / \"dataset\"\n",
    "\n",
    "# Create the dataset\n",
    "dataset_google = fo.Dataset.from_dir(\n",
    "    dataset_dir=dataset_google_dir,\n",
    "    dataset_type=fo.types.YOLOv4Dataset,\n",
    "    name=google_name,\n",
    ")"
   ]
  },
  {
   "cell_type": "markdown",
   "id": "8a244a71",
   "metadata": {},
   "source": [
    "We can add these new samples into our training dataset"
   ]
  },
  {
   "cell_type": "code",
   "execution_count": null,
   "id": "fd2bb83c",
   "metadata": {},
   "outputs": [],
   "source": [
    "dataset.merge_samples(dataset_google)\n"
   ]
  },
  {
   "cell_type": "code",
   "execution_count": null,
   "id": "5184f8e9",
   "metadata": {},
   "outputs": [],
   "source": [
    "session = fo.launch_app(dataset, auto=False)"
   ]
  },
  {
   "cell_type": "code",
   "execution_count": null,
   "id": "a2143578",
   "metadata": {},
   "outputs": [],
   "source": [
    "session.open_tab()"
   ]
  },
  {
   "cell_type": "code",
   "execution_count": null,
   "id": "f1209140",
   "metadata": {},
   "outputs": [],
   "source": [
    "session.show()"
   ]
  },
  {
   "cell_type": "markdown",
   "id": "189695b2-2323-49a7-a734-5b68fc2b48ae",
   "metadata": {},
   "source": [
    "### Export dataset to disk\n",
    "\n",
    "Now that our dataset is created, we'll export it into a format supported by YOLOv8 to train our model."
   ]
  },
  {
   "cell_type": "markdown",
   "id": "e98d4156-7b05-4544-863a-f568cfb6192e",
   "metadata": {},
   "source": [
    "We first remove tags from the dataset, and split it into a train, val and test sets."
   ]
  },
  {
   "cell_type": "code",
   "execution_count": null,
   "id": "25a1477a-4f56-4404-a714-a9ee14b8507c",
   "metadata": {},
   "outputs": [],
   "source": [
    "import fiftyone.utils.random as four\n",
    "\n",
    "## delete existing tags to start fresh\n",
    "dataset.untag_samples(dataset.distinct(\"tags\"))\n",
    "\n",
    "## split into train, test and val\n",
    "four.random_split(dataset, {\"train\": 0.8, \"val\": 0.1, \"test\": 0.1})"
   ]
  },
  {
   "cell_type": "markdown",
   "id": "d1a2c420-c3f6-4d17-814c-ea64f6824aa9",
   "metadata": {},
   "source": [
    "Once our dataset is split, we can export it to a specific directory."
   ]
  },
  {
   "cell_type": "code",
   "execution_count": null,
   "id": "78ffa7f9-0c00-4adf-a017-d91bf8fbbe08",
   "metadata": {},
   "outputs": [],
   "source": [
    "from adomvi.yolo.utils import export_yolo_data\n",
    "\n",
    "export_dir = Path() / \"dataset\"\n",
    "export_yolo_data(dataset, export_dir, [\"tank\"], split = [\"train\", \"val\", \"test\"], overwrite=True)"
   ]
  },
  {
   "cell_type": "code",
   "execution_count": null,
   "id": "a904dcef-1272-4357-a981-a21fa5ad0eab",
   "metadata": {},
   "outputs": [],
   "source": []
  }
 ],
 "metadata": {
  "kernelspec": {
   "display_name": "Python 3 (ipykernel)",
   "language": "python",
   "name": "python3"
  },
  "language_info": {
   "codemirror_mode": {
    "name": "ipython",
    "version": 3
   },
   "file_extension": ".py",
   "mimetype": "text/x-python",
   "name": "python",
   "nbconvert_exporter": "python",
   "pygments_lexer": "ipython3",
   "version": "3.10.14"
  }
 },
 "nbformat": 4,
 "nbformat_minor": 5
}
