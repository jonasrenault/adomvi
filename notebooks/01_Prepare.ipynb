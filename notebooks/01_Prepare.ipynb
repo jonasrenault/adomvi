{
 "cells": [
  {
   "cell_type": "markdown",
   "id": "3dd3446b-0b0d-4a38-a5ed-47ff8e9ab632",
   "metadata": {},
   "source": [
    "# Dataset creation to train a YoloV8 model for tank detection"
   ]
  },
  {
   "cell_type": "markdown",
   "id": "d88e76d6-108c-4efd-8349-40ffcdb51e3e",
   "metadata": {},
   "source": [
    "This notebook shows how to build a dataset of annotated images to train a computer vision model for object detection. We use available open source datasets to create a dataset of military vehicles and format it correctly for YoloV8 training.\n",
    "\n",
    "We use [fiftyone](https://github.com/voxel51/fiftyone) to convert, merge, label and format the images prior to training with [Yolov8](https://github.com/ultralytics/ultralytics)."
   ]
  },
  {
   "cell_type": "markdown",
   "id": "296639f3-2882-4663-a8b8-f280a47e4c6a",
   "metadata": {},
   "source": [
    "### Setup"
   ]
  },
  {
   "cell_type": "markdown",
   "id": "b1b6e7f6-8b1a-4d6f-a4b0-81558b647c45",
   "metadata": {},
   "source": [
    "We start by setting up some logging."
   ]
  },
  {
   "cell_type": "code",
   "execution_count": 1,
   "id": "9fab28ec-2198-4420-9d0e-2d3a218656c5",
   "metadata": {},
   "outputs": [],
   "source": [
    "import logging\n",
    "\n",
    "logging.basicConfig(level=logging.INFO)"
   ]
  },
  {
   "cell_type": "markdown",
   "id": "9ee6b90c-8341-41fb-8f56-4b4428155fe0",
   "metadata": {},
   "source": [
    "### Download images from ImageNet"
   ]
  },
  {
   "cell_type": "markdown",
   "id": "d4e68115-1933-4a75-adfa-fb783455d80f",
   "metadata": {},
   "source": [
    "The first dataset we'll use is ImageNet21k. The ImageNet21k dataset is available at [https://image-net.org/download-images.php](https://image-net.org/download-images.php). You need to register and be granted access to download the images. We use the Winter 21 version since it gives the option of downloading the images for a single synset: https://image-net.org/data/winter21_whole/SYNSET_ID.tar, e.g., https://image-net.org/data/winter21_whole/n02352591.tar. The processed version of ImageNet21k is available here : https://github.com/Alibaba-MIIL/ImageNet21K. The class ids and names are available here https://github.com/google-research/big_transfer/issues/7#issuecomment-640048775."
   ]
  },
  {
   "cell_type": "markdown",
   "id": "7a888ead-b05d-4829-8a8b-f911f36ce2f5",
   "metadata": {},
   "source": [
    "We'll begin by downloading the class names that are in ImageNet21k and look for relevant classes that we can use."
   ]
  },
  {
   "cell_type": "code",
   "execution_count": 2,
   "id": "8fa19546-d7cb-450f-a849-a9164dd47bbe",
   "metadata": {},
   "outputs": [],
   "source": [
    "from pathlib import Path\n",
    "\n",
    "imagenet_dir = Path() / \"imagenet\""
   ]
  },
  {
   "cell_type": "code",
   "execution_count": 3,
   "id": "228b63bd-3b4f-4d34-89d8-d10a36c6b199",
   "metadata": {},
   "outputs": [
    {
     "name": "stderr",
     "output_type": "stream",
     "text": [
      "INFO:root:File imagenet/imagenet21k_wordnet_ids.txt already exists. Skipping download.\n",
      "INFO:root:File imagenet/imagenet21k_wordnet_lemmas.txt already exists. Skipping download.\n"
     ]
    },
    {
     "data": {
      "text/plain": [
       "{'n03762982': 'military_hospital',\n",
       " 'n03763727': 'military_quarters',\n",
       " 'n03763968': 'military_uniform',\n",
       " 'n03764276': 'military_vehicle',\n",
       " 'n04552348': 'warplane, military_plane',\n",
       " 'n08249459': 'concert_band, military_band',\n",
       " 'n09809538': 'army_engineer, military_engineer',\n",
       " 'n09943239': 'commissioned_military_officer',\n",
       " 'n10316360': 'military_attache',\n",
       " 'n10316527': 'military_chaplain, padre, Holy_Joe, sky_pilot',\n",
       " 'n10316862': 'military_leader',\n",
       " 'n10317007': 'military_officer, officer',\n",
       " 'n10317500': 'military_policeman, MP',\n",
       " 'n10512372': 'recruit, military_recruit',\n",
       " 'n10582746': 'serviceman, military_man, man, military_personnel',\n",
       " 'n10759331': 'volunteer, military_volunteer, voluntary'}"
      ]
     },
     "execution_count": 3,
     "metadata": {},
     "output_type": "execute_result"
    }
   ],
   "source": [
    "from adomvi.datasets.imagenet import download_class_names, find_class_by_text\n",
    "\n",
    "classes = download_class_names(imagenet_dir)\n",
    "find_class_by_text(classes, \"military\")"
   ]
  },
  {
   "cell_type": "markdown",
   "id": "cbe8d5b9-3b76-466e-9cbc-1d77732c623d",
   "metadata": {},
   "source": [
    "We can now download images and annotations for the relevant classes. The `download_imagenet_detections` function will download the images and annotations for the given class ids **if the annotations exist** (not all classes have been annotated)."
   ]
  },
  {
   "cell_type": "code",
   "execution_count": 4,
   "id": "676125e1-2745-4604-b68c-4fb64545bb31",
   "metadata": {},
   "outputs": [
    {
     "name": "stderr",
     "output_type": "stream",
     "text": [
      "INFO:root:File imagenet/bboxes_annotations.tar.gz already exists. Skipping download.\n",
      "INFO:root:There are not annotations for class n02740300.\n",
      "INFO:root:Annotations directory imagenet/labels/n04389033 already exists. Skipping extract.\n",
      "INFO:root:There are not annotations for class n02740533.\n",
      "INFO:root:There are not annotations for class n04464852.\n",
      "INFO:root:There are not annotations for class n03764276.\n",
      "INFO:root:Deleting annotations dir.\n"
     ]
    }
   ],
   "source": [
    "from adomvi.datasets.imagenet import download_imagenet_detections\n",
    "\n",
    "class_ids = [\"n02740300\", \"n04389033\", \"n02740533\", \"n04464852\", \"n03764276\"]\n",
    "download_imagenet_detections(class_ids, imagenet_dir)"
   ]
  },
  {
   "cell_type": "markdown",
   "id": "714f4169-7104-4f49-8ed8-b85c019cba82",
   "metadata": {},
   "source": [
    "The data we just downloaded into the `imagenet` directory is not all clean: there are annotations which have no corresponding image. We need to remove those labels, otherwise this causes errors when importing the data into fiftyone."
   ]
  },
  {
   "cell_type": "code",
   "execution_count": 5,
   "id": "f932c93e-4f15-45df-afdb-4fd3a8493a7f",
   "metadata": {},
   "outputs": [
    {
     "name": "stderr",
     "output_type": "stream",
     "text": [
      "INFO:root:Deleting 0 labels without images\n"
     ]
    }
   ],
   "source": [
    "from adomvi.datasets.imagenet import cleanup_labels_without_images\n",
    "\n",
    "cleanup_labels_without_images(imagenet_dir)"
   ]
  },
  {
   "cell_type": "markdown",
   "id": "11276d55-6ed3-452a-9ed3-8a76be140797",
   "metadata": {},
   "source": [
    "We can now create a new dataset with `fiftyone`. Fiftyone allows us to manage images annotated with bounding boxes and labels, to merge datasets from different sources, and to split the datasets and prepare them for processing."
   ]
  },
  {
   "cell_type": "code",
   "execution_count": 6,
   "id": "033129fc-b01b-40d4-8a04-f14ecf9823cf",
   "metadata": {},
   "outputs": [
    {
     "name": "stdout",
     "output_type": "stream",
     "text": []
    },
    {
     "name": "stdout",
     "output_type": "stream",
     "text": [
      " 100% |█████████████████| 378/378 [489.1ms elapsed, 0s remaining, 775.8 samples/s]      \n"
     ]
    },
    {
     "name": "stderr",
     "output_type": "stream",
     "text": [
      "INFO:eta.core.utils: 100% |█████████████████| 378/378 [489.1ms elapsed, 0s remaining, 775.8 samples/s]      \n"
     ]
    }
   ],
   "source": [
    "import fiftyone as fo\n",
    "\n",
    "# Create the dataset\n",
    "dataset = fo.Dataset.from_dir(\n",
    "    dataset_dir=imagenet_dir,\n",
    "    dataset_type=fo.types.VOCDetectionDataset,\n",
    ")\n",
    "\n",
    "dataset.name = \"military-vehicles\"\n",
    "\n",
    "dataset.map_labels(\n",
    "    \"ground_truth\",\n",
    "    {\"n04389033\":\"tank\"}\n",
    ").save()"
   ]
  },
  {
   "cell_type": "markdown",
   "id": "76c4fe7c-a8da-4b6e-b799-ada2fedc8274",
   "metadata": {},
   "source": [
    "Once our dataset is created, we can launch a session to display the dataset and view the annotated images"
   ]
  },
  {
   "cell_type": "code",
   "execution_count": 7,
   "id": "e969c160-6fff-4c61-8ffa-84c9d80c72d4",
   "metadata": {},
   "outputs": [
    {
     "name": "stdout",
     "output_type": "stream",
     "text": [
      "Session launched. Run `session.show()` to open the App in a cell output.\n"
     ]
    },
    {
     "name": "stderr",
     "output_type": "stream",
     "text": [
      "INFO:fiftyone.core.session.session:Session launched. Run `session.show()` to open the App in a cell output.\n"
     ]
    }
   ],
   "source": [
    "session = fo.launch_app(dataset, auto=False)"
   ]
  },
  {
   "cell_type": "code",
   "execution_count": 8,
   "id": "82b70fae-95de-4f5e-9ce9-c8822790c346",
   "metadata": {},
   "outputs": [
    {
     "data": {
      "application/javascript": [
       "window.open('http://localhost:5151/');"
      ],
      "text/plain": [
       "<IPython.core.display.Javascript object>"
      ]
     },
     "metadata": {},
     "output_type": "display_data"
    }
   ],
   "source": [
    "session.open_tab()"
   ]
  },
  {
   "cell_type": "markdown",
   "id": "0944d846-1af1-4d4a-a138-447769c8cb6d",
   "metadata": {},
   "source": [
    "### Add OpenImage samples\n",
    "\n",
    "The ImageNet dataset only contained 378 annotated images of tanks, so we'll look into other available datasets to improve training of the model. We’ll load [Open Images](https://storage.googleapis.com/openimages/web/index.html) samples with `Tank` detection labels, passing in `only_matching=True` to only load the `Tank` labels. We then map these labels by changing `Tank` into `tank`."
   ]
  },
  {
   "cell_type": "code",
   "execution_count": 9,
   "id": "4cebf0db-655d-4ead-86af-dd8284e06639",
   "metadata": {},
   "outputs": [
    {
     "name": "stdout",
     "output_type": "stream",
     "text": [
      "Downloading split 'train' to '/home/jrenault/fiftyone/open-images-v7/train' if necessary\n"
     ]
    },
    {
     "name": "stderr",
     "output_type": "stream",
     "text": [
      "INFO:fiftyone.zoo.datasets:Downloading split 'train' to '/home/jrenault/fiftyone/open-images-v7/train' if necessary\n"
     ]
    },
    {
     "name": "stdout",
     "output_type": "stream",
     "text": [
      "Necessary images already downloaded\n"
     ]
    },
    {
     "name": "stderr",
     "output_type": "stream",
     "text": [
      "INFO:fiftyone.utils.openimages:Necessary images already downloaded\n"
     ]
    },
    {
     "name": "stdout",
     "output_type": "stream",
     "text": [
      "Existing download of split 'train' is sufficient\n"
     ]
    },
    {
     "name": "stderr",
     "output_type": "stream",
     "text": [
      "INFO:fiftyone.zoo.datasets:Existing download of split 'train' is sufficient\n"
     ]
    },
    {
     "name": "stdout",
     "output_type": "stream",
     "text": [
      "Downloading split 'test' to '/home/jrenault/fiftyone/open-images-v7/test' if necessary\n"
     ]
    },
    {
     "name": "stderr",
     "output_type": "stream",
     "text": [
      "INFO:fiftyone.zoo.datasets:Downloading split 'test' to '/home/jrenault/fiftyone/open-images-v7/test' if necessary\n"
     ]
    },
    {
     "name": "stdout",
     "output_type": "stream",
     "text": [
      "Necessary images already downloaded\n"
     ]
    },
    {
     "name": "stderr",
     "output_type": "stream",
     "text": [
      "INFO:fiftyone.utils.openimages:Necessary images already downloaded\n"
     ]
    },
    {
     "name": "stdout",
     "output_type": "stream",
     "text": [
      "Existing download of split 'test' is sufficient\n"
     ]
    },
    {
     "name": "stderr",
     "output_type": "stream",
     "text": [
      "INFO:fiftyone.zoo.datasets:Existing download of split 'test' is sufficient\n"
     ]
    },
    {
     "name": "stdout",
     "output_type": "stream",
     "text": [
      "Downloading split 'validation' to '/home/jrenault/fiftyone/open-images-v7/validation' if necessary\n"
     ]
    },
    {
     "name": "stderr",
     "output_type": "stream",
     "text": [
      "INFO:fiftyone.zoo.datasets:Downloading split 'validation' to '/home/jrenault/fiftyone/open-images-v7/validation' if necessary\n"
     ]
    },
    {
     "name": "stdout",
     "output_type": "stream",
     "text": [
      "Necessary images already downloaded\n"
     ]
    },
    {
     "name": "stderr",
     "output_type": "stream",
     "text": [
      "INFO:fiftyone.utils.openimages:Necessary images already downloaded\n"
     ]
    },
    {
     "name": "stdout",
     "output_type": "stream",
     "text": [
      "Existing download of split 'validation' is sufficient\n"
     ]
    },
    {
     "name": "stderr",
     "output_type": "stream",
     "text": [
      "INFO:fiftyone.zoo.datasets:Existing download of split 'validation' is sufficient\n"
     ]
    },
    {
     "name": "stdout",
     "output_type": "stream",
     "text": [
      "Loading 'open-images-v7' split 'train'\n"
     ]
    },
    {
     "name": "stderr",
     "output_type": "stream",
     "text": [
      "INFO:fiftyone.zoo.datasets:Loading 'open-images-v7' split 'train'\n"
     ]
    },
    {
     "name": "stdout",
     "output_type": "stream",
     "text": []
    },
    {
     "name": "stdout",
     "output_type": "stream",
     "text": [
      " 100% |███████████████| 1062/1062 [1.6s elapsed, 0s remaining, 668.6 samples/s]         \n"
     ]
    },
    {
     "name": "stderr",
     "output_type": "stream",
     "text": [
      "INFO:eta.core.utils: 100% |███████████████| 1062/1062 [1.6s elapsed, 0s remaining, 668.6 samples/s]         \n"
     ]
    },
    {
     "name": "stdout",
     "output_type": "stream",
     "text": [
      "Loading 'open-images-v7' split 'test'\n"
     ]
    },
    {
     "name": "stderr",
     "output_type": "stream",
     "text": [
      "INFO:fiftyone.zoo.datasets:Loading 'open-images-v7' split 'test'\n"
     ]
    },
    {
     "name": "stdout",
     "output_type": "stream",
     "text": []
    },
    {
     "name": "stdout",
     "output_type": "stream",
     "text": [
      " 100% |█████████████████| 134/134 [180.8ms elapsed, 0s remaining, 753.9 samples/s]    \n"
     ]
    },
    {
     "name": "stderr",
     "output_type": "stream",
     "text": [
      "INFO:eta.core.utils: 100% |█████████████████| 134/134 [180.8ms elapsed, 0s remaining, 753.9 samples/s]    \n"
     ]
    },
    {
     "name": "stdout",
     "output_type": "stream",
     "text": [
      "Loading 'open-images-v7' split 'validation'\n"
     ]
    },
    {
     "name": "stderr",
     "output_type": "stream",
     "text": [
      "INFO:fiftyone.zoo.datasets:Loading 'open-images-v7' split 'validation'\n"
     ]
    },
    {
     "name": "stdout",
     "output_type": "stream",
     "text": []
    },
    {
     "name": "stdout",
     "output_type": "stream",
     "text": [
      " 100% |███████████████████| 50/50 [95.9ms elapsed, 0s remaining, 521.6 samples/s]     \n"
     ]
    },
    {
     "name": "stderr",
     "output_type": "stream",
     "text": [
      "INFO:eta.core.utils: 100% |███████████████████| 50/50 [95.9ms elapsed, 0s remaining, 521.6 samples/s]     \n"
     ]
    },
    {
     "name": "stdout",
     "output_type": "stream",
     "text": [
      "Dataset 'open-images-v7' created\n"
     ]
    },
    {
     "name": "stderr",
     "output_type": "stream",
     "text": [
      "INFO:fiftyone.zoo.datasets:Dataset 'open-images-v7' created\n"
     ]
    }
   ],
   "source": [
    "import fiftyone.zoo as foz\n",
    "\n",
    "oi_samples = foz.load_zoo_dataset(\n",
    "    \"open-images-v7\",\n",
    "    classes = [\"Tank\"],\n",
    "    only_matching=True,\n",
    "    label_types=\"detections\"\n",
    ").map_labels(\n",
    "    \"ground_truth\",\n",
    "    {\"Tank\":\"tank\"}\n",
    ")"
   ]
  },
  {
   "cell_type": "code",
   "execution_count": 10,
   "id": "192e02cc-3b6f-474a-956e-c28d38aba00d",
   "metadata": {},
   "outputs": [],
   "source": [
    "dataset.merge_samples(oi_samples)"
   ]
  },
  {
   "cell_type": "markdown",
   "id": "189695b2-2323-49a7-a734-5b68fc2b48ae",
   "metadata": {},
   "source": [
    "### Export dataset to disk\n",
    "\n",
    "Now that our dataset is created, we'll export it into a format supported by YOLOv8 to train our model."
   ]
  },
  {
   "cell_type": "markdown",
   "id": "e532ce13-641a-48ab-acf2-57de08056954",
   "metadata": {},
   "source": [
    "We first remove tags from the dataset, and split it into a train, val and test sets."
   ]
  },
  {
   "cell_type": "code",
   "execution_count": 11,
   "id": "25a1477a-4f56-4404-a714-a9ee14b8507c",
   "metadata": {},
   "outputs": [],
   "source": [
    "import fiftyone.utils.random as four\n",
    "\n",
    "## delete existing tags to start fresh\n",
    "dataset.untag_samples(dataset.distinct(\"tags\"))\n",
    "\n",
    "## split into train, test and val\n",
    "four.random_split(dataset, {\"train\": 0.8, \"val\": 0.1, \"test\": 0.1})"
   ]
  },
  {
   "cell_type": "markdown",
   "id": "d1a2c420-c3f6-4d17-814c-ea64f6824aa9",
   "metadata": {},
   "source": [
    "Once our dataset is split, we can export it to a specific directory."
   ]
  },
  {
   "cell_type": "code",
   "execution_count": 12,
   "id": "78ffa7f9-0c00-4adf-a017-d91bf8fbbe08",
   "metadata": {},
   "outputs": [
    {
     "name": "stdout",
     "output_type": "stream",
     "text": []
    },
    {
     "name": "stdout",
     "output_type": "stream",
     "text": [
      " 100% |███████████████| 1299/1299 [1.4s elapsed, 0s remaining, 924.2 samples/s]         \n"
     ]
    },
    {
     "name": "stderr",
     "output_type": "stream",
     "text": [
      "INFO:eta.core.utils: 100% |███████████████| 1299/1299 [1.4s elapsed, 0s remaining, 924.2 samples/s]         \n"
     ]
    },
    {
     "name": "stdout",
     "output_type": "stream",
     "text": [
      "Directory 'dataset' already exists; export will be merged with existing files\n"
     ]
    },
    {
     "name": "stderr",
     "output_type": "stream",
     "text": [
      "WARNING:fiftyone.core.collections:Directory 'dataset' already exists; export will be merged with existing files\n"
     ]
    },
    {
     "name": "stdout",
     "output_type": "stream",
     "text": []
    },
    {
     "name": "stdout",
     "output_type": "stream",
     "text": [
      " 100% |█████████████████| 163/163 [249.4ms elapsed, 0s remaining, 653.5 samples/s]      \n"
     ]
    },
    {
     "name": "stderr",
     "output_type": "stream",
     "text": [
      "INFO:eta.core.utils: 100% |█████████████████| 163/163 [249.4ms elapsed, 0s remaining, 653.5 samples/s]      \n"
     ]
    },
    {
     "name": "stdout",
     "output_type": "stream",
     "text": [
      "Directory 'dataset' already exists; export will be merged with existing files\n"
     ]
    },
    {
     "name": "stderr",
     "output_type": "stream",
     "text": [
      "WARNING:fiftyone.core.collections:Directory 'dataset' already exists; export will be merged with existing files\n"
     ]
    },
    {
     "name": "stdout",
     "output_type": "stream",
     "text": []
    },
    {
     "name": "stdout",
     "output_type": "stream",
     "text": [
      " 100% |█████████████████| 162/162 [173.1ms elapsed, 0s remaining, 935.9 samples/s]     \n"
     ]
    },
    {
     "name": "stderr",
     "output_type": "stream",
     "text": [
      "INFO:eta.core.utils: 100% |█████████████████| 162/162 [173.1ms elapsed, 0s remaining, 935.9 samples/s]     \n"
     ]
    }
   ],
   "source": [
    "from pathlib import Path\n",
    "from adomvi.yolo.utils import export_yolo_data\n",
    "\n",
    "export_dir = Path() / \"dataset\"\n",
    "export_yolo_data(dataset, export_dir, [\"tank\"], split = [\"train\", \"val\", \"test\"], overwrite=True)"
   ]
  }
 ],
 "metadata": {
  "kernelspec": {
   "display_name": "Python 3 (ipykernel)",
   "language": "python",
   "name": "python3"
  },
  "language_info": {
   "codemirror_mode": {
    "name": "ipython",
    "version": 3
   },
   "file_extension": ".py",
   "mimetype": "text/x-python",
   "name": "python",
   "nbconvert_exporter": "python",
   "pygments_lexer": "ipython3",
   "version": "3.10.14"
  }
 },
 "nbformat": 4,
 "nbformat_minor": 5
}
