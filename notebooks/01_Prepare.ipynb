{
 "cells": [
  {
   "cell_type": "markdown",
   "id": "3dd3446b-0b0d-4a38-a5ed-47ff8e9ab632",
   "metadata": {},
   "source": [
    "# Dataset creation to train a YoloV8 model for tank detection"
   ]
  },
  {
   "cell_type": "markdown",
   "id": "d88e76d6-108c-4efd-8349-40ffcdb51e3e",
   "metadata": {},
   "source": [
    "This notebook shows how to build a dataset of annotated images to train a computer vision model for object detection. We use images from open source object-detection datasets to create a dataset of military vehicles and format it correctly for YoloV8 training.\n",
    "\n",
    "We use [fiftyone](https://github.com/voxel51/fiftyone) to convert, merge, label and format the images prior to training with [Yolov8](https://github.com/ultralytics/ultralytics)."
   ]
  },
  {
   "cell_type": "markdown",
   "id": "802bb522-399e-4de2-aa90-f98f57f52554",
   "metadata": {},
   "source": [
    "### Defining classes"
   ]
  },
  {
   "cell_type": "markdown",
   "id": "82b8be81-9954-4692-977f-ef7d5aff878c",
   "metadata": {},
   "source": [
    "In order to have a model that discriminates between different types of military vehicles, we'll try to define large class labels by using Wikipedia's [Military vehicles by type](https://en.wikipedia.org/wiki/Category:Military_vehicles_by_type) category.\n",
    "\n",
    "We'll use 4 classes : \n",
    "\n",
    "- **Armoured fighting vehicle (AFV)** is an armed combat vehicle protected by armour, generally combining operational mobility with offensive and defensive capabilities. AFVs can be wheeled or tracked. Examples of AFVs are tanks, armoured cars, assault guns, self-propelled guns, infantry fighting vehicles (IFV), and armoured personnel carriers (APC).\n",
    "- **Armoured personnel carrier (APC)** is a broad type of armoured military vehicle designed to transport personnel and equipment in combat zones.\n",
    "- **Military engineering vehicle (MEV)** is a vehicle built for construction work or for the transportation of combat engineers on the battlefield.\n",
    "- **Light armoured vehicle (LAV) (incl. Reconnaissance vehicle - RV)** is the lightest weight class military vehicle category. A Jeep-like four-wheel drive vehicle for military use, with light or no armour. **Reconnaissance vehicle (RV)** is a military vehicle used for forward reconnaissance. Both tracked and wheeled reconnaissance vehicles are in service."
   ]
  },
  {
   "cell_type": "markdown",
   "id": "296639f3-2882-4663-a8b8-f280a47e4c6a",
   "metadata": {},
   "source": [
    "### Setup"
   ]
  },
  {
   "cell_type": "markdown",
   "id": "b1b6e7f6-8b1a-4d6f-a4b0-81558b647c45",
   "metadata": {},
   "source": [
    "We start by setting up some logging."
   ]
  },
  {
   "cell_type": "code",
   "execution_count": 1,
   "id": "9fab28ec-2198-4420-9d0e-2d3a218656c5",
   "metadata": {},
   "outputs": [],
   "source": [
    "import logging\n",
    "\n",
    "logger = logging.getLogger('adomvi')\n",
    "logger.setLevel(logging.INFO)\n",
    "ch = logging.StreamHandler()\n",
    "ch.setLevel(logging.INFO)\n",
    "ch.setFormatter(logging.Formatter('%(asctime)s - %(levelname)s - %(message)s'))\n",
    "logger.addHandler(ch)"
   ]
  },
  {
   "cell_type": "markdown",
   "id": "9ee6b90c-8341-41fb-8f56-4b4428155fe0",
   "metadata": {},
   "source": [
    "### Download images from ImageNet"
   ]
  },
  {
   "cell_type": "markdown",
   "id": "d4e68115-1933-4a75-adfa-fb783455d80f",
   "metadata": {},
   "source": [
    "The first dataset we'll use is ImageNet21k. The ImageNet21k dataset is available at [https://image-net.org/download-images.php](https://image-net.org/download-images.php). You need to register and be granted access to download the images. We use the Winter 21 version since it gives the option of downloading the images for a single synset: https://image-net.org/data/winter21_whole/SYNSET_ID.tar, e.g., https://image-net.org/data/winter21_whole/n02352591.tar. The processed version of ImageNet21k is available here : https://github.com/Alibaba-MIIL/ImageNet21K. The class ids and names are available here https://github.com/google-research/big_transfer/issues/7#issuecomment-640048775."
   ]
  },
  {
   "cell_type": "markdown",
   "id": "7a888ead-b05d-4829-8a8b-f911f36ce2f5",
   "metadata": {},
   "source": [
    "We'll begin by downloading the class names that are in ImageNet21k and look for relevant classes that we can use."
   ]
  },
  {
   "cell_type": "code",
   "execution_count": 2,
   "id": "8fa19546-d7cb-450f-a849-a9164dd47bbe",
   "metadata": {},
   "outputs": [],
   "source": [
    "from pathlib import Path\n",
    "\n",
    "imagenet_dir = Path() / \"imagenet\""
   ]
  },
  {
   "cell_type": "code",
   "execution_count": 3,
   "id": "228b63bd-3b4f-4d34-89d8-d10a36c6b199",
   "metadata": {},
   "outputs": [
    {
     "name": "stderr",
     "output_type": "stream",
     "text": [
      "2024-06-28 16:25:43,190 - INFO - File imagenet/imagenet21k_wordnet_ids.txt already exists. Skipping download.\n",
      "2024-06-28 16:25:43,191 - INFO - File imagenet/imagenet21k_wordnet_lemmas.txt already exists. Skipping download.\n"
     ]
    },
    {
     "data": {
      "text/plain": [
       "{'n03762982': 'military_hospital',\n",
       " 'n03763727': 'military_quarters',\n",
       " 'n03763968': 'military_uniform',\n",
       " 'n03764276': 'military_vehicle',\n",
       " 'n04552348': 'warplane, military_plane',\n",
       " 'n08249459': 'concert_band, military_band',\n",
       " 'n09809538': 'army_engineer, military_engineer',\n",
       " 'n09943239': 'commissioned_military_officer',\n",
       " 'n10316360': 'military_attache',\n",
       " 'n10316527': 'military_chaplain, padre, Holy_Joe, sky_pilot',\n",
       " 'n10316862': 'military_leader',\n",
       " 'n10317007': 'military_officer, officer',\n",
       " 'n10317500': 'military_policeman, MP',\n",
       " 'n10512372': 'recruit, military_recruit',\n",
       " 'n10582746': 'serviceman, military_man, man, military_personnel',\n",
       " 'n10759331': 'volunteer, military_volunteer, voluntary'}"
      ]
     },
     "execution_count": 3,
     "metadata": {},
     "output_type": "execute_result"
    }
   ],
   "source": [
    "from adomvi.datasets.imagenet import download_class_names, find_class_by_text\n",
    "\n",
    "classes = download_class_names(imagenet_dir)\n",
    "find_class_by_text(classes, \"military\")"
   ]
  },
  {
   "cell_type": "markdown",
   "id": "cbe8d5b9-3b76-466e-9cbc-1d77732c623d",
   "metadata": {},
   "source": [
    "We can now download images and annotations for the relevant classes. The `download_imagenet_detections` function will download the images and annotations for the given class ids **if the annotations exist** (not all classes have been annotated)."
   ]
  },
  {
   "cell_type": "code",
   "execution_count": 4,
   "id": "676125e1-2745-4604-b68c-4fb64545bb31",
   "metadata": {},
   "outputs": [
    {
     "name": "stderr",
     "output_type": "stream",
     "text": [
      "2024-06-28 16:25:43,244 - INFO - File imagenet/bboxes_annotations.tar.gz already exists. Skipping download.\n",
      "2024-06-28 16:25:43,804 - INFO - There are not annotations for class n02740300.\n",
      "2024-06-28 16:25:43,805 - INFO - Annotations directory imagenet/labels/n04389033 already exists. Skipping extract.\n",
      "2024-06-28 16:25:43,805 - INFO - There are not annotations for class n02740533.\n",
      "2024-06-28 16:25:43,806 - INFO - There are not annotations for class n04464852.\n",
      "2024-06-28 16:25:43,806 - INFO - There are not annotations for class n03764276.\n",
      "2024-06-28 16:25:43,807 - INFO - Deleting annotations dir.\n"
     ]
    }
   ],
   "source": [
    "from adomvi.datasets.imagenet import download_imagenet_detections\n",
    "\n",
    "class_ids = [\"n02740300\", \"n04389033\", \"n02740533\", \"n04464852\", \"n03764276\"]\n",
    "download_imagenet_detections(class_ids, imagenet_dir)"
   ]
  },
  {
   "cell_type": "markdown",
   "id": "714f4169-7104-4f49-8ed8-b85c019cba82",
   "metadata": {},
   "source": [
    "The data we just downloaded into the `imagenet` directory is not all clean: there are annotations which have no corresponding image. We need to remove those labels, otherwise this causes errors when importing the data into fiftyone."
   ]
  },
  {
   "cell_type": "code",
   "execution_count": 5,
   "id": "f932c93e-4f15-45df-afdb-4fd3a8493a7f",
   "metadata": {},
   "outputs": [
    {
     "name": "stderr",
     "output_type": "stream",
     "text": [
      "2024-06-28 16:25:43,867 - INFO - Deleting 0 labels without images\n"
     ]
    }
   ],
   "source": [
    "from adomvi.datasets.imagenet import cleanup_labels_without_images\n",
    "\n",
    "cleanup_labels_without_images(imagenet_dir)"
   ]
  },
  {
   "cell_type": "markdown",
   "id": "11276d55-6ed3-452a-9ed3-8a76be140797",
   "metadata": {},
   "source": [
    "We can now create a new dataset with `fiftyone`. Fiftyone allows us to manage images annotated with bounding boxes and labels, to merge datasets from different sources, and to split the datasets and prepare them for processing."
   ]
  },
  {
   "cell_type": "code",
   "execution_count": 6,
   "id": "033129fc-b01b-40d4-8a04-f14ecf9823cf",
   "metadata": {},
   "outputs": [
    {
     "name": "stdout",
     "output_type": "stream",
     "text": []
    },
    {
     "name": "stdout",
     "output_type": "stream",
     "text": [
      " 100% |█████████████████| 378/378 [450.8ms elapsed, 0s remaining, 844.1 samples/s]      \n"
     ]
    }
   ],
   "source": [
    "import fiftyone as fo\n",
    "\n",
    "# Create the dataset\n",
    "dataset = fo.Dataset.from_dir(\n",
    "    dataset_dir=imagenet_dir,\n",
    "    dataset_type=fo.types.VOCDetectionDataset,\n",
    ")\n",
    "\n",
    "dataset.map_labels(\"ground_truth\", {\"n04389033\": \"AFV\"}).save()"
   ]
  },
  {
   "cell_type": "markdown",
   "id": "76c4fe7c-a8da-4b6e-b799-ada2fedc8274",
   "metadata": {},
   "source": [
    "Once our dataset is created, we can launch a session to display the dataset and view the annotated images"
   ]
  },
  {
   "cell_type": "code",
   "execution_count": null,
   "id": "e969c160-6fff-4c61-8ffa-84c9d80c72d4",
   "metadata": {},
   "outputs": [],
   "source": [
    "session = fo.launch_app(dataset)"
   ]
  },
  {
   "cell_type": "markdown",
   "id": "0944d846-1af1-4d4a-a138-447769c8cb6d",
   "metadata": {},
   "source": [
    "### Add OpenImage samples\n",
    "\n",
    "The ImageNet dataset only contained 378 annotated images of tanks, so we'll look into other available datasets to improve training of the model. We’ll load [Open Images](https://storage.googleapis.com/openimages/web/index.html) samples with `Tank` detection labels, passing in `only_matching=True` to only load the `Tank` labels. We then map these labels by changing `Tank` into `AFV`."
   ]
  },
  {
   "cell_type": "code",
   "execution_count": 7,
   "id": "4cebf0db-655d-4ead-86af-dd8284e06639",
   "metadata": {},
   "outputs": [
    {
     "name": "stdout",
     "output_type": "stream",
     "text": [
      "Downloading split 'train' to '/home/jrenault/fiftyone/open-images-v7/train' if necessary\n",
      "Necessary images already downloaded\n",
      "Existing download of split 'train' is sufficient\n",
      "Downloading split 'test' to '/home/jrenault/fiftyone/open-images-v7/test' if necessary\n",
      "Necessary images already downloaded\n",
      "Existing download of split 'test' is sufficient\n",
      "Downloading split 'validation' to '/home/jrenault/fiftyone/open-images-v7/validation' if necessary\n",
      "Necessary images already downloaded\n",
      "Existing download of split 'validation' is sufficient\n",
      "Loading 'open-images-v7' split 'train'\n",
      " 100% |███████████████| 1062/1062 [1.7s elapsed, 0s remaining, 635.4 samples/s]         \n",
      "Loading 'open-images-v7' split 'test'\n",
      " 100% |█████████████████| 134/134 [226.4ms elapsed, 0s remaining, 601.6 samples/s]     \n",
      "Loading 'open-images-v7' split 'validation'\n",
      " 100% |███████████████████| 50/50 [69.8ms elapsed, 0s remaining, 716.0 samples/s]     \n",
      "Dataset 'open-images-v7' created\n"
     ]
    }
   ],
   "source": [
    "import fiftyone.zoo as foz\n",
    "\n",
    "oi_samples = foz.load_zoo_dataset(\n",
    "    \"open-images-v7\",\n",
    "    classes = [\"Tank\"],\n",
    "    only_matching=True,\n",
    "    label_types=\"detections\"\n",
    ").map_labels(\n",
    "    \"ground_truth\",\n",
    "    {\"Tank\":\"AFV\"}\n",
    ")"
   ]
  },
  {
   "cell_type": "markdown",
   "id": "11a6e6b2",
   "metadata": {},
   "source": [
    "We can add these new samples into our training dataset with `merge_samples()`:"
   ]
  },
  {
   "cell_type": "code",
   "execution_count": 8,
   "id": "192e02cc-3b6f-474a-956e-c28d38aba00d",
   "metadata": {},
   "outputs": [],
   "source": [
    "dataset.merge_samples(oi_samples)"
   ]
  },
  {
   "cell_type": "code",
   "execution_count": null,
   "id": "a9caba2a-75a0-47a4-8cb3-ffc0960166f8",
   "metadata": {},
   "outputs": [],
   "source": [
    "session.show()"
   ]
  },
  {
   "cell_type": "markdown",
   "id": "31602b1c",
   "metadata": {},
   "source": [
    "### Add Roboflow dataset\n",
    "\n",
    "We now have 1624 annotated images of tanks, which is good but still a bit small. To get even more training images, we'll load another annotated dataset of military vehicles, made available by Tuomo Hiippala from the Digital Geography Lab, on [Roboflow](https://universe.roboflow.com/capstoneproject/russian-military-annotated).\n",
    "\n",
    "The following code will download, restructure, and import the dataset into fityone."
   ]
  },
  {
   "cell_type": "code",
   "execution_count": 9,
   "id": "cc1c1661-7680-430a-a2a7-be0759bd1c53",
   "metadata": {},
   "outputs": [
    {
     "name": "stderr",
     "output_type": "stream",
     "text": [
      "2024-06-28 16:32:03,250 - INFO - Downloading roboflow/dataset_rf.zip from https://universe.roboflow.com/ds/P2jPq32qKU?key=E4MIo8mavP ...\n",
      "2024-06-28 16:32:07,600 - INFO - Download complete.\n",
      "2024-06-28 16:32:07,799 - INFO - Extracted to roboflow\n",
      "2024-06-28 16:32:07,997 - INFO - Dataset dir restructured successfully.\n"
     ]
    }
   ],
   "source": [
    "from adomvi.datasets.roboflow import download_roboflow_dataset, restructure_dataset\n",
    "\n",
    "roboflow_dir = Path() / \"roboflow\"\n",
    "url=\"https://universe.roboflow.com/ds/P2jPq32qKU?key=E4MIo8mavP\"\n",
    "download_roboflow_dataset(url, roboflow_dir)\n",
    "restructure_dataset(roboflow_dir)"
   ]
  },
  {
   "cell_type": "markdown",
   "id": "712c9fa0-c838-46c5-a40c-83db1ae98afe",
   "metadata": {},
   "source": [
    "Since this new dataset defines the type of vehicle as classes, we'll map those to our four classes."
   ]
  },
  {
   "cell_type": "code",
   "execution_count": 10,
   "id": "0907a902-9b29-4a09-a826-c3bc953fc542",
   "metadata": {},
   "outputs": [
    {
     "name": "stdout",
     "output_type": "stream",
     "text": []
    },
    {
     "name": "stdout",
     "output_type": "stream",
     "text": [
      " 100% |███████████████| 1042/1042 [1.5s elapsed, 0s remaining, 677.6 samples/s]         \n"
     ]
    }
   ],
   "source": [
    "# Import the roboflow dataset\n",
    "dataset_rf = fo.Dataset.from_dir(\n",
    "    dataset_dir=roboflow_dir,\n",
    "    dataset_type=fo.types.VOCDetectionDataset,\n",
    ")\n",
    "\n",
    "# Define the existing labels and their mappings\n",
    "label_mapping = {\n",
    "    \"bm-21\": \"AFV\",\n",
    "    \"t-80\": \"AFV\",\n",
    "    \"t-64\": \"AFV\",\n",
    "    \"t-72\": \"AFV\",\n",
    "    \"bmp-1\": \"AFV\",\n",
    "    \"bmp-2\": \"AFV\",\n",
    "    \"bmd-2\": \"AFV\",\n",
    "    \"btr-70\": \"APC\",\n",
    "    \"btr-80\": \"APC\",\n",
    "    \"mt-lb\": \"APC\",\n",
    "}\n",
    "\n",
    "# Map the labels\n",
    "dataset_rf.map_labels(\n",
    "    \"ground_truth\",\n",
    "    label_mapping\n",
    ").save()"
   ]
  },
  {
   "cell_type": "markdown",
   "id": "c3c1b416-1d09-4e2a-83b6-93a4cee2cbbc",
   "metadata": {},
   "source": [
    "Optionally, we can remove the few images which have no labels and actually don't contain images of military vehicles."
   ]
  },
  {
   "cell_type": "code",
   "execution_count": 11,
   "id": "18785b64-9b34-4754-aa0a-9af8f940b35e",
   "metadata": {},
   "outputs": [],
   "source": [
    "# from adomvi.datasets.roboflow import delete_images_without_labels\n",
    "\n",
    "# delete_images_without_labels(dataset_rf)"
   ]
  },
  {
   "cell_type": "markdown",
   "id": "857002b8",
   "metadata": {},
   "source": [
    "Finally, we can add these new samples into our training dataset."
   ]
  },
  {
   "cell_type": "code",
   "execution_count": 12,
   "id": "1cf02686-f078-4dff-8420-90cd5afd50b7",
   "metadata": {},
   "outputs": [],
   "source": [
    "dataset.merge_samples(dataset_rf)"
   ]
  },
  {
   "cell_type": "code",
   "execution_count": null,
   "id": "1c4a3aba-341a-4682-9965-74b075aa6dda",
   "metadata": {},
   "outputs": [],
   "source": [
    "session.show()"
   ]
  },
  {
   "cell_type": "markdown",
   "id": "7cf52027",
   "metadata": {},
   "source": [
    "### Add a custom dataset scraped from Google\n",
    "\n",
    "We now have 2666 images of military vehicles. To improve that a bit, we provide a [sample dataset](https://github.com/jonasrenault/adomvi/releases/download/v1.2.0/military-vehicles-dataset.tar.gz) of images scraped from Google and annotated with our 4 classes (*AFV*, *APC*, *LAV* & *MEV*). Let's download the dataset and merge it with our existing dataset."
   ]
  },
  {
   "cell_type": "code",
   "execution_count": 13,
   "id": "3a09856e",
   "metadata": {},
   "outputs": [
    {
     "name": "stderr",
     "output_type": "stream",
     "text": [
      "2024-06-28 16:32:09,877 - INFO - Downloading google/military-vehicles-dataset.tar.gz from https://github.com/jonasrenault/adomvi/releases/download/v1.2.0/military-vehicles-dataset.tar.gz ...\n",
      "2024-06-28 16:32:18,724 - INFO - Download complete.\n",
      "2024-06-28 16:32:19,243 - INFO - Extracted to google\n"
     ]
    }
   ],
   "source": [
    "from adomvi.datasets.google import download_google_dataset\n",
    "\n",
    "google_dir = Path() / \"google\"\n",
    "url = \"https://github.com/jonasrenault/adomvi/releases/download/v1.2.0/military-vehicles-dataset.tar.gz\"\n",
    "\n",
    "download_google_dataset(url, google_dir)"
   ]
  },
  {
   "cell_type": "code",
   "execution_count": 14,
   "id": "36c2dc44",
   "metadata": {},
   "outputs": [
    {
     "name": "stdout",
     "output_type": "stream",
     "text": [
      "Images file '/home/jrenault/workspace/adomvi2/notebooks/google/dataset/images.txt' not found. Listing data directory '/home/jrenault/workspace/adomvi2/notebooks/google/dataset/data/' instead\n",
      " 100% |█████████████████| 669/669 [589.4ms elapsed, 0s remaining, 1.1K samples/s]      \n"
     ]
    }
   ],
   "source": [
    "dataset_google = fo.Dataset.from_dir(\n",
    "    dataset_dir=google_dir / \"dataset\",\n",
    "    dataset_type=fo.types.YOLOv4Dataset,\n",
    ")"
   ]
  },
  {
   "cell_type": "code",
   "execution_count": 15,
   "id": "fd2bb83c",
   "metadata": {},
   "outputs": [],
   "source": [
    "dataset.merge_samples(dataset_google)\n"
   ]
  },
  {
   "cell_type": "code",
   "execution_count": null,
   "id": "f1209140",
   "metadata": {},
   "outputs": [],
   "source": [
    "session.show()"
   ]
  },
  {
   "cell_type": "markdown",
   "id": "189695b2-2323-49a7-a734-5b68fc2b48ae",
   "metadata": {},
   "source": [
    "### Export dataset to disk\n",
    "\n",
    "Now that our dataset is created, we'll export it into a format supported by YOLOv8 to train our model."
   ]
  },
  {
   "cell_type": "markdown",
   "id": "e98d4156-7b05-4544-863a-f568cfb6192e",
   "metadata": {},
   "source": [
    "We first remove tags from the dataset, and split it into a train, val and test sets."
   ]
  },
  {
   "cell_type": "code",
   "execution_count": 16,
   "id": "25a1477a-4f56-4404-a714-a9ee14b8507c",
   "metadata": {},
   "outputs": [],
   "source": [
    "import fiftyone.utils.random as four\n",
    "\n",
    "## delete existing tags to start fresh\n",
    "dataset.untag_samples(dataset.distinct(\"tags\"))\n",
    "\n",
    "## split into train, test and val\n",
    "four.random_split(dataset, {\"train\": 0.8, \"val\": 0.1, \"test\": 0.1})"
   ]
  },
  {
   "cell_type": "markdown",
   "id": "d1a2c420-c3f6-4d17-814c-ea64f6824aa9",
   "metadata": {},
   "source": [
    "Once our dataset is split, we can export it to a specific directory."
   ]
  },
  {
   "cell_type": "code",
   "execution_count": 17,
   "id": "78ffa7f9-0c00-4adf-a017-d91bf8fbbe08",
   "metadata": {},
   "outputs": [
    {
     "name": "stdout",
     "output_type": "stream",
     "text": []
    },
    {
     "name": "stdout",
     "output_type": "stream",
     "text": [
      " 100% |███████████████| 2668/2668 [3.6s elapsed, 0s remaining, 1.4K samples/s]       \n",
      "Directory 'dataset' already exists; export will be merged with existing files\n",
      " 100% |█████████████████| 334/334 [456.7ms elapsed, 0s remaining, 731.4 samples/s]      \n",
      "Directory 'dataset' already exists; export will be merged with existing files\n",
      " 100% |█████████████████| 333/333 [444.5ms elapsed, 0s remaining, 749.2 samples/s]      \n"
     ]
    }
   ],
   "source": [
    "from adomvi.yolo.utils import export_yolo_data\n",
    "\n",
    "export_dir = Path() / \"dataset\"\n",
    "export_yolo_data(dataset, export_dir, [\"AFV\", \"APC\", \"MEV\", \"LAV\"], split = [\"train\", \"val\", \"test\"], overwrite=True)"
   ]
  },
  {
   "cell_type": "code",
   "execution_count": null,
   "id": "8bd7bcbf-d931-4359-9b4e-58961f13da5e",
   "metadata": {},
   "outputs": [],
   "source": []
  }
 ],
 "metadata": {
  "kernelspec": {
   "display_name": "Python 3 (ipykernel)",
   "language": "python",
   "name": "python3"
  },
  "language_info": {
   "codemirror_mode": {
    "name": "ipython",
    "version": 3
   },
   "file_extension": ".py",
   "mimetype": "text/x-python",
   "name": "python",
   "nbconvert_exporter": "python",
   "pygments_lexer": "ipython3",
   "version": "3.10.14"
  }
 },
 "nbformat": 4,
 "nbformat_minor": 5
}
