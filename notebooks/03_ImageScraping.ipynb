{
 "cells": [
  {
   "cell_type": "markdown",
   "id": "69af399f-7a84-4ff3-915a-4f95c4654614",
   "metadata": {},
   "source": [
    "# Scraping google images to create a multi-label dataset"
   ]
  },
  {
   "cell_type": "markdown",
   "id": "e60193d2-f991-4a20-8c98-4ec018f56c9e",
   "metadata": {},
   "source": [
    "The previous model that we trained with images collected from open-source datasets was limited by its size and its single label class. We'll run a scraping tool to download more images from Google Image for different classes of military vehicles. "
   ]
  },
  {
   "cell_type": "markdown",
   "id": "df2c718f-c2b3-4f23-8c87-68a22d400533",
   "metadata": {},
   "source": [
    "## Defining labels\n",
    "\n",
    "It's hard to find a unified taxonomy for military vehicles. We'll try to define large class labels by using Wikipedia's [Military vehicles by type](https://en.wikipedia.org/wiki/Category:Military_vehicles_by_type) category. Model names can be found in this list of [modern armoured fighting vehicles](https://en.wikipedia.org/wiki/List_of_modern_armoured_fighting_vehicles)"
   ]
  },
  {
   "cell_type": "markdown",
   "id": "d2f1cc31-e17b-413d-a4d9-ffc2e0ea3cd6",
   "metadata": {},
   "source": [
    "- **Armoured fighting vehicle (AFV)** is an armed combat vehicle protected by armour, generally combining operational mobility with offensive and defensive capabilities. AFVs can be wheeled or tracked. Examples of AFVs are tanks, armoured cars, assault guns, self-propelled guns, infantry fighting vehicles (IFV), and armoured personnel carriers (APC).\n",
    "- **Armoured personnel carrier (APC)** is a broad type of armoured military vehicle designed to transport personnel and equipment in combat zones.\n",
    "- **Military engineering vehicle (MEV)** is a vehicle built for construction work or for the transportation of combat engineers on the battlefield.\n",
    "- **Light armoured vehicle (LAV) (incl. Reconnaissance vehicle - RV)** is the lightest weight class military vehicle category. A Jeep-like four-wheel drive vehicle for military use, with light or no armour. **Reconnaissance vehicle (RV)** is a military vehicle used for forward reconnaissance. Both tracked and wheeled reconnaissance vehicles are in service."
   ]
  },
  {
   "cell_type": "markdown",
   "id": "beb65ae6-fdc5-437f-9c7e-9dee829babfd",
   "metadata": {},
   "source": [
    "Based on these categories, we can define some search terms."
   ]
  },
  {
   "cell_type": "code",
   "execution_count": null,
   "id": "8d00ff1f-c8e8-4cc8-925b-31d5556535a9",
   "metadata": {},
   "outputs": [],
   "source": [
    "AFV = [\n",
    "    \"AFV Lynx\",\n",
    "    \"Boxer AFV\",\n",
    "    \"ZTZ-99\",\n",
    "    \"ZTZ-96\",\n",
    "    \"VT-4\",\n",
    "    \"ZBD-04\",\n",
    "    \"Leclerc tank\",\n",
    "    \"AMX 10 RC\",\n",
    "    \"Leopard tank\",\n",
    "    \"T-90\",\n",
    "    \"T-72\",\n",
    "    \"challenger tank\",\n",
    "    \"M1 abrams\",\n",
    "]\n",
    "APC = [\n",
    "    \"AMX-10P\",\n",
    "    \"VAB\",\n",
    "    \"LAV III\",\n",
    "    \"Berliet VXB\",\n",
    "    \"Panhard VCR\",\n",
    "    \"Didgori-3\",\n",
    "    \"M113 APC\",\n",
    "    \"AMPV\",\n",
    "    \"VBTP-MR Guarani\",\n",
    "    \"BTR-40\",\n",
    "    \"BTR-60\",\n",
    "    \"BTR-80\",\n",
    "    \"TPZ Fuchs\",\n",
    "    \"Bison APC\",\n",
    "    \"ZBL-08\",\n",
    "    \"fv103 spartan\",\n",
    "    \"MRAP\",\n",
    "]\n",
    "MEV = [\n",
    "    \"Engin blindé du génie\",\n",
    "    \"ebg vulcain\",\n",
    "    \"kodiak wisent armoured vehicle\",\n",
    "    \"m728 cev\",\n",
    "    \"terrier armoured vehicle\",\n",
    "    \"imr-2 armoured vehicle\",\n",
    "]\n",
    "LAV = [\n",
    "    \"LAV-25\",\n",
    "    \"Iveco VM 90\",\n",
    "    \"Panhard VBL\",\n",
    "    \"Panhard AML\",\n",
    "    \"Panhard ERC\",\n",
    "    \"Humvee\",\n",
    "    \"FV601 Saladin\",\n",
    "    \"AMX-10 RC\",\n",
    "    \"RG-32 Scout\",\n",
    "    \"fv101 scorpion\",\n",
    "    \"fv107 scimitar\",\n",
    "]"
   ]
  },
  {
   "cell_type": "markdown",
   "id": "cda03ed7-85fd-4a4a-9168-ee2c686456e7",
   "metadata": {},
   "source": [
    "## Downloading images from google"
   ]
  },
  {
   "cell_type": "markdown",
   "id": "054b72f0-8456-4433-8d99-9e10a72672da",
   "metadata": {},
   "source": [
    "Once we've defined our labels and search terms, we can download images from Google for each category. We'll create our dataset by downloading 50 images for each search term."
   ]
  },
  {
   "cell_type": "code",
   "execution_count": null,
   "id": "29861b98-c1bb-48ef-ac99-b4542bd3770a",
   "metadata": {},
   "outputs": [],
   "source": [
    "import logging\n",
    "import sys\n",
    "\n",
    "logging.basicConfig(stream=sys.stdout, level=logging.INFO)"
   ]
  },
  {
   "cell_type": "code",
   "execution_count": null,
   "id": "8cf61283-0a1d-4891-8eb2-3075c01a9e41",
   "metadata": {},
   "outputs": [],
   "source": [
    "MAX_IMAGES_PER_TERM = 50"
   ]
  },
  {
   "cell_type": "code",
   "execution_count": null,
   "id": "8fa59ab9-ab7b-42b1-b51c-075ab4e660aa",
   "metadata": {},
   "outputs": [],
   "source": [
    "from adomvi.scraper.google import GoogleImageScraper\n",
    "from pathlib import Path\n",
    "\n",
    "def worker_thread(klass, search_term):\n",
    "    save_dir = Path(f\"google/{klass}\")\n",
    "    scraper = GoogleImageScraper(\n",
    "        save_dir,\n",
    "        search_term,\n",
    "        max_images=MAX_IMAGES_PER_TERM,\n",
    "        min_resolution=(400, 300),\n",
    "        max_resolution=(2048, 2048),\n",
    "    )\n",
    "    images = scraper.get_image_urls()\n",
    "    scraper.save_images(images)"
   ]
  },
  {
   "cell_type": "code",
   "execution_count": null,
   "id": "d8d59268-b02d-47a8-89da-8c311cfab103",
   "metadata": {
    "scrolled": true
   },
   "outputs": [],
   "source": [
    "from concurrent.futures import ThreadPoolExecutor\n",
    "from itertools import repeat\n",
    "\n",
    "with ThreadPoolExecutor(max_workers=2) as executor:\n",
    "    executor.map(worker_thread, repeat(\"AFV\"), AFV)"
   ]
  },
  {
   "cell_type": "markdown",
   "id": "52bcbd94-213f-4b50-aa0f-2c1b4b6021ed",
   "metadata": {},
   "source": [
    "## Annotate the dataset\n",
    "\n",
    "To annotate the dataset, use a tool like [CVAT](https://app.cvat.ai/)."
   ]
  },
  {
   "cell_type": "markdown",
   "id": "6c34d776-1818-48da-8c02-d12a05281901",
   "metadata": {},
   "source": [
    "## Load the dataset"
   ]
  },
  {
   "cell_type": "markdown",
   "id": "7404a711-c69a-4b71-974f-306ed10cc8d5",
   "metadata": {},
   "source": [
    "We provide a sample annotated dataset with 4 classes (*AFV*, *APC*, *LAV* & *MEV*). You can download the dataset from [here](https://github.com/jonasrenault/adomvi/releases/download/v1.2.0/military-vehicles-dataset.tar.gz) and extract it into the `resources` directory. We'll use fiftyone to load and preview the dataset."
   ]
  },
  {
   "cell_type": "code",
   "execution_count": null,
   "id": "cbc034f4-4a04-4e1e-804c-e3449a5bb208",
   "metadata": {},
   "outputs": [],
   "source": [
    "import fiftyone as fo\n",
    "\n",
    "name = \"google-military-vehicles\"\n",
    "dataset_dir = \"../resources/dataset\"\n",
    "\n",
    "# Create the dataset\n",
    "dataset = fo.Dataset.from_dir(\n",
    "    dataset_dir=dataset_dir,\n",
    "    dataset_type=fo.types.YOLOv4Dataset,\n",
    "    name=name,\n",
    ")"
   ]
  },
  {
   "cell_type": "code",
   "execution_count": null,
   "id": "fe762f6b-5a10-474a-a84b-48d4efe29240",
   "metadata": {},
   "outputs": [],
   "source": [
    "session = fo.launch_app(dataset, auto=False)"
   ]
  },
  {
   "cell_type": "markdown",
   "id": "5472dc31-18ad-41dc-822e-5faf5990b407",
   "metadata": {},
   "source": [
    "## Train a yolov8 model with just the google dataset"
   ]
  },
  {
   "cell_type": "markdown",
   "id": "d5e96727-07fb-483a-abb5-1ecddc52c19c",
   "metadata": {},
   "source": [
    "To start with, we'll train a yolov8 model using only our newly created dataset. The following methods will split the dataset into train, test and val splits and export it into a folder in yolo format for training."
   ]
  },
  {
   "cell_type": "code",
   "execution_count": null,
   "id": "905e2ae9-7714-4a17-a3fc-5ac78be2d49f",
   "metadata": {},
   "outputs": [],
   "source": [
    "import fiftyone.utils.random as four\n",
    "\n",
    "## delete existing tags to start fresh\n",
    "dataset.untag_samples(dataset.distinct(\"tags\"))\n",
    "\n",
    "## split into train, test and val\n",
    "four.random_split(\n",
    "    dataset,\n",
    "    {\"train\": 0.8, \"val\": 0.1, \"test\": 0.1}\n",
    ")"
   ]
  },
  {
   "cell_type": "code",
   "execution_count": null,
   "id": "d349d2a0-41bf-4aea-a24e-bac0aca6745d",
   "metadata": {},
   "outputs": [],
   "source": [
    "def export_yolo_data(\n",
    "    samples, \n",
    "    export_dir, \n",
    "    classes, \n",
    "    label_field = \"ground_truth\", \n",
    "    split = None\n",
    "    ):\n",
    "\n",
    "    if type(split) == list:\n",
    "        splits = split\n",
    "        for split in splits:\n",
    "            export_yolo_data(\n",
    "                samples, \n",
    "                export_dir, \n",
    "                classes, \n",
    "                label_field, \n",
    "                split\n",
    "            )   \n",
    "    else:\n",
    "        if split is None:\n",
    "            split_view = samples\n",
    "            split = \"val\"\n",
    "        else:\n",
    "            split_view = samples.match_tags(split)\n",
    "\n",
    "        split_view.export(\n",
    "            export_dir=export_dir,\n",
    "            dataset_type=fo.types.YOLOv5Dataset,\n",
    "            label_field=label_field,\n",
    "            classes=classes,\n",
    "            split=split\n",
    "        )"
   ]
  },
  {
   "cell_type": "code",
   "execution_count": null,
   "id": "93893932-2158-450f-b4e0-f0ffa704066f",
   "metadata": {},
   "outputs": [],
   "source": [
    "## export in YOLO format\n",
    "export_yolo_data(\n",
    "    dataset, \n",
    "    \"google_vehicles\", \n",
    "    [\"AFV\", \"APC\", \"MEV\", \"LAV\"], \n",
    "    split = [\"train\", \"val\", \"test\"]\n",
    ")"
   ]
  },
  {
   "cell_type": "markdown",
   "id": "7bcd612f-f4c6-457c-a154-e66df607adb1",
   "metadata": {},
   "source": [
    "We can now train our model. We'll use a `yolov8-large` model as our base and finetune it on 100 epochs."
   ]
  },
  {
   "cell_type": "code",
   "execution_count": null,
   "id": "7d198c7b-4781-4582-b63f-54874828907e",
   "metadata": {},
   "outputs": [],
   "source": [
    "!yolo task=detect mode=train model=yolov8l.pt data=google_vehicles/dataset.yaml epochs=100 imgsz=640 batch=16"
   ]
  },
  {
   "cell_type": "markdown",
   "id": "0e04f049-8df8-4730-ae77-b3124d62a237",
   "metadata": {},
   "source": [
    "## Evaluating our model"
   ]
  },
  {
   "cell_type": "markdown",
   "id": "f18ff0c1-f715-4493-9556-77256eacda47",
   "metadata": {},
   "source": [
    "The following will run inference on the test split and import the results into fiftyone to view the MAP."
   ]
  },
  {
   "cell_type": "code",
   "execution_count": null,
   "id": "dbbfcbc8-a7b2-4fed-8965-27aede5deb86",
   "metadata": {},
   "outputs": [],
   "source": [
    "!yolo task=detect mode=predict model=runs/detect/train/weights/best.pt source=google_vehicles/images/test save_txt=True save_conf=True"
   ]
  },
  {
   "cell_type": "code",
   "execution_count": null,
   "id": "d07e8b51-fc31-4132-8b0f-b71ffcc53f7d",
   "metadata": {},
   "outputs": [],
   "source": [
    "# The test split of the dataset\n",
    "test_view = dataset.match_tags(\"test\")"
   ]
  },
  {
   "cell_type": "code",
   "execution_count": null,
   "id": "5a2f9387-7dc5-4a0a-8f6c-f9f20cabb3e6",
   "metadata": {},
   "outputs": [],
   "source": [
    "import os\n",
    "import numpy as np\n",
    "from tqdm import tqdm\n",
    "\n",
    "def read_yolo_detections_file(filepath):\n",
    "    detections = []\n",
    "    if not os.path.exists(filepath):\n",
    "        return np.array([])\n",
    "    \n",
    "    with open(filepath) as f:\n",
    "        lines = [line.rstrip('\\n').split(' ') for line in f]\n",
    "    \n",
    "    for line in lines:\n",
    "        detection = [float(l) for l in line]\n",
    "        detections.append(detection)\n",
    "    return np.array(detections)"
   ]
  },
  {
   "cell_type": "code",
   "execution_count": null,
   "id": "90a7f692-8cb7-4605-9248-6a266bd7e360",
   "metadata": {},
   "outputs": [],
   "source": [
    "def _uncenter_boxes(boxes):\n",
    "    '''convert from center coords to corner coords'''\n",
    "    boxes[:, 0] -= boxes[:, 2]/2.\n",
    "    boxes[:, 1] -= boxes[:, 3]/2."
   ]
  },
  {
   "cell_type": "code",
   "execution_count": null,
   "id": "226f31d4-4b66-4fba-b022-36fc5663b641",
   "metadata": {},
   "outputs": [],
   "source": [
    "def _get_class_labels(predicted_classes, class_list):\n",
    "    labels = (predicted_classes).astype(int)\n",
    "    labels = [class_list[l] for l in labels]\n",
    "    return labels"
   ]
  },
  {
   "cell_type": "code",
   "execution_count": null,
   "id": "ef963cb8-16b1-4ea4-aa6a-40ffd28f47d5",
   "metadata": {},
   "outputs": [],
   "source": [
    "def convert_yolo_detections_to_fiftyone(\n",
    "    yolo_detections, \n",
    "    class_list\n",
    "    ):\n",
    "\n",
    "    detections = []\n",
    "    if yolo_detections.size == 0:\n",
    "        return fo.Detections(detections=detections)\n",
    "    \n",
    "    boxes = yolo_detections[:, 1:-1]\n",
    "    _uncenter_boxes(boxes)\n",
    "    \n",
    "    confs = yolo_detections[:, -1]\n",
    "    labels = _get_class_labels(yolo_detections[:, 0], class_list) \n",
    " \n",
    "    for label, conf, box in zip(labels, confs, boxes):\n",
    "        detections.append(\n",
    "            fo.Detection(\n",
    "                label=label,\n",
    "                bounding_box=box.tolist(),\n",
    "                confidence=conf\n",
    "            )\n",
    "        )\n",
    "\n",
    "    return fo.Detections(detections=detections)"
   ]
  },
  {
   "cell_type": "code",
   "execution_count": null,
   "id": "8bcc06be-28c6-4954-aed3-efd10cb763a8",
   "metadata": {},
   "outputs": [],
   "source": [
    "def get_prediction_filepath(filepath, run_number = 1):\n",
    "    run_num_string = \"\"\n",
    "    if run_number != 1:\n",
    "        run_num_string = str(run_number)\n",
    "    filename = filepath.split(\"/\")[-1].split(\".\")[0]\n",
    "    return f\"runs/detect/predict{run_num_string}/labels/{filename}.txt\""
   ]
  },
  {
   "cell_type": "code",
   "execution_count": null,
   "id": "f3634f03-f90c-4915-aea5-b85bea4bb747",
   "metadata": {},
   "outputs": [],
   "source": [
    "def add_yolo_detections(\n",
    "    samples,\n",
    "    prediction_field,\n",
    "    prediction_filepath,\n",
    "    class_list\n",
    "    ):\n",
    "\n",
    "    prediction_filepaths = samples.values(prediction_filepath)\n",
    "    yolo_detections = [read_yolo_detections_file(pf) for pf in prediction_filepaths]\n",
    "    detections =  [convert_yolo_detections_to_fiftyone(yd, class_list) for yd in yolo_detections]\n",
    "    samples.set_values(prediction_field, detections)"
   ]
  },
  {
   "cell_type": "code",
   "execution_count": null,
   "id": "d1279df5-e957-41ca-84fc-bfefdbe4f31e",
   "metadata": {},
   "outputs": [],
   "source": [
    "filepaths = test_view.values(\"filepath\")\n",
    "prediction_filepaths = [get_prediction_filepath(fp) for fp in filepaths]\n",
    "test_view.set_values(\n",
    "    \"yolov8l_det_filepath\", \n",
    "    prediction_filepaths\n",
    ")\n",
    "\n",
    "add_yolo_detections(\n",
    "    test_view, \n",
    "    \"yolov8l\", \n",
    "    \"yolov8l_det_filepath\", \n",
    "    [\"AFV\", \"APC\", \"MEV\", \"LAV\"]\n",
    ")"
   ]
  },
  {
   "cell_type": "code",
   "execution_count": null,
   "id": "223e6471-870a-4920-98f1-919e40aab93e",
   "metadata": {},
   "outputs": [],
   "source": [
    "detection_results = test_view.evaluate_detections(\n",
    "    \"yolov8l\", \n",
    "    eval_key=\"eval\",\n",
    "    compute_mAP=True,\n",
    "    gt_field=\"ground_truth\",\n",
    ")"
   ]
  },
  {
   "cell_type": "code",
   "execution_count": null,
   "id": "cbe4aa9c-9750-409e-9514-f4ed6ad6a952",
   "metadata": {},
   "outputs": [],
   "source": [
    "mAP = detection_results.mAP()\n",
    "print(f\"mAP = {mAP}\")"
   ]
  },
  {
   "cell_type": "code",
   "execution_count": null,
   "id": "99b713b5-7867-42f9-a2d2-5726a3283eb1",
   "metadata": {},
   "outputs": [],
   "source": [
    "detection_results.print_report()"
   ]
  },
  {
   "cell_type": "markdown",
   "id": "0556096b-dece-4317-a719-5731d7b4ece4",
   "metadata": {},
   "source": [
    "## Run video tracking with our model"
   ]
  },
  {
   "cell_type": "markdown",
   "id": "2d8f32c7-83c0-4a45-abf4-dc47f27a39e8",
   "metadata": {},
   "source": [
    "We can run video tracking of military vehicles using our trained model and the sample videos available in the `resources/test` directory."
   ]
  },
  {
   "cell_type": "code",
   "execution_count": null,
   "id": "6b839174-b938-4e28-8c83-7756afbf45b8",
   "metadata": {},
   "outputs": [],
   "source": [
    "!cp runs/detect/train/weights/best.pt yolov8l-google.pt"
   ]
  },
  {
   "cell_type": "code",
   "execution_count": null,
   "id": "3e2a63fc-3b27-4579-8a6e-2b8865562e0c",
   "metadata": {},
   "outputs": [],
   "source": [
    "!python yolo_tracking/examples/track.py --yolo-model yolov8l-google.pt --reid-model mobilenetv2_x1_4_dukemtmcreid.pt --source ../resources/test/lav3.mp4 --save --project runs/track"
   ]
  },
  {
   "cell_type": "code",
   "execution_count": null,
   "id": "e3298243-0646-4b53-9f34-08d669960692",
   "metadata": {},
   "outputs": [],
   "source": []
  }
 ],
 "metadata": {
  "kernelspec": {
   "display_name": "Python 3 (ipykernel)",
   "language": "python",
   "name": "python3"
  },
  "language_info": {
   "codemirror_mode": {
    "name": "ipython",
    "version": 3
   },
   "file_extension": ".py",
   "mimetype": "text/x-python",
   "name": "python",
   "nbconvert_exporter": "python",
   "pygments_lexer": "ipython3",
   "version": "3.10.14"
  }
 },
 "nbformat": 4,
 "nbformat_minor": 5
}
