{
 "cells": [
  {
   "cell_type": "markdown",
   "metadata": {},
   "source": [
    "# Track military vehicles in video inputs\n",
    "\n",
    "In this notebook, we'll use the model that we trained with our custom dataset to track military vehicles in videos. We'll use the [YOLO](https://github.com/ultralytics/ultralytics) library to provide state-of-the-art multi-object tracking algorithms."
   ]
  },
  {
   "cell_type": "markdown",
   "metadata": {},
   "source": [
    "### Setup"
   ]
  },
  {
   "cell_type": "markdown",
   "metadata": {},
   "source": [
    "To start, check GPU support."
   ]
  },
  {
   "cell_type": "code",
   "execution_count": 1,
   "metadata": {},
   "outputs": [
    {
     "name": "stdout",
     "output_type": "stream",
     "text": [
      "Setup complete. Using torch 2.3.1+cu121 (NVIDIA RTX A6000)\n"
     ]
    }
   ],
   "source": [
    "import torch\n",
    "\n",
    "print(f\"Setup complete. Using torch {torch.__version__} ({torch.cuda.get_device_properties(0).name if torch.cuda.is_available() else 'CPU'})\")"
   ]
  },
  {
   "cell_type": "markdown",
   "metadata": {},
   "source": [
    "### Run inference on the video\n",
    "\n",
    "We run our detection model on the sample video, saving the output to disk."
   ]
  },
  {
   "cell_type": "code",
   "execution_count": 2,
   "metadata": {},
   "outputs": [
    {
     "name": "stdout",
     "output_type": "stream",
     "text": [
      "runs/detect/train6/weights/best.pt\n"
     ]
    }
   ],
   "source": [
    "import pickle\n",
    "\n",
    "# Load the best_model variable from the file\n",
    "with open('best_model.pkl', 'rb') as f:\n",
    "    best_model = pickle.load(f)\n",
    "\n",
    "print(best_model)"
   ]
  },
  {
   "cell_type": "code",
   "execution_count": null,
   "metadata": {
    "scrolled": true
   },
   "outputs": [],
   "source": [
    "from pathlib import Path\n",
    "from adomvi.yolo.yolo import track\n",
    "\n",
    "video_path = Path() / \"../resources/test/apc1.mp4\"\n",
    "results_track = track(best_model, source=video_path, tracker=\"bytetrack.yaml\")\n"
   ]
  },
  {
   "cell_type": "code",
   "execution_count": null,
   "metadata": {},
   "outputs": [],
   "source": [
    "# Load the path of the track model results\n",
    "\n",
    "results_track_dir = Path(results_track[0].save_dir)"
   ]
  },
  {
   "cell_type": "markdown",
   "metadata": {},
   "source": [
    "### Display the result video"
   ]
  },
  {
   "cell_type": "markdown",
   "metadata": {},
   "source": [
    "Compress the video file to a format supported by HTML (mpeg4 (native) -> h264 (libx264))"
   ]
  },
  {
   "cell_type": "code",
   "execution_count": null,
   "metadata": {},
   "outputs": [],
   "source": [
    "from pathlib import Path\n",
    "from adomvi.utils import convert_video_avi_to_mp4\n",
    "\n",
    "input_video_path = Path() / results_track_dir / \"apc1.avi\"\n",
    "output_video_path = Path() / results_track_dir / \"apc1.mp4\"\n",
    "convert_video_avi_to_mp4(input_video_path, output_video_path)"
   ]
  },
  {
   "cell_type": "markdown",
   "metadata": {},
   "source": [
    "Display it with HTML"
   ]
  },
  {
   "cell_type": "code",
   "execution_count": null,
   "metadata": {},
   "outputs": [],
   "source": [
    "import IPython.display as display\n",
    "from base64 import b64encode\n",
    "\n",
    "video_url = (f\"data:video/mp4;base64,{b64encode(output_video_path.read_bytes()).decode()}\")\n",
    "display.HTML(\n",
    "    f\"\"\"\n",
    "    <video controls width=\"640\">\n",
    "        <source src=\"{video_url}\" type=\"video/mp4\">\n",
    "    </video>\n",
    "    \"\"\"\n",
    ")"
   ]
  },
  {
   "cell_type": "code",
   "execution_count": null,
   "metadata": {},
   "outputs": [],
   "source": []
  }
 ],
 "metadata": {
  "kernelspec": {
   "display_name": "Python 3 (ipykernel)",
   "language": "python",
   "name": "python3"
  },
  "language_info": {
   "codemirror_mode": {
    "name": "ipython",
    "version": 3
   },
   "file_extension": ".py",
   "mimetype": "text/x-python",
   "name": "python",
   "nbconvert_exporter": "python",
   "pygments_lexer": "ipython3",
   "version": "3.10.14"
  }
 },
 "nbformat": 4,
 "nbformat_minor": 4
}
