{
 "cells": [
  {
   "cell_type": "markdown",
   "id": "b16172d3-4aaf-4b8d-b9e1-b67f8322e01d",
   "metadata": {},
   "source": [
    "# Tank detection YoloV8 model train\n",
    "\n",
    "This notebook will train a [Yolov8](https://github.com/ultralytics/ultralytics) model for tank detection using publicly available annotated images of tanks.\n",
    "\n",
    "As the notebook will run the training with `PyTorch`, it is recommended to have GPUs available. If running in Google Colab, go to Edit > Notebook settings and select GPU hardware acceleration.\n",
    "\n",
    "The first step of the notebook will use [fiftyone](https://github.com/voxel51/fiftyone), to build a dataset of tank images and bounding box annotations for training the computer vision model. The tutorial notebook on [Fine-tuning YOLOv8 models for custom use cases](https://github.com/voxel51/fiftyone/blob/v0.21.0/docs/source/tutorials/yolov8.ipynb) is a usefull introduction on how to use `fiftyone`."
   ]
  },
  {
   "cell_type": "markdown",
   "id": "d3d75f09-636f-4786-9d60-4a672c41c055",
   "metadata": {},
   "source": [
    "## Setup"
   ]
  },
  {
   "cell_type": "code",
   "execution_count": 14,
   "id": "b49a9fd6-7e7e-4f53-b0b0-63b76935b5fc",
   "metadata": {},
   "outputs": [],
   "source": [
    "%load_ext autoreload\n",
    "%autoreload 2"
   ]
  },
  {
   "cell_type": "markdown",
   "id": "e78070ae-5cde-47ef-a394-4cbd74ad3cf7",
   "metadata": {},
   "source": [
    "To start, check GPU support."
   ]
  },
  {
   "cell_type": "code",
   "execution_count": 1,
   "id": "8dc4c32f-48a1-453a-8526-63f79f504b0b",
   "metadata": {},
   "outputs": [
    {
     "name": "stdout",
     "output_type": "stream",
     "text": [
      "Setup complete. Using torch 2.3.0+cu121 (NVIDIA RTX A6000)\n"
     ]
    }
   ],
   "source": [
    "import torch\n",
    "\n",
    "print(f\"Setup complete. Using torch {torch.__version__} ({torch.cuda.get_device_properties(0).name if torch.cuda.is_available() else 'CPU'})\")"
   ]
  },
  {
   "cell_type": "markdown",
   "id": "30d4f3d4-bc82-4afc-a633-3620f20dac52",
   "metadata": {},
   "source": [
    "We also setup logs."
   ]
  },
  {
   "cell_type": "code",
   "execution_count": 2,
   "id": "bd1f4a8e-a3c4-471b-9707-c3444b711a06",
   "metadata": {},
   "outputs": [],
   "source": [
    "import logging\n",
    "\n",
    "logging.basicConfig(level=logging.INFO)"
   ]
  },
  {
   "cell_type": "markdown",
   "id": "3aa4297e-1be7-4cce-b463-85f4a9c966ef",
   "metadata": {},
   "source": [
    "## Download images from ImageNet"
   ]
  },
  {
   "cell_type": "markdown",
   "id": "c4b485f9-2be0-466f-8d40-1a39cff4de1d",
   "metadata": {},
   "source": [
    "The first dataset we'll use is ImageNet21k. The ImageNet21k dataset is available at [https://image-net.org/download-images.php](https://image-net.org/download-images.php). You need to register and be granted access to download the images. We use the Winter 21 version since it gives the option of downloading the images for a single synset: https://image-net.org/data/winter21_whole/SYNSET_ID.tar, e.g., https://image-net.org/data/winter21_whole/n02352591.tar. The processed version of ImageNet21k is available here : https://github.com/Alibaba-MIIL/ImageNet21K. The class ids and names are available here https://github.com/google-research/big_transfer/issues/7#issuecomment-640048775."
   ]
  },
  {
   "cell_type": "markdown",
   "id": "2800ecad-1b8b-4a29-9251-911b88ff520b",
   "metadata": {},
   "source": [
    "We'll begin by downloading the class names that are in ImageNet21k and look for relevant classes that we can use."
   ]
  },
  {
   "cell_type": "code",
   "execution_count": 3,
   "id": "94b63ae8-42df-43cc-8fb9-8f34929e7a35",
   "metadata": {},
   "outputs": [],
   "source": [
    "from pathlib import Path\n",
    "\n",
    "imagenet_dir = Path() / \"imagenet\""
   ]
  },
  {
   "cell_type": "code",
   "execution_count": 4,
   "id": "52d1484a-02df-4563-a0d4-b21255dd8c2b",
   "metadata": {},
   "outputs": [
    {
     "name": "stderr",
     "output_type": "stream",
     "text": [
      "INFO:root:File imagenet/imagenet21k_wordnet_ids.txt already exists. Skipping download.\n",
      "INFO:root:File imagenet/imagenet21k_wordnet_lemmas.txt already exists. Skipping download.\n"
     ]
    },
    {
     "data": {
      "text/plain": [
       "{'n03762982': 'military_hospital',\n",
       " 'n03763727': 'military_quarters',\n",
       " 'n03763968': 'military_uniform',\n",
       " 'n03764276': 'military_vehicle',\n",
       " 'n04552348': 'warplane, military_plane',\n",
       " 'n08249459': 'concert_band, military_band',\n",
       " 'n09809538': 'army_engineer, military_engineer',\n",
       " 'n09943239': 'commissioned_military_officer',\n",
       " 'n10316360': 'military_attache',\n",
       " 'n10316527': 'military_chaplain, padre, Holy_Joe, sky_pilot',\n",
       " 'n10316862': 'military_leader',\n",
       " 'n10317007': 'military_officer, officer',\n",
       " 'n10317500': 'military_policeman, MP',\n",
       " 'n10512372': 'recruit, military_recruit',\n",
       " 'n10582746': 'serviceman, military_man, man, military_personnel',\n",
       " 'n10759331': 'volunteer, military_volunteer, voluntary'}"
      ]
     },
     "execution_count": 4,
     "metadata": {},
     "output_type": "execute_result"
    }
   ],
   "source": [
    "from adomvi.datasets.imagenet import download_class_names, find_class_by_text\n",
    "\n",
    "classes = download_class_names(imagenet_dir)\n",
    "find_class_by_text(classes, \"military\")"
   ]
  },
  {
   "cell_type": "markdown",
   "id": "9886fc7c-20e2-4afe-83af-67e6a856c54a",
   "metadata": {},
   "source": [
    "We can now download images and annotations for the relevant classes. The `download_imagenet_detections` function will download the images and annotations for the given class ids **if the annotations exist** (not all classes have been annotated)."
   ]
  },
  {
   "cell_type": "code",
   "execution_count": 5,
   "id": "05136aa9-b118-446b-90b5-a6ec5431e8e6",
   "metadata": {},
   "outputs": [
    {
     "name": "stderr",
     "output_type": "stream",
     "text": [
      "INFO:root:File imagenet/bboxes_annotations.tar.gz already exists. Skipping download.\n",
      "INFO:root:There are not annotations for class n02740300.\n",
      "INFO:root:Annotations directory imagenet/labels/n04389033 already exists. Skipping extract.\n",
      "INFO:root:There are not annotations for class n02740533.\n",
      "INFO:root:There are not annotations for class n04464852.\n",
      "INFO:root:There are not annotations for class n03764276.\n",
      "INFO:root:Deleting annotations dir.\n"
     ]
    }
   ],
   "source": [
    "from adomvi.datasets.imagenet import download_imagenet_detections\n",
    "\n",
    "class_ids = [\"n02740300\", \"n04389033\", \"n02740533\", \"n04464852\", \"n03764276\"]\n",
    "download_imagenet_detections(class_ids, imagenet_dir)"
   ]
  },
  {
   "cell_type": "markdown",
   "id": "8374b1ba-8d18-4f79-8fc2-00e7ee72a57e",
   "metadata": {},
   "source": [
    "The data we just downloaded into the `imagenet` directory is not all clean: there are annotations which have no corresponding image. We need to remove those labels, otherwise this causes errors when importing the data into fiftyone."
   ]
  },
  {
   "cell_type": "code",
   "execution_count": 6,
   "id": "d08d28ba-e98c-4c04-913b-a544ec29f6c8",
   "metadata": {},
   "outputs": [
    {
     "name": "stderr",
     "output_type": "stream",
     "text": [
      "INFO:root:Deleting 0 labels without images\n"
     ]
    }
   ],
   "source": [
    "from adomvi.datasets.imagenet import cleanup_labels_without_images\n",
    "\n",
    "cleanup_labels_without_images(imagenet_dir)"
   ]
  },
  {
   "cell_type": "markdown",
   "id": "d52714fb-4796-4362-ad51-b8e6b58ab393",
   "metadata": {},
   "source": [
    "We can now create a new dataset with `fiftyone`. Fiftyone allows us to manage images annotated with bounding boxes and labels, to merge datasets from different sources, and to split the datasets and prepare them for processing."
   ]
  },
  {
   "cell_type": "code",
   "execution_count": 7,
   "id": "031dba9b-53d3-4d09-8c4d-21f4cf15aca3",
   "metadata": {},
   "outputs": [
    {
     "name": "stdout",
     "output_type": "stream",
     "text": []
    },
    {
     "name": "stdout",
     "output_type": "stream",
     "text": [
      " 100% |█████████████████| 378/378 [439.9ms elapsed, 0s remaining, 864.4 samples/s]      \n"
     ]
    },
    {
     "name": "stderr",
     "output_type": "stream",
     "text": [
      "INFO:eta.core.utils: 100% |█████████████████| 378/378 [439.9ms elapsed, 0s remaining, 864.4 samples/s]      \n"
     ]
    }
   ],
   "source": [
    "import fiftyone as fo\n",
    "\n",
    "# Create the dataset\n",
    "dataset = fo.Dataset.from_dir(\n",
    "    dataset_dir=imagenet_dir,\n",
    "    dataset_type=fo.types.VOCDetectionDataset,\n",
    ")\n",
    "\n",
    "dataset.name = \"military-vehicles\"\n",
    "\n",
    "view = dataset.map_labels(\n",
    "    \"ground_truth\",\n",
    "    {\"n04389033\":\"tank\"}\n",
    ")"
   ]
  },
  {
   "cell_type": "markdown",
   "id": "e0c832db-12a7-4d05-a8aa-5f04b537f7e0",
   "metadata": {},
   "source": [
    "Once our dataset is created, we can launch a session to display the dataset and view the annotated images"
   ]
  },
  {
   "cell_type": "code",
   "execution_count": 8,
   "id": "bb91df40-7a6f-4956-9406-89829dafdda9",
   "metadata": {},
   "outputs": [
    {
     "name": "stdout",
     "output_type": "stream",
     "text": [
      "Session launched. Run `session.show()` to open the App in a cell output.\n"
     ]
    },
    {
     "name": "stderr",
     "output_type": "stream",
     "text": [
      "INFO:fiftyone.core.session.session:Session launched. Run `session.show()` to open the App in a cell output.\n"
     ]
    }
   ],
   "source": [
    "session = fo.launch_app(dataset, auto=False)"
   ]
  },
  {
   "cell_type": "code",
   "execution_count": 9,
   "id": "f7c04a2d-8d68-4109-8810-413babce74b2",
   "metadata": {},
   "outputs": [
    {
     "data": {
      "application/javascript": [
       "window.open('http://localhost:5151/');"
      ],
      "text/plain": [
       "<IPython.core.display.Javascript object>"
      ]
     },
     "metadata": {},
     "output_type": "display_data"
    }
   ],
   "source": [
    "session.open_tab()"
   ]
  },
  {
   "cell_type": "markdown",
   "id": "f7548a25-2224-4aa6-8b3e-e2645946d3d8",
   "metadata": {},
   "source": [
    "### Add OpenImage samples\n",
    "\n",
    "The ImageNet dataset only contained 378 annotated images of tanks, so we'll look into other available datasets to improve training of the model. We’ll load [Open Images](https://storage.googleapis.com/openimages/web/index.html) samples with `Tank` detection labels, passing in `only_matching=True` to only load the `Tank` labels. We then map these labels by changing `Tank` into `tank`."
   ]
  },
  {
   "cell_type": "code",
   "execution_count": 10,
   "id": "ace791d4-989d-4728-9881-1c5b13a4d276",
   "metadata": {},
   "outputs": [
    {
     "name": "stdout",
     "output_type": "stream",
     "text": [
      "Downloading split 'train' to '/home/jrenault/fiftyone/open-images-v7/train' if necessary\n"
     ]
    },
    {
     "name": "stderr",
     "output_type": "stream",
     "text": [
      "INFO:fiftyone.zoo.datasets:Downloading split 'train' to '/home/jrenault/fiftyone/open-images-v7/train' if necessary\n"
     ]
    },
    {
     "name": "stdout",
     "output_type": "stream",
     "text": [
      "Necessary images already downloaded\n"
     ]
    },
    {
     "name": "stderr",
     "output_type": "stream",
     "text": [
      "INFO:fiftyone.utils.openimages:Necessary images already downloaded\n"
     ]
    },
    {
     "name": "stdout",
     "output_type": "stream",
     "text": [
      "Existing download of split 'train' is sufficient\n"
     ]
    },
    {
     "name": "stderr",
     "output_type": "stream",
     "text": [
      "INFO:fiftyone.zoo.datasets:Existing download of split 'train' is sufficient\n"
     ]
    },
    {
     "name": "stdout",
     "output_type": "stream",
     "text": [
      "Downloading split 'test' to '/home/jrenault/fiftyone/open-images-v7/test' if necessary\n"
     ]
    },
    {
     "name": "stderr",
     "output_type": "stream",
     "text": [
      "INFO:fiftyone.zoo.datasets:Downloading split 'test' to '/home/jrenault/fiftyone/open-images-v7/test' if necessary\n"
     ]
    },
    {
     "name": "stdout",
     "output_type": "stream",
     "text": [
      "Necessary images already downloaded\n"
     ]
    },
    {
     "name": "stderr",
     "output_type": "stream",
     "text": [
      "INFO:fiftyone.utils.openimages:Necessary images already downloaded\n"
     ]
    },
    {
     "name": "stdout",
     "output_type": "stream",
     "text": [
      "Existing download of split 'test' is sufficient\n"
     ]
    },
    {
     "name": "stderr",
     "output_type": "stream",
     "text": [
      "INFO:fiftyone.zoo.datasets:Existing download of split 'test' is sufficient\n"
     ]
    },
    {
     "name": "stdout",
     "output_type": "stream",
     "text": [
      "Downloading split 'validation' to '/home/jrenault/fiftyone/open-images-v7/validation' if necessary\n"
     ]
    },
    {
     "name": "stderr",
     "output_type": "stream",
     "text": [
      "INFO:fiftyone.zoo.datasets:Downloading split 'validation' to '/home/jrenault/fiftyone/open-images-v7/validation' if necessary\n"
     ]
    },
    {
     "name": "stdout",
     "output_type": "stream",
     "text": [
      "Necessary images already downloaded\n"
     ]
    },
    {
     "name": "stderr",
     "output_type": "stream",
     "text": [
      "INFO:fiftyone.utils.openimages:Necessary images already downloaded\n"
     ]
    },
    {
     "name": "stdout",
     "output_type": "stream",
     "text": [
      "Existing download of split 'validation' is sufficient\n"
     ]
    },
    {
     "name": "stderr",
     "output_type": "stream",
     "text": [
      "INFO:fiftyone.zoo.datasets:Existing download of split 'validation' is sufficient\n"
     ]
    },
    {
     "name": "stdout",
     "output_type": "stream",
     "text": [
      "Loading 'open-images-v7' split 'train'\n"
     ]
    },
    {
     "name": "stderr",
     "output_type": "stream",
     "text": [
      "INFO:fiftyone.zoo.datasets:Loading 'open-images-v7' split 'train'\n"
     ]
    },
    {
     "name": "stdout",
     "output_type": "stream",
     "text": []
    },
    {
     "name": "stdout",
     "output_type": "stream",
     "text": [
      " 100% |███████████████| 1062/1062 [1.8s elapsed, 0s remaining, 602.4 samples/s]      \n"
     ]
    },
    {
     "name": "stderr",
     "output_type": "stream",
     "text": [
      "INFO:eta.core.utils: 100% |███████████████| 1062/1062 [1.8s elapsed, 0s remaining, 602.4 samples/s]      \n"
     ]
    },
    {
     "name": "stdout",
     "output_type": "stream",
     "text": [
      "Loading 'open-images-v7' split 'test'\n"
     ]
    },
    {
     "name": "stderr",
     "output_type": "stream",
     "text": [
      "INFO:fiftyone.zoo.datasets:Loading 'open-images-v7' split 'test'\n"
     ]
    },
    {
     "name": "stdout",
     "output_type": "stream",
     "text": []
    },
    {
     "name": "stdout",
     "output_type": "stream",
     "text": [
      " 100% |█████████████████| 134/134 [209.2ms elapsed, 0s remaining, 650.0 samples/s]    \n"
     ]
    },
    {
     "name": "stderr",
     "output_type": "stream",
     "text": [
      "INFO:eta.core.utils: 100% |█████████████████| 134/134 [209.2ms elapsed, 0s remaining, 650.0 samples/s]    \n"
     ]
    },
    {
     "name": "stdout",
     "output_type": "stream",
     "text": [
      "Loading 'open-images-v7' split 'validation'\n"
     ]
    },
    {
     "name": "stderr",
     "output_type": "stream",
     "text": [
      "INFO:fiftyone.zoo.datasets:Loading 'open-images-v7' split 'validation'\n"
     ]
    },
    {
     "name": "stdout",
     "output_type": "stream",
     "text": []
    },
    {
     "name": "stdout",
     "output_type": "stream",
     "text": [
      " 100% |███████████████████| 50/50 [74.5ms elapsed, 0s remaining, 671.4 samples/s]     \n"
     ]
    },
    {
     "name": "stderr",
     "output_type": "stream",
     "text": [
      "INFO:eta.core.utils: 100% |███████████████████| 50/50 [74.5ms elapsed, 0s remaining, 671.4 samples/s]     \n"
     ]
    },
    {
     "name": "stdout",
     "output_type": "stream",
     "text": [
      "Dataset 'open-images-v7' created\n"
     ]
    },
    {
     "name": "stderr",
     "output_type": "stream",
     "text": [
      "INFO:fiftyone.zoo.datasets:Dataset 'open-images-v7' created\n"
     ]
    }
   ],
   "source": [
    "import fiftyone.zoo as foz\n",
    "\n",
    "oi_samples = foz.load_zoo_dataset(\n",
    "    \"open-images-v7\",\n",
    "    classes = [\"Tank\"],\n",
    "    only_matching=True,\n",
    "    label_types=\"detections\"\n",
    ").map_labels(\n",
    "    \"ground_truth\",\n",
    "    {\"Tank\":\"tank\"}\n",
    ")"
   ]
  },
  {
   "cell_type": "code",
   "execution_count": 11,
   "id": "279b7fd6-165b-4b64-bc0d-994ba678a096",
   "metadata": {},
   "outputs": [],
   "source": [
    "dataset.merge_samples(oi_samples)"
   ]
  },
  {
   "cell_type": "markdown",
   "id": "55a0513e-7034-4949-b2f7-07423bfdfaca",
   "metadata": {},
   "source": [
    "## Fine-tune a YOLOv8 detection model\n",
    "\n",
    "Now that our dataset is created, we'll export it into a format supported by YOLOv8 to train our model."
   ]
  },
  {
   "cell_type": "code",
   "execution_count": 12,
   "id": "0dbbdb4b-0cda-45b6-bfb4-413c5e64ec02",
   "metadata": {},
   "outputs": [],
   "source": [
    "import fiftyone.utils.random as four\n",
    "\n",
    "## delete existing tags to start fresh\n",
    "dataset.untag_samples(dataset.distinct(\"tags\"))\n",
    "\n",
    "## split into train, test and val\n",
    "four.random_split(\n",
    "    dataset,\n",
    "    {\"train\": 0.8, \"val\": 0.1, \"test\": 0.1}\n",
    ")"
   ]
  },
  {
   "cell_type": "code",
   "execution_count": 17,
   "id": "6ab37a36-380c-484f-9636-9f0c89885cca",
   "metadata": {},
   "outputs": [
    {
     "name": "stdout",
     "output_type": "stream",
     "text": []
    },
    {
     "name": "stdout",
     "output_type": "stream",
     "text": [
      "  14% |██-------------|  177/1299 [207.1ms elapsed, 1.3s remaining, 854.6 samples/s] "
     ]
    },
    {
     "name": "stderr",
     "output_type": "stream",
     "text": [
      "/home/jrenault/mambaforge/envs/adomvi2/lib/python3.10/site-packages/fiftyone/utils/yolo.py:1029: UserWarning: Ignoring object with label 'n04389033' not in provided classes\n",
      "  warnings.warn(msg)\n"
     ]
    },
    {
     "name": "stdout",
     "output_type": "stream",
     "text": [
      " 100% |███████████████| 1299/1299 [1.4s elapsed, 0s remaining, 959.7 samples/s]         \n"
     ]
    },
    {
     "name": "stderr",
     "output_type": "stream",
     "text": [
      "INFO:eta.core.utils: 100% |███████████████| 1299/1299 [1.4s elapsed, 0s remaining, 959.7 samples/s]         \n"
     ]
    },
    {
     "name": "stdout",
     "output_type": "stream",
     "text": [
      "Directory 'vehicles' already exists; export will be merged with existing files\n"
     ]
    },
    {
     "name": "stderr",
     "output_type": "stream",
     "text": [
      "WARNING:fiftyone.core.collections:Directory 'vehicles' already exists; export will be merged with existing files\n"
     ]
    },
    {
     "name": "stdout",
     "output_type": "stream",
     "text": []
    },
    {
     "name": "stdout",
     "output_type": "stream",
     "text": [
      " 100% |█████████████████| 163/163 [196.8ms elapsed, 0s remaining, 828.2 samples/s]     \n"
     ]
    },
    {
     "name": "stderr",
     "output_type": "stream",
     "text": [
      "INFO:eta.core.utils: 100% |█████████████████| 163/163 [196.8ms elapsed, 0s remaining, 828.2 samples/s]     \n"
     ]
    },
    {
     "name": "stdout",
     "output_type": "stream",
     "text": [
      "Directory 'vehicles' already exists; export will be merged with existing files\n"
     ]
    },
    {
     "name": "stderr",
     "output_type": "stream",
     "text": [
      "WARNING:fiftyone.core.collections:Directory 'vehicles' already exists; export will be merged with existing files\n"
     ]
    },
    {
     "name": "stdout",
     "output_type": "stream",
     "text": []
    },
    {
     "name": "stdout",
     "output_type": "stream",
     "text": [
      " 100% |█████████████████| 162/162 [169.1ms elapsed, 0s remaining, 958.2 samples/s]     \n"
     ]
    },
    {
     "name": "stderr",
     "output_type": "stream",
     "text": [
      "INFO:eta.core.utils: 100% |█████████████████| 162/162 [169.1ms elapsed, 0s remaining, 958.2 samples/s]     \n"
     ]
    }
   ],
   "source": [
    "from pathlib import Path\n",
    "from adomvi.utils import export_yolo_data\n",
    "\n",
    "export_dir = Path() / \"vehicles\"\n",
    "export_yolo_data(dataset, export_dir, [\"tank\"], split = [\"train\", \"val\", \"test\"])"
   ]
  },
  {
   "cell_type": "code",
   "execution_count": 33,
   "id": "b6999159-b029-4cd7-97ed-68b40311cbc8",
   "metadata": {},
   "outputs": [
    {
     "name": "stdout",
     "output_type": "stream",
     "text": [
      "Downloading https://github.com/ultralytics/assets/releases/download/v8.2.0/yolov10n.pt to 'yolov10n.pt'...\n"
     ]
    },
    {
     "name": "stderr",
     "output_type": "stream",
     "text": [
      "100%|████████████████████████████████████████████████████████████████████████████████████████████████████████████| 5.58M/5.58M [00:00<00:00, 11.4MB/s]\n"
     ]
    },
    {
     "ename": "AttributeError",
     "evalue": "Can't get attribute 'YOLOv10DetectionModel' on <module 'ultralytics.nn.tasks' from '/home/jrenault/mambaforge/envs/adomvi2/lib/python3.10/site-packages/ultralytics/nn/tasks.py'>",
     "output_type": "error",
     "traceback": [
      "\u001b[0;31m---------------------------------------------------------------------------\u001b[0m",
      "\u001b[0;31mAttributeError\u001b[0m                            Traceback (most recent call last)",
      "Cell \u001b[0;32mIn[33], line 3\u001b[0m\n\u001b[1;32m      1\u001b[0m \u001b[38;5;28;01mfrom\u001b[39;00m \u001b[38;5;21;01madomvi\u001b[39;00m\u001b[38;5;21;01m.\u001b[39;00m\u001b[38;5;21;01myolo\u001b[39;00m\u001b[38;5;21;01m.\u001b[39;00m\u001b[38;5;21;01myolo\u001b[39;00m \u001b[38;5;28;01mimport\u001b[39;00m train\n\u001b[0;32m----> 3\u001b[0m \u001b[43mtrain\u001b[49m\u001b[43m(\u001b[49m\u001b[38;5;124;43m\"\u001b[39;49m\u001b[38;5;124;43myolov10n.pt\u001b[39;49m\u001b[38;5;124;43m\"\u001b[39;49m\u001b[43m,\u001b[49m\u001b[43m \u001b[49m\u001b[43mdata\u001b[49m\u001b[38;5;241;43m=\u001b[39;49m\u001b[43mexport_dir\u001b[49m\u001b[43m \u001b[49m\u001b[38;5;241;43m/\u001b[39;49m\u001b[43m \u001b[49m\u001b[38;5;124;43m\"\u001b[39;49m\u001b[38;5;124;43mdataset.yaml\u001b[39;49m\u001b[38;5;124;43m\"\u001b[39;49m\u001b[43m)\u001b[49m\n",
      "File \u001b[0;32m~/workspace/adomvi2/adomvi/yolo/yolo.py:8\u001b[0m, in \u001b[0;36mtrain\u001b[0;34m(base_model, data, epochs, imgsz, batch)\u001b[0m\n\u001b[1;32m      5\u001b[0m \u001b[38;5;28;01mdef\u001b[39;00m \u001b[38;5;21mtrain\u001b[39m(\n\u001b[1;32m      6\u001b[0m     base_model: \u001b[38;5;28mstr\u001b[39m, data: Path, epochs: \u001b[38;5;28mint\u001b[39m \u001b[38;5;241m=\u001b[39m \u001b[38;5;241m60\u001b[39m, imgsz: \u001b[38;5;28mint\u001b[39m \u001b[38;5;241m=\u001b[39m \u001b[38;5;241m640\u001b[39m, batch: \u001b[38;5;28mint\u001b[39m \u001b[38;5;241m=\u001b[39m \u001b[38;5;241m16\u001b[39m\n\u001b[1;32m      7\u001b[0m ):\n\u001b[0;32m----> 8\u001b[0m     model \u001b[38;5;241m=\u001b[39m \u001b[43mYOLO\u001b[49m\u001b[43m(\u001b[49m\u001b[43mbase_model\u001b[49m\u001b[43m)\u001b[49m  \u001b[38;5;66;03m# load a pretrained model\u001b[39;00m\n\u001b[1;32m      9\u001b[0m     model\u001b[38;5;241m.\u001b[39mtrain(data\u001b[38;5;241m=\u001b[39mdata, epochs\u001b[38;5;241m=\u001b[39mepochs, imgsz\u001b[38;5;241m=\u001b[39mimgsz, batch\u001b[38;5;241m=\u001b[39mbatch)\n",
      "File \u001b[0;32m~/mambaforge/envs/adomvi2/lib/python3.10/site-packages/ultralytics/models/yolo/model.py:23\u001b[0m, in \u001b[0;36mYOLO.__init__\u001b[0;34m(self, model, task, verbose)\u001b[0m\n\u001b[1;32m     20\u001b[0m     \u001b[38;5;28mself\u001b[39m\u001b[38;5;241m.\u001b[39m\u001b[38;5;18m__dict__\u001b[39m \u001b[38;5;241m=\u001b[39m new_instance\u001b[38;5;241m.\u001b[39m\u001b[38;5;18m__dict__\u001b[39m\n\u001b[1;32m     21\u001b[0m \u001b[38;5;28;01melse\u001b[39;00m:\n\u001b[1;32m     22\u001b[0m     \u001b[38;5;66;03m# Continue with default YOLO initialization\u001b[39;00m\n\u001b[0;32m---> 23\u001b[0m     \u001b[38;5;28;43msuper\u001b[39;49m\u001b[43m(\u001b[49m\u001b[43m)\u001b[49m\u001b[38;5;241;43m.\u001b[39;49m\u001b[38;5;21;43m__init__\u001b[39;49m\u001b[43m(\u001b[49m\u001b[43mmodel\u001b[49m\u001b[38;5;241;43m=\u001b[39;49m\u001b[43mmodel\u001b[49m\u001b[43m,\u001b[49m\u001b[43m \u001b[49m\u001b[43mtask\u001b[49m\u001b[38;5;241;43m=\u001b[39;49m\u001b[43mtask\u001b[49m\u001b[43m,\u001b[49m\u001b[43m \u001b[49m\u001b[43mverbose\u001b[49m\u001b[38;5;241;43m=\u001b[39;49m\u001b[43mverbose\u001b[49m\u001b[43m)\u001b[49m\n",
      "File \u001b[0;32m~/mambaforge/envs/adomvi2/lib/python3.10/site-packages/ultralytics/engine/model.py:152\u001b[0m, in \u001b[0;36mModel.__init__\u001b[0;34m(self, model, task, verbose)\u001b[0m\n\u001b[1;32m    150\u001b[0m     \u001b[38;5;28mself\u001b[39m\u001b[38;5;241m.\u001b[39m_new(model, task\u001b[38;5;241m=\u001b[39mtask, verbose\u001b[38;5;241m=\u001b[39mverbose)\n\u001b[1;32m    151\u001b[0m \u001b[38;5;28;01melse\u001b[39;00m:\n\u001b[0;32m--> 152\u001b[0m     \u001b[38;5;28;43mself\u001b[39;49m\u001b[38;5;241;43m.\u001b[39;49m\u001b[43m_load\u001b[49m\u001b[43m(\u001b[49m\u001b[43mmodel\u001b[49m\u001b[43m,\u001b[49m\u001b[43m \u001b[49m\u001b[43mtask\u001b[49m\u001b[38;5;241;43m=\u001b[39;49m\u001b[43mtask\u001b[49m\u001b[43m)\u001b[49m\n",
      "File \u001b[0;32m~/mambaforge/envs/adomvi2/lib/python3.10/site-packages/ultralytics/engine/model.py:241\u001b[0m, in \u001b[0;36mModel._load\u001b[0;34m(self, weights, task)\u001b[0m\n\u001b[1;32m    238\u001b[0m weights \u001b[38;5;241m=\u001b[39m checks\u001b[38;5;241m.\u001b[39mcheck_model_file_from_stem(weights)  \u001b[38;5;66;03m# add suffix, i.e. yolov8n -> yolov8n.pt\u001b[39;00m\n\u001b[1;32m    240\u001b[0m \u001b[38;5;28;01mif\u001b[39;00m Path(weights)\u001b[38;5;241m.\u001b[39msuffix \u001b[38;5;241m==\u001b[39m \u001b[38;5;124m\"\u001b[39m\u001b[38;5;124m.pt\u001b[39m\u001b[38;5;124m\"\u001b[39m:\n\u001b[0;32m--> 241\u001b[0m     \u001b[38;5;28mself\u001b[39m\u001b[38;5;241m.\u001b[39mmodel, \u001b[38;5;28mself\u001b[39m\u001b[38;5;241m.\u001b[39mckpt \u001b[38;5;241m=\u001b[39m \u001b[43mattempt_load_one_weight\u001b[49m\u001b[43m(\u001b[49m\u001b[43mweights\u001b[49m\u001b[43m)\u001b[49m\n\u001b[1;32m    242\u001b[0m     \u001b[38;5;28mself\u001b[39m\u001b[38;5;241m.\u001b[39mtask \u001b[38;5;241m=\u001b[39m \u001b[38;5;28mself\u001b[39m\u001b[38;5;241m.\u001b[39mmodel\u001b[38;5;241m.\u001b[39margs[\u001b[38;5;124m\"\u001b[39m\u001b[38;5;124mtask\u001b[39m\u001b[38;5;124m\"\u001b[39m]\n\u001b[1;32m    243\u001b[0m     \u001b[38;5;28mself\u001b[39m\u001b[38;5;241m.\u001b[39moverrides \u001b[38;5;241m=\u001b[39m \u001b[38;5;28mself\u001b[39m\u001b[38;5;241m.\u001b[39mmodel\u001b[38;5;241m.\u001b[39margs \u001b[38;5;241m=\u001b[39m \u001b[38;5;28mself\u001b[39m\u001b[38;5;241m.\u001b[39m_reset_ckpt_args(\u001b[38;5;28mself\u001b[39m\u001b[38;5;241m.\u001b[39mmodel\u001b[38;5;241m.\u001b[39margs)\n",
      "File \u001b[0;32m~/mambaforge/envs/adomvi2/lib/python3.10/site-packages/ultralytics/nn/tasks.py:806\u001b[0m, in \u001b[0;36mattempt_load_one_weight\u001b[0;34m(weight, device, inplace, fuse)\u001b[0m\n\u001b[1;32m    804\u001b[0m \u001b[38;5;28;01mdef\u001b[39;00m \u001b[38;5;21mattempt_load_one_weight\u001b[39m(weight, device\u001b[38;5;241m=\u001b[39m\u001b[38;5;28;01mNone\u001b[39;00m, inplace\u001b[38;5;241m=\u001b[39m\u001b[38;5;28;01mTrue\u001b[39;00m, fuse\u001b[38;5;241m=\u001b[39m\u001b[38;5;28;01mFalse\u001b[39;00m):\n\u001b[1;32m    805\u001b[0m \u001b[38;5;250m    \u001b[39m\u001b[38;5;124;03m\"\"\"Loads a single model weights.\"\"\"\u001b[39;00m\n\u001b[0;32m--> 806\u001b[0m     ckpt, weight \u001b[38;5;241m=\u001b[39m \u001b[43mtorch_safe_load\u001b[49m\u001b[43m(\u001b[49m\u001b[43mweight\u001b[49m\u001b[43m)\u001b[49m  \u001b[38;5;66;03m# load ckpt\u001b[39;00m\n\u001b[1;32m    807\u001b[0m     args \u001b[38;5;241m=\u001b[39m {\u001b[38;5;241m*\u001b[39m\u001b[38;5;241m*\u001b[39mDEFAULT_CFG_DICT, \u001b[38;5;241m*\u001b[39m\u001b[38;5;241m*\u001b[39m(ckpt\u001b[38;5;241m.\u001b[39mget(\u001b[38;5;124m\"\u001b[39m\u001b[38;5;124mtrain_args\u001b[39m\u001b[38;5;124m\"\u001b[39m, {}))}  \u001b[38;5;66;03m# combine model and default args, preferring model args\u001b[39;00m\n\u001b[1;32m    808\u001b[0m     model \u001b[38;5;241m=\u001b[39m (ckpt\u001b[38;5;241m.\u001b[39mget(\u001b[38;5;124m\"\u001b[39m\u001b[38;5;124mema\u001b[39m\u001b[38;5;124m\"\u001b[39m) \u001b[38;5;129;01mor\u001b[39;00m ckpt[\u001b[38;5;124m\"\u001b[39m\u001b[38;5;124mmodel\u001b[39m\u001b[38;5;124m\"\u001b[39m])\u001b[38;5;241m.\u001b[39mto(device)\u001b[38;5;241m.\u001b[39mfloat()  \u001b[38;5;66;03m# FP32 model\u001b[39;00m\n",
      "File \u001b[0;32m~/mambaforge/envs/adomvi2/lib/python3.10/site-packages/ultralytics/nn/tasks.py:732\u001b[0m, in \u001b[0;36mtorch_safe_load\u001b[0;34m(weight)\u001b[0m\n\u001b[1;32m    724\u001b[0m \u001b[38;5;28;01mtry\u001b[39;00m:\n\u001b[1;32m    725\u001b[0m     \u001b[38;5;28;01mwith\u001b[39;00m temporary_modules(\n\u001b[1;32m    726\u001b[0m         {\n\u001b[1;32m    727\u001b[0m             \u001b[38;5;124m\"\u001b[39m\u001b[38;5;124multralytics.yolo.utils\u001b[39m\u001b[38;5;124m\"\u001b[39m: \u001b[38;5;124m\"\u001b[39m\u001b[38;5;124multralytics.utils\u001b[39m\u001b[38;5;124m\"\u001b[39m,\n\u001b[0;32m   (...)\u001b[0m\n\u001b[1;32m    730\u001b[0m         }\n\u001b[1;32m    731\u001b[0m     ):  \u001b[38;5;66;03m# for legacy 8.0 Classify and Pose models\u001b[39;00m\n\u001b[0;32m--> 732\u001b[0m         ckpt \u001b[38;5;241m=\u001b[39m \u001b[43mtorch\u001b[49m\u001b[38;5;241;43m.\u001b[39;49m\u001b[43mload\u001b[49m\u001b[43m(\u001b[49m\u001b[43mfile\u001b[49m\u001b[43m,\u001b[49m\u001b[43m \u001b[49m\u001b[43mmap_location\u001b[49m\u001b[38;5;241;43m=\u001b[39;49m\u001b[38;5;124;43m\"\u001b[39;49m\u001b[38;5;124;43mcpu\u001b[39;49m\u001b[38;5;124;43m\"\u001b[39;49m\u001b[43m)\u001b[49m\n\u001b[1;32m    734\u001b[0m \u001b[38;5;28;01mexcept\u001b[39;00m \u001b[38;5;167;01mModuleNotFoundError\u001b[39;00m \u001b[38;5;28;01mas\u001b[39;00m e:  \u001b[38;5;66;03m# e.name is missing module name\u001b[39;00m\n\u001b[1;32m    735\u001b[0m     \u001b[38;5;28;01mif\u001b[39;00m e\u001b[38;5;241m.\u001b[39mname \u001b[38;5;241m==\u001b[39m \u001b[38;5;124m\"\u001b[39m\u001b[38;5;124mmodels\u001b[39m\u001b[38;5;124m\"\u001b[39m:\n",
      "File \u001b[0;32m~/mambaforge/envs/adomvi2/lib/python3.10/site-packages/torch/serialization.py:1025\u001b[0m, in \u001b[0;36mload\u001b[0;34m(f, map_location, pickle_module, weights_only, mmap, **pickle_load_args)\u001b[0m\n\u001b[1;32m   1023\u001b[0m             \u001b[38;5;28;01mexcept\u001b[39;00m \u001b[38;5;167;01mRuntimeError\u001b[39;00m \u001b[38;5;28;01mas\u001b[39;00m e:\n\u001b[1;32m   1024\u001b[0m                 \u001b[38;5;28;01mraise\u001b[39;00m pickle\u001b[38;5;241m.\u001b[39mUnpicklingError(UNSAFE_MESSAGE \u001b[38;5;241m+\u001b[39m \u001b[38;5;28mstr\u001b[39m(e)) \u001b[38;5;28;01mfrom\u001b[39;00m \u001b[38;5;28;01mNone\u001b[39;00m\n\u001b[0;32m-> 1025\u001b[0m         \u001b[38;5;28;01mreturn\u001b[39;00m \u001b[43m_load\u001b[49m\u001b[43m(\u001b[49m\u001b[43mopened_zipfile\u001b[49m\u001b[43m,\u001b[49m\n\u001b[1;32m   1026\u001b[0m \u001b[43m                     \u001b[49m\u001b[43mmap_location\u001b[49m\u001b[43m,\u001b[49m\n\u001b[1;32m   1027\u001b[0m \u001b[43m                     \u001b[49m\u001b[43mpickle_module\u001b[49m\u001b[43m,\u001b[49m\n\u001b[1;32m   1028\u001b[0m \u001b[43m                     \u001b[49m\u001b[43moverall_storage\u001b[49m\u001b[38;5;241;43m=\u001b[39;49m\u001b[43moverall_storage\u001b[49m\u001b[43m,\u001b[49m\n\u001b[1;32m   1029\u001b[0m \u001b[43m                     \u001b[49m\u001b[38;5;241;43m*\u001b[39;49m\u001b[38;5;241;43m*\u001b[39;49m\u001b[43mpickle_load_args\u001b[49m\u001b[43m)\u001b[49m\n\u001b[1;32m   1030\u001b[0m \u001b[38;5;28;01mif\u001b[39;00m mmap:\n\u001b[1;32m   1031\u001b[0m     f_name \u001b[38;5;241m=\u001b[39m \u001b[38;5;124m\"\u001b[39m\u001b[38;5;124m\"\u001b[39m \u001b[38;5;28;01mif\u001b[39;00m \u001b[38;5;129;01mnot\u001b[39;00m \u001b[38;5;28misinstance\u001b[39m(f, \u001b[38;5;28mstr\u001b[39m) \u001b[38;5;28;01melse\u001b[39;00m \u001b[38;5;124mf\u001b[39m\u001b[38;5;124m\"\u001b[39m\u001b[38;5;132;01m{\u001b[39;00mf\u001b[38;5;132;01m}\u001b[39;00m\u001b[38;5;124m, \u001b[39m\u001b[38;5;124m\"\u001b[39m\n",
      "File \u001b[0;32m~/mambaforge/envs/adomvi2/lib/python3.10/site-packages/torch/serialization.py:1446\u001b[0m, in \u001b[0;36m_load\u001b[0;34m(zip_file, map_location, pickle_module, pickle_file, overall_storage, **pickle_load_args)\u001b[0m\n\u001b[1;32m   1444\u001b[0m unpickler \u001b[38;5;241m=\u001b[39m UnpicklerWrapper(data_file, \u001b[38;5;241m*\u001b[39m\u001b[38;5;241m*\u001b[39mpickle_load_args)\n\u001b[1;32m   1445\u001b[0m unpickler\u001b[38;5;241m.\u001b[39mpersistent_load \u001b[38;5;241m=\u001b[39m persistent_load\n\u001b[0;32m-> 1446\u001b[0m result \u001b[38;5;241m=\u001b[39m \u001b[43munpickler\u001b[49m\u001b[38;5;241;43m.\u001b[39;49m\u001b[43mload\u001b[49m\u001b[43m(\u001b[49m\u001b[43m)\u001b[49m\n\u001b[1;32m   1448\u001b[0m torch\u001b[38;5;241m.\u001b[39m_utils\u001b[38;5;241m.\u001b[39m_validate_loaded_sparse_tensors()\n\u001b[1;32m   1449\u001b[0m torch\u001b[38;5;241m.\u001b[39m_C\u001b[38;5;241m.\u001b[39m_log_api_usage_metadata(\n\u001b[1;32m   1450\u001b[0m     \u001b[38;5;124m\"\u001b[39m\u001b[38;5;124mtorch.load.metadata\u001b[39m\u001b[38;5;124m\"\u001b[39m, {\u001b[38;5;124m\"\u001b[39m\u001b[38;5;124mserialization_id\u001b[39m\u001b[38;5;124m\"\u001b[39m: zip_file\u001b[38;5;241m.\u001b[39mserialization_id()}\n\u001b[1;32m   1451\u001b[0m )\n",
      "File \u001b[0;32m~/mambaforge/envs/adomvi2/lib/python3.10/site-packages/torch/serialization.py:1439\u001b[0m, in \u001b[0;36m_load.<locals>.UnpicklerWrapper.find_class\u001b[0;34m(self, mod_name, name)\u001b[0m\n\u001b[1;32m   1437\u001b[0m         \u001b[38;5;28;01mpass\u001b[39;00m\n\u001b[1;32m   1438\u001b[0m mod_name \u001b[38;5;241m=\u001b[39m load_module_mapping\u001b[38;5;241m.\u001b[39mget(mod_name, mod_name)\n\u001b[0;32m-> 1439\u001b[0m \u001b[38;5;28;01mreturn\u001b[39;00m \u001b[38;5;28;43msuper\u001b[39;49m\u001b[43m(\u001b[49m\u001b[43m)\u001b[49m\u001b[38;5;241;43m.\u001b[39;49m\u001b[43mfind_class\u001b[49m\u001b[43m(\u001b[49m\u001b[43mmod_name\u001b[49m\u001b[43m,\u001b[49m\u001b[43m \u001b[49m\u001b[43mname\u001b[49m\u001b[43m)\u001b[49m\n",
      "\u001b[0;31mAttributeError\u001b[0m: Can't get attribute 'YOLOv10DetectionModel' on <module 'ultralytics.nn.tasks' from '/home/jrenault/mambaforge/envs/adomvi2/lib/python3.10/site-packages/ultralytics/nn/tasks.py'>"
     ]
    }
   ],
   "source": [
    "from adomvi.yolo.yolo import train\n",
    "\n",
    "train(\"yolov10n.pt\", data=export_dir / \"dataset.yaml\")"
   ]
  },
  {
   "cell_type": "code",
   "execution_count": 23,
   "id": "712aefbd-757a-4184-8de6-4203a517f794",
   "metadata": {},
   "outputs": [
    {
     "name": "stdout",
     "output_type": "stream",
     "text": [
      "\n",
      "image 1/162 /home/jrenault/workspace/adomvi2/notebooks/vehicles/images/test/005e6167916abbf0.jpg: 544x640 1 tank, 4.5ms\n",
      "image 2/162 /home/jrenault/workspace/adomvi2/notebooks/vehicles/images/test/007377a82dc87b7f.jpg: 448x640 2 tanks, 4.5ms\n",
      "image 3/162 /home/jrenault/workspace/adomvi2/notebooks/vehicles/images/test/00741fb6fb4c7209.jpg: 512x640 2 tanks, 4.5ms\n",
      "image 4/162 /home/jrenault/workspace/adomvi2/notebooks/vehicles/images/test/00c5be8db0e25f5e.jpg: 448x640 1 tank, 4.4ms\n",
      "image 5/162 /home/jrenault/workspace/adomvi2/notebooks/vehicles/images/test/014df43a4a199fe0.jpg: 480x640 15 tanks, 5.2ms\n",
      "image 6/162 /home/jrenault/workspace/adomvi2/notebooks/vehicles/images/test/01d793b58ee81477.jpg: 480x640 6 tanks, 4.1ms\n",
      "image 7/162 /home/jrenault/workspace/adomvi2/notebooks/vehicles/images/test/02a2b9d0a27104cb.jpg: 480x640 1 tank, 4.0ms\n",
      "image 8/162 /home/jrenault/workspace/adomvi2/notebooks/vehicles/images/test/0410130b4a7e92bb.jpg: 480x640 1 tank, 4.1ms\n",
      "image 9/162 /home/jrenault/workspace/adomvi2/notebooks/vehicles/images/test/043453c2a16232a4.jpg: 448x640 1 tank, 4.5ms\n",
      "image 10/162 /home/jrenault/workspace/adomvi2/notebooks/vehicles/images/test/0531ad5af5ad23a1.jpg: 448x640 2 tanks, 4.1ms\n",
      "image 11/162 /home/jrenault/workspace/adomvi2/notebooks/vehicles/images/test/079050186a1b03a8.jpg: 384x640 1 tank, 4.8ms\n",
      "image 12/162 /home/jrenault/workspace/adomvi2/notebooks/vehicles/images/test/07b883e6c0a9a4cd.jpg: 480x640 1 tank, 4.5ms\n",
      "image 13/162 /home/jrenault/workspace/adomvi2/notebooks/vehicles/images/test/07f7af4c8fec94da.jpg: 480x640 4 tanks, 4.0ms\n",
      "image 14/162 /home/jrenault/workspace/adomvi2/notebooks/vehicles/images/test/09d3f318e01f8956.jpg: 384x640 1 tank, 4.5ms\n",
      "image 15/162 /home/jrenault/workspace/adomvi2/notebooks/vehicles/images/test/0a342c215d3fc793.jpg: 480x640 3 tanks, 4.4ms\n",
      "image 16/162 /home/jrenault/workspace/adomvi2/notebooks/vehicles/images/test/0b34f3dc93b9e430.jpg: 480x640 1 tank, 4.1ms\n",
      "image 17/162 /home/jrenault/workspace/adomvi2/notebooks/vehicles/images/test/0ba4990e6918e146.jpg: 448x640 1 tank, 4.5ms\n",
      "image 18/162 /home/jrenault/workspace/adomvi2/notebooks/vehicles/images/test/0c3d30a9e8c1143b.jpg: 512x640 1 tank, 4.5ms\n",
      "image 19/162 /home/jrenault/workspace/adomvi2/notebooks/vehicles/images/test/0e401e83613e0aa2.jpg: 448x640 1 tank, 4.5ms\n",
      "image 20/162 /home/jrenault/workspace/adomvi2/notebooks/vehicles/images/test/0fb6b6580be5b2c7.jpg: 480x640 2 tanks, 4.5ms\n",
      "image 21/162 /home/jrenault/workspace/adomvi2/notebooks/vehicles/images/test/1019e980b1a28ae1.jpg: 448x640 1 tank, 4.4ms\n",
      "image 22/162 /home/jrenault/workspace/adomvi2/notebooks/vehicles/images/test/1090d7962fabe936.jpg: 480x640 1 tank, 4.5ms\n",
      "image 23/162 /home/jrenault/workspace/adomvi2/notebooks/vehicles/images/test/15f6bb4282e848fe.jpg: 448x640 2 tanks, 4.5ms\n",
      "image 24/162 /home/jrenault/workspace/adomvi2/notebooks/vehicles/images/test/16f56c4e4a7da4f3.jpg: 448x640 1 tank, 4.1ms\n",
      "image 25/162 /home/jrenault/workspace/adomvi2/notebooks/vehicles/images/test/183f600e458397cc.jpg: 448x640 1 tank, 5.4ms\n",
      "image 26/162 /home/jrenault/workspace/adomvi2/notebooks/vehicles/images/test/1875f20a69fd922c.jpg: 448x640 1 tank, 4.2ms\n",
      "image 27/162 /home/jrenault/workspace/adomvi2/notebooks/vehicles/images/test/187cff1175259b10.jpg: 480x640 1 tank, 7.6ms\n",
      "image 28/162 /home/jrenault/workspace/adomvi2/notebooks/vehicles/images/test/1bee8d794f370590.jpg: 352x640 1 tank, 4.7ms\n",
      "image 29/162 /home/jrenault/workspace/adomvi2/notebooks/vehicles/images/test/1e2128c01814c72a.jpg: 448x640 3 tanks, 4.4ms\n",
      "image 30/162 /home/jrenault/workspace/adomvi2/notebooks/vehicles/images/test/1f93eb9aceeaf52e.jpg: 448x640 1 tank, 4.1ms\n",
      "image 31/162 /home/jrenault/workspace/adomvi2/notebooks/vehicles/images/test/22902f98b24b705c.jpg: 448x640 1 tank, 4.0ms\n",
      "image 32/162 /home/jrenault/workspace/adomvi2/notebooks/vehicles/images/test/26ee1b173a781f9b.jpg: 448x640 1 tank, 4.0ms\n",
      "image 33/162 /home/jrenault/workspace/adomvi2/notebooks/vehicles/images/test/284f4a75fd93e1c0.jpg: 352x640 1 tank, 4.6ms\n",
      "image 34/162 /home/jrenault/workspace/adomvi2/notebooks/vehicles/images/test/2c0c4f4ae903fbdb.jpg: 448x640 1 tank, 4.5ms\n",
      "image 35/162 /home/jrenault/workspace/adomvi2/notebooks/vehicles/images/test/3719dd8cd71720ed.jpg: 512x640 1 tank, 4.6ms\n",
      "image 36/162 /home/jrenault/workspace/adomvi2/notebooks/vehicles/images/test/3d39153c288ec333.jpg: 480x640 1 tank, 4.5ms\n",
      "image 37/162 /home/jrenault/workspace/adomvi2/notebooks/vehicles/images/test/3f2dc47d3aa41dd5.jpg: 384x640 1 tank, 8.1ms\n",
      "image 38/162 /home/jrenault/workspace/adomvi2/notebooks/vehicles/images/test/3f7bcbfa10243e7f.jpg: 448x640 1 tank, 4.7ms\n",
      "image 39/162 /home/jrenault/workspace/adomvi2/notebooks/vehicles/images/test/42cfb4f23fc22be8.jpg: 480x640 1 tank, 4.6ms\n",
      "image 40/162 /home/jrenault/workspace/adomvi2/notebooks/vehicles/images/test/43ff103e766c7f08.jpg: 480x640 1 tank, 4.2ms\n",
      "image 41/162 /home/jrenault/workspace/adomvi2/notebooks/vehicles/images/test/46467af436074fe5.jpg: 480x640 1 tank, 4.1ms\n",
      "image 42/162 /home/jrenault/workspace/adomvi2/notebooks/vehicles/images/test/46d0a576ba6ed593.jpg: 480x640 1 tank, 4.1ms\n",
      "image 43/162 /home/jrenault/workspace/adomvi2/notebooks/vehicles/images/test/4c59288be311ebeb.jpg: 512x640 3 tanks, 4.6ms\n",
      "image 44/162 /home/jrenault/workspace/adomvi2/notebooks/vehicles/images/test/4c6ac2e6adf66d1c.jpg: 640x640 3 tanks, 4.6ms\n",
      "image 45/162 /home/jrenault/workspace/adomvi2/notebooks/vehicles/images/test/4e363080cec3a122.jpg: 448x640 1 tank, 4.5ms\n",
      "image 46/162 /home/jrenault/workspace/adomvi2/notebooks/vehicles/images/test/505637dc93bbaef1.jpg: 448x640 1 tank, 4.1ms\n",
      "image 47/162 /home/jrenault/workspace/adomvi2/notebooks/vehicles/images/test/513786877cb15154.jpg: 640x480 1 tank, 4.6ms\n",
      "image 48/162 /home/jrenault/workspace/adomvi2/notebooks/vehicles/images/test/55138a9032e7c7d7.jpg: 480x640 1 tank, 4.5ms\n",
      "image 49/162 /home/jrenault/workspace/adomvi2/notebooks/vehicles/images/test/55265cc839e0c3fd.jpg: 480x640 1 tank, 5.1ms\n",
      "image 50/162 /home/jrenault/workspace/adomvi2/notebooks/vehicles/images/test/567031e1d7be3a7c.jpg: 448x640 1 tank, 4.5ms\n",
      "image 51/162 /home/jrenault/workspace/adomvi2/notebooks/vehicles/images/test/59b0a9247648f917.jpg: 480x640 1 tank, 4.5ms\n",
      "image 52/162 /home/jrenault/workspace/adomvi2/notebooks/vehicles/images/test/59c76b45d11a4b62.jpg: 352x640 3 tanks, 4.5ms\n",
      "image 53/162 /home/jrenault/workspace/adomvi2/notebooks/vehicles/images/test/5a37d49e398b3896.jpg: 448x640 1 tank, 4.5ms\n",
      "image 54/162 /home/jrenault/workspace/adomvi2/notebooks/vehicles/images/test/63c3b017674d1d8c.jpg: 448x640 1 tank, 4.1ms\n",
      "image 55/162 /home/jrenault/workspace/adomvi2/notebooks/vehicles/images/test/63c6768cc76b45f2.jpg: 384x640 2 tanks, 8.6ms\n",
      "image 56/162 /home/jrenault/workspace/adomvi2/notebooks/vehicles/images/test/641a47c2881561c7.jpg: 480x640 1 tank, 5.1ms\n",
      "image 57/162 /home/jrenault/workspace/adomvi2/notebooks/vehicles/images/test/67d3782cb0645975.jpg: 640x480 1 tank, 6.6ms\n",
      "image 58/162 /home/jrenault/workspace/adomvi2/notebooks/vehicles/images/test/685fb9aac7677298.jpg: 448x640 1 tank, 4.5ms\n",
      "image 59/162 /home/jrenault/workspace/adomvi2/notebooks/vehicles/images/test/6ea24c394ade99cb.jpg: 448x640 3 tanks, 6.1ms\n",
      "image 60/162 /home/jrenault/workspace/adomvi2/notebooks/vehicles/images/test/73e78593584462e5.jpg: 480x640 2 tanks, 7.6ms\n",
      "image 61/162 /home/jrenault/workspace/adomvi2/notebooks/vehicles/images/test/76f4ea9994993053.jpg: 480x640 1 tank, 8.1ms\n",
      "image 62/162 /home/jrenault/workspace/adomvi2/notebooks/vehicles/images/test/772295ac25d8da1d.jpg: 448x640 5 tanks, 5.9ms\n",
      "image 63/162 /home/jrenault/workspace/adomvi2/notebooks/vehicles/images/test/7d80f9a261daa9d8.jpg: 416x640 1 tank, 6.3ms\n",
      "image 64/162 /home/jrenault/workspace/adomvi2/notebooks/vehicles/images/test/7e0f5b3b3c8e2a1f.jpg: 480x640 1 tank, 4.6ms\n",
      "image 65/162 /home/jrenault/workspace/adomvi2/notebooks/vehicles/images/test/856337f9c57f67e3.jpg: 480x640 3 tanks, 4.1ms\n",
      "image 66/162 /home/jrenault/workspace/adomvi2/notebooks/vehicles/images/test/85bde0995b5f0299.jpg: 448x640 1 tank, 4.4ms\n",
      "image 67/162 /home/jrenault/workspace/adomvi2/notebooks/vehicles/images/test/8a0bec590e606399.jpg: 448x640 1 tank, 4.0ms\n",
      "image 68/162 /home/jrenault/workspace/adomvi2/notebooks/vehicles/images/test/8a9dc797707de1ca.jpg: 640x512 (no detections), 4.5ms\n",
      "image 69/162 /home/jrenault/workspace/adomvi2/notebooks/vehicles/images/test/8c9cd3cd6287439a.jpg: 448x640 1 tank, 4.7ms\n",
      "image 70/162 /home/jrenault/workspace/adomvi2/notebooks/vehicles/images/test/8ee11438141866b7.jpg: 448x640 2 tanks, 4.0ms\n",
      "image 71/162 /home/jrenault/workspace/adomvi2/notebooks/vehicles/images/test/92a4636421c63a32.jpg: 480x640 1 tank, 4.5ms\n",
      "image 72/162 /home/jrenault/workspace/adomvi2/notebooks/vehicles/images/test/9711b402a52f8f22.jpg: 448x640 1 tank, 4.8ms\n",
      "image 73/162 /home/jrenault/workspace/adomvi2/notebooks/vehicles/images/test/9b588a7464333ee3.jpg: 640x512 1 tank, 4.5ms\n",
      "image 74/162 /home/jrenault/workspace/adomvi2/notebooks/vehicles/images/test/9d9089cadb1a2d2e.jpg: 480x640 1 tank, 4.5ms\n",
      "image 75/162 /home/jrenault/workspace/adomvi2/notebooks/vehicles/images/test/a01c74e0504e13ca.jpg: 480x640 1 tank, 4.1ms\n",
      "image 76/162 /home/jrenault/workspace/adomvi2/notebooks/vehicles/images/test/a1ba411814c4cb06.jpg: 448x640 1 tank, 4.4ms\n",
      "image 77/162 /home/jrenault/workspace/adomvi2/notebooks/vehicles/images/test/a349b6d3a836c47e.jpg: 448x640 3 tanks, 4.0ms\n",
      "image 78/162 /home/jrenault/workspace/adomvi2/notebooks/vehicles/images/test/a3fba091de814cd2.jpg: 288x640 2 tanks, 7.4ms\n",
      "image 79/162 /home/jrenault/workspace/adomvi2/notebooks/vehicles/images/test/a52cf1901e32b190.jpg: 480x640 1 tank, 4.6ms\n",
      "image 80/162 /home/jrenault/workspace/adomvi2/notebooks/vehicles/images/test/a6600fae268cc186.jpg: 480x640 1 tank, 4.1ms\n",
      "image 81/162 /home/jrenault/workspace/adomvi2/notebooks/vehicles/images/test/ab2c9290885a72f4.jpg: 416x640 6 tanks, 4.5ms\n",
      "image 82/162 /home/jrenault/workspace/adomvi2/notebooks/vehicles/images/test/b26215d8b9bf47b1.jpg: 480x640 1 tank, 4.5ms\n",
      "image 83/162 /home/jrenault/workspace/adomvi2/notebooks/vehicles/images/test/b2dae9a16446840b.jpg: 448x640 2 tanks, 6.2ms\n",
      "image 84/162 /home/jrenault/workspace/adomvi2/notebooks/vehicles/images/test/b50cfc114771bade.jpg: 448x640 1 tank, 4.1ms\n",
      "image 85/162 /home/jrenault/workspace/adomvi2/notebooks/vehicles/images/test/b5954340b7665c26.jpg: 448x640 2 tanks, 4.1ms\n",
      "image 86/162 /home/jrenault/workspace/adomvi2/notebooks/vehicles/images/test/b85d846dbc861d1c.jpg: 448x640 2 tanks, 4.1ms\n",
      "image 87/162 /home/jrenault/workspace/adomvi2/notebooks/vehicles/images/test/b8e5de172cd1a4e4.jpg: 512x640 (no detections), 4.5ms\n",
      "image 88/162 /home/jrenault/workspace/adomvi2/notebooks/vehicles/images/test/b94450049148a2ba.jpg: 448x640 1 tank, 8.9ms\n",
      "image 89/162 /home/jrenault/workspace/adomvi2/notebooks/vehicles/images/test/ba1746f2ff9df158.jpg: 448x640 1 tank, 4.3ms\n",
      "image 90/162 /home/jrenault/workspace/adomvi2/notebooks/vehicles/images/test/c1cec47e1abdc989.jpg: 480x640 1 tank, 4.4ms\n",
      "image 91/162 /home/jrenault/workspace/adomvi2/notebooks/vehicles/images/test/c5d0d1d6790fc196.jpg: 448x640 (no detections), 11.5ms\n",
      "image 92/162 /home/jrenault/workspace/adomvi2/notebooks/vehicles/images/test/ca801f950aa76fca.jpg: 640x448 (no detections), 6.4ms\n",
      "image 93/162 /home/jrenault/workspace/adomvi2/notebooks/vehicles/images/test/cda78f584cae6394.jpg: 448x640 2 tanks, 4.5ms\n",
      "image 94/162 /home/jrenault/workspace/adomvi2/notebooks/vehicles/images/test/cea850277d59e90e.jpg: 448x640 1 tank, 4.2ms\n",
      "image 95/162 /home/jrenault/workspace/adomvi2/notebooks/vehicles/images/test/cec5e722a2bb9a3d.jpg: 448x640 2 tanks, 4.1ms\n",
      "image 96/162 /home/jrenault/workspace/adomvi2/notebooks/vehicles/images/test/cf7cf4fd6add0dc8.jpg: 448x640 1 tank, 4.2ms\n",
      "image 97/162 /home/jrenault/workspace/adomvi2/notebooks/vehicles/images/test/dc6e8ce4c73b58d6.jpg: 512x640 1 tank, 6.7ms\n",
      "image 98/162 /home/jrenault/workspace/adomvi2/notebooks/vehicles/images/test/dd217ebd2e6c9a90.jpg: 448x640 1 tank, 4.5ms\n",
      "image 99/162 /home/jrenault/workspace/adomvi2/notebooks/vehicles/images/test/deb8e7de0cb6f77d.jpg: 448x640 1 tank, 4.0ms\n",
      "image 100/162 /home/jrenault/workspace/adomvi2/notebooks/vehicles/images/test/df0a06478f1021ad.jpg: 448x640 1 tank, 4.1ms\n",
      "image 101/162 /home/jrenault/workspace/adomvi2/notebooks/vehicles/images/test/df7f3b22c3a495dc.jpg: 448x640 1 tank, 4.4ms\n",
      "image 102/162 /home/jrenault/workspace/adomvi2/notebooks/vehicles/images/test/e22363d7a7086ac9.jpg: 480x640 1 tank, 4.6ms\n",
      "image 103/162 /home/jrenault/workspace/adomvi2/notebooks/vehicles/images/test/e33595ae296ceec7.jpg: 384x640 2 tanks, 4.6ms\n",
      "image 104/162 /home/jrenault/workspace/adomvi2/notebooks/vehicles/images/test/e8030fabe7ba159c.jpg: 480x640 1 tank, 4.5ms\n",
      "image 105/162 /home/jrenault/workspace/adomvi2/notebooks/vehicles/images/test/e846ddd0c8ba9136.jpg: 448x640 1 tank, 4.6ms\n",
      "image 106/162 /home/jrenault/workspace/adomvi2/notebooks/vehicles/images/test/e94a6c568de09abc.jpg: 352x640 2 tanks, 4.5ms\n",
      "image 107/162 /home/jrenault/workspace/adomvi2/notebooks/vehicles/images/test/e94bfc19d23c7e2f.jpg: 480x640 2 tanks, 4.5ms\n",
      "image 108/162 /home/jrenault/workspace/adomvi2/notebooks/vehicles/images/test/e9a7b000d3c55acf.jpg: 416x640 1 tank, 9.2ms\n",
      "image 109/162 /home/jrenault/workspace/adomvi2/notebooks/vehicles/images/test/ee5b770fb5eb0a19.jpg: 448x640 2 tanks, 4.6ms\n",
      "image 110/162 /home/jrenault/workspace/adomvi2/notebooks/vehicles/images/test/eec09e6d9cc607f7.jpg: 448x640 1 tank, 5.3ms\n",
      "image 111/162 /home/jrenault/workspace/adomvi2/notebooks/vehicles/images/test/f233682862b8454a.jpg: 448x640 1 tank, 4.0ms\n",
      "image 112/162 /home/jrenault/workspace/adomvi2/notebooks/vehicles/images/test/f76106f367fe6324.jpg: 448x640 2 tanks, 4.0ms\n",
      "image 113/162 /home/jrenault/workspace/adomvi2/notebooks/vehicles/images/test/f7a886f365520180.jpg: 448x640 2 tanks, 4.1ms\n",
      "image 114/162 /home/jrenault/workspace/adomvi2/notebooks/vehicles/images/test/f9c409e2336b80af.jpg: 448x640 1 tank, 4.0ms\n",
      "image 115/162 /home/jrenault/workspace/adomvi2/notebooks/vehicles/images/test/fa28493645834786.jpg: 448x640 1 tank, 4.0ms\n",
      "image 116/162 /home/jrenault/workspace/adomvi2/notebooks/vehicles/images/test/n04389033_10271.JPEG: 448x640 1 tank, 4.0ms\n",
      "image 117/162 /home/jrenault/workspace/adomvi2/notebooks/vehicles/images/test/n04389033_10579.JPEG: 640x640 1 tank, 4.5ms\n",
      "image 118/162 /home/jrenault/workspace/adomvi2/notebooks/vehicles/images/test/n04389033_10796.JPEG: 448x640 1 tank, 4.4ms\n",
      "image 119/162 /home/jrenault/workspace/adomvi2/notebooks/vehicles/images/test/n04389033_11005.JPEG: 640x448 1 tank, 4.4ms\n",
      "image 120/162 /home/jrenault/workspace/adomvi2/notebooks/vehicles/images/test/n04389033_1298.JPEG: 480x640 1 tank, 4.4ms\n",
      "image 121/162 /home/jrenault/workspace/adomvi2/notebooks/vehicles/images/test/n04389033_13449.JPEG: 448x640 1 tank, 4.3ms\n",
      "image 122/162 /home/jrenault/workspace/adomvi2/notebooks/vehicles/images/test/n04389033_13527.JPEG: 480x640 1 tank, 4.4ms\n",
      "image 123/162 /home/jrenault/workspace/adomvi2/notebooks/vehicles/images/test/n04389033_14675.JPEG: 512x640 1 tank, 4.4ms\n",
      "image 124/162 /home/jrenault/workspace/adomvi2/notebooks/vehicles/images/test/n04389033_14782.JPEG: 448x640 1 tank, 4.4ms\n",
      "image 125/162 /home/jrenault/workspace/adomvi2/notebooks/vehicles/images/test/n04389033_14789.JPEG: 480x640 1 tank, 4.5ms\n",
      "image 126/162 /home/jrenault/workspace/adomvi2/notebooks/vehicles/images/test/n04389033_14989.JPEG: 448x640 1 tank, 4.3ms\n",
      "image 127/162 /home/jrenault/workspace/adomvi2/notebooks/vehicles/images/test/n04389033_15233.JPEG: 480x640 1 tank, 9.8ms\n",
      "image 128/162 /home/jrenault/workspace/adomvi2/notebooks/vehicles/images/test/n04389033_1631.JPEG: 480x640 3 tanks, 11.1ms\n",
      "image 129/162 /home/jrenault/workspace/adomvi2/notebooks/vehicles/images/test/n04389033_16588.JPEG: 480x640 1 tank, 6.6ms\n",
      "image 130/162 /home/jrenault/workspace/adomvi2/notebooks/vehicles/images/test/n04389033_16677.JPEG: 448x640 2 tanks, 5.0ms\n",
      "image 131/162 /home/jrenault/workspace/adomvi2/notebooks/vehicles/images/test/n04389033_16723.JPEG: 448x640 1 tank, 4.1ms\n",
      "image 132/162 /home/jrenault/workspace/adomvi2/notebooks/vehicles/images/test/n04389033_17032.JPEG: 480x640 1 tank, 4.5ms\n",
      "image 133/162 /home/jrenault/workspace/adomvi2/notebooks/vehicles/images/test/n04389033_18107.JPEG: 480x640 2 tanks, 4.1ms\n",
      "image 134/162 /home/jrenault/workspace/adomvi2/notebooks/vehicles/images/test/n04389033_19304.JPEG: 576x640 2 tanks, 6.7ms\n",
      "image 135/162 /home/jrenault/workspace/adomvi2/notebooks/vehicles/images/test/n04389033_19450.JPEG: 480x640 2 tanks, 4.7ms\n",
      "image 136/162 /home/jrenault/workspace/adomvi2/notebooks/vehicles/images/test/n04389033_19466.JPEG: 480x640 1 tank, 4.1ms\n",
      "image 137/162 /home/jrenault/workspace/adomvi2/notebooks/vehicles/images/test/n04389033_19585.JPEG: 448x640 1 tank, 4.5ms\n",
      "image 138/162 /home/jrenault/workspace/adomvi2/notebooks/vehicles/images/test/n04389033_20412.JPEG: 448x640 1 tank, 4.0ms\n",
      "image 139/162 /home/jrenault/workspace/adomvi2/notebooks/vehicles/images/test/n04389033_20628.JPEG: 544x640 1 tank, 4.6ms\n",
      "image 140/162 /home/jrenault/workspace/adomvi2/notebooks/vehicles/images/test/n04389033_21384.JPEG: 448x640 1 tank, 10.1ms\n",
      "image 141/162 /home/jrenault/workspace/adomvi2/notebooks/vehicles/images/test/n04389033_2433.JPEG: 512x640 1 tank, 6.4ms\n",
      "image 142/162 /home/jrenault/workspace/adomvi2/notebooks/vehicles/images/test/n04389033_24974.JPEG: 480x640 5 tanks, 4.9ms\n",
      "image 143/162 /home/jrenault/workspace/adomvi2/notebooks/vehicles/images/test/n04389033_25625.JPEG: 480x640 1 tank, 4.1ms\n",
      "image 144/162 /home/jrenault/workspace/adomvi2/notebooks/vehicles/images/test/n04389033_25719.JPEG: 448x640 1 tank, 4.4ms\n",
      "image 145/162 /home/jrenault/workspace/adomvi2/notebooks/vehicles/images/test/n04389033_26434.JPEG: 512x640 1 tank, 5.6ms\n",
      "image 146/162 /home/jrenault/workspace/adomvi2/notebooks/vehicles/images/test/n04389033_28995.JPEG: 480x640 1 tank, 4.4ms\n",
      "image 147/162 /home/jrenault/workspace/adomvi2/notebooks/vehicles/images/test/n04389033_29887.JPEG: 416x640 1 tank, 4.4ms\n",
      "image 148/162 /home/jrenault/workspace/adomvi2/notebooks/vehicles/images/test/n04389033_32274.JPEG: 480x640 1 tank, 4.4ms\n",
      "image 149/162 /home/jrenault/workspace/adomvi2/notebooks/vehicles/images/test/n04389033_32316.JPEG: 480x640 2 tanks, 4.1ms\n",
      "image 150/162 /home/jrenault/workspace/adomvi2/notebooks/vehicles/images/test/n04389033_32434.JPEG: 416x640 1 tank, 4.4ms\n",
      "image 151/162 /home/jrenault/workspace/adomvi2/notebooks/vehicles/images/test/n04389033_33580.JPEG: 448x640 1 tank, 4.5ms\n",
      "image 152/162 /home/jrenault/workspace/adomvi2/notebooks/vehicles/images/test/n04389033_3687.JPEG: 544x640 1 tank, 12.7ms\n",
      "image 153/162 /home/jrenault/workspace/adomvi2/notebooks/vehicles/images/test/n04389033_4366.JPEG: 480x640 1 tank, 6.6ms\n",
      "image 154/162 /home/jrenault/workspace/adomvi2/notebooks/vehicles/images/test/n04389033_5457.JPEG: 448x640 1 tank, 4.5ms\n",
      "image 155/162 /home/jrenault/workspace/adomvi2/notebooks/vehicles/images/test/n04389033_5515.JPEG: 480x640 2 tanks, 4.5ms\n",
      "image 156/162 /home/jrenault/workspace/adomvi2/notebooks/vehicles/images/test/n04389033_5576.JPEG: 480x640 4 tanks, 4.1ms\n",
      "image 157/162 /home/jrenault/workspace/adomvi2/notebooks/vehicles/images/test/n04389033_7113.JPEG: 480x640 1 tank, 4.1ms\n",
      "image 158/162 /home/jrenault/workspace/adomvi2/notebooks/vehicles/images/test/n04389033_7761.JPEG: 448x640 1 tank, 4.4ms\n",
      "image 159/162 /home/jrenault/workspace/adomvi2/notebooks/vehicles/images/test/n04389033_8272.JPEG: 512x640 1 tank, 4.5ms\n",
      "image 160/162 /home/jrenault/workspace/adomvi2/notebooks/vehicles/images/test/n04389033_8653.JPEG: 480x640 (no detections), 4.4ms\n",
      "image 161/162 /home/jrenault/workspace/adomvi2/notebooks/vehicles/images/test/n04389033_8821.JPEG: 448x640 (no detections), 4.5ms\n",
      "image 162/162 /home/jrenault/workspace/adomvi2/notebooks/vehicles/images/test/n04389033_9345.JPEG: 480x640 1 tank, 4.4ms\n",
      "Speed: 1.6ms preprocess, 4.9ms inference, 0.8ms postprocess per image at shape (1, 3, 480, 640)\n"
     ]
    }
   ],
   "source": [
    "from pathlib import Path\n",
    "from adomvi.yolo.yolo import predict\n",
    "\n",
    "best_model = Path() / \"runs/detect/train/weights/best.pt\"\n",
    "results = predict(best_model, source=export_dir / \"images/test\")"
   ]
  },
  {
   "cell_type": "code",
   "execution_count": 31,
   "id": "d2185070-149c-4453-b020-5c84d009f44a",
   "metadata": {},
   "outputs": [],
   "source": [
    "results[0].save_txt(Path(results[0].path).with_suffix('.txt'))"
   ]
  },
  {
   "cell_type": "code",
   "execution_count": null,
   "id": "d054ea5b-b958-4b37-8f36-2377d8eeaa25",
   "metadata": {},
   "outputs": [],
   "source": []
  }
 ],
 "metadata": {
  "kernelspec": {
   "display_name": "Python 3 (ipykernel)",
   "language": "python",
   "name": "python3"
  },
  "language_info": {
   "codemirror_mode": {
    "name": "ipython",
    "version": 3
   },
   "file_extension": ".py",
   "mimetype": "text/x-python",
   "name": "python",
   "nbconvert_exporter": "python",
   "pygments_lexer": "ipython3",
   "version": "3.10.14"
  }
 },
 "nbformat": 4,
 "nbformat_minor": 5
}
