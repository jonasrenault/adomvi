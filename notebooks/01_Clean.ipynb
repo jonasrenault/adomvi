{
 "cells": [
  {
   "cell_type": "markdown",
   "id": "b16172d3-4aaf-4b8d-b9e1-b67f8322e01d",
   "metadata": {},
   "source": [
    "# Tank detection YoloV8 model train\n",
    "\n",
    "This notebook will train a [Yolov8](https://github.com/ultralytics/ultralytics) model for tank detection using publicly available annotated images of tanks.\n",
    "\n",
    "As the notebook will run the training with `PyTorch`, it is recommended to have GPUs available. If running in Google Colab, go to Edit > Notebook settings and select GPU hardware acceleration.\n",
    "\n",
    "The first step of the notebook will use [fiftyone](https://github.com/voxel51/fiftyone), to build a dataset of tank images and bounding box annotations for training the computer vision model. The tutorial notebook on [Fine-tuning YOLOv8 models for custom use cases](https://github.com/voxel51/fiftyone/blob/v0.21.0/docs/source/tutorials/yolov8.ipynb) is a usefull introduction on how to use `fiftyone`."
   ]
  },
  {
   "cell_type": "markdown",
   "id": "d3d75f09-636f-4786-9d60-4a672c41c055",
   "metadata": {},
   "source": [
    "## Setup"
   ]
  },
  {
   "cell_type": "code",
   "execution_count": 1,
   "id": "b49a9fd6-7e7e-4f53-b0b0-63b76935b5fc",
   "metadata": {},
   "outputs": [],
   "source": [
    "%load_ext autoreload\n",
    "%autoreload 2"
   ]
  },
  {
   "cell_type": "markdown",
   "id": "e78070ae-5cde-47ef-a394-4cbd74ad3cf7",
   "metadata": {},
   "source": [
    "To start, check GPU support."
   ]
  },
  {
   "cell_type": "code",
   "execution_count": 2,
   "id": "8dc4c32f-48a1-453a-8526-63f79f504b0b",
   "metadata": {},
   "outputs": [
    {
     "name": "stdout",
     "output_type": "stream",
     "text": [
      "Setup complete. Using torch 2.3.0+cu121 (NVIDIA RTX A6000)\n"
     ]
    }
   ],
   "source": [
    "import torch\n",
    "\n",
    "print(f\"Setup complete. Using torch {torch.__version__} ({torch.cuda.get_device_properties(0).name if torch.cuda.is_available() else 'CPU'})\")"
   ]
  },
  {
   "cell_type": "markdown",
   "id": "30d4f3d4-bc82-4afc-a633-3620f20dac52",
   "metadata": {},
   "source": [
    "We also setup logs."
   ]
  },
  {
   "cell_type": "code",
   "execution_count": 3,
   "id": "bd1f4a8e-a3c4-471b-9707-c3444b711a06",
   "metadata": {},
   "outputs": [],
   "source": [
    "import logging\n",
    "\n",
    "logging.basicConfig(level=logging.INFO)"
   ]
  },
  {
   "cell_type": "markdown",
   "id": "3aa4297e-1be7-4cce-b463-85f4a9c966ef",
   "metadata": {},
   "source": [
    "## Download images from ImageNet"
   ]
  },
  {
   "cell_type": "markdown",
   "id": "c4b485f9-2be0-466f-8d40-1a39cff4de1d",
   "metadata": {},
   "source": [
    "The first dataset we'll use is ImageNet21k. The ImageNet21k dataset is available at [https://image-net.org/download-images.php](https://image-net.org/download-images.php). You need to register and be granted access to download the images. We use the Winter 21 version since it gives the option of downloading the images for a single synset: https://image-net.org/data/winter21_whole/SYNSET_ID.tar, e.g., https://image-net.org/data/winter21_whole/n02352591.tar. The processed version of ImageNet21k is available here : https://github.com/Alibaba-MIIL/ImageNet21K. The class ids and names are available here https://github.com/google-research/big_transfer/issues/7#issuecomment-640048775."
   ]
  },
  {
   "cell_type": "markdown",
   "id": "2800ecad-1b8b-4a29-9251-911b88ff520b",
   "metadata": {},
   "source": [
    "We'll begin by downloading the class names that are in ImageNet21k and look for relevant classes that we can use."
   ]
  },
  {
   "cell_type": "code",
   "execution_count": 4,
   "id": "94b63ae8-42df-43cc-8fb9-8f34929e7a35",
   "metadata": {},
   "outputs": [],
   "source": [
    "from pathlib import Path\n",
    "\n",
    "imagenet_dir = Path() / \"imagenet\""
   ]
  },
  {
   "cell_type": "code",
   "execution_count": 5,
   "id": "52d1484a-02df-4563-a0d4-b21255dd8c2b",
   "metadata": {},
   "outputs": [
    {
     "name": "stderr",
     "output_type": "stream",
     "text": [
      "INFO:root:File imagenet/imagenet21k_wordnet_ids.txt already exists. Skipping download.\n",
      "INFO:root:File imagenet/imagenet21k_wordnet_lemmas.txt already exists. Skipping download.\n"
     ]
    },
    {
     "data": {
      "text/plain": [
       "{'n03762982': 'military_hospital',\n",
       " 'n03763727': 'military_quarters',\n",
       " 'n03763968': 'military_uniform',\n",
       " 'n03764276': 'military_vehicle',\n",
       " 'n04552348': 'warplane, military_plane',\n",
       " 'n08249459': 'concert_band, military_band',\n",
       " 'n09809538': 'army_engineer, military_engineer',\n",
       " 'n09943239': 'commissioned_military_officer',\n",
       " 'n10316360': 'military_attache',\n",
       " 'n10316527': 'military_chaplain, padre, Holy_Joe, sky_pilot',\n",
       " 'n10316862': 'military_leader',\n",
       " 'n10317007': 'military_officer, officer',\n",
       " 'n10317500': 'military_policeman, MP',\n",
       " 'n10512372': 'recruit, military_recruit',\n",
       " 'n10582746': 'serviceman, military_man, man, military_personnel',\n",
       " 'n10759331': 'volunteer, military_volunteer, voluntary'}"
      ]
     },
     "execution_count": 5,
     "metadata": {},
     "output_type": "execute_result"
    }
   ],
   "source": [
    "from adomvi.datasets.imagenet import download_class_names, find_class_by_text\n",
    "\n",
    "classes = download_class_names(imagenet_dir)\n",
    "find_class_by_text(classes, \"military\")"
   ]
  },
  {
   "cell_type": "markdown",
   "id": "9886fc7c-20e2-4afe-83af-67e6a856c54a",
   "metadata": {},
   "source": [
    "We can now download images and annotations for the relevant classes. The `download_imagenet_detections` function will download the images and annotations for the given class ids **if the annotations exist** (not all classes have been annotated)."
   ]
  },
  {
   "cell_type": "code",
   "execution_count": 6,
   "id": "05136aa9-b118-446b-90b5-a6ec5431e8e6",
   "metadata": {},
   "outputs": [
    {
     "name": "stderr",
     "output_type": "stream",
     "text": [
      "INFO:root:File imagenet/bboxes_annotations.tar.gz already exists. Skipping download.\n",
      "INFO:root:There are not annotations for class n02740300.\n",
      "INFO:root:Annotations directory imagenet/labels/n04389033 already exists. Skipping extract.\n",
      "INFO:root:There are not annotations for class n02740533.\n",
      "INFO:root:There are not annotations for class n04464852.\n",
      "INFO:root:There are not annotations for class n03764276.\n",
      "INFO:root:Deleting annotations dir.\n"
     ]
    }
   ],
   "source": [
    "from adomvi.datasets.imagenet import download_imagenet_detections\n",
    "\n",
    "class_ids = [\"n02740300\", \"n04389033\", \"n02740533\", \"n04464852\", \"n03764276\"]\n",
    "download_imagenet_detections(class_ids, imagenet_dir)"
   ]
  },
  {
   "cell_type": "markdown",
   "id": "8374b1ba-8d18-4f79-8fc2-00e7ee72a57e",
   "metadata": {},
   "source": [
    "The data we just downloaded into the `imagenet` directory is not all clean: there are annotations which have no corresponding image. We need to remove those labels, otherwise this causes errors when importing the data into fiftyone."
   ]
  },
  {
   "cell_type": "code",
   "execution_count": 7,
   "id": "d08d28ba-e98c-4c04-913b-a544ec29f6c8",
   "metadata": {},
   "outputs": [
    {
     "name": "stderr",
     "output_type": "stream",
     "text": [
      "INFO:root:Deleting 0 labels without images\n"
     ]
    }
   ],
   "source": [
    "from adomvi.datasets.imagenet import cleanup_labels_without_images\n",
    "\n",
    "cleanup_labels_without_images(imagenet_dir)"
   ]
  },
  {
   "cell_type": "markdown",
   "id": "d52714fb-4796-4362-ad51-b8e6b58ab393",
   "metadata": {},
   "source": [
    "We can now create a new dataset with `fiftyone`. Fiftyone allows us to manage images annotated with bounding boxes and labels, to merge datasets from different sources, and to split the datasets and prepare them for processing."
   ]
  },
  {
   "cell_type": "code",
   "execution_count": 8,
   "id": "031dba9b-53d3-4d09-8c4d-21f4cf15aca3",
   "metadata": {},
   "outputs": [
    {
     "name": "stdout",
     "output_type": "stream",
     "text": []
    },
    {
     "name": "stdout",
     "output_type": "stream",
     "text": [
      " 100% |█████████████████| 378/378 [421.7ms elapsed, 0s remaining, 900.6 samples/s]      \n"
     ]
    },
    {
     "name": "stderr",
     "output_type": "stream",
     "text": [
      "INFO:eta.core.utils: 100% |█████████████████| 378/378 [421.7ms elapsed, 0s remaining, 900.6 samples/s]      \n"
     ]
    }
   ],
   "source": [
    "import fiftyone as fo\n",
    "\n",
    "# Create the dataset\n",
    "dataset = fo.Dataset.from_dir(\n",
    "    dataset_dir=imagenet_dir,\n",
    "    dataset_type=fo.types.VOCDetectionDataset,\n",
    ")\n",
    "\n",
    "dataset.name = \"military-vehicles\"\n",
    "\n",
    "dataset.map_labels(\n",
    "    \"ground_truth\",\n",
    "    {\"n04389033\":\"tank\"}\n",
    ").save()"
   ]
  },
  {
   "cell_type": "markdown",
   "id": "e0c832db-12a7-4d05-a8aa-5f04b537f7e0",
   "metadata": {},
   "source": [
    "Once our dataset is created, we can launch a session to display the dataset and view the annotated images"
   ]
  },
  {
   "cell_type": "code",
   "execution_count": 9,
   "id": "bb91df40-7a6f-4956-9406-89829dafdda9",
   "metadata": {},
   "outputs": [
    {
     "name": "stdout",
     "output_type": "stream",
     "text": [
      "Session launched. Run `session.show()` to open the App in a cell output.\n"
     ]
    },
    {
     "name": "stderr",
     "output_type": "stream",
     "text": [
      "INFO:fiftyone.core.session.session:Session launched. Run `session.show()` to open the App in a cell output.\n"
     ]
    }
   ],
   "source": [
    "session = fo.launch_app(dataset, auto=False)"
   ]
  },
  {
   "cell_type": "code",
   "execution_count": 10,
   "id": "f7c04a2d-8d68-4109-8810-413babce74b2",
   "metadata": {},
   "outputs": [
    {
     "data": {
      "application/javascript": [
       "window.open('http://localhost:5151/');"
      ],
      "text/plain": [
       "<IPython.core.display.Javascript object>"
      ]
     },
     "metadata": {},
     "output_type": "display_data"
    }
   ],
   "source": [
    "session.open_tab()"
   ]
  },
  {
   "cell_type": "markdown",
   "id": "f7548a25-2224-4aa6-8b3e-e2645946d3d8",
   "metadata": {},
   "source": [
    "### Add OpenImage samples\n",
    "\n",
    "The ImageNet dataset only contained 378 annotated images of tanks, so we'll look into other available datasets to improve training of the model. We’ll load [Open Images](https://storage.googleapis.com/openimages/web/index.html) samples with `Tank` detection labels, passing in `only_matching=True` to only load the `Tank` labels. We then map these labels by changing `Tank` into `tank`."
   ]
  },
  {
   "cell_type": "code",
   "execution_count": 11,
   "id": "ace791d4-989d-4728-9881-1c5b13a4d276",
   "metadata": {},
   "outputs": [
    {
     "name": "stdout",
     "output_type": "stream",
     "text": [
      "Downloading split 'train' to '/home/jrenault/fiftyone/open-images-v7/train' if necessary\n"
     ]
    },
    {
     "name": "stderr",
     "output_type": "stream",
     "text": [
      "INFO:fiftyone.zoo.datasets:Downloading split 'train' to '/home/jrenault/fiftyone/open-images-v7/train' if necessary\n"
     ]
    },
    {
     "name": "stdout",
     "output_type": "stream",
     "text": [
      "Necessary images already downloaded\n"
     ]
    },
    {
     "name": "stderr",
     "output_type": "stream",
     "text": [
      "INFO:fiftyone.utils.openimages:Necessary images already downloaded\n"
     ]
    },
    {
     "name": "stdout",
     "output_type": "stream",
     "text": [
      "Existing download of split 'train' is sufficient\n"
     ]
    },
    {
     "name": "stderr",
     "output_type": "stream",
     "text": [
      "INFO:fiftyone.zoo.datasets:Existing download of split 'train' is sufficient\n"
     ]
    },
    {
     "name": "stdout",
     "output_type": "stream",
     "text": [
      "Downloading split 'test' to '/home/jrenault/fiftyone/open-images-v7/test' if necessary\n"
     ]
    },
    {
     "name": "stderr",
     "output_type": "stream",
     "text": [
      "INFO:fiftyone.zoo.datasets:Downloading split 'test' to '/home/jrenault/fiftyone/open-images-v7/test' if necessary\n"
     ]
    },
    {
     "name": "stdout",
     "output_type": "stream",
     "text": [
      "Necessary images already downloaded\n"
     ]
    },
    {
     "name": "stderr",
     "output_type": "stream",
     "text": [
      "INFO:fiftyone.utils.openimages:Necessary images already downloaded\n"
     ]
    },
    {
     "name": "stdout",
     "output_type": "stream",
     "text": [
      "Existing download of split 'test' is sufficient\n"
     ]
    },
    {
     "name": "stderr",
     "output_type": "stream",
     "text": [
      "INFO:fiftyone.zoo.datasets:Existing download of split 'test' is sufficient\n"
     ]
    },
    {
     "name": "stdout",
     "output_type": "stream",
     "text": [
      "Downloading split 'validation' to '/home/jrenault/fiftyone/open-images-v7/validation' if necessary\n"
     ]
    },
    {
     "name": "stderr",
     "output_type": "stream",
     "text": [
      "INFO:fiftyone.zoo.datasets:Downloading split 'validation' to '/home/jrenault/fiftyone/open-images-v7/validation' if necessary\n"
     ]
    },
    {
     "name": "stdout",
     "output_type": "stream",
     "text": [
      "Necessary images already downloaded\n"
     ]
    },
    {
     "name": "stderr",
     "output_type": "stream",
     "text": [
      "INFO:fiftyone.utils.openimages:Necessary images already downloaded\n"
     ]
    },
    {
     "name": "stdout",
     "output_type": "stream",
     "text": [
      "Existing download of split 'validation' is sufficient\n"
     ]
    },
    {
     "name": "stderr",
     "output_type": "stream",
     "text": [
      "INFO:fiftyone.zoo.datasets:Existing download of split 'validation' is sufficient\n"
     ]
    },
    {
     "name": "stdout",
     "output_type": "stream",
     "text": [
      "Loading 'open-images-v7' split 'train'\n"
     ]
    },
    {
     "name": "stderr",
     "output_type": "stream",
     "text": [
      "INFO:fiftyone.zoo.datasets:Loading 'open-images-v7' split 'train'\n"
     ]
    },
    {
     "name": "stdout",
     "output_type": "stream",
     "text": []
    },
    {
     "name": "stdout",
     "output_type": "stream",
     "text": [
      " 100% |███████████████| 1062/1062 [1.7s elapsed, 0s remaining, 647.0 samples/s]         \n"
     ]
    },
    {
     "name": "stderr",
     "output_type": "stream",
     "text": [
      "INFO:eta.core.utils: 100% |███████████████| 1062/1062 [1.7s elapsed, 0s remaining, 647.0 samples/s]         \n"
     ]
    },
    {
     "name": "stdout",
     "output_type": "stream",
     "text": [
      "Loading 'open-images-v7' split 'test'\n"
     ]
    },
    {
     "name": "stderr",
     "output_type": "stream",
     "text": [
      "INFO:fiftyone.zoo.datasets:Loading 'open-images-v7' split 'test'\n"
     ]
    },
    {
     "name": "stdout",
     "output_type": "stream",
     "text": []
    },
    {
     "name": "stdout",
     "output_type": "stream",
     "text": [
      " 100% |█████████████████| 134/134 [216.3ms elapsed, 0s remaining, 628.5 samples/s]     \n"
     ]
    },
    {
     "name": "stderr",
     "output_type": "stream",
     "text": [
      "INFO:eta.core.utils: 100% |█████████████████| 134/134 [216.3ms elapsed, 0s remaining, 628.5 samples/s]     \n"
     ]
    },
    {
     "name": "stdout",
     "output_type": "stream",
     "text": [
      "Loading 'open-images-v7' split 'validation'\n"
     ]
    },
    {
     "name": "stderr",
     "output_type": "stream",
     "text": [
      "INFO:fiftyone.zoo.datasets:Loading 'open-images-v7' split 'validation'\n"
     ]
    },
    {
     "name": "stdout",
     "output_type": "stream",
     "text": []
    },
    {
     "name": "stdout",
     "output_type": "stream",
     "text": [
      " 100% |███████████████████| 50/50 [65.7ms elapsed, 0s remaining, 760.8 samples/s]     \n"
     ]
    },
    {
     "name": "stderr",
     "output_type": "stream",
     "text": [
      "INFO:eta.core.utils: 100% |███████████████████| 50/50 [65.7ms elapsed, 0s remaining, 760.8 samples/s]     \n"
     ]
    },
    {
     "name": "stdout",
     "output_type": "stream",
     "text": [
      "Dataset 'open-images-v7' created\n"
     ]
    },
    {
     "name": "stderr",
     "output_type": "stream",
     "text": [
      "INFO:fiftyone.zoo.datasets:Dataset 'open-images-v7' created\n"
     ]
    }
   ],
   "source": [
    "import fiftyone.zoo as foz\n",
    "\n",
    "oi_samples = foz.load_zoo_dataset(\n",
    "    \"open-images-v7\",\n",
    "    classes = [\"Tank\"],\n",
    "    only_matching=True,\n",
    "    label_types=\"detections\"\n",
    ").map_labels(\n",
    "    \"ground_truth\",\n",
    "    {\"Tank\":\"tank\"}\n",
    ")"
   ]
  },
  {
   "cell_type": "code",
   "execution_count": 12,
   "id": "279b7fd6-165b-4b64-bc0d-994ba678a096",
   "metadata": {},
   "outputs": [],
   "source": [
    "dataset.merge_samples(oi_samples)"
   ]
  },
  {
   "cell_type": "markdown",
   "id": "55a0513e-7034-4949-b2f7-07423bfdfaca",
   "metadata": {},
   "source": [
    "## Fine-tune a YOLOv8 detection model\n",
    "\n",
    "Now that our dataset is created, we'll export it into a format supported by YOLOv8 to train our model."
   ]
  },
  {
   "cell_type": "markdown",
   "id": "4105dd10-1fe4-4cec-81cc-946f03aa8d09",
   "metadata": {},
   "source": [
    "We first remove tags from the dataset, and split it into a train, val and test sets."
   ]
  },
  {
   "cell_type": "code",
   "execution_count": 13,
   "id": "0dbbdb4b-0cda-45b6-bfb4-413c5e64ec02",
   "metadata": {},
   "outputs": [],
   "source": [
    "import fiftyone.utils.random as four\n",
    "\n",
    "## delete existing tags to start fresh\n",
    "dataset.untag_samples(dataset.distinct(\"tags\"))\n",
    "\n",
    "## split into train, test and val\n",
    "four.random_split(\n",
    "    dataset,\n",
    "    {\"train\": 0.8, \"val\": 0.1, \"test\": 0.1}\n",
    ")"
   ]
  },
  {
   "cell_type": "markdown",
   "id": "00733240-138e-4d63-8de0-5d308756f873",
   "metadata": {},
   "source": [
    "Once our dataset is split, we can export it to a specific directory."
   ]
  },
  {
   "cell_type": "code",
   "execution_count": 14,
   "id": "6ab37a36-380c-484f-9636-9f0c89885cca",
   "metadata": {},
   "outputs": [
    {
     "name": "stdout",
     "output_type": "stream",
     "text": []
    },
    {
     "name": "stdout",
     "output_type": "stream",
     "text": [
      " 100% |███████████████| 1299/1299 [1.4s elapsed, 0s remaining, 909.7 samples/s]         \n"
     ]
    },
    {
     "name": "stderr",
     "output_type": "stream",
     "text": [
      "INFO:eta.core.utils: 100% |███████████████| 1299/1299 [1.4s elapsed, 0s remaining, 909.7 samples/s]         \n"
     ]
    },
    {
     "name": "stdout",
     "output_type": "stream",
     "text": [
      "Directory 'vehicles' already exists; export will be merged with existing files\n"
     ]
    },
    {
     "name": "stderr",
     "output_type": "stream",
     "text": [
      "WARNING:fiftyone.core.collections:Directory 'vehicles' already exists; export will be merged with existing files\n"
     ]
    },
    {
     "name": "stdout",
     "output_type": "stream",
     "text": []
    },
    {
     "name": "stdout",
     "output_type": "stream",
     "text": [
      " 100% |█████████████████| 163/163 [207.4ms elapsed, 0s remaining, 786.0 samples/s]     \n"
     ]
    },
    {
     "name": "stderr",
     "output_type": "stream",
     "text": [
      "INFO:eta.core.utils: 100% |█████████████████| 163/163 [207.4ms elapsed, 0s remaining, 786.0 samples/s]     \n"
     ]
    },
    {
     "name": "stdout",
     "output_type": "stream",
     "text": [
      "Directory 'vehicles' already exists; export will be merged with existing files\n"
     ]
    },
    {
     "name": "stderr",
     "output_type": "stream",
     "text": [
      "WARNING:fiftyone.core.collections:Directory 'vehicles' already exists; export will be merged with existing files\n"
     ]
    },
    {
     "name": "stdout",
     "output_type": "stream",
     "text": []
    },
    {
     "name": "stdout",
     "output_type": "stream",
     "text": [
      " 100% |█████████████████| 162/162 [159.9ms elapsed, 0s remaining, 1.0K samples/s]      \n"
     ]
    },
    {
     "name": "stderr",
     "output_type": "stream",
     "text": [
      "INFO:eta.core.utils: 100% |█████████████████| 162/162 [159.9ms elapsed, 0s remaining, 1.0K samples/s]      \n"
     ]
    }
   ],
   "source": [
    "from pathlib import Path\n",
    "from adomvi.yolo.utils import export_yolo_data\n",
    "\n",
    "export_dir = Path() / \"vehicles\"\n",
    "export_yolo_data(dataset, export_dir, [\"tank\"], split = [\"train\", \"val\", \"test\"])"
   ]
  },
  {
   "cell_type": "markdown",
   "id": "5c987c05-848b-439e-8705-0735b100180f",
   "metadata": {},
   "source": [
    "Finally, we can train a YoloV8 base model on our exported dataset. We use the `yolov8n.pt` (nano) model, which is the smallest, but larger models are available from ultralytics. Simply replace `yolov8n.pt` with the [right model](https://docs.ultralytics.com/models/yolov8/#key-features)."
   ]
  },
  {
   "cell_type": "code",
   "execution_count": 19,
   "id": "b6999159-b029-4cd7-97ed-68b40311cbc8",
   "metadata": {},
   "outputs": [
    {
     "name": "stdout",
     "output_type": "stream",
     "text": [
      "Ultralytics YOLOv8.2.28 🚀 Python-3.10.14 torch-2.3.0+cu121 CUDA:0 (NVIDIA RTX A6000, 48677MiB)\n",
      "                                                            CUDA:1 (NVIDIA RTX A6000, 48655MiB)\n",
      "\u001b[34m\u001b[1mengine/trainer: \u001b[0mtask=detect, mode=train, model=yolov8n.pt, data=vehicles/dataset.yaml, epochs=60, time=None, patience=100, batch=64, imgsz=640, save=True, save_period=-1, cache=False, device=[0, 1], workers=8, project=None, name=train2, exist_ok=False, pretrained=True, optimizer=auto, verbose=True, seed=0, deterministic=True, single_cls=False, rect=False, cos_lr=False, close_mosaic=10, resume=False, amp=True, fraction=1.0, profile=False, freeze=None, multi_scale=False, overlap_mask=True, mask_ratio=4, dropout=0.0, val=True, split=val, save_json=False, save_hybrid=False, conf=None, iou=0.7, max_det=300, half=False, dnn=False, plots=True, source=None, vid_stride=1, stream_buffer=False, visualize=False, augment=False, agnostic_nms=False, classes=None, retina_masks=False, embed=None, show=False, save_frames=False, save_txt=False, save_conf=False, save_crop=False, show_labels=True, show_conf=True, show_boxes=True, line_width=None, format=torchscript, keras=False, optimize=False, int8=False, dynamic=False, simplify=False, opset=None, workspace=4, nms=False, lr0=0.01, lrf=0.01, momentum=0.937, weight_decay=0.0005, warmup_epochs=3.0, warmup_momentum=0.8, warmup_bias_lr=0.1, box=7.5, cls=0.5, dfl=1.5, pose=12.0, kobj=1.0, label_smoothing=0.0, nbs=64, hsv_h=0.015, hsv_s=0.7, hsv_v=0.4, degrees=0.0, translate=0.1, scale=0.5, shear=0.0, perspective=0.0, flipud=0.0, fliplr=0.5, bgr=0.0, mosaic=1.0, mixup=0.0, copy_paste=0.0, auto_augment=randaugment, erasing=0.4, crop_fraction=1.0, cfg=None, tracker=botsort.yaml, save_dir=runs/detect/train2\n",
      "Overriding model.yaml nc=80 with nc=1\n",
      "\n",
      "                   from  n    params  module                                       arguments                     \n",
      "  0                  -1  1       464  ultralytics.nn.modules.conv.Conv             [3, 16, 3, 2]                 \n",
      "  1                  -1  1      4672  ultralytics.nn.modules.conv.Conv             [16, 32, 3, 2]                \n",
      "  2                  -1  1      7360  ultralytics.nn.modules.block.C2f             [32, 32, 1, True]             \n",
      "  3                  -1  1     18560  ultralytics.nn.modules.conv.Conv             [32, 64, 3, 2]                \n",
      "  4                  -1  2     49664  ultralytics.nn.modules.block.C2f             [64, 64, 2, True]             \n",
      "  5                  -1  1     73984  ultralytics.nn.modules.conv.Conv             [64, 128, 3, 2]               \n",
      "  6                  -1  2    197632  ultralytics.nn.modules.block.C2f             [128, 128, 2, True]           \n",
      "  7                  -1  1    295424  ultralytics.nn.modules.conv.Conv             [128, 256, 3, 2]              \n",
      "  8                  -1  1    460288  ultralytics.nn.modules.block.C2f             [256, 256, 1, True]           \n",
      "  9                  -1  1    164608  ultralytics.nn.modules.block.SPPF            [256, 256, 5]                 \n",
      " 10                  -1  1         0  torch.nn.modules.upsampling.Upsample         [None, 2, 'nearest']          \n",
      " 11             [-1, 6]  1         0  ultralytics.nn.modules.conv.Concat           [1]                           \n",
      " 12                  -1  1    148224  ultralytics.nn.modules.block.C2f             [384, 128, 1]                 \n",
      " 13                  -1  1         0  torch.nn.modules.upsampling.Upsample         [None, 2, 'nearest']          \n",
      " 14             [-1, 4]  1         0  ultralytics.nn.modules.conv.Concat           [1]                           \n",
      " 15                  -1  1     37248  ultralytics.nn.modules.block.C2f             [192, 64, 1]                  \n",
      " 16                  -1  1     36992  ultralytics.nn.modules.conv.Conv             [64, 64, 3, 2]                \n",
      " 17            [-1, 12]  1         0  ultralytics.nn.modules.conv.Concat           [1]                           \n",
      " 18                  -1  1    123648  ultralytics.nn.modules.block.C2f             [192, 128, 1]                 \n",
      " 19                  -1  1    147712  ultralytics.nn.modules.conv.Conv             [128, 128, 3, 2]              \n",
      " 20             [-1, 9]  1         0  ultralytics.nn.modules.conv.Concat           [1]                           \n",
      " 21                  -1  1    493056  ultralytics.nn.modules.block.C2f             [384, 256, 1]                 \n",
      " 22        [15, 18, 21]  1    751507  ultralytics.nn.modules.head.Detect           [1, [64, 128, 256]]           \n",
      "Model summary: 225 layers, 3011043 parameters, 3011027 gradients, 8.2 GFLOPs\n",
      "\n",
      "Transferred 319/355 items from pretrained weights\n",
      "\u001b[34m\u001b[1mDDP:\u001b[0m debug command /home/jrenault/mambaforge/envs/adomvi2/bin/python -m torch.distributed.run --nproc_per_node 2 --master_port 48983 /home/jrenault/.config/Ultralytics/DDP/_temp_fuiqpcha139829281849104.py\n",
      "Ultralytics YOLOv8.2.28 🚀 Python-3.10.14 torch-2.3.0+cu121 CUDA:0 (NVIDIA RTX A6000, 48677MiB)\n",
      "                                                            CUDA:1 (NVIDIA RTX A6000, 48655MiB)\n",
      "Overriding model.yaml nc=80 with nc=1\n",
      "Transferred 319/355 items from pretrained weights\n",
      "Freezing layer 'model.22.dfl.conv.weight'\n",
      "\u001b[34m\u001b[1mAMP: \u001b[0mrunning Automatic Mixed Precision (AMP) checks with YOLOv8n...\n"
     ]
    },
    {
     "name": "stderr",
     "output_type": "stream",
     "text": [
      "/home/jrenault/mambaforge/envs/adomvi2/lib/python3.10/site-packages/torch/nn/modules/conv.py:456: UserWarning: Plan failed with a cudnnException: CUDNN_BACKEND_EXECUTION_PLAN_DESCRIPTOR: cudnnFinalize Descriptor Failed cudnn_status: CUDNN_STATUS_NOT_SUPPORTED (Triggered internally at ../aten/src/ATen/native/cudnn/Conv_v8.cpp:919.)\n",
      "  return F.conv2d(input, weight, bias, self.stride,\n"
     ]
    },
    {
     "name": "stdout",
     "output_type": "stream",
     "text": [
      "\u001b[34m\u001b[1mAMP: \u001b[0mchecks passed ✅\n"
     ]
    },
    {
     "name": "stderr",
     "output_type": "stream",
     "text": [
      "\u001b[34m\u001b[1mtrain: \u001b[0mScanning /home/jrenault/workspace/adomvi2/notebooks/vehicles/labels/train.cache... 1299 images, 0 backgrounds, 0 corrupt: 100%|██████████| 1299/1299 [00:00<?, ?it/s]\n",
      "\u001b[34m\u001b[1mval: \u001b[0mScanning /home/jrenault/workspace/adomvi2/notebooks/vehicles/labels/val.cache... 163 images, 0 backgrounds, 0 corrupt: 100%|██████████| 163/163 [00:00<?, ?it/s]\n"
     ]
    },
    {
     "name": "stdout",
     "output_type": "stream",
     "text": [
      "Plotting labels to runs/detect/train2/labels.jpg... \n",
      "\u001b[34m\u001b[1moptimizer:\u001b[0m 'optimizer=auto' found, ignoring 'lr0=0.01' and 'momentum=0.937' and determining best 'optimizer', 'lr0' and 'momentum' automatically... \n",
      "\u001b[34m\u001b[1moptimizer:\u001b[0m AdamW(lr=0.000714, momentum=0.9) with parameter groups 57 weight(decay=0.0), 64 weight(decay=0.0005), 63 bias(decay=0.0)\n",
      "Image sizes 640 train, 640 val\n",
      "Using 16 dataloader workers\n",
      "Logging results to \u001b[1mruns/detect/train2\u001b[0m\n",
      "Starting training for 60 epochs...\n",
      "\n",
      "      Epoch    GPU_mem   box_loss   cls_loss   dfl_loss  Instances       Size\n"
     ]
    },
    {
     "name": "stderr",
     "output_type": "stream",
     "text": [
      "  0%|          | 0/21 [00:00<?, ?it/s]/home/jrenault/mambaforge/envs/adomvi2/lib/python3.10/site-packages/torch/nn/modules/conv.py:456: UserWarning: Plan failed with a cudnnException: CUDNN_BACKEND_EXECUTION_PLAN_DESCRIPTOR: cudnnFinalize Descriptor Failed cudnn_status: CUDNN_STATUS_NOT_SUPPORTED (Triggered internally at ../aten/src/ATen/native/cudnn/Conv_v8.cpp:919.)\n",
      "  return F.conv2d(input, weight, bias, self.stride,\n",
      "/home/jrenault/mambaforge/envs/adomvi2/lib/python3.10/site-packages/torch/nn/modules/conv.py:456: UserWarning: Plan failed with a cudnnException: CUDNN_BACKEND_EXECUTION_PLAN_DESCRIPTOR: cudnnFinalize Descriptor Failed cudnn_status: CUDNN_STATUS_NOT_SUPPORTED (Triggered internally at ../aten/src/ATen/native/cudnn/Conv_v8.cpp:919.)\n",
      "  return F.conv2d(input, weight, bias, self.stride,\n",
      "       1/60       4.3G      1.045      2.326      1.427         31        640: 100%|██████████| 21/21 [00:04<00:00,  4.35it/s]\n",
      "                 Class     Images  Instances      Box(P          R      mAP50  mAP50-95): 100%|██████████| 3/3 [00:00<00:00,  4.17it/s]\n"
     ]
    },
    {
     "name": "stdout",
     "output_type": "stream",
     "text": [
      "                   all        163        270    0.00546      0.989      0.584      0.356\n",
      "\n",
      "      Epoch    GPU_mem   box_loss   cls_loss   dfl_loss  Instances       Size\n"
     ]
    },
    {
     "name": "stderr",
     "output_type": "stream",
     "text": [
      "       2/60      4.35G     0.9144      1.577      1.353         30        640: 100%|██████████| 21/21 [00:02<00:00,  7.26it/s]\n",
      "                 Class     Images  Instances      Box(P          R      mAP50  mAP50-95): 100%|██████████| 3/3 [00:00<00:00,  6.12it/s]\n"
     ]
    },
    {
     "name": "stdout",
     "output_type": "stream",
     "text": [
      "                   all        163        270      0.914      0.432      0.658      0.439\n",
      "\n",
      "      Epoch    GPU_mem   box_loss   cls_loss   dfl_loss  Instances       Size\n"
     ]
    },
    {
     "name": "stderr",
     "output_type": "stream",
     "text": [
      "       3/60       4.3G     0.9419      1.418      1.348         47        640: 100%|██████████| 21/21 [00:02<00:00,  7.22it/s]\n",
      "                 Class     Images  Instances      Box(P          R      mAP50  mAP50-95): 100%|██████████| 3/3 [00:00<00:00,  5.93it/s]\n"
     ]
    },
    {
     "name": "stdout",
     "output_type": "stream",
     "text": [
      "                   all        163        270      0.857      0.576      0.695       0.43\n",
      "\n",
      "      Epoch    GPU_mem   box_loss   cls_loss   dfl_loss  Instances       Size\n"
     ]
    },
    {
     "name": "stderr",
     "output_type": "stream",
     "text": [
      "       4/60       4.3G     0.9528      1.339       1.37         31        640: 100%|██████████| 21/21 [00:02<00:00,  7.29it/s]\n",
      "                 Class     Images  Instances      Box(P          R      mAP50  mAP50-95): 100%|██████████| 3/3 [00:00<00:00,  6.34it/s]\n"
     ]
    },
    {
     "name": "stdout",
     "output_type": "stream",
     "text": [
      "                   all        163        270      0.806      0.563      0.653      0.404\n",
      "\n",
      "      Epoch    GPU_mem   box_loss   cls_loss   dfl_loss  Instances       Size\n"
     ]
    },
    {
     "name": "stderr",
     "output_type": "stream",
     "text": [
      "       5/60       4.3G     0.9492      1.297      1.354         28        640: 100%|██████████| 21/21 [00:02<00:00,  7.23it/s]\n",
      "                 Class     Images  Instances      Box(P          R      mAP50  mAP50-95): 100%|██████████| 3/3 [00:00<00:00,  6.03it/s]\n"
     ]
    },
    {
     "name": "stdout",
     "output_type": "stream",
     "text": [
      "                   all        163        270      0.717      0.552      0.616      0.366\n",
      "\n",
      "      Epoch    GPU_mem   box_loss   cls_loss   dfl_loss  Instances       Size\n"
     ]
    },
    {
     "name": "stderr",
     "output_type": "stream",
     "text": [
      "       6/60      4.34G     0.9839      1.244      1.378         34        640: 100%|██████████| 21/21 [00:02<00:00,  7.30it/s]\n",
      "                 Class     Images  Instances      Box(P          R      mAP50  mAP50-95): 100%|██████████| 3/3 [00:00<00:00,  5.69it/s]\n"
     ]
    },
    {
     "name": "stdout",
     "output_type": "stream",
     "text": [
      "                   all        163        270      0.612      0.515      0.568      0.288\n",
      "\n",
      "      Epoch    GPU_mem   box_loss   cls_loss   dfl_loss  Instances       Size\n"
     ]
    },
    {
     "name": "stderr",
     "output_type": "stream",
     "text": [
      "       7/60      4.35G      0.921      1.132      1.331         34        640: 100%|██████████| 21/21 [00:02<00:00,  7.33it/s]\n",
      "                 Class     Images  Instances      Box(P          R      mAP50  mAP50-95): 100%|██████████| 3/3 [00:00<00:00,  6.38it/s]\n"
     ]
    },
    {
     "name": "stdout",
     "output_type": "stream",
     "text": [
      "                   all        163        270      0.656      0.587      0.592      0.328\n",
      "\n",
      "      Epoch    GPU_mem   box_loss   cls_loss   dfl_loss  Instances       Size\n"
     ]
    },
    {
     "name": "stderr",
     "output_type": "stream",
     "text": [
      "       8/60       4.3G     0.9597       1.15      1.365         34        640: 100%|██████████| 21/21 [00:02<00:00,  7.22it/s]\n",
      "                 Class     Images  Instances      Box(P          R      mAP50  mAP50-95): 100%|██████████| 3/3 [00:00<00:00,  6.28it/s]\n"
     ]
    },
    {
     "name": "stdout",
     "output_type": "stream",
     "text": [
      "                   all        163        270      0.795      0.633      0.714      0.445\n",
      "\n",
      "      Epoch    GPU_mem   box_loss   cls_loss   dfl_loss  Instances       Size\n"
     ]
    },
    {
     "name": "stderr",
     "output_type": "stream",
     "text": [
      "       9/60      4.34G     0.9407      1.104      1.331         33        640: 100%|██████████| 21/21 [00:02<00:00,  7.15it/s]\n",
      "                 Class     Images  Instances      Box(P          R      mAP50  mAP50-95): 100%|██████████| 3/3 [00:00<00:00,  6.75it/s]\n"
     ]
    },
    {
     "name": "stdout",
     "output_type": "stream",
     "text": [
      "                   all        163        270      0.602      0.515       0.52      0.243\n",
      "\n",
      "      Epoch    GPU_mem   box_loss   cls_loss   dfl_loss  Instances       Size\n"
     ]
    },
    {
     "name": "stderr",
     "output_type": "stream",
     "text": [
      "      10/60      4.39G     0.9428       1.05      1.335         31        640: 100%|██████████| 21/21 [00:02<00:00,  7.13it/s]\n",
      "                 Class     Images  Instances      Box(P          R      mAP50  mAP50-95): 100%|██████████| 3/3 [00:00<00:00,  6.56it/s]\n"
     ]
    },
    {
     "name": "stdout",
     "output_type": "stream",
     "text": [
      "                   all        163        270      0.712      0.596      0.652      0.368\n",
      "\n",
      "      Epoch    GPU_mem   box_loss   cls_loss   dfl_loss  Instances       Size\n"
     ]
    },
    {
     "name": "stderr",
     "output_type": "stream",
     "text": [
      "      11/60      4.34G     0.9332     0.9969      1.317         38        640: 100%|██████████| 21/21 [00:02<00:00,  7.22it/s]\n",
      "                 Class     Images  Instances      Box(P          R      mAP50  mAP50-95): 100%|██████████| 3/3 [00:00<00:00,  6.65it/s]\n"
     ]
    },
    {
     "name": "stdout",
     "output_type": "stream",
     "text": [
      "                   all        163        270      0.787      0.678      0.772      0.471\n",
      "\n",
      "      Epoch    GPU_mem   box_loss   cls_loss   dfl_loss  Instances       Size\n"
     ]
    },
    {
     "name": "stderr",
     "output_type": "stream",
     "text": [
      "      12/60       4.4G     0.9064     0.9766      1.313         36        640: 100%|██████████| 21/21 [00:02<00:00,  7.39it/s]\n",
      "                 Class     Images  Instances      Box(P          R      mAP50  mAP50-95): 100%|██████████| 3/3 [00:00<00:00,  6.75it/s]\n"
     ]
    },
    {
     "name": "stdout",
     "output_type": "stream",
     "text": [
      "                   all        163        270      0.843      0.707      0.794      0.506\n",
      "\n",
      "      Epoch    GPU_mem   box_loss   cls_loss   dfl_loss  Instances       Size\n"
     ]
    },
    {
     "name": "stderr",
     "output_type": "stream",
     "text": [
      "      13/60       4.3G     0.8822     0.9619      1.275         29        640: 100%|██████████| 21/21 [00:02<00:00,  7.19it/s]\n",
      "                 Class     Images  Instances      Box(P          R      mAP50  mAP50-95): 100%|██████████| 3/3 [00:00<00:00,  6.85it/s]\n"
     ]
    },
    {
     "name": "stdout",
     "output_type": "stream",
     "text": [
      "                   all        163        270      0.741      0.648      0.737      0.474\n",
      "\n",
      "      Epoch    GPU_mem   box_loss   cls_loss   dfl_loss  Instances       Size\n"
     ]
    },
    {
     "name": "stderr",
     "output_type": "stream",
     "text": [
      "      14/60       4.3G     0.8768     0.9143      1.291         33        640: 100%|██████████| 21/21 [00:02<00:00,  7.27it/s]\n",
      "                 Class     Images  Instances      Box(P          R      mAP50  mAP50-95): 100%|██████████| 3/3 [00:00<00:00,  7.00it/s]\n"
     ]
    },
    {
     "name": "stdout",
     "output_type": "stream",
     "text": [
      "                   all        163        270      0.798      0.593      0.725      0.442\n",
      "\n",
      "      Epoch    GPU_mem   box_loss   cls_loss   dfl_loss  Instances       Size\n"
     ]
    },
    {
     "name": "stderr",
     "output_type": "stream",
     "text": [
      "      15/60      4.33G     0.8416     0.8705      1.272         25        640: 100%|██████████| 21/21 [00:02<00:00,  7.26it/s]\n",
      "                 Class     Images  Instances      Box(P          R      mAP50  mAP50-95): 100%|██████████| 3/3 [00:00<00:00,  6.99it/s]\n"
     ]
    },
    {
     "name": "stdout",
     "output_type": "stream",
     "text": [
      "                   all        163        270      0.801      0.759       0.79      0.516\n",
      "\n",
      "      Epoch    GPU_mem   box_loss   cls_loss   dfl_loss  Instances       Size\n"
     ]
    },
    {
     "name": "stderr",
     "output_type": "stream",
     "text": [
      "      16/60      4.34G     0.8309     0.8328      1.258         31        640: 100%|██████████| 21/21 [00:02<00:00,  7.21it/s]\n",
      "                 Class     Images  Instances      Box(P          R      mAP50  mAP50-95): 100%|██████████| 3/3 [00:00<00:00,  6.81it/s]\n"
     ]
    },
    {
     "name": "stdout",
     "output_type": "stream",
     "text": [
      "                   all        163        270      0.814      0.719      0.765      0.485\n",
      "\n",
      "      Epoch    GPU_mem   box_loss   cls_loss   dfl_loss  Instances       Size\n"
     ]
    },
    {
     "name": "stderr",
     "output_type": "stream",
     "text": [
      "      17/60      4.35G     0.8438     0.8608      1.261         40        640: 100%|██████████| 21/21 [00:02<00:00,  7.24it/s]\n",
      "                 Class     Images  Instances      Box(P          R      mAP50  mAP50-95): 100%|██████████| 3/3 [00:00<00:00,  6.33it/s]\n"
     ]
    },
    {
     "name": "stdout",
     "output_type": "stream",
     "text": [
      "                   all        163        270      0.846      0.648       0.76      0.444\n",
      "\n",
      "      Epoch    GPU_mem   box_loss   cls_loss   dfl_loss  Instances       Size\n"
     ]
    },
    {
     "name": "stderr",
     "output_type": "stream",
     "text": [
      "      18/60      4.34G     0.8061     0.8285      1.238         25        640: 100%|██████████| 21/21 [00:02<00:00,  7.32it/s]\n",
      "                 Class     Images  Instances      Box(P          R      mAP50  mAP50-95): 100%|██████████| 3/3 [00:00<00:00,  6.63it/s]\n"
     ]
    },
    {
     "name": "stdout",
     "output_type": "stream",
     "text": [
      "                   all        163        270      0.816      0.719      0.805      0.514\n",
      "\n",
      "      Epoch    GPU_mem   box_loss   cls_loss   dfl_loss  Instances       Size\n"
     ]
    },
    {
     "name": "stderr",
     "output_type": "stream",
     "text": [
      "      19/60      4.35G     0.8249     0.8181      1.255         24        640: 100%|██████████| 21/21 [00:02<00:00,  7.21it/s]\n",
      "                 Class     Images  Instances      Box(P          R      mAP50  mAP50-95): 100%|██████████| 3/3 [00:00<00:00,  7.00it/s]\n"
     ]
    },
    {
     "name": "stdout",
     "output_type": "stream",
     "text": [
      "                   all        163        270      0.845      0.724      0.814      0.537\n",
      "\n",
      "      Epoch    GPU_mem   box_loss   cls_loss   dfl_loss  Instances       Size\n"
     ]
    },
    {
     "name": "stderr",
     "output_type": "stream",
     "text": [
      "      20/60      4.35G      0.817     0.7995      1.261         26        640: 100%|██████████| 21/21 [00:02<00:00,  7.25it/s]\n",
      "                 Class     Images  Instances      Box(P          R      mAP50  mAP50-95): 100%|██████████| 3/3 [00:00<00:00,  7.08it/s]\n"
     ]
    },
    {
     "name": "stdout",
     "output_type": "stream",
     "text": [
      "                   all        163        270      0.796      0.753      0.818      0.529\n",
      "\n",
      "      Epoch    GPU_mem   box_loss   cls_loss   dfl_loss  Instances       Size\n"
     ]
    },
    {
     "name": "stderr",
     "output_type": "stream",
     "text": [
      "      21/60      4.34G     0.7952     0.7796      1.227         37        640: 100%|██████████| 21/21 [00:02<00:00,  7.15it/s]\n",
      "                 Class     Images  Instances      Box(P          R      mAP50  mAP50-95): 100%|██████████| 3/3 [00:00<00:00,  7.00it/s]\n"
     ]
    },
    {
     "name": "stdout",
     "output_type": "stream",
     "text": [
      "                   all        163        270       0.78      0.778      0.811      0.544\n",
      "\n",
      "      Epoch    GPU_mem   box_loss   cls_loss   dfl_loss  Instances       Size\n"
     ]
    },
    {
     "name": "stderr",
     "output_type": "stream",
     "text": [
      "      22/60      4.35G     0.7865     0.7608      1.215         28        640: 100%|██████████| 21/21 [00:02<00:00,  7.08it/s]\n",
      "                 Class     Images  Instances      Box(P          R      mAP50  mAP50-95): 100%|██████████| 3/3 [00:00<00:00,  6.95it/s]\n"
     ]
    },
    {
     "name": "stdout",
     "output_type": "stream",
     "text": [
      "                   all        163        270      0.773      0.715      0.774      0.505\n",
      "\n",
      "      Epoch    GPU_mem   box_loss   cls_loss   dfl_loss  Instances       Size\n"
     ]
    },
    {
     "name": "stderr",
     "output_type": "stream",
     "text": [
      "      23/60      4.39G     0.8036     0.7918      1.227         41        640: 100%|██████████| 21/21 [00:02<00:00,  7.30it/s]\n",
      "                 Class     Images  Instances      Box(P          R      mAP50  mAP50-95): 100%|██████████| 3/3 [00:00<00:00,  6.66it/s]\n"
     ]
    },
    {
     "name": "stdout",
     "output_type": "stream",
     "text": [
      "                   all        163        270      0.839      0.767      0.846      0.565\n",
      "\n",
      "      Epoch    GPU_mem   box_loss   cls_loss   dfl_loss  Instances       Size\n"
     ]
    },
    {
     "name": "stderr",
     "output_type": "stream",
     "text": [
      "      24/60      4.34G     0.7953     0.7663      1.238         34        640: 100%|██████████| 21/21 [00:02<00:00,  7.17it/s]\n",
      "                 Class     Images  Instances      Box(P          R      mAP50  mAP50-95): 100%|██████████| 3/3 [00:00<00:00,  6.33it/s]\n"
     ]
    },
    {
     "name": "stdout",
     "output_type": "stream",
     "text": [
      "                   all        163        270      0.843      0.785      0.851      0.562\n",
      "\n",
      "      Epoch    GPU_mem   box_loss   cls_loss   dfl_loss  Instances       Size\n"
     ]
    },
    {
     "name": "stderr",
     "output_type": "stream",
     "text": [
      "      25/60       4.3G     0.7581     0.7048      1.198         30        640: 100%|██████████| 21/21 [00:02<00:00,  7.25it/s]\n",
      "                 Class     Images  Instances      Box(P          R      mAP50  mAP50-95): 100%|██████████| 3/3 [00:00<00:00,  6.92it/s]\n"
     ]
    },
    {
     "name": "stdout",
     "output_type": "stream",
     "text": [
      "                   all        163        270       0.85      0.756      0.813      0.539\n",
      "\n",
      "      Epoch    GPU_mem   box_loss   cls_loss   dfl_loss  Instances       Size\n"
     ]
    },
    {
     "name": "stderr",
     "output_type": "stream",
     "text": [
      "      26/60       4.3G     0.7331     0.6867      1.185         40        640: 100%|██████████| 21/21 [00:02<00:00,  7.18it/s]\n",
      "                 Class     Images  Instances      Box(P          R      mAP50  mAP50-95): 100%|██████████| 3/3 [00:00<00:00,  6.86it/s]\n"
     ]
    },
    {
     "name": "stdout",
     "output_type": "stream",
     "text": [
      "                   all        163        270      0.877      0.704      0.809      0.538\n",
      "\n",
      "      Epoch    GPU_mem   box_loss   cls_loss   dfl_loss  Instances       Size\n"
     ]
    },
    {
     "name": "stderr",
     "output_type": "stream",
     "text": [
      "      27/60      4.29G      0.743     0.6982      1.198         38        640: 100%|██████████| 21/21 [00:02<00:00,  7.24it/s]\n",
      "                 Class     Images  Instances      Box(P          R      mAP50  mAP50-95): 100%|██████████| 3/3 [00:00<00:00,  7.13it/s]\n"
     ]
    },
    {
     "name": "stdout",
     "output_type": "stream",
     "text": [
      "                   all        163        270      0.838      0.767      0.865      0.593\n",
      "\n",
      "      Epoch    GPU_mem   box_loss   cls_loss   dfl_loss  Instances       Size\n"
     ]
    },
    {
     "name": "stderr",
     "output_type": "stream",
     "text": [
      "      28/60      4.33G     0.7448     0.6679      1.192         38        640: 100%|██████████| 21/21 [00:02<00:00,  7.13it/s]\n",
      "                 Class     Images  Instances      Box(P          R      mAP50  mAP50-95): 100%|██████████| 3/3 [00:00<00:00,  6.52it/s]\n"
     ]
    },
    {
     "name": "stdout",
     "output_type": "stream",
     "text": [
      "                   all        163        270      0.871      0.676      0.815      0.548\n",
      "\n",
      "      Epoch    GPU_mem   box_loss   cls_loss   dfl_loss  Instances       Size\n"
     ]
    },
    {
     "name": "stderr",
     "output_type": "stream",
     "text": [
      "      29/60      4.34G     0.7392     0.7038      1.178         26        640: 100%|██████████| 21/21 [00:02<00:00,  7.32it/s]\n",
      "                 Class     Images  Instances      Box(P          R      mAP50  mAP50-95): 100%|██████████| 3/3 [00:00<00:00,  7.05it/s]\n"
     ]
    },
    {
     "name": "stdout",
     "output_type": "stream",
     "text": [
      "                   all        163        270      0.864      0.729       0.81      0.516\n",
      "\n",
      "      Epoch    GPU_mem   box_loss   cls_loss   dfl_loss  Instances       Size\n"
     ]
    },
    {
     "name": "stderr",
     "output_type": "stream",
     "text": [
      "      30/60      4.33G     0.7398     0.6669      1.187         30        640: 100%|██████████| 21/21 [00:02<00:00,  7.24it/s]\n",
      "                 Class     Images  Instances      Box(P          R      mAP50  mAP50-95): 100%|██████████| 3/3 [00:00<00:00,  7.04it/s]\n"
     ]
    },
    {
     "name": "stdout",
     "output_type": "stream",
     "text": [
      "                   all        163        270      0.859      0.796      0.863      0.579\n",
      "\n",
      "      Epoch    GPU_mem   box_loss   cls_loss   dfl_loss  Instances       Size\n"
     ]
    },
    {
     "name": "stderr",
     "output_type": "stream",
     "text": [
      "      31/60       4.3G     0.7062      0.683      1.171         38        640: 100%|██████████| 21/21 [00:02<00:00,  7.19it/s]\n",
      "                 Class     Images  Instances      Box(P          R      mAP50  mAP50-95): 100%|██████████| 3/3 [00:00<00:00,  7.04it/s]\n"
     ]
    },
    {
     "name": "stdout",
     "output_type": "stream",
     "text": [
      "                   all        163        270      0.878      0.722      0.824       0.54\n",
      "\n",
      "      Epoch    GPU_mem   box_loss   cls_loss   dfl_loss  Instances       Size\n"
     ]
    },
    {
     "name": "stderr",
     "output_type": "stream",
     "text": [
      "      32/60      4.34G     0.7263     0.6439      1.157         32        640: 100%|██████████| 21/21 [00:02<00:00,  7.15it/s]\n",
      "                 Class     Images  Instances      Box(P          R      mAP50  mAP50-95): 100%|██████████| 3/3 [00:00<00:00,  7.10it/s]\n"
     ]
    },
    {
     "name": "stdout",
     "output_type": "stream",
     "text": [
      "                   all        163        270      0.819      0.788      0.849      0.563\n",
      "\n",
      "      Epoch    GPU_mem   box_loss   cls_loss   dfl_loss  Instances       Size\n"
     ]
    },
    {
     "name": "stderr",
     "output_type": "stream",
     "text": [
      "      33/60      4.29G     0.6931     0.6254      1.155         29        640: 100%|██████████| 21/21 [00:02<00:00,  7.24it/s]\n",
      "                 Class     Images  Instances      Box(P          R      mAP50  mAP50-95): 100%|██████████| 3/3 [00:00<00:00,  6.71it/s]\n"
     ]
    },
    {
     "name": "stdout",
     "output_type": "stream",
     "text": [
      "                   all        163        270      0.881      0.796      0.876      0.605\n",
      "\n",
      "      Epoch    GPU_mem   box_loss   cls_loss   dfl_loss  Instances       Size\n"
     ]
    },
    {
     "name": "stderr",
     "output_type": "stream",
     "text": [
      "      34/60      4.33G     0.7051     0.6372      1.156         29        640: 100%|██████████| 21/21 [00:02<00:00,  7.07it/s]\n",
      "                 Class     Images  Instances      Box(P          R      mAP50  mAP50-95): 100%|██████████| 3/3 [00:00<00:00,  6.83it/s]\n"
     ]
    },
    {
     "name": "stdout",
     "output_type": "stream",
     "text": [
      "                   all        163        270      0.833      0.785      0.846      0.566\n",
      "\n",
      "      Epoch    GPU_mem   box_loss   cls_loss   dfl_loss  Instances       Size\n"
     ]
    },
    {
     "name": "stderr",
     "output_type": "stream",
     "text": [
      "      35/60      4.34G      0.698     0.6259      1.135         46        640: 100%|██████████| 21/21 [00:02<00:00,  7.22it/s]\n",
      "                 Class     Images  Instances      Box(P          R      mAP50  mAP50-95): 100%|██████████| 3/3 [00:00<00:00,  6.96it/s]\n"
     ]
    },
    {
     "name": "stdout",
     "output_type": "stream",
     "text": [
      "                   all        163        270      0.837      0.774      0.859      0.597\n",
      "\n",
      "      Epoch    GPU_mem   box_loss   cls_loss   dfl_loss  Instances       Size\n"
     ]
    },
    {
     "name": "stderr",
     "output_type": "stream",
     "text": [
      "      36/60      4.29G     0.6809      0.622      1.138         29        640: 100%|██████████| 21/21 [00:02<00:00,  7.33it/s]\n",
      "                 Class     Images  Instances      Box(P          R      mAP50  mAP50-95): 100%|██████████| 3/3 [00:00<00:00,  6.96it/s]\n"
     ]
    },
    {
     "name": "stdout",
     "output_type": "stream",
     "text": [
      "                   all        163        270      0.862      0.789      0.854      0.562\n",
      "\n",
      "      Epoch    GPU_mem   box_loss   cls_loss   dfl_loss  Instances       Size\n"
     ]
    },
    {
     "name": "stderr",
     "output_type": "stream",
     "text": [
      "      37/60      4.35G     0.6534     0.5723      1.116         29        640: 100%|██████████| 21/21 [00:02<00:00,  7.30it/s]\n",
      "                 Class     Images  Instances      Box(P          R      mAP50  mAP50-95): 100%|██████████| 3/3 [00:00<00:00,  7.12it/s]\n"
     ]
    },
    {
     "name": "stdout",
     "output_type": "stream",
     "text": [
      "                   all        163        270      0.856      0.792      0.858       0.58\n",
      "\n",
      "      Epoch    GPU_mem   box_loss   cls_loss   dfl_loss  Instances       Size\n"
     ]
    },
    {
     "name": "stderr",
     "output_type": "stream",
     "text": [
      "      38/60      4.34G     0.6534     0.5898      1.129         31        640: 100%|██████████| 21/21 [00:02<00:00,  7.29it/s]\n",
      "                 Class     Images  Instances      Box(P          R      mAP50  mAP50-95): 100%|██████████| 3/3 [00:00<00:00,  6.70it/s]\n"
     ]
    },
    {
     "name": "stdout",
     "output_type": "stream",
     "text": [
      "                   all        163        270      0.872      0.744      0.861      0.589\n",
      "\n",
      "      Epoch    GPU_mem   box_loss   cls_loss   dfl_loss  Instances       Size\n"
     ]
    },
    {
     "name": "stderr",
     "output_type": "stream",
     "text": [
      "      39/60       4.3G     0.6483     0.5668      1.127         29        640: 100%|██████████| 21/21 [00:02<00:00,  7.21it/s]\n",
      "                 Class     Images  Instances      Box(P          R      mAP50  mAP50-95): 100%|██████████| 3/3 [00:00<00:00,  6.43it/s]\n"
     ]
    },
    {
     "name": "stdout",
     "output_type": "stream",
     "text": [
      "                   all        163        270      0.811      0.794       0.84      0.582\n",
      "\n",
      "      Epoch    GPU_mem   box_loss   cls_loss   dfl_loss  Instances       Size\n"
     ]
    },
    {
     "name": "stderr",
     "output_type": "stream",
     "text": [
      "      40/60      4.29G     0.6481     0.5517      1.105         35        640: 100%|██████████| 21/21 [00:02<00:00,  7.20it/s]\n",
      "                 Class     Images  Instances      Box(P          R      mAP50  mAP50-95): 100%|██████████| 3/3 [00:00<00:00,  7.24it/s]\n"
     ]
    },
    {
     "name": "stdout",
     "output_type": "stream",
     "text": [
      "                   all        163        270       0.91      0.719      0.851      0.586\n",
      "\n",
      "      Epoch    GPU_mem   box_loss   cls_loss   dfl_loss  Instances       Size\n"
     ]
    },
    {
     "name": "stderr",
     "output_type": "stream",
     "text": [
      "      41/60       4.3G     0.6513      0.578      1.123         26        640: 100%|██████████| 21/21 [00:02<00:00,  7.15it/s]\n",
      "                 Class     Images  Instances      Box(P          R      mAP50  mAP50-95): 100%|██████████| 3/3 [00:00<00:00,  6.78it/s]\n"
     ]
    },
    {
     "name": "stdout",
     "output_type": "stream",
     "text": [
      "                   all        163        270      0.843      0.767      0.852      0.584\n",
      "\n",
      "      Epoch    GPU_mem   box_loss   cls_loss   dfl_loss  Instances       Size\n"
     ]
    },
    {
     "name": "stderr",
     "output_type": "stream",
     "text": [
      "      42/60       4.3G     0.6602     0.5706      1.119         35        640: 100%|██████████| 21/21 [00:02<00:00,  7.14it/s]\n",
      "                 Class     Images  Instances      Box(P          R      mAP50  mAP50-95): 100%|██████████| 3/3 [00:00<00:00,  7.17it/s]\n"
     ]
    },
    {
     "name": "stdout",
     "output_type": "stream",
     "text": [
      "                   all        163        270      0.864        0.8      0.856      0.596\n",
      "\n",
      "      Epoch    GPU_mem   box_loss   cls_loss   dfl_loss  Instances       Size\n"
     ]
    },
    {
     "name": "stderr",
     "output_type": "stream",
     "text": [
      "      43/60       4.3G      0.633     0.5512      1.109         33        640: 100%|██████████| 21/21 [00:02<00:00,  7.21it/s]\n",
      "                 Class     Images  Instances      Box(P          R      mAP50  mAP50-95): 100%|██████████| 3/3 [00:00<00:00,  6.88it/s]\n"
     ]
    },
    {
     "name": "stdout",
     "output_type": "stream",
     "text": [
      "                   all        163        270      0.874      0.799      0.861      0.587\n",
      "\n",
      "      Epoch    GPU_mem   box_loss   cls_loss   dfl_loss  Instances       Size\n"
     ]
    },
    {
     "name": "stderr",
     "output_type": "stream",
     "text": [
      "      44/60       4.3G     0.6318     0.5568      1.112         39        640: 100%|██████████| 21/21 [00:02<00:00,  7.24it/s]\n",
      "                 Class     Images  Instances      Box(P          R      mAP50  mAP50-95): 100%|██████████| 3/3 [00:00<00:00,  7.15it/s]\n"
     ]
    },
    {
     "name": "stdout",
     "output_type": "stream",
     "text": [
      "                   all        163        270      0.871      0.774      0.864      0.602\n",
      "\n",
      "      Epoch    GPU_mem   box_loss   cls_loss   dfl_loss  Instances       Size\n"
     ]
    },
    {
     "name": "stderr",
     "output_type": "stream",
     "text": [
      "      45/60      4.29G     0.6113     0.5141      1.093         47        640: 100%|██████████| 21/21 [00:02<00:00,  7.27it/s]\n",
      "                 Class     Images  Instances      Box(P          R      mAP50  mAP50-95): 100%|██████████| 3/3 [00:00<00:00,  6.52it/s]\n"
     ]
    },
    {
     "name": "stdout",
     "output_type": "stream",
     "text": [
      "                   all        163        270      0.863      0.781      0.859      0.608\n",
      "\n",
      "      Epoch    GPU_mem   box_loss   cls_loss   dfl_loss  Instances       Size\n"
     ]
    },
    {
     "name": "stderr",
     "output_type": "stream",
     "text": [
      "      46/60      4.36G     0.6274     0.5199      1.105         29        640: 100%|██████████| 21/21 [00:02<00:00,  7.28it/s]\n",
      "                 Class     Images  Instances      Box(P          R      mAP50  mAP50-95): 100%|██████████| 3/3 [00:00<00:00,  6.97it/s]\n"
     ]
    },
    {
     "name": "stdout",
     "output_type": "stream",
     "text": [
      "                   all        163        270      0.851        0.8      0.865      0.597\n",
      "\n",
      "      Epoch    GPU_mem   box_loss   cls_loss   dfl_loss  Instances       Size\n"
     ]
    },
    {
     "name": "stderr",
     "output_type": "stream",
     "text": [
      "      47/60      4.29G     0.6089     0.5277      1.102         27        640: 100%|██████████| 21/21 [00:02<00:00,  7.11it/s]\n",
      "                 Class     Images  Instances      Box(P          R      mAP50  mAP50-95): 100%|██████████| 3/3 [00:00<00:00,  7.23it/s]\n"
     ]
    },
    {
     "name": "stdout",
     "output_type": "stream",
     "text": [
      "                   all        163        270        0.8      0.814       0.85       0.58\n",
      "\n",
      "      Epoch    GPU_mem   box_loss   cls_loss   dfl_loss  Instances       Size\n"
     ]
    },
    {
     "name": "stderr",
     "output_type": "stream",
     "text": [
      "      48/60      4.35G     0.5888     0.4979       1.09         39        640: 100%|██████████| 21/21 [00:02<00:00,  7.22it/s]\n",
      "                 Class     Images  Instances      Box(P          R      mAP50  mAP50-95): 100%|██████████| 3/3 [00:00<00:00,  7.20it/s]\n"
     ]
    },
    {
     "name": "stdout",
     "output_type": "stream",
     "text": [
      "                   all        163        270       0.84      0.811      0.878      0.613\n",
      "\n",
      "      Epoch    GPU_mem   box_loss   cls_loss   dfl_loss  Instances       Size\n"
     ]
    },
    {
     "name": "stderr",
     "output_type": "stream",
     "text": [
      "      49/60      4.29G     0.5781     0.4966      1.071         26        640: 100%|██████████| 21/21 [00:02<00:00,  7.12it/s]\n",
      "                 Class     Images  Instances      Box(P          R      mAP50  mAP50-95): 100%|██████████| 3/3 [00:00<00:00,  6.86it/s]\n"
     ]
    },
    {
     "name": "stdout",
     "output_type": "stream",
     "text": [
      "                   all        163        270      0.875      0.756      0.865      0.604\n",
      "\n",
      "      Epoch    GPU_mem   box_loss   cls_loss   dfl_loss  Instances       Size\n"
     ]
    },
    {
     "name": "stderr",
     "output_type": "stream",
     "text": [
      "      50/60      4.29G     0.6084     0.5158      1.091         34        640: 100%|██████████| 21/21 [00:02<00:00,  7.17it/s]\n",
      "                 Class     Images  Instances      Box(P          R      mAP50  mAP50-95): 100%|██████████| 3/3 [00:00<00:00,  7.33it/s]\n"
     ]
    },
    {
     "name": "stdout",
     "output_type": "stream",
     "text": [
      "                   all        163        270      0.881      0.795      0.876      0.596\n",
      "Closing dataloader mosaic\n",
      "\n",
      "      Epoch    GPU_mem   box_loss   cls_loss   dfl_loss  Instances       Size\n"
     ]
    },
    {
     "name": "stderr",
     "output_type": "stream",
     "text": [
      "      51/60      4.69G     0.5318     0.4652      1.037         11        640: 100%|██████████| 21/21 [00:03<00:00,  5.29it/s]\n",
      "                 Class     Images  Instances      Box(P          R      mAP50  mAP50-95): 100%|██████████| 3/3 [00:00<00:00,  7.12it/s]\n"
     ]
    },
    {
     "name": "stdout",
     "output_type": "stream",
     "text": [
      "                   all        163        270      0.875      0.785      0.867      0.582\n",
      "\n",
      "      Epoch    GPU_mem   box_loss   cls_loss   dfl_loss  Instances       Size\n"
     ]
    },
    {
     "name": "stderr",
     "output_type": "stream",
     "text": [
      "      52/60      4.35G     0.5056     0.4034       1.02         11        640: 100%|██████████| 21/21 [00:02<00:00,  7.50it/s]\n",
      "                 Class     Images  Instances      Box(P          R      mAP50  mAP50-95): 100%|██████████| 3/3 [00:00<00:00,  7.26it/s]\n"
     ]
    },
    {
     "name": "stdout",
     "output_type": "stream",
     "text": [
      "                   all        163        270       0.89      0.774      0.861      0.591\n",
      "\n",
      "      Epoch    GPU_mem   box_loss   cls_loss   dfl_loss  Instances       Size\n"
     ]
    },
    {
     "name": "stderr",
     "output_type": "stream",
     "text": [
      "      53/60      4.34G     0.4732     0.3863      1.001         13        640: 100%|██████████| 21/21 [00:02<00:00,  7.55it/s]\n",
      "                 Class     Images  Instances      Box(P          R      mAP50  mAP50-95): 100%|██████████| 3/3 [00:00<00:00,  7.07it/s]\n"
     ]
    },
    {
     "name": "stdout",
     "output_type": "stream",
     "text": [
      "                   all        163        270      0.886      0.815      0.874      0.607\n",
      "\n",
      "      Epoch    GPU_mem   box_loss   cls_loss   dfl_loss  Instances       Size\n"
     ]
    },
    {
     "name": "stderr",
     "output_type": "stream",
     "text": [
      "      54/60       4.3G     0.4557     0.3512     0.9761         10        640: 100%|██████████| 21/21 [00:02<00:00,  7.48it/s]\n",
      "                 Class     Images  Instances      Box(P          R      mAP50  mAP50-95): 100%|██████████| 3/3 [00:00<00:00,  6.94it/s]\n"
     ]
    },
    {
     "name": "stdout",
     "output_type": "stream",
     "text": [
      "                   all        163        270      0.861      0.802      0.875      0.605\n",
      "\n",
      "      Epoch    GPU_mem   box_loss   cls_loss   dfl_loss  Instances       Size\n"
     ]
    },
    {
     "name": "stderr",
     "output_type": "stream",
     "text": [
      "      55/60      4.29G     0.4772     0.3883      1.006         15        640: 100%|██████████| 21/21 [00:02<00:00,  7.45it/s]\n",
      "                 Class     Images  Instances      Box(P          R      mAP50  mAP50-95): 100%|██████████| 3/3 [00:00<00:00,  7.32it/s]\n"
     ]
    },
    {
     "name": "stdout",
     "output_type": "stream",
     "text": [
      "                   all        163        270       0.87      0.811       0.88      0.616\n",
      "\n",
      "      Epoch    GPU_mem   box_loss   cls_loss   dfl_loss  Instances       Size\n"
     ]
    },
    {
     "name": "stderr",
     "output_type": "stream",
     "text": [
      "      56/60       4.3G     0.4545      0.357     0.9843         12        640: 100%|██████████| 21/21 [00:02<00:00,  7.56it/s]\n",
      "                 Class     Images  Instances      Box(P          R      mAP50  mAP50-95): 100%|██████████| 3/3 [00:00<00:00,  7.30it/s]\n"
     ]
    },
    {
     "name": "stdout",
     "output_type": "stream",
     "text": [
      "                   all        163        270      0.866      0.811      0.871      0.609\n",
      "\n",
      "      Epoch    GPU_mem   box_loss   cls_loss   dfl_loss  Instances       Size\n"
     ]
    },
    {
     "name": "stderr",
     "output_type": "stream",
     "text": [
      "      57/60      4.29G     0.4569     0.3505     0.9889         24        640: 100%|██████████| 21/21 [00:02<00:00,  7.56it/s]\n",
      "                 Class     Images  Instances      Box(P          R      mAP50  mAP50-95): 100%|██████████| 3/3 [00:00<00:00,  7.16it/s]\n"
     ]
    },
    {
     "name": "stdout",
     "output_type": "stream",
     "text": [
      "                   all        163        270      0.902      0.796      0.874      0.608\n",
      "\n",
      "      Epoch    GPU_mem   box_loss   cls_loss   dfl_loss  Instances       Size\n"
     ]
    },
    {
     "name": "stderr",
     "output_type": "stream",
     "text": [
      "      58/60      4.33G     0.4429     0.3484     0.9749         16        640: 100%|██████████| 21/21 [00:02<00:00,  7.56it/s]\n",
      "                 Class     Images  Instances      Box(P          R      mAP50  mAP50-95): 100%|██████████| 3/3 [00:00<00:00,  7.23it/s]\n"
     ]
    },
    {
     "name": "stdout",
     "output_type": "stream",
     "text": [
      "                   all        163        270      0.836      0.829      0.879      0.613\n",
      "\n",
      "      Epoch    GPU_mem   box_loss   cls_loss   dfl_loss  Instances       Size\n"
     ]
    },
    {
     "name": "stderr",
     "output_type": "stream",
     "text": [
      "      59/60      4.35G     0.4402     0.3468     0.9756         14        640: 100%|██████████| 21/21 [00:02<00:00,  7.44it/s]\n",
      "                 Class     Images  Instances      Box(P          R      mAP50  mAP50-95): 100%|██████████| 3/3 [00:00<00:00,  7.17it/s]\n"
     ]
    },
    {
     "name": "stdout",
     "output_type": "stream",
     "text": [
      "                   all        163        270      0.834       0.82      0.877      0.622\n",
      "\n",
      "      Epoch    GPU_mem   box_loss   cls_loss   dfl_loss  Instances       Size\n"
     ]
    },
    {
     "name": "stderr",
     "output_type": "stream",
     "text": [
      "      60/60      4.35G     0.4209     0.3325     0.9562         10        640: 100%|██████████| 21/21 [00:02<00:00,  7.34it/s]\n",
      "                 Class     Images  Instances      Box(P          R      mAP50  mAP50-95): 100%|██████████| 3/3 [00:00<00:00,  7.00it/s]\n"
     ]
    },
    {
     "name": "stdout",
     "output_type": "stream",
     "text": [
      "                   all        163        270      0.878      0.796      0.874      0.621\n",
      "\n",
      "60 epochs completed in 0.065 hours.\n",
      "Optimizer stripped from runs/detect/train2/weights/last.pt, 6.3MB\n",
      "Optimizer stripped from runs/detect/train2/weights/best.pt, 6.3MB\n",
      "\n",
      "Validating runs/detect/train2/weights/best.pt...\n",
      "Ultralytics YOLOv8.2.28 🚀 Python-3.10.14 torch-2.3.0+cu121 CUDA:0 (NVIDIA RTX A6000, 48677MiB)\n",
      "                                                            CUDA:1 (NVIDIA RTX A6000, 48655MiB)\n",
      "Model summary (fused): 168 layers, 3005843 parameters, 0 gradients, 8.1 GFLOPs\n"
     ]
    },
    {
     "name": "stderr",
     "output_type": "stream",
     "text": [
      "/home/jrenault/mambaforge/envs/adomvi2/lib/python3.10/site-packages/torch/nn/modules/conv.py:456: UserWarning: Plan failed with a cudnnException: CUDNN_BACKEND_EXECUTION_PLAN_DESCRIPTOR: cudnnFinalize Descriptor Failed cudnn_status: CUDNN_STATUS_NOT_SUPPORTED (Triggered internally at ../aten/src/ATen/native/cudnn/Conv_v8.cpp:919.)\n",
      "  return F.conv2d(input, weight, bias, self.stride,\n",
      "                 Class     Images  Instances      Box(P          R      mAP50  mAP50-95): 100%|██████████| 3/3 [00:01<00:00,  2.85it/s]\n"
     ]
    },
    {
     "name": "stdout",
     "output_type": "stream",
     "text": [
      "                   all        163        270      0.838      0.822      0.878      0.622\n",
      "Speed: 0.1ms preprocess, 0.5ms inference, 0.0ms loss, 0.9ms postprocess per image\n",
      "Results saved to \u001b[1mruns/detect/train2\u001b[0m\n"
     ]
    }
   ],
   "source": [
    "from adomvi.yolo.yolo import train\n",
    "\n",
    "train(\"yolov8n.pt\", data=export_dir / \"dataset.yaml\", batch=64, device=[0, 1])"
   ]
  },
  {
   "cell_type": "markdown",
   "id": "93614090-c4ea-4121-8e85-b85c5d49bec5",
   "metadata": {},
   "source": [
    "## Use the fine-tuned model to predict detections"
   ]
  },
  {
   "cell_type": "markdown",
   "id": "307d024f-a83a-490f-80ff-020165dc8231",
   "metadata": {},
   "source": [
    "Once our model is trained, we can simply use it to predict detections on our test dataset. Simply pass the path to the best model weights and the directory containing the test images to the `predict` function."
   ]
  },
  {
   "cell_type": "code",
   "execution_count": 21,
   "id": "712aefbd-757a-4184-8de6-4203a517f794",
   "metadata": {},
   "outputs": [
    {
     "name": "stdout",
     "output_type": "stream",
     "text": [
      "\n",
      "image 1/162 /home/jrenault/workspace/adomvi2/notebooks/vehicles/images/test/00b7dfa6afa343d0.jpg: 448x640 2 tanks, 94.0ms\n",
      "image 2/162 /home/jrenault/workspace/adomvi2/notebooks/vehicles/images/test/01c1bff29e25b149.jpg: 320x640 2 tanks, 79.6ms\n",
      "image 3/162 /home/jrenault/workspace/adomvi2/notebooks/vehicles/images/test/01daecbf2075b822.jpg: 480x640 2 tanks, 76.7ms\n",
      "image 4/162 /home/jrenault/workspace/adomvi2/notebooks/vehicles/images/test/02107dd3edbda262.jpg: 320x640 1 tank, 4.8ms\n",
      "image 5/162 /home/jrenault/workspace/adomvi2/notebooks/vehicles/images/test/025457c66e740c30.jpg: 448x640 2 tanks, 4.8ms\n",
      "image 6/162 /home/jrenault/workspace/adomvi2/notebooks/vehicles/images/test/0491d10c8cd6074e.jpg: 416x640 2 tanks, 78.9ms\n",
      "image 7/162 /home/jrenault/workspace/adomvi2/notebooks/vehicles/images/test/04bd9760ccbd1679.jpg: 512x640 1 tank, 78.6ms\n",
      "image 8/162 /home/jrenault/workspace/adomvi2/notebooks/vehicles/images/test/058a1600af2c8512.jpg: 640x480 1 tank, 9.8ms\n",
      "image 9/162 /home/jrenault/workspace/adomvi2/notebooks/vehicles/images/test/05bd7b3541af1488.jpg: 480x640 1 tank, 4.8ms\n",
      "image 10/162 /home/jrenault/workspace/adomvi2/notebooks/vehicles/images/test/05eca353a98e6e49.jpg: 448x640 3 tanks, 4.7ms\n",
      "image 11/162 /home/jrenault/workspace/adomvi2/notebooks/vehicles/images/test/06a59e199abc5a32.jpg: 480x640 1 tank, 4.6ms\n",
      "image 12/162 /home/jrenault/workspace/adomvi2/notebooks/vehicles/images/test/079050186a1b03a8.jpg: 384x640 1 tank, 79.1ms\n",
      "image 13/162 /home/jrenault/workspace/adomvi2/notebooks/vehicles/images/test/08b6aeea096bcf53.jpg: 448x640 1 tank, 4.7ms\n",
      "image 14/162 /home/jrenault/workspace/adomvi2/notebooks/vehicles/images/test/099169acb6e8b3c8.jpg: 640x416 5 tanks, 77.0ms\n",
      "image 15/162 /home/jrenault/workspace/adomvi2/notebooks/vehicles/images/test/09d3a7b32cb8d588.jpg: 480x640 5 tanks, 4.9ms\n",
      "image 16/162 /home/jrenault/workspace/adomvi2/notebooks/vehicles/images/test/0a342c215d3fc793.jpg: 480x640 2 tanks, 4.3ms\n",
      "image 17/162 /home/jrenault/workspace/adomvi2/notebooks/vehicles/images/test/0af4d66572273aaf.jpg: 384x640 1 tank, 8.3ms\n",
      "image 18/162 /home/jrenault/workspace/adomvi2/notebooks/vehicles/images/test/0ba4990e6918e146.jpg: 448x640 2 tanks, 4.7ms\n",
      "image 19/162 /home/jrenault/workspace/adomvi2/notebooks/vehicles/images/test/0bebe26b45959b0a.jpg: 480x640 1 tank, 4.7ms\n",
      "image 20/162 /home/jrenault/workspace/adomvi2/notebooks/vehicles/images/test/0cab44cde9def954.jpg: 448x640 1 tank, 4.6ms\n",
      "image 21/162 /home/jrenault/workspace/adomvi2/notebooks/vehicles/images/test/0e2f864074ae5d9d.jpg: 448x640 1 tank, 7.5ms\n",
      "image 22/162 /home/jrenault/workspace/adomvi2/notebooks/vehicles/images/test/0ed877b0063dafc0.jpg: 384x640 2 tanks, 4.6ms\n",
      "image 23/162 /home/jrenault/workspace/adomvi2/notebooks/vehicles/images/test/0f22f3af31263255.jpg: 480x640 5 tanks, 4.7ms\n",
      "image 24/162 /home/jrenault/workspace/adomvi2/notebooks/vehicles/images/test/10821e28720e9d9a.jpg: 384x640 2 tanks, 4.6ms\n",
      "image 25/162 /home/jrenault/workspace/adomvi2/notebooks/vehicles/images/test/1090d7962fabe936.jpg: 480x640 1 tank, 4.6ms\n",
      "image 26/162 /home/jrenault/workspace/adomvi2/notebooks/vehicles/images/test/10be5edf863db0c1.jpg: 256x640 4 tanks, 80.7ms\n",
      "image 27/162 /home/jrenault/workspace/adomvi2/notebooks/vehicles/images/test/110e6b5a61120a4d.jpg: 640x384 3 tanks, 76.8ms\n",
      "image 28/162 /home/jrenault/workspace/adomvi2/notebooks/vehicles/images/test/11e4261170ec0f60.jpg: 416x640 1 tank, 4.8ms\n",
      "image 29/162 /home/jrenault/workspace/adomvi2/notebooks/vehicles/images/test/13ad4c70d41eee2d.jpg: 448x640 2 tanks, 4.8ms\n",
      "image 30/162 /home/jrenault/workspace/adomvi2/notebooks/vehicles/images/test/14769a0cc3cb42d7.jpg: 480x640 1 tank, 4.7ms\n",
      "image 31/162 /home/jrenault/workspace/adomvi2/notebooks/vehicles/images/test/16b44a07ef15a59e.jpg: 448x640 1 tank, 4.6ms\n",
      "image 32/162 /home/jrenault/workspace/adomvi2/notebooks/vehicles/images/test/16f397b1b3fab669.jpg: 448x640 3 tanks, 4.4ms\n",
      "image 33/162 /home/jrenault/workspace/adomvi2/notebooks/vehicles/images/test/191feb71272487c3.jpg: 448x640 1 tank, 4.3ms\n",
      "image 34/162 /home/jrenault/workspace/adomvi2/notebooks/vehicles/images/test/19b0a4ea5f0e0a8c.jpg: 448x640 2 tanks, 4.2ms\n",
      "image 35/162 /home/jrenault/workspace/adomvi2/notebooks/vehicles/images/test/1b8f2bb0acf72b47.jpg: 480x640 1 tank, 4.7ms\n",
      "image 36/162 /home/jrenault/workspace/adomvi2/notebooks/vehicles/images/test/1bee8d794f370590.jpg: 352x640 1 tank, 79.8ms\n",
      "image 37/162 /home/jrenault/workspace/adomvi2/notebooks/vehicles/images/test/1e2128c01814c72a.jpg: 448x640 2 tanks, 4.9ms\n",
      "image 38/162 /home/jrenault/workspace/adomvi2/notebooks/vehicles/images/test/1e5e6ef4a2a05366.jpg: 480x640 2 tanks, 7.7ms\n",
      "image 39/162 /home/jrenault/workspace/adomvi2/notebooks/vehicles/images/test/226992b8e7487567.jpg: 480x640 1 tank, 4.2ms\n",
      "image 40/162 /home/jrenault/workspace/adomvi2/notebooks/vehicles/images/test/2658503ef36b54bc.jpg: 448x640 1 tank, 4.6ms\n",
      "image 41/162 /home/jrenault/workspace/adomvi2/notebooks/vehicles/images/test/2da1623201c3c88c.jpg: 448x640 5 tanks, 4.2ms\n",
      "image 42/162 /home/jrenault/workspace/adomvi2/notebooks/vehicles/images/test/2ebd6c5a3e63046f.jpg: 416x640 1 tank, 9.0ms\n",
      "image 43/162 /home/jrenault/workspace/adomvi2/notebooks/vehicles/images/test/2ff4fd318cca3084.jpg: 448x640 1 tank, 5.0ms\n",
      "image 44/162 /home/jrenault/workspace/adomvi2/notebooks/vehicles/images/test/3854e8238640cc4c.jpg: 448x640 1 tank, 4.2ms\n",
      "image 45/162 /home/jrenault/workspace/adomvi2/notebooks/vehicles/images/test/3daa3ea2208f8424.jpg: 416x640 1 tank, 4.6ms\n",
      "image 46/162 /home/jrenault/workspace/adomvi2/notebooks/vehicles/images/test/40329e2829c196dc.jpg: 448x640 1 tank, 4.5ms\n",
      "image 47/162 /home/jrenault/workspace/adomvi2/notebooks/vehicles/images/test/462fe380a11a230f.jpg: 480x640 (no detections), 4.6ms\n",
      "image 48/162 /home/jrenault/workspace/adomvi2/notebooks/vehicles/images/test/47024cb413fffafa.jpg: 448x640 2 tanks, 4.5ms\n",
      "image 49/162 /home/jrenault/workspace/adomvi2/notebooks/vehicles/images/test/473d8a48d680ead6.jpg: 480x640 1 tank, 4.5ms\n",
      "image 50/162 /home/jrenault/workspace/adomvi2/notebooks/vehicles/images/test/4c019fc564098de4.jpg: 480x640 1 tank, 4.3ms\n",
      "image 51/162 /home/jrenault/workspace/adomvi2/notebooks/vehicles/images/test/4f382d56f4fce2af.jpg: 448x640 1 tank, 4.5ms\n",
      "image 52/162 /home/jrenault/workspace/adomvi2/notebooks/vehicles/images/test/4f623f39945c22e6.jpg: 448x640 1 tank, 4.1ms\n",
      "image 53/162 /home/jrenault/workspace/adomvi2/notebooks/vehicles/images/test/50ed5bef312b40d1.jpg: 384x640 2 tanks, 4.5ms\n",
      "image 54/162 /home/jrenault/workspace/adomvi2/notebooks/vehicles/images/test/5103792c45f97a88.jpg: 448x640 2 tanks, 4.6ms\n",
      "image 55/162 /home/jrenault/workspace/adomvi2/notebooks/vehicles/images/test/5227c39dc8c26c8b.jpg: 448x640 1 tank, 6.0ms\n",
      "image 56/162 /home/jrenault/workspace/adomvi2/notebooks/vehicles/images/test/5351961e377f06db.jpg: 448x640 1 tank, 5.8ms\n",
      "image 57/162 /home/jrenault/workspace/adomvi2/notebooks/vehicles/images/test/5568baffb6280b92.jpg: 480x640 3 tanks, 6.9ms\n",
      "image 58/162 /home/jrenault/workspace/adomvi2/notebooks/vehicles/images/test/57d969b962c7c5bb.jpg: 448x640 1 tank, 5.0ms\n",
      "image 59/162 /home/jrenault/workspace/adomvi2/notebooks/vehicles/images/test/5d7491ca3d9554af.jpg: 512x640 1 tank, 4.7ms\n",
      "image 60/162 /home/jrenault/workspace/adomvi2/notebooks/vehicles/images/test/5f24155aa9cc824f.jpg: 448x640 1 tank, 4.6ms\n",
      "image 61/162 /home/jrenault/workspace/adomvi2/notebooks/vehicles/images/test/60b8ebd84d2b3a4c.jpg: 448x640 2 tanks, 4.2ms\n",
      "image 62/162 /home/jrenault/workspace/adomvi2/notebooks/vehicles/images/test/6341f1527cd598dc.jpg: 480x640 1 tank, 4.7ms\n",
      "image 63/162 /home/jrenault/workspace/adomvi2/notebooks/vehicles/images/test/63c3b017674d1d8c.jpg: 448x640 1 tank, 4.7ms\n",
      "image 64/162 /home/jrenault/workspace/adomvi2/notebooks/vehicles/images/test/6991d6ef5645f401.jpg: 480x640 1 tank, 4.6ms\n",
      "image 65/162 /home/jrenault/workspace/adomvi2/notebooks/vehicles/images/test/6d7b9b74bacc0f95.jpg: 608x640 2 tanks, 79.5ms\n",
      "image 66/162 /home/jrenault/workspace/adomvi2/notebooks/vehicles/images/test/7012b13b53272e04.jpg: 416x640 2 tanks, 5.5ms\n",
      "image 67/162 /home/jrenault/workspace/adomvi2/notebooks/vehicles/images/test/702c178b624f7d31.jpg: 448x640 1 tank, 4.8ms\n",
      "image 68/162 /home/jrenault/workspace/adomvi2/notebooks/vehicles/images/test/7af61c4287024344.jpg: 448x640 1 tank, 4.3ms\n",
      "image 69/162 /home/jrenault/workspace/adomvi2/notebooks/vehicles/images/test/7f224131d6a25d69.jpg: 352x640 1 tank, 4.7ms\n",
      "image 70/162 /home/jrenault/workspace/adomvi2/notebooks/vehicles/images/test/87661fa0ab5c507a.jpg: 384x640 1 tank, 4.6ms\n",
      "image 71/162 /home/jrenault/workspace/adomvi2/notebooks/vehicles/images/test/87707a7cb814cb2e.jpg: 448x640 1 tank, 4.6ms\n",
      "image 72/162 /home/jrenault/workspace/adomvi2/notebooks/vehicles/images/test/891cc3c81863758f.jpg: 640x512 1 tank, 77.5ms\n",
      "image 73/162 /home/jrenault/workspace/adomvi2/notebooks/vehicles/images/test/8b10a4896215d56e.jpg: 512x640 1 tank, 4.8ms\n",
      "image 74/162 /home/jrenault/workspace/adomvi2/notebooks/vehicles/images/test/8bec5f2dbfea2ca2.jpg: 512x640 1 tank, 4.3ms\n",
      "image 75/162 /home/jrenault/workspace/adomvi2/notebooks/vehicles/images/test/8db139f2a21d7450.jpg: 480x640 1 tank, 4.7ms\n",
      "image 76/162 /home/jrenault/workspace/adomvi2/notebooks/vehicles/images/test/8df6f6fcc04b6a06.jpg: 512x640 3 tanks, 4.7ms\n",
      "image 77/162 /home/jrenault/workspace/adomvi2/notebooks/vehicles/images/test/8fd8f8f962f40943.jpg: 448x640 2 tanks, 4.6ms\n",
      "image 78/162 /home/jrenault/workspace/adomvi2/notebooks/vehicles/images/test/9105cdaed29fce86.jpg: 640x544 3 tanks, 78.8ms\n",
      "image 79/162 /home/jrenault/workspace/adomvi2/notebooks/vehicles/images/test/96c62798db147da6.jpg: 480x640 2 tanks, 8.7ms\n",
      "image 80/162 /home/jrenault/workspace/adomvi2/notebooks/vehicles/images/test/97192631bbb850ff.jpg: 448x640 2 tanks, 5.6ms\n",
      "image 81/162 /home/jrenault/workspace/adomvi2/notebooks/vehicles/images/test/988707c5783689ce.jpg: 448x640 2 tanks, 4.3ms\n",
      "image 82/162 /home/jrenault/workspace/adomvi2/notebooks/vehicles/images/test/996f145d48b7e093.jpg: 448x640 1 tank, 4.2ms\n",
      "image 83/162 /home/jrenault/workspace/adomvi2/notebooks/vehicles/images/test/9ca4d9bab41649d3.jpg: 480x640 1 tank, 4.7ms\n",
      "image 84/162 /home/jrenault/workspace/adomvi2/notebooks/vehicles/images/test/9d4fcd6e80cea6eb.jpg: 512x640 1 tank, 4.8ms\n",
      "image 85/162 /home/jrenault/workspace/adomvi2/notebooks/vehicles/images/test/9e4a1642c6349d3e.jpg: 448x640 2 tanks, 9.3ms\n",
      "image 86/162 /home/jrenault/workspace/adomvi2/notebooks/vehicles/images/test/a2f3c2ba48af6b39.jpg: 512x640 (no detections), 6.2ms\n",
      "image 87/162 /home/jrenault/workspace/adomvi2/notebooks/vehicles/images/test/a5eda58dc35edbcd.jpg: 448x640 1 tank, 4.6ms\n",
      "image 88/162 /home/jrenault/workspace/adomvi2/notebooks/vehicles/images/test/a7e32f0a16b0655a.jpg: 480x640 1 tank, 6.6ms\n",
      "image 89/162 /home/jrenault/workspace/adomvi2/notebooks/vehicles/images/test/a81d57b0fcd14835.jpg: 480x640 1 tank, 4.3ms\n",
      "image 90/162 /home/jrenault/workspace/adomvi2/notebooks/vehicles/images/test/a9715e9112ad53c7.jpg: 448x640 2 tanks, 4.6ms\n",
      "image 91/162 /home/jrenault/workspace/adomvi2/notebooks/vehicles/images/test/af6f7af58edd9b00.jpg: 480x640 1 tank, 4.6ms\n",
      "image 92/162 /home/jrenault/workspace/adomvi2/notebooks/vehicles/images/test/b0ab66c440cfb524.jpg: 480x640 1 tank, 4.2ms\n",
      "image 93/162 /home/jrenault/workspace/adomvi2/notebooks/vehicles/images/test/b515f23366c98cbe.jpg: 448x640 1 tank, 4.6ms\n",
      "image 94/162 /home/jrenault/workspace/adomvi2/notebooks/vehicles/images/test/b6245d0b4e923667.jpg: 448x640 1 tank, 4.2ms\n",
      "image 95/162 /home/jrenault/workspace/adomvi2/notebooks/vehicles/images/test/b85d846dbc861d1c.jpg: 448x640 2 tanks, 4.1ms\n",
      "image 96/162 /home/jrenault/workspace/adomvi2/notebooks/vehicles/images/test/b9ab81923788f533.jpg: 480x640 1 tank, 4.6ms\n",
      "image 97/162 /home/jrenault/workspace/adomvi2/notebooks/vehicles/images/test/ba1746f2ff9df158.jpg: 448x640 1 tank, 9.1ms\n",
      "image 98/162 /home/jrenault/workspace/adomvi2/notebooks/vehicles/images/test/baa70b9defe6332c.jpg: 448x640 5 tanks, 4.7ms\n",
      "image 99/162 /home/jrenault/workspace/adomvi2/notebooks/vehicles/images/test/baf4601e24e6b539.jpg: 480x640 1 tank, 4.7ms\n",
      "image 100/162 /home/jrenault/workspace/adomvi2/notebooks/vehicles/images/test/c498e89efc017a7a.jpg: 256x640 1 tank, 4.6ms\n",
      "image 101/162 /home/jrenault/workspace/adomvi2/notebooks/vehicles/images/test/c57080dd5950a2b0.jpg: 448x640 1 tank, 4.6ms\n",
      "image 102/162 /home/jrenault/workspace/adomvi2/notebooks/vehicles/images/test/c5af9149a2d42ffb.jpg: 544x640 1 tank, 85.8ms\n",
      "image 103/162 /home/jrenault/workspace/adomvi2/notebooks/vehicles/images/test/c5b7ff57ddb6fc99.jpg: 480x640 2 tanks, 4.9ms\n",
      "image 104/162 /home/jrenault/workspace/adomvi2/notebooks/vehicles/images/test/c76e55edf13f490a.jpg: 512x640 1 tank, 8.8ms\n",
      "image 105/162 /home/jrenault/workspace/adomvi2/notebooks/vehicles/images/test/c850b67dfab4f4ba.jpg: 448x640 1 tank, 4.7ms\n",
      "image 106/162 /home/jrenault/workspace/adomvi2/notebooks/vehicles/images/test/c8ff6afce1d3bac1.jpg: 640x448 1 tank, 82.8ms\n",
      "image 107/162 /home/jrenault/workspace/adomvi2/notebooks/vehicles/images/test/c9ec966646e60da4.jpg: 416x640 1 tank, 4.8ms\n",
      "image 108/162 /home/jrenault/workspace/adomvi2/notebooks/vehicles/images/test/cda78f584cae6394.jpg: 448x640 2 tanks, 4.8ms\n",
      "image 109/162 /home/jrenault/workspace/adomvi2/notebooks/vehicles/images/test/d17775017cae458d.jpg: 448x640 1 tank, 4.3ms\n",
      "image 110/162 /home/jrenault/workspace/adomvi2/notebooks/vehicles/images/test/d4d9d34959345882.jpg: 256x640 4 tanks, 4.7ms\n",
      "image 111/162 /home/jrenault/workspace/adomvi2/notebooks/vehicles/images/test/d86ddb1ba7a75022.jpg: 480x640 2 tanks, 4.7ms\n",
      "image 112/162 /home/jrenault/workspace/adomvi2/notebooks/vehicles/images/test/d996a0e74060e22c.jpg: 512x640 1 tank, 4.9ms\n",
      "image 113/162 /home/jrenault/workspace/adomvi2/notebooks/vehicles/images/test/dc751709d815e565.jpg: 448x640 3 tanks, 10.2ms\n",
      "image 114/162 /home/jrenault/workspace/adomvi2/notebooks/vehicles/images/test/dd217ebd2e6c9a90.jpg: 448x640 3 tanks, 4.3ms\n",
      "image 115/162 /home/jrenault/workspace/adomvi2/notebooks/vehicles/images/test/df7f3b22c3a495dc.jpg: 448x640 2 tanks, 4.2ms\n",
      "image 116/162 /home/jrenault/workspace/adomvi2/notebooks/vehicles/images/test/e8e4eaf722e2d5e7.jpg: 480x640 1 tank, 4.7ms\n",
      "image 117/162 /home/jrenault/workspace/adomvi2/notebooks/vehicles/images/test/ea794dfed271a266.jpg: 384x640 1 tank, 9.9ms\n",
      "image 118/162 /home/jrenault/workspace/adomvi2/notebooks/vehicles/images/test/ebbf1cb5266bf5f0.jpg: 480x640 2 tanks, 7.1ms\n",
      "image 119/162 /home/jrenault/workspace/adomvi2/notebooks/vehicles/images/test/ed2c4449542711cb.jpg: 480x640 2 tanks, 10.1ms\n",
      "image 120/162 /home/jrenault/workspace/adomvi2/notebooks/vehicles/images/test/ed6345db8a44788c.jpg: 448x640 1 tank, 6.2ms\n",
      "image 121/162 /home/jrenault/workspace/adomvi2/notebooks/vehicles/images/test/f17b26e54271dedf.jpg: 416x640 (no detections), 4.6ms\n",
      "image 122/162 /home/jrenault/workspace/adomvi2/notebooks/vehicles/images/test/f20748e1ce20bc76.jpg: 480x640 2 tanks, 4.5ms\n",
      "image 123/162 /home/jrenault/workspace/adomvi2/notebooks/vehicles/images/test/f218e0f59e80f44f.jpg: 448x640 1 tank, 4.6ms\n",
      "image 124/162 /home/jrenault/workspace/adomvi2/notebooks/vehicles/images/test/f54a45b601664cd8.jpg: 480x640 1 tank, 4.6ms\n",
      "image 125/162 /home/jrenault/workspace/adomvi2/notebooks/vehicles/images/test/f57d7f62ed0f2e7c.jpg: 480x640 2 tanks, 4.2ms\n",
      "image 126/162 /home/jrenault/workspace/adomvi2/notebooks/vehicles/images/test/f7b0466e7bf52715.jpg: 416x640 (no detections), 10.3ms\n",
      "image 127/162 /home/jrenault/workspace/adomvi2/notebooks/vehicles/images/test/f7d64418696de09c.jpg: 448x640 1 tank, 5.7ms\n",
      "image 128/162 /home/jrenault/workspace/adomvi2/notebooks/vehicles/images/test/f8b574ab75a36aa7.jpg: 448x640 1 tank, 4.2ms\n",
      "image 129/162 /home/jrenault/workspace/adomvi2/notebooks/vehicles/images/test/fcdb09a14ba99c66.jpg: 448x640 1 tank, 4.3ms\n",
      "image 130/162 /home/jrenault/workspace/adomvi2/notebooks/vehicles/images/test/n04389033_10251.JPEG: 480x640 1 tank, 6.6ms\n",
      "image 131/162 /home/jrenault/workspace/adomvi2/notebooks/vehicles/images/test/n04389033_11764.JPEG: 480x640 1 tank, 4.2ms\n",
      "image 132/162 /home/jrenault/workspace/adomvi2/notebooks/vehicles/images/test/n04389033_14789.JPEG: 480x640 1 tank, 4.1ms\n",
      "image 133/162 /home/jrenault/workspace/adomvi2/notebooks/vehicles/images/test/n04389033_14995.JPEG: 480x640 1 tank, 4.1ms\n",
      "image 134/162 /home/jrenault/workspace/adomvi2/notebooks/vehicles/images/test/n04389033_15226.JPEG: 640x448 1 tank, 4.5ms\n",
      "image 135/162 /home/jrenault/workspace/adomvi2/notebooks/vehicles/images/test/n04389033_15926.JPEG: 512x640 1 tank, 4.5ms\n",
      "image 136/162 /home/jrenault/workspace/adomvi2/notebooks/vehicles/images/test/n04389033_16581.JPEG: 320x640 1 tank, 4.5ms\n",
      "image 137/162 /home/jrenault/workspace/adomvi2/notebooks/vehicles/images/test/n04389033_19316.JPEG: 480x640 1 tank, 9.8ms\n",
      "image 138/162 /home/jrenault/workspace/adomvi2/notebooks/vehicles/images/test/n04389033_19633.JPEG: 480x640 3 tanks, 8.0ms\n",
      "image 139/162 /home/jrenault/workspace/adomvi2/notebooks/vehicles/images/test/n04389033_20134.JPEG: 512x640 1 tank, 5.2ms\n",
      "image 140/162 /home/jrenault/workspace/adomvi2/notebooks/vehicles/images/test/n04389033_21280.JPEG: 480x640 2 tanks, 4.4ms\n",
      "image 141/162 /home/jrenault/workspace/adomvi2/notebooks/vehicles/images/test/n04389033_21384.JPEG: 448x640 1 tank, 4.5ms\n",
      "image 142/162 /home/jrenault/workspace/adomvi2/notebooks/vehicles/images/test/n04389033_22138.JPEG: 448x640 1 tank, 4.0ms\n",
      "image 143/162 /home/jrenault/workspace/adomvi2/notebooks/vehicles/images/test/n04389033_23112.JPEG: 416x640 1 tank, 4.5ms\n",
      "image 144/162 /home/jrenault/workspace/adomvi2/notebooks/vehicles/images/test/n04389033_24271.JPEG: 448x640 2 tanks, 4.5ms\n",
      "image 145/162 /home/jrenault/workspace/adomvi2/notebooks/vehicles/images/test/n04389033_27796.JPEG: 480x640 1 tank, 4.5ms\n",
      "image 146/162 /home/jrenault/workspace/adomvi2/notebooks/vehicles/images/test/n04389033_2941.JPEG: 448x640 1 tank, 4.4ms\n",
      "image 147/162 /home/jrenault/workspace/adomvi2/notebooks/vehicles/images/test/n04389033_29587.JPEG: 448x640 1 tank, 4.0ms\n",
      "image 148/162 /home/jrenault/workspace/adomvi2/notebooks/vehicles/images/test/n04389033_29601.JPEG: 480x640 1 tank, 4.6ms\n",
      "image 149/162 /home/jrenault/workspace/adomvi2/notebooks/vehicles/images/test/n04389033_3027.JPEG: 448x640 1 tank, 4.5ms\n",
      "image 150/162 /home/jrenault/workspace/adomvi2/notebooks/vehicles/images/test/n04389033_32488.JPEG: 480x640 1 tank, 4.5ms\n",
      "image 151/162 /home/jrenault/workspace/adomvi2/notebooks/vehicles/images/test/n04389033_4049.JPEG: 640x448 1 tank, 4.5ms\n",
      "image 152/162 /home/jrenault/workspace/adomvi2/notebooks/vehicles/images/test/n04389033_4269.JPEG: 480x640 1 tank, 4.5ms\n",
      "image 153/162 /home/jrenault/workspace/adomvi2/notebooks/vehicles/images/test/n04389033_4394.JPEG: 448x640 1 tank, 4.5ms\n",
      "image 154/162 /home/jrenault/workspace/adomvi2/notebooks/vehicles/images/test/n04389033_5663.JPEG: 448x640 1 tank, 11.1ms\n",
      "image 155/162 /home/jrenault/workspace/adomvi2/notebooks/vehicles/images/test/n04389033_628.JPEG: 416x640 1 tank, 6.3ms\n",
      "image 156/162 /home/jrenault/workspace/adomvi2/notebooks/vehicles/images/test/n04389033_656.JPEG: 640x480 1 tank, 4.5ms\n",
      "image 157/162 /home/jrenault/workspace/adomvi2/notebooks/vehicles/images/test/n04389033_691.JPEG: 480x640 1 tank, 4.6ms\n",
      "image 158/162 /home/jrenault/workspace/adomvi2/notebooks/vehicles/images/test/n04389033_7506.JPEG: 640x512 1 tank, 4.7ms\n",
      "image 159/162 /home/jrenault/workspace/adomvi2/notebooks/vehicles/images/test/n04389033_8072.JPEG: 480x640 2 tanks, 4.6ms\n",
      "image 160/162 /home/jrenault/workspace/adomvi2/notebooks/vehicles/images/test/n04389033_8272.JPEG: 512x640 1 tank, 4.7ms\n",
      "image 161/162 /home/jrenault/workspace/adomvi2/notebooks/vehicles/images/test/n04389033_9144.JPEG: 480x640 1 tank, 10.7ms\n",
      "image 162/162 /home/jrenault/workspace/adomvi2/notebooks/vehicles/images/test/n04389033_9404.JPEG: 480x640 1 tank, 6.2ms\n",
      "Speed: 1.6ms preprocess, 12.2ms inference, 0.9ms postprocess per image at shape (1, 3, 480, 640)\n",
      "Results saved to \u001b[1mruns/detect/predict\u001b[0m\n",
      "158 labels saved to runs/detect/predict/labels\n"
     ]
    }
   ],
   "source": [
    "from pathlib import Path\n",
    "from adomvi.yolo.yolo import predict\n",
    "\n",
    "best_model = Path() / \"runs/detect/train/weights/best.pt\"\n",
    "results = predict(best_model, source=export_dir / \"images/test\")"
   ]
  },
  {
   "cell_type": "markdown",
   "id": "71ef120f-376b-4218-ba8b-fdb5baad96c2",
   "metadata": {},
   "source": [
    "## Evaluate model predictions"
   ]
  },
  {
   "cell_type": "markdown",
   "id": "a9c3470a-653b-4552-a750-90238b94039e",
   "metadata": {},
   "source": [
    "We can first evaluate our model by loading the predictions in a Fiftyone dataset view of our test data. We select the images tagged as part of the test set in our dataset."
   ]
  },
  {
   "cell_type": "code",
   "execution_count": 22,
   "id": "0d17c385-0934-41d4-952c-d25364780bbc",
   "metadata": {},
   "outputs": [],
   "source": [
    "# The test split of the dataset\n",
    "test_view = dataset.match_tags(\"test\")"
   ]
  },
  {
   "cell_type": "markdown",
   "id": "20ccadc7-987c-4aff-91ec-d44da3370dde",
   "metadata": {},
   "source": [
    "Then we can load the model predictions as fields of the images in our test view."
   ]
  },
  {
   "cell_type": "code",
   "execution_count": 23,
   "id": "5ebffeaa-46b3-4f96-8e5b-db0531e8d6f8",
   "metadata": {},
   "outputs": [],
   "source": [
    "from pathlib import Path\n",
    "from adomvi.yolo.utils import add_yolo_detections\n",
    "\n",
    "prediction_field = \"yolov8\"\n",
    "predictions_dir = Path() / \"runs/detect/predict/labels\"\n",
    "add_yolo_detections(test_view, prediction_field=prediction_field, predictions_dir=predictions_dir, class_list=[\"tank\"])"
   ]
  },
  {
   "cell_type": "markdown",
   "id": "08a6c727-fc8a-46f8-aef0-613ff77d7cc4",
   "metadata": {},
   "source": [
    "Now we can visualize these YOLOv8 model predictions on the samples in our dataset in the FiftyOne app:"
   ]
  },
  {
   "cell_type": "code",
   "execution_count": 24,
   "id": "5c0da62f-30e6-4abf-a33b-68923ae40175",
   "metadata": {},
   "outputs": [
    {
     "data": {
      "application/javascript": [
       "window.open('http://localhost:5151/');"
      ],
      "text/plain": [
       "<IPython.core.display.Javascript object>"
      ]
     },
     "metadata": {},
     "output_type": "display_data"
    }
   ],
   "source": [
    "session.open_tab()"
   ]
  },
  {
   "cell_type": "markdown",
   "id": "c06d3a9f-aabe-43a5-b264-c0d935194b0e",
   "metadata": {},
   "source": [
    "Finally, we can evaluate our model's predictions and print the mAP."
   ]
  },
  {
   "cell_type": "code",
   "execution_count": 25,
   "id": "f04724f1-42ff-424c-bc65-b8b7f76d097c",
   "metadata": {},
   "outputs": [
    {
     "name": "stdout",
     "output_type": "stream",
     "text": [
      "Evaluating detections...\n"
     ]
    },
    {
     "name": "stderr",
     "output_type": "stream",
     "text": [
      "INFO:fiftyone.utils.eval.detection:Evaluating detections...\n"
     ]
    },
    {
     "name": "stdout",
     "output_type": "stream",
     "text": []
    },
    {
     "name": "stdout",
     "output_type": "stream",
     "text": [
      " 100% |█████████████████| 162/162 [399.3ms elapsed, 0s remaining, 405.7 samples/s]      \n"
     ]
    },
    {
     "name": "stderr",
     "output_type": "stream",
     "text": [
      "INFO:eta.core.utils: 100% |█████████████████| 162/162 [399.3ms elapsed, 0s remaining, 405.7 samples/s]      \n"
     ]
    },
    {
     "name": "stdout",
     "output_type": "stream",
     "text": [
      "Performing IoU sweep...\n"
     ]
    },
    {
     "name": "stderr",
     "output_type": "stream",
     "text": [
      "INFO:fiftyone.utils.eval.coco:Performing IoU sweep...\n"
     ]
    },
    {
     "name": "stdout",
     "output_type": "stream",
     "text": []
    },
    {
     "name": "stdout",
     "output_type": "stream",
     "text": [
      " 100% |█████████████████| 162/162 [544.8ms elapsed, 0s remaining, 297.3 samples/s]      \n"
     ]
    },
    {
     "name": "stderr",
     "output_type": "stream",
     "text": [
      "INFO:eta.core.utils: 100% |█████████████████| 162/162 [544.8ms elapsed, 0s remaining, 297.3 samples/s]      \n"
     ]
    }
   ],
   "source": [
    "detection_results = test_view.evaluate_detections(\n",
    "    prediction_field, \n",
    "    eval_key=\"eval\",\n",
    "    compute_mAP=True,\n",
    "    gt_field=\"ground_truth\",\n",
    ")"
   ]
  },
  {
   "cell_type": "code",
   "execution_count": 26,
   "id": "ba9326b5-b4fc-49d9-96ff-a21293e8bd86",
   "metadata": {},
   "outputs": [
    {
     "name": "stdout",
     "output_type": "stream",
     "text": [
      "mAP = 0.024179203385314738\n"
     ]
    }
   ],
   "source": [
    "mAP = detection_results.mAP()\n",
    "print(f\"mAP = {mAP}\")"
   ]
  },
  {
   "cell_type": "code",
   "execution_count": 27,
   "id": "6818e918-1a61-4ac7-a403-e1e59b3fe9d4",
   "metadata": {},
   "outputs": [
    {
     "name": "stdout",
     "output_type": "stream",
     "text": [
      "              precision    recall  f1-score   support\n",
      "\n",
      "        tank       0.22      0.24      0.23       220\n",
      "\n",
      "   micro avg       0.22      0.24      0.23       220\n",
      "   macro avg       0.22      0.24      0.23       220\n",
      "weighted avg       0.22      0.24      0.23       220\n",
      "\n"
     ]
    }
   ],
   "source": [
    "detection_results.print_report()"
   ]
  },
  {
   "cell_type": "code",
   "execution_count": null,
   "id": "008583b5-5ff9-4fce-8e51-bd9ac8583c32",
   "metadata": {},
   "outputs": [],
   "source": []
  }
 ],
 "metadata": {
  "kernelspec": {
   "display_name": "Python 3 (ipykernel)",
   "language": "python",
   "name": "python3"
  },
  "language_info": {
   "codemirror_mode": {
    "name": "ipython",
    "version": 3
   },
   "file_extension": ".py",
   "mimetype": "text/x-python",
   "name": "python",
   "nbconvert_exporter": "python",
   "pygments_lexer": "ipython3",
   "version": "3.10.14"
  }
 },
 "nbformat": 4,
 "nbformat_minor": 5
}
