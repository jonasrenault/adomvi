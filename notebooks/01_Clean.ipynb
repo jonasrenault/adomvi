{
 "cells": [
  {
   "cell_type": "markdown",
   "id": "b16172d3-4aaf-4b8d-b9e1-b67f8322e01d",
   "metadata": {},
   "source": [
    "# Tank detection YoloV8 model train\n",
    "\n",
    "This notebook will train a [Yolov8](https://github.com/ultralytics/ultralytics) model for tank detection using publicly available annotated images of tanks.\n",
    "\n",
    "As the notebook will run the training with `PyTorch`, it is recommended to have GPUs available. If running in Google Colab, go to Edit > Notebook settings and select GPU hardware acceleration.\n",
    "\n",
    "The first step of the notebook will use [fiftyone](https://github.com/voxel51/fiftyone), to build a dataset of tank images and bounding box annotations for training the computer vision model. The tutorial notebook on [Fine-tuning YOLOv8 models for custom use cases](https://github.com/voxel51/fiftyone/blob/v0.21.0/docs/source/tutorials/yolov8.ipynb) is a usefull introduction on how to use `fiftyone`."
   ]
  },
  {
   "cell_type": "markdown",
   "id": "d3d75f09-636f-4786-9d60-4a672c41c055",
   "metadata": {},
   "source": [
    "## Setup"
   ]
  },
  {
   "cell_type": "code",
   "execution_count": 1,
   "id": "b49a9fd6-7e7e-4f53-b0b0-63b76935b5fc",
   "metadata": {},
   "outputs": [],
   "source": [
    "%load_ext autoreload\n",
    "%autoreload 2"
   ]
  },
  {
   "cell_type": "markdown",
   "id": "e78070ae-5cde-47ef-a394-4cbd74ad3cf7",
   "metadata": {},
   "source": [
    "To start, check GPU support."
   ]
  },
  {
   "cell_type": "code",
   "execution_count": 2,
   "id": "8dc4c32f-48a1-453a-8526-63f79f504b0b",
   "metadata": {},
   "outputs": [
    {
     "name": "stdout",
     "output_type": "stream",
     "text": [
      "Setup complete. Using torch 2.3.0+cu121 (NVIDIA RTX A6000)\n"
     ]
    }
   ],
   "source": [
    "import torch\n",
    "\n",
    "print(f\"Setup complete. Using torch {torch.__version__} ({torch.cuda.get_device_properties(0).name if torch.cuda.is_available() else 'CPU'})\")"
   ]
  },
  {
   "cell_type": "markdown",
   "id": "30d4f3d4-bc82-4afc-a633-3620f20dac52",
   "metadata": {},
   "source": [
    "We also setup logs."
   ]
  },
  {
   "cell_type": "code",
   "execution_count": 3,
   "id": "bd1f4a8e-a3c4-471b-9707-c3444b711a06",
   "metadata": {},
   "outputs": [],
   "source": [
    "import logging\n",
    "\n",
    "logging.basicConfig(level=logging.INFO)"
   ]
  },
  {
   "cell_type": "markdown",
   "id": "3aa4297e-1be7-4cce-b463-85f4a9c966ef",
   "metadata": {},
   "source": [
    "## Download images from ImageNet"
   ]
  },
  {
   "cell_type": "markdown",
   "id": "c4b485f9-2be0-466f-8d40-1a39cff4de1d",
   "metadata": {},
   "source": [
    "The first dataset we'll use is ImageNet21k. The ImageNet21k dataset is available at [https://image-net.org/download-images.php](https://image-net.org/download-images.php). You need to register and be granted access to download the images. We use the Winter 21 version since it gives the option of downloading the images for a single synset: https://image-net.org/data/winter21_whole/SYNSET_ID.tar, e.g., https://image-net.org/data/winter21_whole/n02352591.tar. The processed version of ImageNet21k is available here : https://github.com/Alibaba-MIIL/ImageNet21K. The class ids and names are available here https://github.com/google-research/big_transfer/issues/7#issuecomment-640048775."
   ]
  },
  {
   "cell_type": "markdown",
   "id": "2800ecad-1b8b-4a29-9251-911b88ff520b",
   "metadata": {},
   "source": [
    "We'll begin by downloading the class names that are in ImageNet21k and look for relevant classes that we can use."
   ]
  },
  {
   "cell_type": "code",
   "execution_count": 4,
   "id": "94b63ae8-42df-43cc-8fb9-8f34929e7a35",
   "metadata": {},
   "outputs": [],
   "source": [
    "from pathlib import Path\n",
    "\n",
    "imagenet_dir = Path() / \"imagenet\""
   ]
  },
  {
   "cell_type": "code",
   "execution_count": 5,
   "id": "52d1484a-02df-4563-a0d4-b21255dd8c2b",
   "metadata": {},
   "outputs": [
    {
     "name": "stderr",
     "output_type": "stream",
     "text": [
      "INFO:root:File imagenet/imagenet21k_wordnet_ids.txt already exists. Skipping download.\n",
      "INFO:root:File imagenet/imagenet21k_wordnet_lemmas.txt already exists. Skipping download.\n"
     ]
    },
    {
     "data": {
      "text/plain": [
       "{'n03762982': 'military_hospital',\n",
       " 'n03763727': 'military_quarters',\n",
       " 'n03763968': 'military_uniform',\n",
       " 'n03764276': 'military_vehicle',\n",
       " 'n04552348': 'warplane, military_plane',\n",
       " 'n08249459': 'concert_band, military_band',\n",
       " 'n09809538': 'army_engineer, military_engineer',\n",
       " 'n09943239': 'commissioned_military_officer',\n",
       " 'n10316360': 'military_attache',\n",
       " 'n10316527': 'military_chaplain, padre, Holy_Joe, sky_pilot',\n",
       " 'n10316862': 'military_leader',\n",
       " 'n10317007': 'military_officer, officer',\n",
       " 'n10317500': 'military_policeman, MP',\n",
       " 'n10512372': 'recruit, military_recruit',\n",
       " 'n10582746': 'serviceman, military_man, man, military_personnel',\n",
       " 'n10759331': 'volunteer, military_volunteer, voluntary'}"
      ]
     },
     "execution_count": 5,
     "metadata": {},
     "output_type": "execute_result"
    }
   ],
   "source": [
    "from adomvi.datasets.imagenet import download_class_names, find_class_by_text\n",
    "\n",
    "classes = download_class_names(imagenet_dir)\n",
    "find_class_by_text(classes, \"military\")"
   ]
  },
  {
   "cell_type": "markdown",
   "id": "9886fc7c-20e2-4afe-83af-67e6a856c54a",
   "metadata": {},
   "source": [
    "We can now download images and annotations for the relevant classes. The `download_imagenet_detections` function will download the images and annotations for the given class ids **if the annotations exist** (not all classes have been annotated)."
   ]
  },
  {
   "cell_type": "code",
   "execution_count": 6,
   "id": "05136aa9-b118-446b-90b5-a6ec5431e8e6",
   "metadata": {},
   "outputs": [
    {
     "name": "stderr",
     "output_type": "stream",
     "text": [
      "INFO:root:File imagenet/bboxes_annotations.tar.gz already exists. Skipping download.\n",
      "INFO:root:There are not annotations for class n02740300.\n",
      "INFO:root:Annotations directory imagenet/labels/n04389033 already exists. Skipping extract.\n",
      "INFO:root:There are not annotations for class n02740533.\n",
      "INFO:root:There are not annotations for class n04464852.\n",
      "INFO:root:There are not annotations for class n03764276.\n",
      "INFO:root:Deleting annotations dir.\n"
     ]
    }
   ],
   "source": [
    "from adomvi.datasets.imagenet import download_imagenet_detections\n",
    "\n",
    "class_ids = [\"n02740300\", \"n04389033\", \"n02740533\", \"n04464852\", \"n03764276\"]\n",
    "download_imagenet_detections(class_ids, imagenet_dir)"
   ]
  },
  {
   "cell_type": "markdown",
   "id": "8374b1ba-8d18-4f79-8fc2-00e7ee72a57e",
   "metadata": {},
   "source": [
    "The data we just downloaded into the `imagenet` directory is not all clean: there are annotations which have no corresponding image. We need to remove those labels, otherwise this causes errors when importing the data into fiftyone."
   ]
  },
  {
   "cell_type": "code",
   "execution_count": 7,
   "id": "d08d28ba-e98c-4c04-913b-a544ec29f6c8",
   "metadata": {},
   "outputs": [
    {
     "name": "stderr",
     "output_type": "stream",
     "text": [
      "INFO:root:Deleting 0 labels without images\n"
     ]
    }
   ],
   "source": [
    "from adomvi.datasets.imagenet import cleanup_labels_without_images\n",
    "\n",
    "cleanup_labels_without_images(imagenet_dir)"
   ]
  },
  {
   "cell_type": "markdown",
   "id": "d52714fb-4796-4362-ad51-b8e6b58ab393",
   "metadata": {},
   "source": [
    "We can now create a new dataset with `fiftyone`. Fiftyone allows us to manage images annotated with bounding boxes and labels, to merge datasets from different sources, and to split the datasets and prepare them for processing."
   ]
  },
  {
   "cell_type": "code",
   "execution_count": 8,
   "id": "031dba9b-53d3-4d09-8c4d-21f4cf15aca3",
   "metadata": {},
   "outputs": [
    {
     "name": "stdout",
     "output_type": "stream",
     "text": []
    },
    {
     "name": "stdout",
     "output_type": "stream",
     "text": [
      " 100% |█████████████████| 378/378 [458.6ms elapsed, 0s remaining, 827.5 samples/s]      \n"
     ]
    },
    {
     "name": "stderr",
     "output_type": "stream",
     "text": [
      "INFO:eta.core.utils: 100% |█████████████████| 378/378 [458.6ms elapsed, 0s remaining, 827.5 samples/s]      \n"
     ]
    }
   ],
   "source": [
    "import fiftyone as fo\n",
    "\n",
    "# Create the dataset\n",
    "dataset = fo.Dataset.from_dir(\n",
    "    dataset_dir=imagenet_dir,\n",
    "    dataset_type=fo.types.VOCDetectionDataset,\n",
    ")\n",
    "\n",
    "dataset.name = \"military-vehicles\"\n",
    "\n",
    "dataset.map_labels(\n",
    "    \"ground_truth\",\n",
    "    {\"n04389033\":\"tank\"}\n",
    ").save()"
   ]
  },
  {
   "cell_type": "markdown",
   "id": "e0c832db-12a7-4d05-a8aa-5f04b537f7e0",
   "metadata": {},
   "source": [
    "Once our dataset is created, we can launch a session to display the dataset and view the annotated images"
   ]
  },
  {
   "cell_type": "code",
   "execution_count": 9,
   "id": "bb91df40-7a6f-4956-9406-89829dafdda9",
   "metadata": {},
   "outputs": [
    {
     "name": "stdout",
     "output_type": "stream",
     "text": [
      "Session launched. Run `session.show()` to open the App in a cell output.\n"
     ]
    },
    {
     "name": "stderr",
     "output_type": "stream",
     "text": [
      "INFO:fiftyone.core.session.session:Session launched. Run `session.show()` to open the App in a cell output.\n"
     ]
    }
   ],
   "source": [
    "session = fo.launch_app(dataset, auto=False)"
   ]
  },
  {
   "cell_type": "code",
   "execution_count": 10,
   "id": "f7c04a2d-8d68-4109-8810-413babce74b2",
   "metadata": {},
   "outputs": [
    {
     "data": {
      "application/javascript": [
       "window.open('http://localhost:5151/');"
      ],
      "text/plain": [
       "<IPython.core.display.Javascript object>"
      ]
     },
     "metadata": {},
     "output_type": "display_data"
    }
   ],
   "source": [
    "session.open_tab()"
   ]
  },
  {
   "cell_type": "markdown",
   "id": "f7548a25-2224-4aa6-8b3e-e2645946d3d8",
   "metadata": {},
   "source": [
    "### Add OpenImage samples\n",
    "\n",
    "The ImageNet dataset only contained 378 annotated images of tanks, so we'll look into other available datasets to improve training of the model. We’ll load [Open Images](https://storage.googleapis.com/openimages/web/index.html) samples with `Tank` detection labels, passing in `only_matching=True` to only load the `Tank` labels. We then map these labels by changing `Tank` into `tank`."
   ]
  },
  {
   "cell_type": "code",
   "execution_count": 11,
   "id": "ace791d4-989d-4728-9881-1c5b13a4d276",
   "metadata": {},
   "outputs": [
    {
     "name": "stdout",
     "output_type": "stream",
     "text": [
      "Downloading split 'train' to '/home/jrenault/fiftyone/open-images-v7/train' if necessary\n"
     ]
    },
    {
     "name": "stderr",
     "output_type": "stream",
     "text": [
      "INFO:fiftyone.zoo.datasets:Downloading split 'train' to '/home/jrenault/fiftyone/open-images-v7/train' if necessary\n"
     ]
    },
    {
     "name": "stdout",
     "output_type": "stream",
     "text": [
      "Necessary images already downloaded\n"
     ]
    },
    {
     "name": "stderr",
     "output_type": "stream",
     "text": [
      "INFO:fiftyone.utils.openimages:Necessary images already downloaded\n"
     ]
    },
    {
     "name": "stdout",
     "output_type": "stream",
     "text": [
      "Existing download of split 'train' is sufficient\n"
     ]
    },
    {
     "name": "stderr",
     "output_type": "stream",
     "text": [
      "INFO:fiftyone.zoo.datasets:Existing download of split 'train' is sufficient\n"
     ]
    },
    {
     "name": "stdout",
     "output_type": "stream",
     "text": [
      "Downloading split 'test' to '/home/jrenault/fiftyone/open-images-v7/test' if necessary\n"
     ]
    },
    {
     "name": "stderr",
     "output_type": "stream",
     "text": [
      "INFO:fiftyone.zoo.datasets:Downloading split 'test' to '/home/jrenault/fiftyone/open-images-v7/test' if necessary\n"
     ]
    },
    {
     "name": "stdout",
     "output_type": "stream",
     "text": [
      "Necessary images already downloaded\n"
     ]
    },
    {
     "name": "stderr",
     "output_type": "stream",
     "text": [
      "INFO:fiftyone.utils.openimages:Necessary images already downloaded\n"
     ]
    },
    {
     "name": "stdout",
     "output_type": "stream",
     "text": [
      "Existing download of split 'test' is sufficient\n"
     ]
    },
    {
     "name": "stderr",
     "output_type": "stream",
     "text": [
      "INFO:fiftyone.zoo.datasets:Existing download of split 'test' is sufficient\n"
     ]
    },
    {
     "name": "stdout",
     "output_type": "stream",
     "text": [
      "Downloading split 'validation' to '/home/jrenault/fiftyone/open-images-v7/validation' if necessary\n"
     ]
    },
    {
     "name": "stderr",
     "output_type": "stream",
     "text": [
      "INFO:fiftyone.zoo.datasets:Downloading split 'validation' to '/home/jrenault/fiftyone/open-images-v7/validation' if necessary\n"
     ]
    },
    {
     "name": "stdout",
     "output_type": "stream",
     "text": [
      "Necessary images already downloaded\n"
     ]
    },
    {
     "name": "stderr",
     "output_type": "stream",
     "text": [
      "INFO:fiftyone.utils.openimages:Necessary images already downloaded\n"
     ]
    },
    {
     "name": "stdout",
     "output_type": "stream",
     "text": [
      "Existing download of split 'validation' is sufficient\n"
     ]
    },
    {
     "name": "stderr",
     "output_type": "stream",
     "text": [
      "INFO:fiftyone.zoo.datasets:Existing download of split 'validation' is sufficient\n"
     ]
    },
    {
     "name": "stdout",
     "output_type": "stream",
     "text": [
      "Loading 'open-images-v7' split 'train'\n"
     ]
    },
    {
     "name": "stderr",
     "output_type": "stream",
     "text": [
      "INFO:fiftyone.zoo.datasets:Loading 'open-images-v7' split 'train'\n"
     ]
    },
    {
     "name": "stdout",
     "output_type": "stream",
     "text": []
    },
    {
     "name": "stdout",
     "output_type": "stream",
     "text": [
      " 100% |███████████████| 1062/1062 [1.7s elapsed, 0s remaining, 636.0 samples/s]         \n"
     ]
    },
    {
     "name": "stderr",
     "output_type": "stream",
     "text": [
      "INFO:eta.core.utils: 100% |███████████████| 1062/1062 [1.7s elapsed, 0s remaining, 636.0 samples/s]         \n"
     ]
    },
    {
     "name": "stdout",
     "output_type": "stream",
     "text": [
      "Loading 'open-images-v7' split 'test'\n"
     ]
    },
    {
     "name": "stderr",
     "output_type": "stream",
     "text": [
      "INFO:fiftyone.zoo.datasets:Loading 'open-images-v7' split 'test'\n"
     ]
    },
    {
     "name": "stdout",
     "output_type": "stream",
     "text": []
    },
    {
     "name": "stdout",
     "output_type": "stream",
     "text": [
      " 100% |█████████████████| 134/134 [212.8ms elapsed, 0s remaining, 629.6 samples/s]      \n"
     ]
    },
    {
     "name": "stderr",
     "output_type": "stream",
     "text": [
      "INFO:eta.core.utils: 100% |█████████████████| 134/134 [212.8ms elapsed, 0s remaining, 629.6 samples/s]      \n"
     ]
    },
    {
     "name": "stdout",
     "output_type": "stream",
     "text": [
      "Loading 'open-images-v7' split 'validation'\n"
     ]
    },
    {
     "name": "stderr",
     "output_type": "stream",
     "text": [
      "INFO:fiftyone.zoo.datasets:Loading 'open-images-v7' split 'validation'\n"
     ]
    },
    {
     "name": "stdout",
     "output_type": "stream",
     "text": []
    },
    {
     "name": "stdout",
     "output_type": "stream",
     "text": [
      " 100% |███████████████████| 50/50 [85.3ms elapsed, 0s remaining, 586.3 samples/s]     \n"
     ]
    },
    {
     "name": "stderr",
     "output_type": "stream",
     "text": [
      "INFO:eta.core.utils: 100% |███████████████████| 50/50 [85.3ms elapsed, 0s remaining, 586.3 samples/s]     \n"
     ]
    },
    {
     "name": "stdout",
     "output_type": "stream",
     "text": [
      "Dataset 'open-images-v7' created\n"
     ]
    },
    {
     "name": "stderr",
     "output_type": "stream",
     "text": [
      "INFO:fiftyone.zoo.datasets:Dataset 'open-images-v7' created\n"
     ]
    }
   ],
   "source": [
    "import fiftyone.zoo as foz\n",
    "\n",
    "oi_samples = foz.load_zoo_dataset(\n",
    "    \"open-images-v7\",\n",
    "    classes = [\"Tank\"],\n",
    "    only_matching=True,\n",
    "    label_types=\"detections\"\n",
    ").map_labels(\n",
    "    \"ground_truth\",\n",
    "    {\"Tank\":\"tank\"}\n",
    ")"
   ]
  },
  {
   "cell_type": "code",
   "execution_count": 12,
   "id": "279b7fd6-165b-4b64-bc0d-994ba678a096",
   "metadata": {},
   "outputs": [],
   "source": [
    "dataset.merge_samples(oi_samples)"
   ]
  },
  {
   "cell_type": "markdown",
   "id": "55a0513e-7034-4949-b2f7-07423bfdfaca",
   "metadata": {},
   "source": [
    "## Fine-tune a YOLOv8 detection model\n",
    "\n",
    "Now that our dataset is created, we'll export it into a format supported by YOLOv8 to train our model."
   ]
  },
  {
   "cell_type": "markdown",
   "id": "4105dd10-1fe4-4cec-81cc-946f03aa8d09",
   "metadata": {},
   "source": [
    "We first remove tags from the dataset, and split it into a train, val and test sets."
   ]
  },
  {
   "cell_type": "code",
   "execution_count": 13,
   "id": "0dbbdb4b-0cda-45b6-bfb4-413c5e64ec02",
   "metadata": {},
   "outputs": [],
   "source": [
    "import fiftyone.utils.random as four\n",
    "\n",
    "## delete existing tags to start fresh\n",
    "dataset.untag_samples(dataset.distinct(\"tags\"))\n",
    "\n",
    "## split into train, test and val\n",
    "four.random_split(dataset, {\"train\": 0.8, \"val\": 0.1, \"test\": 0.1})"
   ]
  },
  {
   "cell_type": "markdown",
   "id": "00733240-138e-4d63-8de0-5d308756f873",
   "metadata": {},
   "source": [
    "Once our dataset is split, we can export it to a specific directory."
   ]
  },
  {
   "cell_type": "code",
   "execution_count": 17,
   "id": "6ab37a36-380c-484f-9636-9f0c89885cca",
   "metadata": {},
   "outputs": [
    {
     "name": "stdout",
     "output_type": "stream",
     "text": []
    },
    {
     "name": "stdout",
     "output_type": "stream",
     "text": [
      " 100% |███████████████| 1299/1299 [1.3s elapsed, 0s remaining, 979.9 samples/s]        \n"
     ]
    },
    {
     "name": "stderr",
     "output_type": "stream",
     "text": [
      "INFO:eta.core.utils: 100% |███████████████| 1299/1299 [1.3s elapsed, 0s remaining, 979.9 samples/s]        \n"
     ]
    },
    {
     "name": "stdout",
     "output_type": "stream",
     "text": [
      "Directory 'vehicles' already exists; export will be merged with existing files\n"
     ]
    },
    {
     "name": "stderr",
     "output_type": "stream",
     "text": [
      "WARNING:fiftyone.core.collections:Directory 'vehicles' already exists; export will be merged with existing files\n"
     ]
    },
    {
     "name": "stdout",
     "output_type": "stream",
     "text": []
    },
    {
     "name": "stdout",
     "output_type": "stream",
     "text": [
      " 100% |█████████████████| 163/163 [166.7ms elapsed, 0s remaining, 977.8 samples/s]     \n"
     ]
    },
    {
     "name": "stderr",
     "output_type": "stream",
     "text": [
      "INFO:eta.core.utils: 100% |█████████████████| 163/163 [166.7ms elapsed, 0s remaining, 977.8 samples/s]     \n"
     ]
    },
    {
     "name": "stdout",
     "output_type": "stream",
     "text": [
      "Directory 'vehicles' already exists; export will be merged with existing files\n"
     ]
    },
    {
     "name": "stderr",
     "output_type": "stream",
     "text": [
      "WARNING:fiftyone.core.collections:Directory 'vehicles' already exists; export will be merged with existing files\n"
     ]
    },
    {
     "name": "stdout",
     "output_type": "stream",
     "text": []
    },
    {
     "name": "stdout",
     "output_type": "stream",
     "text": [
      " 100% |█████████████████| 162/162 [189.8ms elapsed, 0s remaining, 853.4 samples/s]     \n"
     ]
    },
    {
     "name": "stderr",
     "output_type": "stream",
     "text": [
      "INFO:eta.core.utils: 100% |█████████████████| 162/162 [189.8ms elapsed, 0s remaining, 853.4 samples/s]     \n"
     ]
    }
   ],
   "source": [
    "from pathlib import Path\n",
    "from adomvi.yolo.utils import export_yolo_data\n",
    "\n",
    "export_dir = Path() / \"vehicles\"\n",
    "export_yolo_data(dataset, export_dir, [\"tank\"], split = [\"train\", \"val\", \"test\"], overwrite=True)"
   ]
  },
  {
   "cell_type": "markdown",
   "id": "5c987c05-848b-439e-8705-0735b100180f",
   "metadata": {},
   "source": [
    "Finally, we can train a YoloV8 base model on our exported dataset. We use the `yolov8n.pt` (nano) model, which is the smallest, but larger models are available from ultralytics. Simply replace `yolov8n.pt` with the [right model](https://docs.ultralytics.com/models/yolov8/#key-features)."
   ]
  },
  {
   "cell_type": "code",
   "execution_count": 19,
   "id": "b6999159-b029-4cd7-97ed-68b40311cbc8",
   "metadata": {},
   "outputs": [
    {
     "name": "stdout",
     "output_type": "stream",
     "text": [
      "Ultralytics YOLOv8.2.28 🚀 Python-3.10.14 torch-2.3.0+cu121 CUDA:0 (NVIDIA RTX A6000, 48677MiB)\n",
      "                                                            CUDA:1 (NVIDIA RTX A6000, 48655MiB)\n",
      "\u001b[34m\u001b[1mengine/trainer: \u001b[0mtask=detect, mode=train, model=yolov8n.pt, data=vehicles/dataset.yaml, epochs=60, time=None, patience=100, batch=64, imgsz=640, save=True, save_period=-1, cache=False, device=[0, 1], workers=8, project=None, name=train, exist_ok=False, pretrained=True, optimizer=auto, verbose=True, seed=0, deterministic=True, single_cls=False, rect=False, cos_lr=False, close_mosaic=10, resume=False, amp=True, fraction=1.0, profile=False, freeze=None, multi_scale=False, overlap_mask=True, mask_ratio=4, dropout=0.0, val=True, split=val, save_json=False, save_hybrid=False, conf=None, iou=0.7, max_det=300, half=False, dnn=False, plots=True, source=None, vid_stride=1, stream_buffer=False, visualize=False, augment=False, agnostic_nms=False, classes=None, retina_masks=False, embed=None, show=False, save_frames=False, save_txt=False, save_conf=False, save_crop=False, show_labels=True, show_conf=True, show_boxes=True, line_width=None, format=torchscript, keras=False, optimize=False, int8=False, dynamic=False, simplify=False, opset=None, workspace=4, nms=False, lr0=0.01, lrf=0.01, momentum=0.937, weight_decay=0.0005, warmup_epochs=3.0, warmup_momentum=0.8, warmup_bias_lr=0.1, box=7.5, cls=0.5, dfl=1.5, pose=12.0, kobj=1.0, label_smoothing=0.0, nbs=64, hsv_h=0.015, hsv_s=0.7, hsv_v=0.4, degrees=0.0, translate=0.1, scale=0.5, shear=0.0, perspective=0.0, flipud=0.0, fliplr=0.5, bgr=0.0, mosaic=1.0, mixup=0.0, copy_paste=0.0, auto_augment=randaugment, erasing=0.4, crop_fraction=1.0, cfg=None, tracker=botsort.yaml, save_dir=runs/detect/train\n",
      "Overriding model.yaml nc=80 with nc=1\n",
      "\n",
      "                   from  n    params  module                                       arguments                     \n",
      "  0                  -1  1       464  ultralytics.nn.modules.conv.Conv             [3, 16, 3, 2]                 \n",
      "  1                  -1  1      4672  ultralytics.nn.modules.conv.Conv             [16, 32, 3, 2]                \n",
      "  2                  -1  1      7360  ultralytics.nn.modules.block.C2f             [32, 32, 1, True]             \n",
      "  3                  -1  1     18560  ultralytics.nn.modules.conv.Conv             [32, 64, 3, 2]                \n",
      "  4                  -1  2     49664  ultralytics.nn.modules.block.C2f             [64, 64, 2, True]             \n",
      "  5                  -1  1     73984  ultralytics.nn.modules.conv.Conv             [64, 128, 3, 2]               \n",
      "  6                  -1  2    197632  ultralytics.nn.modules.block.C2f             [128, 128, 2, True]           \n",
      "  7                  -1  1    295424  ultralytics.nn.modules.conv.Conv             [128, 256, 3, 2]              \n",
      "  8                  -1  1    460288  ultralytics.nn.modules.block.C2f             [256, 256, 1, True]           \n",
      "  9                  -1  1    164608  ultralytics.nn.modules.block.SPPF            [256, 256, 5]                 \n",
      " 10                  -1  1         0  torch.nn.modules.upsampling.Upsample         [None, 2, 'nearest']          \n",
      " 11             [-1, 6]  1         0  ultralytics.nn.modules.conv.Concat           [1]                           \n",
      " 12                  -1  1    148224  ultralytics.nn.modules.block.C2f             [384, 128, 1]                 \n",
      " 13                  -1  1         0  torch.nn.modules.upsampling.Upsample         [None, 2, 'nearest']          \n",
      " 14             [-1, 4]  1         0  ultralytics.nn.modules.conv.Concat           [1]                           \n",
      " 15                  -1  1     37248  ultralytics.nn.modules.block.C2f             [192, 64, 1]                  \n",
      " 16                  -1  1     36992  ultralytics.nn.modules.conv.Conv             [64, 64, 3, 2]                \n",
      " 17            [-1, 12]  1         0  ultralytics.nn.modules.conv.Concat           [1]                           \n",
      " 18                  -1  1    123648  ultralytics.nn.modules.block.C2f             [192, 128, 1]                 \n",
      " 19                  -1  1    147712  ultralytics.nn.modules.conv.Conv             [128, 128, 3, 2]              \n",
      " 20             [-1, 9]  1         0  ultralytics.nn.modules.conv.Concat           [1]                           \n",
      " 21                  -1  1    493056  ultralytics.nn.modules.block.C2f             [384, 256, 1]                 \n",
      " 22        [15, 18, 21]  1    751507  ultralytics.nn.modules.head.Detect           [1, [64, 128, 256]]           \n",
      "Model summary: 225 layers, 3011043 parameters, 3011027 gradients, 8.2 GFLOPs\n",
      "\n",
      "Transferred 319/355 items from pretrained weights\n",
      "\u001b[34m\u001b[1mDDP:\u001b[0m debug command /home/jrenault/mambaforge/envs/adomvi2/bin/python -m torch.distributed.run --nproc_per_node 2 --master_port 47337 /home/jrenault/.config/Ultralytics/DDP/_temp_qg5tfzct139956998225728.py\n",
      "Ultralytics YOLOv8.2.28 🚀 Python-3.10.14 torch-2.3.0+cu121 CUDA:0 (NVIDIA RTX A6000, 48677MiB)\n",
      "                                                            CUDA:1 (NVIDIA RTX A6000, 48655MiB)\n",
      "Overriding model.yaml nc=80 with nc=1\n",
      "Transferred 319/355 items from pretrained weights\n",
      "Freezing layer 'model.22.dfl.conv.weight'\n",
      "\u001b[34m\u001b[1mAMP: \u001b[0mrunning Automatic Mixed Precision (AMP) checks with YOLOv8n...\n"
     ]
    },
    {
     "name": "stderr",
     "output_type": "stream",
     "text": [
      "/home/jrenault/mambaforge/envs/adomvi2/lib/python3.10/site-packages/torch/nn/modules/conv.py:456: UserWarning: Plan failed with a cudnnException: CUDNN_BACKEND_EXECUTION_PLAN_DESCRIPTOR: cudnnFinalize Descriptor Failed cudnn_status: CUDNN_STATUS_NOT_SUPPORTED (Triggered internally at ../aten/src/ATen/native/cudnn/Conv_v8.cpp:919.)\n",
      "  return F.conv2d(input, weight, bias, self.stride,\n"
     ]
    },
    {
     "name": "stdout",
     "output_type": "stream",
     "text": [
      "\u001b[34m\u001b[1mAMP: \u001b[0mchecks passed ✅\n"
     ]
    },
    {
     "name": "stderr",
     "output_type": "stream",
     "text": [
      "\u001b[34m\u001b[1mtrain: \u001b[0mScanning /home/jrenault/workspace/adomvi2/notebooks/vehicles/labels/train.cache... 1299 images, 0 backgrounds, 0 corrupt: 100%|██████████| 1299/1299 [00:00<?, ?it/s]\n",
      "\u001b[34m\u001b[1mval: \u001b[0mScanning /home/jrenault/workspace/adomvi2/notebooks/vehicles/labels/val.cache... 163 images, 0 backgrounds, 0 corrupt: 100%|██████████| 163/163 [00:00<?, ?it/s]\n"
     ]
    },
    {
     "name": "stdout",
     "output_type": "stream",
     "text": [
      "Plotting labels to runs/detect/train/labels.jpg... \n",
      "\u001b[34m\u001b[1moptimizer:\u001b[0m 'optimizer=auto' found, ignoring 'lr0=0.01' and 'momentum=0.937' and determining best 'optimizer', 'lr0' and 'momentum' automatically... \n",
      "\u001b[34m\u001b[1moptimizer:\u001b[0m AdamW(lr=0.000714, momentum=0.9) with parameter groups 57 weight(decay=0.0), 64 weight(decay=0.0005), 63 bias(decay=0.0)\n",
      "Image sizes 640 train, 640 val\n",
      "Using 16 dataloader workers\n",
      "Logging results to \u001b[1mruns/detect/train\u001b[0m\n",
      "Starting training for 60 epochs...\n",
      "\n",
      "      Epoch    GPU_mem   box_loss   cls_loss   dfl_loss  Instances       Size\n"
     ]
    },
    {
     "name": "stderr",
     "output_type": "stream",
     "text": [
      "  0%|          | 0/21 [00:00<?, ?it/s]/home/jrenault/mambaforge/envs/adomvi2/lib/python3.10/site-packages/torch/nn/modules/conv.py:456: UserWarning: Plan failed with a cudnnException: CUDNN_BACKEND_EXECUTION_PLAN_DESCRIPTOR: cudnnFinalize Descriptor Failed cudnn_status: CUDNN_STATUS_NOT_SUPPORTED (Triggered internally at ../aten/src/ATen/native/cudnn/Conv_v8.cpp:919.)\n",
      "  return F.conv2d(input, weight, bias, self.stride,\n",
      "/home/jrenault/mambaforge/envs/adomvi2/lib/python3.10/site-packages/torch/nn/modules/conv.py:456: UserWarning: Plan failed with a cudnnException: CUDNN_BACKEND_EXECUTION_PLAN_DESCRIPTOR: cudnnFinalize Descriptor Failed cudnn_status: CUDNN_STATUS_NOT_SUPPORTED (Triggered internally at ../aten/src/ATen/native/cudnn/Conv_v8.cpp:919.)\n",
      "  return F.conv2d(input, weight, bias, self.stride,\n",
      "       1/60      4.33G     0.9737      2.306       1.37         30        640: 100%|██████████| 21/21 [00:05<00:00,  3.59it/s]\n",
      "                 Class     Images  Instances      Box(P          R      mAP50  mAP50-95): 100%|██████████| 3/3 [00:00<00:00,  3.50it/s]\n"
     ]
    },
    {
     "name": "stdout",
     "output_type": "stream",
     "text": [
      "                   all        163        245     0.0906      0.873       0.48      0.262\n",
      "\n",
      "      Epoch    GPU_mem   box_loss   cls_loss   dfl_loss  Instances       Size\n"
     ]
    },
    {
     "name": "stderr",
     "output_type": "stream",
     "text": [
      "       2/60       4.3G      0.924      1.562      1.357         26        640: 100%|██████████| 21/21 [00:03<00:00,  6.06it/s]\n",
      "                 Class     Images  Instances      Box(P          R      mAP50  mAP50-95): 100%|██████████| 3/3 [00:00<00:00,  4.82it/s]\n"
     ]
    },
    {
     "name": "stdout",
     "output_type": "stream",
     "text": [
      "                   all        163        245      0.944      0.415      0.697      0.438\n",
      "\n",
      "      Epoch    GPU_mem   box_loss   cls_loss   dfl_loss  Instances       Size\n"
     ]
    },
    {
     "name": "stderr",
     "output_type": "stream",
     "text": [
      "       3/60      4.35G     0.9284      1.423      1.337         43        640: 100%|██████████| 21/21 [00:03<00:00,  6.04it/s]\n",
      "                 Class     Images  Instances      Box(P          R      mAP50  mAP50-95): 100%|██████████| 3/3 [00:00<00:00,  4.95it/s]\n"
     ]
    },
    {
     "name": "stdout",
     "output_type": "stream",
     "text": [
      "                   all        163        245      0.772       0.58      0.674      0.417\n",
      "\n",
      "      Epoch    GPU_mem   box_loss   cls_loss   dfl_loss  Instances       Size\n"
     ]
    },
    {
     "name": "stderr",
     "output_type": "stream",
     "text": [
      "       4/60       4.4G     0.9511      1.361      1.356         33        640: 100%|██████████| 21/21 [00:03<00:00,  6.01it/s]\n",
      "                 Class     Images  Instances      Box(P          R      mAP50  mAP50-95): 100%|██████████| 3/3 [00:00<00:00,  4.39it/s]\n"
     ]
    },
    {
     "name": "stdout",
     "output_type": "stream",
     "text": [
      "                   all        163        245      0.715      0.542      0.606      0.292\n",
      "\n",
      "      Epoch    GPU_mem   box_loss   cls_loss   dfl_loss  Instances       Size\n"
     ]
    },
    {
     "name": "stderr",
     "output_type": "stream",
     "text": [
      "       5/60      4.34G     0.9505      1.304      1.348         32        640: 100%|██████████| 21/21 [00:03<00:00,  6.00it/s]\n",
      "                 Class     Images  Instances      Box(P          R      mAP50  mAP50-95): 100%|██████████| 3/3 [00:00<00:00,  5.05it/s]\n"
     ]
    },
    {
     "name": "stdout",
     "output_type": "stream",
     "text": [
      "                   all        163        245      0.657      0.604      0.625      0.361\n",
      "\n",
      "      Epoch    GPU_mem   box_loss   cls_loss   dfl_loss  Instances       Size\n"
     ]
    },
    {
     "name": "stderr",
     "output_type": "stream",
     "text": [
      "       6/60       4.3G     0.9715      1.242      1.354         37        640: 100%|██████████| 21/21 [00:03<00:00,  6.07it/s]\n",
      "                 Class     Images  Instances      Box(P          R      mAP50  mAP50-95): 100%|██████████| 3/3 [00:00<00:00,  4.65it/s]\n"
     ]
    },
    {
     "name": "stdout",
     "output_type": "stream",
     "text": [
      "                   all        163        245      0.716      0.624      0.675      0.397\n",
      "\n",
      "      Epoch    GPU_mem   box_loss   cls_loss   dfl_loss  Instances       Size\n"
     ]
    },
    {
     "name": "stderr",
     "output_type": "stream",
     "text": [
      "       7/60      4.34G     0.9598      1.201       1.36         37        640: 100%|██████████| 21/21 [00:03<00:00,  6.08it/s]\n",
      "                 Class     Images  Instances      Box(P          R      mAP50  mAP50-95): 100%|██████████| 3/3 [00:00<00:00,  4.70it/s]\n"
     ]
    },
    {
     "name": "stdout",
     "output_type": "stream",
     "text": [
      "                   all        163        245      0.612      0.539      0.573      0.285\n",
      "\n",
      "      Epoch    GPU_mem   box_loss   cls_loss   dfl_loss  Instances       Size\n"
     ]
    },
    {
     "name": "stderr",
     "output_type": "stream",
     "text": [
      "       8/60       4.3G     0.9501      1.135      1.331         37        640: 100%|██████████| 21/21 [00:03<00:00,  6.11it/s]\n",
      "                 Class     Images  Instances      Box(P          R      mAP50  mAP50-95): 100%|██████████| 3/3 [00:00<00:00,  4.84it/s]\n"
     ]
    },
    {
     "name": "stdout",
     "output_type": "stream",
     "text": [
      "                   all        163        245      0.753      0.645      0.697       0.42\n",
      "\n",
      "      Epoch    GPU_mem   box_loss   cls_loss   dfl_loss  Instances       Size\n"
     ]
    },
    {
     "name": "stderr",
     "output_type": "stream",
     "text": [
      "       9/60      4.34G     0.9774      1.113      1.357         34        640: 100%|██████████| 21/21 [00:03<00:00,  6.02it/s]\n",
      "                 Class     Images  Instances      Box(P          R      mAP50  mAP50-95): 100%|██████████| 3/3 [00:00<00:00,  4.93it/s]\n"
     ]
    },
    {
     "name": "stdout",
     "output_type": "stream",
     "text": [
      "                   all        163        245      0.755      0.579      0.677        0.4\n",
      "\n",
      "      Epoch    GPU_mem   box_loss   cls_loss   dfl_loss  Instances       Size\n"
     ]
    },
    {
     "name": "stderr",
     "output_type": "stream",
     "text": [
      "      10/60      4.34G     0.9283       1.04       1.32         37        640: 100%|██████████| 21/21 [00:03<00:00,  6.03it/s]\n",
      "                 Class     Images  Instances      Box(P          R      mAP50  mAP50-95): 100%|██████████| 3/3 [00:00<00:00,  4.65it/s]\n"
     ]
    },
    {
     "name": "stdout",
     "output_type": "stream",
     "text": [
      "                   all        163        245      0.702      0.664      0.712      0.422\n",
      "\n",
      "      Epoch    GPU_mem   box_loss   cls_loss   dfl_loss  Instances       Size\n"
     ]
    },
    {
     "name": "stderr",
     "output_type": "stream",
     "text": [
      "      11/60      4.34G     0.9155      1.017      1.307         36        640: 100%|██████████| 21/21 [00:03<00:00,  5.96it/s]\n",
      "                 Class     Images  Instances      Box(P          R      mAP50  mAP50-95): 100%|██████████| 3/3 [00:00<00:00,  4.41it/s]\n"
     ]
    },
    {
     "name": "stdout",
     "output_type": "stream",
     "text": [
      "                   all        163        245      0.722      0.679      0.722      0.413\n",
      "\n",
      "      Epoch    GPU_mem   box_loss   cls_loss   dfl_loss  Instances       Size\n"
     ]
    },
    {
     "name": "stderr",
     "output_type": "stream",
     "text": [
      "      12/60       4.3G     0.9083     0.9753      1.307         42        640: 100%|██████████| 21/21 [00:03<00:00,  5.99it/s]\n",
      "                 Class     Images  Instances      Box(P          R      mAP50  mAP50-95): 100%|██████████| 3/3 [00:00<00:00,  4.95it/s]\n"
     ]
    },
    {
     "name": "stdout",
     "output_type": "stream",
     "text": [
      "                   all        163        245      0.884      0.657      0.762      0.463\n",
      "\n",
      "      Epoch    GPU_mem   box_loss   cls_loss   dfl_loss  Instances       Size\n"
     ]
    },
    {
     "name": "stderr",
     "output_type": "stream",
     "text": [
      "      13/60      4.34G     0.8568      0.903      1.257         27        640: 100%|██████████| 21/21 [00:03<00:00,  5.99it/s]\n",
      "                 Class     Images  Instances      Box(P          R      mAP50  mAP50-95): 100%|██████████| 3/3 [00:00<00:00,  5.28it/s]\n"
     ]
    },
    {
     "name": "stdout",
     "output_type": "stream",
     "text": [
      "                   all        163        245      0.792      0.718      0.778      0.489\n",
      "\n",
      "      Epoch    GPU_mem   box_loss   cls_loss   dfl_loss  Instances       Size\n"
     ]
    },
    {
     "name": "stderr",
     "output_type": "stream",
     "text": [
      "      14/60       4.3G     0.8995     0.9302      1.296         33        640: 100%|██████████| 21/21 [00:03<00:00,  6.08it/s]\n",
      "                 Class     Images  Instances      Box(P          R      mAP50  mAP50-95): 100%|██████████| 3/3 [00:00<00:00,  5.16it/s]\n"
     ]
    },
    {
     "name": "stdout",
     "output_type": "stream",
     "text": [
      "                   all        163        245      0.768      0.731      0.757      0.456\n",
      "\n",
      "      Epoch    GPU_mem   box_loss   cls_loss   dfl_loss  Instances       Size\n"
     ]
    },
    {
     "name": "stderr",
     "output_type": "stream",
     "text": [
      "      15/60      4.35G     0.8592     0.9058      1.282         22        640: 100%|██████████| 21/21 [00:03<00:00,  6.11it/s]\n",
      "                 Class     Images  Instances      Box(P          R      mAP50  mAP50-95): 100%|██████████| 3/3 [00:00<00:00,  5.18it/s]\n"
     ]
    },
    {
     "name": "stdout",
     "output_type": "stream",
     "text": [
      "                   all        163        245       0.84      0.667      0.764      0.475\n",
      "\n",
      "      Epoch    GPU_mem   box_loss   cls_loss   dfl_loss  Instances       Size\n"
     ]
    },
    {
     "name": "stderr",
     "output_type": "stream",
     "text": [
      "      16/60      4.34G     0.8632     0.8712      1.282         30        640: 100%|██████████| 21/21 [00:03<00:00,  6.08it/s]\n",
      "                 Class     Images  Instances      Box(P          R      mAP50  mAP50-95): 100%|██████████| 3/3 [00:00<00:00,  5.32it/s]\n"
     ]
    },
    {
     "name": "stdout",
     "output_type": "stream",
     "text": [
      "                   all        163        245      0.766      0.653      0.722      0.461\n",
      "\n",
      "      Epoch    GPU_mem   box_loss   cls_loss   dfl_loss  Instances       Size\n"
     ]
    },
    {
     "name": "stderr",
     "output_type": "stream",
     "text": [
      "      17/60       4.3G     0.8511     0.8583      1.247         40        640: 100%|██████████| 21/21 [00:03<00:00,  6.00it/s]\n",
      "                 Class     Images  Instances      Box(P          R      mAP50  mAP50-95): 100%|██████████| 3/3 [00:00<00:00,  4.89it/s]\n"
     ]
    },
    {
     "name": "stdout",
     "output_type": "stream",
     "text": [
      "                   all        163        245      0.835      0.722      0.797      0.542\n",
      "\n",
      "      Epoch    GPU_mem   box_loss   cls_loss   dfl_loss  Instances       Size\n"
     ]
    },
    {
     "name": "stderr",
     "output_type": "stream",
     "text": [
      "      18/60      4.29G     0.8379     0.8717      1.246         32        640: 100%|██████████| 21/21 [00:03<00:00,  5.98it/s]\n",
      "                 Class     Images  Instances      Box(P          R      mAP50  mAP50-95): 100%|██████████| 3/3 [00:00<00:00,  5.59it/s]\n"
     ]
    },
    {
     "name": "stdout",
     "output_type": "stream",
     "text": [
      "                   all        163        245      0.811      0.731      0.812      0.529\n",
      "\n",
      "      Epoch    GPU_mem   box_loss   cls_loss   dfl_loss  Instances       Size\n"
     ]
    },
    {
     "name": "stderr",
     "output_type": "stream",
     "text": [
      "      19/60      4.34G     0.8002     0.8066       1.23         24        640: 100%|██████████| 21/21 [00:03<00:00,  6.01it/s]\n",
      "                 Class     Images  Instances      Box(P          R      mAP50  mAP50-95): 100%|██████████| 3/3 [00:00<00:00,  5.50it/s]\n"
     ]
    },
    {
     "name": "stdout",
     "output_type": "stream",
     "text": [
      "                   all        163        245      0.789      0.739      0.805      0.528\n",
      "\n",
      "      Epoch    GPU_mem   box_loss   cls_loss   dfl_loss  Instances       Size\n"
     ]
    },
    {
     "name": "stderr",
     "output_type": "stream",
     "text": [
      "      20/60      4.29G     0.8032     0.8021      1.229         26        640: 100%|██████████| 21/21 [00:03<00:00,  6.11it/s]\n",
      "                 Class     Images  Instances      Box(P          R      mAP50  mAP50-95): 100%|██████████| 3/3 [00:00<00:00,  4.95it/s]\n"
     ]
    },
    {
     "name": "stdout",
     "output_type": "stream",
     "text": [
      "                   all        163        245      0.836      0.731      0.793      0.473\n",
      "\n",
      "      Epoch    GPU_mem   box_loss   cls_loss   dfl_loss  Instances       Size\n"
     ]
    },
    {
     "name": "stderr",
     "output_type": "stream",
     "text": [
      "      21/60      4.29G     0.7992      0.754      1.214         28        640: 100%|██████████| 21/21 [00:03<00:00,  6.03it/s]\n",
      "                 Class     Images  Instances      Box(P          R      mAP50  mAP50-95): 100%|██████████| 3/3 [00:00<00:00,  4.65it/s]\n"
     ]
    },
    {
     "name": "stdout",
     "output_type": "stream",
     "text": [
      "                   all        163        245      0.826      0.694      0.755      0.467\n",
      "\n",
      "      Epoch    GPU_mem   box_loss   cls_loss   dfl_loss  Instances       Size\n"
     ]
    },
    {
     "name": "stderr",
     "output_type": "stream",
     "text": [
      "      22/60      4.34G     0.7834     0.7734      1.212         43        640: 100%|██████████| 21/21 [00:03<00:00,  6.15it/s]\n",
      "                 Class     Images  Instances      Box(P          R      mAP50  mAP50-95): 100%|██████████| 3/3 [00:00<00:00,  5.02it/s]\n"
     ]
    },
    {
     "name": "stdout",
     "output_type": "stream",
     "text": [
      "                   all        163        245      0.805      0.763      0.813      0.531\n",
      "\n",
      "      Epoch    GPU_mem   box_loss   cls_loss   dfl_loss  Instances       Size\n"
     ]
    },
    {
     "name": "stderr",
     "output_type": "stream",
     "text": [
      "      23/60      4.35G     0.7869     0.7361      1.221         33        640: 100%|██████████| 21/21 [00:03<00:00,  6.07it/s]\n",
      "                 Class     Images  Instances      Box(P          R      mAP50  mAP50-95): 100%|██████████| 3/3 [00:00<00:00,  5.36it/s]\n"
     ]
    },
    {
     "name": "stdout",
     "output_type": "stream",
     "text": [
      "                   all        163        245      0.862      0.751      0.826      0.551\n",
      "\n",
      "      Epoch    GPU_mem   box_loss   cls_loss   dfl_loss  Instances       Size\n"
     ]
    },
    {
     "name": "stderr",
     "output_type": "stream",
     "text": [
      "      24/60      4.34G     0.7922     0.7488      1.216         38        640: 100%|██████████| 21/21 [00:03<00:00,  5.96it/s]\n",
      "                 Class     Images  Instances      Box(P          R      mAP50  mAP50-95): 100%|██████████| 3/3 [00:00<00:00,  5.71it/s]\n"
     ]
    },
    {
     "name": "stdout",
     "output_type": "stream",
     "text": [
      "                   all        163        245      0.809      0.726      0.794      0.504\n",
      "\n",
      "      Epoch    GPU_mem   box_loss   cls_loss   dfl_loss  Instances       Size\n"
     ]
    },
    {
     "name": "stderr",
     "output_type": "stream",
     "text": [
      "      25/60      4.33G     0.7597     0.7287      1.182         36        640: 100%|██████████| 21/21 [00:03<00:00,  6.02it/s]\n",
      "                 Class     Images  Instances      Box(P          R      mAP50  mAP50-95): 100%|██████████| 3/3 [00:00<00:00,  5.90it/s]\n"
     ]
    },
    {
     "name": "stdout",
     "output_type": "stream",
     "text": [
      "                   all        163        245      0.846      0.716      0.807      0.517\n",
      "\n",
      "      Epoch    GPU_mem   box_loss   cls_loss   dfl_loss  Instances       Size\n"
     ]
    },
    {
     "name": "stderr",
     "output_type": "stream",
     "text": [
      "      26/60      4.34G     0.7751      0.726      1.202         44        640: 100%|██████████| 21/21 [00:03<00:00,  6.05it/s]\n",
      "                 Class     Images  Instances      Box(P          R      mAP50  mAP50-95): 100%|██████████| 3/3 [00:00<00:00,  4.88it/s]\n"
     ]
    },
    {
     "name": "stdout",
     "output_type": "stream",
     "text": [
      "                   all        163        245      0.776      0.784      0.813      0.539\n",
      "\n",
      "      Epoch    GPU_mem   box_loss   cls_loss   dfl_loss  Instances       Size\n"
     ]
    },
    {
     "name": "stderr",
     "output_type": "stream",
     "text": [
      "      27/60      4.33G      0.754     0.7149      1.195         35        640: 100%|██████████| 21/21 [00:03<00:00,  6.17it/s]\n",
      "                 Class     Images  Instances      Box(P          R      mAP50  mAP50-95): 100%|██████████| 3/3 [00:00<00:00,  5.94it/s]\n"
     ]
    },
    {
     "name": "stdout",
     "output_type": "stream",
     "text": [
      "                   all        163        245      0.822      0.763      0.816      0.534\n",
      "\n",
      "      Epoch    GPU_mem   box_loss   cls_loss   dfl_loss  Instances       Size\n"
     ]
    },
    {
     "name": "stderr",
     "output_type": "stream",
     "text": [
      "      28/60      4.34G     0.7481     0.6883      1.184         24        640: 100%|██████████| 21/21 [00:03<00:00,  5.75it/s]\n",
      "                 Class     Images  Instances      Box(P          R      mAP50  mAP50-95): 100%|██████████| 3/3 [00:00<00:00,  3.94it/s]\n"
     ]
    },
    {
     "name": "stdout",
     "output_type": "stream",
     "text": [
      "                   all        163        245      0.851       0.78      0.832      0.559\n",
      "\n",
      "      Epoch    GPU_mem   box_loss   cls_loss   dfl_loss  Instances       Size\n"
     ]
    },
    {
     "name": "stderr",
     "output_type": "stream",
     "text": [
      "      29/60      4.34G     0.7233     0.6737      1.171         35        640: 100%|██████████| 21/21 [00:03<00:00,  5.57it/s]\n",
      "                 Class     Images  Instances      Box(P          R      mAP50  mAP50-95): 100%|██████████| 3/3 [00:00<00:00,  5.22it/s]\n"
     ]
    },
    {
     "name": "stdout",
     "output_type": "stream",
     "text": [
      "                   all        163        245      0.808      0.753      0.781      0.524\n",
      "\n",
      "      Epoch    GPU_mem   box_loss   cls_loss   dfl_loss  Instances       Size\n"
     ]
    },
    {
     "name": "stderr",
     "output_type": "stream",
     "text": [
      "      30/60      4.34G     0.7155     0.6636      1.176         37        640: 100%|██████████| 21/21 [00:03<00:00,  5.80it/s]\n",
      "                 Class     Images  Instances      Box(P          R      mAP50  mAP50-95): 100%|██████████| 3/3 [00:00<00:00,  5.80it/s]\n"
     ]
    },
    {
     "name": "stdout",
     "output_type": "stream",
     "text": [
      "                   all        163        245      0.805      0.771      0.795      0.523\n",
      "\n",
      "      Epoch    GPU_mem   box_loss   cls_loss   dfl_loss  Instances       Size\n"
     ]
    },
    {
     "name": "stderr",
     "output_type": "stream",
     "text": [
      "      31/60      4.29G     0.7123       0.66      1.165         33        640: 100%|██████████| 21/21 [00:03<00:00,  5.69it/s]\n",
      "                 Class     Images  Instances      Box(P          R      mAP50  mAP50-95): 100%|██████████| 3/3 [00:00<00:00,  4.24it/s]\n"
     ]
    },
    {
     "name": "stdout",
     "output_type": "stream",
     "text": [
      "                   all        163        245      0.916      0.727       0.83      0.557\n",
      "\n",
      "      Epoch    GPU_mem   box_loss   cls_loss   dfl_loss  Instances       Size\n"
     ]
    },
    {
     "name": "stderr",
     "output_type": "stream",
     "text": [
      "      32/60      4.29G     0.6986     0.6265      1.146         27        640: 100%|██████████| 21/21 [00:03<00:00,  5.63it/s]\n",
      "                 Class     Images  Instances      Box(P          R      mAP50  mAP50-95): 100%|██████████| 3/3 [00:00<00:00,  5.15it/s]\n"
     ]
    },
    {
     "name": "stdout",
     "output_type": "stream",
     "text": [
      "                   all        163        245      0.837      0.763      0.834      0.567\n",
      "\n",
      "      Epoch    GPU_mem   box_loss   cls_loss   dfl_loss  Instances       Size\n"
     ]
    },
    {
     "name": "stderr",
     "output_type": "stream",
     "text": [
      "      33/60      4.34G      0.691      0.597      1.145         26        640: 100%|██████████| 21/21 [00:03<00:00,  5.63it/s]\n",
      "                 Class     Images  Instances      Box(P          R      mAP50  mAP50-95): 100%|██████████| 3/3 [00:00<00:00,  4.26it/s]\n"
     ]
    },
    {
     "name": "stdout",
     "output_type": "stream",
     "text": [
      "                   all        163        245      0.916      0.715      0.847      0.578\n",
      "\n",
      "      Epoch    GPU_mem   box_loss   cls_loss   dfl_loss  Instances       Size\n"
     ]
    },
    {
     "name": "stderr",
     "output_type": "stream",
     "text": [
      "      34/60      4.35G     0.7043     0.6216      1.161         31        640: 100%|██████████| 21/21 [00:03<00:00,  5.68it/s]\n",
      "                 Class     Images  Instances      Box(P          R      mAP50  mAP50-95): 100%|██████████| 3/3 [00:00<00:00,  3.61it/s]\n"
     ]
    },
    {
     "name": "stdout",
     "output_type": "stream",
     "text": [
      "                   all        163        245      0.784        0.8       0.81      0.569\n",
      "\n",
      "      Epoch    GPU_mem   box_loss   cls_loss   dfl_loss  Instances       Size\n"
     ]
    },
    {
     "name": "stderr",
     "output_type": "stream",
     "text": [
      "      35/60      4.29G     0.6978     0.6269      1.158         38        640: 100%|██████████| 21/21 [00:03<00:00,  5.71it/s]\n",
      "                 Class     Images  Instances      Box(P          R      mAP50  mAP50-95): 100%|██████████| 3/3 [00:00<00:00,  4.34it/s]\n"
     ]
    },
    {
     "name": "stdout",
     "output_type": "stream",
     "text": [
      "                   all        163        245      0.857      0.751      0.832      0.579\n",
      "\n",
      "      Epoch    GPU_mem   box_loss   cls_loss   dfl_loss  Instances       Size\n"
     ]
    },
    {
     "name": "stderr",
     "output_type": "stream",
     "text": [
      "      36/60      4.34G      0.678     0.6059      1.136         29        640: 100%|██████████| 21/21 [00:03<00:00,  5.57it/s]\n",
      "                 Class     Images  Instances      Box(P          R      mAP50  mAP50-95): 100%|██████████| 3/3 [00:00<00:00,  5.55it/s]\n"
     ]
    },
    {
     "name": "stdout",
     "output_type": "stream",
     "text": [
      "                   all        163        245      0.822      0.752      0.804      0.553\n",
      "\n",
      "      Epoch    GPU_mem   box_loss   cls_loss   dfl_loss  Instances       Size\n"
     ]
    },
    {
     "name": "stderr",
     "output_type": "stream",
     "text": [
      "      37/60      4.33G     0.6669     0.5964      1.134         23        640: 100%|██████████| 21/21 [00:03<00:00,  5.69it/s]\n",
      "                 Class     Images  Instances      Box(P          R      mAP50  mAP50-95): 100%|██████████| 3/3 [00:00<00:00,  4.07it/s]\n"
     ]
    },
    {
     "name": "stdout",
     "output_type": "stream",
     "text": [
      "                   all        163        245      0.834      0.743      0.817       0.56\n",
      "\n",
      "      Epoch    GPU_mem   box_loss   cls_loss   dfl_loss  Instances       Size\n"
     ]
    },
    {
     "name": "stderr",
     "output_type": "stream",
     "text": [
      "      38/60      4.34G      0.659     0.5652      1.144         34        640: 100%|██████████| 21/21 [00:03<00:00,  5.60it/s]\n",
      "                 Class     Images  Instances      Box(P          R      mAP50  mAP50-95): 100%|██████████| 3/3 [00:00<00:00,  4.42it/s]\n"
     ]
    },
    {
     "name": "stdout",
     "output_type": "stream",
     "text": [
      "                   all        163        245      0.821      0.816      0.859      0.603\n",
      "\n",
      "      Epoch    GPU_mem   box_loss   cls_loss   dfl_loss  Instances       Size\n"
     ]
    },
    {
     "name": "stderr",
     "output_type": "stream",
     "text": [
      "      39/60      4.29G     0.6479     0.5704      1.126         40        640: 100%|██████████| 21/21 [00:03<00:00,  5.51it/s]\n",
      "                 Class     Images  Instances      Box(P          R      mAP50  mAP50-95): 100%|██████████| 3/3 [00:00<00:00,  5.57it/s]\n"
     ]
    },
    {
     "name": "stdout",
     "output_type": "stream",
     "text": [
      "                   all        163        245      0.874      0.755      0.839      0.587\n",
      "\n",
      "      Epoch    GPU_mem   box_loss   cls_loss   dfl_loss  Instances       Size\n"
     ]
    },
    {
     "name": "stderr",
     "output_type": "stream",
     "text": [
      "      40/60      4.33G     0.6414      0.581      1.106         35        640: 100%|██████████| 21/21 [00:03<00:00,  5.79it/s]\n",
      "                 Class     Images  Instances      Box(P          R      mAP50  mAP50-95): 100%|██████████| 3/3 [00:00<00:00,  4.43it/s]\n"
     ]
    },
    {
     "name": "stdout",
     "output_type": "stream",
     "text": [
      "                   all        163        245      0.886      0.751      0.835       0.58\n",
      "\n",
      "      Epoch    GPU_mem   box_loss   cls_loss   dfl_loss  Instances       Size\n"
     ]
    },
    {
     "name": "stderr",
     "output_type": "stream",
     "text": [
      "      41/60      4.35G     0.6352     0.5652      1.111         22        640: 100%|██████████| 21/21 [00:03<00:00,  5.65it/s]\n",
      "                 Class     Images  Instances      Box(P          R      mAP50  mAP50-95): 100%|██████████| 3/3 [00:00<00:00,  5.63it/s]\n"
     ]
    },
    {
     "name": "stdout",
     "output_type": "stream",
     "text": [
      "                   all        163        245      0.884      0.747      0.848       0.59\n",
      "\n",
      "      Epoch    GPU_mem   box_loss   cls_loss   dfl_loss  Instances       Size\n"
     ]
    },
    {
     "name": "stderr",
     "output_type": "stream",
     "text": [
      "      42/60      4.29G     0.6205     0.5371      1.107         31        640: 100%|██████████| 21/21 [00:03<00:00,  5.65it/s]\n",
      "                 Class     Images  Instances      Box(P          R      mAP50  mAP50-95): 100%|██████████| 3/3 [00:00<00:00,  4.46it/s]\n"
     ]
    },
    {
     "name": "stdout",
     "output_type": "stream",
     "text": [
      "                   all        163        245      0.897      0.747      0.848      0.598\n",
      "\n",
      "      Epoch    GPU_mem   box_loss   cls_loss   dfl_loss  Instances       Size\n"
     ]
    },
    {
     "name": "stderr",
     "output_type": "stream",
     "text": [
      "      43/60      4.33G     0.6315     0.5305      1.109         29        640: 100%|██████████| 21/21 [00:03<00:00,  5.76it/s]\n",
      "                 Class     Images  Instances      Box(P          R      mAP50  mAP50-95): 100%|██████████| 3/3 [00:00<00:00,  4.28it/s]\n"
     ]
    },
    {
     "name": "stdout",
     "output_type": "stream",
     "text": [
      "                   all        163        245       0.82      0.792      0.832       0.59\n",
      "\n",
      "      Epoch    GPU_mem   box_loss   cls_loss   dfl_loss  Instances       Size\n"
     ]
    },
    {
     "name": "stderr",
     "output_type": "stream",
     "text": [
      "      44/60      4.29G     0.6315      0.531      1.117         49        640: 100%|██████████| 21/21 [00:03<00:00,  5.58it/s]\n",
      "                 Class     Images  Instances      Box(P          R      mAP50  mAP50-95): 100%|██████████| 3/3 [00:00<00:00,  5.17it/s]\n"
     ]
    },
    {
     "name": "stdout",
     "output_type": "stream",
     "text": [
      "                   all        163        245      0.865      0.767      0.832      0.589\n",
      "\n",
      "      Epoch    GPU_mem   box_loss   cls_loss   dfl_loss  Instances       Size\n"
     ]
    },
    {
     "name": "stderr",
     "output_type": "stream",
     "text": [
      "      45/60      4.29G      0.613      0.517      1.097         47        640: 100%|██████████| 21/21 [00:03<00:00,  5.71it/s]\n",
      "                 Class     Images  Instances      Box(P          R      mAP50  mAP50-95): 100%|██████████| 3/3 [00:00<00:00,  5.21it/s]\n"
     ]
    },
    {
     "name": "stdout",
     "output_type": "stream",
     "text": [
      "                   all        163        245      0.864       0.75      0.828      0.588\n",
      "\n",
      "      Epoch    GPU_mem   box_loss   cls_loss   dfl_loss  Instances       Size\n"
     ]
    },
    {
     "name": "stderr",
     "output_type": "stream",
     "text": [
      "      46/60      4.29G     0.6109     0.5131      1.099         32        640: 100%|██████████| 21/21 [00:03<00:00,  5.82it/s]\n",
      "                 Class     Images  Instances      Box(P          R      mAP50  mAP50-95): 100%|██████████| 3/3 [00:00<00:00,  4.18it/s]\n"
     ]
    },
    {
     "name": "stdout",
     "output_type": "stream",
     "text": [
      "                   all        163        245       0.85      0.764      0.837      0.587\n",
      "\n",
      "      Epoch    GPU_mem   box_loss   cls_loss   dfl_loss  Instances       Size\n"
     ]
    },
    {
     "name": "stderr",
     "output_type": "stream",
     "text": [
      "      47/60      4.35G     0.6125     0.5324       1.11         42        640: 100%|██████████| 21/21 [00:03<00:00,  5.47it/s]\n",
      "                 Class     Images  Instances      Box(P          R      mAP50  mAP50-95): 100%|██████████| 3/3 [00:00<00:00,  5.50it/s]\n"
     ]
    },
    {
     "name": "stdout",
     "output_type": "stream",
     "text": [
      "                   all        163        245      0.907      0.739      0.834      0.594\n",
      "\n",
      "      Epoch    GPU_mem   box_loss   cls_loss   dfl_loss  Instances       Size\n"
     ]
    },
    {
     "name": "stderr",
     "output_type": "stream",
     "text": [
      "      48/60      4.34G     0.6047     0.5345      1.087         44        640: 100%|██████████| 21/21 [00:03<00:00,  5.72it/s]\n",
      "                 Class     Images  Instances      Box(P          R      mAP50  mAP50-95): 100%|██████████| 3/3 [00:00<00:00,  3.77it/s]\n"
     ]
    },
    {
     "name": "stdout",
     "output_type": "stream",
     "text": [
      "                   all        163        245      0.853       0.78       0.84      0.592\n",
      "\n",
      "      Epoch    GPU_mem   box_loss   cls_loss   dfl_loss  Instances       Size\n"
     ]
    },
    {
     "name": "stderr",
     "output_type": "stream",
     "text": [
      "      49/60      4.33G     0.5947     0.5054      1.074         28        640: 100%|██████████| 21/21 [00:03<00:00,  5.51it/s]\n",
      "                 Class     Images  Instances      Box(P          R      mAP50  mAP50-95): 100%|██████████| 3/3 [00:00<00:00,  4.29it/s]\n"
     ]
    },
    {
     "name": "stdout",
     "output_type": "stream",
     "text": [
      "                   all        163        245      0.835      0.803      0.836      0.588\n",
      "\n",
      "      Epoch    GPU_mem   box_loss   cls_loss   dfl_loss  Instances       Size\n"
     ]
    },
    {
     "name": "stderr",
     "output_type": "stream",
     "text": [
      "      50/60      4.33G     0.5863     0.4921      1.088         30        640: 100%|██████████| 21/21 [00:03<00:00,  5.75it/s]\n",
      "                 Class     Images  Instances      Box(P          R      mAP50  mAP50-95): 100%|██████████| 3/3 [00:00<00:00,  4.04it/s]\n"
     ]
    },
    {
     "name": "stdout",
     "output_type": "stream",
     "text": [
      "                   all        163        245      0.855      0.771      0.835      0.592\n",
      "Closing dataloader mosaic\n",
      "\n",
      "      Epoch    GPU_mem   box_loss   cls_loss   dfl_loss  Instances       Size\n"
     ]
    },
    {
     "name": "stderr",
     "output_type": "stream",
     "text": [
      "      51/60      4.49G     0.5218     0.4896      1.041         16        640: 100%|██████████| 21/21 [00:05<00:00,  3.91it/s]\n",
      "                 Class     Images  Instances      Box(P          R      mAP50  mAP50-95): 100%|██████████| 3/3 [00:00<00:00,  4.52it/s]\n"
     ]
    },
    {
     "name": "stdout",
     "output_type": "stream",
     "text": [
      "                   all        163        245      0.866      0.771      0.828       0.59\n",
      "\n",
      "      Epoch    GPU_mem   box_loss   cls_loss   dfl_loss  Instances       Size\n"
     ]
    },
    {
     "name": "stderr",
     "output_type": "stream",
     "text": [
      "      52/60       4.3G      0.492     0.4033      1.009         16        640: 100%|██████████| 21/21 [00:03<00:00,  5.77it/s]\n",
      "                 Class     Images  Instances      Box(P          R      mAP50  mAP50-95): 100%|██████████| 3/3 [00:00<00:00,  4.75it/s]\n"
     ]
    },
    {
     "name": "stdout",
     "output_type": "stream",
     "text": [
      "                   all        163        245      0.844      0.771      0.828      0.599\n",
      "\n",
      "      Epoch    GPU_mem   box_loss   cls_loss   dfl_loss  Instances       Size\n"
     ]
    },
    {
     "name": "stderr",
     "output_type": "stream",
     "text": [
      "      53/60       4.3G     0.4887     0.3918      1.005         11        640: 100%|██████████| 21/21 [00:03<00:00,  5.89it/s]\n",
      "                 Class     Images  Instances      Box(P          R      mAP50  mAP50-95): 100%|██████████| 3/3 [00:00<00:00,  3.85it/s]\n"
     ]
    },
    {
     "name": "stdout",
     "output_type": "stream",
     "text": [
      "                   all        163        245       0.84      0.788      0.836      0.599\n",
      "\n",
      "      Epoch    GPU_mem   box_loss   cls_loss   dfl_loss  Instances       Size\n"
     ]
    },
    {
     "name": "stderr",
     "output_type": "stream",
     "text": [
      "      54/60      4.29G     0.4808      0.365      1.004         13        640: 100%|██████████| 21/21 [00:03<00:00,  5.75it/s]\n",
      "                 Class     Images  Instances      Box(P          R      mAP50  mAP50-95): 100%|██████████| 3/3 [00:00<00:00,  4.59it/s]\n"
     ]
    },
    {
     "name": "stdout",
     "output_type": "stream",
     "text": [
      "                   all        163        245      0.831      0.782      0.828      0.589\n",
      "\n",
      "      Epoch    GPU_mem   box_loss   cls_loss   dfl_loss  Instances       Size\n"
     ]
    },
    {
     "name": "stderr",
     "output_type": "stream",
     "text": [
      "      55/60       4.3G     0.4629     0.3694     0.9784         14        640: 100%|██████████| 21/21 [00:03<00:00,  5.86it/s]\n",
      "                 Class     Images  Instances      Box(P          R      mAP50  mAP50-95): 100%|██████████| 3/3 [00:00<00:00,  4.63it/s]\n"
     ]
    },
    {
     "name": "stdout",
     "output_type": "stream",
     "text": [
      "                   all        163        245      0.839        0.8      0.828      0.591\n",
      "\n",
      "      Epoch    GPU_mem   box_loss   cls_loss   dfl_loss  Instances       Size\n"
     ]
    },
    {
     "name": "stderr",
     "output_type": "stream",
     "text": [
      "      56/60      4.29G     0.4789     0.3745     0.9933         20        640: 100%|██████████| 21/21 [00:03<00:00,  5.94it/s]\n",
      "                 Class     Images  Instances      Box(P          R      mAP50  mAP50-95): 100%|██████████| 3/3 [00:00<00:00,  5.41it/s]\n"
     ]
    },
    {
     "name": "stdout",
     "output_type": "stream",
     "text": [
      "                   all        163        245      0.836      0.811      0.842      0.604\n",
      "\n",
      "      Epoch    GPU_mem   box_loss   cls_loss   dfl_loss  Instances       Size\n"
     ]
    },
    {
     "name": "stderr",
     "output_type": "stream",
     "text": [
      "      57/60       4.3G     0.4471     0.3624     0.9829         16        640: 100%|██████████| 21/21 [00:03<00:00,  5.92it/s]\n",
      "                 Class     Images  Instances      Box(P          R      mAP50  mAP50-95): 100%|██████████| 3/3 [00:00<00:00,  4.00it/s]\n"
     ]
    },
    {
     "name": "stdout",
     "output_type": "stream",
     "text": [
      "                   all        163        245      0.883      0.771      0.846      0.613\n",
      "\n",
      "      Epoch    GPU_mem   box_loss   cls_loss   dfl_loss  Instances       Size\n"
     ]
    },
    {
     "name": "stderr",
     "output_type": "stream",
     "text": [
      "      58/60       4.3G     0.4367      0.344     0.9727         18        640: 100%|██████████| 21/21 [00:03<00:00,  5.68it/s]\n",
      "                 Class     Images  Instances      Box(P          R      mAP50  mAP50-95): 100%|██████████| 3/3 [00:00<00:00,  5.86it/s]\n"
     ]
    },
    {
     "name": "stdout",
     "output_type": "stream",
     "text": [
      "                   all        163        245        0.9      0.767       0.85      0.618\n",
      "\n",
      "      Epoch    GPU_mem   box_loss   cls_loss   dfl_loss  Instances       Size\n"
     ]
    },
    {
     "name": "stderr",
     "output_type": "stream",
     "text": [
      "      59/60       4.3G     0.4265     0.3488     0.9765         10        640: 100%|██████████| 21/21 [00:03<00:00,  5.90it/s]\n",
      "                 Class     Images  Instances      Box(P          R      mAP50  mAP50-95): 100%|██████████| 3/3 [00:00<00:00,  4.52it/s]\n"
     ]
    },
    {
     "name": "stdout",
     "output_type": "stream",
     "text": [
      "                   all        163        245      0.859      0.788      0.844      0.615\n",
      "\n",
      "      Epoch    GPU_mem   box_loss   cls_loss   dfl_loss  Instances       Size\n"
     ]
    },
    {
     "name": "stderr",
     "output_type": "stream",
     "text": [
      "      60/60       4.3G     0.4322     0.3308     0.9603         15        640: 100%|██████████| 21/21 [00:03<00:00,  5.72it/s]\n",
      "                 Class     Images  Instances      Box(P          R      mAP50  mAP50-95): 100%|██████████| 3/3 [00:00<00:00,  3.90it/s]\n"
     ]
    },
    {
     "name": "stdout",
     "output_type": "stream",
     "text": [
      "                   all        163        245       0.91      0.751      0.844      0.613\n",
      "\n",
      "60 epochs completed in 0.081 hours.\n",
      "Optimizer stripped from runs/detect/train/weights/last.pt, 6.3MB\n",
      "Optimizer stripped from runs/detect/train/weights/best.pt, 6.3MB\n",
      "\n",
      "Validating runs/detect/train/weights/best.pt...\n",
      "Ultralytics YOLOv8.2.28 🚀 Python-3.10.14 torch-2.3.0+cu121 CUDA:0 (NVIDIA RTX A6000, 48677MiB)\n",
      "                                                            CUDA:1 (NVIDIA RTX A6000, 48655MiB)\n",
      "Model summary (fused): 168 layers, 3005843 parameters, 0 gradients, 8.1 GFLOPs\n"
     ]
    },
    {
     "name": "stderr",
     "output_type": "stream",
     "text": [
      "/home/jrenault/mambaforge/envs/adomvi2/lib/python3.10/site-packages/torch/nn/modules/conv.py:456: UserWarning: Plan failed with a cudnnException: CUDNN_BACKEND_EXECUTION_PLAN_DESCRIPTOR: cudnnFinalize Descriptor Failed cudnn_status: CUDNN_STATUS_NOT_SUPPORTED (Triggered internally at ../aten/src/ATen/native/cudnn/Conv_v8.cpp:919.)\n",
      "  return F.conv2d(input, weight, bias, self.stride,\n",
      "                 Class     Images  Instances      Box(P          R      mAP50  mAP50-95): 100%|██████████| 3/3 [00:01<00:00,  2.71it/s]\n"
     ]
    },
    {
     "name": "stdout",
     "output_type": "stream",
     "text": [
      "                   all        163        245      0.902      0.767       0.85      0.618\n",
      "Speed: 0.1ms preprocess, 1.0ms inference, 0.0ms loss, 0.9ms postprocess per image\n",
      "Results saved to \u001b[1mruns/detect/train\u001b[0m\n"
     ]
    }
   ],
   "source": [
    "from adomvi.yolo.yolo import train\n",
    "\n",
    "train(\"yolov8n.pt\", data=export_dir / \"dataset.yaml\", batch=64, device=[0, 1])"
   ]
  },
  {
   "cell_type": "markdown",
   "id": "93614090-c4ea-4121-8e85-b85c5d49bec5",
   "metadata": {},
   "source": [
    "## Use the fine-tuned model to predict detections"
   ]
  },
  {
   "cell_type": "markdown",
   "id": "307d024f-a83a-490f-80ff-020165dc8231",
   "metadata": {},
   "source": [
    "Once our model is trained, we can simply use it to predict detections on our test dataset. Simply pass the path to the best model weights and the directory containing the test images to the `predict` function."
   ]
  },
  {
   "cell_type": "code",
   "execution_count": 20,
   "id": "712aefbd-757a-4184-8de6-4203a517f794",
   "metadata": {},
   "outputs": [
    {
     "name": "stdout",
     "output_type": "stream",
     "text": [
      "\n",
      "image 1/162 /home/jrenault/workspace/adomvi2/notebooks/vehicles/images/test/0080cbc853059db1.jpg: 448x640 1 tank, 86.1ms\n",
      "image 2/162 /home/jrenault/workspace/adomvi2/notebooks/vehicles/images/test/00c5be8db0e25f5e.jpg: 448x640 1 tank, 4.8ms\n",
      "image 3/162 /home/jrenault/workspace/adomvi2/notebooks/vehicles/images/test/01368575b56715e7.jpg: 640x640 1 tank, 5.3ms\n",
      "image 4/162 /home/jrenault/workspace/adomvi2/notebooks/vehicles/images/test/014df43a4a199fe0.jpg: 480x640 12 tanks, 88.6ms\n",
      "image 5/162 /home/jrenault/workspace/adomvi2/notebooks/vehicles/images/test/016727715ecbb0ea.jpg: 384x640 1 tank, 92.6ms\n",
      "image 6/162 /home/jrenault/workspace/adomvi2/notebooks/vehicles/images/test/021bb7e1cbb12d26.jpg: 384x640 1 tank, 8.2ms\n",
      "image 7/162 /home/jrenault/workspace/adomvi2/notebooks/vehicles/images/test/025457c66e740c30.jpg: 448x640 1 tank, 7.4ms\n",
      "image 8/162 /home/jrenault/workspace/adomvi2/notebooks/vehicles/images/test/02766a4a2a22632b.jpg: 640x448 2 tanks, 105.9ms\n",
      "image 9/162 /home/jrenault/workspace/adomvi2/notebooks/vehicles/images/test/028a8b476b0535e1.jpg: 448x640 3 tanks, 5.5ms\n",
      "image 10/162 /home/jrenault/workspace/adomvi2/notebooks/vehicles/images/test/0328376e355e88a9.jpg: 448x640 2 tanks, 4.9ms\n",
      "image 11/162 /home/jrenault/workspace/adomvi2/notebooks/vehicles/images/test/046bb8fe53b32324.jpg: 448x640 1 tank, 4.8ms\n",
      "image 12/162 /home/jrenault/workspace/adomvi2/notebooks/vehicles/images/test/047ba9fce6932e35.jpg: 448x640 1 tank, 4.7ms\n",
      "image 13/162 /home/jrenault/workspace/adomvi2/notebooks/vehicles/images/test/0491d10c8cd6074e.jpg: 416x640 1 tank, 84.7ms\n",
      "image 14/162 /home/jrenault/workspace/adomvi2/notebooks/vehicles/images/test/058a1600af2c8512.jpg: 640x480 1 tank, 82.8ms\n",
      "image 15/162 /home/jrenault/workspace/adomvi2/notebooks/vehicles/images/test/0630d98abbe260fe.jpg: 448x640 1 tank, 5.3ms\n",
      "image 16/162 /home/jrenault/workspace/adomvi2/notebooks/vehicles/images/test/07e79f408f1d4e90.jpg: 448x640 1 tank, 4.8ms\n",
      "image 17/162 /home/jrenault/workspace/adomvi2/notebooks/vehicles/images/test/08c0605b9fd0f607.jpg: 448x640 1 tank, 4.8ms\n",
      "image 18/162 /home/jrenault/workspace/adomvi2/notebooks/vehicles/images/test/08f6fbf4edfc98ba.jpg: 480x640 1 tank, 5.3ms\n",
      "image 19/162 /home/jrenault/workspace/adomvi2/notebooks/vehicles/images/test/09d3f318e01f8956.jpg: 384x640 1 tank, 5.1ms\n",
      "image 20/162 /home/jrenault/workspace/adomvi2/notebooks/vehicles/images/test/0a72fba6291b9b80.jpg: 480x640 2 tanks, 5.2ms\n",
      "image 21/162 /home/jrenault/workspace/adomvi2/notebooks/vehicles/images/test/0aa246d18920d40f.jpg: 448x640 1 tank, 5.2ms\n",
      "image 22/162 /home/jrenault/workspace/adomvi2/notebooks/vehicles/images/test/0cab44cde9def954.jpg: 448x640 1 tank, 4.7ms\n",
      "image 23/162 /home/jrenault/workspace/adomvi2/notebooks/vehicles/images/test/0e0f3872a3f9cd3b.jpg: 640x512 1 tank, 84.5ms\n",
      "image 24/162 /home/jrenault/workspace/adomvi2/notebooks/vehicles/images/test/0ea62c5d4f50c422.jpg: 384x640 1 tank, 5.2ms\n",
      "image 25/162 /home/jrenault/workspace/adomvi2/notebooks/vehicles/images/test/10c25e9740b9be2c.jpg: 480x640 1 tank, 5.3ms\n",
      "image 26/162 /home/jrenault/workspace/adomvi2/notebooks/vehicles/images/test/10fc3365a1ebf327.jpg: 480x640 2 tanks, 4.9ms\n",
      "image 27/162 /home/jrenault/workspace/adomvi2/notebooks/vehicles/images/test/132c8b46ab724f37.jpg: 480x640 1 tank, 4.8ms\n",
      "image 28/162 /home/jrenault/workspace/adomvi2/notebooks/vehicles/images/test/144df31d224d67d8.jpg: 448x640 1 tank, 5.3ms\n",
      "image 29/162 /home/jrenault/workspace/adomvi2/notebooks/vehicles/images/test/14595fa634447e78.jpg: 512x640 2 tanks, 89.4ms\n",
      "image 30/162 /home/jrenault/workspace/adomvi2/notebooks/vehicles/images/test/15e2ebc038cc5f0f.jpg: 448x640 1 tank, 5.4ms\n",
      "image 31/162 /home/jrenault/workspace/adomvi2/notebooks/vehicles/images/test/15f6bb4282e848fe.jpg: 448x640 2 tanks, 4.9ms\n",
      "image 32/162 /home/jrenault/workspace/adomvi2/notebooks/vehicles/images/test/164451530d3466b5.jpg: 512x640 1 tank, 5.4ms\n",
      "image 33/162 /home/jrenault/workspace/adomvi2/notebooks/vehicles/images/test/1676dbc71dd4f81a.jpg: 480x640 1 tank, 5.4ms\n",
      "image 34/162 /home/jrenault/workspace/adomvi2/notebooks/vehicles/images/test/169336f46fe4f31d.jpg: 448x640 2 tanks, 5.2ms\n",
      "image 35/162 /home/jrenault/workspace/adomvi2/notebooks/vehicles/images/test/16d5804cd488ed8e.jpg: 448x640 1 tank, 5.2ms\n",
      "image 36/162 /home/jrenault/workspace/adomvi2/notebooks/vehicles/images/test/18e6d4a079ceb28e.jpg: 640x544 1 tank, 91.2ms\n",
      "image 37/162 /home/jrenault/workspace/adomvi2/notebooks/vehicles/images/test/1e2128c01814c72a.jpg: 448x640 2 tanks, 5.8ms\n",
      "image 38/162 /home/jrenault/workspace/adomvi2/notebooks/vehicles/images/test/1e5a61d38d4153f8.jpg: 448x640 1 tank, 5.0ms\n",
      "image 39/162 /home/jrenault/workspace/adomvi2/notebooks/vehicles/images/test/1e5e6ef4a2a05366.jpg: 480x640 2 tanks, 5.5ms\n",
      "image 40/162 /home/jrenault/workspace/adomvi2/notebooks/vehicles/images/test/1e979696da9ccd5e.jpg: 448x640 2 tanks, 6.1ms\n",
      "image 41/162 /home/jrenault/workspace/adomvi2/notebooks/vehicles/images/test/24911097e4761cdc.jpg: 448x640 1 tank, 5.1ms\n",
      "image 42/162 /home/jrenault/workspace/adomvi2/notebooks/vehicles/images/test/2649cc6b5b663130.jpg: 448x640 1 tank, 4.9ms\n",
      "image 43/162 /home/jrenault/workspace/adomvi2/notebooks/vehicles/images/test/2658503ef36b54bc.jpg: 448x640 1 tank, 5.0ms\n",
      "image 44/162 /home/jrenault/workspace/adomvi2/notebooks/vehicles/images/test/27c8c0956e71b1bb.jpg: 448x640 1 tank, 5.0ms\n",
      "image 45/162 /home/jrenault/workspace/adomvi2/notebooks/vehicles/images/test/2fd3cdbe1db2d349.jpg: 448x640 1 tank, 5.1ms\n",
      "image 46/162 /home/jrenault/workspace/adomvi2/notebooks/vehicles/images/test/33a27cbf400f9eef.jpg: 416x640 1 tank, 5.4ms\n",
      "image 47/162 /home/jrenault/workspace/adomvi2/notebooks/vehicles/images/test/353fbff31f6039aa.jpg: 416x640 1 tank, 5.0ms\n",
      "image 48/162 /home/jrenault/workspace/adomvi2/notebooks/vehicles/images/test/36c9e4cd0b9a0da2.jpg: 480x640 1 tank, 5.7ms\n",
      "image 49/162 /home/jrenault/workspace/adomvi2/notebooks/vehicles/images/test/3a66ef4929893c84.jpg: 480x640 1 tank, 4.9ms\n",
      "image 50/162 /home/jrenault/workspace/adomvi2/notebooks/vehicles/images/test/3ade557e32aec5bb.jpg: 448x640 1 tank, 5.1ms\n",
      "image 51/162 /home/jrenault/workspace/adomvi2/notebooks/vehicles/images/test/3f7bcbfa10243e7f.jpg: 448x640 1 tank, 4.8ms\n",
      "image 52/162 /home/jrenault/workspace/adomvi2/notebooks/vehicles/images/test/40329e2829c196dc.jpg: 448x640 1 tank, 4.9ms\n",
      "image 53/162 /home/jrenault/workspace/adomvi2/notebooks/vehicles/images/test/4561265b6f9c9f4c.jpg: 480x640 1 tank, 5.3ms\n",
      "image 54/162 /home/jrenault/workspace/adomvi2/notebooks/vehicles/images/test/47baa2ab9325b56a.jpg: 640x448 2 tanks, 5.3ms\n",
      "image 55/162 /home/jrenault/workspace/adomvi2/notebooks/vehicles/images/test/4bf44137f0f3c26a.jpg: 480x640 3 tanks, 5.4ms\n",
      "image 56/162 /home/jrenault/workspace/adomvi2/notebooks/vehicles/images/test/4c43de2a07b8fa95.jpg: 448x640 1 tank, 5.3ms\n",
      "image 57/162 /home/jrenault/workspace/adomvi2/notebooks/vehicles/images/test/4f382d56f4fce2af.jpg: 448x640 1 tank, 4.8ms\n",
      "image 58/162 /home/jrenault/workspace/adomvi2/notebooks/vehicles/images/test/4fcf936f798da043.jpg: 480x640 1 tank, 5.3ms\n",
      "image 59/162 /home/jrenault/workspace/adomvi2/notebooks/vehicles/images/test/5044622355d63450.jpg: 480x640 1 tank, 4.8ms\n",
      "image 60/162 /home/jrenault/workspace/adomvi2/notebooks/vehicles/images/test/53d1cf01fe69fa6f.jpg: 448x640 1 tank, 5.2ms\n",
      "image 61/162 /home/jrenault/workspace/adomvi2/notebooks/vehicles/images/test/544be3565674bebf.jpg: 416x640 1 tank, 5.2ms\n",
      "image 62/162 /home/jrenault/workspace/adomvi2/notebooks/vehicles/images/test/552879088568b0fc.jpg: 480x640 2 tanks, 5.3ms\n",
      "image 63/162 /home/jrenault/workspace/adomvi2/notebooks/vehicles/images/test/5553c7b61f9fccf9.jpg: 448x640 1 tank, 5.4ms\n",
      "image 64/162 /home/jrenault/workspace/adomvi2/notebooks/vehicles/images/test/5568baffb6280b92.jpg: 480x640 2 tanks, 5.4ms\n",
      "image 65/162 /home/jrenault/workspace/adomvi2/notebooks/vehicles/images/test/55b1b7a6b295aafe.jpg: 448x640 1 tank, 5.3ms\n",
      "image 66/162 /home/jrenault/workspace/adomvi2/notebooks/vehicles/images/test/573734c966bdf3a4.jpg: 352x640 2 tanks, 85.2ms\n",
      "image 67/162 /home/jrenault/workspace/adomvi2/notebooks/vehicles/images/test/57785cca579e28c4.jpg: 480x640 1 tank, 5.3ms\n",
      "image 68/162 /home/jrenault/workspace/adomvi2/notebooks/vehicles/images/test/582df6b02212422d.jpg: 480x640 1 tank, 4.8ms\n",
      "image 69/162 /home/jrenault/workspace/adomvi2/notebooks/vehicles/images/test/586f62e4a8f1cddd.jpg: 448x640 2 tanks, 5.3ms\n",
      "image 70/162 /home/jrenault/workspace/adomvi2/notebooks/vehicles/images/test/5e9f6630668cc431.jpg: 480x640 1 tank, 5.2ms\n",
      "image 71/162 /home/jrenault/workspace/adomvi2/notebooks/vehicles/images/test/63c3b017674d1d8c.jpg: 448x640 1 tank, 5.2ms\n",
      "image 72/162 /home/jrenault/workspace/adomvi2/notebooks/vehicles/images/test/660e6f79c253b7cc.jpg: 448x640 2 tanks, 4.9ms\n",
      "image 73/162 /home/jrenault/workspace/adomvi2/notebooks/vehicles/images/test/661ec1f758c5d254.jpg: 576x640 1 tank, 86.4ms\n",
      "image 74/162 /home/jrenault/workspace/adomvi2/notebooks/vehicles/images/test/6bf0658e3e157848.jpg: 448x640 2 tanks, 5.3ms\n",
      "image 75/162 /home/jrenault/workspace/adomvi2/notebooks/vehicles/images/test/6c175c4218615132.jpg: 416x640 1 tank, 5.2ms\n",
      "image 76/162 /home/jrenault/workspace/adomvi2/notebooks/vehicles/images/test/6d96c15cf01f0938.jpg: 448x640 1 tank, 5.5ms\n",
      "image 77/162 /home/jrenault/workspace/adomvi2/notebooks/vehicles/images/test/7076006c53441f32.jpg: 448x640 1 tank, 5.0ms\n",
      "image 78/162 /home/jrenault/workspace/adomvi2/notebooks/vehicles/images/test/722ef70948bbbbc9.jpg: 448x640 1 tank, 5.2ms\n",
      "image 79/162 /home/jrenault/workspace/adomvi2/notebooks/vehicles/images/test/741ae21e01cde8fd.jpg: 448x640 2 tanks, 4.9ms\n",
      "image 80/162 /home/jrenault/workspace/adomvi2/notebooks/vehicles/images/test/7edd13fa15b7e895.jpg: 640x512 1 tank, 6.0ms\n",
      "image 81/162 /home/jrenault/workspace/adomvi2/notebooks/vehicles/images/test/80f73bb50ae00d60.jpg: 416x640 1 tank, 5.8ms\n",
      "image 82/162 /home/jrenault/workspace/adomvi2/notebooks/vehicles/images/test/818a844fd465ac22.jpg: 288x640 1 tank, 95.7ms\n",
      "image 83/162 /home/jrenault/workspace/adomvi2/notebooks/vehicles/images/test/8522239081e735c8.jpg: 448x640 2 tanks, 6.9ms\n",
      "image 84/162 /home/jrenault/workspace/adomvi2/notebooks/vehicles/images/test/88ec0372ef854183.jpg: 640x448 3 tanks, 7.0ms\n",
      "image 85/162 /home/jrenault/workspace/adomvi2/notebooks/vehicles/images/test/8a0bec590e606399.jpg: 448x640 1 tank, 7.3ms\n",
      "image 86/162 /home/jrenault/workspace/adomvi2/notebooks/vehicles/images/test/8b10a4896215d56e.jpg: 512x640 1 tank, 7.3ms\n",
      "image 87/162 /home/jrenault/workspace/adomvi2/notebooks/vehicles/images/test/8c869aaca75a507a.jpg: 480x640 1 tank, 5.4ms\n",
      "image 88/162 /home/jrenault/workspace/adomvi2/notebooks/vehicles/images/test/8c9cd3cd6287439a.jpg: 448x640 2 tanks, 5.2ms\n",
      "image 89/162 /home/jrenault/workspace/adomvi2/notebooks/vehicles/images/test/8fe6f91a9c11aca9.jpg: 448x640 1 tank, 4.7ms\n",
      "image 90/162 /home/jrenault/workspace/adomvi2/notebooks/vehicles/images/test/948aa1bcfdbe333f.jpg: 448x640 1 tank, 4.6ms\n",
      "image 91/162 /home/jrenault/workspace/adomvi2/notebooks/vehicles/images/test/992ddb9aa11e82ca.jpg: 480x640 1 tank, 5.2ms\n",
      "image 92/162 /home/jrenault/workspace/adomvi2/notebooks/vehicles/images/test/996f145d48b7e093.jpg: 448x640 1 tank, 5.0ms\n",
      "image 93/162 /home/jrenault/workspace/adomvi2/notebooks/vehicles/images/test/9e9435737f1fc4cd.jpg: 448x640 2 tanks, 4.8ms\n",
      "image 94/162 /home/jrenault/workspace/adomvi2/notebooks/vehicles/images/test/a3229dddff86a4ea.jpg: 640x640 1 tank, 5.3ms\n",
      "image 95/162 /home/jrenault/workspace/adomvi2/notebooks/vehicles/images/test/a6bd49f0c1f9dc96.jpg: 448x640 1 tank, 5.6ms\n",
      "image 96/162 /home/jrenault/workspace/adomvi2/notebooks/vehicles/images/test/a9e98c00175ee1ca.jpg: 448x640 1 tank, 4.8ms\n",
      "image 97/162 /home/jrenault/workspace/adomvi2/notebooks/vehicles/images/test/b0ab66c440cfb524.jpg: 480x640 1 tank, 5.2ms\n",
      "image 98/162 /home/jrenault/workspace/adomvi2/notebooks/vehicles/images/test/b50cfc114771bade.jpg: 448x640 1 tank, 5.2ms\n",
      "image 99/162 /home/jrenault/workspace/adomvi2/notebooks/vehicles/images/test/b5954340b7665c26.jpg: 448x640 2 tanks, 4.8ms\n",
      "image 100/162 /home/jrenault/workspace/adomvi2/notebooks/vehicles/images/test/bf81bf78f497317b.jpg: 448x640 1 tank, 4.6ms\n",
      "image 101/162 /home/jrenault/workspace/adomvi2/notebooks/vehicles/images/test/c0cbbea705bb33aa.jpg: 416x640 1 tank, 5.1ms\n",
      "image 102/162 /home/jrenault/workspace/adomvi2/notebooks/vehicles/images/test/c5510be73b2d1b24.jpg: 480x640 3 tanks, 5.3ms\n",
      "image 103/162 /home/jrenault/workspace/adomvi2/notebooks/vehicles/images/test/c5b7ff57ddb6fc99.jpg: 480x640 2 tanks, 4.8ms\n",
      "image 104/162 /home/jrenault/workspace/adomvi2/notebooks/vehicles/images/test/c5ed1732df8f8bb6.jpg: 640x640 7 tanks, 5.4ms\n",
      "image 105/162 /home/jrenault/workspace/adomvi2/notebooks/vehicles/images/test/c5f784481b651356.jpg: 448x640 2 tanks, 5.2ms\n",
      "image 106/162 /home/jrenault/workspace/adomvi2/notebooks/vehicles/images/test/c9ce63abf06e7fe4.jpg: 448x640 2 tanks, 4.7ms\n",
      "image 107/162 /home/jrenault/workspace/adomvi2/notebooks/vehicles/images/test/cc26bf58c1bb6ca4.jpg: 512x640 1 tank, 5.4ms\n",
      "image 108/162 /home/jrenault/workspace/adomvi2/notebooks/vehicles/images/test/cc994da128bc2408.jpg: 448x640 1 tank, 5.2ms\n",
      "image 109/162 /home/jrenault/workspace/adomvi2/notebooks/vehicles/images/test/cf2099c1f03f6b21.jpg: 448x640 2 tanks, 4.8ms\n",
      "image 110/162 /home/jrenault/workspace/adomvi2/notebooks/vehicles/images/test/d65545caf772e991.jpg: 320x640 1 tank, 84.1ms\n",
      "image 111/162 /home/jrenault/workspace/adomvi2/notebooks/vehicles/images/test/da73ca0fa1212d49.jpg: 448x640 3 tanks, 5.3ms\n",
      "image 112/162 /home/jrenault/workspace/adomvi2/notebooks/vehicles/images/test/dc2b543766408620.jpg: 640x480 2 tanks, 5.2ms\n",
      "image 113/162 /home/jrenault/workspace/adomvi2/notebooks/vehicles/images/test/dc6e8ce4c73b58d6.jpg: 512x640 1 tank, 5.2ms\n",
      "image 114/162 /home/jrenault/workspace/adomvi2/notebooks/vehicles/images/test/dcbb00224e4b0a11.jpg: 640x448 (no detections), 5.2ms\n",
      "image 115/162 /home/jrenault/workspace/adomvi2/notebooks/vehicles/images/test/deb2aa08a1bcd6fe.jpg: 480x640 1 tank, 5.1ms\n",
      "image 116/162 /home/jrenault/workspace/adomvi2/notebooks/vehicles/images/test/e0ddc3081bb4ce12.jpg: 480x640 1 tank, 4.8ms\n",
      "image 117/162 /home/jrenault/workspace/adomvi2/notebooks/vehicles/images/test/e18becc226b915c4.jpg: 480x640 7 tanks, 5.2ms\n",
      "image 118/162 /home/jrenault/workspace/adomvi2/notebooks/vehicles/images/test/e35a3dd5a5ae41ab.jpg: 448x640 1 tank, 5.6ms\n",
      "image 119/162 /home/jrenault/workspace/adomvi2/notebooks/vehicles/images/test/e7caa06357758325.jpg: 480x640 1 tank, 5.4ms\n",
      "image 120/162 /home/jrenault/workspace/adomvi2/notebooks/vehicles/images/test/f1085e634858ffb9.jpg: 480x640 8 tanks, 4.9ms\n",
      "image 121/162 /home/jrenault/workspace/adomvi2/notebooks/vehicles/images/test/f4c37d55cb30d707.jpg: 640x640 1 tank, 5.3ms\n",
      "image 122/162 /home/jrenault/workspace/adomvi2/notebooks/vehicles/images/test/f67d248791173082.jpg: 448x640 5 tanks, 5.1ms\n",
      "image 123/162 /home/jrenault/workspace/adomvi2/notebooks/vehicles/images/test/f786ffc26db6fd0d.jpg: 448x640 1 tank, 4.8ms\n",
      "image 124/162 /home/jrenault/workspace/adomvi2/notebooks/vehicles/images/test/f7b0466e7bf52715.jpg: 416x640 1 tank, 5.5ms\n",
      "image 125/162 /home/jrenault/workspace/adomvi2/notebooks/vehicles/images/test/f864f0d987bb8092.jpg: 480x640 3 tanks, 5.3ms\n",
      "image 126/162 /home/jrenault/workspace/adomvi2/notebooks/vehicles/images/test/fd44cd30a3c31b3c.jpg: 448x640 1 tank, 5.2ms\n",
      "image 127/162 /home/jrenault/workspace/adomvi2/notebooks/vehicles/images/test/ffc82325b8fedf6d.jpg: 448x640 1 tank, 4.7ms\n",
      "image 128/162 /home/jrenault/workspace/adomvi2/notebooks/vehicles/images/test/n04389033_10744.JPEG: 448x640 1 tank, 4.6ms\n",
      "image 129/162 /home/jrenault/workspace/adomvi2/notebooks/vehicles/images/test/n04389033_10796.JPEG: 448x640 1 tank, 4.7ms\n",
      "image 130/162 /home/jrenault/workspace/adomvi2/notebooks/vehicles/images/test/n04389033_11078.JPEG: 480x640 1 tank, 5.0ms\n",
      "image 131/162 /home/jrenault/workspace/adomvi2/notebooks/vehicles/images/test/n04389033_1158.JPEG: 480x640 1 tank, 4.7ms\n",
      "image 132/162 /home/jrenault/workspace/adomvi2/notebooks/vehicles/images/test/n04389033_13050.JPEG: 480x640 1 tank, 4.9ms\n",
      "image 133/162 /home/jrenault/workspace/adomvi2/notebooks/vehicles/images/test/n04389033_1309.JPEG: 544x640 1 tank, 97.6ms\n",
      "image 134/162 /home/jrenault/workspace/adomvi2/notebooks/vehicles/images/test/n04389033_13483.JPEG: 448x640 1 tank, 5.7ms\n",
      "image 135/162 /home/jrenault/workspace/adomvi2/notebooks/vehicles/images/test/n04389033_13650.JPEG: 320x640 1 tank, 6.6ms\n",
      "image 136/162 /home/jrenault/workspace/adomvi2/notebooks/vehicles/images/test/n04389033_15926.JPEG: 512x640 1 tank, 5.5ms\n",
      "image 137/162 /home/jrenault/workspace/adomvi2/notebooks/vehicles/images/test/n04389033_16422.JPEG: 480x640 1 tank, 5.5ms\n",
      "image 138/162 /home/jrenault/workspace/adomvi2/notebooks/vehicles/images/test/n04389033_18555.JPEG: 480x640 1 tank, 4.7ms\n",
      "image 139/162 /home/jrenault/workspace/adomvi2/notebooks/vehicles/images/test/n04389033_1948.JPEG: 352x640 2 tanks, 7.0ms\n",
      "image 140/162 /home/jrenault/workspace/adomvi2/notebooks/vehicles/images/test/n04389033_19484.JPEG: 480x640 1 tank, 5.3ms\n",
      "image 141/162 /home/jrenault/workspace/adomvi2/notebooks/vehicles/images/test/n04389033_19919.JPEG: 480x640 2 tanks, 4.9ms\n",
      "image 142/162 /home/jrenault/workspace/adomvi2/notebooks/vehicles/images/test/n04389033_20223.JPEG: 448x640 2 tanks, 5.4ms\n",
      "image 143/162 /home/jrenault/workspace/adomvi2/notebooks/vehicles/images/test/n04389033_20332.JPEG: 480x640 1 tank, 5.5ms\n",
      "image 144/162 /home/jrenault/workspace/adomvi2/notebooks/vehicles/images/test/n04389033_22777.JPEG: 448x640 1 tank, 7.0ms\n",
      "image 145/162 /home/jrenault/workspace/adomvi2/notebooks/vehicles/images/test/n04389033_22800.JPEG: 448x640 1 tank, 4.9ms\n",
      "image 146/162 /home/jrenault/workspace/adomvi2/notebooks/vehicles/images/test/n04389033_23949.JPEG: 480x640 1 tank, 5.2ms\n",
      "image 147/162 /home/jrenault/workspace/adomvi2/notebooks/vehicles/images/test/n04389033_24632.JPEG: 480x640 1 tank, 4.7ms\n",
      "image 148/162 /home/jrenault/workspace/adomvi2/notebooks/vehicles/images/test/n04389033_24643.JPEG: 448x640 2 tanks, 5.0ms\n",
      "image 149/162 /home/jrenault/workspace/adomvi2/notebooks/vehicles/images/test/n04389033_24665.JPEG: 512x640 2 tanks, 5.1ms\n",
      "image 150/162 /home/jrenault/workspace/adomvi2/notebooks/vehicles/images/test/n04389033_25541.JPEG: 480x640 1 tank, 5.1ms\n",
      "image 151/162 /home/jrenault/workspace/adomvi2/notebooks/vehicles/images/test/n04389033_2588.JPEG: 480x640 1 tank, 4.7ms\n",
      "image 152/162 /home/jrenault/workspace/adomvi2/notebooks/vehicles/images/test/n04389033_26268.JPEG: 544x640 2 tanks, 5.4ms\n",
      "image 153/162 /home/jrenault/workspace/adomvi2/notebooks/vehicles/images/test/n04389033_26500.JPEG: 448x640 1 tank, 5.1ms\n",
      "image 154/162 /home/jrenault/workspace/adomvi2/notebooks/vehicles/images/test/n04389033_28242.JPEG: 480x640 1 tank, 5.0ms\n",
      "image 155/162 /home/jrenault/workspace/adomvi2/notebooks/vehicles/images/test/n04389033_28965.JPEG: 416x640 1 tank, 5.1ms\n",
      "image 156/162 /home/jrenault/workspace/adomvi2/notebooks/vehicles/images/test/n04389033_29590.JPEG: 480x640 1 tank, 5.1ms\n",
      "image 157/162 /home/jrenault/workspace/adomvi2/notebooks/vehicles/images/test/n04389033_31189.JPEG: 480x640 1 tank, 4.7ms\n",
      "image 158/162 /home/jrenault/workspace/adomvi2/notebooks/vehicles/images/test/n04389033_32241.JPEG: 448x640 2 tanks, 5.1ms\n",
      "image 159/162 /home/jrenault/workspace/adomvi2/notebooks/vehicles/images/test/n04389033_32879.JPEG: 544x640 1 tank, 5.1ms\n",
      "image 160/162 /home/jrenault/workspace/adomvi2/notebooks/vehicles/images/test/n04389033_6920.JPEG: 480x640 2 tanks, 5.2ms\n",
      "image 161/162 /home/jrenault/workspace/adomvi2/notebooks/vehicles/images/test/n04389033_9345.JPEG: 480x640 1 tank, 4.6ms\n",
      "image 162/162 /home/jrenault/workspace/adomvi2/notebooks/vehicles/images/test/n04389033_9412.JPEG: 480x640 1 tank, 4.5ms\n",
      "Speed: 1.7ms preprocess, 12.5ms inference, 1.1ms postprocess per image at shape (1, 3, 480, 640)\n",
      "Results saved to \u001b[1mruns/detect/predict\u001b[0m\n",
      "161 labels saved to runs/detect/predict/labels\n"
     ]
    }
   ],
   "source": [
    "from pathlib import Path\n",
    "from adomvi.yolo.yolo import predict\n",
    "\n",
    "best_model = Path() / \"runs/detect/train/weights/best.pt\"\n",
    "results = predict(best_model, source=export_dir / \"images/test\")"
   ]
  },
  {
   "cell_type": "markdown",
   "id": "71ef120f-376b-4218-ba8b-fdb5baad96c2",
   "metadata": {},
   "source": [
    "## Evaluate model predictions"
   ]
  },
  {
   "cell_type": "markdown",
   "id": "a9c3470a-653b-4552-a750-90238b94039e",
   "metadata": {},
   "source": [
    "We can first evaluate our model by loading the predictions in a Fiftyone dataset view of our test data. We select the images tagged as part of the test set in our dataset."
   ]
  },
  {
   "cell_type": "code",
   "execution_count": 21,
   "id": "0d17c385-0934-41d4-952c-d25364780bbc",
   "metadata": {},
   "outputs": [],
   "source": [
    "# The test split of the dataset\n",
    "test_view = dataset.match_tags(\"test\")"
   ]
  },
  {
   "cell_type": "markdown",
   "id": "20ccadc7-987c-4aff-91ec-d44da3370dde",
   "metadata": {},
   "source": [
    "Then we can load the model predictions as fields of the images in our test view."
   ]
  },
  {
   "cell_type": "code",
   "execution_count": 35,
   "id": "5ebffeaa-46b3-4f96-8e5b-db0531e8d6f8",
   "metadata": {},
   "outputs": [],
   "source": [
    "from pathlib import Path\n",
    "from adomvi.yolo.utils import add_yolo_detections\n",
    "\n",
    "prediction_field = \"yolov8\"\n",
    "predictions_dir = Path() / \"runs/detect/predict/labels\"\n",
    "add_yolo_detections(test_view, prediction_field=prediction_field, predictions_dir=predictions_dir, class_list=[\"tank\"])"
   ]
  },
  {
   "cell_type": "markdown",
   "id": "08a6c727-fc8a-46f8-aef0-613ff77d7cc4",
   "metadata": {},
   "source": [
    "Now we can visualize these YOLOv8 model predictions on the samples in our dataset in the FiftyOne app:"
   ]
  },
  {
   "cell_type": "code",
   "execution_count": 36,
   "id": "5c0da62f-30e6-4abf-a33b-68923ae40175",
   "metadata": {},
   "outputs": [
    {
     "data": {
      "application/javascript": [
       "window.open('http://localhost:5151/');"
      ],
      "text/plain": [
       "<IPython.core.display.Javascript object>"
      ]
     },
     "metadata": {},
     "output_type": "display_data"
    }
   ],
   "source": [
    "session.open_tab()"
   ]
  },
  {
   "cell_type": "markdown",
   "id": "c06d3a9f-aabe-43a5-b264-c0d935194b0e",
   "metadata": {},
   "source": [
    "Finally, we can evaluate our model's predictions and print the mAP."
   ]
  },
  {
   "cell_type": "code",
   "execution_count": 37,
   "id": "f04724f1-42ff-424c-bc65-b8b7f76d097c",
   "metadata": {},
   "outputs": [
    {
     "name": "stdout",
     "output_type": "stream",
     "text": [
      "Evaluating detections...\n"
     ]
    },
    {
     "name": "stderr",
     "output_type": "stream",
     "text": [
      "INFO:fiftyone.utils.eval.detection:Evaluating detections...\n"
     ]
    },
    {
     "name": "stdout",
     "output_type": "stream",
     "text": []
    },
    {
     "name": "stdout",
     "output_type": "stream",
     "text": [
      " 100% |█████████████████| 162/162 [569.9ms elapsed, 0s remaining, 284.3 samples/s]      \n"
     ]
    },
    {
     "name": "stderr",
     "output_type": "stream",
     "text": [
      "INFO:eta.core.utils: 100% |█████████████████| 162/162 [569.9ms elapsed, 0s remaining, 284.3 samples/s]      \n"
     ]
    },
    {
     "name": "stdout",
     "output_type": "stream",
     "text": [
      "Performing IoU sweep...\n"
     ]
    },
    {
     "name": "stderr",
     "output_type": "stream",
     "text": [
      "INFO:fiftyone.utils.eval.coco:Performing IoU sweep...\n"
     ]
    },
    {
     "name": "stdout",
     "output_type": "stream",
     "text": []
    },
    {
     "name": "stdout",
     "output_type": "stream",
     "text": [
      " 100% |█████████████████| 162/162 [585.3ms elapsed, 0s remaining, 276.8 samples/s]      \n"
     ]
    },
    {
     "name": "stderr",
     "output_type": "stream",
     "text": [
      "INFO:eta.core.utils: 100% |█████████████████| 162/162 [585.3ms elapsed, 0s remaining, 276.8 samples/s]      \n"
     ]
    }
   ],
   "source": [
    "detection_results = test_view.evaluate_detections(\n",
    "    prediction_field, \n",
    "    eval_key=\"eval\",\n",
    "    compute_mAP=True,\n",
    "    gt_field=\"ground_truth\",\n",
    ")"
   ]
  },
  {
   "cell_type": "code",
   "execution_count": 38,
   "id": "ba9326b5-b4fc-49d9-96ff-a21293e8bd86",
   "metadata": {},
   "outputs": [
    {
     "name": "stdout",
     "output_type": "stream",
     "text": [
      "mAP = 0.5826986060627386\n"
     ]
    }
   ],
   "source": [
    "mAP = detection_results.mAP()\n",
    "print(f\"mAP = {mAP}\")"
   ]
  },
  {
   "cell_type": "code",
   "execution_count": 39,
   "id": "6818e918-1a61-4ac7-a403-e1e59b3fe9d4",
   "metadata": {},
   "outputs": [
    {
     "name": "stdout",
     "output_type": "stream",
     "text": [
      "              precision    recall  f1-score   support\n",
      "\n",
      "        tank       0.85      0.79      0.82       260\n",
      "\n",
      "   micro avg       0.85      0.79      0.82       260\n",
      "   macro avg       0.85      0.79      0.82       260\n",
      "weighted avg       0.85      0.79      0.82       260\n",
      "\n"
     ]
    }
   ],
   "source": [
    "detection_results.print_report()"
   ]
  },
  {
   "cell_type": "code",
   "execution_count": null,
   "id": "008583b5-5ff9-4fce-8e51-bd9ac8583c32",
   "metadata": {},
   "outputs": [],
   "source": []
  }
 ],
 "metadata": {
  "kernelspec": {
   "display_name": "Python 3 (ipykernel)",
   "language": "python",
   "name": "python3"
  },
  "language_info": {
   "codemirror_mode": {
    "name": "ipython",
    "version": 3
   },
   "file_extension": ".py",
   "mimetype": "text/x-python",
   "name": "python",
   "nbconvert_exporter": "python",
   "pygments_lexer": "ipython3",
   "version": "3.10.14"
  }
 },
 "nbformat": 4,
 "nbformat_minor": 5
}
