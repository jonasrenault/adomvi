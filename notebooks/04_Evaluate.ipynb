{
 "cells": [
  {
   "cell_type": "markdown",
   "id": "35388cc5-0837-4684-b8bc-6bb966702905",
   "metadata": {},
   "source": [
    "# Evaluate military vehicle detections on The Search_2 dataset"
   ]
  },
  {
   "cell_type": "markdown",
   "id": "79a3f1a4-6411-42c5-97f9-6edf5f6da5ab",
   "metadata": {},
   "source": [
    "This notebook provides a small benchmark to evaluate automated military vehicle detection models on a real dataset. Deep-learning object detection models can give reasonable detection performance when fine-tuned on specific datasets. However, acquiring enough data corresponding to a real military setting is a challenge, as demonstrated by this project. It is therefore important to evaluate these models in a military setting, with a target area around tens of pixels in a cluttered environment.\n",
    "\n",
    "We propose to use [The Search 2](https://figshare.com/articles/dataset/The_Search_2_dataset/1041463) dataset for such an evaluation. The Search_2 dataset consists of 44 high-resolution digital color images of different complex natural scenes, with each scene (image) containing a single military vehicle that serves as a search target. Ground truth annotations are provided for the targets."
   ]
  },
  {
   "cell_type": "markdown",
   "id": "a8c8b01e-bb87-478f-9d48-3a57dd97d7a5",
   "metadata": {},
   "source": [
    "### Download and load the dataset\n",
    "\n",
    "To begin, we download the dataset and load it into fiftyone."
   ]
  },
  {
   "cell_type": "code",
   "execution_count": 2,
   "id": "cd0c99ff-30fe-4767-80de-3a33f22d6656",
   "metadata": {},
   "outputs": [],
   "source": [
    "from pathlib import Path\n",
    "from adomvi.utils import download_and_extract\n",
    "\n",
    "search_2_dir = Path() / \"search_2\"\n",
    "search_2_url = \"https://github.com/jonasrenault/adomvi/releases/download/v1.3.0/search_2.tar.gz\"\n",
    "download_and_extract(search_2_url, \"search_2.tar.gz\", search_2_dir)"
   ]
  },
  {
   "cell_type": "code",
   "execution_count": 3,
   "id": "c644eaeb-f319-40bc-9679-3e7daaf43bf4",
   "metadata": {},
   "outputs": [
    {
     "name": "stdout",
     "output_type": "stream",
     "text": []
    },
    {
     "name": "stdout",
     "output_type": "stream",
     "text": [
      " 100% |███████████████████| 44/44 [56.6ms elapsed, 0s remaining, 777.4 samples/s]     \n"
     ]
    }
   ],
   "source": [
    "from adomvi.datasets.search2 import load_search_2_dataset\n",
    "\n",
    "dataset = load_search_2_dataset(search_2_dir / \"search_2\")"
   ]
  },
  {
   "cell_type": "markdown",
   "id": "fd3db716-8dac-49c2-8007-0a5e4ca63ee4",
   "metadata": {},
   "source": [
    "We can map the labels which identify each target in the dataset to the four classes with which our model was trained."
   ]
  },
  {
   "cell_type": "code",
   "execution_count": 6,
   "id": "c620fa14-ee55-47f1-8272-4e95cb00a9ea",
   "metadata": {},
   "outputs": [],
   "source": [
    "label_mapping = {\n",
    "    \"M60\": \"AFV\",\n",
    "    \"M3\": \"AFV\",\n",
    "    \"M1\": \"AFV\",\n",
    "    \"T72\": \"AFV\",\n",
    "    \"HVS\": \"LAV\",\n",
    "    \"HVT\": \"LAV\",\n",
    "    \"BMP\": \"APC\",\n",
    "    \"BTR\": \"APC\",\n",
    "    \"M113\": \"APC\",\n",
    "}\n",
    "\n",
    "# Map the labels\n",
    "dataset.map_labels(\n",
    "    \"ground_truth\",\n",
    "    label_mapping\n",
    ").save()"
   ]
  },
  {
   "cell_type": "markdown",
   "id": "49195965-d636-49a8-ab3f-81048db9ef31",
   "metadata": {},
   "source": [
    "### Evaluate a pretrained model on this dataset"
   ]
  },
  {
   "cell_type": "markdown",
   "id": "24e75812-b124-4400-b226-b69af250aca1",
   "metadata": {},
   "source": [
    "Once our test dataset is ready, we can evaluated a pretrained model on it."
   ]
  },
  {
   "cell_type": "code",
   "execution_count": null,
   "id": "26371904-2670-4278-aac0-7f630870799c",
   "metadata": {},
   "outputs": [],
   "source": [
    "from adomvi.yolo.yolo import predict\n",
    "\n",
    "model = Path() / \"runs/detect/train/weights/best.pt\"\n",
    "results_predict = predict(best_model, source=search_2_dir / \"search_2/images\")\n",
    "\n",
    "# Load the path of the prediction model results\n",
    "results_predict_dir = Path(results_predict[0].save_dir)"
   ]
  },
  {
   "cell_type": "markdown",
   "id": "1158acce-3a7f-4760-93fe-373e111a851a",
   "metadata": {},
   "source": [
    "Let's load the model's predictions into our dataset."
   ]
  },
  {
   "cell_type": "code",
   "execution_count": null,
   "id": "714b9a5f-5c61-4a8e-9110-235e1b25319c",
   "metadata": {},
   "outputs": [],
   "source": [
    "from adomvi.yolo.utils import add_yolo_detections\n",
    "\n",
    "prediction_field = \"yolov8\"\n",
    "predictions_dir = Path() / results_predict_dir / \"labels\"\n",
    "add_yolo_detections(dataset, prediction_field=prediction_field, predictions_dir=predictions_dir, class_list=[\"AFV\", \"APC\", \"MEV\", \"LAV\"])"
   ]
  }
 ],
 "metadata": {
  "kernelspec": {
   "display_name": "Python 3 (ipykernel)",
   "language": "python",
   "name": "python3"
  },
  "language_info": {
   "codemirror_mode": {
    "name": "ipython",
    "version": 3
   },
   "file_extension": ".py",
   "mimetype": "text/x-python",
   "name": "python",
   "nbconvert_exporter": "python",
   "pygments_lexer": "ipython3",
   "version": "3.10.12"
  }
 },
 "nbformat": 4,
 "nbformat_minor": 5
}
