{
 "cells": [
  {
   "cell_type": "markdown",
   "id": "35388cc5-0837-4684-b8bc-6bb966702905",
   "metadata": {},
   "source": [
    "# Evaluate military vehicle detections on The Search_2 dataset"
   ]
  },
  {
   "cell_type": "markdown",
   "id": "79a3f1a4-6411-42c5-97f9-6edf5f6da5ab",
   "metadata": {},
   "source": [
    "This notebook provides a small benchmark to evaluate automated military vehicle detection models on a real dataset. Deep-learning object detection models can give reasonable detection performance when fine-tuned on specific datasets. However, acquiring enough data corresponding to a real military setting is a challenge, as demonstrated by this project. It is therefore important to evaluate these models in a military setting, with a target area around tens of pixels in a cluttered environment.\n",
    "\n",
    "We propose to use [The Search_2](https://figshare.com/articles/dataset/The_Search_2_dataset/1041463) dataset for such an evaluation. The Search_2 dataset consists of 44 high-resolution digital color images of different complex natural scenes, with each scene (image) containing a single military vehicle that serves as a search target. Ground truth annotations are provided for the targets."
   ]
  },
  {
   "cell_type": "markdown",
   "id": "a8c8b01e-bb87-478f-9d48-3a57dd97d7a5",
   "metadata": {},
   "source": [
    "### Download and load the dataset\n",
    "\n",
    "To begin, we download the dataset and load it into fiftyone."
   ]
  },
  {
   "cell_type": "code",
   "execution_count": 1,
   "id": "cd0c99ff-30fe-4767-80de-3a33f22d6656",
   "metadata": {},
   "outputs": [],
   "source": [
    "from pathlib import Path\n",
    "from adomvi.utils import download_and_extract\n",
    "\n",
    "search_2_dir = Path() / \"search_2\"\n",
    "search_2_url = \"https://github.com/jonasrenault/adomvi/releases/download/v1.3.0/search_2.tar.gz\"\n",
    "download_and_extract(search_2_url, \"search_2.tar.gz\", search_2_dir)"
   ]
  },
  {
   "cell_type": "code",
   "execution_count": 2,
   "id": "c644eaeb-f319-40bc-9679-3e7daaf43bf4",
   "metadata": {},
   "outputs": [
    {
     "name": "stdout",
     "output_type": "stream",
     "text": []
    },
    {
     "name": "stdout",
     "output_type": "stream",
     "text": [
      " 100% |███████████████████| 44/44 [112.6ms elapsed, 0s remaining, 390.8 samples/s] \n"
     ]
    }
   ],
   "source": [
    "from adomvi.datasets.search2 import load_search_2_dataset\n",
    "\n",
    "dataset = load_search_2_dataset(search_2_dir / \"search_2\")"
   ]
  },
  {
   "cell_type": "markdown",
   "id": "fd3db716-8dac-49c2-8007-0a5e4ca63ee4",
   "metadata": {},
   "source": [
    "We can map the labels which identify each target in the dataset to the four classes with which our model was trained."
   ]
  },
  {
   "cell_type": "code",
   "execution_count": 3,
   "id": "c620fa14-ee55-47f1-8272-4e95cb00a9ea",
   "metadata": {},
   "outputs": [],
   "source": [
    "label_mapping = {\n",
    "    \"M60\": \"AFV\",\n",
    "    \"M3\": \"AFV\",\n",
    "    \"M1\": \"AFV\",\n",
    "    \"T72\": \"AFV\",\n",
    "    \"HVS\": \"LAV\",\n",
    "    \"HVT\": \"LAV\",\n",
    "    \"BMP\": \"APC\",\n",
    "    \"BTR\": \"APC\",\n",
    "    \"M113\": \"APC\",\n",
    "}\n",
    "\n",
    "# Map the labels\n",
    "dataset.map_labels(\n",
    "    \"ground_truth\",\n",
    "    label_mapping\n",
    ").save()"
   ]
  },
  {
   "cell_type": "markdown",
   "id": "49195965-d636-49a8-ab3f-81048db9ef31",
   "metadata": {},
   "source": [
    "### Evaluate a pretrained model on this dataset"
   ]
  },
  {
   "cell_type": "markdown",
   "id": "24e75812-b124-4400-b226-b69af250aca1",
   "metadata": {},
   "source": [
    "Once our test dataset is ready, we can evaluated a pretrained model on it."
   ]
  },
  {
   "cell_type": "code",
   "execution_count": 5,
   "id": "26371904-2670-4278-aac0-7f630870799c",
   "metadata": {},
   "outputs": [
    {
     "name": "stdout",
     "output_type": "stream",
     "text": [
      "\n",
      "image 1/44 /home/jrenault/workspace/adomvi2/notebooks/search_2/search_2/images/IMG0001.jpg: 448x640 (no detections), 89.0ms\n",
      "image 2/44 /home/jrenault/workspace/adomvi2/notebooks/search_2/search_2/images/IMG0002.jpg: 448x640 1 AFV, 6.8ms\n",
      "image 3/44 /home/jrenault/workspace/adomvi2/notebooks/search_2/search_2/images/IMG0003.jpg: 448x640 (no detections), 6.9ms\n",
      "image 4/44 /home/jrenault/workspace/adomvi2/notebooks/search_2/search_2/images/IMG0004.jpg: 448x640 (no detections), 6.7ms\n",
      "image 5/44 /home/jrenault/workspace/adomvi2/notebooks/search_2/search_2/images/IMG0005.jpg: 448x640 (no detections), 6.8ms\n",
      "image 6/44 /home/jrenault/workspace/adomvi2/notebooks/search_2/search_2/images/IMG0006.jpg: 448x640 (no detections), 6.7ms\n",
      "image 7/44 /home/jrenault/workspace/adomvi2/notebooks/search_2/search_2/images/IMG0007.jpg: 448x640 (no detections), 6.6ms\n",
      "image 8/44 /home/jrenault/workspace/adomvi2/notebooks/search_2/search_2/images/IMG0008.jpg: 448x640 (no detections), 6.6ms\n",
      "image 9/44 /home/jrenault/workspace/adomvi2/notebooks/search_2/search_2/images/IMG0009.jpg: 448x640 1 AFV, 6.8ms\n",
      "image 10/44 /home/jrenault/workspace/adomvi2/notebooks/search_2/search_2/images/IMG0010.jpg: 448x640 (no detections), 6.6ms\n",
      "image 11/44 /home/jrenault/workspace/adomvi2/notebooks/search_2/search_2/images/IMG0011.jpg: 448x640 (no detections), 6.6ms\n",
      "image 12/44 /home/jrenault/workspace/adomvi2/notebooks/search_2/search_2/images/IMG0012.jpg: 448x640 (no detections), 6.6ms\n",
      "image 13/44 /home/jrenault/workspace/adomvi2/notebooks/search_2/search_2/images/IMG0013.jpg: 448x640 (no detections), 6.6ms\n",
      "image 14/44 /home/jrenault/workspace/adomvi2/notebooks/search_2/search_2/images/IMG0014.jpg: 448x640 (no detections), 6.7ms\n",
      "image 15/44 /home/jrenault/workspace/adomvi2/notebooks/search_2/search_2/images/IMG0015.jpg: 448x640 (no detections), 6.6ms\n",
      "image 16/44 /home/jrenault/workspace/adomvi2/notebooks/search_2/search_2/images/IMG0016.jpg: 448x640 (no detections), 6.6ms\n",
      "image 17/44 /home/jrenault/workspace/adomvi2/notebooks/search_2/search_2/images/IMG0017.jpg: 448x640 (no detections), 6.6ms\n",
      "image 18/44 /home/jrenault/workspace/adomvi2/notebooks/search_2/search_2/images/IMG0018.jpg: 448x640 (no detections), 6.6ms\n",
      "image 19/44 /home/jrenault/workspace/adomvi2/notebooks/search_2/search_2/images/IMG0019.jpg: 448x640 (no detections), 6.6ms\n",
      "image 20/44 /home/jrenault/workspace/adomvi2/notebooks/search_2/search_2/images/IMG0020.jpg: 448x640 (no detections), 6.6ms\n",
      "image 21/44 /home/jrenault/workspace/adomvi2/notebooks/search_2/search_2/images/IMG0021.jpg: 448x640 (no detections), 6.6ms\n",
      "image 22/44 /home/jrenault/workspace/adomvi2/notebooks/search_2/search_2/images/IMG0022.jpg: 448x640 (no detections), 6.8ms\n",
      "image 23/44 /home/jrenault/workspace/adomvi2/notebooks/search_2/search_2/images/IMG0023.jpg: 448x640 (no detections), 6.7ms\n",
      "image 24/44 /home/jrenault/workspace/adomvi2/notebooks/search_2/search_2/images/IMG0024.jpg: 448x640 (no detections), 6.6ms\n",
      "image 25/44 /home/jrenault/workspace/adomvi2/notebooks/search_2/search_2/images/IMG0025.jpg: 448x640 (no detections), 6.6ms\n",
      "image 26/44 /home/jrenault/workspace/adomvi2/notebooks/search_2/search_2/images/IMG0026.jpg: 448x640 (no detections), 6.6ms\n",
      "image 27/44 /home/jrenault/workspace/adomvi2/notebooks/search_2/search_2/images/IMG0027.jpg: 448x640 (no detections), 6.6ms\n",
      "image 28/44 /home/jrenault/workspace/adomvi2/notebooks/search_2/search_2/images/IMG0028.jpg: 448x640 (no detections), 6.6ms\n",
      "image 29/44 /home/jrenault/workspace/adomvi2/notebooks/search_2/search_2/images/IMG0029.jpg: 448x640 (no detections), 6.7ms\n",
      "image 30/44 /home/jrenault/workspace/adomvi2/notebooks/search_2/search_2/images/IMG0030.jpg: 448x640 (no detections), 6.9ms\n",
      "image 31/44 /home/jrenault/workspace/adomvi2/notebooks/search_2/search_2/images/IMG0031.jpg: 448x640 (no detections), 6.6ms\n",
      "image 32/44 /home/jrenault/workspace/adomvi2/notebooks/search_2/search_2/images/IMG0032.jpg: 448x640 (no detections), 6.7ms\n",
      "image 33/44 /home/jrenault/workspace/adomvi2/notebooks/search_2/search_2/images/IMG0033.jpg: 448x640 (no detections), 6.7ms\n",
      "image 34/44 /home/jrenault/workspace/adomvi2/notebooks/search_2/search_2/images/IMG0034.jpg: 448x640 (no detections), 6.6ms\n",
      "image 35/44 /home/jrenault/workspace/adomvi2/notebooks/search_2/search_2/images/IMG0035.jpg: 448x640 1 AFV, 6.6ms\n",
      "image 36/44 /home/jrenault/workspace/adomvi2/notebooks/search_2/search_2/images/IMG0036.jpg: 448x640 (no detections), 6.7ms\n",
      "image 37/44 /home/jrenault/workspace/adomvi2/notebooks/search_2/search_2/images/IMG0037.jpg: 448x640 1 AFV, 6.7ms\n",
      "image 38/44 /home/jrenault/workspace/adomvi2/notebooks/search_2/search_2/images/IMG0038.jpg: 448x640 (no detections), 6.9ms\n",
      "image 39/44 /home/jrenault/workspace/adomvi2/notebooks/search_2/search_2/images/IMG0039.jpg: 448x640 (no detections), 6.8ms\n",
      "image 40/44 /home/jrenault/workspace/adomvi2/notebooks/search_2/search_2/images/IMG0040.jpg: 448x640 (no detections), 6.7ms\n",
      "image 41/44 /home/jrenault/workspace/adomvi2/notebooks/search_2/search_2/images/IMG0041.jpg: 448x640 (no detections), 6.8ms\n",
      "image 42/44 /home/jrenault/workspace/adomvi2/notebooks/search_2/search_2/images/IMG0042.jpg: 448x640 (no detections), 6.7ms\n",
      "image 43/44 /home/jrenault/workspace/adomvi2/notebooks/search_2/search_2/images/IMG0043.jpg: 448x640 (no detections), 6.7ms\n",
      "image 44/44 /home/jrenault/workspace/adomvi2/notebooks/search_2/search_2/images/IMG0044.jpg: 448x640 (no detections), 6.8ms\n",
      "Speed: 2.3ms preprocess, 8.5ms inference, 2.4ms postprocess per image at shape (1, 3, 448, 640)\n",
      "Results saved to \u001b[1mruns/detect/predict3\u001b[0m\n",
      "4 labels saved to runs/detect/predict3/labels\n"
     ]
    }
   ],
   "source": [
    "from adomvi.yolo.yolo import predict\n",
    "\n",
    "model = Path() / \"runs/detect/train/weights/best.pt\"\n",
    "results_predict = predict(model, source=search_2_dir / \"search_2/images\")\n",
    "\n",
    "# Load the path of the prediction model results\n",
    "results_predict_dir = Path(results_predict[0].save_dir)"
   ]
  },
  {
   "cell_type": "markdown",
   "id": "1158acce-3a7f-4760-93fe-373e111a851a",
   "metadata": {},
   "source": [
    "Let's load the model's predictions into our dataset."
   ]
  },
  {
   "cell_type": "code",
   "execution_count": 6,
   "id": "714b9a5f-5c61-4a8e-9110-235e1b25319c",
   "metadata": {},
   "outputs": [],
   "source": [
    "from adomvi.yolo.utils import add_yolo_detections\n",
    "\n",
    "prediction_field = \"yolov8\"\n",
    "predictions_dir = Path() / results_predict_dir / \"labels\"\n",
    "add_yolo_detections(dataset, prediction_field=prediction_field, predictions_dir=predictions_dir, class_list=[\"AFV\", \"APC\", \"MEV\", \"LAV\"])"
   ]
  },
  {
   "cell_type": "markdown",
   "id": "221c91d2-735b-4381-9ab7-b4fd99301df7",
   "metadata": {},
   "source": [
    "Once that's done, we can evaluate our model's predictions and print the mean Average Precision (mAP)."
   ]
  },
  {
   "cell_type": "code",
   "execution_count": 7,
   "id": "b06db9a0-45b8-4c9f-9234-cc0622ea630f",
   "metadata": {},
   "outputs": [
    {
     "name": "stdout",
     "output_type": "stream",
     "text": [
      "Evaluating detections...\n",
      " 100% |███████████████████| 44/44 [79.7ms elapsed, 0s remaining, 552.1 samples/s] \n",
      "Performing IoU sweep...\n",
      " 100% |███████████████████| 44/44 [62.7ms elapsed, 0s remaining, 701.4 samples/s] \n"
     ]
    }
   ],
   "source": [
    "detection_results = dataset.evaluate_detections(\n",
    "    prediction_field, \n",
    "    eval_key=\"eval\",\n",
    "    compute_mAP=True,\n",
    "    gt_field=\"ground_truth\",\n",
    ")"
   ]
  },
  {
   "cell_type": "code",
   "execution_count": 8,
   "id": "3165cb92-feb7-45b8-848c-5eeb78555506",
   "metadata": {},
   "outputs": [
    {
     "name": "stdout",
     "output_type": "stream",
     "text": [
      "mAP = 0.008415841584158416\n"
     ]
    }
   ],
   "source": [
    "mAP = detection_results.mAP()\n",
    "print(f\"mAP = {mAP}\")"
   ]
  },
  {
   "cell_type": "code",
   "execution_count": 9,
   "id": "78805538-57af-4949-bf34-81fb29146b70",
   "metadata": {},
   "outputs": [
    {
     "name": "stdout",
     "output_type": "stream",
     "text": [
      "              precision    recall  f1-score   support\n",
      "\n",
      "         AFV       0.50      0.08      0.14        24\n",
      "         APC       0.00      0.00      0.00         9\n",
      "         LAV       0.00      0.00      0.00        11\n",
      "\n",
      "   micro avg       0.50      0.05      0.08        44\n",
      "   macro avg       0.17      0.03      0.05        44\n",
      "weighted avg       0.27      0.05      0.08        44\n",
      "\n"
     ]
    }
   ],
   "source": [
    "detection_results.print_report()"
   ]
  },
  {
   "cell_type": "markdown",
   "id": "53d924b9-ca18-4aa1-855d-a6d1523f92fe",
   "metadata": {},
   "source": [
    "We don't have a lot of test images, but our scores aren't good anyways... It's maybe easier to visualize the results in fiftyone."
   ]
  },
  {
   "cell_type": "code",
   "execution_count": 11,
   "id": "9805b0a1-d13b-48a1-bae1-53085f3b7141",
   "metadata": {},
   "outputs": [
    {
     "name": "stdout",
     "output_type": "stream",
     "text": [
      "Session launched. Run `session.show()` to open the App in a cell output.\n"
     ]
    },
    {
     "data": {
      "application/javascript": [
       "window.open('http://localhost:5151/');"
      ],
      "text/plain": [
       "<IPython.core.display.Javascript object>"
      ]
     },
     "metadata": {},
     "output_type": "display_data"
    }
   ],
   "source": [
    "import fiftyone as fo\n",
    "\n",
    "session = fo.launch_app(dataset, auto=False)\n",
    "session.open_tab()"
   ]
  },
  {
   "cell_type": "code",
   "execution_count": null,
   "id": "1b61f591-418c-4545-a40c-87e2f91bfc0c",
   "metadata": {},
   "outputs": [],
   "source": []
  }
 ],
 "metadata": {
  "kernelspec": {
   "display_name": "Python 3 (ipykernel)",
   "language": "python",
   "name": "python3"
  },
  "language_info": {
   "codemirror_mode": {
    "name": "ipython",
    "version": 3
   },
   "file_extension": ".py",
   "mimetype": "text/x-python",
   "name": "python",
   "nbconvert_exporter": "python",
   "pygments_lexer": "ipython3",
   "version": "3.10.14"
  }
 },
 "nbformat": 4,
 "nbformat_minor": 5
}
