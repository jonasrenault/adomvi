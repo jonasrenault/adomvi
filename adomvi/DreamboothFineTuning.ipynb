{
 "cells": [
  {
   "cell_type": "markdown",
   "id": "5554c36c-4e1b-478e-a8d5-b817171a0484",
   "metadata": {},
   "source": [
    "# Dreambooth fine-tuning for Stable Diffusion\n",
    "\n",
    "This notebook shows how to \"teach\" Stable Diffusion a new concept via Dreambooth using 🤗 Hugging Face [🧨 Diffusers library](https://github.com/huggingface/diffusers).\n",
    "\n",
    "We use the training script provided diffusers [here](https://github.com/huggingface/diffusers/tree/main/examples/dreambooth) and follow the guide available [here](https://huggingface.co/docs/diffusers/training/dreambooth).\n",
    "\n",
    "## Configuration\n",
    "As explained in the guide, dreambooth is quite susceptible to overfitting and finding the right hyperparameters can be challenging. We tried various configurations to find the one that works best for our use case. We also followed the advice from [their analysis](https://huggingface.co/blog/dreambooth) on how to train dreambooth.\n",
    "\n",
    "Overall, we found that using Low-Rank Adaptation of Large Language Models (LoRA) gives better results. We also took advantage of GPU optimization tools, such as **xFormers**. [xFormers](https://github.com/facebookresearch/xformers) can be installed with \n",
    "\n",
    "```console\n",
    "pip install xformers\n",
    "```\n",
    "and is enabled by adding the `--enable_xformers_memory_efficient_attention` argument to the training script.\n",
    "\n",
    "We also use [bitsandbytes](https://github.com/TimDettmers/bitsandbytes) 8-bit optimizer (add `--use_8bit_adam`)."
   ]
  },
  {
   "cell_type": "markdown",
   "id": "c3ecb1a0-80ea-41c4-8f33-8f6925f25a71",
   "metadata": {},
   "source": [
    "## Setup\n",
    "\n",
    "Before running the script, we need to install the dependencies. Installing the dependencies with poetry caused some issues, so we recommend to use a python virtual env manager to install dependencies."
   ]
  },
  {
   "cell_type": "code",
   "execution_count": 1,
   "id": "b60b8534-2aa3-4660-bf46-3bee3aac727a",
   "metadata": {},
   "outputs": [
    {
     "name": "stdout",
     "output_type": "stream",
     "text": [
      "Cloning into '../diffusers'...\n",
      "remote: Enumerating objects: 31055, done.\u001b[K\n",
      "remote: Counting objects: 100% (932/932), done.\u001b[K\n",
      "remote: Compressing objects: 100% (506/506), done.\u001b[K\n",
      "remote: Total 31055 (delta 618), reused 598 (delta 367), pack-reused 30123\u001b[K\n",
      "Receiving objects: 100% (31055/31055), 22.50 MiB | 4.15 MiB/s, done.\n",
      "Resolving deltas: 100% (22669/22669), done.\n",
      "Obtaining file:///Users/jonas/workspace/adomvi/diffusers\n",
      "  Installing build dependencies ... \u001b[?25ldone\n",
      "\u001b[?25h  Checking if build backend supports build_editable ... \u001b[?25ldone\n",
      "\u001b[?25h  Getting requirements to build editable ... \u001b[?25ldone\n",
      "\u001b[?25h  Preparing editable metadata (pyproject.toml) ... \u001b[?25ldone\n",
      "\u001b[?25hRequirement already satisfied: requests in /Users/jonas/workspace/adomvi/.venv/lib/python3.10/site-packages (from diffusers==0.19.0.dev0) (2.31.0)\n",
      "Requirement already satisfied: regex!=2019.12.17 in /Users/jonas/workspace/adomvi/.venv/lib/python3.10/site-packages (from diffusers==0.19.0.dev0) (2023.6.3)\n",
      "Requirement already satisfied: filelock in /Users/jonas/workspace/adomvi/.venv/lib/python3.10/site-packages (from diffusers==0.19.0.dev0) (3.12.1)\n",
      "Requirement already satisfied: numpy in /Users/jonas/workspace/adomvi/.venv/lib/python3.10/site-packages (from diffusers==0.19.0.dev0) (1.23.1)\n",
      "Requirement already satisfied: huggingface-hub>=0.13.2 in /Users/jonas/workspace/adomvi/.venv/lib/python3.10/site-packages (from diffusers==0.19.0.dev0) (0.16.4)\n",
      "Requirement already satisfied: Pillow in /Users/jonas/workspace/adomvi/.venv/lib/python3.10/site-packages (from diffusers==0.19.0.dev0) (9.5.0)\n",
      "Requirement already satisfied: safetensors>=0.3.1 in /Users/jonas/workspace/adomvi/.venv/lib/python3.10/site-packages (from diffusers==0.19.0.dev0) (0.3.1)\n",
      "Requirement already satisfied: importlib-metadata in /Users/jonas/workspace/adomvi/.venv/lib/python3.10/site-packages (from diffusers==0.19.0.dev0) (6.8.0)\n",
      "Requirement already satisfied: pyyaml>=5.1 in /Users/jonas/workspace/adomvi/.venv/lib/python3.10/site-packages (from huggingface-hub>=0.13.2->diffusers==0.19.0.dev0) (6.0)\n",
      "Requirement already satisfied: tqdm>=4.42.1 in /Users/jonas/workspace/adomvi/.venv/lib/python3.10/site-packages (from huggingface-hub>=0.13.2->diffusers==0.19.0.dev0) (4.65.0)\n",
      "Requirement already satisfied: typing-extensions>=3.7.4.3 in /Users/jonas/workspace/adomvi/.venv/lib/python3.10/site-packages (from huggingface-hub>=0.13.2->diffusers==0.19.0.dev0) (4.6.3)\n",
      "Requirement already satisfied: fsspec in /Users/jonas/workspace/adomvi/.venv/lib/python3.10/site-packages (from huggingface-hub>=0.13.2->diffusers==0.19.0.dev0) (2023.6.0)\n",
      "Requirement already satisfied: packaging>=20.9 in /Users/jonas/workspace/adomvi/.venv/lib/python3.10/site-packages (from huggingface-hub>=0.13.2->diffusers==0.19.0.dev0) (23.1)\n",
      "Requirement already satisfied: zipp>=0.5 in /Users/jonas/workspace/adomvi/.venv/lib/python3.10/site-packages (from importlib-metadata->diffusers==0.19.0.dev0) (3.16.2)\n",
      "Requirement already satisfied: certifi>=2017.4.17 in /Users/jonas/workspace/adomvi/.venv/lib/python3.10/site-packages (from requests->diffusers==0.19.0.dev0) (2023.5.7)\n",
      "Requirement already satisfied: idna<4,>=2.5 in /Users/jonas/workspace/adomvi/.venv/lib/python3.10/site-packages (from requests->diffusers==0.19.0.dev0) (3.4)\n",
      "Requirement already satisfied: charset-normalizer<4,>=2 in /Users/jonas/workspace/adomvi/.venv/lib/python3.10/site-packages (from requests->diffusers==0.19.0.dev0) (3.1.0)\n",
      "Requirement already satisfied: urllib3<3,>=1.21.1 in /Users/jonas/workspace/adomvi/.venv/lib/python3.10/site-packages (from requests->diffusers==0.19.0.dev0) (1.26.16)\n",
      "Building wheels for collected packages: diffusers\n",
      "  Building editable for diffusers (pyproject.toml) ... \u001b[?25ldone\n",
      "\u001b[?25h  Created wheel for diffusers: filename=diffusers-0.19.0.dev0-0.editable-py3-none-any.whl size=10598 sha256=723bbf222efad7d53e3bee93d537a91e0c4564fd791c469bf63dd5e778de41ed\n",
      "  Stored in directory: /private/var/folders/y5/kwb3b8ys5876gzp88vykkqjr0000gn/T/pip-ephem-wheel-cache-cravna5c/wheels/b5/af/31/1a291c094c1ee9f95391a51d3839744cd1211d49e1a4877a65\n",
      "Successfully built diffusers\n",
      "Installing collected packages: diffusers\n",
      "  Attempting uninstall: diffusers\n",
      "    Found existing installation: diffusers 0.19.0.dev0\n",
      "    Uninstalling diffusers-0.19.0.dev0:\n",
      "      Successfully uninstalled diffusers-0.19.0.dev0\n",
      "Successfully installed diffusers-0.19.0.dev0\n",
      "\n",
      "\u001b[1m[\u001b[0m\u001b[34;49mnotice\u001b[0m\u001b[1;39;49m]\u001b[0m\u001b[39;49m A new release of pip available: \u001b[0m\u001b[31;49m22.3.1\u001b[0m\u001b[39;49m -> \u001b[0m\u001b[32;49m23.2\u001b[0m\n",
      "\u001b[1m[\u001b[0m\u001b[34;49mnotice\u001b[0m\u001b[1;39;49m]\u001b[0m\u001b[39;49m To update, run: \u001b[0m\u001b[32;49mpip install --upgrade pip\u001b[0m\n",
      "Requirement already satisfied: accelerate>=0.16.0 in /Users/jonas/workspace/adomvi/.venv/lib/python3.10/site-packages (from -r ../diffusers/examples/dreambooth/requirements.txt (line 1)) (0.21.0)\n",
      "Requirement already satisfied: torchvision in /Users/jonas/workspace/adomvi/.venv/lib/python3.10/site-packages (from -r ../diffusers/examples/dreambooth/requirements.txt (line 2)) (0.15.2)\n",
      "Requirement already satisfied: transformers>=4.25.1 in /Users/jonas/workspace/adomvi/.venv/lib/python3.10/site-packages (from -r ../diffusers/examples/dreambooth/requirements.txt (line 3)) (4.31.0)\n",
      "Requirement already satisfied: ftfy in /Users/jonas/workspace/adomvi/.venv/lib/python3.10/site-packages (from -r ../diffusers/examples/dreambooth/requirements.txt (line 4)) (6.1.1)\n",
      "Requirement already satisfied: tensorboard in /Users/jonas/workspace/adomvi/.venv/lib/python3.10/site-packages (from -r ../diffusers/examples/dreambooth/requirements.txt (line 5)) (2.13.0)\n",
      "Requirement already satisfied: Jinja2 in /Users/jonas/workspace/adomvi/.venv/lib/python3.10/site-packages (from -r ../diffusers/examples/dreambooth/requirements.txt (line 6)) (3.1.2)\n",
      "Requirement already satisfied: psutil in /Users/jonas/workspace/adomvi/.venv/lib/python3.10/site-packages (from accelerate>=0.16.0->-r ../diffusers/examples/dreambooth/requirements.txt (line 1)) (5.9.5)\n",
      "Requirement already satisfied: pyyaml in /Users/jonas/workspace/adomvi/.venv/lib/python3.10/site-packages (from accelerate>=0.16.0->-r ../diffusers/examples/dreambooth/requirements.txt (line 1)) (6.0)\n",
      "Requirement already satisfied: packaging>=20.0 in /Users/jonas/workspace/adomvi/.venv/lib/python3.10/site-packages (from accelerate>=0.16.0->-r ../diffusers/examples/dreambooth/requirements.txt (line 1)) (23.1)\n",
      "Requirement already satisfied: numpy>=1.17 in /Users/jonas/workspace/adomvi/.venv/lib/python3.10/site-packages (from accelerate>=0.16.0->-r ../diffusers/examples/dreambooth/requirements.txt (line 1)) (1.23.1)\n",
      "Requirement already satisfied: torch>=1.10.0 in /Users/jonas/workspace/adomvi/.venv/lib/python3.10/site-packages (from accelerate>=0.16.0->-r ../diffusers/examples/dreambooth/requirements.txt (line 1)) (2.0.1)\n",
      "Requirement already satisfied: requests in /Users/jonas/workspace/adomvi/.venv/lib/python3.10/site-packages (from torchvision->-r ../diffusers/examples/dreambooth/requirements.txt (line 2)) (2.31.0)\n",
      "Requirement already satisfied: pillow!=8.3.*,>=5.3.0 in /Users/jonas/workspace/adomvi/.venv/lib/python3.10/site-packages (from torchvision->-r ../diffusers/examples/dreambooth/requirements.txt (line 2)) (9.5.0)\n",
      "Requirement already satisfied: sympy in /Users/jonas/workspace/adomvi/.venv/lib/python3.10/site-packages (from torch>=1.10.0->accelerate>=0.16.0->-r ../diffusers/examples/dreambooth/requirements.txt (line 1)) (1.12)\n",
      "Requirement already satisfied: networkx in /Users/jonas/workspace/adomvi/.venv/lib/python3.10/site-packages (from torch>=1.10.0->accelerate>=0.16.0->-r ../diffusers/examples/dreambooth/requirements.txt (line 1)) (3.1)\n",
      "Requirement already satisfied: typing-extensions in /Users/jonas/workspace/adomvi/.venv/lib/python3.10/site-packages (from torch>=1.10.0->accelerate>=0.16.0->-r ../diffusers/examples/dreambooth/requirements.txt (line 1)) (4.6.3)\n",
      "Requirement already satisfied: filelock in /Users/jonas/workspace/adomvi/.venv/lib/python3.10/site-packages (from torch>=1.10.0->accelerate>=0.16.0->-r ../diffusers/examples/dreambooth/requirements.txt (line 1)) (3.12.1)\n",
      "Requirement already satisfied: safetensors>=0.3.1 in /Users/jonas/workspace/adomvi/.venv/lib/python3.10/site-packages (from transformers>=4.25.1->-r ../diffusers/examples/dreambooth/requirements.txt (line 3)) (0.3.1)\n",
      "Requirement already satisfied: tqdm>=4.27 in /Users/jonas/workspace/adomvi/.venv/lib/python3.10/site-packages (from transformers>=4.25.1->-r ../diffusers/examples/dreambooth/requirements.txt (line 3)) (4.65.0)\n",
      "Requirement already satisfied: regex!=2019.12.17 in /Users/jonas/workspace/adomvi/.venv/lib/python3.10/site-packages (from transformers>=4.25.1->-r ../diffusers/examples/dreambooth/requirements.txt (line 3)) (2023.6.3)\n",
      "Requirement already satisfied: huggingface-hub<1.0,>=0.14.1 in /Users/jonas/workspace/adomvi/.venv/lib/python3.10/site-packages (from transformers>=4.25.1->-r ../diffusers/examples/dreambooth/requirements.txt (line 3)) (0.16.4)\n",
      "Requirement already satisfied: tokenizers!=0.11.3,<0.14,>=0.11.1 in /Users/jonas/workspace/adomvi/.venv/lib/python3.10/site-packages (from transformers>=4.25.1->-r ../diffusers/examples/dreambooth/requirements.txt (line 3)) (0.13.3)\n",
      "Requirement already satisfied: wcwidth>=0.2.5 in /Users/jonas/workspace/adomvi/.venv/lib/python3.10/site-packages (from ftfy->-r ../diffusers/examples/dreambooth/requirements.txt (line 4)) (0.2.6)\n",
      "Requirement already satisfied: google-auth<3,>=1.6.3 in /Users/jonas/workspace/adomvi/.venv/lib/python3.10/site-packages (from tensorboard->-r ../diffusers/examples/dreambooth/requirements.txt (line 5)) (2.22.0)\n",
      "Requirement already satisfied: absl-py>=0.4 in /Users/jonas/workspace/adomvi/.venv/lib/python3.10/site-packages (from tensorboard->-r ../diffusers/examples/dreambooth/requirements.txt (line 5)) (1.4.0)\n",
      "Requirement already satisfied: setuptools>=41.0.0 in /Users/jonas/workspace/adomvi/.venv/lib/python3.10/site-packages (from tensorboard->-r ../diffusers/examples/dreambooth/requirements.txt (line 5)) (67.8.0)\n",
      "Requirement already satisfied: markdown>=2.6.8 in /Users/jonas/workspace/adomvi/.venv/lib/python3.10/site-packages (from tensorboard->-r ../diffusers/examples/dreambooth/requirements.txt (line 5)) (3.4.3)\n",
      "Requirement already satisfied: tensorboard-data-server<0.8.0,>=0.7.0 in /Users/jonas/workspace/adomvi/.venv/lib/python3.10/site-packages (from tensorboard->-r ../diffusers/examples/dreambooth/requirements.txt (line 5)) (0.7.1)\n",
      "Requirement already satisfied: google-auth-oauthlib<1.1,>=0.5 in /Users/jonas/workspace/adomvi/.venv/lib/python3.10/site-packages (from tensorboard->-r ../diffusers/examples/dreambooth/requirements.txt (line 5)) (1.0.0)\n",
      "Requirement already satisfied: wheel>=0.26 in /Users/jonas/workspace/adomvi/.venv/lib/python3.10/site-packages (from tensorboard->-r ../diffusers/examples/dreambooth/requirements.txt (line 5)) (0.38.4)\n",
      "Requirement already satisfied: protobuf>=3.19.6 in /Users/jonas/workspace/adomvi/.venv/lib/python3.10/site-packages (from tensorboard->-r ../diffusers/examples/dreambooth/requirements.txt (line 5)) (4.23.4)\n",
      "Requirement already satisfied: werkzeug>=1.0.1 in /Users/jonas/workspace/adomvi/.venv/lib/python3.10/site-packages (from tensorboard->-r ../diffusers/examples/dreambooth/requirements.txt (line 5)) (2.3.6)\n",
      "Requirement already satisfied: grpcio>=1.48.2 in /Users/jonas/workspace/adomvi/.venv/lib/python3.10/site-packages (from tensorboard->-r ../diffusers/examples/dreambooth/requirements.txt (line 5)) (1.56.2)\n",
      "Requirement already satisfied: MarkupSafe>=2.0 in /Users/jonas/workspace/adomvi/.venv/lib/python3.10/site-packages (from Jinja2->-r ../diffusers/examples/dreambooth/requirements.txt (line 6)) (2.1.3)\n",
      "Requirement already satisfied: rsa<5,>=3.1.4 in /Users/jonas/workspace/adomvi/.venv/lib/python3.10/site-packages (from google-auth<3,>=1.6.3->tensorboard->-r ../diffusers/examples/dreambooth/requirements.txt (line 5)) (4.9)\n",
      "Requirement already satisfied: cachetools<6.0,>=2.0.0 in /Users/jonas/workspace/adomvi/.venv/lib/python3.10/site-packages (from google-auth<3,>=1.6.3->tensorboard->-r ../diffusers/examples/dreambooth/requirements.txt (line 5)) (5.3.1)\n",
      "Requirement already satisfied: pyasn1-modules>=0.2.1 in /Users/jonas/workspace/adomvi/.venv/lib/python3.10/site-packages (from google-auth<3,>=1.6.3->tensorboard->-r ../diffusers/examples/dreambooth/requirements.txt (line 5)) (0.3.0)\n",
      "Requirement already satisfied: six>=1.9.0 in /Users/jonas/workspace/adomvi/.venv/lib/python3.10/site-packages (from google-auth<3,>=1.6.3->tensorboard->-r ../diffusers/examples/dreambooth/requirements.txt (line 5)) (1.16.0)\n",
      "Requirement already satisfied: urllib3<2.0 in /Users/jonas/workspace/adomvi/.venv/lib/python3.10/site-packages (from google-auth<3,>=1.6.3->tensorboard->-r ../diffusers/examples/dreambooth/requirements.txt (line 5)) (1.26.16)\n",
      "Requirement already satisfied: requests-oauthlib>=0.7.0 in /Users/jonas/workspace/adomvi/.venv/lib/python3.10/site-packages (from google-auth-oauthlib<1.1,>=0.5->tensorboard->-r ../diffusers/examples/dreambooth/requirements.txt (line 5)) (1.3.1)\n",
      "Requirement already satisfied: fsspec in /Users/jonas/workspace/adomvi/.venv/lib/python3.10/site-packages (from huggingface-hub<1.0,>=0.14.1->transformers>=4.25.1->-r ../diffusers/examples/dreambooth/requirements.txt (line 3)) (2023.6.0)\n",
      "Requirement already satisfied: certifi>=2017.4.17 in /Users/jonas/workspace/adomvi/.venv/lib/python3.10/site-packages (from requests->torchvision->-r ../diffusers/examples/dreambooth/requirements.txt (line 2)) (2023.5.7)\n",
      "Requirement already satisfied: charset-normalizer<4,>=2 in /Users/jonas/workspace/adomvi/.venv/lib/python3.10/site-packages (from requests->torchvision->-r ../diffusers/examples/dreambooth/requirements.txt (line 2)) (3.1.0)\n",
      "Requirement already satisfied: idna<4,>=2.5 in /Users/jonas/workspace/adomvi/.venv/lib/python3.10/site-packages (from requests->torchvision->-r ../diffusers/examples/dreambooth/requirements.txt (line 2)) (3.4)\n",
      "Requirement already satisfied: pyasn1<0.6.0,>=0.4.6 in /Users/jonas/workspace/adomvi/.venv/lib/python3.10/site-packages (from pyasn1-modules>=0.2.1->google-auth<3,>=1.6.3->tensorboard->-r ../diffusers/examples/dreambooth/requirements.txt (line 5)) (0.5.0)\n",
      "Requirement already satisfied: oauthlib>=3.0.0 in /Users/jonas/workspace/adomvi/.venv/lib/python3.10/site-packages (from requests-oauthlib>=0.7.0->google-auth-oauthlib<1.1,>=0.5->tensorboard->-r ../diffusers/examples/dreambooth/requirements.txt (line 5)) (3.2.2)\n",
      "Requirement already satisfied: mpmath>=0.19 in /Users/jonas/workspace/adomvi/.venv/lib/python3.10/site-packages (from sympy->torch>=1.10.0->accelerate>=0.16.0->-r ../diffusers/examples/dreambooth/requirements.txt (line 1)) (1.3.0)\n",
      "\n",
      "\u001b[1m[\u001b[0m\u001b[34;49mnotice\u001b[0m\u001b[1;39;49m]\u001b[0m\u001b[39;49m A new release of pip available: \u001b[0m\u001b[31;49m22.3.1\u001b[0m\u001b[39;49m -> \u001b[0m\u001b[32;49m23.2\u001b[0m\n",
      "\u001b[1m[\u001b[0m\u001b[34;49mnotice\u001b[0m\u001b[1;39;49m]\u001b[0m\u001b[39;49m To update, run: \u001b[0m\u001b[32;49mpip install --upgrade pip\u001b[0m\n",
      "Requirement already satisfied: bitsandbytes in /Users/jonas/workspace/adomvi/.venv/lib/python3.10/site-packages (0.40.2)\n",
      "Collecting xformer\n",
      "  Downloading xformer-1.0.1-py3-none-any.whl (10 kB)\n",
      "Requirement already satisfied: numpy<2.0.0,>=1.0.0 in /Users/jonas/workspace/adomvi/.venv/lib/python3.10/site-packages (from xformer) (1.23.1)\n",
      "Installing collected packages: xformer\n",
      "Successfully installed xformer-1.0.1\n",
      "\n",
      "\u001b[1m[\u001b[0m\u001b[34;49mnotice\u001b[0m\u001b[1;39;49m]\u001b[0m\u001b[39;49m A new release of pip available: \u001b[0m\u001b[31;49m22.3.1\u001b[0m\u001b[39;49m -> \u001b[0m\u001b[32;49m23.2\u001b[0m\n",
      "\u001b[1m[\u001b[0m\u001b[34;49mnotice\u001b[0m\u001b[1;39;49m]\u001b[0m\u001b[39;49m To update, run: \u001b[0m\u001b[32;49mpip install --upgrade pip\u001b[0m\n",
      "/Users/jonas/workspace/adomvi/.venv/lib/python3.10/site-packages/bitsandbytes/cextension.py:34: UserWarning: The installed version of bitsandbytes was compiled without GPU support. 8-bit optimizers, 8-bit multiplication, and GPU quantization are unavailable.\n",
      "  warn(\"The installed version of bitsandbytes was compiled without GPU support. \"\n",
      "'NoneType' object has no attribute 'cadam32bit_grad_fp32'\n",
      "Configuration already exists at /Users/jonas/.cache/huggingface/accelerate/default_config.yaml, will not override. Run `accelerate config` manually or pass a different `save_location`.\n"
     ]
    }
   ],
   "source": [
    "# Clone the huggingface diffusers repo and install dependencies\n",
    "!git clone https://github.com/huggingface/diffusers ../diffusers\n",
    "!pip install -e ../diffusers\n",
    "!pip install -U -r ../diffusers/examples/dreambooth/requirements.txt\n",
    "!pip install bitsandbytes xformer\n",
    "!accelerate config default"
   ]
  },
  {
   "cell_type": "markdown",
   "id": "9d1e4cc5-6bac-47cf-82ed-0a64ba310f06",
   "metadata": {},
   "source": [
    "## Download instance dataset"
   ]
  },
  {
   "cell_type": "markdown",
   "id": "4aeb8a5d-625f-47cd-80ca-67a45eb5cb42",
   "metadata": {},
   "source": [
    "To begin, we'll try to train dreambooth on a sample dataset with a few images of a dog. You can download the dataset from [here](https://drive.google.com/drive/folders/1BO_dyz-p65qhBRRMRA4TbZ8qW4rB99JZ) or with the following script"
   ]
  },
  {
   "cell_type": "code",
   "execution_count": 3,
   "id": "3aaa85b5-f0e3-4c08-8977-2de7cb910fab",
   "metadata": {},
   "outputs": [
    {
     "name": "stderr",
     "output_type": "stream",
     "text": [
      "Fetching 5 files: 100%|███████████████████████████████████████████████████████████████████████████████████████| 5/5 [00:00<00:00, 15.25it/s]\n"
     ]
    },
    {
     "data": {
      "text/plain": [
       "'/Users/jonas/workspace/adomvi/dog'"
      ]
     },
     "execution_count": 3,
     "metadata": {},
     "output_type": "execute_result"
    }
   ],
   "source": [
    "from huggingface_hub import snapshot_download\n",
    "\n",
    "local_dir = \"../dog\"\n",
    "snapshot_download(\n",
    "    \"diffusers/dog-example\",\n",
    "    local_dir=local_dir,\n",
    "    repo_type=\"dataset\",\n",
    "    ignore_patterns=\".gitattributes\",\n",
    ")"
   ]
  },
  {
   "cell_type": "markdown",
   "id": "a9800c84-b155-42fb-b75f-664370d3a67e",
   "metadata": {},
   "source": [
    "## Fine-tune the model\n",
    "\n",
    "To train the model, we found these settings work best. We train with LoRA, on 1500 steps, saving checkpoints every 500 step. We finetune the text_encoder along with the unet."
   ]
  },
  {
   "cell_type": "code",
   "execution_count": 5,
   "id": "d4626ccb-f6c2-40b7-87ac-e03f9e8df36d",
   "metadata": {},
   "outputs": [],
   "source": [
    "!export MODEL_NAME=\"runwayml/stable-diffusion-v1-5\"\n",
    "!export INSTANCE_DIR=\"../dog\"\n",
    "!export CLASS_DIR=\"../dogs\"\n",
    "!export OUTPUT_DIR=\"../adomvi-dream-dog\"\n",
    "\n",
    "!accelerate launch ../diffusers/examples/dreambooth/train_dreambooth_lora.py \\\n",
    "  --pretrained_model_name_or_path=$MODEL_NAME  \\\n",
    "  --train_text_encoder \\\n",
    "  --instance_data_dir=$INSTANCE_DIR \\\n",
    "  --class_data_dir=$CLASS_DIR \\\n",
    "  --output_dir=$OUTPUT_DIR \\\n",
    "  --with_prior_preservation \\\n",
    "  --prior_loss_weight=1.0 \\\n",
    "  --instance_prompt=\"a photo of sks dog\" \\\n",
    "  --class_prompt=\"a photo of a dog\" \\\n",
    "  --num_class_images=200 \\\n",
    "  --resolution=512 \\\n",
    "  --train_batch_size=1 \\\n",
    "  --use_8bit_adam \\\n",
    "  --gradient_accumulation_steps=1 \\\n",
    "  --checkpointing_steps=500 \\\n",
    "  --learning_rate=1e-4 \\\n",
    "  --lr_scheduler=\"constant\" \\\n",
    "  --lr_warmup_steps=0 \\\n",
    "  --max_train_steps=1500 \\\n",
    "  --validation_prompt=\"A photo of sks dog in a bucket\" \\\n",
    "  --validation_epochs=50 \\\n",
    "  --seed=\"0\""
   ]
  },
  {
   "cell_type": "markdown",
   "id": "7a3fcba1-1262-44e4-94c3-de946bcd528c",
   "metadata": {},
   "source": [
    "## Running inference\n",
    "\n",
    "Once the model has been trained, we can run inference to generate new images from a prompt"
   ]
  },
  {
   "cell_type": "code",
   "execution_count": null,
   "id": "1e33756e-ddc9-4de3-918b-400ada6bd326",
   "metadata": {},
   "outputs": [],
   "source": [
    "from huggingface_hub.repocard import RepoCard\n",
    "from diffusers import StableDiffusionPipeline\n",
    "import torch\n",
    "\n",
    "lora_model_id = \"adomvi-dream-dog\"\n",
    "card = RepoCard.load(lora_model_id)\n",
    "base_model_id = card.data.to_dict()[\"base_model\"]\n",
    "\n",
    "pipe = StableDiffusionPipeline.from_pretrained(base_model_id, torch_dtype=torch.float16)\n",
    "pipe = pipe.to(\"cuda\")\n",
    "pipe.load_lora_weights(lora_model_id)\n",
    "\n",
    "prompt = \"A picture of a sks dog in a bucket.\"\n",
    "negative_prompt = (\"(low quality, worst quality:1.4), \"\n",
    "                   \"bad composition, inaccurate eyes\")\n",
    "\n",
    "images = pipeline(prompt=prompt, \n",
    "    negative_prompt=negative_prompt, \n",
    "    width=512, \n",
    "    height=768, \n",
    "    num_inference_steps=100, \n",
    "    num_images_per_prompt=4,\n",
    "    generator=torch.manual_seed(0)\n",
    ").images"
   ]
  },
  {
   "cell_type": "code",
   "execution_count": null,
   "id": "42b2d7a0-9c20-4ff2-a25a-9930f13692b0",
   "metadata": {},
   "outputs": [],
   "source": [
    "from diffusers import DiffusionPipeline\n",
    "import torch\n",
    "\n",
    "model_id = \"dreambooth\"\n",
    "pipe = DiffusionPipeline.from_pretrained(model_id, torch_dtype=torch.float16).to(\"cuda\")\n",
    "\n",
    "prompt = \"A photo of sks dog in a bucket\"\n",
    "image = pipe(prompt, num_inference_steps=50, guidance_scale=7.5).images[0]\n",
    "\n",
    "image.save(\"dog-bucket.png\")"
   ]
  }
 ],
 "metadata": {
  "kernelspec": {
   "display_name": "Python 3 (ipykernel)",
   "language": "python",
   "name": "python3"
  },
  "language_info": {
   "codemirror_mode": {
    "name": "ipython",
    "version": 3
   },
   "file_extension": ".py",
   "mimetype": "text/x-python",
   "name": "python",
   "nbconvert_exporter": "python",
   "pygments_lexer": "ipython3",
   "version": "3.10.10"
  }
 },
 "nbformat": 4,
 "nbformat_minor": 5
}
