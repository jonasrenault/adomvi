{
 "cells": [
  {
   "cell_type": "markdown",
   "id": "69af399f-7a84-4ff3-915a-4f95c4654614",
   "metadata": {},
   "source": [
    "# Scraping google images to create a multi-label dataset\n",
    "\n",
    "The previous model that we trained with images collected from open-source datasets was limited by its size and its single label class. We'll run a scraping tool to download more images from Google Image for different classes of military vehicles. "
   ]
  },
  {
   "cell_type": "markdown",
   "id": "df2c718f-c2b3-4f23-8c87-68a22d400533",
   "metadata": {},
   "source": [
    "### Defining labels\n",
    "\n",
    "It's hard to find a unified taxonomy for military vehicles. We'll try to define large class labels by using Wikipedia's [Military vehicles by type](https://en.wikipedia.org/wiki/Category:Military_vehicles_by_type) category. Model names can be found in this list of [modern armoured fighting vehicles](https://en.wikipedia.org/wiki/List_of_modern_armoured_fighting_vehicles)"
   ]
  },
  {
   "cell_type": "markdown",
   "id": "d2f1cc31-e17b-413d-a4d9-ffc2e0ea3cd6",
   "metadata": {},
   "source": [
    "- **Armoured fighting vehicle (AFV)** is an armed combat vehicle protected by armour, generally combining operational mobility with offensive and defensive capabilities. AFVs can be wheeled or tracked. Examples of AFVs are tanks, armoured cars, assault guns, self-propelled guns, infantry fighting vehicles (IFV), and armoured personnel carriers (APC).\n",
    "- **Armoured personnel carrier (APC)** is a broad type of armoured military vehicle designed to transport personnel and equipment in combat zones.\n",
    "- **Military engineering vehicles (MEV)**\n",
    "- **Reconnaissance vehicle (RV)** is a military vehicle used for forward reconnaissance. Both tracked and wheeled reconnaissance vehicles are in service.\n",
    "- **4x4 Armoured Car (AC)**"
   ]
  },
  {
   "cell_type": "code",
   "execution_count": 4,
   "id": "8d00ff1f-c8e8-4cc8-925b-31d5556535a9",
   "metadata": {},
   "outputs": [],
   "source": [
    "AFV = [\"AFV Lynx\"]\n",
    "APC = [\"AMX-10P\", \"VAB\", \"Berliet VXB\", \"Panhard VCR\", \"Didgori-3\", \"M113 APC\", \"VBTP-MR Guarani\", \"BTR-40\", \"TPZ Fuchs\"]\n",
    "MEV = []\n",
    "RV = [\"FV601 Saladin\", \"AMX-10 RC\"]\n",
    "AC = [\"Iveco VM 90\", \"Panhard VBL\", \"Panhard AML\", \"Panhard ERC\"]"
   ]
  },
  {
   "cell_type": "markdown",
   "id": "cda03ed7-85fd-4a4a-9168-ee2c686456e7",
   "metadata": {},
   "source": [
    "## Downloading images from google"
   ]
  },
  {
   "cell_type": "markdown",
   "id": "054b72f0-8456-4433-8d99-9e10a72672da",
   "metadata": {},
   "source": [
    "We'll download 10 images each for each Armoured Car vehicle in our list"
   ]
  },
  {
   "cell_type": "code",
   "execution_count": 6,
   "id": "29861b98-c1bb-48ef-ac99-b4542bd3770a",
   "metadata": {},
   "outputs": [],
   "source": [
    "import logging\n",
    "import sys\n",
    "\n",
    "logging.basicConfig(stream=sys.stdout, level=logging.INFO)"
   ]
  },
  {
   "cell_type": "code",
   "execution_count": 13,
   "id": "8fa59ab9-ab7b-42b1-b51c-075ab4e660aa",
   "metadata": {},
   "outputs": [],
   "source": [
    "from adomvi.scraper.google import GoogleImageScraper\n",
    "from pathlib import Path\n",
    "\n",
    "def worker_thread(vehicle_name):\n",
    "    save_dir = Path(\"google/AC\")\n",
    "    scraper = GoogleImageScraper(\n",
    "        save_dir,\n",
    "        vehicle_name,\n",
    "        max_images=5,\n",
    "        min_resolution=(640, 300),\n",
    "        max_resolution=(2048, 2048),\n",
    "    )\n",
    "    images = scraper.get_image_urls()\n",
    "    scraper.save_images(images)"
   ]
  },
  {
   "cell_type": "code",
   "execution_count": 14,
   "id": "d8d59268-b02d-47a8-89da-8c311cfab103",
   "metadata": {},
   "outputs": [
    {
     "name": "stdout",
     "output_type": "stream",
     "text": [
      "INFO:adomvi.scraper.google:Chrome web driver initialized. Page title for https://www.google.com: Google\n",
      "INFO:adomvi.scraper.google:Seaching images for Iveco VM 90\n",
      "INFO:adomvi.scraper.google:Chrome web driver initialized. Page title for https://www.google.com: Google\n",
      "INFO:adomvi.scraper.google:Seaching images for Panhard VBL\n",
      "INFO:adomvi.scraper.google:Clicking Images search button\n",
      "INFO:adomvi.scraper.google:Clicking Images search button\n",
      "INFO:adomvi.scraper.google:Scrolling page.\n",
      "INFO:adomvi.scraper.google:Fetching thumbnails.\n",
      "INFO:adomvi.scraper.google:Found 48 thumbnails (48 new).\n"
     ]
    },
    {
     "name": "stderr",
     "output_type": "stream",
     "text": [
      "  0%|                                                                                                                | 0/48 [00:00<?, ?it/s]"
     ]
    },
    {
     "name": "stdout",
     "output_type": "stream",
     "text": [
      "INFO:adomvi.scraper.google:Scrolling page.\n",
      "INFO:adomvi.scraper.google:Fetching thumbnails.\n",
      "INFO:adomvi.scraper.google:Found 48 thumbnails (48 new).\n"
     ]
    },
    {
     "name": "stderr",
     "output_type": "stream",
     "text": [
      "\n",
      "  0%|                                                                                                                | 0/48 [00:00<?, ?it/s]\u001b[A"
     ]
    },
    {
     "name": "stdout",
     "output_type": "stream",
     "text": [
      "INFO:adomvi.scraper.google:1\tFile:Panhard VBL (Vèhicule Blindé Legér), French army licence registration  '6924 0055' pic.JPG - Wikimedia Commons\thttps://upload.wikimedia.org/wikipedia/commons/thumb/f/f2/Panhard_VBL_%28V%C3%A8hicule_Blind%C3%A9_Leg%C3%A9r%29%2C_French_army_licence_registration_%276924_0055%27_pic.JPG/2560px-Panhard_VBL_%28V%C3%A8hicule_Blind%C3%A9_Leg%C3%A9r%29%2C_French_army_licence_registration_%276924_0055%27_pic.JPG\n"
     ]
    },
    {
     "name": "stderr",
     "output_type": "stream",
     "text": [
      "  2%|██▏                                                                                                     | 1/48 [00:03<02:28,  3.16s/it]"
     ]
    },
    {
     "name": "stdout",
     "output_type": "stream",
     "text": [
      "INFO:adomvi.scraper.google:1\tIveco vm 90 Banque de photographies et d'images à haute résolution - Alamy\thttps://c8.alamy.com/compfr/f9dm03/l-intervention-militaire-italienne-en-irak-10-2004-les-soldats-de-la-brigade-aeroportee-friuli-pour-la-preparation-d-une-patrouille-de-nuit-f9dm03.jpg\n"
     ]
    },
    {
     "name": "stderr",
     "output_type": "stream",
     "text": [
      "\n",
      "  4%|████▎                                                                                                   | 2/48 [00:06<02:23,  3.12s/it]\u001b[A"
     ]
    },
    {
     "name": "stdout",
     "output_type": "stream",
     "text": [
      "INFO:adomvi.scraper.google:2\tIveco per € 25.000,-\thttps://prod.pictures.autoscout24.net/listing-images/82deea47-8efb-46eb-87cb-9cb5eeac8eec_08b07175-1010-498f-81e9-a4de8c916d7f.jpg/1920x1080.webp\n"
     ]
    },
    {
     "name": "stderr",
     "output_type": "stream",
     "text": [
      "\n",
      "  6%|██████▌                                                                                                 | 3/48 [00:09<02:21,  3.15s/it]\u001b[A"
     ]
    },
    {
     "name": "stdout",
     "output_type": "stream",
     "text": [
      "INFO:adomvi.scraper.google:3\tIveco VM 90 4X4 - Forum BMH\thttps://bernard.debucquoi.com/forum/download/file.php?id=58561&mode=view\n"
     ]
    },
    {
     "name": "stderr",
     "output_type": "stream",
     "text": [
      "\n",
      "  8%|████████▋                                                                                               | 4/48 [00:12<02:17,  3.13s/it]\u001b[A\n",
      "  8%|████████▋                                                                                               | 4/48 [00:12<02:17,  3.13s/it]\u001b[A"
     ]
    },
    {
     "name": "stdout",
     "output_type": "stream",
     "text": [
      "INFO:adomvi.scraper.google:2\tPanhard Vbl Véhicule Militaire Piraeus Photo éditorial - Image du port,  bataille: 227467196\thttps://thumbs.dreamstime.com/z/panhard-vbl-v%C3%A9hicule-militaire-piraeus-pir%C3%A9e-gr%C3%A8ce-juillet-blind%C3%A9-l%C3%A9ger-de-l-arm%C3%A9e-grecque-allterrain-et-enti%C3%A8rement-227467196.jpg\n"
     ]
    },
    {
     "name": "stderr",
     "output_type": "stream",
     "text": [
      " 10%|██████████▊                                                                                             | 5/48 [00:15<02:14,  3.13s/it]\n",
      " 12%|█████████████                                                                                           | 6/48 [00:18<02:11,  3.12s/it]\u001b[A"
     ]
    },
    {
     "name": "stdout",
     "output_type": "stream",
     "text": [
      "INFO:adomvi.scraper.google:4\tIveco VM90 40.10W/M 4x4, Véh. de voirie Autres occasion à 8502 Lannach  achetez sur TruckScout24\thttps://cdn-img.truckscout24.com/images-big/67/89/0019468967008.jpg\n"
     ]
    },
    {
     "name": "stderr",
     "output_type": "stream",
     "text": [
      "\n",
      " 12%|█████████████                                                                                           | 6/48 [00:18<02:10,  3.12s/it]\u001b[A\n",
      " 15%|███████████████▏                                                                                        | 7/48 [00:19<01:40,  2.44s/it]\u001b[A\n",
      " 17%|█████████████████▎                                                                                      | 8/48 [00:20<01:20,  2.02s/it]\u001b[A"
     ]
    },
    {
     "name": "stdout",
     "output_type": "stream",
     "text": [
      "INFO:adomvi.scraper.google:3\tPanhard VBL | Panhard Véhicule Blindé Léger (Light Armoured … | Flickr\thttps://live.staticflickr.com/4358/35623002353_085567dac8_b.jpg\n"
     ]
    },
    {
     "name": "stderr",
     "output_type": "stream",
     "text": [
      " 15%|███████████████▏                                                                                        | 7/48 [00:21<02:07,  3.12s/it]\n",
      " 19%|███████████████████▌                                                                                    | 9/48 [00:24<01:32,  2.37s/it]\u001b[A"
     ]
    },
    {
     "name": "stdout",
     "output_type": "stream",
     "text": [
      "INFO:adomvi.scraper.google:4\tVBL Panhard : véhicule blindé léger - Yves Debay - Librairie Mollat Bordeaux\thttps://media.electre-ng.com/images/image-id/512bbcdfe5736ae8bac9bc241747fb6095c2659583e928d0162d95fd24a3ce7d.jpg\n"
     ]
    },
    {
     "name": "stderr",
     "output_type": "stream",
     "text": [
      " 17%|█████████████████▎                                                                                      | 8/48 [00:24<02:04,  3.11s/it]\n",
      " 21%|█████████████████████▍                                                                                 | 10/48 [00:25<01:15,  1.98s/it]\u001b[A\n",
      " 19%|███████████████████▌                                                                                    | 9/48 [00:28<02:01,  3.13s/it]\u001b[A"
     ]
    },
    {
     "name": "stdout",
     "output_type": "stream",
     "text": [
      "INFO:adomvi.scraper.google:5\tIveco VM 90 — Wikipédia\thttps://upload.wikimedia.org/wikipedia/commons/thumb/8/87/Iveco-Pegaso_40.10WM_E.T..JPG/220px-Iveco-Pegaso_40.10WM_E.T..JPG\n"
     ]
    },
    {
     "name": "stderr",
     "output_type": "stream",
     "text": [
      " 23%|███████████████████████▌                                                                               | 11/48 [00:29<01:38,  2.67s/it]"
     ]
    },
    {
     "name": "stdout",
     "output_type": "stream",
     "text": [
      "INFO:adomvi.scraper.google:Saving images to disk.\n"
     ]
    },
    {
     "name": "stderr",
     "output_type": "stream",
     "text": [
      "\n",
      "\n",
      " 23%|███████████████████████▌                                                                               | 11/48 [00:32<01:32,  2.51s/it]\u001b[A\n",
      " 20%|█████████████████████                                                                                    | 1/5 [00:03<00:12,  3.13s/it]\u001b[A\n",
      " 40%|██████████████████████████████████████████                                                               | 2/5 [00:04<00:05,  1.99s/it]\u001b[A\n",
      " 60%|███████████████████████████████████████████████████████████████                                          | 3/5 [00:05<00:03,  1.55s/it]\u001b[A"
     ]
    },
    {
     "name": "stdout",
     "output_type": "stream",
     "text": [
      "INFO:adomvi.scraper.google:5\tPanhard VBL, VB2L, Ultima et MKII au 1/48 (Master Fighter et Gaso.Line) -\thttps://img.over-blog-kiwi.com/1/47/73/87/20200617/ob_a1b37e_mf48599bt06.jpg\n"
     ]
    },
    {
     "name": "stderr",
     "output_type": "stream",
     "text": [
      " 23%|███████████████████████▌                                                                               | 11/48 [00:35<01:59,  3.23s/it]"
     ]
    },
    {
     "name": "stdout",
     "output_type": "stream",
     "text": [
      "INFO:adomvi.scraper.google:Saving images to disk.\n"
     ]
    },
    {
     "name": "stderr",
     "output_type": "stream",
     "text": [
      "\n",
      "\n",
      "  0%|                                                                                                                 | 0/5 [00:00<?, ?it/s]\u001b[A"
     ]
    },
    {
     "name": "stdout",
     "output_type": "stream",
     "text": [
      "WARNING:adomvi.scraper.google:Unable to download image https://upload.wikimedia.org/wikipedia/commons/thumb/f/f2/Panhard_VBL_%28V%C3%A8hicule_Blind%C3%A9_Leg%C3%A9r%29%2C_French_army_licence_registration_%276924_0055%27_pic.JPG/2560px-Panhard_VBL_%28V%C3%A8hicule_Blind%C3%A9_Leg%C3%A9r%29%2C_French_army_licence_registration_%276924_0055%27_pic.JPG.\n",
      "INFO:adomvi.scraper.google:Not saving image https://upload.wikimedia.org/wikipedia/commons/thumb/8/87/Iveco-Pegaso_40.10WM_E.T..JPG/220px-Iveco-Pegaso_40.10WM_E.T..JPG because of invalid dimension ((220, 163))\n"
     ]
    },
    {
     "name": "stderr",
     "output_type": "stream",
     "text": [
      "\n",
      "100%|█████████████████████████████████████████████████████████████████████████████████████████████████████████| 5/5 [00:05<00:00,  1.19s/it]\u001b[A"
     ]
    },
    {
     "name": "stdout",
     "output_type": "stream",
     "text": [
      "INFO:adomvi.scraper.google:Writing metadata file.\n"
     ]
    },
    {
     "name": "stderr",
     "output_type": "stream",
     "text": [
      "\n",
      " 60%|███████████████████████████████████████████████████████████████                                          | 3/5 [00:01<00:00,  2.53it/s]"
     ]
    },
    {
     "name": "stdout",
     "output_type": "stream",
     "text": [
      "INFO:adomvi.scraper.google:Not saving image https://media.electre-ng.com/images/image-id/512bbcdfe5736ae8bac9bc241747fb6095c2659583e928d0162d95fd24a3ce7d.jpg because of invalid dimension ((400, 534))\n"
     ]
    },
    {
     "name": "stderr",
     "output_type": "stream",
     "text": [
      " 80%|████████████████████████████████████████████████████████████████████████████████████                     | 4/5 [00:01<00:00,  2.12it/s]"
     ]
    },
    {
     "name": "stdout",
     "output_type": "stream",
     "text": [
      "INFO:adomvi.scraper.google:Chrome web driver initialized. Page title for https://www.google.com: Google\n",
      "INFO:adomvi.scraper.google:Seaching images for Panhard AML\n"
     ]
    },
    {
     "name": "stderr",
     "output_type": "stream",
     "text": [
      "100%|█████████████████████████████████████████████████████████████████████████████████████████████████████████| 5/5 [00:02<00:00,  2.01it/s]"
     ]
    },
    {
     "name": "stdout",
     "output_type": "stream",
     "text": [
      "INFO:adomvi.scraper.google:Writing metadata file.\n",
      "INFO:adomvi.scraper.google:Clicking Images search button\n"
     ]
    },
    {
     "name": "stderr",
     "output_type": "stream",
     "text": [
      "\n"
     ]
    },
    {
     "name": "stdout",
     "output_type": "stream",
     "text": [
      "INFO:adomvi.scraper.google:Scrolling page.\n",
      "INFO:adomvi.scraper.google:Fetching thumbnails.\n",
      "INFO:adomvi.scraper.google:Chrome web driver initialized. Page title for https://www.google.com: Google\n",
      "INFO:adomvi.scraper.google:Seaching images for Panhard ERC\n",
      "INFO:adomvi.scraper.google:Found 48 thumbnails (48 new).\n"
     ]
    },
    {
     "name": "stderr",
     "output_type": "stream",
     "text": [
      "  0%|                                                                                                                | 0/48 [00:00<?, ?it/s]"
     ]
    },
    {
     "name": "stdout",
     "output_type": "stream",
     "text": [
      "INFO:adomvi.scraper.google:Clicking Images search button\n",
      "INFO:adomvi.scraper.google:Scrolling page.\n",
      "INFO:adomvi.scraper.google:Fetching thumbnails.\n",
      "INFO:adomvi.scraper.google:Found 100 thumbnails (100 new).\n"
     ]
    },
    {
     "name": "stderr",
     "output_type": "stream",
     "text": [
      "\n",
      "  0%|                                                                                                               | 0/100 [00:00<?, ?it/s]\u001b[A"
     ]
    },
    {
     "name": "stdout",
     "output_type": "stream",
     "text": [
      "INFO:adomvi.scraper.google:1\tPanhard AML armoured car (1960)\thttps://www.tanks-encyclopedia.com/coldwar/France/Panhard/Panhard_AML-90-AR.png\n"
     ]
    },
    {
     "name": "stderr",
     "output_type": "stream",
     "text": [
      "  4%|████▎                                                                                                   | 2/48 [00:04<01:29,  1.94s/it]\n",
      "  6%|██████▌                                                                                                 | 3/48 [00:05<01:10,  1.57s/it]\u001b[A\n",
      " 10%|██████████▊                                                                                             | 5/48 [00:09<01:17,  1.79s/it]\u001b[A\n",
      " 15%|███████████████▏                                                                                        | 7/48 [00:13<01:16,  1.88s/it]\u001b[A\n",
      "  4%|████                                                                                                   | 4/100 [00:12<05:00,  3.13s/it]\u001b[A"
     ]
    },
    {
     "name": "stdout",
     "output_type": "stream",
     "text": [
      "INFO:adomvi.scraper.google:2\tPolished Sincerely layer aml 90 Read Hare Specificity\thttps://i.pinimg.com/originals/61/dc/13/61dc132724ed6d92916f3169f0d5d934.jpg\n"
     ]
    },
    {
     "name": "stderr",
     "output_type": "stream",
     "text": [
      " 17%|█████████████████▎                                                                                      | 8/48 [00:16<01:31,  2.28s/it]\n",
      " 23%|███████████████████████▌                                                                               | 11/48 [00:20<00:54,  1.48s/it]\u001b[A\n",
      "  6%|██████▏                                                                                                | 6/100 [00:18<04:52,  3.11s/it]\u001b[A"
     ]
    },
    {
     "name": "stdout",
     "output_type": "stream",
     "text": [
      "INFO:adomvi.scraper.google:3\tPanhard AML-90 Reconessance vehicle ACE 72413\thttps://www.super-hobby.fr/zdjecia/4/4/5/1981_rd.jpg\n"
     ]
    },
    {
     "name": "stderr",
     "output_type": "stream",
     "text": [
      " 25%|█████████████████████████▊                                                                             | 12/48 [00:23<01:11,  1.99s/it]\n",
      " 27%|███████████████████████████▉                                                                           | 13/48 [00:24<00:59,  1.71s/it]\u001b[A\n",
      "  8%|████████▏                                                                                              | 8/100 [00:24<04:46,  3.12s/it]\u001b[A"
     ]
    },
    {
     "name": "stdout",
     "output_type": "stream",
     "text": [
      "INFO:adomvi.scraper.google:4\tVoiture Blindée Française Panhard Aml-245 Banque D'Images Et Photos Libres  De Droits. Image 93183857.\thttps://us.123rf.com/450wm/ryzhov/ryzhov1801/ryzhov180100032/93183857-voiture-blind%C3%A9e-fran%C3%A7aise-panhard-aml-245.jpg\n"
     ]
    },
    {
     "name": "stderr",
     "output_type": "stream",
     "text": [
      " 29%|██████████████████████████████                                                                         | 14/48 [00:27<01:12,  2.14s/it]\n",
      " 33%|██████████████████████████████████▎                                                                    | 16/48 [00:31<01:04,  2.03s/it]\u001b[A\n",
      " 10%|██████████▏                                                                                           | 10/100 [00:31<04:39,  3.11s/it]\u001b[A"
     ]
    },
    {
     "name": "stdout",
     "output_type": "stream",
     "text": [
      "INFO:adomvi.scraper.google:5\tWarWheels.Net-Panhard AML-90 Armored Car Index\thttps://warwheels.net/images/PanhardAML90foti%20(7).jpg\n"
     ]
    },
    {
     "name": "stderr",
     "output_type": "stream",
     "text": [
      " 33%|██████████████████████████████████▎                                                                    | 16/48 [00:34<01:09,  2.18s/it]"
     ]
    },
    {
     "name": "stdout",
     "output_type": "stream",
     "text": [
      "INFO:adomvi.scraper.google:Saving images to disk.\n"
     ]
    },
    {
     "name": "stderr",
     "output_type": "stream",
     "text": [
      "\n",
      "  0%|                                                                                                                 | 0/5 [00:00<?, ?it/s]"
     ]
    },
    {
     "name": "stdout",
     "output_type": "stream",
     "text": [
      "INFO:adomvi.scraper.google:Not saving image https://www.tanks-encyclopedia.com/coldwar/France/Panhard/Panhard_AML-90-AR.png because of invalid dimension ((414, 211))\n"
     ]
    },
    {
     "name": "stderr",
     "output_type": "stream",
     "text": [
      " 40%|██████████████████████████████████████████                                                               | 2/5 [00:00<00:01,  2.35it/s]"
     ]
    },
    {
     "name": "stdout",
     "output_type": "stream",
     "text": [
      "INFO:adomvi.scraper.google:Not saving image https://www.super-hobby.fr/zdjecia/4/4/5/1981_rd.jpg because of invalid dimension ((600, 333))\n"
     ]
    },
    {
     "name": "stderr",
     "output_type": "stream",
     "text": [
      " 60%|███████████████████████████████████████████████████████████████                                          | 3/5 [00:01<00:00,  2.93it/s]\n",
      " 11%|███████████▏                                                                                          | 11/100 [00:34<04:36,  3.10s/it]\u001b[A"
     ]
    },
    {
     "name": "stdout",
     "output_type": "stream",
     "text": [
      "INFO:adomvi.scraper.google:Not saving image https://us.123rf.com/450wm/ryzhov/ryzhov1801/ryzhov180100032/93183857-voiture-blind%C3%A9e-fran%C3%A7aise-panhard-aml-245.jpg because of invalid dimension ((450, 300))\n"
     ]
    },
    {
     "name": "stderr",
     "output_type": "stream",
     "text": [
      " 80%|████████████████████████████████████████████████████████████████████████████████████                     | 4/5 [00:01<00:00,  2.87it/s]\n",
      " 12%|████████████▏                                                                                         | 12/100 [00:35<03:39,  2.49s/it]\u001b[A"
     ]
    },
    {
     "name": "stdout",
     "output_type": "stream",
     "text": [
      "WARNING:adomvi.scraper.google:Unable to download image https://warwheels.net/images/PanhardAML90foti%20(7).jpg.\n"
     ]
    },
    {
     "name": "stderr",
     "output_type": "stream",
     "text": [
      "100%|█████████████████████████████████████████████████████████████████████████████████████████████████████████| 5/5 [00:03<00:00,  1.37it/s]"
     ]
    },
    {
     "name": "stdout",
     "output_type": "stream",
     "text": [
      "INFO:adomvi.scraper.google:Writing metadata file.\n"
     ]
    },
    {
     "name": "stderr",
     "output_type": "stream",
     "text": [
      "\n",
      "\n",
      " 13%|█████████████▎                                                                                        | 13/100 [00:38<03:52,  2.67s/it]\u001b[A\n",
      " 14%|██████████████▎                                                                                       | 14/100 [00:41<04:01,  2.81s/it]\u001b[A\n",
      " 15%|███████████████▎                                                                                      | 15/100 [00:44<04:06,  2.90s/it]\u001b[A\n",
      " 16%|████████████████▎                                                                                     | 16/100 [00:47<04:09,  2.97s/it]\u001b[A\n",
      " 17%|█████████████████▎                                                                                    | 17/100 [00:50<04:09,  3.01s/it]\u001b[A\n",
      " 18%|██████████████████▎                                                                                   | 18/100 [00:53<04:08,  3.04s/it]\u001b[A\n",
      " 19%|███████████████████▍                                                                                  | 19/100 [00:57<04:07,  3.06s/it]\u001b[A\n",
      " 20%|████████████████████▍                                                                                 | 20/100 [01:00<04:06,  3.08s/it]\u001b[A\n",
      " 21%|█████████████████████▍                                                                                | 21/100 [01:03<04:04,  3.09s/it]\u001b[A\n",
      " 22%|██████████████████████▍                                                                               | 22/100 [01:06<04:01,  3.10s/it]\u001b[A\n",
      " 23%|███████████████████████▍                                                                              | 23/100 [01:09<03:59,  3.11s/it]\u001b[A\n",
      " 24%|████████████████████████▍                                                                             | 24/100 [01:12<03:56,  3.11s/it]\u001b[A\n",
      " 25%|█████████████████████████▌                                                                            | 25/100 [01:15<03:53,  3.11s/it]\u001b[A\n",
      " 26%|██████████████████████████▌                                                                           | 26/100 [01:18<03:50,  3.12s/it]\u001b[A\n",
      " 27%|███████████████████████████▌                                                                          | 27/100 [01:22<03:48,  3.12s/it]\u001b[A\n",
      " 28%|████████████████████████████▌                                                                         | 28/100 [01:23<03:01,  2.52s/it]\u001b[A\n",
      " 29%|█████████████████████████████▌                                                                        | 29/100 [01:26<03:12,  2.71s/it]\u001b[A\n",
      " 30%|██████████████████████████████▌                                                                       | 30/100 [01:29<03:19,  2.85s/it]\u001b[A\n",
      " 31%|███████████████████████████████▌                                                                      | 31/100 [01:32<03:21,  2.92s/it]\u001b[A\n",
      " 32%|████████████████████████████████▋                                                                     | 32/100 [01:33<02:42,  2.38s/it]\u001b[A\n",
      " 33%|█████████████████████████████████▋                                                                    | 33/100 [01:36<02:54,  2.61s/it]\u001b[A\n",
      " 34%|██████████████████████████████████▋                                                                   | 34/100 [01:40<03:02,  2.76s/it]\u001b[A\n",
      " 35%|███████████████████████████████████▋                                                                  | 35/100 [01:43<03:06,  2.87s/it]\u001b[A\n",
      " 36%|████████████████████████████████████▋                                                                 | 36/100 [01:44<02:29,  2.33s/it]\u001b[A\n",
      " 37%|█████████████████████████████████████▋                                                                | 37/100 [01:47<02:41,  2.57s/it]\u001b[A\n",
      " 38%|██████████████████████████████████████▊                                                               | 38/100 [01:50<02:50,  2.74s/it]\u001b[A\n",
      " 39%|███████████████████████████████████████▊                                                              | 39/100 [01:53<02:54,  2.86s/it]\u001b[A\n",
      " 40%|████████████████████████████████████████▊                                                             | 40/100 [01:54<02:18,  2.32s/it]\u001b[A\n",
      " 41%|█████████████████████████████████████████▊                                                            | 41/100 [01:57<02:30,  2.56s/it]\u001b[A\n",
      " 42%|██████████████████████████████████████████▊                                                           | 42/100 [02:00<02:38,  2.74s/it]\u001b[A\n",
      " 43%|███████████████████████████████████████████▊                                                          | 43/100 [02:02<02:07,  2.24s/it]\u001b[A\n",
      " 44%|████████████████████████████████████████████▉                                                         | 44/100 [02:05<02:20,  2.51s/it]\u001b[A\n",
      " 45%|█████████████████████████████████████████████▉                                                        | 45/100 [02:06<01:54,  2.08s/it]\u001b[A\n",
      " 46%|██████████████████████████████████████████████▉                                                       | 46/100 [02:07<01:36,  1.79s/it]\u001b[A\n",
      " 47%|███████████████████████████████████████████████▉                                                      | 47/100 [02:10<01:56,  2.20s/it]\u001b[A\n",
      " 48%|████████████████████████████████████████████████▉                                                     | 48/100 [02:13<02:08,  2.47s/it]\u001b[A\n",
      " 49%|█████████████████████████████████████████████████▉                                                    | 49/100 [02:16<02:16,  2.68s/it]\u001b[A\n",
      " 50%|███████████████████████████████████████████████████                                                   | 50/100 [02:19<02:20,  2.81s/it]\u001b[A\n",
      " 51%|████████████████████████████████████████████████████                                                  | 51/100 [02:20<01:52,  2.30s/it]\u001b[A\n",
      " 52%|█████████████████████████████████████████████████████                                                 | 52/100 [02:24<02:02,  2.55s/it]\u001b[A\n",
      " 53%|██████████████████████████████████████████████████████                                                | 53/100 [02:25<01:39,  2.11s/it]\u001b[A\n",
      " 54%|███████████████████████████████████████████████████████                                               | 54/100 [02:28<01:51,  2.42s/it]\u001b[A\n",
      " 55%|████████████████████████████████████████████████████████                                              | 55/100 [02:31<01:58,  2.63s/it]\u001b[A\n",
      " 56%|█████████████████████████████████████████████████████████                                             | 56/100 [02:32<01:35,  2.17s/it]\u001b[A\n",
      " 57%|██████████████████████████████████████████████████████████▏                                           | 57/100 [02:33<01:19,  1.85s/it]\u001b[A\n",
      " 58%|███████████████████████████████████████████████████████████▏                                          | 58/100 [02:36<01:34,  2.24s/it]\u001b[A\n",
      " 59%|████████████████████████████████████████████████████████████▏                                         | 59/100 [02:39<01:42,  2.50s/it]\u001b[A\n",
      " 60%|█████████████████████████████████████████████████████████████▏                                        | 60/100 [02:41<01:23,  2.08s/it]\u001b[A\n",
      " 61%|██████████████████████████████████████████████████████████████▏                                       | 61/100 [02:44<01:33,  2.40s/it]\u001b[A\n",
      " 62%|███████████████████████████████████████████████████████████████▏                                      | 62/100 [02:47<01:39,  2.62s/it]"
     ]
    },
    {
     "ename": "KeyboardInterrupt",
     "evalue": "",
     "output_type": "error",
     "traceback": [
      "\u001b[0;31m---------------------------------------------------------------------------\u001b[0m",
      "\u001b[0;31mKeyboardInterrupt\u001b[0m                         Traceback (most recent call last)",
      "Cell \u001b[0;32mIn[14], line 3\u001b[0m\n\u001b[1;32m      1\u001b[0m \u001b[38;5;28;01mfrom\u001b[39;00m \u001b[38;5;21;01mconcurrent\u001b[39;00m\u001b[38;5;21;01m.\u001b[39;00m\u001b[38;5;21;01mfutures\u001b[39;00m \u001b[38;5;28;01mimport\u001b[39;00m ThreadPoolExecutor\n\u001b[0;32m----> 3\u001b[0m \u001b[38;5;28;01mwith\u001b[39;00m ThreadPoolExecutor(max_workers\u001b[38;5;241m=\u001b[39m\u001b[38;5;241m2\u001b[39m) \u001b[38;5;28;01mas\u001b[39;00m executor:\n\u001b[1;32m      4\u001b[0m     executor\u001b[38;5;241m.\u001b[39mmap(worker_thread, AC)\n",
      "File \u001b[0;32m~/mambaforge/lib/python3.10/concurrent/futures/_base.py:649\u001b[0m, in \u001b[0;36mExecutor.__exit__\u001b[0;34m(self, exc_type, exc_val, exc_tb)\u001b[0m\n\u001b[1;32m    648\u001b[0m \u001b[38;5;28;01mdef\u001b[39;00m \u001b[38;5;21m__exit__\u001b[39m(\u001b[38;5;28mself\u001b[39m, exc_type, exc_val, exc_tb):\n\u001b[0;32m--> 649\u001b[0m     \u001b[38;5;28;43mself\u001b[39;49m\u001b[38;5;241;43m.\u001b[39;49m\u001b[43mshutdown\u001b[49m\u001b[43m(\u001b[49m\u001b[43mwait\u001b[49m\u001b[38;5;241;43m=\u001b[39;49m\u001b[38;5;28;43;01mTrue\u001b[39;49;00m\u001b[43m)\u001b[49m\n\u001b[1;32m    650\u001b[0m     \u001b[38;5;28;01mreturn\u001b[39;00m \u001b[38;5;28;01mFalse\u001b[39;00m\n",
      "File \u001b[0;32m~/mambaforge/lib/python3.10/concurrent/futures/thread.py:235\u001b[0m, in \u001b[0;36mThreadPoolExecutor.shutdown\u001b[0;34m(self, wait, cancel_futures)\u001b[0m\n\u001b[1;32m    233\u001b[0m \u001b[38;5;28;01mif\u001b[39;00m wait:\n\u001b[1;32m    234\u001b[0m     \u001b[38;5;28;01mfor\u001b[39;00m t \u001b[38;5;129;01min\u001b[39;00m \u001b[38;5;28mself\u001b[39m\u001b[38;5;241m.\u001b[39m_threads:\n\u001b[0;32m--> 235\u001b[0m         \u001b[43mt\u001b[49m\u001b[38;5;241;43m.\u001b[39;49m\u001b[43mjoin\u001b[49m\u001b[43m(\u001b[49m\u001b[43m)\u001b[49m\n",
      "File \u001b[0;32m~/mambaforge/lib/python3.10/threading.py:1096\u001b[0m, in \u001b[0;36mThread.join\u001b[0;34m(self, timeout)\u001b[0m\n\u001b[1;32m   1093\u001b[0m     \u001b[38;5;28;01mraise\u001b[39;00m \u001b[38;5;167;01mRuntimeError\u001b[39;00m(\u001b[38;5;124m\"\u001b[39m\u001b[38;5;124mcannot join current thread\u001b[39m\u001b[38;5;124m\"\u001b[39m)\n\u001b[1;32m   1095\u001b[0m \u001b[38;5;28;01mif\u001b[39;00m timeout \u001b[38;5;129;01mis\u001b[39;00m \u001b[38;5;28;01mNone\u001b[39;00m:\n\u001b[0;32m-> 1096\u001b[0m     \u001b[38;5;28;43mself\u001b[39;49m\u001b[38;5;241;43m.\u001b[39;49m\u001b[43m_wait_for_tstate_lock\u001b[49m\u001b[43m(\u001b[49m\u001b[43m)\u001b[49m\n\u001b[1;32m   1097\u001b[0m \u001b[38;5;28;01melse\u001b[39;00m:\n\u001b[1;32m   1098\u001b[0m     \u001b[38;5;66;03m# the behavior of a negative timeout isn't documented, but\u001b[39;00m\n\u001b[1;32m   1099\u001b[0m     \u001b[38;5;66;03m# historically .join(timeout=x) for x<0 has acted as if timeout=0\u001b[39;00m\n\u001b[1;32m   1100\u001b[0m     \u001b[38;5;28mself\u001b[39m\u001b[38;5;241m.\u001b[39m_wait_for_tstate_lock(timeout\u001b[38;5;241m=\u001b[39m\u001b[38;5;28mmax\u001b[39m(timeout, \u001b[38;5;241m0\u001b[39m))\n",
      "File \u001b[0;32m~/mambaforge/lib/python3.10/threading.py:1116\u001b[0m, in \u001b[0;36mThread._wait_for_tstate_lock\u001b[0;34m(self, block, timeout)\u001b[0m\n\u001b[1;32m   1113\u001b[0m     \u001b[38;5;28;01mreturn\u001b[39;00m\n\u001b[1;32m   1115\u001b[0m \u001b[38;5;28;01mtry\u001b[39;00m:\n\u001b[0;32m-> 1116\u001b[0m     \u001b[38;5;28;01mif\u001b[39;00m \u001b[43mlock\u001b[49m\u001b[38;5;241;43m.\u001b[39;49m\u001b[43macquire\u001b[49m\u001b[43m(\u001b[49m\u001b[43mblock\u001b[49m\u001b[43m,\u001b[49m\u001b[43m \u001b[49m\u001b[43mtimeout\u001b[49m\u001b[43m)\u001b[49m:\n\u001b[1;32m   1117\u001b[0m         lock\u001b[38;5;241m.\u001b[39mrelease()\n\u001b[1;32m   1118\u001b[0m         \u001b[38;5;28mself\u001b[39m\u001b[38;5;241m.\u001b[39m_stop()\n",
      "\u001b[0;31mKeyboardInterrupt\u001b[0m: "
     ]
    },
    {
     "name": "stderr",
     "output_type": "stream",
     "text": [
      "\u001b[A"
     ]
    },
    {
     "name": "stdout",
     "output_type": "stream",
     "text": [
      "WARNING:urllib3.connectionpool:Retrying (Retry(total=2, connect=None, read=None, redirect=None, status=None)) after connection broken by 'NewConnectionError('<urllib3.connection.HTTPConnection object at 0x1115ada50>: Failed to establish a new connection: [Errno 61] Connection refused')': /session/6d8adf505426dbfb852990b30161c886/execute/sync\n",
      "WARNING:urllib3.connectionpool:Retrying (Retry(total=1, connect=None, read=None, redirect=None, status=None)) after connection broken by 'NewConnectionError('<urllib3.connection.HTTPConnection object at 0x11160e8f0>: Failed to establish a new connection: [Errno 61] Connection refused')': /session/6d8adf505426dbfb852990b30161c886/execute/sync\n",
      "WARNING:urllib3.connectionpool:Retrying (Retry(total=0, connect=None, read=None, redirect=None, status=None)) after connection broken by 'NewConnectionError('<urllib3.connection.HTTPConnection object at 0x11177e0e0>: Failed to establish a new connection: [Errno 61] Connection refused')': /session/6d8adf505426dbfb852990b30161c886/execute/sync\n",
      "WARNING:urllib3.connectionpool:Retrying (Retry(total=2, connect=None, read=None, redirect=None, status=None)) after connection broken by 'NewConnectionError('<urllib3.connection.HTTPConnection object at 0x11160d990>: Failed to establish a new connection: [Errno 61] Connection refused')': /session/6d8adf505426dbfb852990b30161c886/execute/sync\n",
      "WARNING:urllib3.connectionpool:Retrying (Retry(total=1, connect=None, read=None, redirect=None, status=None)) after connection broken by 'NewConnectionError('<urllib3.connection.HTTPConnection object at 0x111596d40>: Failed to establish a new connection: [Errno 61] Connection refused')': /session/6d8adf505426dbfb852990b30161c886/execute/sync\n",
      "WARNING:urllib3.connectionpool:Retrying (Retry(total=0, connect=None, read=None, redirect=None, status=None)) after connection broken by 'NewConnectionError('<urllib3.connection.HTTPConnection object at 0x111597bb0>: Failed to establish a new connection: [Errno 61] Connection refused')': /session/6d8adf505426dbfb852990b30161c886/execute/sync\n",
      "WARNING:urllib3.connectionpool:Retrying (Retry(total=2, connect=None, read=None, redirect=None, status=None)) after connection broken by 'NewConnectionError('<urllib3.connection.HTTPConnection object at 0x1120bc220>: Failed to establish a new connection: [Errno 61] Connection refused')': /session/6d8adf505426dbfb852990b30161c886/execute/sync\n",
      "WARNING:urllib3.connectionpool:Retrying (Retry(total=1, connect=None, read=None, redirect=None, status=None)) after connection broken by 'NewConnectionError('<urllib3.connection.HTTPConnection object at 0x1120bc5b0>: Failed to establish a new connection: [Errno 61] Connection refused')': /session/6d8adf505426dbfb852990b30161c886/execute/sync\n",
      "WARNING:urllib3.connectionpool:Retrying (Retry(total=0, connect=None, read=None, redirect=None, status=None)) after connection broken by 'NewConnectionError('<urllib3.connection.HTTPConnection object at 0x1120bc490>: Failed to establish a new connection: [Errno 61] Connection refused')': /session/6d8adf505426dbfb852990b30161c886/execute/sync\n",
      "WARNING:urllib3.connectionpool:Retrying (Retry(total=2, connect=None, read=None, redirect=None, status=None)) after connection broken by 'NewConnectionError('<urllib3.connection.HTTPConnection object at 0x1120bc9d0>: Failed to establish a new connection: [Errno 61] Connection refused')': /session/6d8adf505426dbfb852990b30161c886/execute/sync\n",
      "WARNING:urllib3.connectionpool:Retrying (Retry(total=1, connect=None, read=None, redirect=None, status=None)) after connection broken by 'NewConnectionError('<urllib3.connection.HTTPConnection object at 0x111a453c0>: Failed to establish a new connection: [Errno 61] Connection refused')': /session/6d8adf505426dbfb852990b30161c886/execute/sync\n",
      "WARNING:urllib3.connectionpool:Retrying (Retry(total=0, connect=None, read=None, redirect=None, status=None)) after connection broken by 'NewConnectionError('<urllib3.connection.HTTPConnection object at 0x11170f9a0>: Failed to establish a new connection: [Errno 61] Connection refused')': /session/6d8adf505426dbfb852990b30161c886/execute/sync\n",
      "WARNING:urllib3.connectionpool:Retrying (Retry(total=2, connect=None, read=None, redirect=None, status=None)) after connection broken by 'NewConnectionError('<urllib3.connection.HTTPConnection object at 0x11177e0e0>: Failed to establish a new connection: [Errno 61] Connection refused')': /session/6d8adf505426dbfb852990b30161c886/execute/sync\n",
      "WARNING:urllib3.connectionpool:Retrying (Retry(total=1, connect=None, read=None, redirect=None, status=None)) after connection broken by 'NewConnectionError('<urllib3.connection.HTTPConnection object at 0x11160e890>: Failed to establish a new connection: [Errno 61] Connection refused')': /session/6d8adf505426dbfb852990b30161c886/execute/sync\n",
      "WARNING:urllib3.connectionpool:Retrying (Retry(total=0, connect=None, read=None, redirect=None, status=None)) after connection broken by 'NewConnectionError('<urllib3.connection.HTTPConnection object at 0x11160e980>: Failed to establish a new connection: [Errno 61] Connection refused')': /session/6d8adf505426dbfb852990b30161c886/execute/sync\n",
      "WARNING:urllib3.connectionpool:Retrying (Retry(total=2, connect=None, read=None, redirect=None, status=None)) after connection broken by 'NewConnectionError('<urllib3.connection.HTTPConnection object at 0x11160e680>: Failed to establish a new connection: [Errno 61] Connection refused')': /session/6d8adf505426dbfb852990b30161c886/execute/sync\n",
      "WARNING:urllib3.connectionpool:Retrying (Retry(total=1, connect=None, read=None, redirect=None, status=None)) after connection broken by 'NewConnectionError('<urllib3.connection.HTTPConnection object at 0x1120bcf40>: Failed to establish a new connection: [Errno 61] Connection refused')': /session/6d8adf505426dbfb852990b30161c886/execute/sync\n",
      "WARNING:urllib3.connectionpool:Retrying (Retry(total=0, connect=None, read=None, redirect=None, status=None)) after connection broken by 'NewConnectionError('<urllib3.connection.HTTPConnection object at 0x1120bcc10>: Failed to establish a new connection: [Errno 61] Connection refused')': /session/6d8adf505426dbfb852990b30161c886/execute/sync\n",
      "WARNING:urllib3.connectionpool:Retrying (Retry(total=2, connect=None, read=None, redirect=None, status=None)) after connection broken by 'NewConnectionError('<urllib3.connection.HTTPConnection object at 0x1120bc310>: Failed to establish a new connection: [Errno 61] Connection refused')': /session/6d8adf505426dbfb852990b30161c886/execute/sync\n",
      "WARNING:urllib3.connectionpool:Retrying (Retry(total=1, connect=None, read=None, redirect=None, status=None)) after connection broken by 'NewConnectionError('<urllib3.connection.HTTPConnection object at 0x1120bca60>: Failed to establish a new connection: [Errno 61] Connection refused')': /session/6d8adf505426dbfb852990b30161c886/execute/sync\n",
      "WARNING:urllib3.connectionpool:Retrying (Retry(total=0, connect=None, read=None, redirect=None, status=None)) after connection broken by 'NewConnectionError('<urllib3.connection.HTTPConnection object at 0x1120bd150>: Failed to establish a new connection: [Errno 61] Connection refused')': /session/6d8adf505426dbfb852990b30161c886/execute/sync\n",
      "WARNING:urllib3.connectionpool:Retrying (Retry(total=2, connect=None, read=None, redirect=None, status=None)) after connection broken by 'NewConnectionError('<urllib3.connection.HTTPConnection object at 0x1120bd930>: Failed to establish a new connection: [Errno 61] Connection refused')': /session/6d8adf505426dbfb852990b30161c886/execute/sync\n",
      "WARNING:urllib3.connectionpool:Retrying (Retry(total=1, connect=None, read=None, redirect=None, status=None)) after connection broken by 'NewConnectionError('<urllib3.connection.HTTPConnection object at 0x1116b1060>: Failed to establish a new connection: [Errno 61] Connection refused')': /session/6d8adf505426dbfb852990b30161c886/execute/sync\n",
      "WARNING:urllib3.connectionpool:Retrying (Retry(total=0, connect=None, read=None, redirect=None, status=None)) after connection broken by 'NewConnectionError('<urllib3.connection.HTTPConnection object at 0x1115ad5d0>: Failed to establish a new connection: [Errno 61] Connection refused')': /session/6d8adf505426dbfb852990b30161c886/execute/sync\n",
      "WARNING:urllib3.connectionpool:Retrying (Retry(total=2, connect=None, read=None, redirect=None, status=None)) after connection broken by 'NewConnectionError('<urllib3.connection.HTTPConnection object at 0x11160e980>: Failed to establish a new connection: [Errno 61] Connection refused')': /session/6d8adf505426dbfb852990b30161c886/execute/sync\n",
      "WARNING:urllib3.connectionpool:Retrying (Retry(total=1, connect=None, read=None, redirect=None, status=None)) after connection broken by 'NewConnectionError('<urllib3.connection.HTTPConnection object at 0x11160d870>: Failed to establish a new connection: [Errno 61] Connection refused')': /session/6d8adf505426dbfb852990b30161c886/execute/sync\n",
      "WARNING:urllib3.connectionpool:Retrying (Retry(total=0, connect=None, read=None, redirect=None, status=None)) after connection broken by 'NewConnectionError('<urllib3.connection.HTTPConnection object at 0x11177f3a0>: Failed to establish a new connection: [Errno 61] Connection refused')': /session/6d8adf505426dbfb852990b30161c886/execute/sync\n",
      "WARNING:urllib3.connectionpool:Retrying (Retry(total=2, connect=None, read=None, redirect=None, status=None)) after connection broken by 'NewConnectionError('<urllib3.connection.HTTPConnection object at 0x11170c760>: Failed to establish a new connection: [Errno 61] Connection refused')': /session/6d8adf505426dbfb852990b30161c886/execute/sync\n",
      "WARNING:urllib3.connectionpool:Retrying (Retry(total=1, connect=None, read=None, redirect=None, status=None)) after connection broken by 'NewConnectionError('<urllib3.connection.HTTPConnection object at 0x1120bd660>: Failed to establish a new connection: [Errno 61] Connection refused')': /session/6d8adf505426dbfb852990b30161c886/execute/sync\n",
      "WARNING:urllib3.connectionpool:Retrying (Retry(total=0, connect=None, read=None, redirect=None, status=None)) after connection broken by 'NewConnectionError('<urllib3.connection.HTTPConnection object at 0x1120bcf70>: Failed to establish a new connection: [Errno 61] Connection refused')': /session/6d8adf505426dbfb852990b30161c886/execute/sync\n",
      "WARNING:urllib3.connectionpool:Retrying (Retry(total=2, connect=None, read=None, redirect=None, status=None)) after connection broken by 'NewConnectionError('<urllib3.connection.HTTPConnection object at 0x1120bd570>: Failed to establish a new connection: [Errno 61] Connection refused')': /session/6d8adf505426dbfb852990b30161c886/execute/sync\n",
      "WARNING:urllib3.connectionpool:Retrying (Retry(total=1, connect=None, read=None, redirect=None, status=None)) after connection broken by 'NewConnectionError('<urllib3.connection.HTTPConnection object at 0x1120bd2a0>: Failed to establish a new connection: [Errno 61] Connection refused')': /session/6d8adf505426dbfb852990b30161c886/execute/sync\n",
      "WARNING:urllib3.connectionpool:Retrying (Retry(total=0, connect=None, read=None, redirect=None, status=None)) after connection broken by 'NewConnectionError('<urllib3.connection.HTTPConnection object at 0x1120bc370>: Failed to establish a new connection: [Errno 61] Connection refused')': /session/6d8adf505426dbfb852990b30161c886/execute/sync\n",
      "WARNING:urllib3.connectionpool:Retrying (Retry(total=2, connect=None, read=None, redirect=None, status=None)) after connection broken by 'NewConnectionError('<urllib3.connection.HTTPConnection object at 0x1120bdba0>: Failed to establish a new connection: [Errno 61] Connection refused')': /session/6d8adf505426dbfb852990b30161c886/execute/sync\n",
      "WARNING:urllib3.connectionpool:Retrying (Retry(total=1, connect=None, read=None, redirect=None, status=None)) after connection broken by 'NewConnectionError('<urllib3.connection.HTTPConnection object at 0x1120be170>: Failed to establish a new connection: [Errno 61] Connection refused')': /session/6d8adf505426dbfb852990b30161c886/execute/sync\n",
      "WARNING:urllib3.connectionpool:Retrying (Retry(total=0, connect=None, read=None, redirect=None, status=None)) after connection broken by 'NewConnectionError('<urllib3.connection.HTTPConnection object at 0x111763d00>: Failed to establish a new connection: [Errno 61] Connection refused')': /session/6d8adf505426dbfb852990b30161c886/execute/sync\n",
      "WARNING:urllib3.connectionpool:Retrying (Retry(total=2, connect=None, read=None, redirect=None, status=None)) after connection broken by 'NewConnectionError('<urllib3.connection.HTTPConnection object at 0x111eeefe0>: Failed to establish a new connection: [Errno 61] Connection refused')': /session/6d8adf505426dbfb852990b30161c886/execute/sync\n",
      "WARNING:urllib3.connectionpool:Retrying (Retry(total=1, connect=None, read=None, redirect=None, status=None)) after connection broken by 'NewConnectionError('<urllib3.connection.HTTPConnection object at 0x11160e680>: Failed to establish a new connection: [Errno 61] Connection refused')': /session/6d8adf505426dbfb852990b30161c886/execute/sync\n",
      "WARNING:urllib3.connectionpool:Retrying (Retry(total=0, connect=None, read=None, redirect=None, status=None)) after connection broken by 'NewConnectionError('<urllib3.connection.HTTPConnection object at 0x11160ead0>: Failed to establish a new connection: [Errno 61] Connection refused')': /session/6d8adf505426dbfb852990b30161c886/execute/sync\n",
      "WARNING:urllib3.connectionpool:Retrying (Retry(total=2, connect=None, read=None, redirect=None, status=None)) after connection broken by 'NewConnectionError('<urllib3.connection.HTTPConnection object at 0x1115ad7b0>: Failed to establish a new connection: [Errno 61] Connection refused')': /session/6d8adf505426dbfb852990b30161c886/execute/sync\n",
      "WARNING:urllib3.connectionpool:Retrying (Retry(total=1, connect=None, read=None, redirect=None, status=None)) after connection broken by 'NewConnectionError('<urllib3.connection.HTTPConnection object at 0x11177ed10>: Failed to establish a new connection: [Errno 61] Connection refused')': /session/6d8adf505426dbfb852990b30161c886/execute/sync\n",
      "WARNING:urllib3.connectionpool:Retrying (Retry(total=0, connect=None, read=None, redirect=None, status=None)) after connection broken by 'NewConnectionError('<urllib3.connection.HTTPConnection object at 0x111a454e0>: Failed to establish a new connection: [Errno 61] Connection refused')': /session/6d8adf505426dbfb852990b30161c886/execute/sync\n",
      "WARNING:urllib3.connectionpool:Retrying (Retry(total=2, connect=None, read=None, redirect=None, status=None)) after connection broken by 'NewConnectionError('<urllib3.connection.HTTPConnection object at 0x111a4d840>: Failed to establish a new connection: [Errno 61] Connection refused')': /session/6d8adf505426dbfb852990b30161c886/execute/sync\n",
      "WARNING:urllib3.connectionpool:Retrying (Retry(total=1, connect=None, read=None, redirect=None, status=None)) after connection broken by 'NewConnectionError('<urllib3.connection.HTTPConnection object at 0x1120be2c0>: Failed to establish a new connection: [Errno 61] Connection refused')': /session/6d8adf505426dbfb852990b30161c886/execute/sync\n",
      "WARNING:urllib3.connectionpool:Retrying (Retry(total=0, connect=None, read=None, redirect=None, status=None)) after connection broken by 'NewConnectionError('<urllib3.connection.HTTPConnection object at 0x1120bdb70>: Failed to establish a new connection: [Errno 61] Connection refused')': /session/6d8adf505426dbfb852990b30161c886/execute/sync\n",
      "WARNING:urllib3.connectionpool:Retrying (Retry(total=2, connect=None, read=None, redirect=None, status=None)) after connection broken by 'NewConnectionError('<urllib3.connection.HTTPConnection object at 0x1120bde10>: Failed to establish a new connection: [Errno 61] Connection refused')': /session/6d8adf505426dbfb852990b30161c886/execute/sync\n",
      "WARNING:urllib3.connectionpool:Retrying (Retry(total=1, connect=None, read=None, redirect=None, status=None)) after connection broken by 'NewConnectionError('<urllib3.connection.HTTPConnection object at 0x1120bcfa0>: Failed to establish a new connection: [Errno 61] Connection refused')': /session/6d8adf505426dbfb852990b30161c886/execute/sync\n",
      "WARNING:urllib3.connectionpool:Retrying (Retry(total=0, connect=None, read=None, redirect=None, status=None)) after connection broken by 'NewConnectionError('<urllib3.connection.HTTPConnection object at 0x1120bcf70>: Failed to establish a new connection: [Errno 61] Connection refused')': /session/6d8adf505426dbfb852990b30161c886/execute/sync\n",
      "WARNING:urllib3.connectionpool:Retrying (Retry(total=2, connect=None, read=None, redirect=None, status=None)) after connection broken by 'NewConnectionError('<urllib3.connection.HTTPConnection object at 0x111a4e230>: Failed to establish a new connection: [Errno 61] Connection refused')': /session/6d8adf505426dbfb852990b30161c886/execute/sync\n",
      "WARNING:urllib3.connectionpool:Retrying (Retry(total=1, connect=None, read=None, redirect=None, status=None)) after connection broken by 'NewConnectionError('<urllib3.connection.HTTPConnection object at 0x111a589d0>: Failed to establish a new connection: [Errno 61] Connection refused')': /session/6d8adf505426dbfb852990b30161c886/execute/sync\n",
      "WARNING:urllib3.connectionpool:Retrying (Retry(total=0, connect=None, read=None, redirect=None, status=None)) after connection broken by 'NewConnectionError('<urllib3.connection.HTTPConnection object at 0x111a45420>: Failed to establish a new connection: [Errno 61] Connection refused')': /session/6d8adf505426dbfb852990b30161c886/execute/sync\n",
      "WARNING:urllib3.connectionpool:Retrying (Retry(total=2, connect=None, read=None, redirect=None, status=None)) after connection broken by 'NewConnectionError('<urllib3.connection.HTTPConnection object at 0x1115ad600>: Failed to establish a new connection: [Errno 61] Connection refused')': /session/6d8adf505426dbfb852990b30161c886/execute/sync\n",
      "WARNING:urllib3.connectionpool:Retrying (Retry(total=1, connect=None, read=None, redirect=None, status=None)) after connection broken by 'NewConnectionError('<urllib3.connection.HTTPConnection object at 0x11160ed40>: Failed to establish a new connection: [Errno 61] Connection refused')': /session/6d8adf505426dbfb852990b30161c886/execute/sync\n",
      "WARNING:urllib3.connectionpool:Retrying (Retry(total=0, connect=None, read=None, redirect=None, status=None)) after connection broken by 'NewConnectionError('<urllib3.connection.HTTPConnection object at 0x11160ead0>: Failed to establish a new connection: [Errno 61] Connection refused')': /session/6d8adf505426dbfb852990b30161c886/execute/sync\n",
      "WARNING:urllib3.connectionpool:Retrying (Retry(total=2, connect=None, read=None, redirect=None, status=None)) after connection broken by 'NewConnectionError('<urllib3.connection.HTTPConnection object at 0x11160dcf0>: Failed to establish a new connection: [Errno 61] Connection refused')': /session/6d8adf505426dbfb852990b30161c886/execute/sync\n",
      "WARNING:urllib3.connectionpool:Retrying (Retry(total=1, connect=None, read=None, redirect=None, status=None)) after connection broken by 'NewConnectionError('<urllib3.connection.HTTPConnection object at 0x111596d40>: Failed to establish a new connection: [Errno 61] Connection refused')': /session/6d8adf505426dbfb852990b30161c886/execute/sync\n",
      "WARNING:urllib3.connectionpool:Retrying (Retry(total=0, connect=None, read=None, redirect=None, status=None)) after connection broken by 'NewConnectionError('<urllib3.connection.HTTPConnection object at 0x11170d4b0>: Failed to establish a new connection: [Errno 61] Connection refused')': /session/6d8adf505426dbfb852990b30161c886/execute/sync\n"
     ]
    },
    {
     "name": "stderr",
     "output_type": "stream",
     "text": [
      "\n",
      " 81%|██████████████████████████████████████████████████████████████████████████████████▌                   | 81/100 [02:47<00:05,  3.44it/s]\u001b[A"
     ]
    },
    {
     "name": "stdout",
     "output_type": "stream",
     "text": [
      "WARNING:urllib3.connectionpool:Retrying (Retry(total=2, connect=None, read=None, redirect=None, status=None)) after connection broken by 'NewConnectionError('<urllib3.connection.HTTPConnection object at 0x1120bc820>: Failed to establish a new connection: [Errno 61] Connection refused')': /session/6d8adf505426dbfb852990b30161c886/execute/sync\n",
      "WARNING:urllib3.connectionpool:Retrying (Retry(total=1, connect=None, read=None, redirect=None, status=None)) after connection broken by 'NewConnectionError('<urllib3.connection.HTTPConnection object at 0x1120bccd0>: Failed to establish a new connection: [Errno 61] Connection refused')': /session/6d8adf505426dbfb852990b30161c886/execute/sync\n",
      "WARNING:urllib3.connectionpool:Retrying (Retry(total=0, connect=None, read=None, redirect=None, status=None)) after connection broken by 'NewConnectionError('<urllib3.connection.HTTPConnection object at 0x1120bd900>: Failed to establish a new connection: [Errno 61] Connection refused')': /session/6d8adf505426dbfb852990b30161c886/execute/sync\n",
      "WARNING:urllib3.connectionpool:Retrying (Retry(total=2, connect=None, read=None, redirect=None, status=None)) after connection broken by 'NewConnectionError('<urllib3.connection.HTTPConnection object at 0x11170f9a0>: Failed to establish a new connection: [Errno 61] Connection refused')': /session/6d8adf505426dbfb852990b30161c886/execute/sync\n",
      "WARNING:urllib3.connectionpool:Retrying (Retry(total=1, connect=None, read=None, redirect=None, status=None)) after connection broken by 'NewConnectionError('<urllib3.connection.HTTPConnection object at 0x111597bb0>: Failed to establish a new connection: [Errno 61] Connection refused')': /session/6d8adf505426dbfb852990b30161c886/execute/sync\n",
      "WARNING:urllib3.connectionpool:Retrying (Retry(total=0, connect=None, read=None, redirect=None, status=None)) after connection broken by 'NewConnectionError('<urllib3.connection.HTTPConnection object at 0x111eef0d0>: Failed to establish a new connection: [Errno 61] Connection refused')': /session/6d8adf505426dbfb852990b30161c886/execute/sync\n",
      "WARNING:urllib3.connectionpool:Retrying (Retry(total=2, connect=None, read=None, redirect=None, status=None)) after connection broken by 'NewConnectionError('<urllib3.connection.HTTPConnection object at 0x11160e980>: Failed to establish a new connection: [Errno 61] Connection refused')': /session/6d8adf505426dbfb852990b30161c886/execute/sync\n",
      "WARNING:urllib3.connectionpool:Retrying (Retry(total=1, connect=None, read=None, redirect=None, status=None)) after connection broken by 'NewConnectionError('<urllib3.connection.HTTPConnection object at 0x11160e7a0>: Failed to establish a new connection: [Errno 61] Connection refused')': /session/6d8adf505426dbfb852990b30161c886/execute/sync\n",
      "WARNING:urllib3.connectionpool:Retrying (Retry(total=0, connect=None, read=None, redirect=None, status=None)) after connection broken by 'NewConnectionError('<urllib3.connection.HTTPConnection object at 0x11160e620>: Failed to establish a new connection: [Errno 61] Connection refused')': /session/6d8adf505426dbfb852990b30161c886/execute/sync\n",
      "WARNING:urllib3.connectionpool:Retrying (Retry(total=2, connect=None, read=None, redirect=None, status=None)) after connection broken by 'NewConnectionError('<urllib3.connection.HTTPConnection object at 0x111a5b8b0>: Failed to establish a new connection: [Errno 61] Connection refused')': /session/6d8adf505426dbfb852990b30161c886/execute/sync\n",
      "WARNING:urllib3.connectionpool:Retrying (Retry(total=1, connect=None, read=None, redirect=None, status=None)) after connection broken by 'NewConnectionError('<urllib3.connection.HTTPConnection object at 0x111a4c640>: Failed to establish a new connection: [Errno 61] Connection refused')': /session/6d8adf505426dbfb852990b30161c886/execute/sync\n",
      "WARNING:urllib3.connectionpool:Retrying (Retry(total=0, connect=None, read=None, redirect=None, status=None)) after connection broken by 'NewConnectionError('<urllib3.connection.HTTPConnection object at 0x111a4d7e0>: Failed to establish a new connection: [Errno 61] Connection refused')': /session/6d8adf505426dbfb852990b30161c886/execute/sync\n",
      "WARNING:urllib3.connectionpool:Retrying (Retry(total=2, connect=None, read=None, redirect=None, status=None)) after connection broken by 'NewConnectionError('<urllib3.connection.HTTPConnection object at 0x1120bc940>: Failed to establish a new connection: [Errno 61] Connection refused')': /session/6d8adf505426dbfb852990b30161c886/execute/sync\n",
      "WARNING:urllib3.connectionpool:Retrying (Retry(total=1, connect=None, read=None, redirect=None, status=None)) after connection broken by 'NewConnectionError('<urllib3.connection.HTTPConnection object at 0x1120bd150>: Failed to establish a new connection: [Errno 61] Connection refused')': /session/6d8adf505426dbfb852990b30161c886/execute/sync\n",
      "WARNING:urllib3.connectionpool:Retrying (Retry(total=0, connect=None, read=None, redirect=None, status=None)) after connection broken by 'NewConnectionError('<urllib3.connection.HTTPConnection object at 0x1120be650>: Failed to establish a new connection: [Errno 61] Connection refused')': /session/6d8adf505426dbfb852990b30161c886/execute/sync\n",
      "WARNING:urllib3.connectionpool:Retrying (Retry(total=2, connect=None, read=None, redirect=None, status=None)) after connection broken by 'NewConnectionError('<urllib3.connection.HTTPConnection object at 0x1120be4a0>: Failed to establish a new connection: [Errno 61] Connection refused')': /session/6d8adf505426dbfb852990b30161c886/execute/sync\n",
      "WARNING:urllib3.connectionpool:Retrying (Retry(total=1, connect=None, read=None, redirect=None, status=None)) after connection broken by 'NewConnectionError('<urllib3.connection.HTTPConnection object at 0x111a4f220>: Failed to establish a new connection: [Errno 61] Connection refused')': /session/6d8adf505426dbfb852990b30161c886/execute/sync\n",
      "WARNING:urllib3.connectionpool:Retrying (Retry(total=0, connect=None, read=None, redirect=None, status=None)) after connection broken by 'NewConnectionError('<urllib3.connection.HTTPConnection object at 0x111a58880>: Failed to establish a new connection: [Errno 61] Connection refused')': /session/6d8adf505426dbfb852990b30161c886/execute/sync\n",
      "WARNING:urllib3.connectionpool:Retrying (Retry(total=2, connect=None, read=None, redirect=None, status=None)) after connection broken by 'NewConnectionError('<urllib3.connection.HTTPConnection object at 0x11177fd60>: Failed to establish a new connection: [Errno 61] Connection refused')': /session/6d8adf505426dbfb852990b30161c886/execute/sync\n",
      "WARNING:urllib3.connectionpool:Retrying (Retry(total=1, connect=None, read=None, redirect=None, status=None)) after connection broken by 'NewConnectionError('<urllib3.connection.HTTPConnection object at 0x1115ad600>: Failed to establish a new connection: [Errno 61] Connection refused')': /session/6d8adf505426dbfb852990b30161c886/execute/sync\n",
      "WARNING:urllib3.connectionpool:Retrying (Retry(total=0, connect=None, read=None, redirect=None, status=None)) after connection broken by 'NewConnectionError('<urllib3.connection.HTTPConnection object at 0x11160d870>: Failed to establish a new connection: [Errno 61] Connection refused')': /session/6d8adf505426dbfb852990b30161c886/execute/sync\n",
      "WARNING:urllib3.connectionpool:Retrying (Retry(total=2, connect=None, read=None, redirect=None, status=None)) after connection broken by 'NewConnectionError('<urllib3.connection.HTTPConnection object at 0x11160eb60>: Failed to establish a new connection: [Errno 61] Connection refused')': /session/6d8adf505426dbfb852990b30161c886/execute/sync\n",
      "WARNING:urllib3.connectionpool:Retrying (Retry(total=1, connect=None, read=None, redirect=None, status=None)) after connection broken by 'NewConnectionError('<urllib3.connection.HTTPConnection object at 0x1116b0af0>: Failed to establish a new connection: [Errno 61] Connection refused')': /session/6d8adf505426dbfb852990b30161c886/execute/sync\n",
      "WARNING:urllib3.connectionpool:Retrying (Retry(total=0, connect=None, read=None, redirect=None, status=None)) after connection broken by 'NewConnectionError('<urllib3.connection.HTTPConnection object at 0x111597bb0>: Failed to establish a new connection: [Errno 61] Connection refused')': /session/6d8adf505426dbfb852990b30161c886/execute/sync\n",
      "WARNING:urllib3.connectionpool:Retrying (Retry(total=2, connect=None, read=None, redirect=None, status=None)) after connection broken by 'NewConnectionError('<urllib3.connection.HTTPConnection object at 0x1120be950>: Failed to establish a new connection: [Errno 61] Connection refused')': /session/6d8adf505426dbfb852990b30161c886/execute/sync\n",
      "WARNING:urllib3.connectionpool:Retrying (Retry(total=1, connect=None, read=None, redirect=None, status=None)) after connection broken by 'NewConnectionError('<urllib3.connection.HTTPConnection object at 0x1120be7a0>: Failed to establish a new connection: [Errno 61] Connection refused')': /session/6d8adf505426dbfb852990b30161c886/execute/sync\n",
      "WARNING:urllib3.connectionpool:Retrying (Retry(total=0, connect=None, read=None, redirect=None, status=None)) after connection broken by 'NewConnectionError('<urllib3.connection.HTTPConnection object at 0x1120bd7b0>: Failed to establish a new connection: [Errno 61] Connection refused')': /session/6d8adf505426dbfb852990b30161c886/execute/sync\n",
      "WARNING:urllib3.connectionpool:Retrying (Retry(total=2, connect=None, read=None, redirect=None, status=None)) after connection broken by 'NewConnectionError('<urllib3.connection.HTTPConnection object at 0x1120bc940>: Failed to establish a new connection: [Errno 61] Connection refused')': /session/6d8adf505426dbfb852990b30161c886/execute/sync\n",
      "WARNING:urllib3.connectionpool:Retrying (Retry(total=1, connect=None, read=None, redirect=None, status=None)) after connection broken by 'NewConnectionError('<urllib3.connection.HTTPConnection object at 0x1120bc8e0>: Failed to establish a new connection: [Errno 61] Connection refused')': /session/6d8adf505426dbfb852990b30161c886/execute/sync\n",
      "WARNING:urllib3.connectionpool:Retrying (Retry(total=0, connect=None, read=None, redirect=None, status=None)) after connection broken by 'NewConnectionError('<urllib3.connection.HTTPConnection object at 0x1108e5750>: Failed to establish a new connection: [Errno 61] Connection refused')': /session/6d8adf505426dbfb852990b30161c886/execute/sync\n",
      "WARNING:urllib3.connectionpool:Retrying (Retry(total=2, connect=None, read=None, redirect=None, status=None)) after connection broken by 'NewConnectionError('<urllib3.connection.HTTPConnection object at 0x111596e00>: Failed to establish a new connection: [Errno 61] Connection refused')': /session/6d8adf505426dbfb852990b30161c886/execute/sync\n",
      "WARNING:urllib3.connectionpool:Retrying (Retry(total=1, connect=None, read=None, redirect=None, status=None)) after connection broken by 'NewConnectionError('<urllib3.connection.HTTPConnection object at 0x11160d990>: Failed to establish a new connection: [Errno 61] Connection refused')': /session/6d8adf505426dbfb852990b30161c886/execute/sync\n",
      "WARNING:urllib3.connectionpool:Retrying (Retry(total=0, connect=None, read=None, redirect=None, status=None)) after connection broken by 'NewConnectionError('<urllib3.connection.HTTPConnection object at 0x11160ead0>: Failed to establish a new connection: [Errno 61] Connection refused')': /session/6d8adf505426dbfb852990b30161c886/execute/sync\n",
      "WARNING:urllib3.connectionpool:Retrying (Retry(total=2, connect=None, read=None, redirect=None, status=None)) after connection broken by 'NewConnectionError('<urllib3.connection.HTTPConnection object at 0x1115ae1a0>: Failed to establish a new connection: [Errno 61] Connection refused')': /session/6d8adf505426dbfb852990b30161c886/execute/sync\n",
      "WARNING:urllib3.connectionpool:Retrying (Retry(total=1, connect=None, read=None, redirect=None, status=None)) after connection broken by 'NewConnectionError('<urllib3.connection.HTTPConnection object at 0x11177fd60>: Failed to establish a new connection: [Errno 61] Connection refused')': /session/6d8adf505426dbfb852990b30161c886/execute/sync\n",
      "WARNING:urllib3.connectionpool:Retrying (Retry(total=0, connect=None, read=None, redirect=None, status=None)) after connection broken by 'NewConnectionError('<urllib3.connection.HTTPConnection object at 0x111a5b8e0>: Failed to establish a new connection: [Errno 61] Connection refused')': /session/6d8adf505426dbfb852990b30161c886/execute/sync\n",
      "WARNING:urllib3.connectionpool:Retrying (Retry(total=2, connect=None, read=None, redirect=None, status=None)) after connection broken by 'NewConnectionError('<urllib3.connection.HTTPConnection object at 0x111a4e320>: Failed to establish a new connection: [Errno 61] Connection refused')': /session/6d8adf505426dbfb852990b30161c886/execute/sync\n",
      "WARNING:urllib3.connectionpool:Retrying (Retry(total=1, connect=None, read=None, redirect=None, status=None)) after connection broken by 'NewConnectionError('<urllib3.connection.HTTPConnection object at 0x1120be590>: Failed to establish a new connection: [Errno 61] Connection refused')': /session/6d8adf505426dbfb852990b30161c886/execute/sync\n",
      "WARNING:urllib3.connectionpool:Retrying (Retry(total=0, connect=None, read=None, redirect=None, status=None)) after connection broken by 'NewConnectionError('<urllib3.connection.HTTPConnection object at 0x1120be470>: Failed to establish a new connection: [Errno 61] Connection refused')': /session/6d8adf505426dbfb852990b30161c886/execute/sync\n",
      "WARNING:urllib3.connectionpool:Retrying (Retry(total=2, connect=None, read=None, redirect=None, status=None)) after connection broken by 'NewConnectionError('<urllib3.connection.HTTPConnection object at 0x1120bcb20>: Failed to establish a new connection: [Errno 61] Connection refused')': /session/6d8adf505426dbfb852990b30161c886/execute/sync\n",
      "WARNING:urllib3.connectionpool:Retrying (Retry(total=1, connect=None, read=None, redirect=None, status=None)) after connection broken by 'NewConnectionError('<urllib3.connection.HTTPConnection object at 0x1120be920>: Failed to establish a new connection: [Errno 61] Connection refused')': /session/6d8adf505426dbfb852990b30161c886/execute/sync\n",
      "WARNING:urllib3.connectionpool:Retrying (Retry(total=0, connect=None, read=None, redirect=None, status=None)) after connection broken by 'NewConnectionError('<urllib3.connection.HTTPConnection object at 0x1120bead0>: Failed to establish a new connection: [Errno 61] Connection refused')': /session/6d8adf505426dbfb852990b30161c886/execute/sync\n",
      "WARNING:urllib3.connectionpool:Retrying (Retry(total=2, connect=None, read=None, redirect=None, status=None)) after connection broken by 'NewConnectionError('<urllib3.connection.HTTPConnection object at 0x111a4f1f0>: Failed to establish a new connection: [Errno 61] Connection refused')': /session/6d8adf505426dbfb852990b30161c886/execute/sync\n",
      "WARNING:urllib3.connectionpool:Retrying (Retry(total=1, connect=None, read=None, redirect=None, status=None)) after connection broken by 'NewConnectionError('<urllib3.connection.HTTPConnection object at 0x111a589d0>: Failed to establish a new connection: [Errno 61] Connection refused')': /session/6d8adf505426dbfb852990b30161c886/execute/sync\n",
      "WARNING:urllib3.connectionpool:Retrying (Retry(total=0, connect=None, read=None, redirect=None, status=None)) after connection broken by 'NewConnectionError('<urllib3.connection.HTTPConnection object at 0x111a454e0>: Failed to establish a new connection: [Errno 61] Connection refused')': /session/6d8adf505426dbfb852990b30161c886/execute/sync\n",
      "WARNING:urllib3.connectionpool:Retrying (Retry(total=2, connect=None, read=None, redirect=None, status=None)) after connection broken by 'NewConnectionError('<urllib3.connection.HTTPConnection object at 0x1115ad060>: Failed to establish a new connection: [Errno 61] Connection refused')': /session/6d8adf505426dbfb852990b30161c886/execute/sync\n",
      "WARNING:urllib3.connectionpool:Retrying (Retry(total=1, connect=None, read=None, redirect=None, status=None)) after connection broken by 'NewConnectionError('<urllib3.connection.HTTPConnection object at 0x11160eb60>: Failed to establish a new connection: [Errno 61] Connection refused')': /session/6d8adf505426dbfb852990b30161c886/execute/sync\n",
      "WARNING:urllib3.connectionpool:Retrying (Retry(total=0, connect=None, read=None, redirect=None, status=None)) after connection broken by 'NewConnectionError('<urllib3.connection.HTTPConnection object at 0x11160dcf0>: Failed to establish a new connection: [Errno 61] Connection refused')': /session/6d8adf505426dbfb852990b30161c886/execute/sync\n",
      "WARNING:urllib3.connectionpool:Retrying (Retry(total=2, connect=None, read=None, redirect=None, status=None)) after connection broken by 'NewConnectionError('<urllib3.connection.HTTPConnection object at 0x11160e6e0>: Failed to establish a new connection: [Errno 61] Connection refused')': /session/6d8adf505426dbfb852990b30161c886/execute/sync\n",
      "WARNING:urllib3.connectionpool:Retrying (Retry(total=1, connect=None, read=None, redirect=None, status=None)) after connection broken by 'NewConnectionError('<urllib3.connection.HTTPConnection object at 0x111596da0>: Failed to establish a new connection: [Errno 61] Connection refused')': /session/6d8adf505426dbfb852990b30161c886/execute/sync\n",
      "WARNING:urllib3.connectionpool:Retrying (Retry(total=0, connect=None, read=None, redirect=None, status=None)) after connection broken by 'NewConnectionError('<urllib3.connection.HTTPConnection object at 0x1120bed40>: Failed to establish a new connection: [Errno 61] Connection refused')': /session/6d8adf505426dbfb852990b30161c886/execute/sync\n",
      "WARNING:urllib3.connectionpool:Retrying (Retry(total=2, connect=None, read=None, redirect=None, status=None)) after connection broken by 'NewConnectionError('<urllib3.connection.HTTPConnection object at 0x1120bed70>: Failed to establish a new connection: [Errno 61] Connection refused')': /session/6d8adf505426dbfb852990b30161c886/execute/sync\n",
      "WARNING:urllib3.connectionpool:Retrying (Retry(total=1, connect=None, read=None, redirect=None, status=None)) after connection broken by 'NewConnectionError('<urllib3.connection.HTTPConnection object at 0x1120bd150>: Failed to establish a new connection: [Errno 61] Connection refused')': /session/6d8adf505426dbfb852990b30161c886/execute/sync\n",
      "WARNING:urllib3.connectionpool:Retrying (Retry(total=0, connect=None, read=None, redirect=None, status=None)) after connection broken by 'NewConnectionError('<urllib3.connection.HTTPConnection object at 0x1120bee60>: Failed to establish a new connection: [Errno 61] Connection refused')': /session/6d8adf505426dbfb852990b30161c886/execute/sync\n",
      "WARNING:urllib3.connectionpool:Retrying (Retry(total=2, connect=None, read=None, redirect=None, status=None)) after connection broken by 'NewConnectionError('<urllib3.connection.HTTPConnection object at 0x1120beec0>: Failed to establish a new connection: [Errno 61] Connection refused')': /session/6d8adf505426dbfb852990b30161c886/execute/sync\n",
      "WARNING:urllib3.connectionpool:Retrying (Retry(total=1, connect=None, read=None, redirect=None, status=None)) after connection broken by 'NewConnectionError('<urllib3.connection.HTTPConnection object at 0x11170eb30>: Failed to establish a new connection: [Errno 61] Connection refused')': /session/6d8adf505426dbfb852990b30161c886/execute/sync\n",
      "WARNING:urllib3.connectionpool:Retrying (Retry(total=0, connect=None, read=None, redirect=None, status=None)) after connection broken by 'NewConnectionError('<urllib3.connection.HTTPConnection object at 0x111596da0>: Failed to establish a new connection: [Errno 61] Connection refused')': /session/6d8adf505426dbfb852990b30161c886/execute/sync\n"
     ]
    },
    {
     "name": "stderr",
     "output_type": "stream",
     "text": [
      "100%|█████████████████████████████████████████████████████████████████████████████████████████████████████| 100/100 [02:47<00:00,  1.67s/it]"
     ]
    },
    {
     "name": "stdout",
     "output_type": "stream",
     "text": [
      "INFO:adomvi.scraper.google:Scrolling page.\n",
      "WARNING:urllib3.connectionpool:Retrying (Retry(total=2, connect=None, read=None, redirect=None, status=None)) after connection broken by 'NewConnectionError('<urllib3.connection.HTTPConnection object at 0x111a6f2e0>: Failed to establish a new connection: [Errno 61] Connection refused')': /session/6d8adf505426dbfb852990b30161c886/execute/sync\n",
      "WARNING:urllib3.connectionpool:Retrying (Retry(total=1, connect=None, read=None, redirect=None, status=None)) after connection broken by 'NewConnectionError('<urllib3.connection.HTTPConnection object at 0x111a6f0a0>: Failed to establish a new connection: [Errno 61] Connection refused')': /session/6d8adf505426dbfb852990b30161c886/execute/sync\n",
      "WARNING:urllib3.connectionpool:Retrying (Retry(total=0, connect=None, read=None, redirect=None, status=None)) after connection broken by 'NewConnectionError('<urllib3.connection.HTTPConnection object at 0x11160e6e0>: Failed to establish a new connection: [Errno 61] Connection refused')': /session/6d8adf505426dbfb852990b30161c886/execute/sync\n"
     ]
    },
    {
     "name": "stderr",
     "output_type": "stream",
     "text": [
      "\n"
     ]
    }
   ],
   "source": [
    "from concurrent.futures import ThreadPoolExecutor\n",
    "\n",
    "with ThreadPoolExecutor(max_workers=2) as executor:\n",
    "    executor.map(worker_thread, AC)"
   ]
  },
  {
   "cell_type": "code",
   "execution_count": null,
   "id": "d91b7202-772e-4022-97b2-f54edc14d44c",
   "metadata": {},
   "outputs": [],
   "source": []
  }
 ],
 "metadata": {
  "kernelspec": {
   "display_name": "Python 3 (ipykernel)",
   "language": "python",
   "name": "python3"
  },
  "language_info": {
   "codemirror_mode": {
    "name": "ipython",
    "version": 3
   },
   "file_extension": ".py",
   "mimetype": "text/x-python",
   "name": "python",
   "nbconvert_exporter": "python",
   "pygments_lexer": "ipython3",
   "version": "3.10.10"
  }
 },
 "nbformat": 4,
 "nbformat_minor": 5
}
