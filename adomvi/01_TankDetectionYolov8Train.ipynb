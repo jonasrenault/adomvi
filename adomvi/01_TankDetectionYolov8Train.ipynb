{
 "cells": [
  {
   "cell_type": "markdown",
   "id": "6324ebae-fbd4-4a30-ba85-2393a36496b8",
   "metadata": {
    "id": "6324ebae-fbd4-4a30-ba85-2393a36496b8"
   },
   "source": [
    "# Tank detection YoloV8 model train\n",
    "\n",
    "This notebook will train a [Yolov8](https://github.com/ultralytics/ultralytics) model for tank detection using publicly available annotated images of tanks.\n",
    "\n",
    "As the notebook will run the training with `PyTorch`, it is recommended to have GPUs available. If running in Google Colab, go to Edit > Notebook settings and select GPU hardware acceleration.\n",
    "\n",
    "The first step of the notebook will use [fiftyone](https://github.com/voxel51/fiftyone), to build a dataset of tank images and bounding box annotations for training the computer vision model. The tutorial notebook on [Fine-tuning YOLOv8 models for custom use cases](https://github.com/voxel51/fiftyone/blob/v0.21.0/docs/source/tutorials/yolov8.ipynb) is a usefull introduction on how to use `fiftyone`."
   ]
  },
  {
   "cell_type": "markdown",
   "id": "227f7e25-5ffc-4810-a28f-34b9b6929399",
   "metadata": {
    "id": "227f7e25-5ffc-4810-a28f-34b9b6929399"
   },
   "source": [
    "### Setup\n",
    "To get started, install FiftyOne and Ultralytics (Yolov8) and check PyTorch and GPU support."
   ]
  },
  {
   "cell_type": "code",
   "execution_count": 1,
   "id": "5e7ee439-d69e-4428-ae2d-522b24acd72f",
   "metadata": {
    "colab": {
     "base_uri": "https://localhost:8080/"
    },
    "id": "5e7ee439-d69e-4428-ae2d-522b24acd72f",
    "outputId": "c9cf18b6-8b7e-4df3-b31f-1e15b8276cd7"
   },
   "outputs": [
    {
     "name": "stdout",
     "output_type": "stream",
     "text": [
      "Setup complete. Using torch 2.3.0+cu121 (NVIDIA RTX A6000)\n"
     ]
    }
   ],
   "source": [
    "!pip install fiftyone ultralytics\n",
    "\n",
    "import torch\n",
    "from IPython.display import clear_output\n",
    "\n",
    "clear_output()\n",
    "print(f\"Setup complete. Using torch {torch.__version__} ({torch.cuda.get_device_properties(0).name if torch.cuda.is_available() else 'CPU'})\")"
   ]
  },
  {
   "cell_type": "markdown",
   "id": "55fd7685",
   "metadata": {
    "id": "55fd7685"
   },
   "source": [
    "We also setup some logging."
   ]
  },
  {
   "cell_type": "code",
   "execution_count": 2,
   "id": "b4205b7c",
   "metadata": {
    "id": "b4205b7c"
   },
   "outputs": [],
   "source": [
    "import logging\n",
    "import os\n",
    "\n",
    "logging.basicConfig(level=logging.INFO)\n",
    "NOTEBOOK_DIR = os.path.abspath('')\n",
    "LOG = logging.getLogger()\n",
    "LOG.setLevel(logging.INFO)"
   ]
  },
  {
   "cell_type": "markdown",
   "id": "4ddff397",
   "metadata": {
    "id": "4ddff397"
   },
   "source": [
    "### Download images from ImageNet21k\n",
    "\n",
    "The first dataset we'll use is ImageNet21k. The ImageNet21k dataset is available at [https://image-net.org/download-images.php](https://image-net.org/download-images.php). You need to register and be granted access to download the images. We use the Winter 21 version since it gives the option of downloading the images for a single synset: https://image-net.org/data/winter21_whole/SYNSET_ID.tar, e.g., https://image-net.org/data/winter21_whole/n02352591.tar. The processed version of ImageNet21k is available here : https://github.com/Alibaba-MIIL/ImageNet21K. The classes ids and names are available here https://github.com/google-research/big_transfer/issues/7#issuecomment-640048775.\n",
    "\n",
    "We'll begin by downloading the classe names that are in ImageNet21k and look for relevant classes that we can use."
   ]
  },
  {
   "cell_type": "code",
   "execution_count": 3,
   "id": "c038557c-7095-4350-89ee-19fb2dd12dff",
   "metadata": {
    "id": "c038557c-7095-4350-89ee-19fb2dd12dff"
   },
   "outputs": [],
   "source": [
    "import requests\n",
    "import shutil\n",
    "from pathlib import Path\n",
    "\n",
    "def download_file(url: str, filename: Path) -> Path:\n",
    "    if filename.exists():\n",
    "        LOG.info(f'File {filename} already exists. Skipping download.')\n",
    "    else:\n",
    "        LOG.info(f'Downloading {filename} ...')\n",
    "        with requests.get(url, stream=True) as r:\n",
    "            with open(filename, 'wb') as f:\n",
    "                shutil.copyfileobj(r.raw, f)\n",
    "        LOG.info('Download complete.')"
   ]
  },
  {
   "cell_type": "code",
   "execution_count": 4,
   "id": "35916971-4cc4-414e-9ccf-69dcbb600763",
   "metadata": {
    "id": "35916971-4cc4-414e-9ccf-69dcbb600763"
   },
   "outputs": [],
   "source": [
    "from typing import Dict\n",
    "\n",
    "def download_class_names() -> Dict[str, str]:\n",
    "    download_dir = Path(NOTEBOOK_DIR)\n",
    "    id_file = download_dir / 'imagenet21k_wordnet_ids.txt'\n",
    "    name_file = download_dir / 'imagenet21k_wordnet_lemmas.txt'\n",
    "\n",
    "    download_file('https://storage.googleapis.com/bit_models/imagenet21k_wordnet_ids.txt', id_file)\n",
    "    download_file('https://storage.googleapis.com/bit_models/imagenet21k_wordnet_lemmas.txt', name_file) \n",
    "         \n",
    "    with open(id_file, 'r') as f:\n",
    "        ids = f.readlines()\n",
    "\n",
    "    with open(name_file, 'r') as f:\n",
    "        names = f.readlines()\n",
    "\n",
    "    synsets = {ids[i].strip(): names[i].strip() for i in range(len(ids))}\n",
    "    return synsets"
   ]
  },
  {
   "cell_type": "code",
   "execution_count": 5,
   "id": "80abe59b-17cb-4632-bb5d-97cf5b6ef093",
   "metadata": {
    "colab": {
     "base_uri": "https://localhost:8080/"
    },
    "id": "80abe59b-17cb-4632-bb5d-97cf5b6ef093",
    "outputId": "3b1b735d-7fbe-4de7-91b9-79d4d5456af2"
   },
   "outputs": [
    {
     "name": "stderr",
     "output_type": "stream",
     "text": [
      "INFO:root:File /home/jrenault/workspace/adomvi/adomvi/imagenet21k_wordnet_ids.txt already exists. Skipping download.\n",
      "INFO:root:File /home/jrenault/workspace/adomvi/adomvi/imagenet21k_wordnet_lemmas.txt already exists. Skipping download.\n"
     ]
    }
   ],
   "source": [
    "synsets = download_class_names()"
   ]
  },
  {
   "cell_type": "markdown",
   "id": "d797ce22-b8a2-4a35-b399-2246285a1d44",
   "metadata": {
    "id": "d797ce22-b8a2-4a35-b399-2246285a1d44"
   },
   "source": [
    "We can now search the synsets for relevant keywords, i.e.\n",
    "\n",
    "- Lemma: **tank, army_tank, armored_combat_vehicle, armoured_combat_vehicle**; Class: n04389033\n",
    "- Lemma: **armored_personnel_carrier, armoured_personnel_carrier, APC**; Class: n02740300\n",
    "- Lemma: **armored_vehicle, armoured_vehicle**; Class: n02740533\n",
    "- Lemma: **tracked_vehicle**; Class: n04464852\n",
    "- Lemma: **military_vehicle**; Class: n03764276"
   ]
  },
  {
   "cell_type": "code",
   "execution_count": 6,
   "id": "eec5c597-7a2f-4ab3-be0e-374ec36e8589",
   "metadata": {
    "id": "eec5c597-7a2f-4ab3-be0e-374ec36e8589"
   },
   "outputs": [],
   "source": [
    "import re\n",
    "\n",
    "def find_class_by_text(synsets, query):\n",
    "    for id, lemma in synsets.items():\n",
    "        if re.search(query, lemma, re.IGNORECASE):\n",
    "            print(f'Lemma: {lemma}; Class: {id}')"
   ]
  },
  {
   "cell_type": "code",
   "execution_count": 7,
   "id": "86424aee-41e1-4e29-b4ef-101e03f7331b",
   "metadata": {
    "colab": {
     "base_uri": "https://localhost:8080/"
    },
    "id": "86424aee-41e1-4e29-b4ef-101e03f7331b",
    "outputId": "126a6182-c5b3-48cb-a907-713af7fa7df6"
   },
   "outputs": [
    {
     "name": "stdout",
     "output_type": "stream",
     "text": [
      "Lemma: armored_dinosaur; Class: n01701551\n",
      "Lemma: armored_scale; Class: n02249515\n",
      "Lemma: armored_catfish; Class: n02520525\n",
      "Lemma: armored_car, armoured_car; Class: n02739889\n",
      "Lemma: armored_car, armoured_car; Class: n02740061\n",
      "Lemma: armored_personnel_carrier, armoured_personnel_carrier, APC; Class: n02740300\n",
      "Lemma: armored_vehicle, armoured_vehicle; Class: n02740533\n",
      "Lemma: tank, army_tank, armored_combat_vehicle, armoured_combat_vehicle; Class: n04389033\n"
     ]
    }
   ],
   "source": [
    "find_class_by_text(synsets, 'armored')"
   ]
  },
  {
   "cell_type": "markdown",
   "id": "792f27b7-730a-40f3-964f-6f7b65835ff9",
   "metadata": {
    "id": "792f27b7-730a-40f3-964f-6f7b65835ff9"
   },
   "source": [
    "We can now download images and annotations for the relevant classes. The `download_imagenet_detections` function will download the images and annotations for the given synset ids **if the annotations exist** (not all classes have been annotated)."
   ]
  },
  {
   "cell_type": "code",
   "execution_count": 8,
   "id": "f2d34820-20d1-4f1a-ae8d-9f56e116e021",
   "metadata": {
    "id": "f2d34820-20d1-4f1a-ae8d-9f56e116e021"
   },
   "outputs": [],
   "source": [
    "import tarfile\n",
    "from typing import List\n",
    "\n",
    "def download_annotations(class_ids: List[str], dataset_dir: str) -> List[str]:\n",
    "    # Download zipfile with detections for all classes\n",
    "    dataset_path = Path(NOTEBOOK_DIR) / dataset_dir\n",
    "    annotations_file = dataset_path / \"bboxes_annotations.tar.gz\"\n",
    "    annotations_dir = dataset_path / \"bboxes_annotations\"\n",
    "    download_file('https://image-net.org/data/bboxes_annotations.tar.gz', annotations_file)\n",
    "\n",
    "    # Extract annotations\n",
    "    with tarfile.open(annotations_file, \"r:gz\") as tf:\n",
    "        tf.extractall(annotations_dir)\n",
    "\n",
    "    # Extract annotations for each class\n",
    "    annoted_classes = []\n",
    "    for class_id in class_ids:\n",
    "        class_label_dir = dataset_path / \"labels\" / class_id\n",
    "        if class_label_dir.exists():\n",
    "            LOG.info(f'Annotations directory {class_label_dir} already exists. Skipping extract.')\n",
    "        else:\n",
    "            annotations_class_file = annotations_dir / f\"{class_id}.tar.gz\"\n",
    "            if annotations_class_file.exists():\n",
    "                with tarfile.open(annotations_class_file, \"r:gz\") as tf:\n",
    "                    tf.extractall(annotations_dir)\n",
    "                shutil.move(annotations_dir / \"Annotation\" / class_id, class_label_dir)\n",
    "                LOG.info(f'Extracted annotations for {class_id} to {class_label_dir}')\n",
    "                annoted_classes.append(class_id)\n",
    "            else:\n",
    "                LOG.info(f'There are not annotations for class {class_id}.')\n",
    "\n",
    "    # Delete annotations directory\n",
    "    LOG.info('Deleting annotations dir.')\n",
    "    shutil.rmtree(annotations_dir)\n",
    "    return annoted_classes\n",
    "\n",
    "def download_imagenet_detections(class_ids: List[str], dataset_dir: str):\n",
    "    # Create dataset_dir\n",
    "    dataset_path = Path(NOTEBOOK_DIR) / dataset_dir\n",
    "    dataset_path.mkdir(exist_ok=True)\n",
    "    data_dir = dataset_path / \"data\"\n",
    "    data_dir.mkdir(exist_ok=True)\n",
    "    labels_dir = dataset_path / \"labels\"\n",
    "    labels_dir.mkdir(exist_ok=True)\n",
    "\n",
    "    annoted_classes = download_annotations(class_ids, dataset_dir)\n",
    "\n",
    "    # Download synset images for each class with annotations\n",
    "    for class_id in annoted_classes:\n",
    "        class_dir = data_dir / class_id\n",
    "        if class_dir.exists():\n",
    "            LOG.info(f'Directory {class_dir} already exists. Skipping download.')\n",
    "        else:\n",
    "            tarfilename = dataset_path / f'{class_id}.tar'\n",
    "            url = f'https://image-net.org/data/winter21_whole/{class_id}.tar'\n",
    "            download_file(url, tarfilename)\n",
    "            with tarfile.open(tarfilename) as tf:\n",
    "                tf.extractall(class_dir)\n",
    "            LOG.info(f'Extracted {class_dir}.')\n",
    "    "
   ]
  },
  {
   "cell_type": "code",
   "execution_count": 9,
   "id": "8ce556b7-e7a2-43cc-a90b-bf94cc1b2904",
   "metadata": {
    "colab": {
     "base_uri": "https://localhost:8080/"
    },
    "id": "8ce556b7-e7a2-43cc-a90b-bf94cc1b2904",
    "outputId": "8d46bc2f-9096-4e9d-c2f2-4bb6967902ab"
   },
   "outputs": [
    {
     "name": "stderr",
     "output_type": "stream",
     "text": [
      "INFO:root:File /home/jrenault/workspace/adomvi/adomvi/imagenet/bboxes_annotations.tar.gz already exists. Skipping download.\n",
      "INFO:root:There are not annotations for class n02740300.\n",
      "INFO:root:Annotations directory /home/jrenault/workspace/adomvi/adomvi/imagenet/labels/n04389033 already exists. Skipping extract.\n",
      "INFO:root:There are not annotations for class n02740533.\n",
      "INFO:root:There are not annotations for class n04464852.\n",
      "INFO:root:There are not annotations for class n03764276.\n",
      "INFO:root:Deleting annotations dir.\n"
     ]
    }
   ],
   "source": [
    "dataset_dir = \"imagenet\"\n",
    "classes = [\"n02740300\", \"n04389033\", \"n02740533\", \"n04464852\", \"n03764276\"]\n",
    "download_imagenet_detections(classes, dataset_dir)"
   ]
  },
  {
   "cell_type": "markdown",
   "id": "4a53bb08-acc9-4135-965d-fff947af49c1",
   "metadata": {
    "id": "4a53bb08-acc9-4135-965d-fff947af49c1"
   },
   "source": [
    "### Create a fiftyone dataset with the downloaded ImageNet data\n",
    "\n",
    "Now that we're downloaded images and annotations, we can create a fiftyone dataset to manage it. The first step is to remove labels which have no corresonding image, as this causes errors when importing the data into fiftyone."
   ]
  },
  {
   "cell_type": "code",
   "execution_count": 10,
   "id": "83a377ae-e1be-406a-b66a-a870338b61ed",
   "metadata": {
    "id": "83a377ae-e1be-406a-b66a-a870338b61ed"
   },
   "outputs": [],
   "source": [
    "def cleanup_labels_without_images(dataset_dir: str):\n",
    "    dataset_path = Path(NOTEBOOK_DIR) / dataset_dir\n",
    "    data_dir = dataset_path / \"data\"\n",
    "    labels_dir = dataset_path / \"labels\"\n",
    "    classes = [path.name for path in data_dir.iterdir() if path.is_dir()]\n",
    "    for class_id in classes:\n",
    "        images = {path.stem for path in (data_dir / class_id).iterdir() if not path.is_dir()}\n",
    "        labels = {path.stem for path in (labels_dir / class_id).iterdir() if not path.is_dir()}\n",
    "        LOG.info(f'Deleting {len(labels.difference(images))} labels without images')\n",
    "        for label_id in labels.difference(images):\n",
    "            filename = labels_dir / class_id / (label_id + '.xml')\n",
    "            filename.unlink()"
   ]
  },
  {
   "cell_type": "code",
   "execution_count": 11,
   "id": "01874e34-f2f7-48d4-bea7-fdce60c4332e",
   "metadata": {
    "colab": {
     "base_uri": "https://localhost:8080/"
    },
    "id": "01874e34-f2f7-48d4-bea7-fdce60c4332e",
    "outputId": "d7b9283a-5119-4dde-9ef6-c0df83579b0e"
   },
   "outputs": [
    {
     "name": "stderr",
     "output_type": "stream",
     "text": [
      "INFO:root:Deleting 0 labels without images\n"
     ]
    }
   ],
   "source": [
    "cleanup_labels_without_images(dataset_dir)"
   ]
  },
  {
   "cell_type": "markdown",
   "id": "b9105158",
   "metadata": {
    "id": "b9105158"
   },
   "source": [
    "We can now create a new dataset. Note that we set this dataset to be persistent, so you should use the `load_dataset('military-vehicles')` function to reload the dataset on ulterior runs of the notebook."
   ]
  },
  {
   "cell_type": "code",
   "execution_count": 14,
   "id": "5e318f62-02d8-4723-9024-a0db6b944da2",
   "metadata": {
    "colab": {
     "base_uri": "https://localhost:8080/"
    },
    "id": "5e318f62-02d8-4723-9024-a0db6b944da2",
    "outputId": "6f976904-795f-4b37-9cad-994fcfced222"
   },
   "outputs": [
    {
     "name": "stdout",
     "output_type": "stream",
     "text": []
    },
    {
     "name": "stdout",
     "output_type": "stream",
     "text": [
      " 100% |█████████████████| 378/378 [601.0ms elapsed, 0s remaining, 629.0 samples/s]      \n"
     ]
    },
    {
     "name": "stderr",
     "output_type": "stream",
     "text": [
      "INFO:eta.core.utils: 100% |█████████████████| 378/378 [601.0ms elapsed, 0s remaining, 629.0 samples/s]      \n"
     ]
    }
   ],
   "source": [
    "import fiftyone as fo\n",
    "\n",
    "# Create the dataset\n",
    "dataset = fo.Dataset.from_dir(\n",
    "    dataset_dir=dataset_dir,\n",
    "    dataset_type=fo.types.VOCDetectionDataset,\n",
    ")\n",
    "\n",
    "\n",
    "dataset.name = \"military-vehicles\"\n",
    "dataset.persistent = True\n",
    "\n",
    "view = dataset.map_labels(\n",
    "    \"ground_truth\",\n",
    "    {\"n04389033\":\"tank\"}\n",
    ")\n",
    "view.save()"
   ]
  },
  {
   "cell_type": "code",
   "execution_count": 18,
   "id": "2d5254b2-c9a6-46ac-be48-3d7e70909427",
   "metadata": {
    "colab": {
     "base_uri": "https://localhost:8080/",
     "height": 1000
    },
    "id": "2d5254b2-c9a6-46ac-be48-3d7e70909427",
    "outputId": "c2d25c29-78eb-4da3-bb35-fcd9419d8162"
   },
   "outputs": [
    {
     "name": "stdout",
     "output_type": "stream",
     "text": [
      "Session launched. Run `session.show()` to open the App in a cell output.\n"
     ]
    },
    {
     "name": "stderr",
     "output_type": "stream",
     "text": [
      "INFO:fiftyone.core.session.session:Session launched. Run `session.show()` to open the App in a cell output.\n"
     ]
    },
    {
     "data": {
      "application/javascript": [
       "window.open('http://localhost:5151/');"
      ],
      "text/plain": [
       "<IPython.core.display.Javascript object>"
      ]
     },
     "metadata": {},
     "output_type": "display_data"
    }
   ],
   "source": [
    "session = fo.launch_app(dataset, auto=False)\n",
    "session.open_tab()"
   ]
  },
  {
   "cell_type": "code",
   "execution_count": 19,
   "id": "f07a55bb-f2c0-4220-8c42-2d57e8bbf192",
   "metadata": {
    "id": "f07a55bb-f2c0-4220-8c42-2d57e8bbf192"
   },
   "outputs": [],
   "source": [
    "session.freeze()"
   ]
  },
  {
   "cell_type": "markdown",
   "id": "5d9d745b-9f41-4374-8710-895abe20ed68",
   "metadata": {
    "id": "5d9d745b-9f41-4374-8710-895abe20ed68"
   },
   "source": [
    "### Add OpenImage samples\n",
    "\n",
    "The ImageNet dataset only contained 378 annotated images of tanks, so we'll look into other available datasets to improve training of the model. We’ll load [Open Images](https://storage.googleapis.com/openimages/web/index.html) samples with `Tank` detection labels, passing in `only_matching=True` to only load the `Tank` labels. We then map these labels by changing `Tank` into `tank`."
   ]
  },
  {
   "cell_type": "code",
   "execution_count": 20,
   "id": "9017bf53-1677-48ed-a9c1-a4c9155e8e4d",
   "metadata": {
    "colab": {
     "base_uri": "https://localhost:8080/"
    },
    "id": "9017bf53-1677-48ed-a9c1-a4c9155e8e4d",
    "outputId": "2e1f6506-14ec-424f-8230-6ec10e075171"
   },
   "outputs": [
    {
     "name": "stdout",
     "output_type": "stream",
     "text": [
      "Downloading split 'train' to '/home/jrenault/fiftyone/open-images-v7/train' if necessary\n"
     ]
    },
    {
     "name": "stderr",
     "output_type": "stream",
     "text": [
      "INFO:fiftyone.zoo.datasets:Downloading split 'train' to '/home/jrenault/fiftyone/open-images-v7/train' if necessary\n"
     ]
    },
    {
     "name": "stdout",
     "output_type": "stream",
     "text": [
      "Necessary images already downloaded\n"
     ]
    },
    {
     "name": "stderr",
     "output_type": "stream",
     "text": [
      "INFO:fiftyone.utils.openimages:Necessary images already downloaded\n"
     ]
    },
    {
     "name": "stdout",
     "output_type": "stream",
     "text": [
      "Existing download of split 'train' is sufficient\n"
     ]
    },
    {
     "name": "stderr",
     "output_type": "stream",
     "text": [
      "INFO:fiftyone.zoo.datasets:Existing download of split 'train' is sufficient\n"
     ]
    },
    {
     "name": "stdout",
     "output_type": "stream",
     "text": [
      "Downloading split 'test' to '/home/jrenault/fiftyone/open-images-v7/test' if necessary\n"
     ]
    },
    {
     "name": "stderr",
     "output_type": "stream",
     "text": [
      "INFO:fiftyone.zoo.datasets:Downloading split 'test' to '/home/jrenault/fiftyone/open-images-v7/test' if necessary\n"
     ]
    },
    {
     "name": "stdout",
     "output_type": "stream",
     "text": [
      "Necessary images already downloaded\n"
     ]
    },
    {
     "name": "stderr",
     "output_type": "stream",
     "text": [
      "INFO:fiftyone.utils.openimages:Necessary images already downloaded\n"
     ]
    },
    {
     "name": "stdout",
     "output_type": "stream",
     "text": [
      "Existing download of split 'test' is sufficient\n"
     ]
    },
    {
     "name": "stderr",
     "output_type": "stream",
     "text": [
      "INFO:fiftyone.zoo.datasets:Existing download of split 'test' is sufficient\n"
     ]
    },
    {
     "name": "stdout",
     "output_type": "stream",
     "text": [
      "Downloading split 'validation' to '/home/jrenault/fiftyone/open-images-v7/validation' if necessary\n"
     ]
    },
    {
     "name": "stderr",
     "output_type": "stream",
     "text": [
      "INFO:fiftyone.zoo.datasets:Downloading split 'validation' to '/home/jrenault/fiftyone/open-images-v7/validation' if necessary\n"
     ]
    },
    {
     "name": "stdout",
     "output_type": "stream",
     "text": [
      "Necessary images already downloaded\n"
     ]
    },
    {
     "name": "stderr",
     "output_type": "stream",
     "text": [
      "INFO:fiftyone.utils.openimages:Necessary images already downloaded\n"
     ]
    },
    {
     "name": "stdout",
     "output_type": "stream",
     "text": [
      "Existing download of split 'validation' is sufficient\n"
     ]
    },
    {
     "name": "stderr",
     "output_type": "stream",
     "text": [
      "INFO:fiftyone.zoo.datasets:Existing download of split 'validation' is sufficient\n"
     ]
    },
    {
     "name": "stdout",
     "output_type": "stream",
     "text": [
      "Loading existing dataset 'open-images-v7'. To reload from disk, either delete the existing dataset or provide a custom `dataset_name` to use\n"
     ]
    },
    {
     "name": "stderr",
     "output_type": "stream",
     "text": [
      "INFO:fiftyone.zoo.datasets:Loading existing dataset 'open-images-v7'. To reload from disk, either delete the existing dataset or provide a custom `dataset_name` to use\n"
     ]
    },
    {
     "name": "stdout",
     "output_type": "stream",
     "text": [
      "Migrating dataset 'open-images-v7' to v0.24.0\n"
     ]
    },
    {
     "name": "stderr",
     "output_type": "stream",
     "text": [
      "INFO:fiftyone.migrations.runner:Migrating dataset 'open-images-v7' to v0.24.0\n"
     ]
    }
   ],
   "source": [
    "import fiftyone.zoo as foz\n",
    "\n",
    "oi_samples = foz.load_zoo_dataset(\n",
    "    \"open-images-v7\",\n",
    "    classes = [\"Tank\"],\n",
    "    only_matching=True,\n",
    "    label_types=\"detections\"\n",
    ").map_labels(\n",
    "    \"ground_truth\",\n",
    "    {\"Tank\":\"tank\"}\n",
    ")"
   ]
  },
  {
   "cell_type": "markdown",
   "id": "f6686fed-39a4-417b-b38e-2925293d0a21",
   "metadata": {
    "id": "f6686fed-39a4-417b-b38e-2925293d0a21"
   },
   "source": [
    "We can add these new samples into our training dataset with `merge_samples()`:"
   ]
  },
  {
   "cell_type": "code",
   "execution_count": 21,
   "id": "4190b5f9-37c0-49c5-80c9-13660ca6264d",
   "metadata": {
    "id": "4190b5f9-37c0-49c5-80c9-13660ca6264d"
   },
   "outputs": [],
   "source": [
    "dataset.merge_samples(oi_samples)"
   ]
  },
  {
   "cell_type": "code",
   "execution_count": 22,
   "id": "a3d74eb3-62e4-487a-819d-dc57473484c4",
   "metadata": {
    "colab": {
     "base_uri": "https://localhost:8080/",
     "height": 804
    },
    "id": "a3d74eb3-62e4-487a-819d-dc57473484c4",
    "outputId": "2d4632a1-eec4-454b-92ac-04448efe789e"
   },
   "outputs": [
    {
     "data": {
      "application/javascript": [
       "window.open('http://localhost:5151/');"
      ],
      "text/plain": [
       "<IPython.core.display.Javascript object>"
      ]
     },
     "metadata": {},
     "output_type": "display_data"
    }
   ],
   "source": [
    "session.open_tab()"
   ]
  },
  {
   "cell_type": "code",
   "execution_count": 23,
   "id": "30c884c1-b20b-433c-ae26-a8fab0232317",
   "metadata": {
    "id": "30c884c1-b20b-433c-ae26-a8fab0232317"
   },
   "outputs": [],
   "source": [
    "session.freeze()"
   ]
  },
  {
   "cell_type": "markdown",
   "id": "0xgspIpwntqf",
   "metadata": {
    "id": "0xgspIpwntqf"
   },
   "source": [
    "Our dataset now contains 1624 annotated images of tanks."
   ]
  },
  {
   "cell_type": "markdown",
   "id": "5dca0ed6-5e26-4de3-9910-2e491814ff7b",
   "metadata": {
    "id": "5dca0ed6-5e26-4de3-9910-2e491814ff7b"
   },
   "source": [
    "## Fine-tune a YOLOv8 detection model\n",
    "\n",
    "Now that our dataset is created, we'll export it into a format supported by YOLOv8 to train our model."
   ]
  },
  {
   "cell_type": "code",
   "execution_count": 24,
   "id": "2902ccd2-dcee-4325-b6fb-dbf7831dd6f9",
   "metadata": {
    "id": "2902ccd2-dcee-4325-b6fb-dbf7831dd6f9"
   },
   "outputs": [],
   "source": [
    "import fiftyone.utils.random as four\n",
    "\n",
    "# load dataset\n",
    "dataset = fo.load_dataset(\"military-vehicles\")\n",
    "\n",
    "## delete existing tags to start fresh\n",
    "dataset.untag_samples(dataset.distinct(\"tags\"))\n",
    "\n",
    "## split into train, test and val\n",
    "four.random_split(\n",
    "    dataset,\n",
    "    {\"train\": 0.8, \"val\": 0.1, \"test\": 0.1}\n",
    ")"
   ]
  },
  {
   "cell_type": "markdown",
   "id": "0ae4756a-e1ed-4c86-bf08-63cf9b20dd70",
   "metadata": {
    "id": "0ae4756a-e1ed-4c86-bf08-63cf9b20dd70"
   },
   "source": [
    "The `export_yolo_data` function will export our dataset into the given directory."
   ]
  },
  {
   "cell_type": "code",
   "execution_count": 25,
   "id": "d3554411-d495-4f4d-a31c-43d944d99e2e",
   "metadata": {
    "id": "d3554411-d495-4f4d-a31c-43d944d99e2e"
   },
   "outputs": [],
   "source": [
    "def export_yolo_data(\n",
    "    samples, \n",
    "    export_dir, \n",
    "    classes, \n",
    "    label_field = \"ground_truth\", \n",
    "    split = None\n",
    "    ):\n",
    "\n",
    "    if type(split) == list:\n",
    "        splits = split\n",
    "        for split in splits:\n",
    "            export_yolo_data(\n",
    "                samples, \n",
    "                export_dir, \n",
    "                classes, \n",
    "                label_field, \n",
    "                split\n",
    "            )   \n",
    "    else:\n",
    "        if split is None:\n",
    "            split_view = samples\n",
    "            split = \"val\"\n",
    "        else:\n",
    "            split_view = samples.match_tags(split)\n",
    "\n",
    "        split_view.export(\n",
    "            export_dir=export_dir,\n",
    "            dataset_type=fo.types.YOLOv5Dataset,\n",
    "            label_field=label_field,\n",
    "            classes=classes,\n",
    "            split=split\n",
    "        )"
   ]
  },
  {
   "cell_type": "code",
   "execution_count": 26,
   "id": "0d48283c-b553-4064-bfc2-08bfd6f4d158",
   "metadata": {
    "colab": {
     "base_uri": "https://localhost:8080/"
    },
    "id": "0d48283c-b553-4064-bfc2-08bfd6f4d158",
    "outputId": "faa99aa4-b35d-4847-954c-7e697fae98d4"
   },
   "outputs": [
    {
     "name": "stdout",
     "output_type": "stream",
     "text": [
      "Directory 'vehicles' already exists; export will be merged with existing files\n"
     ]
    },
    {
     "name": "stderr",
     "output_type": "stream",
     "text": [
      "WARNING:fiftyone.core.collections:Directory 'vehicles' already exists; export will be merged with existing files\n"
     ]
    },
    {
     "name": "stdout",
     "output_type": "stream",
     "text": []
    },
    {
     "name": "stdout",
     "output_type": "stream",
     "text": [
      " 100% |███████████████| 1299/1299 [2.6s elapsed, 0s remaining, 447.2 samples/s]      \n"
     ]
    },
    {
     "name": "stderr",
     "output_type": "stream",
     "text": [
      "INFO:eta.core.utils: 100% |███████████████| 1299/1299 [2.6s elapsed, 0s remaining, 447.2 samples/s]      \n"
     ]
    },
    {
     "name": "stdout",
     "output_type": "stream",
     "text": [
      "Directory 'vehicles' already exists; export will be merged with existing files\n"
     ]
    },
    {
     "name": "stderr",
     "output_type": "stream",
     "text": [
      "WARNING:fiftyone.core.collections:Directory 'vehicles' already exists; export will be merged with existing files\n"
     ]
    },
    {
     "name": "stdout",
     "output_type": "stream",
     "text": []
    },
    {
     "name": "stdout",
     "output_type": "stream",
     "text": [
      " 100% |█████████████████| 163/163 [308.9ms elapsed, 0s remaining, 527.7 samples/s]      \n"
     ]
    },
    {
     "name": "stderr",
     "output_type": "stream",
     "text": [
      "INFO:eta.core.utils: 100% |█████████████████| 163/163 [308.9ms elapsed, 0s remaining, 527.7 samples/s]      \n"
     ]
    },
    {
     "name": "stdout",
     "output_type": "stream",
     "text": [
      "Directory 'vehicles' already exists; export will be merged with existing files\n"
     ]
    },
    {
     "name": "stderr",
     "output_type": "stream",
     "text": [
      "WARNING:fiftyone.core.collections:Directory 'vehicles' already exists; export will be merged with existing files\n"
     ]
    },
    {
     "name": "stdout",
     "output_type": "stream",
     "text": []
    },
    {
     "name": "stdout",
     "output_type": "stream",
     "text": [
      " 100% |█████████████████| 162/162 [305.1ms elapsed, 0s remaining, 531.0 samples/s]      \n"
     ]
    },
    {
     "name": "stderr",
     "output_type": "stream",
     "text": [
      "INFO:eta.core.utils: 100% |█████████████████| 162/162 [305.1ms elapsed, 0s remaining, 531.0 samples/s]      \n"
     ]
    }
   ],
   "source": [
    "## export in YOLO format\n",
    "export_yolo_data(\n",
    "    dataset, \n",
    "    \"vehicles\", \n",
    "    [\"tank\"], \n",
    "    split = [\"train\", \"val\", \"test\"]\n",
    ")"
   ]
  },
  {
   "cell_type": "markdown",
   "id": "5b971b8f-a71b-4f42-98df-e2f4d3b0bcd5",
   "metadata": {
    "id": "5b971b8f-a71b-4f42-98df-e2f4d3b0bcd5"
   },
   "source": [
    "Now all that is left is to do the fine-tuning! We will use YOLO command line syntax, with mode=train. We will specify the initial weights as the starting point for training, the number of epochs, image size, and batch size.\n",
    "\n",
    "For this notebook, we use the `yolov8n.pt` (nano) model, which is the smallest, but larger models are available from ultralytics."
   ]
  },
  {
   "cell_type": "code",
   "execution_count": 28,
   "id": "15e1d8c7-8c52-4750-a289-e764fa8b80ee",
   "metadata": {
    "colab": {
     "base_uri": "https://localhost:8080/"
    },
    "id": "15e1d8c7-8c52-4750-a289-e764fa8b80ee",
    "outputId": "cd8e66b7-f780-4553-df5c-d543917e072c"
   },
   "outputs": [
    {
     "name": "stdout",
     "output_type": "stream",
     "text": [
      "Ultralytics YOLOv8.2.28 🚀 Python-3.10.14 torch-2.3.0+cu121 CUDA:0 (NVIDIA RTX A6000, 48677MiB)\n",
      "\u001b[34m\u001b[1mengine/trainer: \u001b[0mtask=detect, mode=train, model=yolov8n.pt, data=vehicles/dataset.yaml, epochs=60, time=None, patience=100, batch=16, imgsz=640, save=True, save_period=-1, cache=False, device=None, workers=8, project=None, name=train, exist_ok=False, pretrained=True, optimizer=auto, verbose=True, seed=0, deterministic=True, single_cls=False, rect=False, cos_lr=False, close_mosaic=10, resume=False, amp=True, fraction=1.0, profile=False, freeze=None, multi_scale=False, overlap_mask=True, mask_ratio=4, dropout=0.0, val=True, split=val, save_json=False, save_hybrid=False, conf=None, iou=0.7, max_det=300, half=False, dnn=False, plots=True, source=None, vid_stride=1, stream_buffer=False, visualize=False, augment=False, agnostic_nms=False, classes=None, retina_masks=False, embed=None, show=False, save_frames=False, save_txt=False, save_conf=False, save_crop=False, show_labels=True, show_conf=True, show_boxes=True, line_width=None, format=torchscript, keras=False, optimize=False, int8=False, dynamic=False, simplify=False, opset=None, workspace=4, nms=False, lr0=0.01, lrf=0.01, momentum=0.937, weight_decay=0.0005, warmup_epochs=3.0, warmup_momentum=0.8, warmup_bias_lr=0.1, box=7.5, cls=0.5, dfl=1.5, pose=12.0, kobj=1.0, label_smoothing=0.0, nbs=64, hsv_h=0.015, hsv_s=0.7, hsv_v=0.4, degrees=0.0, translate=0.1, scale=0.5, shear=0.0, perspective=0.0, flipud=0.0, fliplr=0.5, bgr=0.0, mosaic=1.0, mixup=0.0, copy_paste=0.0, auto_augment=randaugment, erasing=0.4, crop_fraction=1.0, cfg=None, tracker=botsort.yaml, save_dir=runs/detect/train\n",
      "Overriding model.yaml nc=80 with nc=1\n",
      "\n",
      "                   from  n    params  module                                       arguments                     \n",
      "  0                  -1  1       464  ultralytics.nn.modules.conv.Conv             [3, 16, 3, 2]                 \n",
      "  1                  -1  1      4672  ultralytics.nn.modules.conv.Conv             [16, 32, 3, 2]                \n",
      "  2                  -1  1      7360  ultralytics.nn.modules.block.C2f             [32, 32, 1, True]             \n",
      "  3                  -1  1     18560  ultralytics.nn.modules.conv.Conv             [32, 64, 3, 2]                \n",
      "  4                  -1  2     49664  ultralytics.nn.modules.block.C2f             [64, 64, 2, True]             \n",
      "  5                  -1  1     73984  ultralytics.nn.modules.conv.Conv             [64, 128, 3, 2]               \n",
      "  6                  -1  2    197632  ultralytics.nn.modules.block.C2f             [128, 128, 2, True]           \n",
      "  7                  -1  1    295424  ultralytics.nn.modules.conv.Conv             [128, 256, 3, 2]              \n",
      "  8                  -1  1    460288  ultralytics.nn.modules.block.C2f             [256, 256, 1, True]           \n",
      "  9                  -1  1    164608  ultralytics.nn.modules.block.SPPF            [256, 256, 5]                 \n",
      " 10                  -1  1         0  torch.nn.modules.upsampling.Upsample         [None, 2, 'nearest']          \n",
      " 11             [-1, 6]  1         0  ultralytics.nn.modules.conv.Concat           [1]                           \n",
      " 12                  -1  1    148224  ultralytics.nn.modules.block.C2f             [384, 128, 1]                 \n",
      " 13                  -1  1         0  torch.nn.modules.upsampling.Upsample         [None, 2, 'nearest']          \n",
      " 14             [-1, 4]  1         0  ultralytics.nn.modules.conv.Concat           [1]                           \n",
      " 15                  -1  1     37248  ultralytics.nn.modules.block.C2f             [192, 64, 1]                  \n",
      " 16                  -1  1     36992  ultralytics.nn.modules.conv.Conv             [64, 64, 3, 2]                \n",
      " 17            [-1, 12]  1         0  ultralytics.nn.modules.conv.Concat           [1]                           \n",
      " 18                  -1  1    123648  ultralytics.nn.modules.block.C2f             [192, 128, 1]                 \n",
      " 19                  -1  1    147712  ultralytics.nn.modules.conv.Conv             [128, 128, 3, 2]              \n",
      " 20             [-1, 9]  1         0  ultralytics.nn.modules.conv.Concat           [1]                           \n",
      " 21                  -1  1    493056  ultralytics.nn.modules.block.C2f             [384, 256, 1]                 \n",
      " 22        [15, 18, 21]  1    751507  ultralytics.nn.modules.head.Detect           [1, [64, 128, 256]]           \n",
      "Model summary: 225 layers, 3011043 parameters, 3011027 gradients, 8.2 GFLOPs\n",
      "\n",
      "Transferred 319/355 items from pretrained weights\n",
      "\u001b[34m\u001b[1mTensorBoard: \u001b[0mStart with 'tensorboard --logdir runs/detect/train', view at http://localhost:6006/\n",
      "Freezing layer 'model.22.dfl.conv.weight'\n",
      "\u001b[34m\u001b[1mAMP: \u001b[0mrunning Automatic Mixed Precision (AMP) checks with YOLOv8n...\n",
      "/home/jrenault/mambaforge/envs/adomvi/lib/python3.10/site-packages/torch/nn/modules/conv.py:456: UserWarning: Plan failed with a cudnnException: CUDNN_BACKEND_EXECUTION_PLAN_DESCRIPTOR: cudnnFinalize Descriptor Failed cudnn_status: CUDNN_STATUS_NOT_SUPPORTED (Triggered internally at ../aten/src/ATen/native/cudnn/Conv_v8.cpp:919.)\n",
      "  return F.conv2d(input, weight, bias, self.stride,\n",
      "\u001b[34m\u001b[1mAMP: \u001b[0mchecks passed ✅\n",
      "\u001b[34m\u001b[1mtrain: \u001b[0mScanning /home/jrenault/workspace/adomvi/adomvi/vehicles/labels/train.cac\u001b[0m\n",
      "\u001b[34m\u001b[1mval: \u001b[0mScanning /home/jrenault/workspace/adomvi/adomvi/vehicles/labels/val.cache..\u001b[0m\n",
      "Plotting labels to runs/detect/train/labels.jpg... \n",
      "\u001b[34m\u001b[1moptimizer:\u001b[0m 'optimizer=auto' found, ignoring 'lr0=0.01' and 'momentum=0.937' and determining best 'optimizer', 'lr0' and 'momentum' automatically... \n",
      "\u001b[34m\u001b[1moptimizer:\u001b[0m AdamW(lr=0.002, momentum=0.9) with parameter groups 57 weight(decay=0.0), 64 weight(decay=0.0005), 63 bias(decay=0.0)\n",
      "\u001b[34m\u001b[1mTensorBoard: \u001b[0mmodel graph visualization added ✅\n",
      "Image sizes 640 train, 640 val\n",
      "Using 8 dataloader workers\n",
      "Logging results to \u001b[1mruns/detect/train\u001b[0m\n",
      "Starting training for 60 epochs...\n",
      "\n",
      "      Epoch    GPU_mem   box_loss   cls_loss   dfl_loss  Instances       Size\n",
      "  0%|          | 0/98 [00:00<?, ?it/s]/home/jrenault/mambaforge/envs/adomvi/lib/python3.10/site-packages/torch/nn/modules/conv.py:456: UserWarning: Plan failed with a cudnnException: CUDNN_BACKEND_EXECUTION_PLAN_DESCRIPTOR: cudnnFinalize Descriptor Failed cudnn_status: CUDNN_STATUS_NOT_SUPPORTED (Triggered internally at ../aten/src/ATen/native/cudnn/Conv_v8.cpp:919.)\n",
      "  return F.conv2d(input, weight, bias, self.stride,\n",
      "       1/60      2.16G      1.057      1.766      1.429         15        640: 1\n",
      "                 Class     Images  Instances      Box(P          R      mAP50  m\n",
      "                   all        305        414      0.523      0.477      0.482       0.21\n",
      "\n",
      "      Epoch    GPU_mem   box_loss   cls_loss   dfl_loss  Instances       Size\n",
      "       2/60      2.13G      1.205      1.509      1.543         11        640: 1\n",
      "                 Class     Images  Instances      Box(P          R      mAP50  m\n",
      "                   all        305        414      0.498      0.457      0.432      0.187\n",
      "\n",
      "      Epoch    GPU_mem   box_loss   cls_loss   dfl_loss  Instances       Size\n",
      "       3/60      2.14G      1.289      1.462      1.593         14        640: 1\n",
      "                 Class     Images  Instances      Box(P          R      mAP50  m\n",
      "                   all        305        414      0.698      0.444       0.53      0.258\n",
      "\n",
      "      Epoch    GPU_mem   box_loss   cls_loss   dfl_loss  Instances       Size\n",
      "       4/60      2.13G       1.28      1.397      1.582         11        640: 1\n",
      "                 Class     Images  Instances      Box(P          R      mAP50  m\n",
      "                   all        305        414      0.768      0.659      0.738      0.406\n",
      "\n",
      "      Epoch    GPU_mem   box_loss   cls_loss   dfl_loss  Instances       Size\n",
      "       5/60      2.14G      1.234      1.347      1.546         11        640: 1\n",
      "                 Class     Images  Instances      Box(P          R      mAP50  m\n",
      "                   all        305        414      0.795      0.691      0.747      0.403\n",
      "\n",
      "      Epoch    GPU_mem   box_loss   cls_loss   dfl_loss  Instances       Size\n",
      "       6/60      2.13G      1.196      1.263      1.519         16        640: 1\n",
      "                 Class     Images  Instances      Box(P          R      mAP50  m\n",
      "                   all        305        414      0.745      0.681      0.726      0.406\n",
      "\n",
      "      Epoch    GPU_mem   box_loss   cls_loss   dfl_loss  Instances       Size\n",
      "       7/60      2.14G      1.195      1.252      1.528         16        640: 1\n",
      "                 Class     Images  Instances      Box(P          R      mAP50  m\n",
      "                   all        305        414       0.79       0.64      0.743      0.419\n",
      "\n",
      "      Epoch    GPU_mem   box_loss   cls_loss   dfl_loss  Instances       Size\n",
      "       8/60      2.13G      1.137      1.168      1.475         15        640: 1\n",
      "                 Class     Images  Instances      Box(P          R      mAP50  m\n",
      "                   all        305        414      0.795      0.766      0.794      0.471\n",
      "\n",
      "      Epoch    GPU_mem   box_loss   cls_loss   dfl_loss  Instances       Size\n",
      "       9/60      2.14G      1.146      1.179      1.483         15        640: 1\n",
      "                 Class     Images  Instances      Box(P          R      mAP50  m\n",
      "                   all        305        414      0.833      0.727      0.828      0.516\n",
      "\n",
      "      Epoch    GPU_mem   box_loss   cls_loss   dfl_loss  Instances       Size\n",
      "      10/60      2.13G      1.106      1.114      1.466         14        640: 1\n",
      "                 Class     Images  Instances      Box(P          R      mAP50  m\n",
      "                   all        305        414      0.844      0.756      0.811      0.523\n",
      "\n",
      "      Epoch    GPU_mem   box_loss   cls_loss   dfl_loss  Instances       Size\n",
      "      11/60      2.14G      1.088      1.099      1.454         14        640: 1\n",
      "                 Class     Images  Instances      Box(P          R      mAP50  m\n",
      "                   all        305        414      0.865      0.741      0.825      0.527\n",
      "\n",
      "      Epoch    GPU_mem   box_loss   cls_loss   dfl_loss  Instances       Size\n",
      "      12/60      2.13G      1.068      1.055      1.421         30        640: 1\n",
      "                 Class     Images  Instances      Box(P          R      mAP50  m\n",
      "                   all        305        414      0.804      0.722      0.802       0.49\n",
      "\n",
      "      Epoch    GPU_mem   box_loss   cls_loss   dfl_loss  Instances       Size\n",
      "      13/60      2.14G      1.064       1.05      1.427         12        640: 1\n",
      "                 Class     Images  Instances      Box(P          R      mAP50  m\n",
      "                   all        305        414      0.833      0.758      0.829      0.523\n",
      "\n",
      "      Epoch    GPU_mem   box_loss   cls_loss   dfl_loss  Instances       Size\n",
      "      14/60      2.13G      1.019      1.014      1.398         17        640: 1\n",
      "                 Class     Images  Instances      Box(P          R      mAP50  m\n",
      "                   all        305        414      0.857      0.807      0.879      0.577\n",
      "\n",
      "      Epoch    GPU_mem   box_loss   cls_loss   dfl_loss  Instances       Size\n",
      "      15/60      2.14G      1.007      1.011      1.394          8        640: 1\n",
      "                 Class     Images  Instances      Box(P          R      mAP50  m\n",
      "                   all        305        414      0.905      0.804      0.898      0.599\n",
      "\n",
      "      Epoch    GPU_mem   box_loss   cls_loss   dfl_loss  Instances       Size\n",
      "      16/60      2.13G     0.9968     0.9697      1.386         13        640: 1\n",
      "                 Class     Images  Instances      Box(P          R      mAP50  m\n",
      "                   all        305        414      0.862      0.783       0.86      0.574\n",
      "\n",
      "      Epoch    GPU_mem   box_loss   cls_loss   dfl_loss  Instances       Size\n",
      "      17/60      2.13G      1.002     0.9968      1.381         18        640: 1\n",
      "                 Class     Images  Instances      Box(P          R      mAP50  m\n",
      "                   all        305        414      0.874      0.804      0.871      0.607\n",
      "\n",
      "      Epoch    GPU_mem   box_loss   cls_loss   dfl_loss  Instances       Size\n",
      "      18/60      2.13G     0.9614     0.9388      1.362          9        640: 1\n",
      "                 Class     Images  Instances      Box(P          R      mAP50  m\n",
      "                   all        305        414      0.936       0.78      0.896       0.62\n",
      "\n",
      "      Epoch    GPU_mem   box_loss   cls_loss   dfl_loss  Instances       Size\n",
      "      19/60      2.14G     0.9453     0.9101      1.341         15        640: 1\n",
      "                 Class     Images  Instances      Box(P          R      mAP50  m\n",
      "                   all        305        414      0.885      0.833      0.904      0.632\n",
      "\n",
      "      Epoch    GPU_mem   box_loss   cls_loss   dfl_loss  Instances       Size\n",
      "      20/60      2.13G     0.9459     0.9081      1.343         16        640: 1\n",
      "                 Class     Images  Instances      Box(P          R      mAP50  m\n",
      "                   all        305        414      0.864      0.807      0.889      0.606\n",
      "\n",
      "      Epoch    GPU_mem   box_loss   cls_loss   dfl_loss  Instances       Size\n",
      "      21/60      2.14G       0.96     0.9173      1.353         14        640: 1\n",
      "                 Class     Images  Instances      Box(P          R      mAP50  m\n",
      "                   all        305        414      0.885       0.78       0.88      0.633\n",
      "\n",
      "      Epoch    GPU_mem   box_loss   cls_loss   dfl_loss  Instances       Size\n",
      "      22/60      2.13G     0.9189     0.8823      1.321         12        640: 1\n",
      "                 Class     Images  Instances      Box(P          R      mAP50  m\n",
      "                   all        305        414      0.892      0.836      0.909      0.643\n",
      "\n",
      "      Epoch    GPU_mem   box_loss   cls_loss   dfl_loss  Instances       Size\n",
      "      23/60      2.13G     0.9243     0.8836      1.325         16        640: 1\n",
      "                 Class     Images  Instances      Box(P          R      mAP50  m\n",
      "                   all        305        414      0.901      0.813        0.9      0.655\n",
      "\n",
      "      Epoch    GPU_mem   box_loss   cls_loss   dfl_loss  Instances       Size\n",
      "      24/60      2.13G     0.9172     0.8671      1.319         15        640: 1\n",
      "                 Class     Images  Instances      Box(P          R      mAP50  m\n",
      "                   all        305        414      0.889      0.836      0.905      0.654\n",
      "\n",
      "      Epoch    GPU_mem   box_loss   cls_loss   dfl_loss  Instances       Size\n",
      "      25/60      2.14G     0.9066     0.8495      1.307         16        640: 1\n",
      "                 Class     Images  Instances      Box(P          R      mAP50  m\n",
      "                   all        305        414      0.882      0.814      0.891      0.636\n",
      "\n",
      "      Epoch    GPU_mem   box_loss   cls_loss   dfl_loss  Instances       Size\n",
      "      26/60      2.13G     0.8961     0.8502      1.303         14        640: 1\n",
      "                 Class     Images  Instances      Box(P          R      mAP50  m\n",
      "                   all        305        414      0.881      0.826       0.91      0.678\n",
      "\n",
      "      Epoch    GPU_mem   box_loss   cls_loss   dfl_loss  Instances       Size\n",
      "      27/60      2.14G     0.8956     0.8284      1.302         11        640: 1\n",
      "                 Class     Images  Instances      Box(P          R      mAP50  m\n",
      "                   all        305        414      0.923       0.85      0.925      0.686\n",
      "\n",
      "      Epoch    GPU_mem   box_loss   cls_loss   dfl_loss  Instances       Size\n",
      "      28/60      2.13G     0.8721     0.8177       1.28         25        640: 1\n",
      "                 Class     Images  Instances      Box(P          R      mAP50  m\n",
      "                   all        305        414      0.914       0.86       0.93       0.71\n",
      "\n",
      "      Epoch    GPU_mem   box_loss   cls_loss   dfl_loss  Instances       Size\n",
      "      29/60      2.14G     0.8756     0.8247      1.287         13        640: 1\n",
      "                 Class     Images  Instances      Box(P          R      mAP50  m\n",
      "                   all        305        414      0.915      0.804      0.904       0.66\n",
      "\n",
      "      Epoch    GPU_mem   box_loss   cls_loss   dfl_loss  Instances       Size\n",
      "      30/60      2.13G     0.8718     0.7967      1.291         15        640: 1\n",
      "                 Class     Images  Instances      Box(P          R      mAP50  m\n",
      "                   all        305        414      0.938      0.831      0.923      0.684\n",
      "\n",
      "      Epoch    GPU_mem   box_loss   cls_loss   dfl_loss  Instances       Size\n",
      "      31/60      2.13G     0.8464     0.7721      1.269         18        640: 1\n",
      "                 Class     Images  Instances      Box(P          R      mAP50  m\n",
      "                   all        305        414      0.933       0.87      0.943      0.703\n",
      "\n",
      "      Epoch    GPU_mem   box_loss   cls_loss   dfl_loss  Instances       Size\n",
      "      32/60      2.13G      0.849     0.8014      1.269          8        640: 1\n",
      "                 Class     Images  Instances      Box(P          R      mAP50  m\n",
      "                   all        305        414      0.933      0.838      0.939      0.713\n",
      "\n",
      "      Epoch    GPU_mem   box_loss   cls_loss   dfl_loss  Instances       Size\n",
      "      33/60      2.13G     0.8254     0.7582      1.259         17        640: 1\n",
      "                 Class     Images  Instances      Box(P          R      mAP50  m\n",
      "                   all        305        414      0.943       0.85      0.939      0.704\n",
      "\n",
      "      Epoch    GPU_mem   box_loss   cls_loss   dfl_loss  Instances       Size\n",
      "      34/60      2.13G     0.8277     0.7505      1.259         15        640: 1\n",
      "                 Class     Images  Instances      Box(P          R      mAP50  m\n",
      "                   all        305        414        0.9      0.843      0.924      0.686\n",
      "\n",
      "      Epoch    GPU_mem   box_loss   cls_loss   dfl_loss  Instances       Size\n",
      "      35/60      2.14G     0.8272     0.7576      1.247         14        640: 1\n",
      "                 Class     Images  Instances      Box(P          R      mAP50  m\n",
      "                   all        305        414      0.947      0.853      0.945      0.738\n",
      "\n",
      "      Epoch    GPU_mem   box_loss   cls_loss   dfl_loss  Instances       Size\n",
      "      36/60      2.13G      0.834     0.7604      1.257         14        640: 1\n",
      "                 Class     Images  Instances      Box(P          R      mAP50  m\n",
      "                   all        305        414      0.927      0.867      0.948      0.726\n",
      "\n",
      "      Epoch    GPU_mem   box_loss   cls_loss   dfl_loss  Instances       Size\n",
      "      37/60      2.13G     0.8021     0.7361      1.242         20        640: 1\n",
      "                 Class     Images  Instances      Box(P          R      mAP50  m\n",
      "                   all        305        414      0.948      0.877      0.957      0.744\n",
      "\n",
      "      Epoch    GPU_mem   box_loss   cls_loss   dfl_loss  Instances       Size\n",
      "      38/60      2.13G     0.7831     0.7054       1.22         10        640: 1\n",
      "                 Class     Images  Instances      Box(P          R      mAP50  m\n",
      "                   all        305        414      0.953      0.873      0.958      0.764\n",
      "\n",
      "      Epoch    GPU_mem   box_loss   cls_loss   dfl_loss  Instances       Size\n",
      "      39/60      2.14G     0.7748     0.6873      1.215         18        640: 1\n",
      "                 Class     Images  Instances      Box(P          R      mAP50  m\n",
      "                   all        305        414      0.924      0.886      0.943      0.748\n",
      "\n",
      "      Epoch    GPU_mem   box_loss   cls_loss   dfl_loss  Instances       Size\n",
      "      40/60      2.13G     0.7725     0.7103      1.218         22        640: 1\n",
      "                 Class     Images  Instances      Box(P          R      mAP50  m\n",
      "                   all        305        414       0.91      0.896      0.945      0.745\n",
      "\n",
      "      Epoch    GPU_mem   box_loss   cls_loss   dfl_loss  Instances       Size\n",
      "      41/60      2.14G     0.7777     0.6935      1.221         10        640: 1\n",
      "                 Class     Images  Instances      Box(P          R      mAP50  m\n",
      "                   all        305        414      0.928      0.909      0.962      0.759\n",
      "\n",
      "      Epoch    GPU_mem   box_loss   cls_loss   dfl_loss  Instances       Size\n",
      "      42/60      2.13G     0.7617     0.6883      1.211         17        640: 1\n",
      "                 Class     Images  Instances      Box(P          R      mAP50  m\n",
      "                   all        305        414      0.943      0.908      0.958      0.766\n",
      "\n",
      "      Epoch    GPU_mem   box_loss   cls_loss   dfl_loss  Instances       Size\n",
      "      43/60      2.14G      0.751     0.6699      1.206         11        640: 1\n",
      "                 Class     Images  Instances      Box(P          R      mAP50  m\n",
      "                   all        305        414      0.947      0.912      0.965      0.793\n",
      "\n",
      "      Epoch    GPU_mem   box_loss   cls_loss   dfl_loss  Instances       Size\n",
      "      44/60      2.13G     0.7396     0.6569      1.188         12        640: 1\n",
      "                 Class     Images  Instances      Box(P          R      mAP50  m\n",
      "                   all        305        414      0.949       0.89       0.96       0.78\n",
      "\n",
      "      Epoch    GPU_mem   box_loss   cls_loss   dfl_loss  Instances       Size\n",
      "      45/60      2.14G     0.7352     0.6605      1.194         17        640: 1\n",
      "                 Class     Images  Instances      Box(P          R      mAP50  m\n",
      "                   all        305        414      0.946      0.895      0.958      0.774\n",
      "\n",
      "      Epoch    GPU_mem   box_loss   cls_loss   dfl_loss  Instances       Size\n",
      "      46/60      2.13G     0.7523     0.6547      1.202         12        640: 1\n",
      "                 Class     Images  Instances      Box(P          R      mAP50  m\n",
      "                   all        305        414      0.933      0.938      0.971      0.792\n",
      "\n",
      "      Epoch    GPU_mem   box_loss   cls_loss   dfl_loss  Instances       Size\n",
      "      47/60      2.14G      0.734     0.6439      1.188         19        640: 1\n",
      "                 Class     Images  Instances      Box(P          R      mAP50  m\n",
      "                   all        305        414       0.94      0.915      0.968      0.788\n",
      "\n",
      "      Epoch    GPU_mem   box_loss   cls_loss   dfl_loss  Instances       Size\n",
      "      48/60      2.13G     0.7067     0.6242      1.174         12        640: 1\n",
      "                 Class     Images  Instances      Box(P          R      mAP50  m\n",
      "                   all        305        414      0.965       0.94      0.976      0.798\n",
      "\n",
      "      Epoch    GPU_mem   box_loss   cls_loss   dfl_loss  Instances       Size\n",
      "      49/60      2.13G     0.7147      0.622      1.176         19        640: 1\n",
      "                 Class     Images  Instances      Box(P          R      mAP50  m\n",
      "                   all        305        414       0.95      0.925      0.973      0.807\n",
      "\n",
      "      Epoch    GPU_mem   box_loss   cls_loss   dfl_loss  Instances       Size\n",
      "      50/60      2.13G      0.707     0.6181      1.168          9        640: 1\n",
      "                 Class     Images  Instances      Box(P          R      mAP50  m\n",
      "                   all        305        414      0.941      0.932       0.97      0.799\n",
      "Closing dataloader mosaic\n",
      "\n",
      "      Epoch    GPU_mem   box_loss   cls_loss   dfl_loss  Instances       Size\n",
      "      51/60      2.13G     0.6487     0.5633      1.151          6        640: 1\n",
      "                 Class     Images  Instances      Box(P          R      mAP50  m\n",
      "                   all        305        414      0.932      0.908      0.969      0.802\n",
      "\n",
      "      Epoch    GPU_mem   box_loss   cls_loss   dfl_loss  Instances       Size\n",
      "      52/60      2.13G     0.6236     0.5104      1.127          4        640: 1\n",
      "                 Class     Images  Instances      Box(P          R      mAP50  m\n",
      "                   all        305        414      0.943       0.93      0.972      0.809\n",
      "\n",
      "      Epoch    GPU_mem   box_loss   cls_loss   dfl_loss  Instances       Size\n",
      "      53/60      2.13G     0.6141     0.4938       1.11          4        640: 1\n",
      "                 Class     Images  Instances      Box(P          R      mAP50  m\n",
      "                   all        305        414       0.95      0.925      0.973      0.818\n",
      "\n",
      "      Epoch    GPU_mem   box_loss   cls_loss   dfl_loss  Instances       Size\n",
      "      54/60      2.13G     0.5898     0.4822      1.102          4        640: 1\n",
      "                 Class     Images  Instances      Box(P          R      mAP50  m\n",
      "                   all        305        414      0.971      0.911      0.971      0.822\n",
      "\n",
      "      Epoch    GPU_mem   box_loss   cls_loss   dfl_loss  Instances       Size\n",
      "      55/60      2.14G     0.5861     0.4584      1.092         11        640: 1\n",
      "                 Class     Images  Instances      Box(P          R      mAP50  m\n",
      "                   all        305        414      0.932      0.956      0.977       0.83\n",
      "\n",
      "      Epoch    GPU_mem   box_loss   cls_loss   dfl_loss  Instances       Size\n",
      "      56/60      2.13G     0.5732     0.4595      1.085          4        640: 1\n",
      "                 Class     Images  Instances      Box(P          R      mAP50  m\n",
      "                   all        305        414      0.961      0.925      0.975      0.829\n",
      "\n",
      "      Epoch    GPU_mem   box_loss   cls_loss   dfl_loss  Instances       Size\n",
      "      57/60      2.13G     0.5662     0.4501      1.072          4        640: 1\n",
      "                 Class     Images  Instances      Box(P          R      mAP50  m\n",
      "                   all        305        414      0.938      0.957      0.976      0.833\n",
      "\n",
      "      Epoch    GPU_mem   box_loss   cls_loss   dfl_loss  Instances       Size\n",
      "      58/60      2.12G     0.5536     0.4364      1.071          5        640: 1\n",
      "                 Class     Images  Instances      Box(P          R      mAP50  m\n",
      "                   all        305        414      0.954      0.949      0.976      0.841\n",
      "\n",
      "      Epoch    GPU_mem   box_loss   cls_loss   dfl_loss  Instances       Size\n",
      "      59/60      2.14G      0.556     0.4289      1.076          7        640: 1\n",
      "                 Class     Images  Instances      Box(P          R      mAP50  m\n",
      "                   all        305        414      0.979      0.923      0.978      0.838\n",
      "\n",
      "      Epoch    GPU_mem   box_loss   cls_loss   dfl_loss  Instances       Size\n",
      "      60/60      2.13G     0.5386     0.4189      1.052          5        640: 1\n",
      "                 Class     Images  Instances      Box(P          R      mAP50  m\n",
      "                   all        305        414      0.979      0.925      0.976      0.844\n",
      "\n",
      "60 epochs completed in 0.139 hours.\n",
      "Optimizer stripped from runs/detect/train/weights/last.pt, 6.3MB\n",
      "Optimizer stripped from runs/detect/train/weights/best.pt, 6.3MB\n",
      "\n",
      "Validating runs/detect/train/weights/best.pt...\n",
      "Ultralytics YOLOv8.2.28 🚀 Python-3.10.14 torch-2.3.0+cu121 CUDA:0 (NVIDIA RTX A6000, 48677MiB)\n",
      "Model summary (fused): 168 layers, 3005843 parameters, 0 gradients, 8.1 GFLOPs\n",
      "/home/jrenault/mambaforge/envs/adomvi/lib/python3.10/site-packages/torch/nn/modules/conv.py:456: UserWarning: Plan failed with a cudnnException: CUDNN_BACKEND_EXECUTION_PLAN_DESCRIPTOR: cudnnFinalize Descriptor Failed cudnn_status: CUDNN_STATUS_NOT_SUPPORTED (Triggered internally at ../aten/src/ATen/native/cudnn/Conv_v8.cpp:919.)\n",
      "  return F.conv2d(input, weight, bias, self.stride,\n",
      "                 Class     Images  Instances      Box(P          R      mAP50  m\n",
      "                   all        305        414      0.979      0.925      0.976      0.845\n",
      "Speed: 0.1ms preprocess, 0.5ms inference, 0.0ms loss, 1.1ms postprocess per image\n",
      "Results saved to \u001b[1mruns/detect/train\u001b[0m\n",
      "💡 Learn more at https://docs.ultralytics.com/modes/train\n"
     ]
    }
   ],
   "source": [
    "!yolo task=detect mode=train model=yolov8n.pt data=vehicles/dataset.yaml epochs=60 imgsz=640 batch=16"
   ]
  },
  {
   "cell_type": "markdown",
   "id": "JxRmqb8abzZ-",
   "metadata": {
    "id": "JxRmqb8abzZ-"
   },
   "source": [
    "Create a zip file with train results and download it:"
   ]
  },
  {
   "cell_type": "code",
   "execution_count": null,
   "id": "EDY1VtLccf6U",
   "metadata": {
    "colab": {
     "base_uri": "https://localhost:8080/"
    },
    "id": "EDY1VtLccf6U",
    "outputId": "11970c1a-a3f9-4026-ce82-87ea773d6083"
   },
   "outputs": [
    {
     "name": "stdout",
     "output_type": "stream",
     "text": [
      "  adding: content/runs/detect/train/ (stored 0%)\n",
      "  adding: content/runs/detect/train/args.yaml (deflated 51%)\n",
      "  adding: content/runs/detect/train/results.png (deflated 7%)\n",
      "  adding: content/runs/detect/train/labels_correlogram.jpg (deflated 36%)\n",
      "  adding: content/runs/detect/train/train_batch0.jpg (deflated 5%)\n",
      "  adding: content/runs/detect/train/val_batch0_pred.jpg (deflated 10%)\n",
      "  adding: content/runs/detect/train/F1_curve.png (deflated 17%)\n",
      "  adding: content/runs/detect/train/confusion_matrix_normalized.png (deflated 38%)\n",
      "  adding: content/runs/detect/train/events.out.tfevents.1686316091.2a7eb5a7cbe9.9783.0 (deflated 72%)\n",
      "  adding: content/runs/detect/train/val_batch1_labels.jpg (deflated 6%)\n",
      "  adding: content/runs/detect/train/results.csv (deflated 85%)\n",
      "  adding: content/runs/detect/train/confusion_matrix.png (deflated 39%)\n",
      "  adding: content/runs/detect/train/PR_curve.png (deflated 22%)\n",
      "  adding: content/runs/detect/train/val_batch0_labels.jpg (deflated 11%)\n",
      "  adding: content/runs/detect/train/train_batch2.jpg (deflated 3%)\n",
      "  adding: content/runs/detect/train/P_curve.png (deflated 16%)\n",
      "  adding: content/runs/detect/train/val_batch1_pred.jpg (deflated 6%)\n",
      "  adding: content/runs/detect/train/train_batch1.jpg (deflated 5%)\n",
      "  adding: content/runs/detect/train/weights/ (stored 0%)\n",
      "  adding: content/runs/detect/train/weights/best.pt (deflated 9%)\n",
      "  adding: content/runs/detect/train/weights/last.pt (deflated 9%)\n",
      "  adding: content/runs/detect/train/val_batch2_labels.jpg (deflated 8%)\n",
      "  adding: content/runs/detect/train/val_batch2_pred.jpg (deflated 8%)\n",
      "  adding: content/runs/detect/train/labels.jpg (deflated 23%)\n",
      "  adding: content/runs/detect/train/R_curve.png (deflated 17%)\n"
     ]
    }
   ],
   "source": [
    "!zip -r yolov8_military.zip runs/detect/train/"
   ]
  },
  {
   "cell_type": "code",
   "execution_count": null,
   "id": "HEpL25P5b3y_",
   "metadata": {
    "colab": {
     "base_uri": "https://localhost:8080/",
     "height": 17
    },
    "id": "HEpL25P5b3y_",
    "outputId": "78f3ff77-fe41-402e-d913-888c884062ee"
   },
   "outputs": [
    {
     "data": {
      "application/javascript": [
       "\n",
       "    async function download(id, filename, size) {\n",
       "      if (!google.colab.kernel.accessAllowed) {\n",
       "        return;\n",
       "      }\n",
       "      const div = document.createElement('div');\n",
       "      const label = document.createElement('label');\n",
       "      label.textContent = `Downloading \"${filename}\": `;\n",
       "      div.appendChild(label);\n",
       "      const progress = document.createElement('progress');\n",
       "      progress.max = size;\n",
       "      div.appendChild(progress);\n",
       "      document.body.appendChild(div);\n",
       "\n",
       "      const buffers = [];\n",
       "      let downloaded = 0;\n",
       "\n",
       "      const channel = await google.colab.kernel.comms.open(id);\n",
       "      // Send a message to notify the kernel that we're ready.\n",
       "      channel.send({})\n",
       "\n",
       "      for await (const message of channel.messages) {\n",
       "        // Send a message to notify the kernel that we're ready.\n",
       "        channel.send({})\n",
       "        if (message.buffers) {\n",
       "          for (const buffer of message.buffers) {\n",
       "            buffers.push(buffer);\n",
       "            downloaded += buffer.byteLength;\n",
       "            progress.value = downloaded;\n",
       "          }\n",
       "        }\n",
       "      }\n",
       "      const blob = new Blob(buffers, {type: 'application/binary'});\n",
       "      const a = document.createElement('a');\n",
       "      a.href = window.URL.createObjectURL(blob);\n",
       "      a.download = filename;\n",
       "      div.appendChild(a);\n",
       "      a.click();\n",
       "      div.remove();\n",
       "    }\n",
       "  "
      ],
      "text/plain": [
       "<IPython.core.display.Javascript object>"
      ]
     },
     "metadata": {},
     "output_type": "display_data"
    },
    {
     "data": {
      "application/javascript": [
       "download(\"download_f86a6b64-3a9e-4ffa-9f3a-d0261a51812b\", \"yolov8_military.zip\", 17134386)"
      ],
      "text/plain": [
       "<IPython.core.display.Javascript object>"
      ]
     },
     "metadata": {},
     "output_type": "display_data"
    }
   ],
   "source": [
    "from google.colab import files\n",
    "files.download('/content/yolov8_military.zip') "
   ]
  },
  {
   "cell_type": "markdown",
   "id": "83a0cc22-e87e-4d91-a520-5726c1d42629",
   "metadata": {
    "id": "83a0cc22-e87e-4d91-a520-5726c1d42629"
   },
   "source": [
    "With fine-tuning complete, we can generate predictions on our test data with the “best” weights found during the training process, which are stored at `runs/detect/train/weights/best.pt`:"
   ]
  },
  {
   "cell_type": "code",
   "execution_count": 29,
   "id": "94c27699-6a6d-482b-b52d-870aa93462e8",
   "metadata": {
    "colab": {
     "base_uri": "https://localhost:8080/"
    },
    "id": "94c27699-6a6d-482b-b52d-870aa93462e8",
    "outputId": "8b287d73-84da-4756-dc23-b9275da84ec9"
   },
   "outputs": [
    {
     "name": "stdout",
     "output_type": "stream",
     "text": [
      "Ultralytics YOLOv8.2.28 🚀 Python-3.10.14 torch-2.3.0+cu121 CUDA:0 (NVIDIA RTX A6000, 48677MiB)\n",
      "Model summary (fused): 168 layers, 3005843 parameters, 0 gradients, 8.1 GFLOPs\n",
      "\n",
      "image 1/304 /home/jrenault/workspace/adomvi/adomvi/vehicles/images/test/0060fa461e2f119e.jpg: 448x640 3 tanks, 77.3ms\n",
      "image 2/304 /home/jrenault/workspace/adomvi/adomvi/vehicles/images/test/00e1d10e0c4eb95d.jpg: 448x640 1 tank, 4.5ms\n",
      "image 3/304 /home/jrenault/workspace/adomvi/adomvi/vehicles/images/test/01aa441c93747718.jpg: 448x640 1 tank, 4.3ms\n",
      "image 4/304 /home/jrenault/workspace/adomvi/adomvi/vehicles/images/test/01b12b880b0b23e0.jpg: 480x640 3 tanks, 76.0ms\n",
      "image 5/304 /home/jrenault/workspace/adomvi/adomvi/vehicles/images/test/01d517af269faac1.jpg: 416x640 1 tank, 77.3ms\n",
      "image 6/304 /home/jrenault/workspace/adomvi/adomvi/vehicles/images/test/01daecbf2075b822.jpg: 480x640 3 tanks, 4.6ms\n",
      "image 7/304 /home/jrenault/workspace/adomvi/adomvi/vehicles/images/test/021d9739adae9f9c.jpg: 480x640 1 tank, 4.1ms\n",
      "image 8/304 /home/jrenault/workspace/adomvi/adomvi/vehicles/images/test/030eab769f338ba7.jpg: 352x640 2 tanks, 75.3ms\n",
      "image 9/304 /home/jrenault/workspace/adomvi/adomvi/vehicles/images/test/031f4ced45f48697.jpg: 512x640 1 tank, 75.0ms\n",
      "image 10/304 /home/jrenault/workspace/adomvi/adomvi/vehicles/images/test/03aa6bc2d62cc59a.jpg: 448x640 1 tank, 5.2ms\n",
      "image 11/304 /home/jrenault/workspace/adomvi/adomvi/vehicles/images/test/03b00ca1310f3ca7.jpg: 512x640 1 tank, 4.5ms\n",
      "image 12/304 /home/jrenault/workspace/adomvi/adomvi/vehicles/images/test/04d77ecbf445c6bf.jpg: 448x640 1 tank, 4.3ms\n",
      "image 13/304 /home/jrenault/workspace/adomvi/adomvi/vehicles/images/test/050cb6c9a83467af.jpg: 448x640 1 tank, 3.8ms\n",
      "image 14/304 /home/jrenault/workspace/adomvi/adomvi/vehicles/images/test/058a1600af2c8512.jpg: 640x480 1 tank, 72.7ms\n",
      "image 15/304 /home/jrenault/workspace/adomvi/adomvi/vehicles/images/test/05990a535bf24f4a.jpg: 448x640 1 tank, 4.5ms\n",
      "image 16/304 /home/jrenault/workspace/adomvi/adomvi/vehicles/images/test/0630d98abbe260fe.jpg: 448x640 1 tank, 3.9ms\n",
      "image 17/304 /home/jrenault/workspace/adomvi/adomvi/vehicles/images/test/06792ed46d1efc53.jpg: 480x640 1 tank, 4.4ms\n",
      "image 18/304 /home/jrenault/workspace/adomvi/adomvi/vehicles/images/test/068379413fc554a8.jpg: 480x640 1 tank, 3.9ms\n",
      "image 19/304 /home/jrenault/workspace/adomvi/adomvi/vehicles/images/test/06a59e199abc5a32.jpg: 480x640 2 tanks, 3.9ms\n",
      "image 20/304 /home/jrenault/workspace/adomvi/adomvi/vehicles/images/test/0743cb95ebef2863.jpg: 448x640 1 tank, 4.5ms\n",
      "image 21/304 /home/jrenault/workspace/adomvi/adomvi/vehicles/images/test/07f7af4c8fec94da.jpg: 480x640 6 tanks, 4.4ms\n",
      "image 22/304 /home/jrenault/workspace/adomvi/adomvi/vehicles/images/test/07fd5398f5cc2b95.jpg: 448x640 2 tanks, 4.2ms\n",
      "image 23/304 /home/jrenault/workspace/adomvi/adomvi/vehicles/images/test/0818e7009a2d2e04.jpg: 448x640 1 tank, 3.8ms\n",
      "image 24/304 /home/jrenault/workspace/adomvi/adomvi/vehicles/images/test/08d7a87609ac5296.jpg: 480x640 5 tanks, 4.3ms\n",
      "image 25/304 /home/jrenault/workspace/adomvi/adomvi/vehicles/images/test/09019d33cfb576d0.jpg: 480x640 1 tank, 3.9ms\n",
      "image 26/304 /home/jrenault/workspace/adomvi/adomvi/vehicles/images/test/0ada1ed384e4d879.jpg: 448x640 2 tanks, 4.4ms\n",
      "image 27/304 /home/jrenault/workspace/adomvi/adomvi/vehicles/images/test/0af4d66572273aaf.jpg: 384x640 1 tank, 74.3ms\n",
      "image 28/304 /home/jrenault/workspace/adomvi/adomvi/vehicles/images/test/0c2fe60509715621.jpg: 448x640 1 tank, 4.4ms\n",
      "image 29/304 /home/jrenault/workspace/adomvi/adomvi/vehicles/images/test/0d62a4b35a6b75b5.jpg: 480x640 1 tank, 4.3ms\n",
      "image 30/304 /home/jrenault/workspace/adomvi/adomvi/vehicles/images/test/0da0bced0cd61629.jpg: 640x640 1 tank, 5.0ms\n",
      "image 31/304 /home/jrenault/workspace/adomvi/adomvi/vehicles/images/test/0e928ea9710dd3ce.jpg: 448x640 2 tanks, 4.5ms\n",
      "image 32/304 /home/jrenault/workspace/adomvi/adomvi/vehicles/images/test/0ed877b0063dafc0.jpg: 384x640 2 tanks, 4.3ms\n",
      "image 33/304 /home/jrenault/workspace/adomvi/adomvi/vehicles/images/test/0f2270dea4f924cd.jpg: 640x448 1 tank, 72.9ms\n",
      "image 34/304 /home/jrenault/workspace/adomvi/adomvi/vehicles/images/test/0f3df6a31b052882.jpg: 480x640 1 tank, 4.4ms\n",
      "image 35/304 /home/jrenault/workspace/adomvi/adomvi/vehicles/images/test/0f57e167cf669e6d.jpg: 480x640 1 tank, 4.1ms\n",
      "image 36/304 /home/jrenault/workspace/adomvi/adomvi/vehicles/images/test/0fb83aafa1681afc.jpg: 480x640 1 tank, 4.0ms\n",
      "image 37/304 /home/jrenault/workspace/adomvi/adomvi/vehicles/images/test/1022934d0289a7f1.jpg: 448x640 2 tanks, 4.3ms\n",
      "image 38/304 /home/jrenault/workspace/adomvi/adomvi/vehicles/images/test/11ea48dd9164441d.jpg: 448x640 1 tank, 3.9ms\n",
      "image 39/304 /home/jrenault/workspace/adomvi/adomvi/vehicles/images/test/11eb6f4c68969afb.jpg: 384x640 2 tanks, 4.3ms\n",
      "image 40/304 /home/jrenault/workspace/adomvi/adomvi/vehicles/images/test/12c618097b407cd0.jpg: 448x640 1 tank, 4.4ms\n",
      "image 41/304 /home/jrenault/workspace/adomvi/adomvi/vehicles/images/test/12d5e592e28de4c9.jpg: 512x640 1 tank, 4.2ms\n",
      "image 42/304 /home/jrenault/workspace/adomvi/adomvi/vehicles/images/test/132c8b46ab724f37.jpg: 480x640 1 tank, 4.2ms\n",
      "image 43/304 /home/jrenault/workspace/adomvi/adomvi/vehicles/images/test/138b9a1e1136357d.jpg: 480x640 1 tank, 3.8ms\n",
      "image 44/304 /home/jrenault/workspace/adomvi/adomvi/vehicles/images/test/144df31d224d67d8.jpg: 448x640 1 tank, 4.5ms\n",
      "image 45/304 /home/jrenault/workspace/adomvi/adomvi/vehicles/images/test/14595fa634447e78.jpg: 512x640 1 tank, 4.4ms\n",
      "image 46/304 /home/jrenault/workspace/adomvi/adomvi/vehicles/images/test/1676dbc71dd4f81a.jpg: 480x640 1 tank, 4.2ms\n",
      "image 47/304 /home/jrenault/workspace/adomvi/adomvi/vehicles/images/test/16d5804cd488ed8e.jpg: 448x640 2 tanks, 4.3ms\n",
      "image 48/304 /home/jrenault/workspace/adomvi/adomvi/vehicles/images/test/16e8b0610e405cac.jpg: 448x640 1 tank, 4.1ms\n",
      "image 49/304 /home/jrenault/workspace/adomvi/adomvi/vehicles/images/test/16f397b1b3fab669.jpg: 448x640 3 tanks, 4.0ms\n",
      "image 50/304 /home/jrenault/workspace/adomvi/adomvi/vehicles/images/test/1875f20a69fd922c.jpg: 448x640 1 tank, 4.0ms\n",
      "image 51/304 /home/jrenault/workspace/adomvi/adomvi/vehicles/images/test/19cb3ecafce505c2.jpg: 448x640 1 tank, 4.0ms\n",
      "image 52/304 /home/jrenault/workspace/adomvi/adomvi/vehicles/images/test/1ad4459e04737d6c.jpg: 480x640 1 tank, 4.2ms\n",
      "image 53/304 /home/jrenault/workspace/adomvi/adomvi/vehicles/images/test/1b03c41bcbf2a022.jpg: 640x480 1 tank, 4.2ms\n",
      "image 54/304 /home/jrenault/workspace/adomvi/adomvi/vehicles/images/test/1cabb38d1a126608.jpg: 480x640 1 tank, 4.4ms\n",
      "image 55/304 /home/jrenault/workspace/adomvi/adomvi/vehicles/images/test/1e2bcaae7a640edc.jpg: 480x640 1 tank, 3.9ms\n",
      "image 56/304 /home/jrenault/workspace/adomvi/adomvi/vehicles/images/test/22902f98b24b705c.jpg: 448x640 1 tank, 4.3ms\n",
      "image 57/304 /home/jrenault/workspace/adomvi/adomvi/vehicles/images/test/22ef4b1618e5ad4b.jpg: 448x640 1 tank, 4.0ms\n",
      "image 58/304 /home/jrenault/workspace/adomvi/adomvi/vehicles/images/test/24911097e4761cdc.jpg: 448x640 1 tank, 3.9ms\n",
      "image 59/304 /home/jrenault/workspace/adomvi/adomvi/vehicles/images/test/24ac44874456e1ac.jpg: 448x640 1 tank, 3.9ms\n",
      "image 60/304 /home/jrenault/workspace/adomvi/adomvi/vehicles/images/test/25ba036ca36bfaae.jpg: 384x640 2 tanks, 4.3ms\n",
      "image 61/304 /home/jrenault/workspace/adomvi/adomvi/vehicles/images/test/2630d9c5551627e3.jpg: 448x640 1 tank, 4.4ms\n",
      "image 62/304 /home/jrenault/workspace/adomvi/adomvi/vehicles/images/test/2725616f2a851f20.jpg: 480x640 1 tank, 4.3ms\n",
      "image 63/304 /home/jrenault/workspace/adomvi/adomvi/vehicles/images/test/27aff01e4c08171a.jpg: 480x640 1 tank, 3.9ms\n",
      "image 64/304 /home/jrenault/workspace/adomvi/adomvi/vehicles/images/test/27c8c0956e71b1bb.jpg: 448x640 1 tank, 4.3ms\n",
      "image 65/304 /home/jrenault/workspace/adomvi/adomvi/vehicles/images/test/27eb647a9dc45413.jpg: 480x640 1 tank, 4.2ms\n",
      "image 66/304 /home/jrenault/workspace/adomvi/adomvi/vehicles/images/test/282b603c8d93806b.jpg: 480x640 1 tank, 3.9ms\n",
      "image 67/304 /home/jrenault/workspace/adomvi/adomvi/vehicles/images/test/2a5e4e7b882b2f6a.jpg: 448x640 1 tank, 4.1ms\n",
      "image 68/304 /home/jrenault/workspace/adomvi/adomvi/vehicles/images/test/2be7836131f9325e.jpg: 448x640 1 tank, 4.1ms\n",
      "image 69/304 /home/jrenault/workspace/adomvi/adomvi/vehicles/images/test/2c0c4f4ae903fbdb.jpg: 448x640 1 tank, 3.9ms\n",
      "image 70/304 /home/jrenault/workspace/adomvi/adomvi/vehicles/images/test/2f3aade184962d64.jpg: 448x640 1 tank, 3.9ms\n",
      "image 71/304 /home/jrenault/workspace/adomvi/adomvi/vehicles/images/test/3041ef7ec37652b1.jpg: 448x640 1 tank, 3.9ms\n",
      "image 72/304 /home/jrenault/workspace/adomvi/adomvi/vehicles/images/test/3143458f8dd124e8.jpg: 448x640 1 tank, 3.9ms\n",
      "image 73/304 /home/jrenault/workspace/adomvi/adomvi/vehicles/images/test/319ece040b3987b4.jpg: 640x544 1 tank, 74.9ms\n",
      "image 74/304 /home/jrenault/workspace/adomvi/adomvi/vehicles/images/test/352f6788af36b5a7.jpg: 448x640 1 tank, 9.2ms\n",
      "image 75/304 /home/jrenault/workspace/adomvi/adomvi/vehicles/images/test/3627ae4bceb27c2b.jpg: 480x640 1 tank, 4.6ms\n",
      "image 76/304 /home/jrenault/workspace/adomvi/adomvi/vehicles/images/test/367cc33d411d68c7.jpg: 480x640 1 tank, 4.0ms\n",
      "image 77/304 /home/jrenault/workspace/adomvi/adomvi/vehicles/images/test/379f618da9d9bac3.jpg: 448x640 1 tank, 4.3ms\n",
      "image 78/304 /home/jrenault/workspace/adomvi/adomvi/vehicles/images/test/39e76e801ddbc12d.jpg: 480x640 1 tank, 4.2ms\n",
      "image 79/304 /home/jrenault/workspace/adomvi/adomvi/vehicles/images/test/3a66ef4929893c84.jpg: 480x640 1 tank, 3.9ms\n",
      "image 80/304 /home/jrenault/workspace/adomvi/adomvi/vehicles/images/test/40dd99ac285d586f.jpg: 480x640 1 tank, 4.1ms\n",
      "image 81/304 /home/jrenault/workspace/adomvi/adomvi/vehicles/images/test/42cfb4f23fc22be8.jpg: 480x640 2 tanks, 3.8ms\n",
      "image 82/304 /home/jrenault/workspace/adomvi/adomvi/vehicles/images/test/455a06159c57874b.jpg: 480x640 2 tanks, 3.9ms\n",
      "image 83/304 /home/jrenault/workspace/adomvi/adomvi/vehicles/images/test/46d0a576ba6ed593.jpg: 480x640 1 tank, 4.0ms\n",
      "image 84/304 /home/jrenault/workspace/adomvi/adomvi/vehicles/images/test/47024cb413fffafa.jpg: 448x640 3 tanks, 4.4ms\n",
      "image 85/304 /home/jrenault/workspace/adomvi/adomvi/vehicles/images/test/4759b4d6eb76b5fb.jpg: 480x640 1 tank, 4.2ms\n",
      "image 86/304 /home/jrenault/workspace/adomvi/adomvi/vehicles/images/test/48d413516e4502d4.jpg: 448x640 4 tanks, 4.3ms\n",
      "image 87/304 /home/jrenault/workspace/adomvi/adomvi/vehicles/images/test/4ab85918ed2bae6e.jpg: 448x640 2 tanks, 4.0ms\n",
      "image 88/304 /home/jrenault/workspace/adomvi/adomvi/vehicles/images/test/4c019fc564098de4.jpg: 480x640 1 tank, 4.4ms\n",
      "image 89/304 /home/jrenault/workspace/adomvi/adomvi/vehicles/images/test/4e363080cec3a122.jpg: 448x640 2 tanks, 4.3ms\n",
      "image 90/304 /home/jrenault/workspace/adomvi/adomvi/vehicles/images/test/4ec351561260ea95.jpg: 480x640 4 tanks, 4.4ms\n",
      "image 91/304 /home/jrenault/workspace/adomvi/adomvi/vehicles/images/test/4f26cf9e31491648.jpg: 448x640 1 tank, 4.3ms\n",
      "image 92/304 /home/jrenault/workspace/adomvi/adomvi/vehicles/images/test/4fe42df40579a9c4.jpg: 448x640 1 tank, 4.1ms\n",
      "image 93/304 /home/jrenault/workspace/adomvi/adomvi/vehicles/images/test/50e2c8c62470c6f5.jpg: 448x640 1 tank, 3.8ms\n",
      "image 94/304 /home/jrenault/workspace/adomvi/adomvi/vehicles/images/test/5227c39dc8c26c8b.jpg: 448x640 1 tank, 4.0ms\n",
      "image 95/304 /home/jrenault/workspace/adomvi/adomvi/vehicles/images/test/5351961e377f06db.jpg: 448x640 1 tank, 3.9ms\n",
      "image 96/304 /home/jrenault/workspace/adomvi/adomvi/vehicles/images/test/53d1cf01fe69fa6f.jpg: 448x640 1 tank, 3.9ms\n",
      "image 97/304 /home/jrenault/workspace/adomvi/adomvi/vehicles/images/test/544be3565674bebf.jpg: 416x640 1 tank, 4.2ms\n",
      "image 98/304 /home/jrenault/workspace/adomvi/adomvi/vehicles/images/test/54d04e138020d56b.jpg: 384x640 1 tank, 4.4ms\n",
      "image 99/304 /home/jrenault/workspace/adomvi/adomvi/vehicles/images/test/55138a9032e7c7d7.jpg: 480x640 1 tank, 4.2ms\n",
      "image 100/304 /home/jrenault/workspace/adomvi/adomvi/vehicles/images/test/567031e1d7be3a7c.jpg: 448x640 1 tank, 4.2ms\n",
      "image 101/304 /home/jrenault/workspace/adomvi/adomvi/vehicles/images/test/5677daedf1b7dbe7.jpg: 448x640 1 tank, 3.9ms\n",
      "image 102/304 /home/jrenault/workspace/adomvi/adomvi/vehicles/images/test/573734c966bdf3a4.jpg: 352x640 2 tanks, 4.4ms\n",
      "image 103/304 /home/jrenault/workspace/adomvi/adomvi/vehicles/images/test/57785cca579e28c4.jpg: 480x640 1 tank, 4.2ms\n",
      "image 104/304 /home/jrenault/workspace/adomvi/adomvi/vehicles/images/test/577a017702e4a2b0.jpg: 448x640 2 tanks, 4.2ms\n",
      "image 105/304 /home/jrenault/workspace/adomvi/adomvi/vehicles/images/test/57c76bc49f7738ae.jpg: 448x640 1 tank, 4.0ms\n",
      "image 106/304 /home/jrenault/workspace/adomvi/adomvi/vehicles/images/test/5b565ea96ff622c4.jpg: 480x640 1 tank, 4.4ms\n",
      "image 107/304 /home/jrenault/workspace/adomvi/adomvi/vehicles/images/test/5bc66d686ea1a64f.jpg: 480x640 1 tank, 3.9ms\n",
      "image 108/304 /home/jrenault/workspace/adomvi/adomvi/vehicles/images/test/5d279aaf1b840cf8.jpg: 448x640 3 tanks, 4.3ms\n",
      "image 109/304 /home/jrenault/workspace/adomvi/adomvi/vehicles/images/test/5dcabcd90a6b476b.jpg: 224x640 4 tanks, 74.1ms\n",
      "image 110/304 /home/jrenault/workspace/adomvi/adomvi/vehicles/images/test/5e9f6630668cc431.jpg: 480x640 14 tanks, 6.7ms\n",
      "image 111/304 /home/jrenault/workspace/adomvi/adomvi/vehicles/images/test/60b8ebd84d2b3a4c.jpg: 448x640 3 tanks, 4.3ms\n",
      "image 112/304 /home/jrenault/workspace/adomvi/adomvi/vehicles/images/test/61945903dab27d9e.jpg: 320x640 1 tank, 75.3ms\n",
      "image 113/304 /home/jrenault/workspace/adomvi/adomvi/vehicles/images/test/63c6768cc76b45f2.jpg: 384x640 2 tanks, 4.3ms\n",
      "image 114/304 /home/jrenault/workspace/adomvi/adomvi/vehicles/images/test/641a47c2881561c7.jpg: 480x640 1 tank, 4.4ms\n",
      "image 115/304 /home/jrenault/workspace/adomvi/adomvi/vehicles/images/test/642b8d481cdfbcab.jpg: 480x640 4 tanks, 4.0ms\n",
      "image 116/304 /home/jrenault/workspace/adomvi/adomvi/vehicles/images/test/685fb9aac7677298.jpg: 448x640 1 tank, 4.4ms\n",
      "image 117/304 /home/jrenault/workspace/adomvi/adomvi/vehicles/images/test/6cf94cec5127602a.jpg: 480x640 1 tank, 4.4ms\n",
      "image 118/304 /home/jrenault/workspace/adomvi/adomvi/vehicles/images/test/6dad8cae8b5176ad.jpg: 448x640 1 tank, 5.2ms\n",
      "image 119/304 /home/jrenault/workspace/adomvi/adomvi/vehicles/images/test/6ed8abe1a2909a59.jpg: 544x640 1 tank, 74.3ms\n",
      "image 120/304 /home/jrenault/workspace/adomvi/adomvi/vehicles/images/test/7012b13b53272e04.jpg: 416x640 2 tanks, 4.5ms\n",
      "image 121/304 /home/jrenault/workspace/adomvi/adomvi/vehicles/images/test/704a3743863f4fd0.jpg: 480x640 2 tanks, 4.3ms\n",
      "image 122/304 /home/jrenault/workspace/adomvi/adomvi/vehicles/images/test/71dfef5772d53673.jpg: 448x640 1 tank, 4.4ms\n",
      "image 123/304 /home/jrenault/workspace/adomvi/adomvi/vehicles/images/test/71eb26982a159340.jpg: 448x640 1 tank, 4.0ms\n",
      "image 124/304 /home/jrenault/workspace/adomvi/adomvi/vehicles/images/test/7267d6db98b2bd25.jpg: 544x640 1 tank, 4.2ms\n",
      "image 125/304 /home/jrenault/workspace/adomvi/adomvi/vehicles/images/test/727f77753997184a.jpg: 512x640 4 tanks, 4.3ms\n",
      "image 126/304 /home/jrenault/workspace/adomvi/adomvi/vehicles/images/test/730aab52013c2234.jpg: 480x640 3 tanks, 4.3ms\n",
      "image 127/304 /home/jrenault/workspace/adomvi/adomvi/vehicles/images/test/7a80d5b237afc429.jpg: 480x640 1 tank, 3.9ms\n",
      "image 128/304 /home/jrenault/workspace/adomvi/adomvi/vehicles/images/test/7af61c4287024344.jpg: 448x640 2 tanks, 4.2ms\n",
      "image 129/304 /home/jrenault/workspace/adomvi/adomvi/vehicles/images/test/7b69ec3b702b20c8.jpg: 448x640 1 tank, 4.0ms\n",
      "image 130/304 /home/jrenault/workspace/adomvi/adomvi/vehicles/images/test/7d6a359edf71e138.jpg: 480x640 3 tanks, 4.3ms\n",
      "image 131/304 /home/jrenault/workspace/adomvi/adomvi/vehicles/images/test/7dac64d44e05a703.jpg: 480x640 5 tanks, 4.1ms\n",
      "image 132/304 /home/jrenault/workspace/adomvi/adomvi/vehicles/images/test/7e0f5b3b3c8e2a1f.jpg: 480x640 1 tank, 4.0ms\n",
      "image 133/304 /home/jrenault/workspace/adomvi/adomvi/vehicles/images/test/7e25e056fb32ed02.jpg: 416x640 1 tank, 4.2ms\n",
      "image 134/304 /home/jrenault/workspace/adomvi/adomvi/vehicles/images/test/7e3be3949d08e2c0.jpg: 480x640 1 tank, 4.3ms\n",
      "image 135/304 /home/jrenault/workspace/adomvi/adomvi/vehicles/images/test/7f224131d6a25d69.jpg: 352x640 1 tank, 4.4ms\n",
      "image 136/304 /home/jrenault/workspace/adomvi/adomvi/vehicles/images/test/8012ec4e43ca276d.jpg: 448x640 1 tank, 4.2ms\n",
      "image 137/304 /home/jrenault/workspace/adomvi/adomvi/vehicles/images/test/82da91c3d25219cf.jpg: 640x640 4 tanks, 4.2ms\n",
      "image 138/304 /home/jrenault/workspace/adomvi/adomvi/vehicles/images/test/84ac4bdf03061cc5.jpg: 640x640 1 tank, 4.0ms\n",
      "image 139/304 /home/jrenault/workspace/adomvi/adomvi/vehicles/images/test/86242d11cb493bfb.jpg: 480x640 1 tank, 4.4ms\n",
      "image 140/304 /home/jrenault/workspace/adomvi/adomvi/vehicles/images/test/87661fa0ab5c507a.jpg: 384x640 1 tank, 4.2ms\n",
      "image 141/304 /home/jrenault/workspace/adomvi/adomvi/vehicles/images/test/88619e2979d3adf5.jpg: 640x448 1 tank, 4.2ms\n",
      "image 142/304 /home/jrenault/workspace/adomvi/adomvi/vehicles/images/test/8898b85188b0b529.jpg: 416x640 1 tank, 4.4ms\n",
      "image 143/304 /home/jrenault/workspace/adomvi/adomvi/vehicles/images/test/894c33852558c113.jpg: 448x640 1 tank, 4.1ms\n",
      "image 144/304 /home/jrenault/workspace/adomvi/adomvi/vehicles/images/test/8a9dc797707de1ca.jpg: 640x512 1 tank, 72.9ms\n",
      "image 145/304 /home/jrenault/workspace/adomvi/adomvi/vehicles/images/test/8c68f5c50da82b1b.jpg: 544x640 1 tank, 4.6ms\n",
      "image 146/304 /home/jrenault/workspace/adomvi/adomvi/vehicles/images/test/8db139f2a21d7450.jpg: 480x640 1 tank, 4.4ms\n",
      "image 147/304 /home/jrenault/workspace/adomvi/adomvi/vehicles/images/test/8df6f6fcc04b6a06.jpg: 512x640 1 tank, 4.3ms\n",
      "image 148/304 /home/jrenault/workspace/adomvi/adomvi/vehicles/images/test/8e134437ad5468ca.jpg: 384x640 3 tanks, 4.4ms\n",
      "image 149/304 /home/jrenault/workspace/adomvi/adomvi/vehicles/images/test/90424a253f09422d.jpg: 480x640 5 tanks, 4.3ms\n",
      "image 150/304 /home/jrenault/workspace/adomvi/adomvi/vehicles/images/test/93d1f18ff8497c48.jpg: 448x640 1 tank, 4.2ms\n",
      "image 151/304 /home/jrenault/workspace/adomvi/adomvi/vehicles/images/test/97192631bbb850ff.jpg: 448x640 2 tanks, 4.0ms\n",
      "image 152/304 /home/jrenault/workspace/adomvi/adomvi/vehicles/images/test/9846b206e5bda0fd.jpg: 480x640 1 tank, 4.3ms\n",
      "image 153/304 /home/jrenault/workspace/adomvi/adomvi/vehicles/images/test/9c450b6761bc93cc.jpg: 448x640 1 tank, 4.3ms\n",
      "image 154/304 /home/jrenault/workspace/adomvi/adomvi/vehicles/images/test/9d539c0b7b94e36c.jpg: 448x640 1 tank, 4.0ms\n",
      "image 155/304 /home/jrenault/workspace/adomvi/adomvi/vehicles/images/test/9d83c6317d7c1e23.jpg: 480x640 1 tank, 4.2ms\n",
      "image 156/304 /home/jrenault/workspace/adomvi/adomvi/vehicles/images/test/9d9089cadb1a2d2e.jpg: 480x640 1 tank, 3.9ms\n",
      "image 157/304 /home/jrenault/workspace/adomvi/adomvi/vehicles/images/test/a0057e403b7b1764.jpg: 352x640 3 tanks, 4.4ms\n",
      "image 158/304 /home/jrenault/workspace/adomvi/adomvi/vehicles/images/test/a3229dddff86a4ea.jpg: 640x640 1 tank, 4.5ms\n",
      "image 159/304 /home/jrenault/workspace/adomvi/adomvi/vehicles/images/test/a354e28199a2815a.jpg: 448x640 2 tanks, 4.2ms\n",
      "image 160/304 /home/jrenault/workspace/adomvi/adomvi/vehicles/images/test/a52cf1901e32b190.jpg: 480x640 1 tank, 4.3ms\n",
      "image 161/304 /home/jrenault/workspace/adomvi/adomvi/vehicles/images/test/a73db085216aef47.jpg: 448x640 1 tank, 4.3ms\n",
      "image 162/304 /home/jrenault/workspace/adomvi/adomvi/vehicles/images/test/ac15a022b6244819.jpg: 480x640 2 tanks, 4.2ms\n",
      "image 163/304 /home/jrenault/workspace/adomvi/adomvi/vehicles/images/test/b1bedc1cb1a54f26.jpg: 640x608 1 tank, 75.2ms\n",
      "image 164/304 /home/jrenault/workspace/adomvi/adomvi/vehicles/images/test/b319e27a758b9e93.jpg: 480x640 1 tank, 4.4ms\n",
      "image 165/304 /home/jrenault/workspace/adomvi/adomvi/vehicles/images/test/b4e1810f831ec78b.jpg: 448x640 2 tanks, 4.2ms\n",
      "image 166/304 /home/jrenault/workspace/adomvi/adomvi/vehicles/images/test/b54b7a8e2ec14ec8.jpg: 448x640 1 tank, 4.0ms\n",
      "image 167/304 /home/jrenault/workspace/adomvi/adomvi/vehicles/images/test/b657fe02a07018ae.jpg: 480x640 1 tank, 4.3ms\n",
      "image 168/304 /home/jrenault/workspace/adomvi/adomvi/vehicles/images/test/b737898d5b17770a.jpg: 448x640 1 tank, 4.4ms\n",
      "image 169/304 /home/jrenault/workspace/adomvi/adomvi/vehicles/images/test/b94f54ef50e25a67.jpg: 384x640 3 tanks, 4.4ms\n",
      "image 170/304 /home/jrenault/workspace/adomvi/adomvi/vehicles/images/test/ba72e37be9448f1e.jpg: 448x640 1 tank, 4.3ms\n",
      "image 171/304 /home/jrenault/workspace/adomvi/adomvi/vehicles/images/test/bb8190afcefebec5.jpg: 480x640 3 tanks, 4.2ms\n",
      "image 172/304 /home/jrenault/workspace/adomvi/adomvi/vehicles/images/test/bc91e1785e276ee7.jpg: 448x640 1 tank, 4.3ms\n",
      "image 173/304 /home/jrenault/workspace/adomvi/adomvi/vehicles/images/test/bef32088f113f678.jpg: 416x640 2 tanks, 4.2ms\n",
      "image 174/304 /home/jrenault/workspace/adomvi/adomvi/vehicles/images/test/bf50bcff6b8bab44.jpg: 480x640 1 tank, 4.1ms\n",
      "image 175/304 /home/jrenault/workspace/adomvi/adomvi/vehicles/images/test/c1291c3ec2076567.jpg: 480x640 1 tank, 4.0ms\n",
      "image 176/304 /home/jrenault/workspace/adomvi/adomvi/vehicles/images/test/c2aea27cc71ea831.jpg: 480x640 1 tank, 3.9ms\n",
      "image 177/304 /home/jrenault/workspace/adomvi/adomvi/vehicles/images/test/c4b5514fb89b481e.jpg: 352x640 1 tank, 4.2ms\n",
      "image 178/304 /home/jrenault/workspace/adomvi/adomvi/vehicles/images/test/c5c4c7a77bca9aca.jpg: 448x640 2 tanks, 4.2ms\n",
      "image 179/304 /home/jrenault/workspace/adomvi/adomvi/vehicles/images/test/c5d0d1d6790fc196.jpg: 448x640 3 tanks, 4.5ms\n",
      "image 180/304 /home/jrenault/workspace/adomvi/adomvi/vehicles/images/test/c8ff6afce1d3bac1.jpg: 640x448 1 tank, 5.0ms\n",
      "image 181/304 /home/jrenault/workspace/adomvi/adomvi/vehicles/images/test/c9ec966646e60da4.jpg: 416x640 1 tank, 4.6ms\n",
      "image 182/304 /home/jrenault/workspace/adomvi/adomvi/vehicles/images/test/c9f794c3f1bee5ad.jpg: 384x640 1 tank, 4.4ms\n",
      "image 183/304 /home/jrenault/workspace/adomvi/adomvi/vehicles/images/test/cc26bf58c1bb6ca4.jpg: 512x640 1 tank, 4.4ms\n",
      "image 184/304 /home/jrenault/workspace/adomvi/adomvi/vehicles/images/test/cd3b04e8cf9e93e1.jpg: 640x480 1 tank, 4.4ms\n",
      "image 185/304 /home/jrenault/workspace/adomvi/adomvi/vehicles/images/test/ce595bc657f52164.jpg: 448x640 2 tanks, 4.2ms\n",
      "image 186/304 /home/jrenault/workspace/adomvi/adomvi/vehicles/images/test/cf17cc43a178ae1f.jpg: 448x640 3 tanks, 4.0ms\n",
      "image 187/304 /home/jrenault/workspace/adomvi/adomvi/vehicles/images/test/d166424baa363a0d.jpg: 448x640 1 tank, 3.9ms\n",
      "image 188/304 /home/jrenault/workspace/adomvi/adomvi/vehicles/images/test/d21ac33fb41905d0.jpg: 448x640 3 tanks, 3.9ms\n",
      "image 189/304 /home/jrenault/workspace/adomvi/adomvi/vehicles/images/test/d2b892b8d1d790c8.jpg: 480x640 1 tank, 4.3ms\n",
      "image 190/304 /home/jrenault/workspace/adomvi/adomvi/vehicles/images/test/d339a4a95eb9b935.jpg: 480x640 3 tanks, 3.9ms\n",
      "image 191/304 /home/jrenault/workspace/adomvi/adomvi/vehicles/images/test/d381956f88d54755.jpg: 448x640 3 tanks, 4.2ms\n",
      "image 192/304 /home/jrenault/workspace/adomvi/adomvi/vehicles/images/test/d44dbc6251fa4beb.jpg: 480x640 3 tanks, 4.3ms\n",
      "image 193/304 /home/jrenault/workspace/adomvi/adomvi/vehicles/images/test/d472f388733f36c3.jpg: 448x640 1 tank, 4.1ms\n",
      "image 194/304 /home/jrenault/workspace/adomvi/adomvi/vehicles/images/test/d55ebc8279897a4f.jpg: 448x640 1 tank, 3.8ms\n",
      "image 195/304 /home/jrenault/workspace/adomvi/adomvi/vehicles/images/test/d69b9c8f2fc133c6.jpg: 512x640 2 tanks, 4.4ms\n",
      "image 196/304 /home/jrenault/workspace/adomvi/adomvi/vehicles/images/test/d6d5d277113c976c.jpg: 640x448 1 tank, 4.1ms\n",
      "image 197/304 /home/jrenault/workspace/adomvi/adomvi/vehicles/images/test/d76a1bd80ae41c55.jpg: 448x640 1 tank, 4.2ms\n",
      "image 198/304 /home/jrenault/workspace/adomvi/adomvi/vehicles/images/test/da5ea51b213c04bb.jpg: 416x640 1 tank, 4.2ms\n",
      "image 199/304 /home/jrenault/workspace/adomvi/adomvi/vehicles/images/test/db9cdf964a777bc2.jpg: 416x640 4 tanks, 3.9ms\n",
      "image 200/304 /home/jrenault/workspace/adomvi/adomvi/vehicles/images/test/dc751709d815e565.jpg: 448x640 2 tanks, 4.2ms\n",
      "image 201/304 /home/jrenault/workspace/adomvi/adomvi/vehicles/images/test/dd217ebd2e6c9a90.jpg: 448x640 2 tanks, 3.9ms\n",
      "image 202/304 /home/jrenault/workspace/adomvi/adomvi/vehicles/images/test/dddc86231692d5cc.jpg: 448x640 1 tank, 3.8ms\n",
      "image 203/304 /home/jrenault/workspace/adomvi/adomvi/vehicles/images/test/deb2aa08a1bcd6fe.jpg: 480x640 2 tanks, 4.2ms\n",
      "image 204/304 /home/jrenault/workspace/adomvi/adomvi/vehicles/images/test/deddbc8353ed9eb7.jpg: 384x640 1 tank, 4.2ms\n",
      "image 205/304 /home/jrenault/workspace/adomvi/adomvi/vehicles/images/test/dfaf50f379465871.jpg: 480x640 4 tanks, 4.2ms\n",
      "image 206/304 /home/jrenault/workspace/adomvi/adomvi/vehicles/images/test/e064a38aa12bc5ae.jpg: 448x640 1 tank, 4.2ms\n",
      "image 207/304 /home/jrenault/workspace/adomvi/adomvi/vehicles/images/test/e0a09b5b53d1e698.jpg: 480x640 4 tanks, 4.2ms\n",
      "image 208/304 /home/jrenault/workspace/adomvi/adomvi/vehicles/images/test/e313f88a7b826227.jpg: 448x640 2 tanks, 4.4ms\n",
      "image 209/304 /home/jrenault/workspace/adomvi/adomvi/vehicles/images/test/e33595ae296ceec7.jpg: 384x640 1 tank, 4.3ms\n",
      "image 210/304 /home/jrenault/workspace/adomvi/adomvi/vehicles/images/test/e54a7f5191243b70.jpg: 512x640 1 tank, 4.2ms\n",
      "image 211/304 /home/jrenault/workspace/adomvi/adomvi/vehicles/images/test/e54c74071ae75342.jpg: 512x640 1 tank, 4.0ms\n",
      "image 212/304 /home/jrenault/workspace/adomvi/adomvi/vehicles/images/test/e60e3e74f315261e.jpg: 416x640 1 tank, 4.3ms\n",
      "image 213/304 /home/jrenault/workspace/adomvi/adomvi/vehicles/images/test/e6178a3db5f9498e.jpg: 640x448 1 tank, 4.3ms\n",
      "image 214/304 /home/jrenault/workspace/adomvi/adomvi/vehicles/images/test/e70022b1aed95e7b.jpg: 448x640 1 tank, 4.3ms\n",
      "image 215/304 /home/jrenault/workspace/adomvi/adomvi/vehicles/images/test/e75123bcb5d12d26.jpg: 640x640 1 tank, 4.5ms\n",
      "image 216/304 /home/jrenault/workspace/adomvi/adomvi/vehicles/images/test/e761700f97552031.jpg: 416x640 2 tanks, 4.4ms\n",
      "image 217/304 /home/jrenault/workspace/adomvi/adomvi/vehicles/images/test/e8e4eaf722e2d5e7.jpg: 480x640 1 tank, 4.4ms\n",
      "image 218/304 /home/jrenault/workspace/adomvi/adomvi/vehicles/images/test/e94a6c568de09abc.jpg: 352x640 1 tank, 4.2ms\n",
      "image 219/304 /home/jrenault/workspace/adomvi/adomvi/vehicles/images/test/ea5fad1d00ba7cfc.jpg: 480x640 2 tanks, 4.1ms\n",
      "image 220/304 /home/jrenault/workspace/adomvi/adomvi/vehicles/images/test/eaa9d636094e7be6.jpg: 448x640 3 tanks, 4.4ms\n",
      "image 221/304 /home/jrenault/workspace/adomvi/adomvi/vehicles/images/test/eab0ffeba8fe3280.jpg: 448x640 1 tank, 3.9ms\n",
      "image 222/304 /home/jrenault/workspace/adomvi/adomvi/vehicles/images/test/ebbf1cb5266bf5f0.jpg: 480x640 2 tanks, 4.3ms\n",
      "image 223/304 /home/jrenault/workspace/adomvi/adomvi/vehicles/images/test/ebf36e85edfd6ba2.jpg: 480x640 2 tanks, 3.9ms\n",
      "image 224/304 /home/jrenault/workspace/adomvi/adomvi/vehicles/images/test/ed0320014f04131e.jpg: 448x640 1 tank, 4.3ms\n",
      "image 225/304 /home/jrenault/workspace/adomvi/adomvi/vehicles/images/test/eec09e6d9cc607f7.jpg: 448x640 1 tank, 3.8ms\n",
      "image 226/304 /home/jrenault/workspace/adomvi/adomvi/vehicles/images/test/efde03f4a9d8005f.jpg: 480x640 1 tank, 4.3ms\n",
      "image 227/304 /home/jrenault/workspace/adomvi/adomvi/vehicles/images/test/f18165e81f979ca2.jpg: 448x640 1 tank, 4.4ms\n",
      "image 228/304 /home/jrenault/workspace/adomvi/adomvi/vehicles/images/test/f218e0f59e80f44f.jpg: 448x640 1 tank, 3.8ms\n",
      "image 229/304 /home/jrenault/workspace/adomvi/adomvi/vehicles/images/test/f21a93d7f43e6ac8.jpg: 448x640 4 tanks, 3.8ms\n",
      "image 230/304 /home/jrenault/workspace/adomvi/adomvi/vehicles/images/test/f233682862b8454a.jpg: 448x640 1 tank, 4.1ms\n",
      "image 231/304 /home/jrenault/workspace/adomvi/adomvi/vehicles/images/test/f5be8e5d60d00e1a.jpg: 448x640 2 tanks, 4.0ms\n",
      "image 232/304 /home/jrenault/workspace/adomvi/adomvi/vehicles/images/test/f7d64418696de09c.jpg: 448x640 1 tank, 3.8ms\n",
      "image 233/304 /home/jrenault/workspace/adomvi/adomvi/vehicles/images/test/fb928a465c032c18.jpg: 448x640 1 tank, 3.9ms\n",
      "image 234/304 /home/jrenault/workspace/adomvi/adomvi/vehicles/images/test/fcb7ffe19a7d84b7.jpg: 480x640 3 tanks, 4.4ms\n",
      "image 235/304 /home/jrenault/workspace/adomvi/adomvi/vehicles/images/test/ff23ae326f497f5a.jpg: 480x640 6 tanks, 3.9ms\n",
      "image 236/304 /home/jrenault/workspace/adomvi/adomvi/vehicles/images/test/fff8e1bb99a81f46.jpg: 640x448 4 tanks, 4.2ms\n",
      "image 237/304 /home/jrenault/workspace/adomvi/adomvi/vehicles/images/test/n04389033_10299.JPEG: 416x640 1 tank, 4.3ms\n",
      "image 238/304 /home/jrenault/workspace/adomvi/adomvi/vehicles/images/test/n04389033_10744.JPEG: 448x640 1 tank, 4.2ms\n",
      "image 239/304 /home/jrenault/workspace/adomvi/adomvi/vehicles/images/test/n04389033_11094.JPEG: 448x640 1 tank, 3.9ms\n",
      "image 240/304 /home/jrenault/workspace/adomvi/adomvi/vehicles/images/test/n04389033_11108.JPEG: 512x640 1 tank, 4.2ms\n",
      "image 241/304 /home/jrenault/workspace/adomvi/adomvi/vehicles/images/test/n04389033_11395.JPEG: 480x640 1 tank, 4.1ms\n",
      "image 242/304 /home/jrenault/workspace/adomvi/adomvi/vehicles/images/test/n04389033_1158.JPEG: 480x640 1 tank, 3.9ms\n",
      "image 243/304 /home/jrenault/workspace/adomvi/adomvi/vehicles/images/test/n04389033_1204.JPEG: 480x640 1 tank, 3.7ms\n",
      "image 244/304 /home/jrenault/workspace/adomvi/adomvi/vehicles/images/test/n04389033_12149.JPEG: 480x640 1 tank, 3.8ms\n",
      "image 245/304 /home/jrenault/workspace/adomvi/adomvi/vehicles/images/test/n04389033_12402.JPEG: 448x640 1 tank, 4.1ms\n",
      "image 246/304 /home/jrenault/workspace/adomvi/adomvi/vehicles/images/test/n04389033_12457.JPEG: 448x640 1 tank, 3.6ms\n",
      "image 247/304 /home/jrenault/workspace/adomvi/adomvi/vehicles/images/test/n04389033_1298.JPEG: 480x640 1 tank, 4.0ms\n",
      "image 248/304 /home/jrenault/workspace/adomvi/adomvi/vehicles/images/test/n04389033_13101.JPEG: 480x640 2 tanks, 3.9ms\n",
      "image 249/304 /home/jrenault/workspace/adomvi/adomvi/vehicles/images/test/n04389033_138.JPEG: 448x640 1 tank, 4.0ms\n",
      "image 250/304 /home/jrenault/workspace/adomvi/adomvi/vehicles/images/test/n04389033_14117.JPEG: 480x640 1 tank, 4.0ms\n",
      "image 251/304 /home/jrenault/workspace/adomvi/adomvi/vehicles/images/test/n04389033_14644.JPEG: 480x640 1 tank, 3.7ms\n",
      "image 252/304 /home/jrenault/workspace/adomvi/adomvi/vehicles/images/test/n04389033_14782.JPEG: 448x640 1 tank, 4.0ms\n",
      "image 253/304 /home/jrenault/workspace/adomvi/adomvi/vehicles/images/test/n04389033_1581.JPEG: 512x640 1 tank, 4.2ms\n",
      "image 254/304 /home/jrenault/workspace/adomvi/adomvi/vehicles/images/test/n04389033_16581.JPEG: 320x640 1 tank, 4.2ms\n",
      "image 255/304 /home/jrenault/workspace/adomvi/adomvi/vehicles/images/test/n04389033_17763.JPEG: 512x640 1 tank, 4.2ms\n",
      "image 256/304 /home/jrenault/workspace/adomvi/adomvi/vehicles/images/test/n04389033_19293.JPEG: 480x640 1 tank, 4.1ms\n",
      "image 257/304 /home/jrenault/workspace/adomvi/adomvi/vehicles/images/test/n04389033_19310.JPEG: 320x640 1 tank, 4.0ms\n",
      "image 258/304 /home/jrenault/workspace/adomvi/adomvi/vehicles/images/test/n04389033_19450.JPEG: 480x640 1 tank, 4.0ms\n",
      "image 259/304 /home/jrenault/workspace/adomvi/adomvi/vehicles/images/test/n04389033_19530.JPEG: 416x640 2 tanks, 4.2ms\n",
      "image 260/304 /home/jrenault/workspace/adomvi/adomvi/vehicles/images/test/n04389033_19879.JPEG: 480x640 1 tank, 4.0ms\n",
      "image 261/304 /home/jrenault/workspace/adomvi/adomvi/vehicles/images/test/n04389033_2015.JPEG: 512x640 1 tank, 4.1ms\n",
      "image 262/304 /home/jrenault/workspace/adomvi/adomvi/vehicles/images/test/n04389033_20198.JPEG: 480x640 1 tank, 4.1ms\n",
      "image 263/304 /home/jrenault/workspace/adomvi/adomvi/vehicles/images/test/n04389033_20223.JPEG: 448x640 1 tank, 4.2ms\n",
      "image 264/304 /home/jrenault/workspace/adomvi/adomvi/vehicles/images/test/n04389033_20332.JPEG: 480x640 2 tanks, 4.1ms\n",
      "image 265/304 /home/jrenault/workspace/adomvi/adomvi/vehicles/images/test/n04389033_20354.JPEG: 480x640 2 tanks, 3.8ms\n",
      "image 266/304 /home/jrenault/workspace/adomvi/adomvi/vehicles/images/test/n04389033_20628.JPEG: 544x640 1 tank, 4.1ms\n",
      "image 267/304 /home/jrenault/workspace/adomvi/adomvi/vehicles/images/test/n04389033_20978.JPEG: 640x640 1 tank, 4.0ms\n",
      "image 268/304 /home/jrenault/workspace/adomvi/adomvi/vehicles/images/test/n04389033_22518.JPEG: 512x640 1 tank, 4.1ms\n",
      "image 269/304 /home/jrenault/workspace/adomvi/adomvi/vehicles/images/test/n04389033_23332.JPEG: 448x640 1 tank, 4.1ms\n",
      "image 270/304 /home/jrenault/workspace/adomvi/adomvi/vehicles/images/test/n04389033_2433.JPEG: 512x640 1 tank, 4.1ms\n",
      "image 271/304 /home/jrenault/workspace/adomvi/adomvi/vehicles/images/test/n04389033_24701.JPEG: 448x640 1 tank, 4.0ms\n",
      "image 272/304 /home/jrenault/workspace/adomvi/adomvi/vehicles/images/test/n04389033_25292.JPEG: 480x640 1 tank, 4.0ms\n",
      "image 273/304 /home/jrenault/workspace/adomvi/adomvi/vehicles/images/test/n04389033_2544.JPEG: 480x640 1 tank, 3.8ms\n",
      "image 274/304 /home/jrenault/workspace/adomvi/adomvi/vehicles/images/test/n04389033_2557.JPEG: 480x640 2 tanks, 3.8ms\n",
      "image 275/304 /home/jrenault/workspace/adomvi/adomvi/vehicles/images/test/n04389033_27028.JPEG: 480x640 1 tank, 3.7ms\n",
      "image 276/304 /home/jrenault/workspace/adomvi/adomvi/vehicles/images/test/n04389033_27593.JPEG: 448x640 1 tank, 4.2ms\n",
      "image 277/304 /home/jrenault/workspace/adomvi/adomvi/vehicles/images/test/n04389033_27796.JPEG: 480x640 1 tank, 4.0ms\n",
      "image 278/304 /home/jrenault/workspace/adomvi/adomvi/vehicles/images/test/n04389033_28242.JPEG: 480x640 1 tank, 3.9ms\n",
      "image 279/304 /home/jrenault/workspace/adomvi/adomvi/vehicles/images/test/n04389033_2941.JPEG: 448x640 1 tank, 4.1ms\n",
      "image 280/304 /home/jrenault/workspace/adomvi/adomvi/vehicles/images/test/n04389033_29484.JPEG: 480x640 1 tank, 4.0ms\n",
      "image 281/304 /home/jrenault/workspace/adomvi/adomvi/vehicles/images/test/n04389033_29960.JPEG: 448x640 1 tank, 4.2ms\n",
      "image 282/304 /home/jrenault/workspace/adomvi/adomvi/vehicles/images/test/n04389033_30588.JPEG: 480x640 2 tanks, 4.2ms\n",
      "image 283/304 /home/jrenault/workspace/adomvi/adomvi/vehicles/images/test/n04389033_30632.JPEG: 448x640 1 tank, 4.1ms\n",
      "image 284/304 /home/jrenault/workspace/adomvi/adomvi/vehicles/images/test/n04389033_30648.JPEG: 544x640 1 tank, 4.2ms\n",
      "image 285/304 /home/jrenault/workspace/adomvi/adomvi/vehicles/images/test/n04389033_32879.JPEG: 544x640 1 tank, 3.9ms\n",
      "image 286/304 /home/jrenault/workspace/adomvi/adomvi/vehicles/images/test/n04389033_33580.JPEG: 448x640 1 tank, 4.2ms\n",
      "image 287/304 /home/jrenault/workspace/adomvi/adomvi/vehicles/images/test/n04389033_351.JPEG: 384x640 2 tanks, 4.1ms\n",
      "image 288/304 /home/jrenault/workspace/adomvi/adomvi/vehicles/images/test/n04389033_3804.JPEG: 448x640 1 tank, 4.0ms\n",
      "image 289/304 /home/jrenault/workspace/adomvi/adomvi/vehicles/images/test/n04389033_4366.JPEG: 480x640 1 tank, 4.0ms\n",
      "image 290/304 /home/jrenault/workspace/adomvi/adomvi/vehicles/images/test/n04389033_4461.JPEG: 480x640 2 tanks, 3.8ms\n",
      "image 291/304 /home/jrenault/workspace/adomvi/adomvi/vehicles/images/test/n04389033_4723.JPEG: 480x640 1 tank, 3.9ms\n",
      "image 292/304 /home/jrenault/workspace/adomvi/adomvi/vehicles/images/test/n04389033_5457.JPEG: 448x640 1 tank, 4.1ms\n",
      "image 293/304 /home/jrenault/workspace/adomvi/adomvi/vehicles/images/test/n04389033_6104.JPEG: 480x640 1 tank, 4.0ms\n",
      "image 294/304 /home/jrenault/workspace/adomvi/adomvi/vehicles/images/test/n04389033_6790.JPEG: 480x640 1 tank, 3.7ms\n",
      "image 295/304 /home/jrenault/workspace/adomvi/adomvi/vehicles/images/test/n04389033_7506.JPEG: 640x512 1 tank, 4.1ms\n",
      "image 296/304 /home/jrenault/workspace/adomvi/adomvi/vehicles/images/test/n04389033_7512.JPEG: 448x640 1 tank, 4.1ms\n",
      "image 297/304 /home/jrenault/workspace/adomvi/adomvi/vehicles/images/test/n04389033_7761.JPEG: 448x640 1 tank, 3.8ms\n",
      "image 298/304 /home/jrenault/workspace/adomvi/adomvi/vehicles/images/test/n04389033_8159.JPEG: 448x640 1 tank, 3.6ms\n",
      "image 299/304 /home/jrenault/workspace/adomvi/adomvi/vehicles/images/test/n04389033_8657.JPEG: 480x640 1 tank, 4.1ms\n",
      "image 300/304 /home/jrenault/workspace/adomvi/adomvi/vehicles/images/test/n04389033_9144.JPEG: 480x640 1 tank, 3.7ms\n",
      "image 301/304 /home/jrenault/workspace/adomvi/adomvi/vehicles/images/test/n04389033_9412.JPEG: 480x640 1 tank, 3.7ms\n",
      "image 302/304 /home/jrenault/workspace/adomvi/adomvi/vehicles/images/test/n04389033_9428.JPEG: 544x640 2 tanks, 4.1ms\n",
      "image 303/304 /home/jrenault/workspace/adomvi/adomvi/vehicles/images/test/n04389033_960.JPEG: 416x640 2 tanks, 4.7ms\n",
      "image 304/304 /home/jrenault/workspace/adomvi/adomvi/vehicles/images/test/n04389033_9763.JPEG: 576x640 1 tank, 75.1ms\n",
      "Speed: 1.3ms preprocess, 7.7ms inference, 2.2ms postprocess per image at shape (1, 3, 576, 640)\n",
      "Results saved to \u001b[1mruns/detect/predict\u001b[0m\n",
      "304 labels saved to runs/detect/predict/labels\n",
      "💡 Learn more at https://docs.ultralytics.com/modes/predict\n"
     ]
    }
   ],
   "source": [
    "!yolo task=detect mode=predict model=runs/detect/train/weights/best.pt source=vehicles/images/test save_txt=True save_conf=True"
   ]
  },
  {
   "cell_type": "code",
   "execution_count": 30,
   "id": "M90XaKzvdEWT",
   "metadata": {
    "id": "M90XaKzvdEWT"
   },
   "outputs": [],
   "source": [
    "# The test split of the dataset\n",
    "test_view = dataset.match_tags(\"test\")"
   ]
  },
  {
   "cell_type": "markdown",
   "id": "Lscd1onDepQK",
   "metadata": {
    "id": "Lscd1onDepQK"
   },
   "source": [
    "### Load model detections"
   ]
  },
  {
   "cell_type": "markdown",
   "id": "GlgzpYb0etey",
   "metadata": {
    "id": "GlgzpYb0etey"
   },
   "source": [
    "We can read a YOLOv8 detection prediction file with $N$ detections into an $(N, 6)$ numpy array:"
   ]
  },
  {
   "cell_type": "code",
   "execution_count": 31,
   "id": "kFWXcRgJeqcm",
   "metadata": {
    "id": "kFWXcRgJeqcm"
   },
   "outputs": [],
   "source": [
    "import numpy as np\n",
    "from tqdm import tqdm\n",
    "\n",
    "def read_yolo_detections_file(filepath):\n",
    "    detections = []\n",
    "    if not os.path.exists(filepath):\n",
    "        return np.array([])\n",
    "    \n",
    "    with open(filepath) as f:\n",
    "        lines = [line.rstrip('\\n').split(' ') for line in f]\n",
    "    \n",
    "    for line in lines:\n",
    "        detection = [float(l) for l in line]\n",
    "        detections.append(detection)\n",
    "    return np.array(detections)"
   ]
  },
  {
   "cell_type": "markdown",
   "id": "o-e2IUiHezBd",
   "metadata": {
    "id": "o-e2IUiHezBd"
   },
   "source": [
    "From here, we need to convert these detections into FiftyOne’s [Detections](https://docs.voxel51.com/user_guide/using_datasets.html#object-detection) format."
   ]
  },
  {
   "cell_type": "markdown",
   "id": "Trs-dnJle1io",
   "metadata": {
    "id": "Trs-dnJle1io"
   },
   "source": [
    "YOLOv8 represents bounding boxes in a centered format with coordinates `[center_x, center_y, width, height]`, whereas [FiftyOne stores bounding boxes](https://docs.voxel51.com/user_guide/using_datasets.html#object-detection) in `[top-left-x, top-left-y, width, height]` format. We can make this conversion by \"un-centering\" the predicted bounding boxes:"
   ]
  },
  {
   "cell_type": "code",
   "execution_count": 32,
   "id": "p4Td_DXfewio",
   "metadata": {
    "id": "p4Td_DXfewio"
   },
   "outputs": [],
   "source": [
    "def _uncenter_boxes(boxes):\n",
    "    '''convert from center coords to corner coords'''\n",
    "    boxes[:, 0] -= boxes[:, 2]/2.\n",
    "    boxes[:, 1] -= boxes[:, 3]/2."
   ]
  },
  {
   "cell_type": "markdown",
   "id": "JR9U3dNie73W",
   "metadata": {
    "id": "JR9U3dNie73W"
   },
   "source": [
    "Additionally, we can convert a list of class predictions (indices) to a list of class labels (strings) by passing in the class list:\n"
   ]
  },
  {
   "cell_type": "code",
   "execution_count": 33,
   "id": "LH1VC9lpe9_A",
   "metadata": {
    "id": "LH1VC9lpe9_A"
   },
   "outputs": [],
   "source": [
    "def _get_class_labels(predicted_classes, class_list):\n",
    "    labels = (predicted_classes).astype(int)\n",
    "    labels = [class_list[l] for l in labels]\n",
    "    return labels"
   ]
  },
  {
   "cell_type": "markdown",
   "id": "V4H83IJFfBRK",
   "metadata": {
    "id": "V4H83IJFfBRK"
   },
   "source": [
    "Given the output of a `read_yolo_detections_file()` call, `yolo_detections`, we can generate the FiftyOne `Detections` object that captures this data:"
   ]
  },
  {
   "cell_type": "code",
   "execution_count": 34,
   "id": "CAWkvy94e_dt",
   "metadata": {
    "id": "CAWkvy94e_dt"
   },
   "outputs": [],
   "source": [
    "def convert_yolo_detections_to_fiftyone(\n",
    "    yolo_detections, \n",
    "    class_list\n",
    "    ):\n",
    "\n",
    "    detections = []\n",
    "    if yolo_detections.size == 0:\n",
    "        return fo.Detections(detections=detections)\n",
    "    \n",
    "    boxes = yolo_detections[:, 1:-1]\n",
    "    _uncenter_boxes(boxes)\n",
    "    \n",
    "    confs = yolo_detections[:, -1]\n",
    "    labels = _get_class_labels(yolo_detections[:, 0], class_list) \n",
    " \n",
    "    for label, conf, box in zip(labels, confs, boxes):\n",
    "        detections.append(\n",
    "            fo.Detection(\n",
    "                label=label,\n",
    "                bounding_box=box.tolist(),\n",
    "                confidence=conf\n",
    "            )\n",
    "        )\n",
    "\n",
    "    return fo.Detections(detections=detections)"
   ]
  },
  {
   "cell_type": "markdown",
   "id": "XHPGnupgfGsE",
   "metadata": {
    "id": "XHPGnupgfGsE"
   },
   "source": [
    "The final ingredient is a function that takes in the file path of an image, and returns the file path of the corresponding YOLOv8 detection prediction text file."
   ]
  },
  {
   "cell_type": "code",
   "execution_count": 35,
   "id": "puLw0q6sfEsZ",
   "metadata": {
    "id": "puLw0q6sfEsZ"
   },
   "outputs": [],
   "source": [
    "def get_prediction_filepath(filepath, run_number = 1):\n",
    "    run_num_string = \"\"\n",
    "    if run_number != 1:\n",
    "        run_num_string = str(run_number)\n",
    "    filename = filepath.split(\"/\")[-1].split(\".\")[0]\n",
    "    return f\"runs/detect/predict{run_num_string}/labels/{filename}.txt\""
   ]
  },
  {
   "cell_type": "markdown",
   "id": "NIzHbz1MfUoR",
   "metadata": {
    "id": "NIzHbz1MfUoR"
   },
   "source": [
    "If you run multiple inference calls for the same task, the predictions results are stored in a directory with the next available integer appended to `predict` in the file path. You can account for this in the above function by passing in the `run_number` argument.\n",
    "\n",
    "Putting the pieces together, we can write a function that adds these YOLOv8 detections to all of the samples in our dataset efficiently by batching the read and write operations to the underlying [MongoDB database](https://docs.voxel51.com/environments/index.html#connecting-to-a-localhost-database)."
   ]
  },
  {
   "cell_type": "code",
   "execution_count": 36,
   "id": "TSHGnEFtfLDU",
   "metadata": {
    "id": "TSHGnEFtfLDU"
   },
   "outputs": [],
   "source": [
    "def add_yolo_detections(\n",
    "    samples,\n",
    "    prediction_field,\n",
    "    prediction_filepath,\n",
    "    class_list\n",
    "    ):\n",
    "\n",
    "    prediction_filepaths = samples.values(prediction_filepath)\n",
    "    yolo_detections = [read_yolo_detections_file(pf) for pf in prediction_filepaths]\n",
    "    detections =  [convert_yolo_detections_to_fiftyone(yd, class_list) for yd in yolo_detections]\n",
    "    samples.set_values(prediction_field, detections)"
   ]
  },
  {
   "cell_type": "markdown",
   "id": "3k-cGy48fbVR",
   "metadata": {
    "id": "3k-cGy48fbVR"
   },
   "source": [
    "Now we can rapidly add the detections in a few lines of code:"
   ]
  },
  {
   "cell_type": "code",
   "execution_count": 37,
   "id": "ENaQyWtNfYuw",
   "metadata": {
    "colab": {
     "base_uri": "https://localhost:8080/"
    },
    "id": "ENaQyWtNfYuw",
    "outputId": "70ed0fce-364f-4766-fa31-5a24af5463a1"
   },
   "outputs": [],
   "source": [
    "filepaths = test_view.values(\"filepath\")\n",
    "prediction_filepaths = [get_prediction_filepath(fp) for fp in filepaths]\n",
    "test_view.set_values(\n",
    "    \"yolov8n_det_filepath\", \n",
    "    prediction_filepaths\n",
    ")\n",
    "\n",
    "add_yolo_detections(\n",
    "    test_view, \n",
    "    \"yolov8n\", \n",
    "    \"yolov8n_det_filepath\", \n",
    "    [\"tank\"]\n",
    ")"
   ]
  },
  {
   "cell_type": "markdown",
   "id": "T14NB5WSf6pq",
   "metadata": {
    "id": "T14NB5WSf6pq"
   },
   "source": [
    "Now we can visualize these YOLOv8 model predictions on the samples in our dataset in the FiftyOne App:"
   ]
  },
  {
   "cell_type": "code",
   "execution_count": 38,
   "id": "swpnpbTufnTT",
   "metadata": {
    "colab": {
     "base_uri": "https://localhost:8080/",
     "height": 856
    },
    "id": "swpnpbTufnTT",
    "outputId": "050e172d-ad88-4cec-c427-5644b728a931"
   },
   "outputs": [
    {
     "data": {
      "application/javascript": [
       "window.open('http://localhost:5151/');"
      ],
      "text/plain": [
       "<IPython.core.display.Javascript object>"
      ]
     },
     "metadata": {},
     "output_type": "display_data"
    }
   ],
   "source": [
    "session.open_tab()"
   ]
  },
  {
   "cell_type": "code",
   "execution_count": 39,
   "id": "KBc5bk_Uf8Lv",
   "metadata": {
    "id": "KBc5bk_Uf8Lv"
   },
   "outputs": [],
   "source": [
    "session.freeze()"
   ]
  },
  {
   "cell_type": "markdown",
   "id": "XwzinvM4jzvL",
   "metadata": {
    "id": "XwzinvM4jzvL"
   },
   "source": [
    "### Evaluate model predictions"
   ]
  },
  {
   "cell_type": "code",
   "execution_count": 40,
   "id": "N-mIX-AvgRWo",
   "metadata": {
    "colab": {
     "base_uri": "https://localhost:8080/"
    },
    "id": "N-mIX-AvgRWo",
    "outputId": "687583fe-3a12-47f1-ccdb-7975a1dab73c"
   },
   "outputs": [
    {
     "name": "stdout",
     "output_type": "stream",
     "text": [
      "Evaluating detections...\n"
     ]
    },
    {
     "name": "stderr",
     "output_type": "stream",
     "text": [
      "INFO:fiftyone.utils.eval.detection:Evaluating detections...\n"
     ]
    },
    {
     "name": "stdout",
     "output_type": "stream",
     "text": []
    },
    {
     "name": "stdout",
     "output_type": "stream",
     "text": [
      " 100% |█████████████████| 162/162 [440.9ms elapsed, 0s remaining, 367.4 samples/s]      \n"
     ]
    },
    {
     "name": "stderr",
     "output_type": "stream",
     "text": [
      "INFO:eta.core.utils: 100% |█████████████████| 162/162 [440.9ms elapsed, 0s remaining, 367.4 samples/s]      \n"
     ]
    },
    {
     "name": "stdout",
     "output_type": "stream",
     "text": [
      "Performing IoU sweep...\n"
     ]
    },
    {
     "name": "stderr",
     "output_type": "stream",
     "text": [
      "INFO:fiftyone.utils.eval.coco:Performing IoU sweep...\n"
     ]
    },
    {
     "name": "stdout",
     "output_type": "stream",
     "text": []
    },
    {
     "name": "stdout",
     "output_type": "stream",
     "text": [
      " 100% |█████████████████| 162/162 [503.5ms elapsed, 0s remaining, 321.8 samples/s]      \n"
     ]
    },
    {
     "name": "stderr",
     "output_type": "stream",
     "text": [
      "INFO:eta.core.utils: 100% |█████████████████| 162/162 [503.5ms elapsed, 0s remaining, 321.8 samples/s]      \n"
     ]
    }
   ],
   "source": [
    "detection_results = test_view.evaluate_detections(\n",
    "    \"yolov8n\", \n",
    "    eval_key=\"eval\",\n",
    "    compute_mAP=True,\n",
    "    gt_field=\"ground_truth\",\n",
    ")"
   ]
  },
  {
   "cell_type": "code",
   "execution_count": 41,
   "id": "nizpHWoAkCza",
   "metadata": {
    "colab": {
     "base_uri": "https://localhost:8080/"
    },
    "id": "nizpHWoAkCza",
    "outputId": "ba91d114-049a-423b-9984-d9e08d1e89ed"
   },
   "outputs": [
    {
     "name": "stdout",
     "output_type": "stream",
     "text": [
      "mAP = 0.7822574173734101\n"
     ]
    }
   ],
   "source": [
    "mAP = detection_results.mAP()\n",
    "print(f\"mAP = {mAP}\")"
   ]
  },
  {
   "cell_type": "code",
   "execution_count": 42,
   "id": "R55j6_mTkGZv",
   "metadata": {
    "colab": {
     "base_uri": "https://localhost:8080/"
    },
    "id": "R55j6_mTkGZv",
    "outputId": "87ae6b99-13e6-4225-dee2-466686abbff9"
   },
   "outputs": [
    {
     "name": "stdout",
     "output_type": "stream",
     "text": [
      "              precision    recall  f1-score   support\n",
      "\n",
      "        tank       0.89      0.94      0.92       227\n",
      "\n",
      "   micro avg       0.89      0.94      0.92       227\n",
      "   macro avg       0.89      0.94      0.92       227\n",
      "weighted avg       0.89      0.94      0.92       227\n",
      "\n"
     ]
    }
   ],
   "source": [
    "detection_results.print_report()"
   ]
  },
  {
   "cell_type": "code",
   "execution_count": null,
   "id": "2LK4iyCjkc7_",
   "metadata": {
    "id": "2LK4iyCjkc7_"
   },
   "outputs": [],
   "source": []
  }
 ],
 "metadata": {
  "accelerator": "GPU",
  "colab": {
   "gpuType": "T4",
   "provenance": []
  },
  "kernelspec": {
   "display_name": "Python 3 (ipykernel)",
   "language": "python",
   "name": "python3"
  },
  "language_info": {
   "codemirror_mode": {
    "name": "ipython",
    "version": 3
   },
   "file_extension": ".py",
   "mimetype": "text/x-python",
   "name": "python",
   "nbconvert_exporter": "python",
   "pygments_lexer": "ipython3",
   "version": "3.10.14"
  }
 },
 "nbformat": 4,
 "nbformat_minor": 5
}
