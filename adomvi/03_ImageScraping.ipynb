{
 "cells": [
  {
   "cell_type": "markdown",
   "id": "69af399f-7a84-4ff3-915a-4f95c4654614",
   "metadata": {},
   "source": [
    "# Scraping google images to create a multi-label dataset"
   ]
  },
  {
   "cell_type": "markdown",
   "id": "e60193d2-f991-4a20-8c98-4ec018f56c9e",
   "metadata": {},
   "source": [
    "The previous model that we trained with images collected from open-source datasets was limited by its size and its single label class. We'll run a scraping tool to download more images from Google Image for different classes of military vehicles. "
   ]
  },
  {
   "cell_type": "markdown",
   "id": "df2c718f-c2b3-4f23-8c87-68a22d400533",
   "metadata": {},
   "source": [
    "## Defining labels\n",
    "\n",
    "It's hard to find a unified taxonomy for military vehicles. We'll try to define large class labels by using Wikipedia's [Military vehicles by type](https://en.wikipedia.org/wiki/Category:Military_vehicles_by_type) category. Model names can be found in this list of [modern armoured fighting vehicles](https://en.wikipedia.org/wiki/List_of_modern_armoured_fighting_vehicles)"
   ]
  },
  {
   "cell_type": "markdown",
   "id": "d2f1cc31-e17b-413d-a4d9-ffc2e0ea3cd6",
   "metadata": {},
   "source": [
    "- **Armoured fighting vehicle (AFV)** is an armed combat vehicle protected by armour, generally combining operational mobility with offensive and defensive capabilities. AFVs can be wheeled or tracked. Examples of AFVs are tanks, armoured cars, assault guns, self-propelled guns, infantry fighting vehicles (IFV), and armoured personnel carriers (APC).\n",
    "- **Armoured personnel carrier (APC)** is a broad type of armoured military vehicle designed to transport personnel and equipment in combat zones.\n",
    "- **Military engineering vehicle (MEV)** is a vehicle built for construction work or for the transportation of combat engineers on the battlefield.\n",
    "- **Light armoured vehicle (LAV) (incl. Reconnaissance vehicle - RV)** is the lightest weight class military vehicle category. A Jeep-like four-wheel drive vehicle for military use, with light or no armour. **Reconnaissance vehicle (RV)** is a military vehicle used for forward reconnaissance. Both tracked and wheeled reconnaissance vehicles are in service."
   ]
  },
  {
   "cell_type": "markdown",
   "id": "beb65ae6-fdc5-437f-9c7e-9dee829babfd",
   "metadata": {},
   "source": [
    "Based on these categories, we can define some search terms."
   ]
  },
  {
   "cell_type": "code",
   "execution_count": 1,
   "id": "8d00ff1f-c8e8-4cc8-925b-31d5556535a9",
   "metadata": {},
   "outputs": [],
   "source": [
    "AFV = [\n",
    "    \"AFV Lynx\",\n",
    "    \"Boxer AFV\",\n",
    "    \"ZTZ-99\",\n",
    "    \"ZTZ-96\",\n",
    "    \"VT-4\",\n",
    "    \"ZBD-04\",\n",
    "    \"Leclerc tank\",\n",
    "    \"AMX 10 RC\",\n",
    "    \"Leopard tank\",\n",
    "    \"T-90\",\n",
    "    \"T-72\",\n",
    "    \"challenger tank\",\n",
    "    \"M1 abrams\",\n",
    "]\n",
    "APC = [\n",
    "    \"AMX-10P\",\n",
    "    \"VAB\",\n",
    "    \"LAV III\",\n",
    "    \"Berliet VXB\",\n",
    "    \"Panhard VCR\",\n",
    "    \"Didgori-3\",\n",
    "    \"M113 APC\",\n",
    "    \"AMPV\",\n",
    "    \"VBTP-MR Guarani\",\n",
    "    \"BTR-40\",\n",
    "    \"BTR-60\",\n",
    "    \"BTR-80\",\n",
    "    \"TPZ Fuchs\",\n",
    "    \"Bison APC\",\n",
    "    \"ZBL-08\",\n",
    "    \"fv103 spartan\",\n",
    "    \"MRAP\",\n",
    "]\n",
    "MEV = [\n",
    "    \"Engin blindé du génie\",\n",
    "    \"ebg vulcain\",\n",
    "    \"kodiak wisent armoured vehicle\",\n",
    "    \"m728 cev\",\n",
    "    \"terrier armoured vehicle\",\n",
    "    \"imr-2 armoured vehicle\",\n",
    "]\n",
    "LAV = [\n",
    "    \"LAV-25\",\n",
    "    \"Iveco VM 90\",\n",
    "    \"Panhard VBL\",\n",
    "    \"Panhard AML\",\n",
    "    \"Panhard ERC\",\n",
    "    \"Humvee\",\n",
    "    \"FV601 Saladin\",\n",
    "    \"AMX-10 RC\",\n",
    "    \"RG-32 Scout\",\n",
    "    \"fv101 scorpion\",\n",
    "    \"fv107 scimitar\",\n",
    "]"
   ]
  },
  {
   "cell_type": "markdown",
   "id": "cda03ed7-85fd-4a4a-9168-ee2c686456e7",
   "metadata": {},
   "source": [
    "## Downloading images from google"
   ]
  },
  {
   "cell_type": "markdown",
   "id": "054b72f0-8456-4433-8d99-9e10a72672da",
   "metadata": {},
   "source": [
    "Once we've defined our labels and search terms, we can download images from Google for each category. We'll create our dataset by downloading 50 images for each search term."
   ]
  },
  {
   "cell_type": "code",
   "execution_count": 2,
   "id": "29861b98-c1bb-48ef-ac99-b4542bd3770a",
   "metadata": {},
   "outputs": [],
   "source": [
    "import logging\n",
    "import sys\n",
    "\n",
    "logging.basicConfig(stream=sys.stdout, level=logging.INFO)"
   ]
  },
  {
   "cell_type": "code",
   "execution_count": 3,
   "id": "8cf61283-0a1d-4891-8eb2-3075c01a9e41",
   "metadata": {},
   "outputs": [],
   "source": [
    "MAX_IMAGES_PER_TERM = 50"
   ]
  },
  {
   "cell_type": "code",
   "execution_count": 4,
   "id": "8fa59ab9-ab7b-42b1-b51c-075ab4e660aa",
   "metadata": {},
   "outputs": [],
   "source": [
    "from adomvi.scraper.google import GoogleImageScraper\n",
    "from pathlib import Path\n",
    "\n",
    "def worker_thread(klass, search_term):\n",
    "    save_dir = Path(f\"google/{klass}\")\n",
    "    scraper = GoogleImageScraper(\n",
    "        save_dir,\n",
    "        search_term,\n",
    "        max_images=MAX_IMAGES_PER_TERM,\n",
    "        min_resolution=(400, 300),\n",
    "        max_resolution=(2048, 2048),\n",
    "    )\n",
    "    images = scraper.get_image_urls()\n",
    "    scraper.save_images(images)"
   ]
  },
  {
   "cell_type": "code",
   "execution_count": 5,
   "id": "d8d59268-b02d-47a8-89da-8c311cfab103",
   "metadata": {
    "scrolled": true
   },
   "outputs": [
    {
     "name": "stdout",
     "output_type": "stream",
     "text": [
      "INFO:adomvi.scraper.google:Chrome web driver initialized. Page title for https://www.google.com: Google\n",
      "INFO:adomvi.scraper.google:Chrome web driver initialized. Page title for https://www.google.com: Google\n",
      "INFO:adomvi.scraper.google:Seaching images for LAV-25\n",
      "INFO:adomvi.scraper.google:Seaching images for AFV Lynx\n",
      "INFO:adomvi.scraper.google:Clicking Images search button\n",
      "INFO:adomvi.scraper.google:Clicking Images search button\n",
      "INFO:adomvi.scraper.google:Fetching thumbnails.\n",
      "INFO:adomvi.scraper.google:Found 48 thumbnails (48 new).\n"
     ]
    },
    {
     "name": "stderr",
     "output_type": "stream",
     "text": [
      "  0%|                                                                                                                | 0/48 [00:00<?, ?it/s]"
     ]
    },
    {
     "name": "stdout",
     "output_type": "stream",
     "text": [
      "INFO:adomvi.scraper.google:Fetching thumbnails.\n",
      "INFO:adomvi.scraper.google:Found 48 thumbnails (48 new).\n"
     ]
    },
    {
     "name": "stderr",
     "output_type": "stream",
     "text": [
      "\n",
      "  2%|██▏                                                                                                     | 1/48 [00:00<00:29,  1.60it/s]\u001b[A\n",
      "  4%|████▎                                                                                                   | 2/48 [00:01<00:27,  1.67it/s]\u001b[A\n",
      "  6%|██████▌                                                                                                 | 3/48 [00:01<00:26,  1.69it/s]\u001b[A\n",
      "  8%|████████▋                                                                                               | 4/48 [00:02<00:26,  1.66it/s]\u001b[A\n",
      " 10%|██████████▊                                                                                             | 5/48 [00:02<00:25,  1.68it/s]\u001b[A\n",
      " 12%|█████████████                                                                                           | 6/48 [00:03<00:24,  1.69it/s]\u001b[A\n",
      " 15%|███████████████▏                                                                                        | 7/48 [00:04<00:24,  1.69it/s]\u001b[A\n",
      " 17%|█████████████████▎                                                                                      | 8/48 [00:04<00:23,  1.68it/s]\u001b[A\n",
      " 19%|███████████████████▌                                                                                    | 9/48 [00:05<00:23,  1.68it/s]\u001b[A\n",
      " 21%|█████████████████████▍                                                                                 | 10/48 [00:05<00:22,  1.68it/s]\u001b[A\n",
      " 21%|█████████████████████▍                                                                                 | 10/48 [00:06<00:24,  1.52it/s]\u001b[A"
     ]
    },
    {
     "name": "stdout",
     "output_type": "stream",
     "text": [
      "INFO:adomvi.scraper.google:Saving images to disk.\n"
     ]
    },
    {
     "name": "stderr",
     "output_type": "stream",
     "text": [
      "\n",
      "  0%|                                                                                                                | 0/10 [00:00<?, ?it/s]\n",
      " 30%|███████████████████████████████▏                                                                        | 3/10 [00:00<00:01,  4.00it/s]\u001b[A\n",
      " 50%|████████████████████████████████████████████████████                                                    | 5/10 [00:01<00:01,  3.70it/s]\u001b[A\n",
      " 70%|████████████████████████████████████████████████████████████████████████▊                               | 7/10 [00:01<00:00,  3.63it/s]\u001b[A\n",
      " 80%|███████████████████████████████████████████████████████████████████████████████████▏                    | 8/10 [00:02<00:00,  2.80it/s]\u001b[A\n",
      " 90%|█████████████████████████████████████████████████████████████████████████████████████████████▌          | 9/10 [00:02<00:00,  2.79it/s]\u001b[A\n",
      "100%|███████████████████████████████████████████████████████████████████████████████████████████████████████| 10/10 [00:03<00:00,  2.85it/s]\u001b[A"
     ]
    },
    {
     "name": "stdout",
     "output_type": "stream",
     "text": [
      "INFO:adomvi.scraper.google:Writing metadata file.\n"
     ]
    },
    {
     "name": "stderr",
     "output_type": "stream",
     "text": [
      "\n",
      "\n",
      " 35%|████████████████████████████████████▍                                                                  | 17/48 [00:10<00:18,  1.67it/s]\u001b[A\n",
      " 38%|██████████████████████████████████████▋                                                                | 18/48 [00:10<00:17,  1.67it/s]\u001b[A\n",
      " 40%|████████████████████████████████████████▊                                                              | 19/48 [00:11<00:17,  1.68it/s]\u001b[A"
     ]
    },
    {
     "name": "stdout",
     "output_type": "stream",
     "text": [
      "INFO:adomvi.scraper.google:Chrome web driver initialized. Page title for https://www.google.com: Google\n",
      "INFO:adomvi.scraper.google:Seaching images for Boxer AFV\n"
     ]
    },
    {
     "name": "stderr",
     "output_type": "stream",
     "text": [
      "\n",
      " 42%|██████████████████████████████████████████▉                                                            | 20/48 [00:11<00:17,  1.65it/s]\u001b[A"
     ]
    },
    {
     "name": "stdout",
     "output_type": "stream",
     "text": [
      "INFO:adomvi.scraper.google:Clicking Images search button\n"
     ]
    },
    {
     "name": "stderr",
     "output_type": "stream",
     "text": [
      "\n",
      " 44%|█████████████████████████████████████████████                                                          | 21/48 [00:12<00:16,  1.68it/s]\u001b[A\n",
      " 46%|███████████████████████████████████████████████▏                                                       | 22/48 [00:13<00:15,  1.70it/s]\u001b[A\n",
      " 48%|█████████████████████████████████████████████████▎                                                     | 23/48 [00:13<00:14,  1.72it/s]\u001b[A"
     ]
    },
    {
     "name": "stdout",
     "output_type": "stream",
     "text": [
      "INFO:adomvi.scraper.google:Fetching thumbnails.\n",
      "INFO:adomvi.scraper.google:Found 48 thumbnails (48 new).\n"
     ]
    },
    {
     "name": "stderr",
     "output_type": "stream",
     "text": [
      "  0%|                                                                                                                | 0/48 [00:00<?, ?it/s]\n",
      "  2%|██▏                                                                                                     | 1/48 [00:00<00:29,  1.60it/s]\u001b[A\n",
      "  4%|████▎                                                                                                   | 2/48 [00:01<00:27,  1.68it/s]\u001b[A\n",
      "  6%|██████▌                                                                                                 | 3/48 [00:01<00:26,  1.67it/s]\u001b[A\n",
      "  8%|████████▋                                                                                               | 4/48 [00:02<00:25,  1.70it/s]\u001b[A\n",
      " 10%|██████████▊                                                                                             | 5/48 [00:02<00:25,  1.68it/s]\u001b[A\n",
      " 12%|█████████████                                                                                           | 6/48 [00:03<00:24,  1.70it/s]\u001b[A\n",
      " 15%|███████████████▏                                                                                        | 7/48 [00:04<00:23,  1.71it/s]\u001b[A\n",
      " 65%|██████████████████████████████████████████████████████████████████▌                                    | 31/48 [00:18<00:10,  1.64it/s]\u001b[A"
     ]
    },
    {
     "name": "stdout",
     "output_type": "stream",
     "text": [
      "INFO:adomvi.scraper.google:Saving images to disk.\n"
     ]
    },
    {
     "name": "stderr",
     "output_type": "stream",
     "text": [
      "\n",
      "\n",
      "  0%|                                                                                                                | 0/10 [00:00<?, ?it/s]\u001b[A\n",
      " 19%|███████████████████▌                                                                                    | 9/48 [00:05<00:22,  1.73it/s]\u001b[A\n",
      " 20%|████████████████████▊                                                                                   | 2/10 [00:00<00:01,  7.69it/s]\u001b[A\n",
      " 30%|███████████████████████████████▏                                                                        | 3/10 [00:00<00:00,  8.45it/s]\u001b[A\n",
      " 40%|█████████████████████████████████████████▌                                                              | 4/10 [00:00<00:00,  8.61it/s]\u001b[A\n",
      " 21%|█████████████████████▍                                                                                 | 10/48 [00:05<00:21,  1.73it/s]\u001b[A\n",
      " 70%|████████████████████████████████████████████████████████████████████████▊                               | 7/10 [00:01<00:00,  6.81it/s]\u001b[A\n",
      " 23%|███████████████████████▌                                                                               | 11/48 [00:06<00:21,  1.72it/s]\u001b[A\n",
      " 90%|█████████████████████████████████████████████████████████████████████████████████████████████▌          | 9/10 [00:01<00:00,  3.96it/s]\u001b[A\n",
      "100%|███████████████████████████████████████████████████████████████████████████████████████████████████████| 10/10 [00:01<00:00,  5.23it/s]\u001b[A"
     ]
    },
    {
     "name": "stdout",
     "output_type": "stream",
     "text": [
      "INFO:adomvi.scraper.google:Writing metadata file.\n"
     ]
    },
    {
     "name": "stderr",
     "output_type": "stream",
     "text": [
      "\n",
      " 29%|██████████████████████████████                                                                         | 14/48 [00:08<00:20,  1.69it/s]"
     ]
    },
    {
     "name": "stdout",
     "output_type": "stream",
     "text": [
      "INFO:adomvi.scraper.google:Chrome web driver initialized. Page title for https://www.google.com: Google\n",
      "INFO:adomvi.scraper.google:Seaching images for LAV III\n"
     ]
    },
    {
     "name": "stderr",
     "output_type": "stream",
     "text": [
      " 31%|████████████████████████████████▏                                                                      | 15/48 [00:08<00:19,  1.70it/s]"
     ]
    },
    {
     "name": "stdout",
     "output_type": "stream",
     "text": [
      "INFO:adomvi.scraper.google:Clicking Images search button\n"
     ]
    },
    {
     "name": "stderr",
     "output_type": "stream",
     "text": [
      " 38%|██████████████████████████████████████▋                                                                | 18/48 [00:10<00:17,  1.71it/s]"
     ]
    },
    {
     "name": "stdout",
     "output_type": "stream",
     "text": [
      "INFO:adomvi.scraper.google:Fetching thumbnails.\n",
      "INFO:adomvi.scraper.google:Found 48 thumbnails (48 new).\n"
     ]
    },
    {
     "name": "stderr",
     "output_type": "stream",
     "text": [
      "\n",
      " 40%|████████████████████████████████████████▊                                                              | 19/48 [00:11<00:17,  1.70it/s]\u001b[A\n",
      " 42%|██████████████████████████████████████████▉                                                            | 20/48 [00:11<00:16,  1.69it/s]\u001b[A\n",
      " 42%|██████████████████████████████████████████▉                                                            | 20/48 [00:12<00:17,  1.62it/s]\u001b[A"
     ]
    },
    {
     "name": "stdout",
     "output_type": "stream",
     "text": [
      "INFO:adomvi.scraper.google:Saving images to disk.\n"
     ]
    },
    {
     "name": "stderr",
     "output_type": "stream",
     "text": [
      "\n",
      "  0%|                                                                                                                | 0/10 [00:00<?, ?it/s]\n",
      " 40%|█████████████████████████████████████████▌                                                              | 4/10 [00:00<00:00,  6.76it/s]\u001b[A\n",
      " 50%|████████████████████████████████████████████████████                                                    | 5/10 [00:01<00:01,  3.70it/s]\u001b[A\n",
      " 70%|████████████████████████████████████████████████████████████████████████▊                               | 7/10 [00:01<00:00,  3.45it/s]\u001b[A\n",
      "100%|███████████████████████████████████████████████████████████████████████████████████████████████████████| 10/10 [00:02<00:00,  4.30it/s]\u001b[A"
     ]
    },
    {
     "name": "stdout",
     "output_type": "stream",
     "text": [
      "INFO:adomvi.scraper.google:Writing metadata file.\n"
     ]
    },
    {
     "name": "stderr",
     "output_type": "stream",
     "text": [
      "\n",
      "\n",
      " 15%|███████████████▏                                                                                        | 7/48 [00:04<00:24,  1.69it/s]\u001b[A\n",
      " 17%|█████████████████▎                                                                                      | 8/48 [00:04<00:23,  1.68it/s]\u001b[A\n",
      " 19%|███████████████████▌                                                                                    | 9/48 [00:05<00:23,  1.68it/s]\u001b[A"
     ]
    },
    {
     "name": "stdout",
     "output_type": "stream",
     "text": [
      "INFO:adomvi.scraper.google:Chrome web driver initialized. Page title for https://www.google.com: Google\n",
      "INFO:adomvi.scraper.google:Seaching images for ZTZ-99\n"
     ]
    },
    {
     "name": "stderr",
     "output_type": "stream",
     "text": [
      "\n",
      " 21%|█████████████████████▍                                                                                 | 10/48 [00:06<00:22,  1.66it/s]\u001b[A\n",
      " 23%|███████████████████████▌                                                                               | 11/48 [00:06<00:22,  1.68it/s]\u001b[A"
     ]
    },
    {
     "name": "stdout",
     "output_type": "stream",
     "text": [
      "INFO:adomvi.scraper.google:Clicking Images search button\n"
     ]
    },
    {
     "name": "stderr",
     "output_type": "stream",
     "text": [
      "\n",
      " 25%|█████████████████████████▊                                                                             | 12/48 [00:07<00:21,  1.65it/s]\u001b[A"
     ]
    },
    {
     "name": "stdout",
     "output_type": "stream",
     "text": [
      "INFO:adomvi.scraper.google:Fetching thumbnails.\n",
      "INFO:adomvi.scraper.google:Found 48 thumbnails (48 new).\n"
     ]
    },
    {
     "name": "stderr",
     "output_type": "stream",
     "text": [
      "  0%|                                                                                                                | 0/48 [00:00<?, ?it/s]\n",
      " 27%|███████████████████████████▉                                                                           | 13/48 [00:07<00:21,  1.66it/s]\u001b[A\n",
      "  2%|██▏                                                                                                     | 1/48 [00:00<00:29,  1.58it/s]\u001b[A\n",
      "  4%|████▎                                                                                                   | 2/48 [00:01<00:28,  1.59it/s]\u001b[A\n",
      "  6%|██████▌                                                                                                 | 3/48 [00:01<00:27,  1.63it/s]\u001b[A\n",
      "  8%|████████▋                                                                                               | 4/48 [00:02<00:26,  1.64it/s]\u001b[A\n",
      " 10%|██████████▊                                                                                             | 5/48 [00:03<00:26,  1.65it/s]\u001b[A\n",
      " 12%|█████████████                                                                                           | 6/48 [00:03<00:24,  1.69it/s]\u001b[A\n",
      " 15%|███████████████▏                                                                                        | 7/48 [00:04<00:24,  1.71it/s]\u001b[A\n",
      " 17%|█████████████████▎                                                                                      | 8/48 [00:04<00:23,  1.71it/s]\u001b[A\n",
      " 19%|███████████████████▌                                                                                    | 9/48 [00:05<00:22,  1.71it/s]\u001b[A\n",
      " 21%|█████████████████████▍                                                                                 | 10/48 [00:05<00:22,  1.68it/s]\u001b[A\n",
      " 23%|███████████████████████▌                                                                               | 11/48 [00:06<00:21,  1.70it/s]\u001b[A\n",
      " 25%|█████████████████████████▊                                                                             | 12/48 [00:07<00:21,  1.69it/s]\u001b[A\n",
      " 29%|██████████████████████████████                                                                         | 14/48 [00:08<00:19,  1.71it/s]\u001b[A\n",
      " 31%|████████████████████████████████▏                                                                      | 15/48 [00:08<00:19,  1.70it/s]\u001b[A\n",
      " 33%|██████████████████████████████████▎                                                                    | 16/48 [00:09<00:18,  1.70it/s]\u001b[A\n",
      " 35%|████████████████████████████████████▍                                                                  | 17/48 [00:10<00:18,  1.68it/s]\u001b[A\n",
      " 38%|██████████████████████████████████████▋                                                                | 18/48 [00:10<00:17,  1.69it/s]\u001b[A\n",
      " 40%|████████████████████████████████████████▊                                                              | 19/48 [00:11<00:17,  1.69it/s]\u001b[A\n",
      " 42%|██████████████████████████████████████████▉                                                            | 20/48 [00:11<00:16,  1.67it/s]\u001b[A\n",
      " 44%|█████████████████████████████████████████████                                                          | 21/48 [00:12<00:16,  1.67it/s]\u001b[A\n",
      " 46%|███████████████████████████████████████████████▏                                                       | 22/48 [00:13<00:15,  1.67it/s]\u001b[A\n",
      " 48%|█████████████████████████████████████████████████▎                                                     | 23/48 [00:13<00:14,  1.67it/s]\u001b[A\n",
      " 50%|███████████████████████████████████████████████████▌                                                   | 24/48 [00:14<00:14,  1.65it/s]\u001b[A\n",
      " 52%|█████████████████████████████████████████████████████▋                                                 | 25/48 [00:14<00:13,  1.66it/s]\u001b[A\n",
      " 79%|█████████████████████████████████████████████████████████████████████████████████▌                     | 38/48 [00:23<00:06,  1.63it/s]\u001b[A"
     ]
    },
    {
     "name": "stdout",
     "output_type": "stream",
     "text": [
      "INFO:adomvi.scraper.google:Saving images to disk.\n"
     ]
    },
    {
     "name": "stderr",
     "output_type": "stream",
     "text": [
      "\n",
      "\n",
      "  0%|                                                                                                                | 0/10 [00:00<?, ?it/s]\u001b[A\n",
      " 54%|███████████████████████████████████████████████████████▊                                               | 26/48 [00:16<00:13,  1.62it/s]\u001b[A"
     ]
    },
    {
     "name": "stdout",
     "output_type": "stream",
     "text": [
      "INFO:adomvi.scraper.google:Saving images to disk.\n"
     ]
    },
    {
     "name": "stderr",
     "output_type": "stream",
     "text": [
      "\n",
      " 10%|██████████▍                                                                                             | 1/10 [00:00<00:02,  4.25it/s]\n",
      " 30%|███████████████████████████████▏                                                                        | 3/10 [00:00<00:01,  3.58it/s]\u001b[A\n",
      " 30%|███████████████████████████████▏                                                                        | 3/10 [00:00<00:01,  4.76it/s]\u001b[A\n",
      " 40%|█████████████████████████████████████████▌                                                              | 4/10 [00:00<00:01,  4.35it/s]\u001b[A\n",
      " 60%|██████████████████████████████████████████████████████████████▍                                         | 6/10 [00:01<00:01,  3.71it/s]\u001b[A\n",
      " 70%|████████████████████████████████████████████████████████████████████████▊                               | 7/10 [00:01<00:00,  3.90it/s]\u001b[A\n",
      " 80%|███████████████████████████████████████████████████████████████████████████████████▏                    | 8/10 [00:02<00:00,  2.21it/s]\u001b[A\n",
      "100%|███████████████████████████████████████████████████████████████████████████████████████████████████████| 10/10 [00:03<00:00,  3.00it/s]\u001b[A"
     ]
    },
    {
     "name": "stdout",
     "output_type": "stream",
     "text": [
      "INFO:adomvi.scraper.google:Writing metadata file.\n"
     ]
    },
    {
     "name": "stderr",
     "output_type": "stream",
     "text": [
      "\n",
      "100%|███████████████████████████████████████████████████████████████████████████████████████████████████████| 10/10 [00:03<00:00,  2.67it/s]"
     ]
    },
    {
     "name": "stdout",
     "output_type": "stream",
     "text": [
      "INFO:adomvi.scraper.google:Writing metadata file.\n"
     ]
    },
    {
     "name": "stderr",
     "output_type": "stream",
     "text": [
      "\n"
     ]
    },
    {
     "name": "stdout",
     "output_type": "stream",
     "text": [
      "INFO:adomvi.scraper.google:Chrome web driver initialized. Page title for https://www.google.com: Google\n",
      "INFO:adomvi.scraper.google:Seaching images for ZTZ-96\n",
      "INFO:adomvi.scraper.google:Clicking Images search button\n",
      "INFO:adomvi.scraper.google:Chrome web driver initialized. Page title for https://www.google.com: Google\n",
      "INFO:adomvi.scraper.google:Seaching images for VT-4\n",
      "INFO:adomvi.scraper.google:Fetching thumbnails.\n",
      "INFO:adomvi.scraper.google:Found 48 thumbnails (48 new).\n"
     ]
    },
    {
     "name": "stderr",
     "output_type": "stream",
     "text": [
      "  4%|████▎                                                                                                   | 2/48 [00:01<00:28,  1.63it/s]"
     ]
    },
    {
     "name": "stdout",
     "output_type": "stream",
     "text": [
      "INFO:adomvi.scraper.google:Clicking Images search button\n"
     ]
    },
    {
     "name": "stderr",
     "output_type": "stream",
     "text": [
      "  8%|████████▋                                                                                               | 4/48 [00:02<00:25,  1.71it/s]"
     ]
    },
    {
     "name": "stdout",
     "output_type": "stream",
     "text": [
      "INFO:adomvi.scraper.google:Fetching thumbnails.\n",
      "INFO:adomvi.scraper.google:Found 48 thumbnails (48 new).\n"
     ]
    },
    {
     "name": "stderr",
     "output_type": "stream",
     "text": [
      "\n",
      " 10%|██████████▊                                                                                             | 5/48 [00:02<00:25,  1.72it/s]\u001b[A\n",
      " 12%|█████████████                                                                                           | 6/48 [00:03<00:24,  1.68it/s]\u001b[A\n",
      " 15%|███████████████▏                                                                                        | 7/48 [00:04<00:24,  1.69it/s]\u001b[A\n",
      " 17%|█████████████████▎                                                                                      | 8/48 [00:04<00:23,  1.70it/s]\u001b[A\n",
      " 19%|███████████████████▌                                                                                    | 9/48 [00:05<00:22,  1.70it/s]\u001b[A\n",
      " 21%|█████████████████████▍                                                                                 | 10/48 [00:05<00:22,  1.70it/s]\u001b[A\n",
      " 23%|███████████████████████▌                                                                               | 11/48 [00:06<00:22,  1.66it/s]\u001b[A\n",
      " 25%|█████████████████████████▊                                                                             | 12/48 [00:07<00:21,  1.68it/s]\u001b[A\n",
      " 27%|███████████████████████████▉                                                                           | 13/48 [00:07<00:20,  1.70it/s]\u001b[A\n",
      " 29%|██████████████████████████████                                                                         | 14/48 [00:08<00:20,  1.69it/s]\u001b[A\n",
      " 31%|████████████████████████████████▏                                                                      | 15/48 [00:08<00:19,  1.70it/s]\u001b[A\n",
      " 33%|██████████████████████████████████▎                                                                    | 16/48 [00:09<00:18,  1.69it/s]\u001b[A\n",
      " 35%|████████████████████████████████████▍                                                                  | 17/48 [00:10<00:18,  1.71it/s]\u001b[A\n",
      " 38%|██████████████████████████████████████▋                                                                | 18/48 [00:10<00:17,  1.69it/s]\u001b[A\n",
      " 40%|████████████████████████████████████████▊                                                              | 19/48 [00:11<00:17,  1.68it/s]\u001b[A\n",
      " 42%|██████████████████████████████████████████▉                                                            | 20/48 [00:11<00:16,  1.69it/s]\u001b[A\n",
      " 44%|█████████████████████████████████████████████                                                          | 21/48 [00:12<00:15,  1.69it/s]\u001b[A\n",
      " 46%|███████████████████████████████████████████████▏                                                       | 22/48 [00:13<00:15,  1.69it/s]\u001b[A\n",
      " 48%|█████████████████████████████████████████████████▎                                                     | 23/48 [00:13<00:14,  1.71it/s]\u001b[A\n",
      " 48%|█████████████████████████████████████████████████▎                                                     | 23/48 [00:14<00:15,  1.62it/s]\u001b[A"
     ]
    },
    {
     "name": "stdout",
     "output_type": "stream",
     "text": [
      "INFO:adomvi.scraper.google:Saving images to disk.\n"
     ]
    },
    {
     "name": "stderr",
     "output_type": "stream",
     "text": [
      "\n",
      " 10%|██████████▍                                                                                             | 1/10 [00:00<00:01,  5.65it/s]\n",
      " 50%|████████████████████████████████████████████████████                                                    | 5/10 [00:00<00:00,  5.82it/s]\u001b[A\n",
      " 70%|████████████████████████████████████████████████████████████████████████▊                               | 7/10 [00:01<00:00,  5.75it/s]\u001b[A\n",
      " 90%|█████████████████████████████████████████████████████████████████████████████████████████████▌          | 9/10 [00:01<00:00,  4.66it/s]\u001b[A\n",
      "100%|███████████████████████████████████████████████████████████████████████████████████████████████████████| 10/10 [00:02<00:00,  4.60it/s]\u001b[A"
     ]
    },
    {
     "name": "stdout",
     "output_type": "stream",
     "text": [
      "INFO:adomvi.scraper.google:Writing metadata file.\n"
     ]
    },
    {
     "name": "stderr",
     "output_type": "stream",
     "text": [
      "\n",
      "\n",
      " 50%|███████████████████████████████████████████████████▌                                                   | 24/48 [00:14<00:14,  1.66it/s]\u001b[A\n",
      " 52%|█████████████████████████████████████████████████████▋                                                 | 25/48 [00:14<00:13,  1.66it/s]\u001b[A"
     ]
    },
    {
     "name": "stdout",
     "output_type": "stream",
     "text": [
      "INFO:adomvi.scraper.google:Chrome web driver initialized. Page title for https://www.google.com: Google\n",
      "INFO:adomvi.scraper.google:Seaching images for ZBD-04\n"
     ]
    },
    {
     "name": "stderr",
     "output_type": "stream",
     "text": [
      " 52%|█████████████████████████████████████████████████████▋                                                 | 25/48 [00:15<00:14,  1.62it/s]"
     ]
    },
    {
     "name": "stdout",
     "output_type": "stream",
     "text": [
      "INFO:adomvi.scraper.google:Saving images to disk.\n"
     ]
    },
    {
     "name": "stderr",
     "output_type": "stream",
     "text": [
      "\n",
      " 10%|██████████▍                                                                                             | 1/10 [00:00<00:02,  4.00it/s]"
     ]
    },
    {
     "name": "stdout",
     "output_type": "stream",
     "text": [
      "INFO:adomvi.scraper.google:Clicking Images search button\n"
     ]
    },
    {
     "name": "stderr",
     "output_type": "stream",
     "text": [
      " 60%|██████████████████████████████████████████████████████████████▍                                         | 6/10 [00:01<00:01,  3.31it/s]"
     ]
    },
    {
     "name": "stdout",
     "output_type": "stream",
     "text": [
      "INFO:adomvi.scraper.google:Fetching thumbnails.\n",
      "INFO:adomvi.scraper.google:Found 50 thumbnails (50 new).\n"
     ]
    },
    {
     "name": "stderr",
     "output_type": "stream",
     "text": [
      "\n",
      "  0%|                                                                                                                | 0/50 [00:00<?, ?it/s]\u001b[A"
     ]
    },
    {
     "name": "stdout",
     "output_type": "stream",
     "text": [
      "WARNING:adomvi.scraper.google:Exception saving image https://i.redd.it/ch0qbfg3j0431.jpg\n",
      "Traceback (most recent call last):\n",
      "  File \"/Users/jonas/workspace/adomvi/adomvi/scraper/google.py\", line 195, in save_images\n",
      "    with Image.open(\n",
      "  File \"/Users/jonas/workspace/adomvi/.venv/lib/python3.10/site-packages/PIL/Image.py\", line 3280, in open\n",
      "    raise UnidentifiedImageError(msg)\n",
      "PIL.UnidentifiedImageError: cannot identify image file <_io.BytesIO object at 0x106960ea0>\n"
     ]
    },
    {
     "name": "stderr",
     "output_type": "stream",
     "text": [
      " 70%|████████████████████████████████████████████████████████████████████████▊                               | 7/10 [00:02<00:00,  3.07it/s]\n",
      " 80%|███████████████████████████████████████████████████████████████████████████████████▏                    | 8/10 [00:02<00:00,  3.24it/s]\u001b[A\n",
      "  4%|████▏                                                                                                   | 2/50 [00:01<00:28,  1.67it/s]\u001b[A\n",
      "100%|███████████████████████████████████████████████████████████████████████████████████████████████████████| 10/10 [00:03<00:00,  2.67it/s]\u001b[A"
     ]
    },
    {
     "name": "stdout",
     "output_type": "stream",
     "text": [
      "INFO:adomvi.scraper.google:Writing metadata file.\n"
     ]
    },
    {
     "name": "stderr",
     "output_type": "stream",
     "text": [
      "\n",
      "\n",
      "  8%|████████▎                                                                                               | 4/50 [00:02<00:27,  1.64it/s]\u001b[A\n",
      " 10%|██████████▍                                                                                             | 5/50 [00:03<00:27,  1.66it/s]\u001b[A"
     ]
    },
    {
     "name": "stdout",
     "output_type": "stream",
     "text": [
      "INFO:adomvi.scraper.google:Chrome web driver initialized. Page title for https://www.google.com: Google\n",
      "INFO:adomvi.scraper.google:Seaching images for Leclerc tank\n"
     ]
    },
    {
     "name": "stderr",
     "output_type": "stream",
     "text": [
      "\n",
      " 12%|████████████▍                                                                                           | 6/50 [00:03<00:26,  1.68it/s]\u001b[A"
     ]
    },
    {
     "name": "stdout",
     "output_type": "stream",
     "text": [
      "INFO:adomvi.scraper.google:Clicking Images search button\n"
     ]
    },
    {
     "name": "stderr",
     "output_type": "stream",
     "text": [
      "\n",
      " 14%|██████████████▌                                                                                         | 7/50 [00:04<00:25,  1.67it/s]\u001b[A\n",
      " 16%|████████████████▋                                                                                       | 8/50 [00:04<00:25,  1.67it/s]\u001b[A\n",
      " 18%|██████████████████▋                                                                                     | 9/50 [00:05<00:24,  1.68it/s]\u001b[A"
     ]
    },
    {
     "name": "stdout",
     "output_type": "stream",
     "text": [
      "INFO:adomvi.scraper.google:Fetching thumbnails.\n",
      "INFO:adomvi.scraper.google:Found 48 thumbnails (48 new).\n"
     ]
    },
    {
     "name": "stderr",
     "output_type": "stream",
     "text": [
      "  0%|                                                                                                                | 0/48 [00:00<?, ?it/s]\n",
      "  2%|██▏                                                                                                     | 1/48 [00:00<00:28,  1.65it/s]\u001b[A\n",
      "  4%|████▎                                                                                                   | 2/48 [00:01<00:28,  1.64it/s]\u001b[A\n",
      "  6%|██████▌                                                                                                 | 3/48 [00:01<00:26,  1.68it/s]\u001b[A\n",
      "  8%|████████▋                                                                                               | 4/48 [00:02<00:25,  1.71it/s]\u001b[A\n",
      " 10%|██████████▊                                                                                             | 5/48 [00:02<00:25,  1.71it/s]\u001b[A\n",
      " 12%|█████████████                                                                                           | 6/48 [00:03<00:24,  1.70it/s]\u001b[A\n",
      " 15%|███████████████▏                                                                                        | 7/48 [00:04<00:23,  1.72it/s]\u001b[A\n",
      " 17%|█████████████████▎                                                                                      | 8/48 [00:04<00:23,  1.73it/s]\u001b[A\n",
      " 19%|███████████████████▌                                                                                    | 9/48 [00:05<00:22,  1.74it/s]\u001b[A\n",
      " 21%|█████████████████████▍                                                                                 | 10/48 [00:05<00:21,  1.73it/s]\u001b[A\n",
      " 23%|███████████████████████▌                                                                               | 11/48 [00:06<00:21,  1.74it/s]\u001b[A\n",
      " 25%|█████████████████████████▊                                                                             | 12/48 [00:07<00:21,  1.71it/s]\u001b[A\n",
      " 27%|███████████████████████████▉                                                                           | 13/48 [00:07<00:20,  1.72it/s]\u001b[A\n",
      " 31%|████████████████████████████████▏                                                                      | 15/48 [00:08<00:19,  1.72it/s]\u001b[A\n",
      " 33%|██████████████████████████████████▎                                                                    | 16/48 [00:09<00:18,  1.71it/s]\u001b[A\n",
      " 35%|████████████████████████████████████▍                                                                  | 17/48 [00:09<00:18,  1.69it/s]\u001b[A\n",
      " 38%|██████████████████████████████████████▋                                                                | 18/48 [00:10<00:18,  1.66it/s]\u001b[A\n",
      " 54%|███████████████████████████████████████████████████████▌                                               | 27/50 [00:16<00:13,  1.66it/s]\u001b[A\n",
      " 56%|█████████████████████████████████████████████████████████▋                                             | 28/50 [00:17<00:13,  1.62it/s]\u001b[A"
     ]
    },
    {
     "name": "stdout",
     "output_type": "stream",
     "text": [
      "INFO:adomvi.scraper.google:Saving images to disk.\n"
     ]
    },
    {
     "name": "stderr",
     "output_type": "stream",
     "text": [
      "\n",
      "\n",
      " 42%|██████████████████████████████████████████▉                                                            | 20/48 [00:11<00:16,  1.65it/s]\u001b[A\n",
      " 10%|██████████▍                                                                                             | 1/10 [00:00<00:02,  3.31it/s]\u001b[A\n",
      " 44%|█████████████████████████████████████████████                                                          | 21/48 [00:12<00:16,  1.65it/s]\u001b[A\n",
      " 30%|███████████████████████████████▏                                                                        | 3/10 [00:00<00:01,  3.97it/s]\u001b[A\n",
      " 46%|███████████████████████████████████████████████▏                                                       | 22/48 [00:12<00:15,  1.66it/s]\u001b[A\n",
      " 48%|█████████████████████████████████████████████████▎                                                     | 23/48 [00:13<00:14,  1.67it/s]\u001b[A\n",
      " 70%|████████████████████████████████████████████████████████████████████████▊                               | 7/10 [00:01<00:00,  3.18it/s]\u001b[A\n",
      " 80%|███████████████████████████████████████████████████████████████████████████████████▏                    | 8/10 [00:02<00:00,  3.79it/s]\u001b[A\n",
      " 90%|█████████████████████████████████████████████████████████████████████████████████████████████▌          | 9/10 [00:02<00:00,  4.07it/s]\u001b[A\n",
      "100%|███████████████████████████████████████████████████████████████████████████████████████████████████████| 10/10 [00:02<00:00,  4.17it/s]\u001b[A"
     ]
    },
    {
     "name": "stdout",
     "output_type": "stream",
     "text": [
      "INFO:adomvi.scraper.google:Writing metadata file.\n"
     ]
    },
    {
     "name": "stderr",
     "output_type": "stream",
     "text": [
      "\n",
      " 54%|███████████████████████████████████████████████████████▊                                               | 26/48 [00:15<00:12,  1.71it/s]"
     ]
    },
    {
     "name": "stdout",
     "output_type": "stream",
     "text": [
      "INFO:adomvi.scraper.google:Chrome web driver initialized. Page title for https://www.google.com: Google\n",
      "INFO:adomvi.scraper.google:Seaching images for AMX 10 RC\n"
     ]
    },
    {
     "name": "stderr",
     "output_type": "stream",
     "text": [
      " 58%|████████████████████████████████████████████████████████████                                           | 28/48 [00:16<00:11,  1.71it/s]"
     ]
    },
    {
     "name": "stdout",
     "output_type": "stream",
     "text": [
      "INFO:adomvi.scraper.google:Clicking Images search button\n"
     ]
    },
    {
     "name": "stderr",
     "output_type": "stream",
     "text": [
      " 62%|████████████████████████████████████████████████████████████████▍                                      | 30/48 [00:17<00:10,  1.67it/s]"
     ]
    },
    {
     "name": "stdout",
     "output_type": "stream",
     "text": [
      "INFO:adomvi.scraper.google:Fetching thumbnails.\n",
      "INFO:adomvi.scraper.google:Found 48 thumbnails (48 new).\n"
     ]
    },
    {
     "name": "stderr",
     "output_type": "stream",
     "text": [
      "\n",
      " 65%|██████████████████████████████████████████████████████████████████▌                                    | 31/48 [00:18<00:10,  1.68it/s]\u001b[A\n",
      " 67%|████████████████████████████████████████████████████████████████████▋                                  | 32/48 [00:18<00:09,  1.69it/s]\u001b[A\n",
      " 69%|██████████████████████████████████████████████████████████████████████▊                                | 33/48 [00:19<00:08,  1.71it/s]\u001b[A\n",
      " 69%|██████████████████████████████████████████████████████████████████████▊                                | 33/48 [00:20<00:09,  1.65it/s]\u001b[A"
     ]
    },
    {
     "name": "stdout",
     "output_type": "stream",
     "text": [
      "INFO:adomvi.scraper.google:Saving images to disk.\n"
     ]
    },
    {
     "name": "stderr",
     "output_type": "stream",
     "text": [
      "\n",
      " 10%|██████████▍                                                                                             | 1/10 [00:00<00:02,  3.60it/s]\n",
      " 20%|████████████████████▊                                                                                   | 2/10 [00:00<00:03,  2.10it/s]\u001b[A\n",
      " 30%|███████████████████████████████▏                                                                        | 3/10 [00:01<00:03,  2.11it/s]\u001b[A\n",
      " 60%|██████████████████████████████████████████████████████████████▍                                         | 6/10 [00:02<00:01,  3.10it/s]\u001b[A\n",
      " 70%|████████████████████████████████████████████████████████████████████████▊                               | 7/10 [00:02<00:00,  3.06it/s]\u001b[A\n",
      " 90%|█████████████████████████████████████████████████████████████████████████████████████████████▌          | 9/10 [00:03<00:00,  2.90it/s]\u001b[A\n",
      "100%|███████████████████████████████████████████████████████████████████████████████████████████████████████| 10/10 [00:03<00:00,  2.61it/s]\u001b[A"
     ]
    },
    {
     "name": "stdout",
     "output_type": "stream",
     "text": [
      "INFO:adomvi.scraper.google:Writing metadata file.\n"
     ]
    },
    {
     "name": "stderr",
     "output_type": "stream",
     "text": [
      "\n",
      "\n",
      " 21%|█████████████████████▍                                                                                 | 10/48 [00:06<00:22,  1.65it/s]\u001b[A\n",
      " 23%|███████████████████████▌                                                                               | 11/48 [00:06<00:22,  1.68it/s]\u001b[A"
     ]
    },
    {
     "name": "stdout",
     "output_type": "stream",
     "text": [
      "INFO:adomvi.scraper.google:Chrome web driver initialized. Page title for https://www.google.com: Google\n",
      "INFO:adomvi.scraper.google:Seaching images for Leopard tank\n"
     ]
    },
    {
     "name": "stderr",
     "output_type": "stream",
     "text": [
      "\n",
      " 25%|█████████████████████████▊                                                                             | 12/48 [00:07<00:21,  1.70it/s]\u001b[A\n",
      " 27%|███████████████████████████▉                                                                           | 13/48 [00:07<00:20,  1.69it/s]\u001b[A\n",
      " 29%|██████████████████████████████                                                                         | 14/48 [00:08<00:20,  1.69it/s]\u001b[A"
     ]
    },
    {
     "name": "stdout",
     "output_type": "stream",
     "text": [
      "INFO:adomvi.scraper.google:Clicking Images search button\n"
     ]
    },
    {
     "name": "stderr",
     "output_type": "stream",
     "text": [
      "\n",
      " 31%|████████████████████████████████▏                                                                      | 15/48 [00:09<00:19,  1.69it/s]\u001b[A\n",
      " 33%|██████████████████████████████████▎                                                                    | 16/48 [00:09<00:18,  1.70it/s]\u001b[A"
     ]
    },
    {
     "name": "stdout",
     "output_type": "stream",
     "text": [
      "INFO:adomvi.scraper.google:Fetching thumbnails.\n",
      "INFO:adomvi.scraper.google:Found 48 thumbnails (48 new).\n"
     ]
    },
    {
     "name": "stderr",
     "output_type": "stream",
     "text": [
      "  0%|                                                                                                                | 0/48 [00:00<?, ?it/s]\n",
      "  2%|██▏                                                                                                     | 1/48 [00:00<00:28,  1.65it/s]\u001b[A\n",
      "  4%|████▎                                                                                                   | 2/48 [00:01<00:27,  1.67it/s]\u001b[A\n",
      "  6%|██████▌                                                                                                 | 3/48 [00:01<00:27,  1.66it/s]\u001b[A\n",
      "  8%|████████▋                                                                                               | 4/48 [00:02<00:26,  1.69it/s]\u001b[A\n",
      " 10%|██████████▊                                                                                             | 5/48 [00:02<00:25,  1.70it/s]\u001b[A\n",
      " 12%|█████████████                                                                                           | 6/48 [00:03<00:24,  1.70it/s]\u001b[A\n",
      " 48%|█████████████████████████████████████████████████▎                                                     | 23/48 [00:14<00:15,  1.61it/s]\u001b[A"
     ]
    },
    {
     "name": "stdout",
     "output_type": "stream",
     "text": [
      "INFO:adomvi.scraper.google:Saving images to disk.\n"
     ]
    },
    {
     "name": "stderr",
     "output_type": "stream",
     "text": [
      "\n",
      "\n",
      "  0%|                                                                                                                | 0/10 [00:00<?, ?it/s]\u001b[A\n",
      " 17%|█████████████████▎                                                                                      | 8/48 [00:04<00:23,  1.71it/s]\u001b[A\n",
      " 20%|████████████████████▊                                                                                   | 2/10 [00:00<00:02,  3.80it/s]\u001b[A\n",
      " 21%|█████████████████████▍                                                                                 | 10/48 [00:05<00:22,  1.68it/s]\u001b[A\n",
      " 40%|█████████████████████████████████████████▌                                                              | 4/10 [00:01<00:02,  2.37it/s]\u001b[A\n",
      " 23%|███████████████████████▌                                                                               | 11/48 [00:06<00:21,  1.69it/s]\u001b[A\n",
      " 60%|██████████████████████████████████████████████████████████████▍                                         | 6/10 [00:02<00:01,  2.70it/s]\u001b[A\n",
      " 25%|█████████████████████████▊                                                                             | 12/48 [00:07<00:21,  1.70it/s]\u001b[A\n",
      " 27%|███████████████████████████▉                                                                           | 13/48 [00:07<00:20,  1.70it/s]\u001b[A\n",
      " 29%|██████████████████████████████                                                                         | 14/48 [00:08<00:19,  1.70it/s]\u001b[A\n",
      "100%|███████████████████████████████████████████████████████████████████████████████████████████████████████| 10/10 [00:04<00:00,  2.31it/s]\u001b[A"
     ]
    },
    {
     "name": "stdout",
     "output_type": "stream",
     "text": [
      "INFO:adomvi.scraper.google:Writing metadata file.\n"
     ]
    },
    {
     "name": "stderr",
     "output_type": "stream",
     "text": [
      "\n",
      " 60%|██████████████████████████████████████████████████████████████▏                                        | 29/48 [00:17<00:11,  1.65it/s]"
     ]
    },
    {
     "name": "stdout",
     "output_type": "stream",
     "text": [
      "INFO:adomvi.scraper.google:Saving images to disk.\n"
     ]
    },
    {
     "name": "stderr",
     "output_type": "stream",
     "text": [
      "\n",
      "  0%|                                                                                                                | 0/10 [00:00<?, ?it/s]"
     ]
    },
    {
     "name": "stdout",
     "output_type": "stream",
     "text": [
      "WARNING:adomvi.scraper.google:Exception saving image https://www.defensenews.com/resizer/sbYLeqss2ZUpS_HD3PGrr09Jz2s=/arc-photo-archetype/arc3-prod/public/OIFRAG2XKFDPPKI5KVUURA5474.jpg\n",
      "Traceback (most recent call last):\n",
      "  File \"/Users/jonas/workspace/adomvi/adomvi/scraper/google.py\", line 195, in save_images\n",
      "    with Image.open(\n",
      "  File \"/Users/jonas/workspace/adomvi/.venv/lib/python3.10/site-packages/PIL/Image.py\", line 3280, in open\n",
      "    raise UnidentifiedImageError(msg)\n",
      "PIL.UnidentifiedImageError: cannot identify image file <_io.BytesIO object at 0x1057e31f0>\n"
     ]
    },
    {
     "name": "stderr",
     "output_type": "stream",
     "text": [
      " 20%|████████████████████▊                                                                                   | 2/10 [00:00<00:02,  3.59it/s]"
     ]
    },
    {
     "name": "stdout",
     "output_type": "stream",
     "text": [
      "WARNING:adomvi.scraper.google:Exception saving image https://www.politico.eu/cdn-cgi/image/width=1160,height=723,quality=80,onerror=redirect,format=auto/wp-content/uploads/2023/01/12/GettyImages-1240615013-scaled.jpg\n",
      "Traceback (most recent call last):\n",
      "  File \"/Users/jonas/workspace/adomvi/adomvi/scraper/google.py\", line 195, in save_images\n",
      "    with Image.open(\n",
      "  File \"/Users/jonas/workspace/adomvi/.venv/lib/python3.10/site-packages/PIL/Image.py\", line 3280, in open\n",
      "    raise UnidentifiedImageError(msg)\n",
      "PIL.UnidentifiedImageError: cannot identify image file <_io.BytesIO object at 0x10579c310>\n"
     ]
    },
    {
     "name": "stderr",
     "output_type": "stream",
     "text": [
      " 50%|████████████████████████████████████████████████████                                                    | 5/10 [00:02<00:02,  1.90it/s]"
     ]
    },
    {
     "name": "stdout",
     "output_type": "stream",
     "text": [
      "WARNING:adomvi.scraper.google:Exception saving image https://onecms-res.cloudinary.com/image/upload/s--08VW56SF--/f_auto,q_auto/v1/mediacorp/cna/image/2023/01/25/20230120-leopard-2.png?itok=TnEijKCz\n",
      "Traceback (most recent call last):\n",
      "  File \"/Users/jonas/workspace/adomvi/adomvi/scraper/google.py\", line 195, in save_images\n",
      "    with Image.open(\n",
      "  File \"/Users/jonas/workspace/adomvi/.venv/lib/python3.10/site-packages/PIL/Image.py\", line 3280, in open\n",
      "    raise UnidentifiedImageError(msg)\n",
      "PIL.UnidentifiedImageError: cannot identify image file <_io.BytesIO object at 0x105802cf0>\n"
     ]
    },
    {
     "name": "stderr",
     "output_type": "stream",
     "text": [
      "100%|███████████████████████████████████████████████████████████████████████████████████████████████████████| 10/10 [00:03<00:00,  3.11it/s]"
     ]
    },
    {
     "name": "stdout",
     "output_type": "stream",
     "text": [
      "INFO:adomvi.scraper.google:Writing metadata file.\n"
     ]
    },
    {
     "name": "stderr",
     "output_type": "stream",
     "text": [
      "\n"
     ]
    },
    {
     "name": "stdout",
     "output_type": "stream",
     "text": [
      "INFO:adomvi.scraper.google:Chrome web driver initialized. Page title for https://www.google.com: Google\n",
      "INFO:adomvi.scraper.google:Seaching images for T-72\n",
      "INFO:adomvi.scraper.google:Chrome web driver initialized. Page title for https://www.google.com: Google\n",
      "INFO:adomvi.scraper.google:Seaching images for T-90\n",
      "INFO:adomvi.scraper.google:Clicking Images search button\n",
      "INFO:adomvi.scraper.google:Clicking Images search button\n",
      "INFO:adomvi.scraper.google:Fetching thumbnails.\n",
      "INFO:adomvi.scraper.google:Found 48 thumbnails (48 new).\n"
     ]
    },
    {
     "name": "stderr",
     "output_type": "stream",
     "text": [
      "  0%|                                                                                                                | 0/48 [00:00<?, ?it/s]"
     ]
    },
    {
     "name": "stdout",
     "output_type": "stream",
     "text": [
      "INFO:adomvi.scraper.google:Fetching thumbnails.\n",
      "INFO:adomvi.scraper.google:Found 48 thumbnails (48 new).\n"
     ]
    },
    {
     "name": "stderr",
     "output_type": "stream",
     "text": [
      "\n",
      "  2%|██▏                                                                                                     | 1/48 [00:00<00:30,  1.55it/s]\u001b[A\n",
      "  4%|████▎                                                                                                   | 2/48 [00:01<00:29,  1.57it/s]\u001b[A\n",
      "  6%|██████▌                                                                                                 | 3/48 [00:01<00:28,  1.59it/s]\u001b[A\n",
      "  8%|████████▋                                                                                               | 4/48 [00:02<00:26,  1.64it/s]\u001b[A\n",
      " 10%|██████████▊                                                                                             | 5/48 [00:03<00:26,  1.64it/s]\u001b[A\n",
      " 12%|█████████████                                                                                           | 6/48 [00:03<00:25,  1.67it/s]\u001b[A\n",
      " 15%|███████████████▏                                                                                        | 7/48 [00:04<00:24,  1.67it/s]\u001b[A\n",
      " 17%|█████████████████▎                                                                                      | 8/48 [00:04<00:24,  1.66it/s]\u001b[A\n",
      " 19%|███████████████████▌                                                                                    | 9/48 [00:05<00:23,  1.69it/s]\u001b[A\n",
      " 21%|█████████████████████▍                                                                                 | 10/48 [00:06<00:22,  1.68it/s]\u001b[A\n",
      " 23%|███████████████████████▌                                                                               | 11/48 [00:06<00:21,  1.70it/s]\u001b[A\n",
      " 25%|█████████████████████████▊                                                                             | 12/48 [00:07<00:21,  1.71it/s]\u001b[A\n",
      " 27%|███████████████████████████▉                                                                           | 13/48 [00:07<00:20,  1.71it/s]\u001b[A\n",
      " 29%|██████████████████████████████                                                                         | 14/48 [00:08<00:19,  1.72it/s]\u001b[A\n",
      " 31%|████████████████████████████████▏                                                                      | 15/48 [00:08<00:19,  1.72it/s]\u001b[A\n",
      " 33%|██████████████████████████████████▎                                                                    | 16/48 [00:09<00:18,  1.71it/s]\u001b[A\n",
      " 35%|████████████████████████████████████▍                                                                  | 17/48 [00:10<00:18,  1.69it/s]\u001b[A\n",
      " 38%|██████████████████████████████████████▋                                                                | 18/48 [00:10<00:17,  1.71it/s]\u001b[A\n",
      " 40%|████████████████████████████████████████▊                                                              | 19/48 [00:11<00:16,  1.71it/s]\u001b[A\n",
      " 42%|██████████████████████████████████████████▉                                                            | 20/48 [00:11<00:16,  1.69it/s]\u001b[A\n",
      " 44%|█████████████████████████████████████████████                                                          | 21/48 [00:12<00:16,  1.67it/s]\u001b[A\n",
      " 44%|█████████████████████████████████████████████                                                          | 21/48 [00:13<00:16,  1.61it/s]\u001b[A"
     ]
    },
    {
     "name": "stdout",
     "output_type": "stream",
     "text": [
      "INFO:adomvi.scraper.google:Saving images to disk.\n"
     ]
    },
    {
     "name": "stderr",
     "output_type": "stream",
     "text": [
      "\n",
      "\n",
      "  0%|                                                                                                                | 0/10 [00:00<?, ?it/s]\u001b[A\n",
      " 48%|█████████████████████████████████████████████████▎                                                     | 23/48 [00:13<00:14,  1.69it/s]\u001b[A\n",
      " 20%|████████████████████▊                                                                                   | 2/10 [00:00<00:01,  4.49it/s]\u001b[A\n",
      " 30%|███████████████████████████████▏                                                                        | 3/10 [00:00<00:01,  4.21it/s]\u001b[A\n",
      " 50%|███████████████████████████████████████████████████▌                                                   | 24/48 [00:14<00:14,  1.68it/s]\u001b[A\n",
      " 50%|████████████████████████████████████████████████████                                                    | 5/10 [00:01<00:01,  4.61it/s]\u001b[A\n",
      " 52%|█████████████████████████████████████████████████████▋                                                 | 25/48 [00:14<00:13,  1.69it/s]\u001b[A\n",
      " 54%|███████████████████████████████████████████████████████▊                                               | 26/48 [00:15<00:13,  1.65it/s]\u001b[A\n",
      " 58%|████████████████████████████████████████████████████████████                                           | 28/48 [00:16<00:12,  1.63it/s]\u001b[A\n",
      " 60%|██████████████████████████████████████████████████████████████▏                                        | 29/48 [00:17<00:11,  1.66it/s]\u001b[A\n",
      "100%|███████████████████████████████████████████████████████████████████████████████████████████████████████| 10/10 [00:04<00:00,  2.39it/s]\u001b[A"
     ]
    },
    {
     "name": "stdout",
     "output_type": "stream",
     "text": [
      "INFO:adomvi.scraper.google:Writing metadata file.\n"
     ]
    },
    {
     "name": "stderr",
     "output_type": "stream",
     "text": [
      "\n",
      " 62%|████████████████████████████████████████████████████████████████▍                                      | 30/48 [00:18<00:11,  1.62it/s]"
     ]
    },
    {
     "name": "stdout",
     "output_type": "stream",
     "text": [
      "INFO:adomvi.scraper.google:Saving images to disk.\n"
     ]
    },
    {
     "name": "stderr",
     "output_type": "stream",
     "text": [
      "\n",
      " 10%|██████████▍                                                                                             | 1/10 [00:00<00:02,  3.06it/s]"
     ]
    },
    {
     "name": "stdout",
     "output_type": "stream",
     "text": [
      "INFO:adomvi.scraper.google:Chrome web driver initialized. Page title for https://www.google.com: Google\n",
      "INFO:adomvi.scraper.google:Seaching images for challenger tank\n"
     ]
    },
    {
     "name": "stderr",
     "output_type": "stream",
     "text": [
      " 40%|█████████████████████████████████████████▌                                                              | 4/10 [00:01<00:02,  2.56it/s]"
     ]
    },
    {
     "name": "stdout",
     "output_type": "stream",
     "text": [
      "INFO:adomvi.scraper.google:Clicking Images search button\n"
     ]
    },
    {
     "name": "stderr",
     "output_type": "stream",
     "text": [
      " 70%|████████████████████████████████████████████████████████████████████████▊                               | 7/10 [00:03<00:01,  2.10it/s]"
     ]
    },
    {
     "name": "stdout",
     "output_type": "stream",
     "text": [
      "INFO:adomvi.scraper.google:Fetching thumbnails.\n",
      "INFO:adomvi.scraper.google:Found 48 thumbnails (48 new).\n"
     ]
    },
    {
     "name": "stderr",
     "output_type": "stream",
     "text": [
      "\n",
      " 90%|█████████████████████████████████████████████████████████████████████████████████████████████▌          | 9/10 [00:03<00:00,  2.85it/s]\u001b[A\n",
      "100%|███████████████████████████████████████████████████████████████████████████████████████████████████████| 10/10 [00:04<00:00,  2.40it/s]\u001b[A"
     ]
    },
    {
     "name": "stdout",
     "output_type": "stream",
     "text": [
      "INFO:adomvi.scraper.google:Writing metadata file.\n"
     ]
    },
    {
     "name": "stderr",
     "output_type": "stream",
     "text": [
      "\n",
      "\n",
      "  4%|████▎                                                                                                   | 2/48 [00:01<00:28,  1.62it/s]\u001b[A\n",
      "  6%|██████▌                                                                                                 | 3/48 [00:01<00:27,  1.64it/s]\u001b[A\n",
      "  8%|████████▋                                                                                               | 4/48 [00:02<00:26,  1.67it/s]\u001b[A"
     ]
    },
    {
     "name": "stdout",
     "output_type": "stream",
     "text": [
      "INFO:adomvi.scraper.google:Chrome web driver initialized. Page title for https://www.google.com: Google\n",
      "INFO:adomvi.scraper.google:Seaching images for M1 abrams\n"
     ]
    },
    {
     "name": "stderr",
     "output_type": "stream",
     "text": [
      "\n",
      " 10%|██████████▊                                                                                             | 5/48 [00:03<00:25,  1.68it/s]\u001b[A"
     ]
    },
    {
     "name": "stdout",
     "output_type": "stream",
     "text": [
      "INFO:adomvi.scraper.google:Clicking Images search button\n"
     ]
    },
    {
     "name": "stderr",
     "output_type": "stream",
     "text": [
      "\n",
      " 12%|█████████████                                                                                           | 6/48 [00:03<00:25,  1.66it/s]\u001b[A\n",
      " 15%|███████████████▏                                                                                        | 7/48 [00:04<00:24,  1.67it/s]\u001b[A\n",
      " 17%|█████████████████▎                                                                                      | 8/48 [00:04<00:23,  1.69it/s]\u001b[A"
     ]
    },
    {
     "name": "stdout",
     "output_type": "stream",
     "text": [
      "INFO:adomvi.scraper.google:Fetching thumbnails.\n",
      "INFO:adomvi.scraper.google:Found 48 thumbnails (48 new).\n"
     ]
    },
    {
     "name": "stderr",
     "output_type": "stream",
     "text": [
      "  0%|                                                                                                                | 0/48 [00:00<?, ?it/s]\n",
      "  2%|██▏                                                                                                     | 1/48 [00:00<00:29,  1.61it/s]\u001b[A\n",
      "  4%|████▎                                                                                                   | 2/48 [00:01<00:28,  1.63it/s]\u001b[A\n",
      "  6%|██████▌                                                                                                 | 3/48 [00:01<00:27,  1.66it/s]\u001b[A\n",
      "  8%|████████▋                                                                                               | 4/48 [00:02<00:25,  1.70it/s]\u001b[A\n",
      " 10%|██████████▊                                                                                             | 5/48 [00:02<00:25,  1.70it/s]\u001b[A\n",
      " 12%|█████████████                                                                                           | 6/48 [00:03<00:24,  1.68it/s]\u001b[A\n",
      " 15%|███████████████▏                                                                                        | 7/48 [00:04<00:24,  1.67it/s]\u001b[A\n",
      " 17%|█████████████████▎                                                                                      | 8/48 [00:04<00:23,  1.69it/s]\u001b[A\n",
      " 19%|███████████████████▌                                                                                    | 9/48 [00:05<00:23,  1.68it/s]\u001b[A\n",
      " 21%|█████████████████████▍                                                                                 | 10/48 [00:05<00:22,  1.67it/s]\u001b[A\n",
      " 23%|███████████████████████▌                                                                               | 11/48 [00:06<00:22,  1.67it/s]\u001b[A\n",
      " 25%|█████████████████████████▊                                                                             | 12/48 [00:07<00:21,  1.70it/s]\u001b[A\n",
      " 27%|███████████████████████████▉                                                                           | 13/48 [00:07<00:20,  1.69it/s]\u001b[A\n",
      " 29%|██████████████████████████████                                                                         | 14/48 [00:08<00:19,  1.71it/s]\u001b[A\n",
      " 31%|████████████████████████████████▏                                                                      | 15/48 [00:08<00:19,  1.69it/s]\u001b[A\n",
      " 33%|██████████████████████████████████▎                                                                    | 16/48 [00:09<00:18,  1.70it/s]\u001b[A\n",
      " 52%|█████████████████████████████████████████████████████▋                                                 | 25/48 [00:15<00:14,  1.63it/s]\u001b[A"
     ]
    },
    {
     "name": "stdout",
     "output_type": "stream",
     "text": [
      "INFO:adomvi.scraper.google:Saving images to disk.\n"
     ]
    },
    {
     "name": "stderr",
     "output_type": "stream",
     "text": [
      "\n",
      "\n",
      "  0%|                                                                                                                | 0/10 [00:00<?, ?it/s]\u001b[A\n",
      " 38%|██████████████████████████████████████▋                                                                | 18/48 [00:10<00:17,  1.72it/s]\u001b[A\n",
      " 20%|████████████████████▊                                                                                   | 2/10 [00:00<00:02,  3.21it/s]\u001b[A\n",
      " 40%|████████████████████████████████████████▊                                                              | 19/48 [00:11<00:16,  1.73it/s]\u001b[A\n",
      " 42%|██████████████████████████████████████████▉                                                            | 20/48 [00:11<00:16,  1.71it/s]\u001b[A\n",
      " 50%|████████████████████████████████████████████████████                                                    | 5/10 [00:01<00:01,  3.12it/s]\u001b[A\n",
      " 60%|██████████████████████████████████████████████████████████████▍                                         | 6/10 [00:01<00:01,  3.41it/s]\u001b[A\n",
      " 44%|█████████████████████████████████████████████                                                          | 21/48 [00:12<00:16,  1.68it/s]\u001b[A\n",
      " 80%|███████████████████████████████████████████████████████████████████████████████████▏                    | 8/10 [00:02<00:00,  3.63it/s]\u001b[A\n",
      " 90%|█████████████████████████████████████████████████████████████████████████████████████████████▌          | 9/10 [00:02<00:00,  4.19it/s]\u001b[A\n",
      "100%|███████████████████████████████████████████████████████████████████████████████████████████████████████| 10/10 [00:02<00:00,  3.80it/s]\u001b[A"
     ]
    },
    {
     "name": "stdout",
     "output_type": "stream",
     "text": [
      "INFO:adomvi.scraper.google:Writing metadata file.\n"
     ]
    },
    {
     "name": "stderr",
     "output_type": "stream",
     "text": [
      "\n",
      " 48%|█████████████████████████████████████████████████▎                                                     | 23/48 [00:14<00:15,  1.61it/s]"
     ]
    },
    {
     "name": "stdout",
     "output_type": "stream",
     "text": [
      "INFO:adomvi.scraper.google:Saving images to disk.\n"
     ]
    },
    {
     "name": "stderr",
     "output_type": "stream",
     "text": [
      "\n",
      "100%|███████████████████████████████████████████████████████████████████████████████████████████████████████| 10/10 [00:03<00:00,  2.66it/s]"
     ]
    },
    {
     "name": "stdout",
     "output_type": "stream",
     "text": [
      "INFO:adomvi.scraper.google:Writing metadata file.\n"
     ]
    },
    {
     "name": "stderr",
     "output_type": "stream",
     "text": [
      "\n"
     ]
    }
   ],
   "source": [
    "from concurrent.futures import ThreadPoolExecutor\n",
    "from itertools import repeat\n",
    "\n",
    "with ThreadPoolExecutor(max_workers=2) as executor:\n",
    "    executor.map(worker_thread, repeat(\"AFV\"), AFV)"
   ]
  },
  {
   "cell_type": "markdown",
   "id": "52bcbd94-213f-4b50-aa0f-2c1b4b6021ed",
   "metadata": {},
   "source": [
    "## Annotate the dataset\n",
    "\n",
    "To annotate the dataset, use a tool like [CVAT](https://app.cvat.ai/)."
   ]
  },
  {
   "cell_type": "markdown",
   "id": "6c34d776-1818-48da-8c02-d12a05281901",
   "metadata": {},
   "source": [
    "## Load the dataset"
   ]
  },
  {
   "cell_type": "markdown",
   "id": "7404a711-c69a-4b71-974f-306ed10cc8d5",
   "metadata": {},
   "source": [
    "We provide a sample annotated dataset with 4 classes (*AFV*, *APC*, *LAV* & *MEV*). You can download the dataset from [here](https://github.com/jonasrenault/adomvi/releases/download/v1.2.0/military-vehicles-dataset.tar.gz) and extract it into the `resources` directory. We'll use fiftyone to load and preview the dataset."
   ]
  },
  {
   "cell_type": "code",
   "execution_count": 1,
   "id": "cbc034f4-4a04-4e1e-804c-e3449a5bb208",
   "metadata": {},
   "outputs": [
    {
     "name": "stdout",
     "output_type": "stream",
     "text": [
      "Images file '/home/jrenault/workspace/adomvi/resources/dataset/images.txt' not found. Listing data directory '/home/jrenault/workspace/adomvi/resources/dataset/data/' instead\n",
      " 100% |█████████████████| 669/669 [447.3ms elapsed, 0s remaining, 1.5K samples/s]       \n"
     ]
    }
   ],
   "source": [
    "import fiftyone as fo\n",
    "\n",
    "name = \"google-military-vehicles\"\n",
    "dataset_dir = \"../resources/dataset\"\n",
    "\n",
    "# Create the dataset\n",
    "dataset = fo.Dataset.from_dir(\n",
    "    dataset_dir=dataset_dir,\n",
    "    dataset_type=fo.types.YOLOv4Dataset,\n",
    "    name=name,\n",
    ")"
   ]
  },
  {
   "cell_type": "code",
   "execution_count": null,
   "id": "fe762f6b-5a10-474a-a84b-48d4efe29240",
   "metadata": {},
   "outputs": [],
   "source": [
    "session = fo.launch_app(dataset, remote=True)"
   ]
  },
  {
   "cell_type": "markdown",
   "id": "5472dc31-18ad-41dc-822e-5faf5990b407",
   "metadata": {},
   "source": [
    "## Train a yolov8 model with just the google dataset"
   ]
  },
  {
   "cell_type": "markdown",
   "id": "d5e96727-07fb-483a-abb5-1ecddc52c19c",
   "metadata": {},
   "source": [
    "To start with, we'll train a yolov8 model using only our newly created dataset. The following methods will split the dataset into train, test and val splits and export it into a folder in yolo format for training."
   ]
  },
  {
   "cell_type": "code",
   "execution_count": 3,
   "id": "905e2ae9-7714-4a17-a3fc-5ac78be2d49f",
   "metadata": {},
   "outputs": [],
   "source": [
    "import fiftyone.utils.random as four\n",
    "\n",
    "## delete existing tags to start fresh\n",
    "dataset.untag_samples(dataset.distinct(\"tags\"))\n",
    "\n",
    "## split into train, test and val\n",
    "four.random_split(\n",
    "    dataset,\n",
    "    {\"train\": 0.8, \"val\": 0.1, \"test\": 0.1}\n",
    ")"
   ]
  },
  {
   "cell_type": "code",
   "execution_count": 4,
   "id": "d349d2a0-41bf-4aea-a24e-bac0aca6745d",
   "metadata": {},
   "outputs": [],
   "source": [
    "def export_yolo_data(\n",
    "    samples, \n",
    "    export_dir, \n",
    "    classes, \n",
    "    label_field = \"ground_truth\", \n",
    "    split = None\n",
    "    ):\n",
    "\n",
    "    if type(split) == list:\n",
    "        splits = split\n",
    "        for split in splits:\n",
    "            export_yolo_data(\n",
    "                samples, \n",
    "                export_dir, \n",
    "                classes, \n",
    "                label_field, \n",
    "                split\n",
    "            )   \n",
    "    else:\n",
    "        if split is None:\n",
    "            split_view = samples\n",
    "            split = \"val\"\n",
    "        else:\n",
    "            split_view = samples.match_tags(split)\n",
    "\n",
    "        split_view.export(\n",
    "            export_dir=export_dir,\n",
    "            dataset_type=fo.types.YOLOv5Dataset,\n",
    "            label_field=label_field,\n",
    "            classes=classes,\n",
    "            split=split\n",
    "        )"
   ]
  },
  {
   "cell_type": "code",
   "execution_count": 5,
   "id": "93893932-2158-450f-b4e0-f0ffa704066f",
   "metadata": {},
   "outputs": [
    {
     "name": "stdout",
     "output_type": "stream",
     "text": []
    },
    {
     "name": "stdout",
     "output_type": "stream",
     "text": [
      " 100% |█████████████████| 535/535 [299.4ms elapsed, 0s remaining, 1.8K samples/s]      \n",
      "Directory 'google_vehicles' already exists; export will be merged with existing files\n",
      " 100% |███████████████████| 67/67 [40.0ms elapsed, 0s remaining, 1.7K samples/s] \n",
      "Directory 'google_vehicles' already exists; export will be merged with existing files\n",
      " 100% |███████████████████| 67/67 [40.1ms elapsed, 0s remaining, 1.7K samples/s] \n"
     ]
    }
   ],
   "source": [
    "## export in YOLO format\n",
    "export_yolo_data(\n",
    "    dataset, \n",
    "    \"google_vehicles\", \n",
    "    [\"AFV\", \"APC\", \"MEV\", \"LAV\"], \n",
    "    split = [\"train\", \"val\", \"test\"]\n",
    ")"
   ]
  },
  {
   "cell_type": "markdown",
   "id": "7bcd612f-f4c6-457c-a154-e66df607adb1",
   "metadata": {},
   "source": [
    "We can now train our model. We'll use a `yolov8-large` model as our base and finetune it on 100 epochs."
   ]
  },
  {
   "cell_type": "code",
   "execution_count": 6,
   "id": "7d198c7b-4781-4582-b63f-54874828907e",
   "metadata": {},
   "outputs": [
    {
     "name": "stdout",
     "output_type": "stream",
     "text": [
      "Ultralytics YOLOv8.0.124 🚀 Python-3.11.4 torch-2.0.1+cu117 CUDA:0 (NVIDIA RTX A6000, 48655MiB)\n",
      "\u001b[34m\u001b[1myolo/engine/trainer: \u001b[0mtask=detect, mode=train, model=yolov8l.pt, data=google_vehicles/dataset.yaml, epochs=100, patience=50, batch=16, imgsz=640, save=True, save_period=-1, cache=False, device=None, workers=8, project=None, name=None, exist_ok=False, pretrained=True, optimizer=auto, verbose=True, seed=0, deterministic=True, single_cls=False, rect=False, cos_lr=False, close_mosaic=0, resume=False, amp=True, fraction=1.0, profile=False, overlap_mask=True, mask_ratio=4, dropout=0.0, val=True, split=val, save_json=False, save_hybrid=False, conf=None, iou=0.7, max_det=300, half=False, dnn=False, plots=True, source=None, show=False, save_txt=False, save_conf=False, save_crop=False, show_labels=True, show_conf=True, vid_stride=1, line_width=None, visualize=False, augment=False, agnostic_nms=False, classes=None, retina_masks=False, boxes=True, format=torchscript, keras=False, optimize=False, int8=False, dynamic=False, simplify=False, opset=None, workspace=4, nms=False, lr0=0.01, lrf=0.01, momentum=0.937, weight_decay=0.0005, warmup_epochs=3.0, warmup_momentum=0.8, warmup_bias_lr=0.1, box=7.5, cls=0.5, dfl=1.5, pose=12.0, kobj=1.0, label_smoothing=0.0, nbs=64, hsv_h=0.015, hsv_s=0.7, hsv_v=0.4, degrees=0.0, translate=0.1, scale=0.5, shear=0.0, perspective=0.0, flipud=0.0, fliplr=0.5, mosaic=1.0, mixup=0.0, copy_paste=0.0, cfg=None, v5loader=False, tracker=botsort.yaml, save_dir=runs/detect/train3\n",
      "Overriding model.yaml nc=80 with nc=4\n",
      "\n",
      "                   from  n    params  module                                       arguments                     \n",
      "  0                  -1  1      1856  ultralytics.nn.modules.conv.Conv             [3, 64, 3, 2]                 \n",
      "  1                  -1  1     73984  ultralytics.nn.modules.conv.Conv             [64, 128, 3, 2]               \n",
      "  2                  -1  3    279808  ultralytics.nn.modules.block.C2f             [128, 128, 3, True]           \n",
      "  3                  -1  1    295424  ultralytics.nn.modules.conv.Conv             [128, 256, 3, 2]              \n",
      "  4                  -1  6   2101248  ultralytics.nn.modules.block.C2f             [256, 256, 6, True]           \n",
      "  5                  -1  1   1180672  ultralytics.nn.modules.conv.Conv             [256, 512, 3, 2]              \n",
      "  6                  -1  6   8396800  ultralytics.nn.modules.block.C2f             [512, 512, 6, True]           \n",
      "  7                  -1  1   2360320  ultralytics.nn.modules.conv.Conv             [512, 512, 3, 2]              \n",
      "  8                  -1  3   4461568  ultralytics.nn.modules.block.C2f             [512, 512, 3, True]           \n",
      "  9                  -1  1    656896  ultralytics.nn.modules.block.SPPF            [512, 512, 5]                 \n",
      " 10                  -1  1         0  torch.nn.modules.upsampling.Upsample         [None, 2, 'nearest']          \n",
      " 11             [-1, 6]  1         0  ultralytics.nn.modules.conv.Concat           [1]                           \n",
      " 12                  -1  3   4723712  ultralytics.nn.modules.block.C2f             [1024, 512, 3]                \n",
      " 13                  -1  1         0  torch.nn.modules.upsampling.Upsample         [None, 2, 'nearest']          \n",
      " 14             [-1, 4]  1         0  ultralytics.nn.modules.conv.Concat           [1]                           \n",
      " 15                  -1  3   1247744  ultralytics.nn.modules.block.C2f             [768, 256, 3]                 \n",
      " 16                  -1  1    590336  ultralytics.nn.modules.conv.Conv             [256, 256, 3, 2]              \n",
      " 17            [-1, 12]  1         0  ultralytics.nn.modules.conv.Concat           [1]                           \n",
      " 18                  -1  3   4592640  ultralytics.nn.modules.block.C2f             [768, 512, 3]                 \n",
      " 19                  -1  1   2360320  ultralytics.nn.modules.conv.Conv             [512, 512, 3, 2]              \n",
      " 20             [-1, 9]  1         0  ultralytics.nn.modules.conv.Concat           [1]                           \n",
      " 21                  -1  3   4723712  ultralytics.nn.modules.block.C2f             [1024, 512, 3]                \n",
      " 22        [15, 18, 21]  1   5585884  ultralytics.nn.modules.head.Detect           [4, [256, 512, 512]]          \n",
      "Model summary: 365 layers, 43632924 parameters, 43632908 gradients\n",
      "\n",
      "Transferred 589/595 items from pretrained weights\n",
      "\u001b[34m\u001b[1mTensorBoard: \u001b[0mStart with 'tensorboard --logdir runs/detect/train3', view at http://localhost:6006/\n",
      "\u001b[34m\u001b[1mAMP: \u001b[0mrunning Automatic Mixed Precision (AMP) checks with YOLOv8n...\n",
      "\u001b[34m\u001b[1mAMP: \u001b[0mchecks passed ✅\n",
      "\u001b[34m\u001b[1mtrain: \u001b[0mScanning /home/jrenault/workspace/adomvi/adomvi/google_vehicles/labels/tr\u001b[0m\n",
      "\u001b[34m\u001b[1mtrain: \u001b[0mNew cache created: /home/jrenault/workspace/adomvi/adomvi/google_vehicles/labels/train.cache\n",
      "\u001b[34m\u001b[1mval: \u001b[0mScanning /home/jrenault/workspace/adomvi/adomvi/google_vehicles/labels/val.\u001b[0m\n",
      "\u001b[34m\u001b[1mval: \u001b[0mNew cache created: /home/jrenault/workspace/adomvi/adomvi/google_vehicles/labels/val.cache\n",
      "Plotting labels to runs/detect/train3/labels.jpg... \n",
      "/home/jrenault/mambaforge/envs/adomvi/lib/python3.11/site-packages/seaborn/axisgrid.py:118: UserWarning: The figure layout has changed to tight\n",
      "  self._figure.tight_layout(*args, **kwargs)\n",
      "\u001b[34m\u001b[1moptimizer:\u001b[0m AdamW(lr=0.00125, momentum=0.9) with parameter groups 97 weight(decay=0.0), 104 weight(decay=0.0005), 103 bias(decay=0.0)\n",
      "Image sizes 640 train, 640 val\n",
      "Using 8 dataloader workers\n",
      "Logging results to \u001b[1mruns/detect/train3\u001b[0m\n",
      "Starting training for 100 epochs...\n",
      "\n",
      "      Epoch    GPU_mem   box_loss   cls_loss   dfl_loss  Instances       Size\n",
      "      1/100      9.56G     0.9831      2.454      1.457         23        640: 1\n",
      "                 Class     Images  Instances      Box(P          R      mAP50  m\n",
      "                   all         67         75     0.0352      0.525     0.0304     0.0134\n",
      "\n",
      "      Epoch    GPU_mem   box_loss   cls_loss   dfl_loss  Instances       Size\n",
      "      2/100      9.77G      1.224      2.027      1.598         23        640: 1\n",
      "                 Class     Images  Instances      Box(P          R      mAP50  m\n",
      "                   all         67         75     0.0402      0.119     0.0157    0.00602\n",
      "\n",
      "      Epoch    GPU_mem   box_loss   cls_loss   dfl_loss  Instances       Size\n",
      "      3/100      9.81G      1.398      2.339      1.721         23        640: 1\n",
      "                 Class     Images  Instances      Box(P          R      mAP50  m\n",
      "                   all         67         75     0.0151      0.297     0.0186    0.00693\n",
      "\n",
      "      Epoch    GPU_mem   box_loss   cls_loss   dfl_loss  Instances       Size\n",
      "      4/100      9.83G      1.416      2.049      1.722         28        640: 1\n",
      "                 Class     Images  Instances      Box(P          R      mAP50  m\n",
      "                   all         67         75     0.0344       0.19     0.0184    0.00422\n",
      "\n",
      "      Epoch    GPU_mem   box_loss   cls_loss   dfl_loss  Instances       Size\n",
      "      5/100      9.76G      1.325      1.974      1.683         22        640: 1\n",
      "                 Class     Images  Instances      Box(P          R      mAP50  m\n",
      "                   all         67         75      0.361      0.248     0.0929      0.034\n",
      "\n",
      "      Epoch    GPU_mem   box_loss   cls_loss   dfl_loss  Instances       Size\n",
      "      6/100      9.81G      1.332       1.89      1.669         21        640: 1\n",
      "                 Class     Images  Instances      Box(P          R      mAP50  m\n",
      "                   all         67         75      0.328       0.25     0.0879     0.0325\n",
      "\n",
      "      Epoch    GPU_mem   box_loss   cls_loss   dfl_loss  Instances       Size\n",
      "      7/100      10.1G      1.242      1.793      1.588         24        640: 1\n",
      "                 Class     Images  Instances      Box(P          R      mAP50  m\n",
      "                   all         67         75      0.611      0.351      0.197        0.1\n",
      "\n",
      "      Epoch    GPU_mem   box_loss   cls_loss   dfl_loss  Instances       Size\n",
      "      8/100      10.2G      1.234      1.768      1.568         27        640: 1\n",
      "                 Class     Images  Instances      Box(P          R      mAP50  m\n",
      "                   all         67         75      0.519      0.328      0.288      0.178\n",
      "\n",
      "      Epoch    GPU_mem   box_loss   cls_loss   dfl_loss  Instances       Size\n",
      "      9/100      9.76G      1.172      1.752      1.538         21        640: 1\n",
      "                 Class     Images  Instances      Box(P          R      mAP50  m\n",
      "                   all         67         75      0.381      0.585      0.294      0.192\n",
      "\n",
      "      Epoch    GPU_mem   box_loss   cls_loss   dfl_loss  Instances       Size\n",
      "     10/100      9.81G      1.124      1.668      1.507         25        640: 1\n",
      "                 Class     Images  Instances      Box(P          R      mAP50  m\n",
      "                   all         67         75      0.694      0.352      0.377       0.26\n",
      "\n",
      "      Epoch    GPU_mem   box_loss   cls_loss   dfl_loss  Instances       Size\n",
      "     11/100      9.76G      1.148      1.666       1.52         16        640: 1\n",
      "                 Class     Images  Instances      Box(P          R      mAP50  m\n",
      "                   all         67         75      0.534      0.374      0.323      0.208\n",
      "\n",
      "      Epoch    GPU_mem   box_loss   cls_loss   dfl_loss  Instances       Size\n",
      "     12/100      9.81G      1.099      1.634      1.472         25        640: 1\n",
      "                 Class     Images  Instances      Box(P          R      mAP50  m\n",
      "                   all         67         75      0.606      0.273      0.293      0.179\n",
      "\n",
      "      Epoch    GPU_mem   box_loss   cls_loss   dfl_loss  Instances       Size\n",
      "     13/100      9.76G      1.068      1.567       1.44         24        640: 1\n",
      "                 Class     Images  Instances      Box(P          R      mAP50  m\n",
      "                   all         67         75      0.414      0.628       0.45      0.323\n",
      "\n",
      "      Epoch    GPU_mem   box_loss   cls_loss   dfl_loss  Instances       Size\n",
      "     14/100      9.82G     0.9979      1.487      1.403         27        640: 1\n",
      "                 Class     Images  Instances      Box(P          R      mAP50  m\n",
      "                   all         67         75      0.357      0.543      0.406       0.29\n",
      "\n",
      "      Epoch    GPU_mem   box_loss   cls_loss   dfl_loss  Instances       Size\n",
      "     15/100      9.76G     0.9869      1.467      1.404         26        640: 1\n",
      "                 Class     Images  Instances      Box(P          R      mAP50  m\n",
      "                   all         67         75      0.387      0.646       0.46      0.292\n",
      "\n",
      "      Epoch    GPU_mem   box_loss   cls_loss   dfl_loss  Instances       Size\n",
      "     16/100      9.82G     0.9519      1.414      1.375         29        640: 1\n",
      "                 Class     Images  Instances      Box(P          R      mAP50  m\n",
      "                   all         67         75      0.404      0.688      0.494      0.376\n",
      "\n",
      "      Epoch    GPU_mem   box_loss   cls_loss   dfl_loss  Instances       Size\n",
      "     17/100      9.76G      0.928      1.407      1.361         32        640: 1\n",
      "                 Class     Images  Instances      Box(P          R      mAP50  m\n",
      "                   all         67         75      0.374      0.598       0.42       0.31\n",
      "\n",
      "      Epoch    GPU_mem   box_loss   cls_loss   dfl_loss  Instances       Size\n",
      "     18/100      9.83G     0.9794      1.452      1.408         20        640: 1\n",
      "                 Class     Images  Instances      Box(P          R      mAP50  m\n",
      "                   all         67         75      0.347      0.707      0.448      0.349\n",
      "\n",
      "      Epoch    GPU_mem   box_loss   cls_loss   dfl_loss  Instances       Size\n",
      "     19/100      9.75G     0.9348      1.383       1.36         27        640: 1\n",
      "                 Class     Images  Instances      Box(P          R      mAP50  m\n",
      "                   all         67         75      0.276      0.596      0.389      0.274\n",
      "\n",
      "      Epoch    GPU_mem   box_loss   cls_loss   dfl_loss  Instances       Size\n",
      "     20/100       9.8G     0.9245       1.35      1.343         23        640: 1\n",
      "                 Class     Images  Instances      Box(P          R      mAP50  m\n",
      "                   all         67         75      0.305      0.518       0.42        0.3\n",
      "\n",
      "      Epoch    GPU_mem   box_loss   cls_loss   dfl_loss  Instances       Size\n",
      "     21/100      9.76G     0.9499      1.337      1.356         26        640: 1\n",
      "                 Class     Images  Instances      Box(P          R      mAP50  m\n",
      "                   all         67         75      0.507      0.576      0.518      0.395\n",
      "\n",
      "      Epoch    GPU_mem   box_loss   cls_loss   dfl_loss  Instances       Size\n",
      "     22/100      9.82G     0.9248      1.351      1.362         24        640: 1\n",
      "                 Class     Images  Instances      Box(P          R      mAP50  m\n",
      "                   all         67         75      0.419      0.764      0.531      0.422\n",
      "\n",
      "      Epoch    GPU_mem   box_loss   cls_loss   dfl_loss  Instances       Size\n",
      "     23/100      9.76G     0.8511      1.335      1.309         22        640: 1\n",
      "                 Class     Images  Instances      Box(P          R      mAP50  m\n",
      "                   all         67         75      0.489      0.588       0.48      0.375\n",
      "\n",
      "      Epoch    GPU_mem   box_loss   cls_loss   dfl_loss  Instances       Size\n",
      "     24/100      9.81G     0.8424      1.261      1.297         34        640: 1\n",
      "                 Class     Images  Instances      Box(P          R      mAP50  m\n",
      "                   all         67         75      0.375      0.556      0.465      0.355\n",
      "\n",
      "      Epoch    GPU_mem   box_loss   cls_loss   dfl_loss  Instances       Size\n",
      "     25/100      9.76G     0.8391      1.283      1.293         24        640: 1\n",
      "                 Class     Images  Instances      Box(P          R      mAP50  m\n",
      "                   all         67         75      0.524      0.525      0.528      0.415\n",
      "\n",
      "      Epoch    GPU_mem   box_loss   cls_loss   dfl_loss  Instances       Size\n",
      "     26/100      9.81G     0.8424      1.218      1.286         15        640: 1\n",
      "                 Class     Images  Instances      Box(P          R      mAP50  m\n",
      "                   all         67         75      0.499      0.601        0.5      0.379\n",
      "\n",
      "      Epoch    GPU_mem   box_loss   cls_loss   dfl_loss  Instances       Size\n",
      "     27/100      9.75G     0.8597      1.235      1.318         23        640: 1\n",
      "                 Class     Images  Instances      Box(P          R      mAP50  m\n",
      "                   all         67         75       0.37      0.616       0.51       0.38\n",
      "\n",
      "      Epoch    GPU_mem   box_loss   cls_loss   dfl_loss  Instances       Size\n",
      "     28/100      9.81G     0.8621      1.225      1.313         29        640: 1\n",
      "                 Class     Images  Instances      Box(P          R      mAP50  m\n",
      "                   all         67         75      0.503       0.75       0.61      0.461\n",
      "\n",
      "      Epoch    GPU_mem   box_loss   cls_loss   dfl_loss  Instances       Size\n",
      "     29/100      9.75G     0.8209      1.232       1.29         16        640: 1\n",
      "                 Class     Images  Instances      Box(P          R      mAP50  m\n",
      "                   all         67         75      0.433       0.62      0.495      0.394\n",
      "\n",
      "      Epoch    GPU_mem   box_loss   cls_loss   dfl_loss  Instances       Size\n",
      "     30/100      9.81G     0.7884      1.146      1.263         25        640: 1\n",
      "                 Class     Images  Instances      Box(P          R      mAP50  m\n",
      "                   all         67         75      0.503      0.548      0.551      0.434\n",
      "\n",
      "      Epoch    GPU_mem   box_loss   cls_loss   dfl_loss  Instances       Size\n",
      "     31/100      9.76G      0.773       1.09       1.26         25        640: 1\n",
      "                 Class     Images  Instances      Box(P          R      mAP50  m\n",
      "                   all         67         75      0.508       0.65      0.578      0.459\n",
      "\n",
      "      Epoch    GPU_mem   box_loss   cls_loss   dfl_loss  Instances       Size\n",
      "     32/100      9.81G     0.7918      1.071      1.263         24        640: 1\n",
      "                 Class     Images  Instances      Box(P          R      mAP50  m\n",
      "                   all         67         75      0.545      0.689      0.641      0.493\n",
      "\n",
      "      Epoch    GPU_mem   box_loss   cls_loss   dfl_loss  Instances       Size\n",
      "     33/100      9.76G     0.7905      1.115      1.273         19        640: 1\n",
      "                 Class     Images  Instances      Box(P          R      mAP50  m\n",
      "                   all         67         75      0.648      0.636      0.672      0.564\n",
      "\n",
      "      Epoch    GPU_mem   box_loss   cls_loss   dfl_loss  Instances       Size\n",
      "     34/100      9.83G     0.7976       1.12      1.258         24        640: 1\n",
      "                 Class     Images  Instances      Box(P          R      mAP50  m\n",
      "                   all         67         75      0.577      0.724      0.684      0.563\n",
      "\n",
      "      Epoch    GPU_mem   box_loss   cls_loss   dfl_loss  Instances       Size\n",
      "     35/100      9.76G     0.7605      1.061      1.227         24        640: 1\n",
      "                 Class     Images  Instances      Box(P          R      mAP50  m\n",
      "                   all         67         75      0.652      0.602      0.678      0.533\n",
      "\n",
      "      Epoch    GPU_mem   box_loss   cls_loss   dfl_loss  Instances       Size\n",
      "     36/100       9.8G     0.7488      1.013      1.248         21        640: 1\n",
      "                 Class     Images  Instances      Box(P          R      mAP50  m\n",
      "                   all         67         75      0.556      0.625      0.619       0.49\n",
      "\n",
      "      Epoch    GPU_mem   box_loss   cls_loss   dfl_loss  Instances       Size\n",
      "     37/100      9.75G     0.7433     0.9933       1.24         23        640: 1\n",
      "                 Class     Images  Instances      Box(P          R      mAP50  m\n",
      "                   all         67         75      0.684      0.675       0.69      0.543\n",
      "\n",
      "      Epoch    GPU_mem   box_loss   cls_loss   dfl_loss  Instances       Size\n",
      "     38/100      9.82G     0.7717      1.021       1.25         20        640: 1\n",
      "                 Class     Images  Instances      Box(P          R      mAP50  m\n",
      "                   all         67         75      0.615      0.661       0.68       0.56\n",
      "\n",
      "      Epoch    GPU_mem   box_loss   cls_loss   dfl_loss  Instances       Size\n",
      "     39/100      9.75G     0.7279     0.9657      1.217         21        640: 1\n",
      "                 Class     Images  Instances      Box(P          R      mAP50  m\n",
      "                   all         67         75      0.556       0.72      0.586      0.476\n",
      "\n",
      "      Epoch    GPU_mem   box_loss   cls_loss   dfl_loss  Instances       Size\n",
      "     40/100      9.83G     0.7429     0.9755      1.227         26        640: 1\n",
      "                 Class     Images  Instances      Box(P          R      mAP50  m\n",
      "                   all         67         75      0.797      0.644      0.765      0.634\n",
      "\n",
      "      Epoch    GPU_mem   box_loss   cls_loss   dfl_loss  Instances       Size\n",
      "     41/100      9.75G     0.7315     0.9638      1.214         28        640: 1\n",
      "                 Class     Images  Instances      Box(P          R      mAP50  m\n",
      "                   all         67         75      0.765      0.684       0.77      0.594\n",
      "\n",
      "      Epoch    GPU_mem   box_loss   cls_loss   dfl_loss  Instances       Size\n",
      "     42/100      9.82G     0.7248     0.9439      1.213         20        640: 1\n",
      "                 Class     Images  Instances      Box(P          R      mAP50  m\n",
      "                   all         67         75      0.555       0.74      0.654      0.537\n",
      "\n",
      "      Epoch    GPU_mem   box_loss   cls_loss   dfl_loss  Instances       Size\n",
      "     43/100      9.76G     0.7025     0.9243      1.209         26        640: 1\n",
      "                 Class     Images  Instances      Box(P          R      mAP50  m\n",
      "                   all         67         75      0.641      0.704      0.712      0.571\n",
      "\n",
      "      Epoch    GPU_mem   box_loss   cls_loss   dfl_loss  Instances       Size\n",
      "     44/100       9.8G     0.6978     0.8957        1.2         23        640: 1\n",
      "                 Class     Images  Instances      Box(P          R      mAP50  m\n",
      "                   all         67         75       0.59      0.695      0.701      0.568\n",
      "\n",
      "      Epoch    GPU_mem   box_loss   cls_loss   dfl_loss  Instances       Size\n",
      "     45/100      9.76G     0.6887     0.9222      1.206         20        640: 1\n",
      "                 Class     Images  Instances      Box(P          R      mAP50  m\n",
      "                   all         67         75      0.639       0.79      0.752      0.608\n",
      "\n",
      "      Epoch    GPU_mem   box_loss   cls_loss   dfl_loss  Instances       Size\n",
      "     46/100      9.82G     0.6844     0.9076      1.196         17        640: 1\n",
      "                 Class     Images  Instances      Box(P          R      mAP50  m\n",
      "                   all         67         75      0.739      0.732      0.774      0.626\n",
      "\n",
      "      Epoch    GPU_mem   box_loss   cls_loss   dfl_loss  Instances       Size\n",
      "     47/100      9.75G     0.6584     0.8408       1.16         22        640: 1\n",
      "                 Class     Images  Instances      Box(P          R      mAP50  m\n",
      "                   all         67         75      0.557      0.667      0.681      0.543\n",
      "\n",
      "      Epoch    GPU_mem   box_loss   cls_loss   dfl_loss  Instances       Size\n",
      "     48/100      9.81G     0.6523     0.8388      1.167         22        640: 1\n",
      "                 Class     Images  Instances      Box(P          R      mAP50  m\n",
      "                   all         67         75      0.635       0.65      0.715      0.586\n",
      "\n",
      "      Epoch    GPU_mem   box_loss   cls_loss   dfl_loss  Instances       Size\n",
      "     49/100      9.77G     0.6687     0.8633      1.192         24        640: 1\n",
      "                 Class     Images  Instances      Box(P          R      mAP50  m\n",
      "                   all         67         75      0.661      0.725      0.735      0.621\n",
      "\n",
      "      Epoch    GPU_mem   box_loss   cls_loss   dfl_loss  Instances       Size\n",
      "     50/100      9.81G     0.6737     0.8292      1.177         17        640: 1\n",
      "                 Class     Images  Instances      Box(P          R      mAP50  m\n",
      "                   all         67         75      0.715      0.698      0.768      0.631\n",
      "\n",
      "      Epoch    GPU_mem   box_loss   cls_loss   dfl_loss  Instances       Size\n",
      "     51/100      9.76G     0.6417     0.8234      1.154         20        640: 1\n",
      "                 Class     Images  Instances      Box(P          R      mAP50  m\n",
      "                   all         67         75      0.808       0.75      0.827      0.661\n",
      "\n",
      "      Epoch    GPU_mem   box_loss   cls_loss   dfl_loss  Instances       Size\n",
      "     52/100       9.8G      0.621     0.7799      1.144         26        640: 1\n",
      "                 Class     Images  Instances      Box(P          R      mAP50  m\n",
      "                   all         67         75      0.858      0.718      0.809      0.632\n",
      "\n",
      "      Epoch    GPU_mem   box_loss   cls_loss   dfl_loss  Instances       Size\n",
      "     53/100      9.77G       0.64     0.7743      1.147         20        640: 1\n",
      "                 Class     Images  Instances      Box(P          R      mAP50  m\n",
      "                   all         67         75       0.79      0.638      0.772      0.636\n",
      "\n",
      "      Epoch    GPU_mem   box_loss   cls_loss   dfl_loss  Instances       Size\n",
      "     54/100      9.81G     0.6515     0.7931      1.164         27        640: 1\n",
      "                 Class     Images  Instances      Box(P          R      mAP50  m\n",
      "                   all         67         75      0.762      0.524      0.672      0.572\n",
      "\n",
      "      Epoch    GPU_mem   box_loss   cls_loss   dfl_loss  Instances       Size\n",
      "     55/100      9.75G     0.6396     0.7717      1.155         27        640: 1\n",
      "                 Class     Images  Instances      Box(P          R      mAP50  m\n",
      "                   all         67         75      0.669      0.764      0.782      0.661\n",
      "\n",
      "      Epoch    GPU_mem   box_loss   cls_loss   dfl_loss  Instances       Size\n",
      "     56/100      9.81G     0.6087     0.7627      1.135         20        640: 1\n",
      "                 Class     Images  Instances      Box(P          R      mAP50  m\n",
      "                   all         67         75      0.624      0.712      0.739      0.591\n",
      "\n",
      "      Epoch    GPU_mem   box_loss   cls_loss   dfl_loss  Instances       Size\n",
      "     57/100      9.76G     0.6136     0.7118      1.143         18        640: 1\n",
      "                 Class     Images  Instances      Box(P          R      mAP50  m\n",
      "                   all         67         75      0.792      0.731      0.803      0.661\n",
      "\n",
      "      Epoch    GPU_mem   box_loss   cls_loss   dfl_loss  Instances       Size\n",
      "     58/100      9.83G     0.5938     0.7227      1.133         20        640: 1\n",
      "                 Class     Images  Instances      Box(P          R      mAP50  m\n",
      "                   all         67         75      0.821      0.723      0.824      0.651\n",
      "\n",
      "      Epoch    GPU_mem   box_loss   cls_loss   dfl_loss  Instances       Size\n",
      "     59/100      9.76G     0.6195     0.7337      1.149         21        640: 1\n",
      "                 Class     Images  Instances      Box(P          R      mAP50  m\n",
      "                   all         67         75      0.879      0.636      0.806      0.627\n",
      "\n",
      "      Epoch    GPU_mem   box_loss   cls_loss   dfl_loss  Instances       Size\n",
      "     60/100      9.81G     0.5804     0.6908      1.111         15        640: 1\n",
      "                 Class     Images  Instances      Box(P          R      mAP50  m\n",
      "                   all         67         75      0.753       0.78      0.824      0.648\n",
      "\n",
      "      Epoch    GPU_mem   box_loss   cls_loss   dfl_loss  Instances       Size\n",
      "     61/100      9.77G     0.6113     0.7038      1.131         29        640: 1\n",
      "                 Class     Images  Instances      Box(P          R      mAP50  m\n",
      "                   all         67         75      0.759      0.794      0.788      0.659\n",
      "\n",
      "      Epoch    GPU_mem   box_loss   cls_loss   dfl_loss  Instances       Size\n",
      "     62/100      9.82G     0.5996     0.7077      1.125         25        640: 1\n",
      "                 Class     Images  Instances      Box(P          R      mAP50  m\n",
      "                   all         67         75      0.774      0.747       0.79      0.661\n",
      "\n",
      "      Epoch    GPU_mem   box_loss   cls_loss   dfl_loss  Instances       Size\n",
      "     63/100      9.76G     0.5919     0.6943      1.132         19        640: 1\n",
      "                 Class     Images  Instances      Box(P          R      mAP50  m\n",
      "                   all         67         75      0.809      0.704      0.812      0.673\n",
      "\n",
      "      Epoch    GPU_mem   box_loss   cls_loss   dfl_loss  Instances       Size\n",
      "     64/100      9.82G     0.5754      0.649      1.104         28        640: 1\n",
      "                 Class     Images  Instances      Box(P          R      mAP50  m\n",
      "                   all         67         75      0.839      0.624       0.76      0.619\n",
      "\n",
      "      Epoch    GPU_mem   box_loss   cls_loss   dfl_loss  Instances       Size\n",
      "     65/100      9.76G     0.5704     0.6481      1.114         29        640: 1\n",
      "                 Class     Images  Instances      Box(P          R      mAP50  m\n",
      "                   all         67         75       0.87      0.697      0.801       0.67\n",
      "\n",
      "      Epoch    GPU_mem   box_loss   cls_loss   dfl_loss  Instances       Size\n",
      "     66/100      9.82G     0.5766     0.6708       1.12         29        640: 1\n",
      "                 Class     Images  Instances      Box(P          R      mAP50  m\n",
      "                   all         67         75      0.746      0.689      0.771      0.619\n",
      "\n",
      "      Epoch    GPU_mem   box_loss   cls_loss   dfl_loss  Instances       Size\n",
      "     67/100      9.75G     0.5578     0.6641      1.121         24        640: 1\n",
      "                 Class     Images  Instances      Box(P          R      mAP50  m\n",
      "                   all         67         75      0.807      0.795      0.842      0.681\n",
      "\n",
      "      Epoch    GPU_mem   box_loss   cls_loss   dfl_loss  Instances       Size\n",
      "     68/100      9.81G     0.5826     0.6632      1.127         23        640: 1\n",
      "                 Class     Images  Instances      Box(P          R      mAP50  m\n",
      "                   all         67         75      0.866      0.686      0.811      0.665\n",
      "\n",
      "      Epoch    GPU_mem   box_loss   cls_loss   dfl_loss  Instances       Size\n",
      "     69/100      9.75G     0.5396     0.6193      1.076         21        640: 1\n",
      "                 Class     Images  Instances      Box(P          R      mAP50  m\n",
      "                   all         67         75      0.828       0.73      0.826      0.693\n",
      "\n",
      "      Epoch    GPU_mem   box_loss   cls_loss   dfl_loss  Instances       Size\n",
      "     70/100      10.2G     0.5514     0.6016      1.096         22        640: 1\n",
      "                 Class     Images  Instances      Box(P          R      mAP50  m\n",
      "                   all         67         75       0.89      0.705      0.837      0.697\n",
      "\n",
      "      Epoch    GPU_mem   box_loss   cls_loss   dfl_loss  Instances       Size\n",
      "     71/100      9.76G     0.5479     0.6048      1.091         19        640: 1\n",
      "                 Class     Images  Instances      Box(P          R      mAP50  m\n",
      "                   all         67         75       0.86      0.709      0.827      0.689\n",
      "\n",
      "      Epoch    GPU_mem   box_loss   cls_loss   dfl_loss  Instances       Size\n",
      "     72/100      9.82G     0.5502     0.6064      1.103         26        640: 1\n",
      "                 Class     Images  Instances      Box(P          R      mAP50  m\n",
      "                   all         67         75      0.913      0.709      0.849      0.698\n",
      "\n",
      "      Epoch    GPU_mem   box_loss   cls_loss   dfl_loss  Instances       Size\n",
      "     73/100      9.75G     0.5344     0.6104      1.091         23        640: 1\n",
      "                 Class     Images  Instances      Box(P          R      mAP50  m\n",
      "                   all         67         75      0.821      0.781       0.87      0.737\n",
      "\n",
      "      Epoch    GPU_mem   box_loss   cls_loss   dfl_loss  Instances       Size\n",
      "     74/100      9.83G     0.5328     0.6341      1.086         22        640: 1\n",
      "                 Class     Images  Instances      Box(P          R      mAP50  m\n",
      "                   all         67         75      0.831      0.725      0.815      0.639\n",
      "\n",
      "      Epoch    GPU_mem   box_loss   cls_loss   dfl_loss  Instances       Size\n",
      "     75/100      9.75G     0.5467     0.5842      1.089         27        640: 1\n",
      "                 Class     Images  Instances      Box(P          R      mAP50  m\n",
      "                   all         67         75      0.768      0.786      0.822      0.678\n",
      "\n",
      "      Epoch    GPU_mem   box_loss   cls_loss   dfl_loss  Instances       Size\n",
      "     76/100      9.81G     0.5515     0.6207      1.091         24        640: 1\n",
      "                 Class     Images  Instances      Box(P          R      mAP50  m\n",
      "                   all         67         75      0.853      0.655      0.777      0.666\n",
      "\n",
      "      Epoch    GPU_mem   box_loss   cls_loss   dfl_loss  Instances       Size\n",
      "     77/100      9.76G      0.515     0.5768      1.083         21        640: 1\n",
      "                 Class     Images  Instances      Box(P          R      mAP50  m\n",
      "                   all         67         75      0.897      0.684      0.831       0.71\n",
      "\n",
      "      Epoch    GPU_mem   box_loss   cls_loss   dfl_loss  Instances       Size\n",
      "     78/100      9.81G     0.5373     0.5852      1.095         21        640: 1\n",
      "                 Class     Images  Instances      Box(P          R      mAP50  m\n",
      "                   all         67         75      0.672      0.831      0.792      0.653\n",
      "\n",
      "      Epoch    GPU_mem   box_loss   cls_loss   dfl_loss  Instances       Size\n",
      "     79/100      9.75G     0.5253     0.5576       1.07         23        640: 1\n",
      "                 Class     Images  Instances      Box(P          R      mAP50  m\n",
      "                   all         67         75      0.841      0.717      0.821      0.697\n",
      "\n",
      "      Epoch    GPU_mem   box_loss   cls_loss   dfl_loss  Instances       Size\n",
      "     80/100      9.82G     0.5083     0.5377      1.066         21        640: 1\n",
      "                 Class     Images  Instances      Box(P          R      mAP50  m\n",
      "                   all         67         75      0.605      0.765      0.749      0.663\n",
      "\n",
      "      Epoch    GPU_mem   box_loss   cls_loss   dfl_loss  Instances       Size\n",
      "     81/100      9.77G     0.5041     0.5603      1.075         17        640: 1\n",
      "                 Class     Images  Instances      Box(P          R      mAP50  m\n",
      "                   all         67         75      0.647      0.792      0.765      0.642\n",
      "\n",
      "      Epoch    GPU_mem   box_loss   cls_loss   dfl_loss  Instances       Size\n",
      "     82/100      9.81G     0.4983     0.5419      1.076         27        640: 1\n",
      "                 Class     Images  Instances      Box(P          R      mAP50  m\n",
      "                   all         67         75      0.657      0.863      0.792      0.659\n",
      "\n",
      "      Epoch    GPU_mem   box_loss   cls_loss   dfl_loss  Instances       Size\n",
      "     83/100      9.76G     0.4995      0.542      1.064         26        640: 1\n",
      "                 Class     Images  Instances      Box(P          R      mAP50  m\n",
      "                   all         67         75      0.693      0.712      0.757       0.65\n",
      "\n",
      "      Epoch    GPU_mem   box_loss   cls_loss   dfl_loss  Instances       Size\n",
      "     84/100      9.83G     0.4911     0.5625       1.06         24        640: 1\n",
      "                 Class     Images  Instances      Box(P          R      mAP50  m\n",
      "                   all         67         75      0.763      0.808      0.816      0.707\n",
      "\n",
      "      Epoch    GPU_mem   box_loss   cls_loss   dfl_loss  Instances       Size\n",
      "     85/100      9.76G     0.4831       0.52      1.059         20        640: 1\n",
      "                 Class     Images  Instances      Box(P          R      mAP50  m\n",
      "                   all         67         75      0.869      0.679      0.844      0.735\n",
      "\n",
      "      Epoch    GPU_mem   box_loss   cls_loss   dfl_loss  Instances       Size\n",
      "     86/100      9.81G     0.4726     0.5074      1.041         22        640: 1\n",
      "                 Class     Images  Instances      Box(P          R      mAP50  m\n",
      "                   all         67         75      0.749      0.798       0.83       0.71\n",
      "\n",
      "      Epoch    GPU_mem   box_loss   cls_loss   dfl_loss  Instances       Size\n",
      "     87/100      9.75G     0.4913      0.518      1.068         19        640: 1\n",
      "                 Class     Images  Instances      Box(P          R      mAP50  m\n",
      "                   all         67         75      0.704       0.89      0.844      0.721\n",
      "\n",
      "      Epoch    GPU_mem   box_loss   cls_loss   dfl_loss  Instances       Size\n",
      "     88/100      9.83G     0.4782     0.5082      1.046         21        640: 1\n",
      "                 Class     Images  Instances      Box(P          R      mAP50  m\n",
      "                   all         67         75      0.725      0.817      0.853      0.728\n",
      "\n",
      "      Epoch    GPU_mem   box_loss   cls_loss   dfl_loss  Instances       Size\n",
      "     89/100      9.75G     0.4689     0.5018       1.05         21        640: 1\n",
      "                 Class     Images  Instances      Box(P          R      mAP50  m\n",
      "                   all         67         75      0.765      0.759      0.853       0.73\n",
      "\n",
      "      Epoch    GPU_mem   box_loss   cls_loss   dfl_loss  Instances       Size\n",
      "     90/100      9.83G     0.4616     0.4925       1.04         23        640: 1\n",
      "                 Class     Images  Instances      Box(P          R      mAP50  m\n",
      "                   all         67         75      0.811      0.773      0.865      0.726\n",
      "\n",
      "      Epoch    GPU_mem   box_loss   cls_loss   dfl_loss  Instances       Size\n",
      "     91/100      9.76G     0.4623     0.5007      1.048         21        640: 1\n",
      "                 Class     Images  Instances      Box(P          R      mAP50  m\n",
      "                   all         67         75       0.81      0.826      0.871      0.742\n",
      "\n",
      "      Epoch    GPU_mem   box_loss   cls_loss   dfl_loss  Instances       Size\n",
      "     92/100      9.81G     0.4823      0.518      1.068         22        640: 1\n",
      "                 Class     Images  Instances      Box(P          R      mAP50  m\n",
      "                   all         67         75      0.925      0.703      0.823      0.728\n",
      "\n",
      "      Epoch    GPU_mem   box_loss   cls_loss   dfl_loss  Instances       Size\n",
      "     93/100      9.75G      0.453     0.4662      1.049         26        640: 1\n",
      "                 Class     Images  Instances      Box(P          R      mAP50  m\n",
      "                   all         67         75      0.819      0.763      0.835      0.737\n",
      "\n",
      "      Epoch    GPU_mem   box_loss   cls_loss   dfl_loss  Instances       Size\n",
      "     94/100      9.81G     0.4605     0.4803      1.043         20        640: 1\n",
      "                 Class     Images  Instances      Box(P          R      mAP50  m\n",
      "                   all         67         75        0.7       0.88      0.837      0.732\n",
      "\n",
      "      Epoch    GPU_mem   box_loss   cls_loss   dfl_loss  Instances       Size\n",
      "     95/100      9.76G     0.4498      0.472      1.029         24        640: 1\n",
      "                 Class     Images  Instances      Box(P          R      mAP50  m\n",
      "                   all         67         75      0.725      0.793      0.816      0.709\n",
      "\n",
      "      Epoch    GPU_mem   box_loss   cls_loss   dfl_loss  Instances       Size\n",
      "     96/100      9.82G     0.4395     0.4747      1.027         24        640: 1\n",
      "                 Class     Images  Instances      Box(P          R      mAP50  m\n",
      "                   all         67         75       0.82      0.691      0.826      0.731\n",
      "\n",
      "      Epoch    GPU_mem   box_loss   cls_loss   dfl_loss  Instances       Size\n",
      "     97/100      9.75G     0.4457     0.4604       1.04         25        640: 1\n",
      "                 Class     Images  Instances      Box(P          R      mAP50  m\n",
      "                   all         67         75      0.698      0.822      0.831      0.732\n",
      "\n",
      "      Epoch    GPU_mem   box_loss   cls_loss   dfl_loss  Instances       Size\n",
      "     98/100      9.81G     0.4259     0.4496      1.024         26        640: 1\n",
      "                 Class     Images  Instances      Box(P          R      mAP50  m\n",
      "                   all         67         75      0.738      0.822      0.828      0.736\n",
      "\n",
      "      Epoch    GPU_mem   box_loss   cls_loss   dfl_loss  Instances       Size\n",
      "     99/100      9.76G     0.4199     0.4391      1.013         28        640: 1\n",
      "                 Class     Images  Instances      Box(P          R      mAP50  m\n",
      "                   all         67         75      0.834      0.825      0.876      0.757\n",
      "\n",
      "      Epoch    GPU_mem   box_loss   cls_loss   dfl_loss  Instances       Size\n",
      "    100/100      9.81G     0.4382     0.4599      1.038         20        640: 1\n",
      "                 Class     Images  Instances      Box(P          R      mAP50  m\n",
      "                   all         67         75      0.824       0.82      0.862      0.748\n",
      "\n",
      "100 epochs completed in 0.255 hours.\n",
      "Optimizer stripped from runs/detect/train3/weights/last.pt, 87.6MB\n",
      "Optimizer stripped from runs/detect/train3/weights/best.pt, 87.6MB\n",
      "\n",
      "Validating runs/detect/train3/weights/best.pt...\n",
      "Ultralytics YOLOv8.0.124 🚀 Python-3.11.4 torch-2.0.1+cu117 CUDA:0 (NVIDIA RTX A6000, 48655MiB)\n",
      "Model summary (fused): 268 layers, 43609692 parameters, 0 gradients\n",
      "                 Class     Images  Instances      Box(P          R      mAP50  m\n",
      "                   all         67         75      0.834      0.826      0.876      0.757\n",
      "                   AFV         67         26      0.812      0.769      0.832      0.779\n",
      "                   APC         67         25      0.874      0.831      0.889       0.78\n",
      "                   MEV         67          6      0.838      0.869      0.924      0.741\n",
      "                   LAV         67         18      0.812      0.833      0.858      0.728\n",
      "Speed: 1.4ms preprocess, 3.2ms inference, 0.0ms loss, 0.6ms postprocess per image\n",
      "Results saved to \u001b[1mruns/detect/train3\u001b[0m\n"
     ]
    }
   ],
   "source": [
    "!yolo task=detect mode=train model=yolov8l.pt data=google_vehicles/dataset.yaml epochs=100 imgsz=640 batch=16"
   ]
  },
  {
   "cell_type": "markdown",
   "id": "0e04f049-8df8-4730-ae77-b3124d62a237",
   "metadata": {},
   "source": [
    "## Evaluating our model"
   ]
  },
  {
   "cell_type": "markdown",
   "id": "f18ff0c1-f715-4493-9556-77256eacda47",
   "metadata": {},
   "source": [
    "The following will run inference on the test split and import the results into fiftyone to view the MAP."
   ]
  },
  {
   "cell_type": "code",
   "execution_count": 7,
   "id": "dbbfcbc8-a7b2-4fed-8965-27aede5deb86",
   "metadata": {},
   "outputs": [
    {
     "name": "stdout",
     "output_type": "stream",
     "text": [
      "Ultralytics YOLOv8.0.124 🚀 Python-3.11.4 torch-2.0.1+cu117 CUDA:0 (NVIDIA RTX A6000, 48655MiB)\n",
      "Model summary (fused): 268 layers, 43609692 parameters, 0 gradients\n",
      "\n",
      "image 1/67 /home/jrenault/workspace/adomvi/adomvi/google_vehicles/images/test/018b9d7a-ebfa-416b-9a39-6bafbf34536a.JPEG: 640x640 2 APCs, 8.8ms\n",
      "image 2/67 /home/jrenault/workspace/adomvi/adomvi/google_vehicles/images/test/081cfe5a-4d7b-4104-bff7-87d31be0bc2b.JPEG: 480x640 1 LAV, 64.8ms\n",
      "image 3/67 /home/jrenault/workspace/adomvi/adomvi/google_vehicles/images/test/1100883a-1e23-47ba-b51a-6f270aa91f7f.JPEG: 384x640 2 MEVs, 65.7ms\n",
      "image 4/67 /home/jrenault/workspace/adomvi/adomvi/google_vehicles/images/test/1fb61f75-7980-4c51-9efc-9f1906b6dbfd.JPEG: 384x640 1 MEV, 6.8ms\n",
      "image 5/67 /home/jrenault/workspace/adomvi/adomvi/google_vehicles/images/test/22bfb7f5-6677-4633-b463-f845cf541adb.JPEG: 448x640 1 APC, 64.3ms\n",
      "image 6/67 /home/jrenault/workspace/adomvi/adomvi/google_vehicles/images/test/28a20d97-fa89-41b7-b9bd-b4ad1ec626ff.JPEG: 480x640 1 APC, 1 LAV, 7.0ms\n",
      "image 7/67 /home/jrenault/workspace/adomvi/adomvi/google_vehicles/images/test/2decf91c-7b48-4bc2-a39b-0dbad3246a4a.JPEG: 448x640 1 APC, 6.8ms\n",
      "image 8/67 /home/jrenault/workspace/adomvi/adomvi/google_vehicles/images/test/30dec7d5-9a99-4177-93e9-8955073e721d.WEBP: 384x640 2 AFVs, 1 APC, 6.5ms\n",
      "image 9/67 /home/jrenault/workspace/adomvi/adomvi/google_vehicles/images/test/3353fdc9-d64d-4ea1-b50e-28bb032a4037.PNG: 384x640 1 LAV, 6.9ms\n",
      "image 10/67 /home/jrenault/workspace/adomvi/adomvi/google_vehicles/images/test/350d1416-3cb4-4d08-a66e-5bcf4e472370.JPEG: 480x640 1 APC, 7.0ms\n",
      "image 11/67 /home/jrenault/workspace/adomvi/adomvi/google_vehicles/images/test/43ea3fcb-fc85-436d-98c9-2adef384f85b.JPEG: 384x640 1 AFV, 1 LAV, 6.6ms\n",
      "image 12/67 /home/jrenault/workspace/adomvi/adomvi/google_vehicles/images/test/47faebb2-3ad5-401d-a62e-f5f7414af4fa.WEBP: 640x480 1 LAV, 62.4ms\n",
      "image 13/67 /home/jrenault/workspace/adomvi/adomvi/google_vehicles/images/test/4d485a11-b2f6-45df-ac6f-09eca6a772e2.JPEG: 416x640 1 APC, 62.9ms\n",
      "image 14/67 /home/jrenault/workspace/adomvi/adomvi/google_vehicles/images/test/4eac79f2-514f-4e15-af73-c1b6e918092c.JPEG: 480x640 1 APC, 7.0ms\n",
      "image 15/67 /home/jrenault/workspace/adomvi/adomvi/google_vehicles/images/test/55886a7f-a957-4c2f-99da-c971b573b166.JPEG: 480x640 1 APC, 6.6ms\n",
      "image 16/67 /home/jrenault/workspace/adomvi/adomvi/google_vehicles/images/test/5adecc4c-cbfb-47e1-a937-809de44999a2.JPEG: 448x640 1 APC, 6.7ms\n",
      "image 17/67 /home/jrenault/workspace/adomvi/adomvi/google_vehicles/images/test/5af84292-5d91-4df6-855b-91d2efb9bc81.JPEG: 416x640 1 AFV, 6.5ms\n",
      "image 18/67 /home/jrenault/workspace/adomvi/adomvi/google_vehicles/images/test/61493a1b-9012-4e87-9aac-c692edf17a84.JPEG: 448x640 1 APC, 6.7ms\n",
      "image 19/67 /home/jrenault/workspace/adomvi/adomvi/google_vehicles/images/test/61eb0ab4-e720-4bf2-bd96-333b05e573c9.WEBP: 448x640 2 APCs, 6.4ms\n",
      "image 20/67 /home/jrenault/workspace/adomvi/adomvi/google_vehicles/images/test/61f0d76f-1975-4707-bb44-7b26c69eb4b5.JPEG: 384x640 1 AFV, 1 APC, 7.1ms\n",
      "image 21/67 /home/jrenault/workspace/adomvi/adomvi/google_vehicles/images/test/6a1595f3-3977-4613-baf4-18d71deec7c2.JPEG: 480x640 1 LAV, 6.9ms\n",
      "image 22/67 /home/jrenault/workspace/adomvi/adomvi/google_vehicles/images/test/6acf2ccd-c781-4026-ba9a-03b1336917c7.JPEG: 640x640 1 AFV, 1 LAV, 9.1ms\n",
      "image 23/67 /home/jrenault/workspace/adomvi/adomvi/google_vehicles/images/test/6d1a3bc1-7ec9-4005-9c6c-95f778a70854.JPEG: 480x640 1 LAV, 6.9ms\n",
      "image 24/67 /home/jrenault/workspace/adomvi/adomvi/google_vehicles/images/test/7718a779-c4b2-472f-b856-cb72ae6646eb.JPEG: 480x640 1 AFV, 6.6ms\n",
      "image 25/67 /home/jrenault/workspace/adomvi/adomvi/google_vehicles/images/test/77c28889-9251-42e1-b281-9b955f19b01c.JPEG: 416x640 1 LAV, 6.6ms\n",
      "image 26/67 /home/jrenault/workspace/adomvi/adomvi/google_vehicles/images/test/7ab77092-7224-44fe-ac5d-281339fa648b.JPEG: 480x640 1 MEV, 7.0ms\n",
      "image 27/67 /home/jrenault/workspace/adomvi/adomvi/google_vehicles/images/test/7d2c7ec6-0403-4dd0-90d7-4b119de78dc5.JPEG: 448x640 1 AFV, 6.8ms\n",
      "image 28/67 /home/jrenault/workspace/adomvi/adomvi/google_vehicles/images/test/7dc0f282-e8ec-490e-9d24-169c35a76c6b.JPEG: 448x640 1 AFV, 6.4ms\n",
      "image 29/67 /home/jrenault/workspace/adomvi/adomvi/google_vehicles/images/test/818194d1-35f7-465d-af94-702878d751f4.JPEG: 384x640 1 APC, 6.5ms\n",
      "image 30/67 /home/jrenault/workspace/adomvi/adomvi/google_vehicles/images/test/82729fe4-ecd4-4734-a5d0-eb01ca05eeef.JPEG: 544x640 1 APC, 1 MEV, 2 LAVs, 64.4ms\n",
      "image 31/67 /home/jrenault/workspace/adomvi/adomvi/google_vehicles/images/test/83647189-b580-4189-96bd-af507239114e.JPEG: 384x640 1 AFV, 6.7ms\n",
      "image 32/67 /home/jrenault/workspace/adomvi/adomvi/google_vehicles/images/test/84f12fde-d0eb-4c18-80fb-a727887d4e13.JPEG: 480x640 1 APC, 6.9ms\n",
      "image 33/67 /home/jrenault/workspace/adomvi/adomvi/google_vehicles/images/test/8710c171-a915-40c2-8cb1-897125375423.JPEG: 480x640 1 AFV, 6.6ms\n",
      "image 34/67 /home/jrenault/workspace/adomvi/adomvi/google_vehicles/images/test/8a066cf6-9331-42f7-b068-2d3a678869ed.JPEG: 480x640 1 AFV, 6.6ms\n",
      "image 35/67 /home/jrenault/workspace/adomvi/adomvi/google_vehicles/images/test/8c59e857-8d5f-4e42-aa42-9279c63e9f10.JPEG: 544x640 1 LAV, 9.1ms\n",
      "image 36/67 /home/jrenault/workspace/adomvi/adomvi/google_vehicles/images/test/8f263929-6a6a-455c-a3bf-f2ad52267a0b.JPEG: 448x640 1 LAV, 6.8ms\n",
      "image 37/67 /home/jrenault/workspace/adomvi/adomvi/google_vehicles/images/test/94110446-a4cb-453a-ab65-a23f077b28ec.JPEG: 384x640 1 AFV, 6.8ms\n",
      "image 38/67 /home/jrenault/workspace/adomvi/adomvi/google_vehicles/images/test/9447672e-4692-4c4a-b38e-dcfee8d883ae.JPEG: 448x640 1 APC, 6.7ms\n",
      "image 39/67 /home/jrenault/workspace/adomvi/adomvi/google_vehicles/images/test/9886fc9f-e651-4d72-8699-d5d08daff132.JPEG: 320x640 1 AFV, 65.7ms\n",
      "image 40/67 /home/jrenault/workspace/adomvi/adomvi/google_vehicles/images/test/99f6fa4c-0664-4295-af1a-c5c4938b32f7.JPEG: 480x640 1 LAV, 7.0ms\n",
      "image 41/67 /home/jrenault/workspace/adomvi/adomvi/google_vehicles/images/test/9c9bde1d-9559-4cc4-be31-c2a46475a6d5.JPEG: 448x640 1 AFV, 6.8ms\n",
      "image 42/67 /home/jrenault/workspace/adomvi/adomvi/google_vehicles/images/test/a4abe977-e4e8-4c00-b267-6b27750d6eb0.JPEG: 448x640 1 AFV, 6.4ms\n",
      "image 43/67 /home/jrenault/workspace/adomvi/adomvi/google_vehicles/images/test/a6babc8d-cabf-4191-becf-1a4f2659ed2d.JPEG: 480x640 1 APC, 6.9ms\n",
      "image 44/67 /home/jrenault/workspace/adomvi/adomvi/google_vehicles/images/test/a749fe52-6fe9-4342-af55-43ce826afc2c.JPEG: 384x640 1 LAV, 6.6ms\n",
      "image 45/67 /home/jrenault/workspace/adomvi/adomvi/google_vehicles/images/test/aaf24341-9213-4ffb-8e73-9d8ee70b3ccf.JPEG: 480x640 1 APC, 1 LAV, 6.9ms\n",
      "image 46/67 /home/jrenault/workspace/adomvi/adomvi/google_vehicles/images/test/ae1541a9-31aa-497f-8b8f-7073b416380f.JPEG: 448x640 1 LAV, 6.7ms\n",
      "image 47/67 /home/jrenault/workspace/adomvi/adomvi/google_vehicles/images/test/b23e253b-e31d-4785-b60a-bb3060a2036f.JPEG: 448x640 1 LAV, 6.4ms\n",
      "image 48/67 /home/jrenault/workspace/adomvi/adomvi/google_vehicles/images/test/b699b30b-d9c8-4ba4-b789-dde49e727f2c.JPEG: 480x640 1 AFV, 7.0ms\n",
      "image 49/67 /home/jrenault/workspace/adomvi/adomvi/google_vehicles/images/test/bbdd566a-eaae-4987-99cc-ccc6258701f7.JPEG: 640x640 1 LAV, 9.1ms\n",
      "image 50/67 /home/jrenault/workspace/adomvi/adomvi/google_vehicles/images/test/bdd1c27e-0306-4f36-b27b-83733b7c640a.JPEG: 352x640 1 AFV, 65.0ms\n",
      "image 51/67 /home/jrenault/workspace/adomvi/adomvi/google_vehicles/images/test/bee36047-5a9f-471b-b438-9cfbe8519d4d.JPEG: 480x640 1 LAV, 7.0ms\n",
      "image 52/67 /home/jrenault/workspace/adomvi/adomvi/google_vehicles/images/test/bf9a5ed2-046b-42ea-8ba1-599b61edb310.JPEG: 384x640 1 APC, 6.7ms\n",
      "image 53/67 /home/jrenault/workspace/adomvi/adomvi/google_vehicles/images/test/c455b73b-32ae-4598-a56e-86ea22f41c5a.JPEG: 448x640 3 LAVs, 6.8ms\n",
      "image 54/67 /home/jrenault/workspace/adomvi/adomvi/google_vehicles/images/test/ca44b1f1-68c3-4763-8516-55fe766a9ac7.WEBP: 448x640 1 APC, 6.4ms\n",
      "image 55/67 /home/jrenault/workspace/adomvi/adomvi/google_vehicles/images/test/cb42a5d4-4dac-4bc1-80b5-c10ec87cb7b1.JPEG: 448x640 1 AFV, 6.8ms\n",
      "image 56/67 /home/jrenault/workspace/adomvi/adomvi/google_vehicles/images/test/cbce1393-0d78-4aef-bce5-17ad700d3eb1.JPEG: 448x640 1 APC, 1 LAV, 6.4ms\n",
      "image 57/67 /home/jrenault/workspace/adomvi/adomvi/google_vehicles/images/test/cd1ac9aa-94c6-45b9-b563-947ed6f2d0d2.JPEG: 416x640 1 AFV, 6.7ms\n",
      "image 58/67 /home/jrenault/workspace/adomvi/adomvi/google_vehicles/images/test/d56582f2-9fb7-4687-b007-c702913590b4.JPEG: 416x640 1 AFV, 6.5ms\n",
      "image 59/67 /home/jrenault/workspace/adomvi/adomvi/google_vehicles/images/test/d6bd259b-3638-45c2-b0d4-39f7fd889cae.PNG: 416x640 1 APC, 6.2ms\n",
      "image 60/67 /home/jrenault/workspace/adomvi/adomvi/google_vehicles/images/test/dcb0039f-17e8-4513-a4a8-1c3f017145b6.JPEG: 448x640 1 APC, 6.7ms\n",
      "image 61/67 /home/jrenault/workspace/adomvi/adomvi/google_vehicles/images/test/e39ea58b-bd2c-4229-b16b-4a6e94afb921.JPEG: 448x640 2 LAVs, 6.4ms\n",
      "image 62/67 /home/jrenault/workspace/adomvi/adomvi/google_vehicles/images/test/ed97a530-61dc-4e38-a7d2-21768d3cf07c.JPEG: 480x640 1 MEV, 7.0ms\n",
      "image 63/67 /home/jrenault/workspace/adomvi/adomvi/google_vehicles/images/test/f35d71b8-5f6c-4073-b082-4a81788ccf74.WEBP: 448x640 3 AFVs, 6.7ms\n",
      "image 64/67 /home/jrenault/workspace/adomvi/adomvi/google_vehicles/images/test/f83e31ef-ddb0-4913-82d2-3c8ef9f2cc83.JPEG: 480x640 1 APC, 7.0ms\n",
      "image 65/67 /home/jrenault/workspace/adomvi/adomvi/google_vehicles/images/test/f8b8a68e-d11a-4351-8279-989b9c8f6715.JPEG: 320x640 1 AFV, 6.7ms\n",
      "image 66/67 /home/jrenault/workspace/adomvi/adomvi/google_vehicles/images/test/f9555508-ce71-477c-8694-edd0b9c10cac.WEBP: 320x640 1 LAV, 6.2ms\n",
      "image 67/67 /home/jrenault/workspace/adomvi/adomvi/google_vehicles/images/test/ffb66211-3efe-40f3-9a74-866be76999bd.JPEG: 448x640 1 APC, 7.1ms\n",
      "Speed: 1.2ms preprocess, 13.7ms inference, 0.8ms postprocess per image at shape (1, 3, 448, 640)\n",
      "Results saved to \u001b[1mruns/detect/predict\u001b[0m\n",
      "67 labels saved to runs/detect/predict/labels\n"
     ]
    }
   ],
   "source": [
    "!yolo task=detect mode=predict model=runs/detect/train/weights/best.pt source=google_vehicles/images/test save_txt=True save_conf=True"
   ]
  },
  {
   "cell_type": "code",
   "execution_count": 8,
   "id": "d07e8b51-fc31-4132-8b0f-b71ffcc53f7d",
   "metadata": {},
   "outputs": [],
   "source": [
    "# The test split of the dataset\n",
    "test_view = dataset.match_tags(\"test\")"
   ]
  },
  {
   "cell_type": "code",
   "execution_count": 9,
   "id": "5a2f9387-7dc5-4a0a-8f6c-f9f20cabb3e6",
   "metadata": {},
   "outputs": [],
   "source": [
    "import os\n",
    "import numpy as np\n",
    "from tqdm import tqdm\n",
    "\n",
    "def read_yolo_detections_file(filepath):\n",
    "    detections = []\n",
    "    if not os.path.exists(filepath):\n",
    "        return np.array([])\n",
    "    \n",
    "    with open(filepath) as f:\n",
    "        lines = [line.rstrip('\\n').split(' ') for line in f]\n",
    "    \n",
    "    for line in lines:\n",
    "        detection = [float(l) for l in line]\n",
    "        detections.append(detection)\n",
    "    return np.array(detections)"
   ]
  },
  {
   "cell_type": "code",
   "execution_count": 10,
   "id": "90a7f692-8cb7-4605-9248-6a266bd7e360",
   "metadata": {},
   "outputs": [],
   "source": [
    "def _uncenter_boxes(boxes):\n",
    "    '''convert from center coords to corner coords'''\n",
    "    boxes[:, 0] -= boxes[:, 2]/2.\n",
    "    boxes[:, 1] -= boxes[:, 3]/2."
   ]
  },
  {
   "cell_type": "code",
   "execution_count": 11,
   "id": "226f31d4-4b66-4fba-b022-36fc5663b641",
   "metadata": {},
   "outputs": [],
   "source": [
    "def _get_class_labels(predicted_classes, class_list):\n",
    "    labels = (predicted_classes).astype(int)\n",
    "    labels = [class_list[l] for l in labels]\n",
    "    return labels"
   ]
  },
  {
   "cell_type": "code",
   "execution_count": 12,
   "id": "ef963cb8-16b1-4ea4-aa6a-40ffd28f47d5",
   "metadata": {},
   "outputs": [],
   "source": [
    "def convert_yolo_detections_to_fiftyone(\n",
    "    yolo_detections, \n",
    "    class_list\n",
    "    ):\n",
    "\n",
    "    detections = []\n",
    "    if yolo_detections.size == 0:\n",
    "        return fo.Detections(detections=detections)\n",
    "    \n",
    "    boxes = yolo_detections[:, 1:-1]\n",
    "    _uncenter_boxes(boxes)\n",
    "    \n",
    "    confs = yolo_detections[:, -1]\n",
    "    labels = _get_class_labels(yolo_detections[:, 0], class_list) \n",
    " \n",
    "    for label, conf, box in zip(labels, confs, boxes):\n",
    "        detections.append(\n",
    "            fo.Detection(\n",
    "                label=label,\n",
    "                bounding_box=box.tolist(),\n",
    "                confidence=conf\n",
    "            )\n",
    "        )\n",
    "\n",
    "    return fo.Detections(detections=detections)"
   ]
  },
  {
   "cell_type": "code",
   "execution_count": 13,
   "id": "8bcc06be-28c6-4954-aed3-efd10cb763a8",
   "metadata": {},
   "outputs": [],
   "source": [
    "def get_prediction_filepath(filepath, run_number = 1):\n",
    "    run_num_string = \"\"\n",
    "    if run_number != 1:\n",
    "        run_num_string = str(run_number)\n",
    "    filename = filepath.split(\"/\")[-1].split(\".\")[0]\n",
    "    return f\"runs/detect/predict{run_num_string}/labels/{filename}.txt\""
   ]
  },
  {
   "cell_type": "code",
   "execution_count": 14,
   "id": "f3634f03-f90c-4915-aea5-b85bea4bb747",
   "metadata": {},
   "outputs": [],
   "source": [
    "def add_yolo_detections(\n",
    "    samples,\n",
    "    prediction_field,\n",
    "    prediction_filepath,\n",
    "    class_list\n",
    "    ):\n",
    "\n",
    "    prediction_filepaths = samples.values(prediction_filepath)\n",
    "    yolo_detections = [read_yolo_detections_file(pf) for pf in prediction_filepaths]\n",
    "    detections =  [convert_yolo_detections_to_fiftyone(yd, class_list) for yd in yolo_detections]\n",
    "    samples.set_values(prediction_field, detections)"
   ]
  },
  {
   "cell_type": "code",
   "execution_count": 15,
   "id": "d1279df5-e957-41ca-84fc-bfefdbe4f31e",
   "metadata": {},
   "outputs": [],
   "source": [
    "filepaths = test_view.values(\"filepath\")\n",
    "prediction_filepaths = [get_prediction_filepath(fp) for fp in filepaths]\n",
    "test_view.set_values(\n",
    "    \"yolov8l_det_filepath\", \n",
    "    prediction_filepaths\n",
    ")\n",
    "\n",
    "add_yolo_detections(\n",
    "    test_view, \n",
    "    \"yolov8l\", \n",
    "    \"yolov8l_det_filepath\", \n",
    "    [\"AFV\", \"APC\", \"MEV\", \"LAV\"]\n",
    ")"
   ]
  },
  {
   "cell_type": "code",
   "execution_count": 16,
   "id": "223e6471-870a-4920-98f1-919e40aab93e",
   "metadata": {},
   "outputs": [
    {
     "name": "stdout",
     "output_type": "stream",
     "text": [
      "Evaluating detections...\n",
      " 100% |███████████████████| 67/67 [181.8ms elapsed, 0s remaining, 368.6 samples/s]     \n",
      "Performing IoU sweep...\n",
      " 100% |███████████████████| 67/67 [130.9ms elapsed, 0s remaining, 511.7 samples/s]     \n"
     ]
    }
   ],
   "source": [
    "detection_results = test_view.evaluate_detections(\n",
    "    \"yolov8l\", \n",
    "    eval_key=\"eval\",\n",
    "    compute_mAP=True,\n",
    "    gt_field=\"ground_truth\",\n",
    ")"
   ]
  },
  {
   "cell_type": "code",
   "execution_count": 17,
   "id": "cbe4aa9c-9750-409e-9514-f4ed6ad6a952",
   "metadata": {},
   "outputs": [
    {
     "name": "stdout",
     "output_type": "stream",
     "text": [
      "mAP = 0.6819998548944209\n"
     ]
    }
   ],
   "source": [
    "mAP = detection_results.mAP()\n",
    "print(f\"mAP = {mAP}\")"
   ]
  },
  {
   "cell_type": "code",
   "execution_count": 18,
   "id": "99b713b5-7867-42f9-a2d2-5726a3283eb1",
   "metadata": {},
   "outputs": [
    {
     "name": "stdout",
     "output_type": "stream",
     "text": [
      "              precision    recall  f1-score   support\n",
      "\n",
      "         AFV       0.84      0.78      0.81        27\n",
      "         APC       0.64      0.86      0.73        21\n",
      "         LAV       0.70      0.79      0.75        24\n",
      "         MEV       0.67      0.80      0.73         5\n",
      "\n",
      "   micro avg       0.72      0.81      0.76        77\n",
      "   macro avg       0.71      0.81      0.75        77\n",
      "weighted avg       0.73      0.81      0.76        77\n",
      "\n"
     ]
    }
   ],
   "source": [
    "detection_results.print_report()"
   ]
  },
  {
   "cell_type": "markdown",
   "id": "0556096b-dece-4317-a719-5731d7b4ece4",
   "metadata": {},
   "source": [
    "## Run video tracking with our model"
   ]
  },
  {
   "cell_type": "markdown",
   "id": "2d8f32c7-83c0-4a45-abf4-dc47f27a39e8",
   "metadata": {},
   "source": [
    "We can run video tracking of military vehicles using our trained model and the sample videos available in the `resources/test` directory."
   ]
  },
  {
   "cell_type": "code",
   "execution_count": 20,
   "id": "6b839174-b938-4e28-8c83-7756afbf45b8",
   "metadata": {},
   "outputs": [],
   "source": [
    "!cp runs/detect/train/weights/best.pt yolov8l-google.pt"
   ]
  },
  {
   "cell_type": "code",
   "execution_count": 25,
   "id": "3e2a63fc-3b27-4579-8a6e-2b8865562e0c",
   "metadata": {},
   "outputs": [
    {
     "name": "stdout",
     "output_type": "stream",
     "text": [
      "\u001b[32m2023-08-03 14:20:36.377\u001b[0m | \u001b[1mINFO    \u001b[0m | \u001b[36mboxmot.utils.torch_utils\u001b[0m:\u001b[36mselect_device\u001b[0m:\u001b[36m73\u001b[0m - \u001b[1mYolo Tracking v10.0.24 🚀 Python-3.11.4 torch-2.0.1+cu117 CUDA:0 (NVIDIA RTX A6000, 48655MiB)\n",
      "\u001b[0m\n",
      "\u001b[32m2023-08-03 14:20:36.378\u001b[0m | \u001b[1mINFO    \u001b[0m | \u001b[36m__main__\u001b[0m:\u001b[36mrun\u001b[0m:\u001b[36m65\u001b[0m - \u001b[1m{'yolo_model': PosixPath('yolov8l-google.pt'), 'reid_model': PosixPath('mobilenetv2_x1_4_dukemtmcreid.pt'), 'tracking_method': 'deepocsort', 'source': '../resources/test/lav3.mp4', 'imgsz': [640], 'conf': 0.5, 'iou': 0.7, 'device': '', 'show': False, 'save': True, 'classes': None, 'project': 'runs/track', 'name': 'exp', 'exist_ok': False, 'half': False, 'vid_stride': 1, 'show_labels': True, 'show_conf': True, 'save_txt': False, 'save_id_crops': False, 'save_mot': False, 'line_width': None, 'per_class': False}\u001b[0m\n",
      "\u001b[32m2023-08-03 14:20:38.912\u001b[0m | \u001b[32m\u001b[1mSUCCESS \u001b[0m | \u001b[36mboxmot.appearance.reid_model_factory\u001b[0m:\u001b[36mload_pretrained_weights\u001b[0m:\u001b[36m205\u001b[0m - \u001b[32m\u001b[1mSuccessfully loaded pretrained weights from \"mobilenetv2_x1_4_dukemtmcreid.pt\"\u001b[0m\n",
      "\u001b[32m2023-08-03 14:20:38.912\u001b[0m | \u001b[33m\u001b[1mWARNING \u001b[0m | \u001b[36mboxmot.appearance.reid_model_factory\u001b[0m:\u001b[36mload_pretrained_weights\u001b[0m:\u001b[36m209\u001b[0m - \u001b[33m\u001b[1mThe following layers are discarded due to unmatched keys or layer size: ('classifier.weight', 'classifier.bias')\u001b[0m\n",
      "\u001b[32m2023-08-03 14:20:39.064\u001b[0m | \u001b[1mINFO    \u001b[0m | \u001b[36m__main__\u001b[0m:\u001b[36mrun\u001b[0m:\u001b[36m203\u001b[0m - \u001b[1mvideo 1/1 (1/453) /home/jrenault/workspace/adomvi/adomvi/../resources/test/lav3.mp4: 384x640 (no detections), YOLO 96.2ms, TRACKING 0.9ms\u001b[0m\n",
      "\u001b[32m2023-08-03 14:20:39.079\u001b[0m | \u001b[1mINFO    \u001b[0m | \u001b[36m__main__\u001b[0m:\u001b[36mrun\u001b[0m:\u001b[36m203\u001b[0m - \u001b[1mvideo 1/1 (2/453) /home/jrenault/workspace/adomvi/adomvi/../resources/test/lav3.mp4: 384x640 (no detections), YOLO 7.2ms, TRACKING 1.6ms\u001b[0m\n",
      "\u001b[32m2023-08-03 14:20:39.094\u001b[0m | \u001b[1mINFO    \u001b[0m | \u001b[36m__main__\u001b[0m:\u001b[36mrun\u001b[0m:\u001b[36m203\u001b[0m - \u001b[1mvideo 1/1 (3/453) /home/jrenault/workspace/adomvi/adomvi/../resources/test/lav3.mp4: 384x640 (no detections), YOLO 7.1ms, TRACKING 1.9ms\u001b[0m\n",
      "\u001b[32m2023-08-03 14:20:39.108\u001b[0m | \u001b[1mINFO    \u001b[0m | \u001b[36m__main__\u001b[0m:\u001b[36mrun\u001b[0m:\u001b[36m203\u001b[0m - \u001b[1mvideo 1/1 (4/453) /home/jrenault/workspace/adomvi/adomvi/../resources/test/lav3.mp4: 384x640 (no detections), YOLO 6.7ms, TRACKING 1.7ms\u001b[0m\n",
      "\u001b[32m2023-08-03 14:20:39.122\u001b[0m | \u001b[1mINFO    \u001b[0m | \u001b[36m__main__\u001b[0m:\u001b[36mrun\u001b[0m:\u001b[36m203\u001b[0m - \u001b[1mvideo 1/1 (5/453) /home/jrenault/workspace/adomvi/adomvi/../resources/test/lav3.mp4: 384x640 (no detections), YOLO 6.8ms, TRACKING 1.7ms\u001b[0m\n",
      "\u001b[32m2023-08-03 14:20:39.137\u001b[0m | \u001b[1mINFO    \u001b[0m | \u001b[36m__main__\u001b[0m:\u001b[36mrun\u001b[0m:\u001b[36m203\u001b[0m - \u001b[1mvideo 1/1 (6/453) /home/jrenault/workspace/adomvi/adomvi/../resources/test/lav3.mp4: 384x640 (no detections), YOLO 6.7ms, TRACKING 1.7ms\u001b[0m\n",
      "\u001b[32m2023-08-03 14:20:39.151\u001b[0m | \u001b[1mINFO    \u001b[0m | \u001b[36m__main__\u001b[0m:\u001b[36mrun\u001b[0m:\u001b[36m203\u001b[0m - \u001b[1mvideo 1/1 (7/453) /home/jrenault/workspace/adomvi/adomvi/../resources/test/lav3.mp4: 384x640 (no detections), YOLO 6.7ms, TRACKING 1.8ms\u001b[0m\n",
      "\u001b[32m2023-08-03 14:20:39.165\u001b[0m | \u001b[1mINFO    \u001b[0m | \u001b[36m__main__\u001b[0m:\u001b[36mrun\u001b[0m:\u001b[36m203\u001b[0m - \u001b[1mvideo 1/1 (8/453) /home/jrenault/workspace/adomvi/adomvi/../resources/test/lav3.mp4: 384x640 (no detections), YOLO 6.5ms, TRACKING 1.7ms\u001b[0m\n",
      "\u001b[32m2023-08-03 14:20:39.217\u001b[0m | \u001b[1mINFO    \u001b[0m | \u001b[36m__main__\u001b[0m:\u001b[36mrun\u001b[0m:\u001b[36m203\u001b[0m - \u001b[1mvideo 1/1 (9/453) /home/jrenault/workspace/adomvi/adomvi/../resources/test/lav3.mp4: 384x640 1 LAV, YOLO 6.7ms, TRACKING 37.4ms\u001b[0m\n",
      "\u001b[32m2023-08-03 14:20:39.241\u001b[0m | \u001b[1mINFO    \u001b[0m | \u001b[36m__main__\u001b[0m:\u001b[36mrun\u001b[0m:\u001b[36m203\u001b[0m - \u001b[1mvideo 1/1 (10/453) /home/jrenault/workspace/adomvi/adomvi/../resources/test/lav3.mp4: 384x640 1 LAV, YOLO 6.9ms, TRACKING 10.0ms\u001b[0m\n",
      "\u001b[32m2023-08-03 14:20:39.256\u001b[0m | \u001b[1mINFO    \u001b[0m | \u001b[36m__main__\u001b[0m:\u001b[36mrun\u001b[0m:\u001b[36m203\u001b[0m - \u001b[1mvideo 1/1 (11/453) /home/jrenault/workspace/adomvi/adomvi/../resources/test/lav3.mp4: 384x640 (no detections), YOLO 6.8ms, TRACKING 2.2ms\u001b[0m\n",
      "\u001b[32m2023-08-03 14:20:39.271\u001b[0m | \u001b[1mINFO    \u001b[0m | \u001b[36m__main__\u001b[0m:\u001b[36mrun\u001b[0m:\u001b[36m203\u001b[0m - \u001b[1mvideo 1/1 (12/453) /home/jrenault/workspace/adomvi/adomvi/../resources/test/lav3.mp4: 384x640 (no detections), YOLO 7.0ms, TRACKING 2.1ms\u001b[0m\n",
      "\u001b[32m2023-08-03 14:20:39.286\u001b[0m | \u001b[1mINFO    \u001b[0m | \u001b[36m__main__\u001b[0m:\u001b[36mrun\u001b[0m:\u001b[36m203\u001b[0m - \u001b[1mvideo 1/1 (13/453) /home/jrenault/workspace/adomvi/adomvi/../resources/test/lav3.mp4: 384x640 (no detections), YOLO 6.9ms, TRACKING 2.2ms\u001b[0m\n",
      "\u001b[32m2023-08-03 14:20:39.302\u001b[0m | \u001b[1mINFO    \u001b[0m | \u001b[36m__main__\u001b[0m:\u001b[36mrun\u001b[0m:\u001b[36m203\u001b[0m - \u001b[1mvideo 1/1 (14/453) /home/jrenault/workspace/adomvi/adomvi/../resources/test/lav3.mp4: 384x640 (no detections), YOLO 7.0ms, TRACKING 2.2ms\u001b[0m\n",
      "\u001b[32m2023-08-03 14:20:39.317\u001b[0m | \u001b[1mINFO    \u001b[0m | \u001b[36m__main__\u001b[0m:\u001b[36mrun\u001b[0m:\u001b[36m203\u001b[0m - \u001b[1mvideo 1/1 (15/453) /home/jrenault/workspace/adomvi/adomvi/../resources/test/lav3.mp4: 384x640 (no detections), YOLO 6.9ms, TRACKING 2.1ms\u001b[0m\n",
      "\u001b[32m2023-08-03 14:20:39.331\u001b[0m | \u001b[1mINFO    \u001b[0m | \u001b[36m__main__\u001b[0m:\u001b[36mrun\u001b[0m:\u001b[36m203\u001b[0m - \u001b[1mvideo 1/1 (16/453) /home/jrenault/workspace/adomvi/adomvi/../resources/test/lav3.mp4: 384x640 (no detections), YOLO 6.7ms, TRACKING 2.0ms\u001b[0m\n",
      "\u001b[32m2023-08-03 14:20:39.346\u001b[0m | \u001b[1mINFO    \u001b[0m | \u001b[36m__main__\u001b[0m:\u001b[36mrun\u001b[0m:\u001b[36m203\u001b[0m - \u001b[1mvideo 1/1 (17/453) /home/jrenault/workspace/adomvi/adomvi/../resources/test/lav3.mp4: 384x640 (no detections), YOLO 6.9ms, TRACKING 2.1ms\u001b[0m\n",
      "\u001b[32m2023-08-03 14:20:39.361\u001b[0m | \u001b[1mINFO    \u001b[0m | \u001b[36m__main__\u001b[0m:\u001b[36mrun\u001b[0m:\u001b[36m203\u001b[0m - \u001b[1mvideo 1/1 (18/453) /home/jrenault/workspace/adomvi/adomvi/../resources/test/lav3.mp4: 384x640 (no detections), YOLO 6.9ms, TRACKING 2.0ms\u001b[0m\n",
      "\u001b[32m2023-08-03 14:20:39.375\u001b[0m | \u001b[1mINFO    \u001b[0m | \u001b[36m__main__\u001b[0m:\u001b[36mrun\u001b[0m:\u001b[36m203\u001b[0m - \u001b[1mvideo 1/1 (19/453) /home/jrenault/workspace/adomvi/adomvi/../resources/test/lav3.mp4: 384x640 (no detections), YOLO 6.6ms, TRACKING 2.0ms\u001b[0m\n",
      "\u001b[32m2023-08-03 14:20:39.390\u001b[0m | \u001b[1mINFO    \u001b[0m | \u001b[36m__main__\u001b[0m:\u001b[36mrun\u001b[0m:\u001b[36m203\u001b[0m - \u001b[1mvideo 1/1 (20/453) /home/jrenault/workspace/adomvi/adomvi/../resources/test/lav3.mp4: 384x640 (no detections), YOLO 6.8ms, TRACKING 2.0ms\u001b[0m\n",
      "\u001b[32m2023-08-03 14:20:39.405\u001b[0m | \u001b[1mINFO    \u001b[0m | \u001b[36m__main__\u001b[0m:\u001b[36mrun\u001b[0m:\u001b[36m203\u001b[0m - \u001b[1mvideo 1/1 (21/453) /home/jrenault/workspace/adomvi/adomvi/../resources/test/lav3.mp4: 384x640 (no detections), YOLO 6.7ms, TRACKING 2.0ms\u001b[0m\n",
      "\u001b[32m2023-08-03 14:20:39.420\u001b[0m | \u001b[1mINFO    \u001b[0m | \u001b[36m__main__\u001b[0m:\u001b[36mrun\u001b[0m:\u001b[36m203\u001b[0m - \u001b[1mvideo 1/1 (22/453) /home/jrenault/workspace/adomvi/adomvi/../resources/test/lav3.mp4: 384x640 (no detections), YOLO 6.9ms, TRACKING 2.1ms\u001b[0m\n",
      "\u001b[32m2023-08-03 14:20:39.444\u001b[0m | \u001b[1mINFO    \u001b[0m | \u001b[36m__main__\u001b[0m:\u001b[36mrun\u001b[0m:\u001b[36m203\u001b[0m - \u001b[1mvideo 1/1 (23/453) /home/jrenault/workspace/adomvi/adomvi/../resources/test/lav3.mp4: 384x640 1 MEV, YOLO 6.8ms, TRACKING 10.5ms\u001b[0m\n",
      "\u001b[32m2023-08-03 14:20:39.469\u001b[0m | \u001b[1mINFO    \u001b[0m | \u001b[36m__main__\u001b[0m:\u001b[36mrun\u001b[0m:\u001b[36m203\u001b[0m - \u001b[1mvideo 1/1 (24/453) /home/jrenault/workspace/adomvi/adomvi/../resources/test/lav3.mp4: 384x640 1 MEV, YOLO 7.1ms, TRACKING 9.9ms\u001b[0m\n",
      "\u001b[32m2023-08-03 14:20:39.484\u001b[0m | \u001b[1mINFO    \u001b[0m | \u001b[36m__main__\u001b[0m:\u001b[36mrun\u001b[0m:\u001b[36m203\u001b[0m - \u001b[1mvideo 1/1 (25/453) /home/jrenault/workspace/adomvi/adomvi/../resources/test/lav3.mp4: 384x640 (no detections), YOLO 6.8ms, TRACKING 2.0ms\u001b[0m\n",
      "\u001b[32m2023-08-03 14:20:39.499\u001b[0m | \u001b[1mINFO    \u001b[0m | \u001b[36m__main__\u001b[0m:\u001b[36mrun\u001b[0m:\u001b[36m203\u001b[0m - \u001b[1mvideo 1/1 (26/453) /home/jrenault/workspace/adomvi/adomvi/../resources/test/lav3.mp4: 384x640 (no detections), YOLO 6.7ms, TRACKING 2.0ms\u001b[0m\n",
      "\u001b[32m2023-08-03 14:20:39.513\u001b[0m | \u001b[1mINFO    \u001b[0m | \u001b[36m__main__\u001b[0m:\u001b[36mrun\u001b[0m:\u001b[36m203\u001b[0m - \u001b[1mvideo 1/1 (27/453) /home/jrenault/workspace/adomvi/adomvi/../resources/test/lav3.mp4: 384x640 (no detections), YOLO 6.9ms, TRACKING 2.1ms\u001b[0m\n",
      "\u001b[32m2023-08-03 14:20:39.528\u001b[0m | \u001b[1mINFO    \u001b[0m | \u001b[36m__main__\u001b[0m:\u001b[36mrun\u001b[0m:\u001b[36m203\u001b[0m - \u001b[1mvideo 1/1 (28/453) /home/jrenault/workspace/adomvi/adomvi/../resources/test/lav3.mp4: 384x640 (no detections), YOLO 6.6ms, TRACKING 2.0ms\u001b[0m\n",
      "\u001b[32m2023-08-03 14:20:39.542\u001b[0m | \u001b[1mINFO    \u001b[0m | \u001b[36m__main__\u001b[0m:\u001b[36mrun\u001b[0m:\u001b[36m203\u001b[0m - \u001b[1mvideo 1/1 (29/453) /home/jrenault/workspace/adomvi/adomvi/../resources/test/lav3.mp4: 384x640 (no detections), YOLO 6.6ms, TRACKING 2.2ms\u001b[0m\n",
      "\u001b[32m2023-08-03 14:20:39.558\u001b[0m | \u001b[1mINFO    \u001b[0m | \u001b[36m__main__\u001b[0m:\u001b[36mrun\u001b[0m:\u001b[36m203\u001b[0m - \u001b[1mvideo 1/1 (30/453) /home/jrenault/workspace/adomvi/adomvi/../resources/test/lav3.mp4: 384x640 (no detections), YOLO 7.4ms, TRACKING 2.3ms\u001b[0m\n",
      "\u001b[32m2023-08-03 14:20:39.574\u001b[0m | \u001b[1mINFO    \u001b[0m | \u001b[36m__main__\u001b[0m:\u001b[36mrun\u001b[0m:\u001b[36m203\u001b[0m - \u001b[1mvideo 1/1 (31/453) /home/jrenault/workspace/adomvi/adomvi/../resources/test/lav3.mp4: 384x640 (no detections), YOLO 7.1ms, TRACKING 2.4ms\u001b[0m\n",
      "\u001b[32m2023-08-03 14:20:39.590\u001b[0m | \u001b[1mINFO    \u001b[0m | \u001b[36m__main__\u001b[0m:\u001b[36mrun\u001b[0m:\u001b[36m203\u001b[0m - \u001b[1mvideo 1/1 (32/453) /home/jrenault/workspace/adomvi/adomvi/../resources/test/lav3.mp4: 384x640 (no detections), YOLO 7.3ms, TRACKING 2.3ms\u001b[0m\n",
      "\u001b[32m2023-08-03 14:20:39.606\u001b[0m | \u001b[1mINFO    \u001b[0m | \u001b[36m__main__\u001b[0m:\u001b[36mrun\u001b[0m:\u001b[36m203\u001b[0m - \u001b[1mvideo 1/1 (33/453) /home/jrenault/workspace/adomvi/adomvi/../resources/test/lav3.mp4: 384x640 (no detections), YOLO 7.3ms, TRACKING 2.3ms\u001b[0m\n",
      "\u001b[32m2023-08-03 14:20:39.621\u001b[0m | \u001b[1mINFO    \u001b[0m | \u001b[36m__main__\u001b[0m:\u001b[36mrun\u001b[0m:\u001b[36m203\u001b[0m - \u001b[1mvideo 1/1 (34/453) /home/jrenault/workspace/adomvi/adomvi/../resources/test/lav3.mp4: 384x640 (no detections), YOLO 7.0ms, TRACKING 2.1ms\u001b[0m\n",
      "\u001b[32m2023-08-03 14:20:39.647\u001b[0m | \u001b[1mINFO    \u001b[0m | \u001b[36m__main__\u001b[0m:\u001b[36mrun\u001b[0m:\u001b[36m203\u001b[0m - \u001b[1mvideo 1/1 (35/453) /home/jrenault/workspace/adomvi/adomvi/../resources/test/lav3.mp4: 384x640 1 MEV, YOLO 6.8ms, TRACKING 12.2ms\u001b[0m\n",
      "\u001b[32m2023-08-03 14:20:39.673\u001b[0m | \u001b[1mINFO    \u001b[0m | \u001b[36m__main__\u001b[0m:\u001b[36mrun\u001b[0m:\u001b[36m203\u001b[0m - \u001b[1mvideo 1/1 (36/453) /home/jrenault/workspace/adomvi/adomvi/../resources/test/lav3.mp4: 384x640 1 MEV, YOLO 7.1ms, TRACKING 11.3ms\u001b[0m\n",
      "\u001b[32m2023-08-03 14:20:39.699\u001b[0m | \u001b[1mINFO    \u001b[0m | \u001b[36m__main__\u001b[0m:\u001b[36mrun\u001b[0m:\u001b[36m203\u001b[0m - \u001b[1mvideo 1/1 (37/453) /home/jrenault/workspace/adomvi/adomvi/../resources/test/lav3.mp4: 384x640 1 MEV, YOLO 7.0ms, TRACKING 11.2ms\u001b[0m\n",
      "\u001b[32m2023-08-03 14:20:39.715\u001b[0m | \u001b[1mINFO    \u001b[0m | \u001b[36m__main__\u001b[0m:\u001b[36mrun\u001b[0m:\u001b[36m203\u001b[0m - \u001b[1mvideo 1/1 (38/453) /home/jrenault/workspace/adomvi/adomvi/../resources/test/lav3.mp4: 384x640 (no detections), YOLO 7.3ms, TRACKING 2.3ms\u001b[0m\n",
      "\u001b[32m2023-08-03 14:20:39.741\u001b[0m | \u001b[1mINFO    \u001b[0m | \u001b[36m__main__\u001b[0m:\u001b[36mrun\u001b[0m:\u001b[36m203\u001b[0m - \u001b[1mvideo 1/1 (39/453) /home/jrenault/workspace/adomvi/adomvi/../resources/test/lav3.mp4: 384x640 1 MEV, YOLO 6.9ms, TRACKING 11.5ms\u001b[0m\n",
      "\u001b[32m2023-08-03 14:20:39.767\u001b[0m | \u001b[1mINFO    \u001b[0m | \u001b[36m__main__\u001b[0m:\u001b[36mrun\u001b[0m:\u001b[36m203\u001b[0m - \u001b[1mvideo 1/1 (40/453) /home/jrenault/workspace/adomvi/adomvi/../resources/test/lav3.mp4: 384x640 1 MEV, YOLO 7.2ms, TRACKING 11.2ms\u001b[0m\n",
      "\u001b[32m2023-08-03 14:20:39.793\u001b[0m | \u001b[1mINFO    \u001b[0m | \u001b[36m__main__\u001b[0m:\u001b[36mrun\u001b[0m:\u001b[36m203\u001b[0m - \u001b[1mvideo 1/1 (41/453) /home/jrenault/workspace/adomvi/adomvi/../resources/test/lav3.mp4: 384x640 1 MEV, YOLO 6.8ms, TRACKING 11.0ms\u001b[0m\n",
      "\u001b[32m2023-08-03 14:20:39.819\u001b[0m | \u001b[1mINFO    \u001b[0m | \u001b[36m__main__\u001b[0m:\u001b[36mrun\u001b[0m:\u001b[36m203\u001b[0m - \u001b[1mvideo 1/1 (42/453) /home/jrenault/workspace/adomvi/adomvi/../resources/test/lav3.mp4: 384x640 1 MEV, YOLO 7.1ms, TRACKING 11.0ms\u001b[0m\n",
      "\u001b[32m2023-08-03 14:20:39.844\u001b[0m | \u001b[1mINFO    \u001b[0m | \u001b[36m__main__\u001b[0m:\u001b[36mrun\u001b[0m:\u001b[36m203\u001b[0m - \u001b[1mvideo 1/1 (43/453) /home/jrenault/workspace/adomvi/adomvi/../resources/test/lav3.mp4: 384x640 1 MEV, YOLO 6.8ms, TRACKING 10.8ms\u001b[0m\n",
      "\u001b[32m2023-08-03 14:20:39.870\u001b[0m | \u001b[1mINFO    \u001b[0m | \u001b[36m__main__\u001b[0m:\u001b[36mrun\u001b[0m:\u001b[36m203\u001b[0m - \u001b[1mvideo 1/1 (44/453) /home/jrenault/workspace/adomvi/adomvi/../resources/test/lav3.mp4: 384x640 1 MEV, YOLO 7.1ms, TRACKING 10.9ms\u001b[0m\n",
      "\u001b[32m2023-08-03 14:20:39.895\u001b[0m | \u001b[1mINFO    \u001b[0m | \u001b[36m__main__\u001b[0m:\u001b[36mrun\u001b[0m:\u001b[36m203\u001b[0m - \u001b[1mvideo 1/1 (45/453) /home/jrenault/workspace/adomvi/adomvi/../resources/test/lav3.mp4: 384x640 1 MEV, YOLO 6.8ms, TRACKING 11.1ms\u001b[0m\n",
      "\u001b[32m2023-08-03 14:20:39.910\u001b[0m | \u001b[1mINFO    \u001b[0m | \u001b[36m__main__\u001b[0m:\u001b[36mrun\u001b[0m:\u001b[36m203\u001b[0m - \u001b[1mvideo 1/1 (46/453) /home/jrenault/workspace/adomvi/adomvi/../resources/test/lav3.mp4: 384x640 (no detections), YOLO 7.0ms, TRACKING 2.1ms\u001b[0m\n",
      "\u001b[32m2023-08-03 14:20:39.925\u001b[0m | \u001b[1mINFO    \u001b[0m | \u001b[36m__main__\u001b[0m:\u001b[36mrun\u001b[0m:\u001b[36m203\u001b[0m - \u001b[1mvideo 1/1 (47/453) /home/jrenault/workspace/adomvi/adomvi/../resources/test/lav3.mp4: 384x640 (no detections), YOLO 6.7ms, TRACKING 2.0ms\u001b[0m\n",
      "\u001b[32m2023-08-03 14:20:39.939\u001b[0m | \u001b[1mINFO    \u001b[0m | \u001b[36m__main__\u001b[0m:\u001b[36mrun\u001b[0m:\u001b[36m203\u001b[0m - \u001b[1mvideo 1/1 (48/453) /home/jrenault/workspace/adomvi/adomvi/../resources/test/lav3.mp4: 384x640 (no detections), YOLO 6.5ms, TRACKING 1.9ms\u001b[0m\n",
      "\u001b[32m2023-08-03 14:20:39.954\u001b[0m | \u001b[1mINFO    \u001b[0m | \u001b[36m__main__\u001b[0m:\u001b[36mrun\u001b[0m:\u001b[36m203\u001b[0m - \u001b[1mvideo 1/1 (49/453) /home/jrenault/workspace/adomvi/adomvi/../resources/test/lav3.mp4: 384x640 (no detections), YOLO 6.7ms, TRACKING 2.0ms\u001b[0m\n",
      "\u001b[32m2023-08-03 14:20:39.968\u001b[0m | \u001b[1mINFO    \u001b[0m | \u001b[36m__main__\u001b[0m:\u001b[36mrun\u001b[0m:\u001b[36m203\u001b[0m - \u001b[1mvideo 1/1 (50/453) /home/jrenault/workspace/adomvi/adomvi/../resources/test/lav3.mp4: 384x640 (no detections), YOLO 6.7ms, TRACKING 1.6ms\u001b[0m\n",
      "\u001b[32m2023-08-03 14:20:39.983\u001b[0m | \u001b[1mINFO    \u001b[0m | \u001b[36m__main__\u001b[0m:\u001b[36mrun\u001b[0m:\u001b[36m203\u001b[0m - \u001b[1mvideo 1/1 (51/453) /home/jrenault/workspace/adomvi/adomvi/../resources/test/lav3.mp4: 384x640 (no detections), YOLO 6.9ms, TRACKING 1.9ms\u001b[0m\n",
      "\u001b[32m2023-08-03 14:20:39.998\u001b[0m | \u001b[1mINFO    \u001b[0m | \u001b[36m__main__\u001b[0m:\u001b[36mrun\u001b[0m:\u001b[36m203\u001b[0m - \u001b[1mvideo 1/1 (52/453) /home/jrenault/workspace/adomvi/adomvi/../resources/test/lav3.mp4: 384x640 (no detections), YOLO 7.0ms, TRACKING 2.1ms\u001b[0m\n",
      "\u001b[32m2023-08-03 14:20:40.014\u001b[0m | \u001b[1mINFO    \u001b[0m | \u001b[36m__main__\u001b[0m:\u001b[36mrun\u001b[0m:\u001b[36m203\u001b[0m - \u001b[1mvideo 1/1 (53/453) /home/jrenault/workspace/adomvi/adomvi/../resources/test/lav3.mp4: 384x640 (no detections), YOLO 7.3ms, TRACKING 2.1ms\u001b[0m\n",
      "\u001b[32m2023-08-03 14:20:40.029\u001b[0m | \u001b[1mINFO    \u001b[0m | \u001b[36m__main__\u001b[0m:\u001b[36mrun\u001b[0m:\u001b[36m203\u001b[0m - \u001b[1mvideo 1/1 (54/453) /home/jrenault/workspace/adomvi/adomvi/../resources/test/lav3.mp4: 384x640 (no detections), YOLO 7.1ms, TRACKING 2.1ms\u001b[0m\n",
      "\u001b[32m2023-08-03 14:20:40.044\u001b[0m | \u001b[1mINFO    \u001b[0m | \u001b[36m__main__\u001b[0m:\u001b[36mrun\u001b[0m:\u001b[36m203\u001b[0m - \u001b[1mvideo 1/1 (55/453) /home/jrenault/workspace/adomvi/adomvi/../resources/test/lav3.mp4: 384x640 (no detections), YOLO 6.7ms, TRACKING 2.1ms\u001b[0m\n",
      "\u001b[32m2023-08-03 14:20:40.060\u001b[0m | \u001b[1mINFO    \u001b[0m | \u001b[36m__main__\u001b[0m:\u001b[36mrun\u001b[0m:\u001b[36m203\u001b[0m - \u001b[1mvideo 1/1 (56/453) /home/jrenault/workspace/adomvi/adomvi/../resources/test/lav3.mp4: 384x640 (no detections), YOLO 7.1ms, TRACKING 2.3ms\u001b[0m\n",
      "\u001b[32m2023-08-03 14:20:40.075\u001b[0m | \u001b[1mINFO    \u001b[0m | \u001b[36m__main__\u001b[0m:\u001b[36mrun\u001b[0m:\u001b[36m203\u001b[0m - \u001b[1mvideo 1/1 (57/453) /home/jrenault/workspace/adomvi/adomvi/../resources/test/lav3.mp4: 384x640 (no detections), YOLO 6.9ms, TRACKING 2.1ms\u001b[0m\n",
      "\u001b[32m2023-08-03 14:20:40.090\u001b[0m | \u001b[1mINFO    \u001b[0m | \u001b[36m__main__\u001b[0m:\u001b[36mrun\u001b[0m:\u001b[36m203\u001b[0m - \u001b[1mvideo 1/1 (58/453) /home/jrenault/workspace/adomvi/adomvi/../resources/test/lav3.mp4: 384x640 (no detections), YOLO 7.0ms, TRACKING 2.2ms\u001b[0m\n",
      "\u001b[32m2023-08-03 14:20:40.105\u001b[0m | \u001b[1mINFO    \u001b[0m | \u001b[36m__main__\u001b[0m:\u001b[36mrun\u001b[0m:\u001b[36m203\u001b[0m - \u001b[1mvideo 1/1 (59/453) /home/jrenault/workspace/adomvi/adomvi/../resources/test/lav3.mp4: 384x640 (no detections), YOLO 6.9ms, TRACKING 2.1ms\u001b[0m\n",
      "\u001b[32m2023-08-03 14:20:40.119\u001b[0m | \u001b[1mINFO    \u001b[0m | \u001b[36m__main__\u001b[0m:\u001b[36mrun\u001b[0m:\u001b[36m203\u001b[0m - \u001b[1mvideo 1/1 (60/453) /home/jrenault/workspace/adomvi/adomvi/../resources/test/lav3.mp4: 384x640 (no detections), YOLO 6.7ms, TRACKING 2.0ms\u001b[0m\n",
      "\u001b[32m2023-08-03 14:20:40.134\u001b[0m | \u001b[1mINFO    \u001b[0m | \u001b[36m__main__\u001b[0m:\u001b[36mrun\u001b[0m:\u001b[36m203\u001b[0m - \u001b[1mvideo 1/1 (61/453) /home/jrenault/workspace/adomvi/adomvi/../resources/test/lav3.mp4: 384x640 (no detections), YOLO 6.5ms, TRACKING 2.0ms\u001b[0m\n",
      "\u001b[32m2023-08-03 14:20:40.148\u001b[0m | \u001b[1mINFO    \u001b[0m | \u001b[36m__main__\u001b[0m:\u001b[36mrun\u001b[0m:\u001b[36m203\u001b[0m - \u001b[1mvideo 1/1 (62/453) /home/jrenault/workspace/adomvi/adomvi/../resources/test/lav3.mp4: 384x640 (no detections), YOLO 6.5ms, TRACKING 2.0ms\u001b[0m\n",
      "\u001b[32m2023-08-03 14:20:40.162\u001b[0m | \u001b[1mINFO    \u001b[0m | \u001b[36m__main__\u001b[0m:\u001b[36mrun\u001b[0m:\u001b[36m203\u001b[0m - \u001b[1mvideo 1/1 (63/453) /home/jrenault/workspace/adomvi/adomvi/../resources/test/lav3.mp4: 384x640 (no detections), YOLO 6.6ms, TRACKING 2.2ms\u001b[0m\n",
      "\u001b[32m2023-08-03 14:20:40.189\u001b[0m | \u001b[1mINFO    \u001b[0m | \u001b[36m__main__\u001b[0m:\u001b[36mrun\u001b[0m:\u001b[36m203\u001b[0m - \u001b[1mvideo 1/1 (64/453) /home/jrenault/workspace/adomvi/adomvi/../resources/test/lav3.mp4: 384x640 1 MEV, YOLO 6.7ms, TRACKING 12.3ms\u001b[0m\n",
      "\u001b[32m2023-08-03 14:20:40.204\u001b[0m | \u001b[1mINFO    \u001b[0m | \u001b[36m__main__\u001b[0m:\u001b[36mrun\u001b[0m:\u001b[36m203\u001b[0m - \u001b[1mvideo 1/1 (65/453) /home/jrenault/workspace/adomvi/adomvi/../resources/test/lav3.mp4: 384x640 (no detections), YOLO 6.6ms, TRACKING 2.3ms\u001b[0m\n",
      "\u001b[32m2023-08-03 14:20:40.218\u001b[0m | \u001b[1mINFO    \u001b[0m | \u001b[36m__main__\u001b[0m:\u001b[36mrun\u001b[0m:\u001b[36m203\u001b[0m - \u001b[1mvideo 1/1 (66/453) /home/jrenault/workspace/adomvi/adomvi/../resources/test/lav3.mp4: 384x640 (no detections), YOLO 6.9ms, TRACKING 2.0ms\u001b[0m\n",
      "\u001b[32m2023-08-03 14:20:40.244\u001b[0m | \u001b[1mINFO    \u001b[0m | \u001b[36m__main__\u001b[0m:\u001b[36mrun\u001b[0m:\u001b[36m203\u001b[0m - \u001b[1mvideo 1/1 (67/453) /home/jrenault/workspace/adomvi/adomvi/../resources/test/lav3.mp4: 384x640 1 MEV, YOLO 6.5ms, TRACKING 11.2ms\u001b[0m\n",
      "\u001b[32m2023-08-03 14:20:40.270\u001b[0m | \u001b[1mINFO    \u001b[0m | \u001b[36m__main__\u001b[0m:\u001b[36mrun\u001b[0m:\u001b[36m203\u001b[0m - \u001b[1mvideo 1/1 (68/453) /home/jrenault/workspace/adomvi/adomvi/../resources/test/lav3.mp4: 384x640 1 MEV, YOLO 6.7ms, TRACKING 11.4ms\u001b[0m\n",
      "\u001b[32m2023-08-03 14:20:40.285\u001b[0m | \u001b[1mINFO    \u001b[0m | \u001b[36m__main__\u001b[0m:\u001b[36mrun\u001b[0m:\u001b[36m203\u001b[0m - \u001b[1mvideo 1/1 (69/453) /home/jrenault/workspace/adomvi/adomvi/../resources/test/lav3.mp4: 384x640 (no detections), YOLO 6.8ms, TRACKING 2.3ms\u001b[0m\n",
      "\u001b[32m2023-08-03 14:20:40.299\u001b[0m | \u001b[1mINFO    \u001b[0m | \u001b[36m__main__\u001b[0m:\u001b[36mrun\u001b[0m:\u001b[36m203\u001b[0m - \u001b[1mvideo 1/1 (70/453) /home/jrenault/workspace/adomvi/adomvi/../resources/test/lav3.mp4: 384x640 (no detections), YOLO 6.5ms, TRACKING 2.1ms\u001b[0m\n",
      "\u001b[32m2023-08-03 14:20:40.314\u001b[0m | \u001b[1mINFO    \u001b[0m | \u001b[36m__main__\u001b[0m:\u001b[36mrun\u001b[0m:\u001b[36m203\u001b[0m - \u001b[1mvideo 1/1 (71/453) /home/jrenault/workspace/adomvi/adomvi/../resources/test/lav3.mp4: 384x640 (no detections), YOLO 6.6ms, TRACKING 2.0ms\u001b[0m\n",
      "\u001b[32m2023-08-03 14:20:40.329\u001b[0m | \u001b[1mINFO    \u001b[0m | \u001b[36m__main__\u001b[0m:\u001b[36mrun\u001b[0m:\u001b[36m203\u001b[0m - \u001b[1mvideo 1/1 (72/453) /home/jrenault/workspace/adomvi/adomvi/../resources/test/lav3.mp4: 384x640 (no detections), YOLO 6.7ms, TRACKING 2.0ms\u001b[0m\n",
      "\u001b[32m2023-08-03 14:20:40.343\u001b[0m | \u001b[1mINFO    \u001b[0m | \u001b[36m__main__\u001b[0m:\u001b[36mrun\u001b[0m:\u001b[36m203\u001b[0m - \u001b[1mvideo 1/1 (73/453) /home/jrenault/workspace/adomvi/adomvi/../resources/test/lav3.mp4: 384x640 (no detections), YOLO 6.6ms, TRACKING 2.1ms\u001b[0m\n",
      "\u001b[32m2023-08-03 14:20:40.358\u001b[0m | \u001b[1mINFO    \u001b[0m | \u001b[36m__main__\u001b[0m:\u001b[36mrun\u001b[0m:\u001b[36m203\u001b[0m - \u001b[1mvideo 1/1 (74/453) /home/jrenault/workspace/adomvi/adomvi/../resources/test/lav3.mp4: 384x640 (no detections), YOLO 6.6ms, TRACKING 2.1ms\u001b[0m\n",
      "\u001b[32m2023-08-03 14:20:40.373\u001b[0m | \u001b[1mINFO    \u001b[0m | \u001b[36m__main__\u001b[0m:\u001b[36mrun\u001b[0m:\u001b[36m203\u001b[0m - \u001b[1mvideo 1/1 (75/453) /home/jrenault/workspace/adomvi/adomvi/../resources/test/lav3.mp4: 384x640 (no detections), YOLO 6.8ms, TRACKING 1.6ms\u001b[0m\n",
      "\u001b[32m2023-08-03 14:20:40.387\u001b[0m | \u001b[1mINFO    \u001b[0m | \u001b[36m__main__\u001b[0m:\u001b[36mrun\u001b[0m:\u001b[36m203\u001b[0m - \u001b[1mvideo 1/1 (76/453) /home/jrenault/workspace/adomvi/adomvi/../resources/test/lav3.mp4: 384x640 (no detections), YOLO 6.6ms, TRACKING 2.0ms\u001b[0m\n",
      "\u001b[32m2023-08-03 14:20:40.413\u001b[0m | \u001b[1mINFO    \u001b[0m | \u001b[36m__main__\u001b[0m:\u001b[36mrun\u001b[0m:\u001b[36m203\u001b[0m - \u001b[1mvideo 1/1 (77/453) /home/jrenault/workspace/adomvi/adomvi/../resources/test/lav3.mp4: 384x640 1 MEV, YOLO 6.7ms, TRACKING 11.7ms\u001b[0m\n",
      "\u001b[32m2023-08-03 14:20:40.428\u001b[0m | \u001b[1mINFO    \u001b[0m | \u001b[36m__main__\u001b[0m:\u001b[36mrun\u001b[0m:\u001b[36m203\u001b[0m - \u001b[1mvideo 1/1 (78/453) /home/jrenault/workspace/adomvi/adomvi/../resources/test/lav3.mp4: 384x640 (no detections), YOLO 6.8ms, TRACKING 2.2ms\u001b[0m\n",
      "\u001b[32m2023-08-03 14:20:40.443\u001b[0m | \u001b[1mINFO    \u001b[0m | \u001b[36m__main__\u001b[0m:\u001b[36mrun\u001b[0m:\u001b[36m203\u001b[0m - \u001b[1mvideo 1/1 (79/453) /home/jrenault/workspace/adomvi/adomvi/../resources/test/lav3.mp4: 384x640 (no detections), YOLO 6.5ms, TRACKING 1.9ms\u001b[0m\n",
      "\u001b[32m2023-08-03 14:20:40.457\u001b[0m | \u001b[1mINFO    \u001b[0m | \u001b[36m__main__\u001b[0m:\u001b[36mrun\u001b[0m:\u001b[36m203\u001b[0m - \u001b[1mvideo 1/1 (80/453) /home/jrenault/workspace/adomvi/adomvi/../resources/test/lav3.mp4: 384x640 (no detections), YOLO 6.6ms, TRACKING 2.0ms\u001b[0m\n",
      "\u001b[32m2023-08-03 14:20:40.472\u001b[0m | \u001b[1mINFO    \u001b[0m | \u001b[36m__main__\u001b[0m:\u001b[36mrun\u001b[0m:\u001b[36m203\u001b[0m - \u001b[1mvideo 1/1 (81/453) /home/jrenault/workspace/adomvi/adomvi/../resources/test/lav3.mp4: 384x640 (no detections), YOLO 6.8ms, TRACKING 2.0ms\u001b[0m\n",
      "\u001b[32m2023-08-03 14:20:40.487\u001b[0m | \u001b[1mINFO    \u001b[0m | \u001b[36m__main__\u001b[0m:\u001b[36mrun\u001b[0m:\u001b[36m203\u001b[0m - \u001b[1mvideo 1/1 (82/453) /home/jrenault/workspace/adomvi/adomvi/../resources/test/lav3.mp4: 384x640 (no detections), YOLO 7.0ms, TRACKING 2.1ms\u001b[0m\n",
      "\u001b[32m2023-08-03 14:20:40.502\u001b[0m | \u001b[1mINFO    \u001b[0m | \u001b[36m__main__\u001b[0m:\u001b[36mrun\u001b[0m:\u001b[36m203\u001b[0m - \u001b[1mvideo 1/1 (83/453) /home/jrenault/workspace/adomvi/adomvi/../resources/test/lav3.mp4: 384x640 (no detections), YOLO 6.6ms, TRACKING 2.1ms\u001b[0m\n",
      "\u001b[32m2023-08-03 14:20:40.531\u001b[0m | \u001b[1mINFO    \u001b[0m | \u001b[36m__main__\u001b[0m:\u001b[36mrun\u001b[0m:\u001b[36m203\u001b[0m - \u001b[1mvideo 1/1 (84/453) /home/jrenault/workspace/adomvi/adomvi/../resources/test/lav3.mp4: 384x640 1 MEV, YOLO 6.7ms, TRACKING 15.6ms\u001b[0m\n",
      "\u001b[32m2023-08-03 14:20:40.557\u001b[0m | \u001b[1mINFO    \u001b[0m | \u001b[36m__main__\u001b[0m:\u001b[36mrun\u001b[0m:\u001b[36m203\u001b[0m - \u001b[1mvideo 1/1 (85/453) /home/jrenault/workspace/adomvi/adomvi/../resources/test/lav3.mp4: 384x640 1 MEV, YOLO 6.6ms, TRACKING 11.5ms\u001b[0m\n",
      "\u001b[32m2023-08-03 14:20:40.583\u001b[0m | \u001b[1mINFO    \u001b[0m | \u001b[36m__main__\u001b[0m:\u001b[36mrun\u001b[0m:\u001b[36m203\u001b[0m - \u001b[1mvideo 1/1 (86/453) /home/jrenault/workspace/adomvi/adomvi/../resources/test/lav3.mp4: 384x640 1 MEV, YOLO 6.7ms, TRACKING 12.2ms\u001b[0m\n",
      "\u001b[32m2023-08-03 14:20:40.596\u001b[0m | \u001b[1mINFO    \u001b[0m | \u001b[36m__main__\u001b[0m:\u001b[36mrun\u001b[0m:\u001b[36m203\u001b[0m - \u001b[1mvideo 1/1 (87/453) /home/jrenault/workspace/adomvi/adomvi/../resources/test/lav3.mp4: 384x640 (no detections), YOLO 6.7ms, TRACKING 1.3ms\u001b[0m\n",
      "\u001b[32m2023-08-03 14:20:40.622\u001b[0m | \u001b[1mINFO    \u001b[0m | \u001b[36m__main__\u001b[0m:\u001b[36mrun\u001b[0m:\u001b[36m203\u001b[0m - \u001b[1mvideo 1/1 (88/453) /home/jrenault/workspace/adomvi/adomvi/../resources/test/lav3.mp4: 384x640 1 MEV, YOLO 6.5ms, TRACKING 11.6ms\u001b[0m\n",
      "\u001b[32m2023-08-03 14:20:40.647\u001b[0m | \u001b[1mINFO    \u001b[0m | \u001b[36m__main__\u001b[0m:\u001b[36mrun\u001b[0m:\u001b[36m203\u001b[0m - \u001b[1mvideo 1/1 (89/453) /home/jrenault/workspace/adomvi/adomvi/../resources/test/lav3.mp4: 384x640 1 MEV, YOLO 6.8ms, TRACKING 11.8ms\u001b[0m\n",
      "\u001b[32m2023-08-03 14:20:40.673\u001b[0m | \u001b[1mINFO    \u001b[0m | \u001b[36m__main__\u001b[0m:\u001b[36mrun\u001b[0m:\u001b[36m203\u001b[0m - \u001b[1mvideo 1/1 (90/453) /home/jrenault/workspace/adomvi/adomvi/../resources/test/lav3.mp4: 384x640 1 MEV, YOLO 6.8ms, TRACKING 12.0ms\u001b[0m\n",
      "\u001b[32m2023-08-03 14:20:40.699\u001b[0m | \u001b[1mINFO    \u001b[0m | \u001b[36m__main__\u001b[0m:\u001b[36mrun\u001b[0m:\u001b[36m203\u001b[0m - \u001b[1mvideo 1/1 (91/453) /home/jrenault/workspace/adomvi/adomvi/../resources/test/lav3.mp4: 384x640 1 MEV, YOLO 7.0ms, TRACKING 11.8ms\u001b[0m\n",
      "\u001b[32m2023-08-03 14:20:40.725\u001b[0m | \u001b[1mINFO    \u001b[0m | \u001b[36m__main__\u001b[0m:\u001b[36mrun\u001b[0m:\u001b[36m203\u001b[0m - \u001b[1mvideo 1/1 (92/453) /home/jrenault/workspace/adomvi/adomvi/../resources/test/lav3.mp4: 384x640 1 MEV, YOLO 6.7ms, TRACKING 11.6ms\u001b[0m\n",
      "\u001b[32m2023-08-03 14:20:40.751\u001b[0m | \u001b[1mINFO    \u001b[0m | \u001b[36m__main__\u001b[0m:\u001b[36mrun\u001b[0m:\u001b[36m203\u001b[0m - \u001b[1mvideo 1/1 (93/453) /home/jrenault/workspace/adomvi/adomvi/../resources/test/lav3.mp4: 384x640 1 MEV, YOLO 6.8ms, TRACKING 11.4ms\u001b[0m\n",
      "\u001b[32m2023-08-03 14:20:40.764\u001b[0m | \u001b[1mINFO    \u001b[0m | \u001b[36m__main__\u001b[0m:\u001b[36mrun\u001b[0m:\u001b[36m203\u001b[0m - \u001b[1mvideo 1/1 (94/453) /home/jrenault/workspace/adomvi/adomvi/../resources/test/lav3.mp4: 384x640 (no detections), YOLO 6.7ms, TRACKING 1.4ms\u001b[0m\n",
      "\u001b[32m2023-08-03 14:20:40.778\u001b[0m | \u001b[1mINFO    \u001b[0m | \u001b[36m__main__\u001b[0m:\u001b[36mrun\u001b[0m:\u001b[36m203\u001b[0m - \u001b[1mvideo 1/1 (95/453) /home/jrenault/workspace/adomvi/adomvi/../resources/test/lav3.mp4: 384x640 (no detections), YOLO 6.9ms, TRACKING 1.4ms\u001b[0m\n",
      "\u001b[32m2023-08-03 14:20:40.803\u001b[0m | \u001b[1mINFO    \u001b[0m | \u001b[36m__main__\u001b[0m:\u001b[36mrun\u001b[0m:\u001b[36m203\u001b[0m - \u001b[1mvideo 1/1 (96/453) /home/jrenault/workspace/adomvi/adomvi/../resources/test/lav3.mp4: 384x640 1 MEV, YOLO 6.7ms, TRACKING 11.5ms\u001b[0m\n",
      "\u001b[32m2023-08-03 14:20:40.828\u001b[0m | \u001b[1mINFO    \u001b[0m | \u001b[36m__main__\u001b[0m:\u001b[36mrun\u001b[0m:\u001b[36m203\u001b[0m - \u001b[1mvideo 1/1 (97/453) /home/jrenault/workspace/adomvi/adomvi/../resources/test/lav3.mp4: 384x640 1 MEV, YOLO 6.7ms, TRACKING 10.7ms\u001b[0m\n",
      "\u001b[32m2023-08-03 14:20:40.853\u001b[0m | \u001b[1mINFO    \u001b[0m | \u001b[36m__main__\u001b[0m:\u001b[36mrun\u001b[0m:\u001b[36m203\u001b[0m - \u001b[1mvideo 1/1 (98/453) /home/jrenault/workspace/adomvi/adomvi/../resources/test/lav3.mp4: 384x640 1 MEV, YOLO 6.9ms, TRACKING 10.8ms\u001b[0m\n",
      "\u001b[32m2023-08-03 14:20:40.877\u001b[0m | \u001b[1mINFO    \u001b[0m | \u001b[36m__main__\u001b[0m:\u001b[36mrun\u001b[0m:\u001b[36m203\u001b[0m - \u001b[1mvideo 1/1 (99/453) /home/jrenault/workspace/adomvi/adomvi/../resources/test/lav3.mp4: 384x640 1 MEV, YOLO 6.6ms, TRACKING 10.7ms\u001b[0m\n",
      "\u001b[32m2023-08-03 14:20:40.903\u001b[0m | \u001b[1mINFO    \u001b[0m | \u001b[36m__main__\u001b[0m:\u001b[36mrun\u001b[0m:\u001b[36m203\u001b[0m - \u001b[1mvideo 1/1 (100/453) /home/jrenault/workspace/adomvi/adomvi/../resources/test/lav3.mp4: 384x640 1 MEV, YOLO 7.2ms, TRACKING 11.1ms\u001b[0m\n",
      "\u001b[32m2023-08-03 14:20:40.928\u001b[0m | \u001b[1mINFO    \u001b[0m | \u001b[36m__main__\u001b[0m:\u001b[36mrun\u001b[0m:\u001b[36m203\u001b[0m - \u001b[1mvideo 1/1 (101/453) /home/jrenault/workspace/adomvi/adomvi/../resources/test/lav3.mp4: 384x640 1 MEV, YOLO 6.8ms, TRACKING 11.1ms\u001b[0m\n",
      "\u001b[32m2023-08-03 14:20:40.953\u001b[0m | \u001b[1mINFO    \u001b[0m | \u001b[36m__main__\u001b[0m:\u001b[36mrun\u001b[0m:\u001b[36m203\u001b[0m - \u001b[1mvideo 1/1 (102/453) /home/jrenault/workspace/adomvi/adomvi/../resources/test/lav3.mp4: 384x640 1 MEV, YOLO 6.7ms, TRACKING 11.0ms\u001b[0m\n",
      "\u001b[32m2023-08-03 14:20:40.967\u001b[0m | \u001b[1mINFO    \u001b[0m | \u001b[36m__main__\u001b[0m:\u001b[36mrun\u001b[0m:\u001b[36m203\u001b[0m - \u001b[1mvideo 1/1 (103/453) /home/jrenault/workspace/adomvi/adomvi/../resources/test/lav3.mp4: 384x640 (no detections), YOLO 6.7ms, TRACKING 1.4ms\u001b[0m\n",
      "\u001b[32m2023-08-03 14:20:40.992\u001b[0m | \u001b[1mINFO    \u001b[0m | \u001b[36m__main__\u001b[0m:\u001b[36mrun\u001b[0m:\u001b[36m203\u001b[0m - \u001b[1mvideo 1/1 (104/453) /home/jrenault/workspace/adomvi/adomvi/../resources/test/lav3.mp4: 384x640 1 MEV, YOLO 6.8ms, TRACKING 11.9ms\u001b[0m\n",
      "\u001b[32m2023-08-03 14:20:41.017\u001b[0m | \u001b[1mINFO    \u001b[0m | \u001b[36m__main__\u001b[0m:\u001b[36mrun\u001b[0m:\u001b[36m203\u001b[0m - \u001b[1mvideo 1/1 (105/453) /home/jrenault/workspace/adomvi/adomvi/../resources/test/lav3.mp4: 384x640 1 MEV, YOLO 6.8ms, TRACKING 11.2ms\u001b[0m\n",
      "\u001b[32m2023-08-03 14:20:41.032\u001b[0m | \u001b[1mINFO    \u001b[0m | \u001b[36m__main__\u001b[0m:\u001b[36mrun\u001b[0m:\u001b[36m203\u001b[0m - \u001b[1mvideo 1/1 (106/453) /home/jrenault/workspace/adomvi/adomvi/../resources/test/lav3.mp4: 384x640 (no detections), YOLO 6.9ms, TRACKING 1.4ms\u001b[0m\n",
      "\u001b[32m2023-08-03 14:20:41.045\u001b[0m | \u001b[1mINFO    \u001b[0m | \u001b[36m__main__\u001b[0m:\u001b[36mrun\u001b[0m:\u001b[36m203\u001b[0m - \u001b[1mvideo 1/1 (107/453) /home/jrenault/workspace/adomvi/adomvi/../resources/test/lav3.mp4: 384x640 (no detections), YOLO 6.7ms, TRACKING 1.4ms\u001b[0m\n",
      "\u001b[32m2023-08-03 14:20:41.059\u001b[0m | \u001b[1mINFO    \u001b[0m | \u001b[36m__main__\u001b[0m:\u001b[36mrun\u001b[0m:\u001b[36m203\u001b[0m - \u001b[1mvideo 1/1 (108/453) /home/jrenault/workspace/adomvi/adomvi/../resources/test/lav3.mp4: 384x640 (no detections), YOLO 6.7ms, TRACKING 1.4ms\u001b[0m\n",
      "\u001b[32m2023-08-03 14:20:41.072\u001b[0m | \u001b[1mINFO    \u001b[0m | \u001b[36m__main__\u001b[0m:\u001b[36mrun\u001b[0m:\u001b[36m203\u001b[0m - \u001b[1mvideo 1/1 (109/453) /home/jrenault/workspace/adomvi/adomvi/../resources/test/lav3.mp4: 384x640 (no detections), YOLO 6.6ms, TRACKING 1.1ms\u001b[0m\n",
      "\u001b[32m2023-08-03 14:20:41.097\u001b[0m | \u001b[1mINFO    \u001b[0m | \u001b[36m__main__\u001b[0m:\u001b[36mrun\u001b[0m:\u001b[36m203\u001b[0m - \u001b[1mvideo 1/1 (110/453) /home/jrenault/workspace/adomvi/adomvi/../resources/test/lav3.mp4: 384x640 1 MEV, YOLO 7.0ms, TRACKING 11.4ms\u001b[0m\n",
      "\u001b[32m2023-08-03 14:20:41.122\u001b[0m | \u001b[1mINFO    \u001b[0m | \u001b[36m__main__\u001b[0m:\u001b[36mrun\u001b[0m:\u001b[36m203\u001b[0m - \u001b[1mvideo 1/1 (111/453) /home/jrenault/workspace/adomvi/adomvi/../resources/test/lav3.mp4: 384x640 1 MEV, YOLO 7.0ms, TRACKING 10.5ms\u001b[0m\n",
      "\u001b[32m2023-08-03 14:20:41.148\u001b[0m | \u001b[1mINFO    \u001b[0m | \u001b[36m__main__\u001b[0m:\u001b[36mrun\u001b[0m:\u001b[36m203\u001b[0m - \u001b[1mvideo 1/1 (112/453) /home/jrenault/workspace/adomvi/adomvi/../resources/test/lav3.mp4: 384x640 1 MEV, YOLO 7.3ms, TRACKING 10.5ms\u001b[0m\n",
      "\u001b[32m2023-08-03 14:20:41.172\u001b[0m | \u001b[1mINFO    \u001b[0m | \u001b[36m__main__\u001b[0m:\u001b[36mrun\u001b[0m:\u001b[36m203\u001b[0m - \u001b[1mvideo 1/1 (113/453) /home/jrenault/workspace/adomvi/adomvi/../resources/test/lav3.mp4: 384x640 1 MEV, YOLO 6.7ms, TRACKING 10.4ms\u001b[0m\n",
      "\u001b[32m2023-08-03 14:20:41.197\u001b[0m | \u001b[1mINFO    \u001b[0m | \u001b[36m__main__\u001b[0m:\u001b[36mrun\u001b[0m:\u001b[36m203\u001b[0m - \u001b[1mvideo 1/1 (114/453) /home/jrenault/workspace/adomvi/adomvi/../resources/test/lav3.mp4: 384x640 1 MEV, YOLO 7.0ms, TRACKING 10.6ms\u001b[0m\n",
      "\u001b[32m2023-08-03 14:20:41.222\u001b[0m | \u001b[1mINFO    \u001b[0m | \u001b[36m__main__\u001b[0m:\u001b[36mrun\u001b[0m:\u001b[36m203\u001b[0m - \u001b[1mvideo 1/1 (115/453) /home/jrenault/workspace/adomvi/adomvi/../resources/test/lav3.mp4: 384x640 1 MEV, YOLO 6.9ms, TRACKING 10.6ms\u001b[0m\n",
      "\u001b[32m2023-08-03 14:20:41.247\u001b[0m | \u001b[1mINFO    \u001b[0m | \u001b[36m__main__\u001b[0m:\u001b[36mrun\u001b[0m:\u001b[36m203\u001b[0m - \u001b[1mvideo 1/1 (116/453) /home/jrenault/workspace/adomvi/adomvi/../resources/test/lav3.mp4: 384x640 1 MEV, YOLO 6.9ms, TRACKING 11.0ms\u001b[0m\n",
      "\u001b[32m2023-08-03 14:20:41.261\u001b[0m | \u001b[1mINFO    \u001b[0m | \u001b[36m__main__\u001b[0m:\u001b[36mrun\u001b[0m:\u001b[36m203\u001b[0m - \u001b[1mvideo 1/1 (117/453) /home/jrenault/workspace/adomvi/adomvi/../resources/test/lav3.mp4: 384x640 (no detections), YOLO 6.8ms, TRACKING 1.3ms\u001b[0m\n",
      "\u001b[32m2023-08-03 14:20:41.274\u001b[0m | \u001b[1mINFO    \u001b[0m | \u001b[36m__main__\u001b[0m:\u001b[36mrun\u001b[0m:\u001b[36m203\u001b[0m - \u001b[1mvideo 1/1 (118/453) /home/jrenault/workspace/adomvi/adomvi/../resources/test/lav3.mp4: 384x640 (no detections), YOLO 6.6ms, TRACKING 1.2ms\u001b[0m\n",
      "\u001b[32m2023-08-03 14:20:41.288\u001b[0m | \u001b[1mINFO    \u001b[0m | \u001b[36m__main__\u001b[0m:\u001b[36mrun\u001b[0m:\u001b[36m203\u001b[0m - \u001b[1mvideo 1/1 (119/453) /home/jrenault/workspace/adomvi/adomvi/../resources/test/lav3.mp4: 384x640 (no detections), YOLO 7.0ms, TRACKING 1.3ms\u001b[0m\n",
      "\u001b[32m2023-08-03 14:20:41.302\u001b[0m | \u001b[1mINFO    \u001b[0m | \u001b[36m__main__\u001b[0m:\u001b[36mrun\u001b[0m:\u001b[36m203\u001b[0m - \u001b[1mvideo 1/1 (120/453) /home/jrenault/workspace/adomvi/adomvi/../resources/test/lav3.mp4: 384x640 (no detections), YOLO 6.7ms, TRACKING 1.2ms\u001b[0m\n",
      "\u001b[32m2023-08-03 14:20:41.315\u001b[0m | \u001b[1mINFO    \u001b[0m | \u001b[36m__main__\u001b[0m:\u001b[36mrun\u001b[0m:\u001b[36m203\u001b[0m - \u001b[1mvideo 1/1 (121/453) /home/jrenault/workspace/adomvi/adomvi/../resources/test/lav3.mp4: 384x640 (no detections), YOLO 6.7ms, TRACKING 1.2ms\u001b[0m\n",
      "\u001b[32m2023-08-03 14:20:41.329\u001b[0m | \u001b[1mINFO    \u001b[0m | \u001b[36m__main__\u001b[0m:\u001b[36mrun\u001b[0m:\u001b[36m203\u001b[0m - \u001b[1mvideo 1/1 (122/453) /home/jrenault/workspace/adomvi/adomvi/../resources/test/lav3.mp4: 384x640 (no detections), YOLO 6.8ms, TRACKING 1.2ms\u001b[0m\n",
      "\u001b[32m2023-08-03 14:20:41.343\u001b[0m | \u001b[1mINFO    \u001b[0m | \u001b[36m__main__\u001b[0m:\u001b[36mrun\u001b[0m:\u001b[36m203\u001b[0m - \u001b[1mvideo 1/1 (123/453) /home/jrenault/workspace/adomvi/adomvi/../resources/test/lav3.mp4: 384x640 (no detections), YOLO 7.0ms, TRACKING 1.2ms\u001b[0m\n",
      "\u001b[32m2023-08-03 14:20:41.356\u001b[0m | \u001b[1mINFO    \u001b[0m | \u001b[36m__main__\u001b[0m:\u001b[36mrun\u001b[0m:\u001b[36m203\u001b[0m - \u001b[1mvideo 1/1 (124/453) /home/jrenault/workspace/adomvi/adomvi/../resources/test/lav3.mp4: 384x640 (no detections), YOLO 6.7ms, TRACKING 1.0ms\u001b[0m\n",
      "\u001b[32m2023-08-03 14:20:41.369\u001b[0m | \u001b[1mINFO    \u001b[0m | \u001b[36m__main__\u001b[0m:\u001b[36mrun\u001b[0m:\u001b[36m203\u001b[0m - \u001b[1mvideo 1/1 (125/453) /home/jrenault/workspace/adomvi/adomvi/../resources/test/lav3.mp4: 384x640 (no detections), YOLO 6.6ms, TRACKING 1.2ms\u001b[0m\n",
      "\u001b[32m2023-08-03 14:20:41.383\u001b[0m | \u001b[1mINFO    \u001b[0m | \u001b[36m__main__\u001b[0m:\u001b[36mrun\u001b[0m:\u001b[36m203\u001b[0m - \u001b[1mvideo 1/1 (126/453) /home/jrenault/workspace/adomvi/adomvi/../resources/test/lav3.mp4: 384x640 (no detections), YOLO 6.6ms, TRACKING 1.1ms\u001b[0m\n",
      "\u001b[32m2023-08-03 14:20:41.396\u001b[0m | \u001b[1mINFO    \u001b[0m | \u001b[36m__main__\u001b[0m:\u001b[36mrun\u001b[0m:\u001b[36m203\u001b[0m - \u001b[1mvideo 1/1 (127/453) /home/jrenault/workspace/adomvi/adomvi/../resources/test/lav3.mp4: 384x640 (no detections), YOLO 7.0ms, TRACKING 1.2ms\u001b[0m\n",
      "\u001b[32m2023-08-03 14:20:41.410\u001b[0m | \u001b[1mINFO    \u001b[0m | \u001b[36m__main__\u001b[0m:\u001b[36mrun\u001b[0m:\u001b[36m203\u001b[0m - \u001b[1mvideo 1/1 (128/453) /home/jrenault/workspace/adomvi/adomvi/../resources/test/lav3.mp4: 384x640 (no detections), YOLO 6.5ms, TRACKING 1.3ms\u001b[0m\n",
      "\u001b[32m2023-08-03 14:20:41.436\u001b[0m | \u001b[1mINFO    \u001b[0m | \u001b[36m__main__\u001b[0m:\u001b[36mrun\u001b[0m:\u001b[36m203\u001b[0m - \u001b[1mvideo 1/1 (129/453) /home/jrenault/workspace/adomvi/adomvi/../resources/test/lav3.mp4: 384x640 1 MEV, YOLO 6.7ms, TRACKING 12.2ms\u001b[0m\n",
      "\u001b[32m2023-08-03 14:20:41.461\u001b[0m | \u001b[1mINFO    \u001b[0m | \u001b[36m__main__\u001b[0m:\u001b[36mrun\u001b[0m:\u001b[36m203\u001b[0m - \u001b[1mvideo 1/1 (130/453) /home/jrenault/workspace/adomvi/adomvi/../resources/test/lav3.mp4: 384x640 1 MEV, YOLO 7.0ms, TRACKING 11.1ms\u001b[0m\n",
      "\u001b[32m2023-08-03 14:20:41.487\u001b[0m | \u001b[1mINFO    \u001b[0m | \u001b[36m__main__\u001b[0m:\u001b[36mrun\u001b[0m:\u001b[36m203\u001b[0m - \u001b[1mvideo 1/1 (131/453) /home/jrenault/workspace/adomvi/adomvi/../resources/test/lav3.mp4: 384x640 1 MEV, YOLO 6.7ms, TRACKING 11.2ms\u001b[0m\n",
      "\u001b[32m2023-08-03 14:20:41.512\u001b[0m | \u001b[1mINFO    \u001b[0m | \u001b[36m__main__\u001b[0m:\u001b[36mrun\u001b[0m:\u001b[36m203\u001b[0m - \u001b[1mvideo 1/1 (132/453) /home/jrenault/workspace/adomvi/adomvi/../resources/test/lav3.mp4: 384x640 1 MEV, YOLO 6.9ms, TRACKING 11.3ms\u001b[0m\n",
      "\u001b[32m2023-08-03 14:20:41.538\u001b[0m | \u001b[1mINFO    \u001b[0m | \u001b[36m__main__\u001b[0m:\u001b[36mrun\u001b[0m:\u001b[36m203\u001b[0m - \u001b[1mvideo 1/1 (133/453) /home/jrenault/workspace/adomvi/adomvi/../resources/test/lav3.mp4: 384x640 1 MEV, YOLO 6.9ms, TRACKING 11.2ms\u001b[0m\n",
      "\u001b[32m2023-08-03 14:20:41.564\u001b[0m | \u001b[1mINFO    \u001b[0m | \u001b[36m__main__\u001b[0m:\u001b[36mrun\u001b[0m:\u001b[36m203\u001b[0m - \u001b[1mvideo 1/1 (134/453) /home/jrenault/workspace/adomvi/adomvi/../resources/test/lav3.mp4: 384x640 1 MEV, YOLO 7.5ms, TRACKING 11.6ms\u001b[0m\n",
      "\u001b[32m2023-08-03 14:20:41.590\u001b[0m | \u001b[1mINFO    \u001b[0m | \u001b[36m__main__\u001b[0m:\u001b[36mrun\u001b[0m:\u001b[36m203\u001b[0m - \u001b[1mvideo 1/1 (135/453) /home/jrenault/workspace/adomvi/adomvi/../resources/test/lav3.mp4: 384x640 1 MEV, YOLO 6.9ms, TRACKING 11.1ms\u001b[0m\n",
      "\u001b[32m2023-08-03 14:20:41.615\u001b[0m | \u001b[1mINFO    \u001b[0m | \u001b[36m__main__\u001b[0m:\u001b[36mrun\u001b[0m:\u001b[36m203\u001b[0m - \u001b[1mvideo 1/1 (136/453) /home/jrenault/workspace/adomvi/adomvi/../resources/test/lav3.mp4: 384x640 1 MEV, YOLO 7.0ms, TRACKING 11.0ms\u001b[0m\n",
      "\u001b[32m2023-08-03 14:20:41.640\u001b[0m | \u001b[1mINFO    \u001b[0m | \u001b[36m__main__\u001b[0m:\u001b[36mrun\u001b[0m:\u001b[36m203\u001b[0m - \u001b[1mvideo 1/1 (137/453) /home/jrenault/workspace/adomvi/adomvi/../resources/test/lav3.mp4: 384x640 1 MEV, YOLO 6.7ms, TRACKING 11.1ms\u001b[0m\n",
      "\u001b[32m2023-08-03 14:20:41.665\u001b[0m | \u001b[1mINFO    \u001b[0m | \u001b[36m__main__\u001b[0m:\u001b[36mrun\u001b[0m:\u001b[36m203\u001b[0m - \u001b[1mvideo 1/1 (138/453) /home/jrenault/workspace/adomvi/adomvi/../resources/test/lav3.mp4: 384x640 1 MEV, YOLO 7.0ms, TRACKING 11.0ms\u001b[0m\n",
      "\u001b[32m2023-08-03 14:20:41.679\u001b[0m | \u001b[1mINFO    \u001b[0m | \u001b[36m__main__\u001b[0m:\u001b[36mrun\u001b[0m:\u001b[36m203\u001b[0m - \u001b[1mvideo 1/1 (139/453) /home/jrenault/workspace/adomvi/adomvi/../resources/test/lav3.mp4: 384x640 (no detections), YOLO 6.8ms, TRACKING 1.3ms\u001b[0m\n",
      "\u001b[32m2023-08-03 14:20:41.693\u001b[0m | \u001b[1mINFO    \u001b[0m | \u001b[36m__main__\u001b[0m:\u001b[36mrun\u001b[0m:\u001b[36m203\u001b[0m - \u001b[1mvideo 1/1 (140/453) /home/jrenault/workspace/adomvi/adomvi/../resources/test/lav3.mp4: 384x640 (no detections), YOLO 6.7ms, TRACKING 1.2ms\u001b[0m\n",
      "\u001b[32m2023-08-03 14:20:41.707\u001b[0m | \u001b[1mINFO    \u001b[0m | \u001b[36m__main__\u001b[0m:\u001b[36mrun\u001b[0m:\u001b[36m203\u001b[0m - \u001b[1mvideo 1/1 (141/453) /home/jrenault/workspace/adomvi/adomvi/../resources/test/lav3.mp4: 384x640 (no detections), YOLO 6.7ms, TRACKING 1.1ms\u001b[0m\n",
      "\u001b[32m2023-08-03 14:20:41.721\u001b[0m | \u001b[1mINFO    \u001b[0m | \u001b[36m__main__\u001b[0m:\u001b[36mrun\u001b[0m:\u001b[36m203\u001b[0m - \u001b[1mvideo 1/1 (142/453) /home/jrenault/workspace/adomvi/adomvi/../resources/test/lav3.mp4: 384x640 (no detections), YOLO 6.9ms, TRACKING 1.2ms\u001b[0m\n",
      "\u001b[32m2023-08-03 14:20:41.734\u001b[0m | \u001b[1mINFO    \u001b[0m | \u001b[36m__main__\u001b[0m:\u001b[36mrun\u001b[0m:\u001b[36m203\u001b[0m - \u001b[1mvideo 1/1 (143/453) /home/jrenault/workspace/adomvi/adomvi/../resources/test/lav3.mp4: 384x640 (no detections), YOLO 6.9ms, TRACKING 1.2ms\u001b[0m\n",
      "\u001b[32m2023-08-03 14:20:41.749\u001b[0m | \u001b[1mINFO    \u001b[0m | \u001b[36m__main__\u001b[0m:\u001b[36mrun\u001b[0m:\u001b[36m203\u001b[0m - \u001b[1mvideo 1/1 (144/453) /home/jrenault/workspace/adomvi/adomvi/../resources/test/lav3.mp4: 384x640 (no detections), YOLO 7.3ms, TRACKING 1.3ms\u001b[0m\n",
      "\u001b[32m2023-08-03 14:20:41.776\u001b[0m | \u001b[1mINFO    \u001b[0m | \u001b[36m__main__\u001b[0m:\u001b[36mrun\u001b[0m:\u001b[36m203\u001b[0m - \u001b[1mvideo 1/1 (145/453) /home/jrenault/workspace/adomvi/adomvi/../resources/test/lav3.mp4: 384x640 1 MEV, YOLO 7.2ms, TRACKING 12.2ms\u001b[0m\n",
      "\u001b[32m2023-08-03 14:20:41.790\u001b[0m | \u001b[1mINFO    \u001b[0m | \u001b[36m__main__\u001b[0m:\u001b[36mrun\u001b[0m:\u001b[36m203\u001b[0m - \u001b[1mvideo 1/1 (146/453) /home/jrenault/workspace/adomvi/adomvi/../resources/test/lav3.mp4: 384x640 (no detections), YOLO 7.0ms, TRACKING 1.3ms\u001b[0m\n",
      "\u001b[32m2023-08-03 14:20:41.804\u001b[0m | \u001b[1mINFO    \u001b[0m | \u001b[36m__main__\u001b[0m:\u001b[36mrun\u001b[0m:\u001b[36m203\u001b[0m - \u001b[1mvideo 1/1 (147/453) /home/jrenault/workspace/adomvi/adomvi/../resources/test/lav3.mp4: 384x640 (no detections), YOLO 7.2ms, TRACKING 1.2ms\u001b[0m\n",
      "\u001b[32m2023-08-03 14:20:41.818\u001b[0m | \u001b[1mINFO    \u001b[0m | \u001b[36m__main__\u001b[0m:\u001b[36mrun\u001b[0m:\u001b[36m203\u001b[0m - \u001b[1mvideo 1/1 (148/453) /home/jrenault/workspace/adomvi/adomvi/../resources/test/lav3.mp4: 384x640 (no detections), YOLO 6.8ms, TRACKING 1.0ms\u001b[0m\n",
      "\u001b[32m2023-08-03 14:20:41.831\u001b[0m | \u001b[1mINFO    \u001b[0m | \u001b[36m__main__\u001b[0m:\u001b[36mrun\u001b[0m:\u001b[36m203\u001b[0m - \u001b[1mvideo 1/1 (149/453) /home/jrenault/workspace/adomvi/adomvi/../resources/test/lav3.mp4: 384x640 (no detections), YOLO 6.9ms, TRACKING 1.1ms\u001b[0m\n",
      "\u001b[32m2023-08-03 14:20:41.845\u001b[0m | \u001b[1mINFO    \u001b[0m | \u001b[36m__main__\u001b[0m:\u001b[36mrun\u001b[0m:\u001b[36m203\u001b[0m - \u001b[1mvideo 1/1 (150/453) /home/jrenault/workspace/adomvi/adomvi/../resources/test/lav3.mp4: 384x640 (no detections), YOLO 6.8ms, TRACKING 1.2ms\u001b[0m\n",
      "\u001b[32m2023-08-03 14:20:41.859\u001b[0m | \u001b[1mINFO    \u001b[0m | \u001b[36m__main__\u001b[0m:\u001b[36mrun\u001b[0m:\u001b[36m203\u001b[0m - \u001b[1mvideo 1/1 (151/453) /home/jrenault/workspace/adomvi/adomvi/../resources/test/lav3.mp4: 384x640 (no detections), YOLO 7.0ms, TRACKING 1.1ms\u001b[0m\n",
      "\u001b[32m2023-08-03 14:20:41.872\u001b[0m | \u001b[1mINFO    \u001b[0m | \u001b[36m__main__\u001b[0m:\u001b[36mrun\u001b[0m:\u001b[36m203\u001b[0m - \u001b[1mvideo 1/1 (152/453) /home/jrenault/workspace/adomvi/adomvi/../resources/test/lav3.mp4: 384x640 (no detections), YOLO 6.8ms, TRACKING 1.1ms\u001b[0m\n",
      "\u001b[32m2023-08-03 14:20:41.886\u001b[0m | \u001b[1mINFO    \u001b[0m | \u001b[36m__main__\u001b[0m:\u001b[36mrun\u001b[0m:\u001b[36m203\u001b[0m - \u001b[1mvideo 1/1 (153/453) /home/jrenault/workspace/adomvi/adomvi/../resources/test/lav3.mp4: 384x640 (no detections), YOLO 6.8ms, TRACKING 1.1ms\u001b[0m\n",
      "\u001b[32m2023-08-03 14:20:41.900\u001b[0m | \u001b[1mINFO    \u001b[0m | \u001b[36m__main__\u001b[0m:\u001b[36mrun\u001b[0m:\u001b[36m203\u001b[0m - \u001b[1mvideo 1/1 (154/453) /home/jrenault/workspace/adomvi/adomvi/../resources/test/lav3.mp4: 384x640 (no detections), YOLO 7.0ms, TRACKING 1.2ms\u001b[0m\n",
      "\u001b[32m2023-08-03 14:20:41.914\u001b[0m | \u001b[1mINFO    \u001b[0m | \u001b[36m__main__\u001b[0m:\u001b[36mrun\u001b[0m:\u001b[36m203\u001b[0m - \u001b[1mvideo 1/1 (155/453) /home/jrenault/workspace/adomvi/adomvi/../resources/test/lav3.mp4: 384x640 (no detections), YOLO 7.2ms, TRACKING 1.2ms\u001b[0m\n",
      "\u001b[32m2023-08-03 14:20:41.928\u001b[0m | \u001b[1mINFO    \u001b[0m | \u001b[36m__main__\u001b[0m:\u001b[36mrun\u001b[0m:\u001b[36m203\u001b[0m - \u001b[1mvideo 1/1 (156/453) /home/jrenault/workspace/adomvi/adomvi/../resources/test/lav3.mp4: 384x640 (no detections), YOLO 6.8ms, TRACKING 1.1ms\u001b[0m\n",
      "\u001b[32m2023-08-03 14:20:41.941\u001b[0m | \u001b[1mINFO    \u001b[0m | \u001b[36m__main__\u001b[0m:\u001b[36mrun\u001b[0m:\u001b[36m203\u001b[0m - \u001b[1mvideo 1/1 (157/453) /home/jrenault/workspace/adomvi/adomvi/../resources/test/lav3.mp4: 384x640 (no detections), YOLO 6.6ms, TRACKING 1.2ms\u001b[0m\n",
      "\u001b[32m2023-08-03 14:20:41.955\u001b[0m | \u001b[1mINFO    \u001b[0m | \u001b[36m__main__\u001b[0m:\u001b[36mrun\u001b[0m:\u001b[36m203\u001b[0m - \u001b[1mvideo 1/1 (158/453) /home/jrenault/workspace/adomvi/adomvi/../resources/test/lav3.mp4: 384x640 (no detections), YOLO 7.0ms, TRACKING 1.1ms\u001b[0m\n",
      "\u001b[32m2023-08-03 14:20:41.968\u001b[0m | \u001b[1mINFO    \u001b[0m | \u001b[36m__main__\u001b[0m:\u001b[36mrun\u001b[0m:\u001b[36m203\u001b[0m - \u001b[1mvideo 1/1 (159/453) /home/jrenault/workspace/adomvi/adomvi/../resources/test/lav3.mp4: 384x640 (no detections), YOLO 6.6ms, TRACKING 1.1ms\u001b[0m\n",
      "\u001b[32m2023-08-03 14:20:41.982\u001b[0m | \u001b[1mINFO    \u001b[0m | \u001b[36m__main__\u001b[0m:\u001b[36mrun\u001b[0m:\u001b[36m203\u001b[0m - \u001b[1mvideo 1/1 (160/453) /home/jrenault/workspace/adomvi/adomvi/../resources/test/lav3.mp4: 384x640 (no detections), YOLO 6.8ms, TRACKING 1.1ms\u001b[0m\n",
      "\u001b[32m2023-08-03 14:20:41.995\u001b[0m | \u001b[1mINFO    \u001b[0m | \u001b[36m__main__\u001b[0m:\u001b[36mrun\u001b[0m:\u001b[36m203\u001b[0m - \u001b[1mvideo 1/1 (161/453) /home/jrenault/workspace/adomvi/adomvi/../resources/test/lav3.mp4: 384x640 (no detections), YOLO 6.7ms, TRACKING 1.1ms\u001b[0m\n",
      "\u001b[32m2023-08-03 14:20:42.009\u001b[0m | \u001b[1mINFO    \u001b[0m | \u001b[36m__main__\u001b[0m:\u001b[36mrun\u001b[0m:\u001b[36m203\u001b[0m - \u001b[1mvideo 1/1 (162/453) /home/jrenault/workspace/adomvi/adomvi/../resources/test/lav3.mp4: 384x640 (no detections), YOLO 6.9ms, TRACKING 1.2ms\u001b[0m\n",
      "\u001b[32m2023-08-03 14:20:42.022\u001b[0m | \u001b[1mINFO    \u001b[0m | \u001b[36m__main__\u001b[0m:\u001b[36mrun\u001b[0m:\u001b[36m203\u001b[0m - \u001b[1mvideo 1/1 (163/453) /home/jrenault/workspace/adomvi/adomvi/../resources/test/lav3.mp4: 384x640 (no detections), YOLO 6.7ms, TRACKING 1.1ms\u001b[0m\n",
      "\u001b[32m2023-08-03 14:20:42.036\u001b[0m | \u001b[1mINFO    \u001b[0m | \u001b[36m__main__\u001b[0m:\u001b[36mrun\u001b[0m:\u001b[36m203\u001b[0m - \u001b[1mvideo 1/1 (164/453) /home/jrenault/workspace/adomvi/adomvi/../resources/test/lav3.mp4: 384x640 (no detections), YOLO 6.7ms, TRACKING 1.1ms\u001b[0m\n",
      "\u001b[32m2023-08-03 14:20:42.049\u001b[0m | \u001b[1mINFO    \u001b[0m | \u001b[36m__main__\u001b[0m:\u001b[36mrun\u001b[0m:\u001b[36m203\u001b[0m - \u001b[1mvideo 1/1 (165/453) /home/jrenault/workspace/adomvi/adomvi/../resources/test/lav3.mp4: 384x640 (no detections), YOLO 6.7ms, TRACKING 1.2ms\u001b[0m\n",
      "\u001b[32m2023-08-03 14:20:42.063\u001b[0m | \u001b[1mINFO    \u001b[0m | \u001b[36m__main__\u001b[0m:\u001b[36mrun\u001b[0m:\u001b[36m203\u001b[0m - \u001b[1mvideo 1/1 (166/453) /home/jrenault/workspace/adomvi/adomvi/../resources/test/lav3.mp4: 384x640 (no detections), YOLO 6.7ms, TRACKING 1.1ms\u001b[0m\n",
      "\u001b[32m2023-08-03 14:20:42.076\u001b[0m | \u001b[1mINFO    \u001b[0m | \u001b[36m__main__\u001b[0m:\u001b[36mrun\u001b[0m:\u001b[36m203\u001b[0m - \u001b[1mvideo 1/1 (167/453) /home/jrenault/workspace/adomvi/adomvi/../resources/test/lav3.mp4: 384x640 (no detections), YOLO 6.6ms, TRACKING 1.1ms\u001b[0m\n",
      "\u001b[32m2023-08-03 14:20:42.089\u001b[0m | \u001b[1mINFO    \u001b[0m | \u001b[36m__main__\u001b[0m:\u001b[36mrun\u001b[0m:\u001b[36m203\u001b[0m - \u001b[1mvideo 1/1 (168/453) /home/jrenault/workspace/adomvi/adomvi/../resources/test/lav3.mp4: 384x640 (no detections), YOLO 6.7ms, TRACKING 1.2ms\u001b[0m\n",
      "\u001b[32m2023-08-03 14:20:42.103\u001b[0m | \u001b[1mINFO    \u001b[0m | \u001b[36m__main__\u001b[0m:\u001b[36mrun\u001b[0m:\u001b[36m203\u001b[0m - \u001b[1mvideo 1/1 (169/453) /home/jrenault/workspace/adomvi/adomvi/../resources/test/lav3.mp4: 384x640 (no detections), YOLO 6.6ms, TRACKING 1.2ms\u001b[0m\n",
      "\u001b[32m2023-08-03 14:20:42.116\u001b[0m | \u001b[1mINFO    \u001b[0m | \u001b[36m__main__\u001b[0m:\u001b[36mrun\u001b[0m:\u001b[36m203\u001b[0m - \u001b[1mvideo 1/1 (170/453) /home/jrenault/workspace/adomvi/adomvi/../resources/test/lav3.mp4: 384x640 (no detections), YOLO 6.8ms, TRACKING 1.1ms\u001b[0m\n",
      "\u001b[32m2023-08-03 14:20:42.130\u001b[0m | \u001b[1mINFO    \u001b[0m | \u001b[36m__main__\u001b[0m:\u001b[36mrun\u001b[0m:\u001b[36m203\u001b[0m - \u001b[1mvideo 1/1 (171/453) /home/jrenault/workspace/adomvi/adomvi/../resources/test/lav3.mp4: 384x640 (no detections), YOLO 6.5ms, TRACKING 1.1ms\u001b[0m\n",
      "\u001b[32m2023-08-03 14:20:42.143\u001b[0m | \u001b[1mINFO    \u001b[0m | \u001b[36m__main__\u001b[0m:\u001b[36mrun\u001b[0m:\u001b[36m203\u001b[0m - \u001b[1mvideo 1/1 (172/453) /home/jrenault/workspace/adomvi/adomvi/../resources/test/lav3.mp4: 384x640 (no detections), YOLO 6.5ms, TRACKING 1.0ms\u001b[0m\n",
      "\u001b[32m2023-08-03 14:20:42.156\u001b[0m | \u001b[1mINFO    \u001b[0m | \u001b[36m__main__\u001b[0m:\u001b[36mrun\u001b[0m:\u001b[36m203\u001b[0m - \u001b[1mvideo 1/1 (173/453) /home/jrenault/workspace/adomvi/adomvi/../resources/test/lav3.mp4: 384x640 (no detections), YOLO 6.8ms, TRACKING 1.2ms\u001b[0m\n",
      "\u001b[32m2023-08-03 14:20:42.169\u001b[0m | \u001b[1mINFO    \u001b[0m | \u001b[36m__main__\u001b[0m:\u001b[36mrun\u001b[0m:\u001b[36m203\u001b[0m - \u001b[1mvideo 1/1 (174/453) /home/jrenault/workspace/adomvi/adomvi/../resources/test/lav3.mp4: 384x640 (no detections), YOLO 6.6ms, TRACKING 1.1ms\u001b[0m\n",
      "\u001b[32m2023-08-03 14:20:42.183\u001b[0m | \u001b[1mINFO    \u001b[0m | \u001b[36m__main__\u001b[0m:\u001b[36mrun\u001b[0m:\u001b[36m203\u001b[0m - \u001b[1mvideo 1/1 (175/453) /home/jrenault/workspace/adomvi/adomvi/../resources/test/lav3.mp4: 384x640 (no detections), YOLO 6.7ms, TRACKING 1.1ms\u001b[0m\n",
      "\u001b[32m2023-08-03 14:20:42.196\u001b[0m | \u001b[1mINFO    \u001b[0m | \u001b[36m__main__\u001b[0m:\u001b[36mrun\u001b[0m:\u001b[36m203\u001b[0m - \u001b[1mvideo 1/1 (176/453) /home/jrenault/workspace/adomvi/adomvi/../resources/test/lav3.mp4: 384x640 (no detections), YOLO 6.5ms, TRACKING 1.2ms\u001b[0m\n",
      "\u001b[32m2023-08-03 14:20:42.209\u001b[0m | \u001b[1mINFO    \u001b[0m | \u001b[36m__main__\u001b[0m:\u001b[36mrun\u001b[0m:\u001b[36m203\u001b[0m - \u001b[1mvideo 1/1 (177/453) /home/jrenault/workspace/adomvi/adomvi/../resources/test/lav3.mp4: 384x640 (no detections), YOLO 6.8ms, TRACKING 0.8ms\u001b[0m\n",
      "\u001b[32m2023-08-03 14:20:42.222\u001b[0m | \u001b[1mINFO    \u001b[0m | \u001b[36m__main__\u001b[0m:\u001b[36mrun\u001b[0m:\u001b[36m203\u001b[0m - \u001b[1mvideo 1/1 (178/453) /home/jrenault/workspace/adomvi/adomvi/../resources/test/lav3.mp4: 384x640 (no detections), YOLO 6.6ms, TRACKING 0.8ms\u001b[0m\n",
      "\u001b[32m2023-08-03 14:20:42.235\u001b[0m | \u001b[1mINFO    \u001b[0m | \u001b[36m__main__\u001b[0m:\u001b[36mrun\u001b[0m:\u001b[36m203\u001b[0m - \u001b[1mvideo 1/1 (179/453) /home/jrenault/workspace/adomvi/adomvi/../resources/test/lav3.mp4: 384x640 (no detections), YOLO 6.5ms, TRACKING 0.7ms\u001b[0m\n",
      "\u001b[32m2023-08-03 14:20:42.260\u001b[0m | \u001b[1mINFO    \u001b[0m | \u001b[36m__main__\u001b[0m:\u001b[36mrun\u001b[0m:\u001b[36m203\u001b[0m - \u001b[1mvideo 1/1 (180/453) /home/jrenault/workspace/adomvi/adomvi/../resources/test/lav3.mp4: 384x640 1 LAV, YOLO 6.6ms, TRACKING 11.7ms\u001b[0m\n",
      "\u001b[32m2023-08-03 14:20:42.274\u001b[0m | \u001b[1mINFO    \u001b[0m | \u001b[36m__main__\u001b[0m:\u001b[36mrun\u001b[0m:\u001b[36m203\u001b[0m - \u001b[1mvideo 1/1 (181/453) /home/jrenault/workspace/adomvi/adomvi/../resources/test/lav3.mp4: 384x640 (no detections), YOLO 7.1ms, TRACKING 1.1ms\u001b[0m\n",
      "\u001b[32m2023-08-03 14:20:42.288\u001b[0m | \u001b[1mINFO    \u001b[0m | \u001b[36m__main__\u001b[0m:\u001b[36mrun\u001b[0m:\u001b[36m203\u001b[0m - \u001b[1mvideo 1/1 (182/453) /home/jrenault/workspace/adomvi/adomvi/../resources/test/lav3.mp4: 384x640 (no detections), YOLO 6.8ms, TRACKING 1.1ms\u001b[0m\n",
      "\u001b[32m2023-08-03 14:20:42.302\u001b[0m | \u001b[1mINFO    \u001b[0m | \u001b[36m__main__\u001b[0m:\u001b[36mrun\u001b[0m:\u001b[36m203\u001b[0m - \u001b[1mvideo 1/1 (183/453) /home/jrenault/workspace/adomvi/adomvi/../resources/test/lav3.mp4: 384x640 (no detections), YOLO 6.7ms, TRACKING 1.1ms\u001b[0m\n",
      "\u001b[32m2023-08-03 14:20:42.315\u001b[0m | \u001b[1mINFO    \u001b[0m | \u001b[36m__main__\u001b[0m:\u001b[36mrun\u001b[0m:\u001b[36m203\u001b[0m - \u001b[1mvideo 1/1 (184/453) /home/jrenault/workspace/adomvi/adomvi/../resources/test/lav3.mp4: 384x640 (no detections), YOLO 6.9ms, TRACKING 1.1ms\u001b[0m\n",
      "\u001b[32m2023-08-03 14:20:42.329\u001b[0m | \u001b[1mINFO    \u001b[0m | \u001b[36m__main__\u001b[0m:\u001b[36mrun\u001b[0m:\u001b[36m203\u001b[0m - \u001b[1mvideo 1/1 (185/453) /home/jrenault/workspace/adomvi/adomvi/../resources/test/lav3.mp4: 384x640 (no detections), YOLO 6.8ms, TRACKING 1.1ms\u001b[0m\n",
      "\u001b[32m2023-08-03 14:20:42.342\u001b[0m | \u001b[1mINFO    \u001b[0m | \u001b[36m__main__\u001b[0m:\u001b[36mrun\u001b[0m:\u001b[36m203\u001b[0m - \u001b[1mvideo 1/1 (186/453) /home/jrenault/workspace/adomvi/adomvi/../resources/test/lav3.mp4: 384x640 (no detections), YOLO 6.5ms, TRACKING 1.1ms\u001b[0m\n",
      "\u001b[32m2023-08-03 14:20:42.355\u001b[0m | \u001b[1mINFO    \u001b[0m | \u001b[36m__main__\u001b[0m:\u001b[36mrun\u001b[0m:\u001b[36m203\u001b[0m - \u001b[1mvideo 1/1 (187/453) /home/jrenault/workspace/adomvi/adomvi/../resources/test/lav3.mp4: 384x640 (no detections), YOLO 6.7ms, TRACKING 1.1ms\u001b[0m\n",
      "\u001b[32m2023-08-03 14:20:42.369\u001b[0m | \u001b[1mINFO    \u001b[0m | \u001b[36m__main__\u001b[0m:\u001b[36mrun\u001b[0m:\u001b[36m203\u001b[0m - \u001b[1mvideo 1/1 (188/453) /home/jrenault/workspace/adomvi/adomvi/../resources/test/lav3.mp4: 384x640 (no detections), YOLO 6.8ms, TRACKING 1.1ms\u001b[0m\n",
      "\u001b[32m2023-08-03 14:20:42.382\u001b[0m | \u001b[1mINFO    \u001b[0m | \u001b[36m__main__\u001b[0m:\u001b[36mrun\u001b[0m:\u001b[36m203\u001b[0m - \u001b[1mvideo 1/1 (189/453) /home/jrenault/workspace/adomvi/adomvi/../resources/test/lav3.mp4: 384x640 (no detections), YOLO 6.5ms, TRACKING 1.1ms\u001b[0m\n",
      "\u001b[32m2023-08-03 14:20:42.395\u001b[0m | \u001b[1mINFO    \u001b[0m | \u001b[36m__main__\u001b[0m:\u001b[36mrun\u001b[0m:\u001b[36m203\u001b[0m - \u001b[1mvideo 1/1 (190/453) /home/jrenault/workspace/adomvi/adomvi/../resources/test/lav3.mp4: 384x640 (no detections), YOLO 6.6ms, TRACKING 1.1ms\u001b[0m\n",
      "\u001b[32m2023-08-03 14:20:42.409\u001b[0m | \u001b[1mINFO    \u001b[0m | \u001b[36m__main__\u001b[0m:\u001b[36mrun\u001b[0m:\u001b[36m203\u001b[0m - \u001b[1mvideo 1/1 (191/453) /home/jrenault/workspace/adomvi/adomvi/../resources/test/lav3.mp4: 384x640 (no detections), YOLO 6.8ms, TRACKING 1.1ms\u001b[0m\n",
      "\u001b[32m2023-08-03 14:20:42.422\u001b[0m | \u001b[1mINFO    \u001b[0m | \u001b[36m__main__\u001b[0m:\u001b[36mrun\u001b[0m:\u001b[36m203\u001b[0m - \u001b[1mvideo 1/1 (192/453) /home/jrenault/workspace/adomvi/adomvi/../resources/test/lav3.mp4: 384x640 (no detections), YOLO 6.5ms, TRACKING 1.1ms\u001b[0m\n",
      "\u001b[32m2023-08-03 14:20:42.435\u001b[0m | \u001b[1mINFO    \u001b[0m | \u001b[36m__main__\u001b[0m:\u001b[36mrun\u001b[0m:\u001b[36m203\u001b[0m - \u001b[1mvideo 1/1 (193/453) /home/jrenault/workspace/adomvi/adomvi/../resources/test/lav3.mp4: 384x640 (no detections), YOLO 6.5ms, TRACKING 1.0ms\u001b[0m\n",
      "\u001b[32m2023-08-03 14:20:42.448\u001b[0m | \u001b[1mINFO    \u001b[0m | \u001b[36m__main__\u001b[0m:\u001b[36mrun\u001b[0m:\u001b[36m203\u001b[0m - \u001b[1mvideo 1/1 (194/453) /home/jrenault/workspace/adomvi/adomvi/../resources/test/lav3.mp4: 384x640 (no detections), YOLO 6.6ms, TRACKING 1.0ms\u001b[0m\n",
      "\u001b[32m2023-08-03 14:20:42.462\u001b[0m | \u001b[1mINFO    \u001b[0m | \u001b[36m__main__\u001b[0m:\u001b[36mrun\u001b[0m:\u001b[36m203\u001b[0m - \u001b[1mvideo 1/1 (195/453) /home/jrenault/workspace/adomvi/adomvi/../resources/test/lav3.mp4: 384x640 (no detections), YOLO 6.6ms, TRACKING 1.1ms\u001b[0m\n",
      "\u001b[32m2023-08-03 14:20:42.475\u001b[0m | \u001b[1mINFO    \u001b[0m | \u001b[36m__main__\u001b[0m:\u001b[36mrun\u001b[0m:\u001b[36m203\u001b[0m - \u001b[1mvideo 1/1 (196/453) /home/jrenault/workspace/adomvi/adomvi/../resources/test/lav3.mp4: 384x640 (no detections), YOLO 6.5ms, TRACKING 1.0ms\u001b[0m\n",
      "\u001b[32m2023-08-03 14:20:42.488\u001b[0m | \u001b[1mINFO    \u001b[0m | \u001b[36m__main__\u001b[0m:\u001b[36mrun\u001b[0m:\u001b[36m203\u001b[0m - \u001b[1mvideo 1/1 (197/453) /home/jrenault/workspace/adomvi/adomvi/../resources/test/lav3.mp4: 384x640 (no detections), YOLO 6.6ms, TRACKING 1.0ms\u001b[0m\n",
      "\u001b[32m2023-08-03 14:20:42.502\u001b[0m | \u001b[1mINFO    \u001b[0m | \u001b[36m__main__\u001b[0m:\u001b[36mrun\u001b[0m:\u001b[36m203\u001b[0m - \u001b[1mvideo 1/1 (198/453) /home/jrenault/workspace/adomvi/adomvi/../resources/test/lav3.mp4: 384x640 (no detections), YOLO 6.7ms, TRACKING 1.1ms\u001b[0m\n",
      "\u001b[32m2023-08-03 14:20:42.515\u001b[0m | \u001b[1mINFO    \u001b[0m | \u001b[36m__main__\u001b[0m:\u001b[36mrun\u001b[0m:\u001b[36m203\u001b[0m - \u001b[1mvideo 1/1 (199/453) /home/jrenault/workspace/adomvi/adomvi/../resources/test/lav3.mp4: 384x640 (no detections), YOLO 6.9ms, TRACKING 1.1ms\u001b[0m\n",
      "\u001b[32m2023-08-03 14:20:42.530\u001b[0m | \u001b[1mINFO    \u001b[0m | \u001b[36m__main__\u001b[0m:\u001b[36mrun\u001b[0m:\u001b[36m203\u001b[0m - \u001b[1mvideo 1/1 (200/453) /home/jrenault/workspace/adomvi/adomvi/../resources/test/lav3.mp4: 384x640 (no detections), YOLO 6.5ms, TRACKING 1.7ms\u001b[0m\n",
      "\u001b[32m2023-08-03 14:20:42.543\u001b[0m | \u001b[1mINFO    \u001b[0m | \u001b[36m__main__\u001b[0m:\u001b[36mrun\u001b[0m:\u001b[36m203\u001b[0m - \u001b[1mvideo 1/1 (201/453) /home/jrenault/workspace/adomvi/adomvi/../resources/test/lav3.mp4: 384x640 (no detections), YOLO 6.6ms, TRACKING 0.9ms\u001b[0m\n",
      "\u001b[32m2023-08-03 14:20:42.557\u001b[0m | \u001b[1mINFO    \u001b[0m | \u001b[36m__main__\u001b[0m:\u001b[36mrun\u001b[0m:\u001b[36m203\u001b[0m - \u001b[1mvideo 1/1 (202/453) /home/jrenault/workspace/adomvi/adomvi/../resources/test/lav3.mp4: 384x640 (no detections), YOLO 6.6ms, TRACKING 0.9ms\u001b[0m\n",
      "\u001b[32m2023-08-03 14:20:42.570\u001b[0m | \u001b[1mINFO    \u001b[0m | \u001b[36m__main__\u001b[0m:\u001b[36mrun\u001b[0m:\u001b[36m203\u001b[0m - \u001b[1mvideo 1/1 (203/453) /home/jrenault/workspace/adomvi/adomvi/../resources/test/lav3.mp4: 384x640 (no detections), YOLO 6.8ms, TRACKING 0.9ms\u001b[0m\n",
      "\u001b[32m2023-08-03 14:20:42.584\u001b[0m | \u001b[1mINFO    \u001b[0m | \u001b[36m__main__\u001b[0m:\u001b[36mrun\u001b[0m:\u001b[36m203\u001b[0m - \u001b[1mvideo 1/1 (204/453) /home/jrenault/workspace/adomvi/adomvi/../resources/test/lav3.mp4: 384x640 (no detections), YOLO 6.5ms, TRACKING 0.9ms\u001b[0m\n",
      "\u001b[32m2023-08-03 14:20:42.597\u001b[0m | \u001b[1mINFO    \u001b[0m | \u001b[36m__main__\u001b[0m:\u001b[36mrun\u001b[0m:\u001b[36m203\u001b[0m - \u001b[1mvideo 1/1 (205/453) /home/jrenault/workspace/adomvi/adomvi/../resources/test/lav3.mp4: 384x640 (no detections), YOLO 6.4ms, TRACKING 0.9ms\u001b[0m\n",
      "\u001b[32m2023-08-03 14:20:42.610\u001b[0m | \u001b[1mINFO    \u001b[0m | \u001b[36m__main__\u001b[0m:\u001b[36mrun\u001b[0m:\u001b[36m203\u001b[0m - \u001b[1mvideo 1/1 (206/453) /home/jrenault/workspace/adomvi/adomvi/../resources/test/lav3.mp4: 384x640 (no detections), YOLO 6.6ms, TRACKING 0.8ms\u001b[0m\n",
      "\u001b[32m2023-08-03 14:20:42.624\u001b[0m | \u001b[1mINFO    \u001b[0m | \u001b[36m__main__\u001b[0m:\u001b[36mrun\u001b[0m:\u001b[36m203\u001b[0m - \u001b[1mvideo 1/1 (207/453) /home/jrenault/workspace/adomvi/adomvi/../resources/test/lav3.mp4: 384x640 (no detections), YOLO 6.8ms, TRACKING 0.9ms\u001b[0m\n",
      "\u001b[32m2023-08-03 14:20:42.646\u001b[0m | \u001b[1mINFO    \u001b[0m | \u001b[36m__main__\u001b[0m:\u001b[36mrun\u001b[0m:\u001b[36m203\u001b[0m - \u001b[1mvideo 1/1 (208/453) /home/jrenault/workspace/adomvi/adomvi/../resources/test/lav3.mp4: 384x640 1 MEV, YOLO 6.5ms, TRACKING 8.3ms\u001b[0m\n",
      "\u001b[32m2023-08-03 14:20:42.661\u001b[0m | \u001b[1mINFO    \u001b[0m | \u001b[36m__main__\u001b[0m:\u001b[36mrun\u001b[0m:\u001b[36m203\u001b[0m - \u001b[1mvideo 1/1 (209/453) /home/jrenault/workspace/adomvi/adomvi/../resources/test/lav3.mp4: 384x640 (no detections), YOLO 6.8ms, TRACKING 1.1ms\u001b[0m\n",
      "\u001b[32m2023-08-03 14:20:42.674\u001b[0m | \u001b[1mINFO    \u001b[0m | \u001b[36m__main__\u001b[0m:\u001b[36mrun\u001b[0m:\u001b[36m203\u001b[0m - \u001b[1mvideo 1/1 (210/453) /home/jrenault/workspace/adomvi/adomvi/../resources/test/lav3.mp4: 384x640 (no detections), YOLO 6.8ms, TRACKING 1.0ms\u001b[0m\n",
      "\u001b[32m2023-08-03 14:20:42.688\u001b[0m | \u001b[1mINFO    \u001b[0m | \u001b[36m__main__\u001b[0m:\u001b[36mrun\u001b[0m:\u001b[36m203\u001b[0m - \u001b[1mvideo 1/1 (211/453) /home/jrenault/workspace/adomvi/adomvi/../resources/test/lav3.mp4: 384x640 (no detections), YOLO 6.7ms, TRACKING 1.0ms\u001b[0m\n",
      "\u001b[32m2023-08-03 14:20:42.702\u001b[0m | \u001b[1mINFO    \u001b[0m | \u001b[36m__main__\u001b[0m:\u001b[36mrun\u001b[0m:\u001b[36m203\u001b[0m - \u001b[1mvideo 1/1 (212/453) /home/jrenault/workspace/adomvi/adomvi/../resources/test/lav3.mp4: 384x640 (no detections), YOLO 6.5ms, TRACKING 0.9ms\u001b[0m\n",
      "\u001b[32m2023-08-03 14:20:42.715\u001b[0m | \u001b[1mINFO    \u001b[0m | \u001b[36m__main__\u001b[0m:\u001b[36mrun\u001b[0m:\u001b[36m203\u001b[0m - \u001b[1mvideo 1/1 (213/453) /home/jrenault/workspace/adomvi/adomvi/../resources/test/lav3.mp4: 384x640 (no detections), YOLO 6.6ms, TRACKING 0.9ms\u001b[0m\n",
      "\u001b[32m2023-08-03 14:20:42.729\u001b[0m | \u001b[1mINFO    \u001b[0m | \u001b[36m__main__\u001b[0m:\u001b[36mrun\u001b[0m:\u001b[36m203\u001b[0m - \u001b[1mvideo 1/1 (214/453) /home/jrenault/workspace/adomvi/adomvi/../resources/test/lav3.mp4: 384x640 (no detections), YOLO 6.7ms, TRACKING 0.9ms\u001b[0m\n",
      "\u001b[32m2023-08-03 14:20:42.742\u001b[0m | \u001b[1mINFO    \u001b[0m | \u001b[36m__main__\u001b[0m:\u001b[36mrun\u001b[0m:\u001b[36m203\u001b[0m - \u001b[1mvideo 1/1 (215/453) /home/jrenault/workspace/adomvi/adomvi/../resources/test/lav3.mp4: 384x640 (no detections), YOLO 6.5ms, TRACKING 0.8ms\u001b[0m\n",
      "\u001b[32m2023-08-03 14:20:42.756\u001b[0m | \u001b[1mINFO    \u001b[0m | \u001b[36m__main__\u001b[0m:\u001b[36mrun\u001b[0m:\u001b[36m203\u001b[0m - \u001b[1mvideo 1/1 (216/453) /home/jrenault/workspace/adomvi/adomvi/../resources/test/lav3.mp4: 384x640 (no detections), YOLO 6.6ms, TRACKING 0.8ms\u001b[0m\n",
      "\u001b[32m2023-08-03 14:20:42.770\u001b[0m | \u001b[1mINFO    \u001b[0m | \u001b[36m__main__\u001b[0m:\u001b[36mrun\u001b[0m:\u001b[36m203\u001b[0m - \u001b[1mvideo 1/1 (217/453) /home/jrenault/workspace/adomvi/adomvi/../resources/test/lav3.mp4: 384x640 (no detections), YOLO 6.8ms, TRACKING 0.9ms\u001b[0m\n",
      "\u001b[32m2023-08-03 14:20:42.783\u001b[0m | \u001b[1mINFO    \u001b[0m | \u001b[36m__main__\u001b[0m:\u001b[36mrun\u001b[0m:\u001b[36m203\u001b[0m - \u001b[1mvideo 1/1 (218/453) /home/jrenault/workspace/adomvi/adomvi/../resources/test/lav3.mp4: 384x640 (no detections), YOLO 6.6ms, TRACKING 0.8ms\u001b[0m\n",
      "\u001b[32m2023-08-03 14:20:42.797\u001b[0m | \u001b[1mINFO    \u001b[0m | \u001b[36m__main__\u001b[0m:\u001b[36mrun\u001b[0m:\u001b[36m203\u001b[0m - \u001b[1mvideo 1/1 (219/453) /home/jrenault/workspace/adomvi/adomvi/../resources/test/lav3.mp4: 384x640 (no detections), YOLO 6.8ms, TRACKING 0.9ms\u001b[0m\n",
      "\u001b[32m2023-08-03 14:20:42.810\u001b[0m | \u001b[1mINFO    \u001b[0m | \u001b[36m__main__\u001b[0m:\u001b[36mrun\u001b[0m:\u001b[36m203\u001b[0m - \u001b[1mvideo 1/1 (220/453) /home/jrenault/workspace/adomvi/adomvi/../resources/test/lav3.mp4: 384x640 (no detections), YOLO 6.7ms, TRACKING 0.8ms\u001b[0m\n",
      "\u001b[32m2023-08-03 14:20:42.824\u001b[0m | \u001b[1mINFO    \u001b[0m | \u001b[36m__main__\u001b[0m:\u001b[36mrun\u001b[0m:\u001b[36m203\u001b[0m - \u001b[1mvideo 1/1 (221/453) /home/jrenault/workspace/adomvi/adomvi/../resources/test/lav3.mp4: 384x640 (no detections), YOLO 6.9ms, TRACKING 0.8ms\u001b[0m\n",
      "\u001b[32m2023-08-03 14:20:42.838\u001b[0m | \u001b[1mINFO    \u001b[0m | \u001b[36m__main__\u001b[0m:\u001b[36mrun\u001b[0m:\u001b[36m203\u001b[0m - \u001b[1mvideo 1/1 (222/453) /home/jrenault/workspace/adomvi/adomvi/../resources/test/lav3.mp4: 384x640 (no detections), YOLO 6.5ms, TRACKING 0.9ms\u001b[0m\n",
      "\u001b[32m2023-08-03 14:20:42.851\u001b[0m | \u001b[1mINFO    \u001b[0m | \u001b[36m__main__\u001b[0m:\u001b[36mrun\u001b[0m:\u001b[36m203\u001b[0m - \u001b[1mvideo 1/1 (223/453) /home/jrenault/workspace/adomvi/adomvi/../resources/test/lav3.mp4: 384x640 (no detections), YOLO 6.6ms, TRACKING 0.8ms\u001b[0m\n",
      "\u001b[32m2023-08-03 14:20:42.864\u001b[0m | \u001b[1mINFO    \u001b[0m | \u001b[36m__main__\u001b[0m:\u001b[36mrun\u001b[0m:\u001b[36m203\u001b[0m - \u001b[1mvideo 1/1 (224/453) /home/jrenault/workspace/adomvi/adomvi/../resources/test/lav3.mp4: 384x640 (no detections), YOLO 6.6ms, TRACKING 0.9ms\u001b[0m\n",
      "\u001b[32m2023-08-03 14:20:42.878\u001b[0m | \u001b[1mINFO    \u001b[0m | \u001b[36m__main__\u001b[0m:\u001b[36mrun\u001b[0m:\u001b[36m203\u001b[0m - \u001b[1mvideo 1/1 (225/453) /home/jrenault/workspace/adomvi/adomvi/../resources/test/lav3.mp4: 384x640 (no detections), YOLO 6.8ms, TRACKING 0.9ms\u001b[0m\n",
      "\u001b[32m2023-08-03 14:20:42.891\u001b[0m | \u001b[1mINFO    \u001b[0m | \u001b[36m__main__\u001b[0m:\u001b[36mrun\u001b[0m:\u001b[36m203\u001b[0m - \u001b[1mvideo 1/1 (226/453) /home/jrenault/workspace/adomvi/adomvi/../resources/test/lav3.mp4: 384x640 (no detections), YOLO 6.6ms, TRACKING 0.9ms\u001b[0m\n",
      "\u001b[32m2023-08-03 14:20:42.914\u001b[0m | \u001b[1mINFO    \u001b[0m | \u001b[36m__main__\u001b[0m:\u001b[36mrun\u001b[0m:\u001b[36m203\u001b[0m - \u001b[1mvideo 1/1 (227/453) /home/jrenault/workspace/adomvi/adomvi/../resources/test/lav3.mp4: 384x640 1 AFV, YOLO 6.4ms, TRACKING 9.3ms\u001b[0m\n",
      "\u001b[32m2023-08-03 14:20:42.939\u001b[0m | \u001b[1mINFO    \u001b[0m | \u001b[36m__main__\u001b[0m:\u001b[36mrun\u001b[0m:\u001b[36m203\u001b[0m - \u001b[1mvideo 1/1 (228/453) /home/jrenault/workspace/adomvi/adomvi/../resources/test/lav3.mp4: 384x640 1 AFV, YOLO 7.0ms, TRACKING 9.5ms\u001b[0m\n",
      "\u001b[32m2023-08-03 14:20:42.952\u001b[0m | \u001b[1mINFO    \u001b[0m | \u001b[36m__main__\u001b[0m:\u001b[36mrun\u001b[0m:\u001b[36m203\u001b[0m - \u001b[1mvideo 1/1 (229/453) /home/jrenault/workspace/adomvi/adomvi/../resources/test/lav3.mp4: 384x640 (no detections), YOLO 6.6ms, TRACKING 1.1ms\u001b[0m\n",
      "\u001b[32m2023-08-03 14:20:42.966\u001b[0m | \u001b[1mINFO    \u001b[0m | \u001b[36m__main__\u001b[0m:\u001b[36mrun\u001b[0m:\u001b[36m203\u001b[0m - \u001b[1mvideo 1/1 (230/453) /home/jrenault/workspace/adomvi/adomvi/../resources/test/lav3.mp4: 384x640 (no detections), YOLO 6.5ms, TRACKING 1.1ms\u001b[0m\n",
      "\u001b[32m2023-08-03 14:20:42.980\u001b[0m | \u001b[1mINFO    \u001b[0m | \u001b[36m__main__\u001b[0m:\u001b[36mrun\u001b[0m:\u001b[36m203\u001b[0m - \u001b[1mvideo 1/1 (231/453) /home/jrenault/workspace/adomvi/adomvi/../resources/test/lav3.mp4: 384x640 (no detections), YOLO 6.9ms, TRACKING 1.0ms\u001b[0m\n",
      "\u001b[32m2023-08-03 14:20:42.993\u001b[0m | \u001b[1mINFO    \u001b[0m | \u001b[36m__main__\u001b[0m:\u001b[36mrun\u001b[0m:\u001b[36m203\u001b[0m - \u001b[1mvideo 1/1 (232/453) /home/jrenault/workspace/adomvi/adomvi/../resources/test/lav3.mp4: 384x640 (no detections), YOLO 6.6ms, TRACKING 1.0ms\u001b[0m\n",
      "\u001b[32m2023-08-03 14:20:43.007\u001b[0m | \u001b[1mINFO    \u001b[0m | \u001b[36m__main__\u001b[0m:\u001b[36mrun\u001b[0m:\u001b[36m203\u001b[0m - \u001b[1mvideo 1/1 (233/453) /home/jrenault/workspace/adomvi/adomvi/../resources/test/lav3.mp4: 384x640 (no detections), YOLO 6.7ms, TRACKING 1.0ms\u001b[0m\n",
      "\u001b[32m2023-08-03 14:20:43.032\u001b[0m | \u001b[1mINFO    \u001b[0m | \u001b[36m__main__\u001b[0m:\u001b[36mrun\u001b[0m:\u001b[36m203\u001b[0m - \u001b[1mvideo 1/1 (234/453) /home/jrenault/workspace/adomvi/adomvi/../resources/test/lav3.mp4: 384x640 1 AFV, YOLO 6.8ms, TRACKING 10.4ms\u001b[0m\n",
      "\u001b[32m2023-08-03 14:20:43.056\u001b[0m | \u001b[1mINFO    \u001b[0m | \u001b[36m__main__\u001b[0m:\u001b[36mrun\u001b[0m:\u001b[36m203\u001b[0m - \u001b[1mvideo 1/1 (235/453) /home/jrenault/workspace/adomvi/adomvi/../resources/test/lav3.mp4: 384x640 1 AFV, YOLO 6.6ms, TRACKING 9.8ms\u001b[0m\n",
      "\u001b[32m2023-08-03 14:20:43.071\u001b[0m | \u001b[1mINFO    \u001b[0m | \u001b[36m__main__\u001b[0m:\u001b[36mrun\u001b[0m:\u001b[36m203\u001b[0m - \u001b[1mvideo 1/1 (236/453) /home/jrenault/workspace/adomvi/adomvi/../resources/test/lav3.mp4: 384x640 (no detections), YOLO 6.9ms, TRACKING 1.1ms\u001b[0m\n",
      "\u001b[32m2023-08-03 14:20:43.085\u001b[0m | \u001b[1mINFO    \u001b[0m | \u001b[36m__main__\u001b[0m:\u001b[36mrun\u001b[0m:\u001b[36m203\u001b[0m - \u001b[1mvideo 1/1 (237/453) /home/jrenault/workspace/adomvi/adomvi/../resources/test/lav3.mp4: 384x640 (no detections), YOLO 7.0ms, TRACKING 1.1ms\u001b[0m\n",
      "\u001b[32m2023-08-03 14:20:43.098\u001b[0m | \u001b[1mINFO    \u001b[0m | \u001b[36m__main__\u001b[0m:\u001b[36mrun\u001b[0m:\u001b[36m203\u001b[0m - \u001b[1mvideo 1/1 (238/453) /home/jrenault/workspace/adomvi/adomvi/../resources/test/lav3.mp4: 384x640 (no detections), YOLO 6.8ms, TRACKING 1.1ms\u001b[0m\n",
      "\u001b[32m2023-08-03 14:20:43.112\u001b[0m | \u001b[1mINFO    \u001b[0m | \u001b[36m__main__\u001b[0m:\u001b[36mrun\u001b[0m:\u001b[36m203\u001b[0m - \u001b[1mvideo 1/1 (239/453) /home/jrenault/workspace/adomvi/adomvi/../resources/test/lav3.mp4: 384x640 (no detections), YOLO 6.6ms, TRACKING 1.0ms\u001b[0m\n",
      "\u001b[32m2023-08-03 14:20:43.126\u001b[0m | \u001b[1mINFO    \u001b[0m | \u001b[36m__main__\u001b[0m:\u001b[36mrun\u001b[0m:\u001b[36m203\u001b[0m - \u001b[1mvideo 1/1 (240/453) /home/jrenault/workspace/adomvi/adomvi/../resources/test/lav3.mp4: 384x640 (no detections), YOLO 6.8ms, TRACKING 0.9ms\u001b[0m\n",
      "\u001b[32m2023-08-03 14:20:43.139\u001b[0m | \u001b[1mINFO    \u001b[0m | \u001b[36m__main__\u001b[0m:\u001b[36mrun\u001b[0m:\u001b[36m203\u001b[0m - \u001b[1mvideo 1/1 (241/453) /home/jrenault/workspace/adomvi/adomvi/../resources/test/lav3.mp4: 384x640 (no detections), YOLO 6.7ms, TRACKING 0.9ms\u001b[0m\n",
      "\u001b[32m2023-08-03 14:20:43.163\u001b[0m | \u001b[1mINFO    \u001b[0m | \u001b[36m__main__\u001b[0m:\u001b[36mrun\u001b[0m:\u001b[36m203\u001b[0m - \u001b[1mvideo 1/1 (242/453) /home/jrenault/workspace/adomvi/adomvi/../resources/test/lav3.mp4: 384x640 1 LAV, YOLO 6.6ms, TRACKING 9.8ms\u001b[0m\n",
      "\u001b[32m2023-08-03 14:20:43.187\u001b[0m | \u001b[1mINFO    \u001b[0m | \u001b[36m__main__\u001b[0m:\u001b[36mrun\u001b[0m:\u001b[36m203\u001b[0m - \u001b[1mvideo 1/1 (243/453) /home/jrenault/workspace/adomvi/adomvi/../resources/test/lav3.mp4: 384x640 1 LAV, YOLO 6.8ms, TRACKING 9.5ms\u001b[0m\n",
      "\u001b[32m2023-08-03 14:20:43.211\u001b[0m | \u001b[1mINFO    \u001b[0m | \u001b[36m__main__\u001b[0m:\u001b[36mrun\u001b[0m:\u001b[36m203\u001b[0m - \u001b[1mvideo 1/1 (244/453) /home/jrenault/workspace/adomvi/adomvi/../resources/test/lav3.mp4: 384x640 1 LAV, YOLO 6.8ms, TRACKING 9.5ms\u001b[0m\n",
      "\u001b[32m2023-08-03 14:20:43.236\u001b[0m | \u001b[1mINFO    \u001b[0m | \u001b[36m__main__\u001b[0m:\u001b[36mrun\u001b[0m:\u001b[36m203\u001b[0m - \u001b[1mvideo 1/1 (245/453) /home/jrenault/workspace/adomvi/adomvi/../resources/test/lav3.mp4: 384x640 1 LAV, YOLO 6.9ms, TRACKING 9.8ms\u001b[0m\n",
      "\u001b[32m2023-08-03 14:20:43.260\u001b[0m | \u001b[1mINFO    \u001b[0m | \u001b[36m__main__\u001b[0m:\u001b[36mrun\u001b[0m:\u001b[36m203\u001b[0m - \u001b[1mvideo 1/1 (246/453) /home/jrenault/workspace/adomvi/adomvi/../resources/test/lav3.mp4: 384x640 1 LAV, YOLO 6.7ms, TRACKING 9.4ms\u001b[0m\n",
      "\u001b[32m2023-08-03 14:20:43.288\u001b[0m | \u001b[1mINFO    \u001b[0m | \u001b[36m__main__\u001b[0m:\u001b[36mrun\u001b[0m:\u001b[36m203\u001b[0m - \u001b[1mvideo 1/1 (247/453) /home/jrenault/workspace/adomvi/adomvi/../resources/test/lav3.mp4: 384x640 1 AFV, YOLO 6.8ms, TRACKING 13.6ms\u001b[0m\n",
      "\u001b[32m2023-08-03 14:20:43.312\u001b[0m | \u001b[1mINFO    \u001b[0m | \u001b[36m__main__\u001b[0m:\u001b[36mrun\u001b[0m:\u001b[36m203\u001b[0m - \u001b[1mvideo 1/1 (248/453) /home/jrenault/workspace/adomvi/adomvi/../resources/test/lav3.mp4: 384x640 1 AFV, YOLO 6.9ms, TRACKING 9.9ms\u001b[0m\n",
      "\u001b[32m2023-08-03 14:20:43.337\u001b[0m | \u001b[1mINFO    \u001b[0m | \u001b[36m__main__\u001b[0m:\u001b[36mrun\u001b[0m:\u001b[36m203\u001b[0m - \u001b[1mvideo 1/1 (249/453) /home/jrenault/workspace/adomvi/adomvi/../resources/test/lav3.mp4: 384x640 1 AFV, YOLO 6.9ms, TRACKING 10.6ms\u001b[0m\n",
      "\u001b[32m2023-08-03 14:20:43.361\u001b[0m | \u001b[1mINFO    \u001b[0m | \u001b[36m__main__\u001b[0m:\u001b[36mrun\u001b[0m:\u001b[36m203\u001b[0m - \u001b[1mvideo 1/1 (250/453) /home/jrenault/workspace/adomvi/adomvi/../resources/test/lav3.mp4: 384x640 1 AFV, YOLO 6.8ms, TRACKING 10.1ms\u001b[0m\n",
      "\u001b[32m2023-08-03 14:20:43.386\u001b[0m | \u001b[1mINFO    \u001b[0m | \u001b[36m__main__\u001b[0m:\u001b[36mrun\u001b[0m:\u001b[36m203\u001b[0m - \u001b[1mvideo 1/1 (251/453) /home/jrenault/workspace/adomvi/adomvi/../resources/test/lav3.mp4: 384x640 1 AFV, YOLO 7.0ms, TRACKING 10.2ms\u001b[0m\n",
      "\u001b[32m2023-08-03 14:20:43.411\u001b[0m | \u001b[1mINFO    \u001b[0m | \u001b[36m__main__\u001b[0m:\u001b[36mrun\u001b[0m:\u001b[36m203\u001b[0m - \u001b[1mvideo 1/1 (252/453) /home/jrenault/workspace/adomvi/adomvi/../resources/test/lav3.mp4: 384x640 1 AFV, YOLO 6.8ms, TRACKING 10.3ms\u001b[0m\n",
      "\u001b[32m2023-08-03 14:20:43.435\u001b[0m | \u001b[1mINFO    \u001b[0m | \u001b[36m__main__\u001b[0m:\u001b[36mrun\u001b[0m:\u001b[36m203\u001b[0m - \u001b[1mvideo 1/1 (253/453) /home/jrenault/workspace/adomvi/adomvi/../resources/test/lav3.mp4: 384x640 1 AFV, YOLO 6.7ms, TRACKING 10.3ms\u001b[0m\n",
      "\u001b[32m2023-08-03 14:20:43.459\u001b[0m | \u001b[1mINFO    \u001b[0m | \u001b[36m__main__\u001b[0m:\u001b[36mrun\u001b[0m:\u001b[36m203\u001b[0m - \u001b[1mvideo 1/1 (254/453) /home/jrenault/workspace/adomvi/adomvi/../resources/test/lav3.mp4: 384x640 1 AFV, YOLO 6.7ms, TRACKING 9.9ms\u001b[0m\n",
      "\u001b[32m2023-08-03 14:20:43.484\u001b[0m | \u001b[1mINFO    \u001b[0m | \u001b[36m__main__\u001b[0m:\u001b[36mrun\u001b[0m:\u001b[36m203\u001b[0m - \u001b[1mvideo 1/1 (255/453) /home/jrenault/workspace/adomvi/adomvi/../resources/test/lav3.mp4: 384x640 1 AFV, YOLO 6.8ms, TRACKING 10.0ms\u001b[0m\n",
      "\u001b[32m2023-08-03 14:20:43.508\u001b[0m | \u001b[1mINFO    \u001b[0m | \u001b[36m__main__\u001b[0m:\u001b[36mrun\u001b[0m:\u001b[36m203\u001b[0m - \u001b[1mvideo 1/1 (256/453) /home/jrenault/workspace/adomvi/adomvi/../resources/test/lav3.mp4: 384x640 1 AFV, YOLO 6.9ms, TRACKING 10.1ms\u001b[0m\n",
      "\u001b[32m2023-08-03 14:20:43.533\u001b[0m | \u001b[1mINFO    \u001b[0m | \u001b[36m__main__\u001b[0m:\u001b[36mrun\u001b[0m:\u001b[36m203\u001b[0m - \u001b[1mvideo 1/1 (257/453) /home/jrenault/workspace/adomvi/adomvi/../resources/test/lav3.mp4: 384x640 1 AFV, YOLO 6.7ms, TRACKING 10.1ms\u001b[0m\n",
      "\u001b[32m2023-08-03 14:20:43.558\u001b[0m | \u001b[1mINFO    \u001b[0m | \u001b[36m__main__\u001b[0m:\u001b[36mrun\u001b[0m:\u001b[36m203\u001b[0m - \u001b[1mvideo 1/1 (258/453) /home/jrenault/workspace/adomvi/adomvi/../resources/test/lav3.mp4: 384x640 1 AFV, YOLO 7.0ms, TRACKING 10.3ms\u001b[0m\n",
      "\u001b[32m2023-08-03 14:20:43.582\u001b[0m | \u001b[1mINFO    \u001b[0m | \u001b[36m__main__\u001b[0m:\u001b[36mrun\u001b[0m:\u001b[36m203\u001b[0m - \u001b[1mvideo 1/1 (259/453) /home/jrenault/workspace/adomvi/adomvi/../resources/test/lav3.mp4: 384x640 1 AFV, YOLO 6.8ms, TRACKING 10.0ms\u001b[0m\n",
      "\u001b[32m2023-08-03 14:20:43.607\u001b[0m | \u001b[1mINFO    \u001b[0m | \u001b[36m__main__\u001b[0m:\u001b[36mrun\u001b[0m:\u001b[36m203\u001b[0m - \u001b[1mvideo 1/1 (260/453) /home/jrenault/workspace/adomvi/adomvi/../resources/test/lav3.mp4: 384x640 1 AFV, YOLO 6.9ms, TRACKING 10.1ms\u001b[0m\n",
      "\u001b[32m2023-08-03 14:20:43.631\u001b[0m | \u001b[1mINFO    \u001b[0m | \u001b[36m__main__\u001b[0m:\u001b[36mrun\u001b[0m:\u001b[36m203\u001b[0m - \u001b[1mvideo 1/1 (261/453) /home/jrenault/workspace/adomvi/adomvi/../resources/test/lav3.mp4: 384x640 1 AFV, YOLO 6.7ms, TRACKING 10.0ms\u001b[0m\n",
      "\u001b[32m2023-08-03 14:20:43.655\u001b[0m | \u001b[1mINFO    \u001b[0m | \u001b[36m__main__\u001b[0m:\u001b[36mrun\u001b[0m:\u001b[36m203\u001b[0m - \u001b[1mvideo 1/1 (262/453) /home/jrenault/workspace/adomvi/adomvi/../resources/test/lav3.mp4: 384x640 1 AFV, YOLO 7.0ms, TRACKING 9.9ms\u001b[0m\n",
      "\u001b[32m2023-08-03 14:20:43.679\u001b[0m | \u001b[1mINFO    \u001b[0m | \u001b[36m__main__\u001b[0m:\u001b[36mrun\u001b[0m:\u001b[36m203\u001b[0m - \u001b[1mvideo 1/1 (263/453) /home/jrenault/workspace/adomvi/adomvi/../resources/test/lav3.mp4: 384x640 1 AFV, YOLO 6.7ms, TRACKING 9.8ms\u001b[0m\n",
      "\u001b[32m2023-08-03 14:20:43.704\u001b[0m | \u001b[1mINFO    \u001b[0m | \u001b[36m__main__\u001b[0m:\u001b[36mrun\u001b[0m:\u001b[36m203\u001b[0m - \u001b[1mvideo 1/1 (264/453) /home/jrenault/workspace/adomvi/adomvi/../resources/test/lav3.mp4: 384x640 1 AFV, YOLO 7.1ms, TRACKING 9.9ms\u001b[0m\n",
      "\u001b[32m2023-08-03 14:20:43.729\u001b[0m | \u001b[1mINFO    \u001b[0m | \u001b[36m__main__\u001b[0m:\u001b[36mrun\u001b[0m:\u001b[36m203\u001b[0m - \u001b[1mvideo 1/1 (265/453) /home/jrenault/workspace/adomvi/adomvi/../resources/test/lav3.mp4: 384x640 1 AFV, YOLO 7.1ms, TRACKING 10.0ms\u001b[0m\n",
      "\u001b[32m2023-08-03 14:20:43.753\u001b[0m | \u001b[1mINFO    \u001b[0m | \u001b[36m__main__\u001b[0m:\u001b[36mrun\u001b[0m:\u001b[36m203\u001b[0m - \u001b[1mvideo 1/1 (266/453) /home/jrenault/workspace/adomvi/adomvi/../resources/test/lav3.mp4: 384x640 1 AFV, YOLO 7.1ms, TRACKING 9.9ms\u001b[0m\n",
      "\u001b[32m2023-08-03 14:20:43.777\u001b[0m | \u001b[1mINFO    \u001b[0m | \u001b[36m__main__\u001b[0m:\u001b[36mrun\u001b[0m:\u001b[36m203\u001b[0m - \u001b[1mvideo 1/1 (267/453) /home/jrenault/workspace/adomvi/adomvi/../resources/test/lav3.mp4: 384x640 1 AFV, YOLO 6.8ms, TRACKING 9.7ms\u001b[0m\n",
      "\u001b[32m2023-08-03 14:20:43.802\u001b[0m | \u001b[1mINFO    \u001b[0m | \u001b[36m__main__\u001b[0m:\u001b[36mrun\u001b[0m:\u001b[36m203\u001b[0m - \u001b[1mvideo 1/1 (268/453) /home/jrenault/workspace/adomvi/adomvi/../resources/test/lav3.mp4: 384x640 1 AFV, YOLO 7.0ms, TRACKING 10.1ms\u001b[0m\n",
      "\u001b[32m2023-08-03 14:20:43.826\u001b[0m | \u001b[1mINFO    \u001b[0m | \u001b[36m__main__\u001b[0m:\u001b[36mrun\u001b[0m:\u001b[36m203\u001b[0m - \u001b[1mvideo 1/1 (269/453) /home/jrenault/workspace/adomvi/adomvi/../resources/test/lav3.mp4: 384x640 1 AFV, YOLO 6.7ms, TRACKING 9.8ms\u001b[0m\n",
      "\u001b[32m2023-08-03 14:20:43.851\u001b[0m | \u001b[1mINFO    \u001b[0m | \u001b[36m__main__\u001b[0m:\u001b[36mrun\u001b[0m:\u001b[36m203\u001b[0m - \u001b[1mvideo 1/1 (270/453) /home/jrenault/workspace/adomvi/adomvi/../resources/test/lav3.mp4: 384x640 1 AFV, YOLO 7.1ms, TRACKING 10.1ms\u001b[0m\n",
      "\u001b[32m2023-08-03 14:20:43.875\u001b[0m | \u001b[1mINFO    \u001b[0m | \u001b[36m__main__\u001b[0m:\u001b[36mrun\u001b[0m:\u001b[36m203\u001b[0m - \u001b[1mvideo 1/1 (271/453) /home/jrenault/workspace/adomvi/adomvi/../resources/test/lav3.mp4: 384x640 1 AFV, YOLO 7.0ms, TRACKING 9.9ms\u001b[0m\n",
      "\u001b[32m2023-08-03 14:20:43.900\u001b[0m | \u001b[1mINFO    \u001b[0m | \u001b[36m__main__\u001b[0m:\u001b[36mrun\u001b[0m:\u001b[36m203\u001b[0m - \u001b[1mvideo 1/1 (272/453) /home/jrenault/workspace/adomvi/adomvi/../resources/test/lav3.mp4: 384x640 1 AFV, YOLO 6.8ms, TRACKING 10.1ms\u001b[0m\n",
      "\u001b[32m2023-08-03 14:20:43.926\u001b[0m | \u001b[1mINFO    \u001b[0m | \u001b[36m__main__\u001b[0m:\u001b[36mrun\u001b[0m:\u001b[36m203\u001b[0m - \u001b[1mvideo 1/1 (273/453) /home/jrenault/workspace/adomvi/adomvi/../resources/test/lav3.mp4: 384x640 1 AFV, YOLO 7.1ms, TRACKING 11.6ms\u001b[0m\n",
      "\u001b[32m2023-08-03 14:20:43.969\u001b[0m | \u001b[1mINFO    \u001b[0m | \u001b[36m__main__\u001b[0m:\u001b[36mrun\u001b[0m:\u001b[36m203\u001b[0m - \u001b[1mvideo 1/1 (274/453) /home/jrenault/workspace/adomvi/adomvi/../resources/test/lav3.mp4: 384x640 1 AFV, YOLO 7.6ms, TRACKING 22.7ms\u001b[0m\n",
      "\u001b[32m2023-08-03 14:20:43.996\u001b[0m | \u001b[1mINFO    \u001b[0m | \u001b[36m__main__\u001b[0m:\u001b[36mrun\u001b[0m:\u001b[36m203\u001b[0m - \u001b[1mvideo 1/1 (275/453) /home/jrenault/workspace/adomvi/adomvi/../resources/test/lav3.mp4: 384x640 1 AFV, YOLO 8.4ms, TRACKING 10.7ms\u001b[0m\n",
      "\u001b[32m2023-08-03 14:20:44.023\u001b[0m | \u001b[1mINFO    \u001b[0m | \u001b[36m__main__\u001b[0m:\u001b[36mrun\u001b[0m:\u001b[36m203\u001b[0m - \u001b[1mvideo 1/1 (276/453) /home/jrenault/workspace/adomvi/adomvi/../resources/test/lav3.mp4: 384x640 1 AFV, YOLO 9.0ms, TRACKING 10.3ms\u001b[0m\n",
      "\u001b[32m2023-08-03 14:20:44.062\u001b[0m | \u001b[1mINFO    \u001b[0m | \u001b[36m__main__\u001b[0m:\u001b[36mrun\u001b[0m:\u001b[36m203\u001b[0m - \u001b[1mvideo 1/1 (277/453) /home/jrenault/workspace/adomvi/adomvi/../resources/test/lav3.mp4: 384x640 1 AFV, YOLO 13.0ms, TRACKING 16.5ms\u001b[0m\n",
      "\u001b[32m2023-08-03 14:20:44.087\u001b[0m | \u001b[1mINFO    \u001b[0m | \u001b[36m__main__\u001b[0m:\u001b[36mrun\u001b[0m:\u001b[36m203\u001b[0m - \u001b[1mvideo 1/1 (278/453) /home/jrenault/workspace/adomvi/adomvi/../resources/test/lav3.mp4: 384x640 1 AFV, YOLO 7.3ms, TRACKING 10.0ms\u001b[0m\n",
      "\u001b[32m2023-08-03 14:20:44.112\u001b[0m | \u001b[1mINFO    \u001b[0m | \u001b[36m__main__\u001b[0m:\u001b[36mrun\u001b[0m:\u001b[36m203\u001b[0m - \u001b[1mvideo 1/1 (279/453) /home/jrenault/workspace/adomvi/adomvi/../resources/test/lav3.mp4: 384x640 1 AFV, YOLO 7.3ms, TRACKING 9.7ms\u001b[0m\n",
      "\u001b[32m2023-08-03 14:20:44.136\u001b[0m | \u001b[1mINFO    \u001b[0m | \u001b[36m__main__\u001b[0m:\u001b[36mrun\u001b[0m:\u001b[36m203\u001b[0m - \u001b[1mvideo 1/1 (280/453) /home/jrenault/workspace/adomvi/adomvi/../resources/test/lav3.mp4: 384x640 1 AFV, YOLO 7.2ms, TRACKING 9.7ms\u001b[0m\n",
      "\u001b[32m2023-08-03 14:20:44.161\u001b[0m | \u001b[1mINFO    \u001b[0m | \u001b[36m__main__\u001b[0m:\u001b[36mrun\u001b[0m:\u001b[36m203\u001b[0m - \u001b[1mvideo 1/1 (281/453) /home/jrenault/workspace/adomvi/adomvi/../resources/test/lav3.mp4: 384x640 1 AFV, YOLO 7.2ms, TRACKING 9.8ms\u001b[0m\n",
      "\u001b[32m2023-08-03 14:20:44.185\u001b[0m | \u001b[1mINFO    \u001b[0m | \u001b[36m__main__\u001b[0m:\u001b[36mrun\u001b[0m:\u001b[36m203\u001b[0m - \u001b[1mvideo 1/1 (282/453) /home/jrenault/workspace/adomvi/adomvi/../resources/test/lav3.mp4: 384x640 1 AFV, YOLO 6.9ms, TRACKING 9.5ms\u001b[0m\n",
      "\u001b[32m2023-08-03 14:20:44.210\u001b[0m | \u001b[1mINFO    \u001b[0m | \u001b[36m__main__\u001b[0m:\u001b[36mrun\u001b[0m:\u001b[36m203\u001b[0m - \u001b[1mvideo 1/1 (283/453) /home/jrenault/workspace/adomvi/adomvi/../resources/test/lav3.mp4: 384x640 1 AFV, YOLO 7.1ms, TRACKING 9.6ms\u001b[0m\n",
      "\u001b[32m2023-08-03 14:20:44.234\u001b[0m | \u001b[1mINFO    \u001b[0m | \u001b[36m__main__\u001b[0m:\u001b[36mrun\u001b[0m:\u001b[36m203\u001b[0m - \u001b[1mvideo 1/1 (284/453) /home/jrenault/workspace/adomvi/adomvi/../resources/test/lav3.mp4: 384x640 1 AFV, YOLO 7.0ms, TRACKING 9.5ms\u001b[0m\n",
      "\u001b[32m2023-08-03 14:20:44.258\u001b[0m | \u001b[1mINFO    \u001b[0m | \u001b[36m__main__\u001b[0m:\u001b[36mrun\u001b[0m:\u001b[36m203\u001b[0m - \u001b[1mvideo 1/1 (285/453) /home/jrenault/workspace/adomvi/adomvi/../resources/test/lav3.mp4: 384x640 1 AFV, YOLO 7.0ms, TRACKING 9.8ms\u001b[0m\n",
      "\u001b[32m2023-08-03 14:20:44.282\u001b[0m | \u001b[1mINFO    \u001b[0m | \u001b[36m__main__\u001b[0m:\u001b[36mrun\u001b[0m:\u001b[36m203\u001b[0m - \u001b[1mvideo 1/1 (286/453) /home/jrenault/workspace/adomvi/adomvi/../resources/test/lav3.mp4: 384x640 1 AFV, YOLO 6.8ms, TRACKING 9.4ms\u001b[0m\n",
      "\u001b[32m2023-08-03 14:20:44.306\u001b[0m | \u001b[1mINFO    \u001b[0m | \u001b[36m__main__\u001b[0m:\u001b[36mrun\u001b[0m:\u001b[36m203\u001b[0m - \u001b[1mvideo 1/1 (287/453) /home/jrenault/workspace/adomvi/adomvi/../resources/test/lav3.mp4: 384x640 1 AFV, YOLO 7.1ms, TRACKING 9.7ms\u001b[0m\n",
      "\u001b[32m2023-08-03 14:20:44.331\u001b[0m | \u001b[1mINFO    \u001b[0m | \u001b[36m__main__\u001b[0m:\u001b[36mrun\u001b[0m:\u001b[36m203\u001b[0m - \u001b[1mvideo 1/1 (288/453) /home/jrenault/workspace/adomvi/adomvi/../resources/test/lav3.mp4: 384x640 1 AFV, YOLO 7.2ms, TRACKING 9.7ms\u001b[0m\n",
      "\u001b[32m2023-08-03 14:20:44.355\u001b[0m | \u001b[1mINFO    \u001b[0m | \u001b[36m__main__\u001b[0m:\u001b[36mrun\u001b[0m:\u001b[36m203\u001b[0m - \u001b[1mvideo 1/1 (289/453) /home/jrenault/workspace/adomvi/adomvi/../resources/test/lav3.mp4: 384x640 1 AFV, YOLO 6.9ms, TRACKING 9.8ms\u001b[0m\n",
      "\u001b[32m2023-08-03 14:20:44.379\u001b[0m | \u001b[1mINFO    \u001b[0m | \u001b[36m__main__\u001b[0m:\u001b[36mrun\u001b[0m:\u001b[36m203\u001b[0m - \u001b[1mvideo 1/1 (290/453) /home/jrenault/workspace/adomvi/adomvi/../resources/test/lav3.mp4: 384x640 1 AFV, YOLO 6.9ms, TRACKING 9.5ms\u001b[0m\n",
      "\u001b[32m2023-08-03 14:20:44.403\u001b[0m | \u001b[1mINFO    \u001b[0m | \u001b[36m__main__\u001b[0m:\u001b[36mrun\u001b[0m:\u001b[36m203\u001b[0m - \u001b[1mvideo 1/1 (291/453) /home/jrenault/workspace/adomvi/adomvi/../resources/test/lav3.mp4: 384x640 1 AFV, YOLO 7.0ms, TRACKING 9.5ms\u001b[0m\n",
      "\u001b[32m2023-08-03 14:20:44.427\u001b[0m | \u001b[1mINFO    \u001b[0m | \u001b[36m__main__\u001b[0m:\u001b[36mrun\u001b[0m:\u001b[36m203\u001b[0m - \u001b[1mvideo 1/1 (292/453) /home/jrenault/workspace/adomvi/adomvi/../resources/test/lav3.mp4: 384x640 1 AFV, YOLO 7.0ms, TRACKING 9.4ms\u001b[0m\n",
      "\u001b[32m2023-08-03 14:20:44.451\u001b[0m | \u001b[1mINFO    \u001b[0m | \u001b[36m__main__\u001b[0m:\u001b[36mrun\u001b[0m:\u001b[36m203\u001b[0m - \u001b[1mvideo 1/1 (293/453) /home/jrenault/workspace/adomvi/adomvi/../resources/test/lav3.mp4: 384x640 1 APC, YOLO 6.8ms, TRACKING 8.2ms\u001b[0m\n",
      "\u001b[32m2023-08-03 14:20:44.465\u001b[0m | \u001b[1mINFO    \u001b[0m | \u001b[36m__main__\u001b[0m:\u001b[36mrun\u001b[0m:\u001b[36m203\u001b[0m - \u001b[1mvideo 1/1 (294/453) /home/jrenault/workspace/adomvi/adomvi/../resources/test/lav3.mp4: 384x640 (no detections), YOLO 7.1ms, TRACKING 1.0ms\u001b[0m\n",
      "\u001b[32m2023-08-03 14:20:44.479\u001b[0m | \u001b[1mINFO    \u001b[0m | \u001b[36m__main__\u001b[0m:\u001b[36mrun\u001b[0m:\u001b[36m203\u001b[0m - \u001b[1mvideo 1/1 (295/453) /home/jrenault/workspace/adomvi/adomvi/../resources/test/lav3.mp4: 384x640 (no detections), YOLO 6.7ms, TRACKING 0.9ms\u001b[0m\n",
      "\u001b[32m2023-08-03 14:20:44.493\u001b[0m | \u001b[1mINFO    \u001b[0m | \u001b[36m__main__\u001b[0m:\u001b[36mrun\u001b[0m:\u001b[36m203\u001b[0m - \u001b[1mvideo 1/1 (296/453) /home/jrenault/workspace/adomvi/adomvi/../resources/test/lav3.mp4: 384x640 (no detections), YOLO 6.8ms, TRACKING 0.9ms\u001b[0m\n",
      "\u001b[32m2023-08-03 14:20:44.507\u001b[0m | \u001b[1mINFO    \u001b[0m | \u001b[36m__main__\u001b[0m:\u001b[36mrun\u001b[0m:\u001b[36m203\u001b[0m - \u001b[1mvideo 1/1 (297/453) /home/jrenault/workspace/adomvi/adomvi/../resources/test/lav3.mp4: 384x640 (no detections), YOLO 7.1ms, TRACKING 0.9ms\u001b[0m\n",
      "\u001b[32m2023-08-03 14:20:44.521\u001b[0m | \u001b[1mINFO    \u001b[0m | \u001b[36m__main__\u001b[0m:\u001b[36mrun\u001b[0m:\u001b[36m203\u001b[0m - \u001b[1mvideo 1/1 (298/453) /home/jrenault/workspace/adomvi/adomvi/../resources/test/lav3.mp4: 384x640 (no detections), YOLO 6.7ms, TRACKING 0.9ms\u001b[0m\n",
      "\u001b[32m2023-08-03 14:20:44.535\u001b[0m | \u001b[1mINFO    \u001b[0m | \u001b[36m__main__\u001b[0m:\u001b[36mrun\u001b[0m:\u001b[36m203\u001b[0m - \u001b[1mvideo 1/1 (299/453) /home/jrenault/workspace/adomvi/adomvi/../resources/test/lav3.mp4: 384x640 (no detections), YOLO 6.7ms, TRACKING 0.8ms\u001b[0m\n",
      "\u001b[32m2023-08-03 14:20:44.549\u001b[0m | \u001b[1mINFO    \u001b[0m | \u001b[36m__main__\u001b[0m:\u001b[36mrun\u001b[0m:\u001b[36m203\u001b[0m - \u001b[1mvideo 1/1 (300/453) /home/jrenault/workspace/adomvi/adomvi/../resources/test/lav3.mp4: 384x640 (no detections), YOLO 6.8ms, TRACKING 0.9ms\u001b[0m\n",
      "\u001b[32m2023-08-03 14:20:44.563\u001b[0m | \u001b[1mINFO    \u001b[0m | \u001b[36m__main__\u001b[0m:\u001b[36mrun\u001b[0m:\u001b[36m203\u001b[0m - \u001b[1mvideo 1/1 (301/453) /home/jrenault/workspace/adomvi/adomvi/../resources/test/lav3.mp4: 384x640 (no detections), YOLO 6.9ms, TRACKING 0.9ms\u001b[0m\n",
      "\u001b[32m2023-08-03 14:20:44.577\u001b[0m | \u001b[1mINFO    \u001b[0m | \u001b[36m__main__\u001b[0m:\u001b[36mrun\u001b[0m:\u001b[36m203\u001b[0m - \u001b[1mvideo 1/1 (302/453) /home/jrenault/workspace/adomvi/adomvi/../resources/test/lav3.mp4: 384x640 (no detections), YOLO 6.8ms, TRACKING 0.9ms\u001b[0m\n",
      "\u001b[32m2023-08-03 14:20:44.591\u001b[0m | \u001b[1mINFO    \u001b[0m | \u001b[36m__main__\u001b[0m:\u001b[36mrun\u001b[0m:\u001b[36m203\u001b[0m - \u001b[1mvideo 1/1 (303/453) /home/jrenault/workspace/adomvi/adomvi/../resources/test/lav3.mp4: 384x640 (no detections), YOLO 6.9ms, TRACKING 0.9ms\u001b[0m\n",
      "\u001b[32m2023-08-03 14:20:44.605\u001b[0m | \u001b[1mINFO    \u001b[0m | \u001b[36m__main__\u001b[0m:\u001b[36mrun\u001b[0m:\u001b[36m203\u001b[0m - \u001b[1mvideo 1/1 (304/453) /home/jrenault/workspace/adomvi/adomvi/../resources/test/lav3.mp4: 384x640 (no detections), YOLO 6.9ms, TRACKING 1.0ms\u001b[0m\n",
      "\u001b[32m2023-08-03 14:20:44.619\u001b[0m | \u001b[1mINFO    \u001b[0m | \u001b[36m__main__\u001b[0m:\u001b[36mrun\u001b[0m:\u001b[36m203\u001b[0m - \u001b[1mvideo 1/1 (305/453) /home/jrenault/workspace/adomvi/adomvi/../resources/test/lav3.mp4: 384x640 (no detections), YOLO 6.8ms, TRACKING 0.9ms\u001b[0m\n",
      "\u001b[32m2023-08-03 14:20:44.633\u001b[0m | \u001b[1mINFO    \u001b[0m | \u001b[36m__main__\u001b[0m:\u001b[36mrun\u001b[0m:\u001b[36m203\u001b[0m - \u001b[1mvideo 1/1 (306/453) /home/jrenault/workspace/adomvi/adomvi/../resources/test/lav3.mp4: 384x640 (no detections), YOLO 6.7ms, TRACKING 0.9ms\u001b[0m\n",
      "\u001b[32m2023-08-03 14:20:44.647\u001b[0m | \u001b[1mINFO    \u001b[0m | \u001b[36m__main__\u001b[0m:\u001b[36mrun\u001b[0m:\u001b[36m203\u001b[0m - \u001b[1mvideo 1/1 (307/453) /home/jrenault/workspace/adomvi/adomvi/../resources/test/lav3.mp4: 384x640 (no detections), YOLO 6.7ms, TRACKING 0.9ms\u001b[0m\n",
      "\u001b[32m2023-08-03 14:20:44.661\u001b[0m | \u001b[1mINFO    \u001b[0m | \u001b[36m__main__\u001b[0m:\u001b[36mrun\u001b[0m:\u001b[36m203\u001b[0m - \u001b[1mvideo 1/1 (308/453) /home/jrenault/workspace/adomvi/adomvi/../resources/test/lav3.mp4: 384x640 (no detections), YOLO 6.9ms, TRACKING 0.9ms\u001b[0m\n",
      "\u001b[32m2023-08-03 14:20:44.675\u001b[0m | \u001b[1mINFO    \u001b[0m | \u001b[36m__main__\u001b[0m:\u001b[36mrun\u001b[0m:\u001b[36m203\u001b[0m - \u001b[1mvideo 1/1 (309/453) /home/jrenault/workspace/adomvi/adomvi/../resources/test/lav3.mp4: 384x640 (no detections), YOLO 6.5ms, TRACKING 0.8ms\u001b[0m\n",
      "\u001b[32m2023-08-03 14:20:44.689\u001b[0m | \u001b[1mINFO    \u001b[0m | \u001b[36m__main__\u001b[0m:\u001b[36mrun\u001b[0m:\u001b[36m203\u001b[0m - \u001b[1mvideo 1/1 (310/453) /home/jrenault/workspace/adomvi/adomvi/../resources/test/lav3.mp4: 384x640 (no detections), YOLO 6.7ms, TRACKING 0.9ms\u001b[0m\n",
      "\u001b[32m2023-08-03 14:20:44.703\u001b[0m | \u001b[1mINFO    \u001b[0m | \u001b[36m__main__\u001b[0m:\u001b[36mrun\u001b[0m:\u001b[36m203\u001b[0m - \u001b[1mvideo 1/1 (311/453) /home/jrenault/workspace/adomvi/adomvi/../resources/test/lav3.mp4: 384x640 (no detections), YOLO 6.7ms, TRACKING 0.9ms\u001b[0m\n",
      "\u001b[32m2023-08-03 14:20:44.717\u001b[0m | \u001b[1mINFO    \u001b[0m | \u001b[36m__main__\u001b[0m:\u001b[36mrun\u001b[0m:\u001b[36m203\u001b[0m - \u001b[1mvideo 1/1 (312/453) /home/jrenault/workspace/adomvi/adomvi/../resources/test/lav3.mp4: 384x640 (no detections), YOLO 6.9ms, TRACKING 0.9ms\u001b[0m\n",
      "\u001b[32m2023-08-03 14:20:44.731\u001b[0m | \u001b[1mINFO    \u001b[0m | \u001b[36m__main__\u001b[0m:\u001b[36mrun\u001b[0m:\u001b[36m203\u001b[0m - \u001b[1mvideo 1/1 (313/453) /home/jrenault/workspace/adomvi/adomvi/../resources/test/lav3.mp4: 384x640 (no detections), YOLO 6.7ms, TRACKING 0.9ms\u001b[0m\n",
      "\u001b[32m2023-08-03 14:20:44.745\u001b[0m | \u001b[1mINFO    \u001b[0m | \u001b[36m__main__\u001b[0m:\u001b[36mrun\u001b[0m:\u001b[36m203\u001b[0m - \u001b[1mvideo 1/1 (314/453) /home/jrenault/workspace/adomvi/adomvi/../resources/test/lav3.mp4: 384x640 (no detections), YOLO 6.6ms, TRACKING 0.9ms\u001b[0m\n",
      "\u001b[32m2023-08-03 14:20:44.759\u001b[0m | \u001b[1mINFO    \u001b[0m | \u001b[36m__main__\u001b[0m:\u001b[36mrun\u001b[0m:\u001b[36m203\u001b[0m - \u001b[1mvideo 1/1 (315/453) /home/jrenault/workspace/adomvi/adomvi/../resources/test/lav3.mp4: 384x640 (no detections), YOLO 6.7ms, TRACKING 1.0ms\u001b[0m\n",
      "\u001b[32m2023-08-03 14:20:44.773\u001b[0m | \u001b[1mINFO    \u001b[0m | \u001b[36m__main__\u001b[0m:\u001b[36mrun\u001b[0m:\u001b[36m203\u001b[0m - \u001b[1mvideo 1/1 (316/453) /home/jrenault/workspace/adomvi/adomvi/../resources/test/lav3.mp4: 384x640 (no detections), YOLO 6.8ms, TRACKING 0.9ms\u001b[0m\n",
      "\u001b[32m2023-08-03 14:20:44.787\u001b[0m | \u001b[1mINFO    \u001b[0m | \u001b[36m__main__\u001b[0m:\u001b[36mrun\u001b[0m:\u001b[36m203\u001b[0m - \u001b[1mvideo 1/1 (317/453) /home/jrenault/workspace/adomvi/adomvi/../resources/test/lav3.mp4: 384x640 (no detections), YOLO 6.6ms, TRACKING 0.9ms\u001b[0m\n",
      "\u001b[32m2023-08-03 14:20:44.801\u001b[0m | \u001b[1mINFO    \u001b[0m | \u001b[36m__main__\u001b[0m:\u001b[36mrun\u001b[0m:\u001b[36m203\u001b[0m - \u001b[1mvideo 1/1 (318/453) /home/jrenault/workspace/adomvi/adomvi/../resources/test/lav3.mp4: 384x640 (no detections), YOLO 6.7ms, TRACKING 0.9ms\u001b[0m\n",
      "\u001b[32m2023-08-03 14:20:44.815\u001b[0m | \u001b[1mINFO    \u001b[0m | \u001b[36m__main__\u001b[0m:\u001b[36mrun\u001b[0m:\u001b[36m203\u001b[0m - \u001b[1mvideo 1/1 (319/453) /home/jrenault/workspace/adomvi/adomvi/../resources/test/lav3.mp4: 384x640 (no detections), YOLO 7.0ms, TRACKING 0.9ms\u001b[0m\n",
      "\u001b[32m2023-08-03 14:20:44.829\u001b[0m | \u001b[1mINFO    \u001b[0m | \u001b[36m__main__\u001b[0m:\u001b[36mrun\u001b[0m:\u001b[36m203\u001b[0m - \u001b[1mvideo 1/1 (320/453) /home/jrenault/workspace/adomvi/adomvi/../resources/test/lav3.mp4: 384x640 (no detections), YOLO 6.6ms, TRACKING 0.9ms\u001b[0m\n",
      "\u001b[32m2023-08-03 14:20:44.843\u001b[0m | \u001b[1mINFO    \u001b[0m | \u001b[36m__main__\u001b[0m:\u001b[36mrun\u001b[0m:\u001b[36m203\u001b[0m - \u001b[1mvideo 1/1 (321/453) /home/jrenault/workspace/adomvi/adomvi/../resources/test/lav3.mp4: 384x640 (no detections), YOLO 6.7ms, TRACKING 0.9ms\u001b[0m\n",
      "\u001b[32m2023-08-03 14:20:44.857\u001b[0m | \u001b[1mINFO    \u001b[0m | \u001b[36m__main__\u001b[0m:\u001b[36mrun\u001b[0m:\u001b[36m203\u001b[0m - \u001b[1mvideo 1/1 (322/453) /home/jrenault/workspace/adomvi/adomvi/../resources/test/lav3.mp4: 384x640 (no detections), YOLO 6.8ms, TRACKING 0.9ms\u001b[0m\n",
      "\u001b[32m2023-08-03 14:20:44.871\u001b[0m | \u001b[1mINFO    \u001b[0m | \u001b[36m__main__\u001b[0m:\u001b[36mrun\u001b[0m:\u001b[36m203\u001b[0m - \u001b[1mvideo 1/1 (323/453) /home/jrenault/workspace/adomvi/adomvi/../resources/test/lav3.mp4: 384x640 (no detections), YOLO 6.8ms, TRACKING 0.9ms\u001b[0m\n",
      "\u001b[32m2023-08-03 14:20:44.885\u001b[0m | \u001b[1mINFO    \u001b[0m | \u001b[36m__main__\u001b[0m:\u001b[36mrun\u001b[0m:\u001b[36m203\u001b[0m - \u001b[1mvideo 1/1 (324/453) /home/jrenault/workspace/adomvi/adomvi/../resources/test/lav3.mp4: 384x640 (no detections), YOLO 6.7ms, TRACKING 1.0ms\u001b[0m\n",
      "\u001b[32m2023-08-03 14:20:44.899\u001b[0m | \u001b[1mINFO    \u001b[0m | \u001b[36m__main__\u001b[0m:\u001b[36mrun\u001b[0m:\u001b[36m203\u001b[0m - \u001b[1mvideo 1/1 (325/453) /home/jrenault/workspace/adomvi/adomvi/../resources/test/lav3.mp4: 384x640 (no detections), YOLO 6.6ms, TRACKING 0.5ms\u001b[0m\n",
      "\u001b[32m2023-08-03 14:20:44.912\u001b[0m | \u001b[1mINFO    \u001b[0m | \u001b[36m__main__\u001b[0m:\u001b[36mrun\u001b[0m:\u001b[36m203\u001b[0m - \u001b[1mvideo 1/1 (326/453) /home/jrenault/workspace/adomvi/adomvi/../resources/test/lav3.mp4: 384x640 (no detections), YOLO 6.8ms, TRACKING 0.6ms\u001b[0m\n",
      "\u001b[32m2023-08-03 14:20:44.926\u001b[0m | \u001b[1mINFO    \u001b[0m | \u001b[36m__main__\u001b[0m:\u001b[36mrun\u001b[0m:\u001b[36m203\u001b[0m - \u001b[1mvideo 1/1 (327/453) /home/jrenault/workspace/adomvi/adomvi/../resources/test/lav3.mp4: 384x640 (no detections), YOLO 6.5ms, TRACKING 0.5ms\u001b[0m\n",
      "\u001b[32m2023-08-03 14:20:44.950\u001b[0m | \u001b[1mINFO    \u001b[0m | \u001b[36m__main__\u001b[0m:\u001b[36mrun\u001b[0m:\u001b[36m203\u001b[0m - \u001b[1mvideo 1/1 (328/453) /home/jrenault/workspace/adomvi/adomvi/../resources/test/lav3.mp4: 384x640 1 AFV, YOLO 6.5ms, TRACKING 10.0ms\u001b[0m\n",
      "\u001b[32m2023-08-03 14:20:44.976\u001b[0m | \u001b[1mINFO    \u001b[0m | \u001b[36m__main__\u001b[0m:\u001b[36mrun\u001b[0m:\u001b[36m203\u001b[0m - \u001b[1mvideo 1/1 (329/453) /home/jrenault/workspace/adomvi/adomvi/../resources/test/lav3.mp4: 384x640 1 AFV, YOLO 7.0ms, TRACKING 10.8ms\u001b[0m\n",
      "\u001b[32m2023-08-03 14:20:44.990\u001b[0m | \u001b[1mINFO    \u001b[0m | \u001b[36m__main__\u001b[0m:\u001b[36mrun\u001b[0m:\u001b[36m203\u001b[0m - \u001b[1mvideo 1/1 (330/453) /home/jrenault/workspace/adomvi/adomvi/../resources/test/lav3.mp4: 384x640 (no detections), YOLO 7.1ms, TRACKING 0.9ms\u001b[0m\n",
      "\u001b[32m2023-08-03 14:20:45.004\u001b[0m | \u001b[1mINFO    \u001b[0m | \u001b[36m__main__\u001b[0m:\u001b[36mrun\u001b[0m:\u001b[36m203\u001b[0m - \u001b[1mvideo 1/1 (331/453) /home/jrenault/workspace/adomvi/adomvi/../resources/test/lav3.mp4: 384x640 (no detections), YOLO 6.7ms, TRACKING 0.9ms\u001b[0m\n",
      "\u001b[32m2023-08-03 14:20:45.018\u001b[0m | \u001b[1mINFO    \u001b[0m | \u001b[36m__main__\u001b[0m:\u001b[36mrun\u001b[0m:\u001b[36m203\u001b[0m - \u001b[1mvideo 1/1 (332/453) /home/jrenault/workspace/adomvi/adomvi/../resources/test/lav3.mp4: 384x640 (no detections), YOLO 7.0ms, TRACKING 0.9ms\u001b[0m\n",
      "\u001b[32m2023-08-03 14:20:45.032\u001b[0m | \u001b[1mINFO    \u001b[0m | \u001b[36m__main__\u001b[0m:\u001b[36mrun\u001b[0m:\u001b[36m203\u001b[0m - \u001b[1mvideo 1/1 (333/453) /home/jrenault/workspace/adomvi/adomvi/../resources/test/lav3.mp4: 384x640 (no detections), YOLO 6.8ms, TRACKING 0.9ms\u001b[0m\n",
      "\u001b[32m2023-08-03 14:20:45.057\u001b[0m | \u001b[1mINFO    \u001b[0m | \u001b[36m__main__\u001b[0m:\u001b[36mrun\u001b[0m:\u001b[36m203\u001b[0m - \u001b[1mvideo 1/1 (334/453) /home/jrenault/workspace/adomvi/adomvi/../resources/test/lav3.mp4: 384x640 1 AFV, YOLO 6.5ms, TRACKING 10.7ms\u001b[0m\n",
      "\u001b[32m2023-08-03 14:20:45.071\u001b[0m | \u001b[1mINFO    \u001b[0m | \u001b[36m__main__\u001b[0m:\u001b[36mrun\u001b[0m:\u001b[36m203\u001b[0m - \u001b[1mvideo 1/1 (335/453) /home/jrenault/workspace/adomvi/adomvi/../resources/test/lav3.mp4: 384x640 (no detections), YOLO 7.0ms, TRACKING 1.0ms\u001b[0m\n",
      "\u001b[32m2023-08-03 14:20:45.085\u001b[0m | \u001b[1mINFO    \u001b[0m | \u001b[36m__main__\u001b[0m:\u001b[36mrun\u001b[0m:\u001b[36m203\u001b[0m - \u001b[1mvideo 1/1 (336/453) /home/jrenault/workspace/adomvi/adomvi/../resources/test/lav3.mp4: 384x640 (no detections), YOLO 6.7ms, TRACKING 0.9ms\u001b[0m\n",
      "\u001b[32m2023-08-03 14:20:45.110\u001b[0m | \u001b[1mINFO    \u001b[0m | \u001b[36m__main__\u001b[0m:\u001b[36mrun\u001b[0m:\u001b[36m203\u001b[0m - \u001b[1mvideo 1/1 (337/453) /home/jrenault/workspace/adomvi/adomvi/../resources/test/lav3.mp4: 384x640 1 AFV, YOLO 6.6ms, TRACKING 10.6ms\u001b[0m\n",
      "\u001b[32m2023-08-03 14:20:45.125\u001b[0m | \u001b[1mINFO    \u001b[0m | \u001b[36m__main__\u001b[0m:\u001b[36mrun\u001b[0m:\u001b[36m203\u001b[0m - \u001b[1mvideo 1/1 (338/453) /home/jrenault/workspace/adomvi/adomvi/../resources/test/lav3.mp4: 384x640 (no detections), YOLO 7.0ms, TRACKING 0.9ms\u001b[0m\n",
      "\u001b[32m2023-08-03 14:20:45.138\u001b[0m | \u001b[1mINFO    \u001b[0m | \u001b[36m__main__\u001b[0m:\u001b[36mrun\u001b[0m:\u001b[36m203\u001b[0m - \u001b[1mvideo 1/1 (339/453) /home/jrenault/workspace/adomvi/adomvi/../resources/test/lav3.mp4: 384x640 (no detections), YOLO 6.7ms, TRACKING 0.9ms\u001b[0m\n",
      "\u001b[32m2023-08-03 14:20:45.152\u001b[0m | \u001b[1mINFO    \u001b[0m | \u001b[36m__main__\u001b[0m:\u001b[36mrun\u001b[0m:\u001b[36m203\u001b[0m - \u001b[1mvideo 1/1 (340/453) /home/jrenault/workspace/adomvi/adomvi/../resources/test/lav3.mp4: 384x640 (no detections), YOLO 6.6ms, TRACKING 0.9ms\u001b[0m\n",
      "\u001b[32m2023-08-03 14:20:45.166\u001b[0m | \u001b[1mINFO    \u001b[0m | \u001b[36m__main__\u001b[0m:\u001b[36mrun\u001b[0m:\u001b[36m203\u001b[0m - \u001b[1mvideo 1/1 (341/453) /home/jrenault/workspace/adomvi/adomvi/../resources/test/lav3.mp4: 384x640 (no detections), YOLO 6.6ms, TRACKING 0.9ms\u001b[0m\n",
      "\u001b[32m2023-08-03 14:20:45.180\u001b[0m | \u001b[1mINFO    \u001b[0m | \u001b[36m__main__\u001b[0m:\u001b[36mrun\u001b[0m:\u001b[36m203\u001b[0m - \u001b[1mvideo 1/1 (342/453) /home/jrenault/workspace/adomvi/adomvi/../resources/test/lav3.mp4: 384x640 (no detections), YOLO 6.7ms, TRACKING 0.9ms\u001b[0m\n",
      "\u001b[32m2023-08-03 14:20:45.194\u001b[0m | \u001b[1mINFO    \u001b[0m | \u001b[36m__main__\u001b[0m:\u001b[36mrun\u001b[0m:\u001b[36m203\u001b[0m - \u001b[1mvideo 1/1 (343/453) /home/jrenault/workspace/adomvi/adomvi/../resources/test/lav3.mp4: 384x640 (no detections), YOLO 6.7ms, TRACKING 0.9ms\u001b[0m\n",
      "\u001b[32m2023-08-03 14:20:45.208\u001b[0m | \u001b[1mINFO    \u001b[0m | \u001b[36m__main__\u001b[0m:\u001b[36mrun\u001b[0m:\u001b[36m203\u001b[0m - \u001b[1mvideo 1/1 (344/453) /home/jrenault/workspace/adomvi/adomvi/../resources/test/lav3.mp4: 384x640 (no detections), YOLO 6.8ms, TRACKING 0.9ms\u001b[0m\n",
      "\u001b[32m2023-08-03 14:20:45.222\u001b[0m | \u001b[1mINFO    \u001b[0m | \u001b[36m__main__\u001b[0m:\u001b[36mrun\u001b[0m:\u001b[36m203\u001b[0m - \u001b[1mvideo 1/1 (345/453) /home/jrenault/workspace/adomvi/adomvi/../resources/test/lav3.mp4: 384x640 (no detections), YOLO 6.9ms, TRACKING 0.9ms\u001b[0m\n",
      "\u001b[32m2023-08-03 14:20:45.236\u001b[0m | \u001b[1mINFO    \u001b[0m | \u001b[36m__main__\u001b[0m:\u001b[36mrun\u001b[0m:\u001b[36m203\u001b[0m - \u001b[1mvideo 1/1 (346/453) /home/jrenault/workspace/adomvi/adomvi/../resources/test/lav3.mp4: 384x640 (no detections), YOLO 6.8ms, TRACKING 0.9ms\u001b[0m\n",
      "\u001b[32m2023-08-03 14:20:45.250\u001b[0m | \u001b[1mINFO    \u001b[0m | \u001b[36m__main__\u001b[0m:\u001b[36mrun\u001b[0m:\u001b[36m203\u001b[0m - \u001b[1mvideo 1/1 (347/453) /home/jrenault/workspace/adomvi/adomvi/../resources/test/lav3.mp4: 384x640 (no detections), YOLO 6.8ms, TRACKING 0.9ms\u001b[0m\n",
      "\u001b[32m2023-08-03 14:20:45.264\u001b[0m | \u001b[1mINFO    \u001b[0m | \u001b[36m__main__\u001b[0m:\u001b[36mrun\u001b[0m:\u001b[36m203\u001b[0m - \u001b[1mvideo 1/1 (348/453) /home/jrenault/workspace/adomvi/adomvi/../resources/test/lav3.mp4: 384x640 (no detections), YOLO 6.7ms, TRACKING 0.9ms\u001b[0m\n",
      "\u001b[32m2023-08-03 14:20:45.278\u001b[0m | \u001b[1mINFO    \u001b[0m | \u001b[36m__main__\u001b[0m:\u001b[36mrun\u001b[0m:\u001b[36m203\u001b[0m - \u001b[1mvideo 1/1 (349/453) /home/jrenault/workspace/adomvi/adomvi/../resources/test/lav3.mp4: 384x640 (no detections), YOLO 6.8ms, TRACKING 0.9ms\u001b[0m\n",
      "\u001b[32m2023-08-03 14:20:45.292\u001b[0m | \u001b[1mINFO    \u001b[0m | \u001b[36m__main__\u001b[0m:\u001b[36mrun\u001b[0m:\u001b[36m203\u001b[0m - \u001b[1mvideo 1/1 (350/453) /home/jrenault/workspace/adomvi/adomvi/../resources/test/lav3.mp4: 384x640 (no detections), YOLO 6.8ms, TRACKING 0.9ms\u001b[0m\n",
      "\u001b[32m2023-08-03 14:20:45.306\u001b[0m | \u001b[1mINFO    \u001b[0m | \u001b[36m__main__\u001b[0m:\u001b[36mrun\u001b[0m:\u001b[36m203\u001b[0m - \u001b[1mvideo 1/1 (351/453) /home/jrenault/workspace/adomvi/adomvi/../resources/test/lav3.mp4: 384x640 (no detections), YOLO 6.7ms, TRACKING 0.9ms\u001b[0m\n",
      "\u001b[32m2023-08-03 14:20:45.320\u001b[0m | \u001b[1mINFO    \u001b[0m | \u001b[36m__main__\u001b[0m:\u001b[36mrun\u001b[0m:\u001b[36m203\u001b[0m - \u001b[1mvideo 1/1 (352/453) /home/jrenault/workspace/adomvi/adomvi/../resources/test/lav3.mp4: 384x640 (no detections), YOLO 6.8ms, TRACKING 0.9ms\u001b[0m\n",
      "\u001b[32m2023-08-03 14:20:45.334\u001b[0m | \u001b[1mINFO    \u001b[0m | \u001b[36m__main__\u001b[0m:\u001b[36mrun\u001b[0m:\u001b[36m203\u001b[0m - \u001b[1mvideo 1/1 (353/453) /home/jrenault/workspace/adomvi/adomvi/../resources/test/lav3.mp4: 384x640 (no detections), YOLO 6.7ms, TRACKING 0.9ms\u001b[0m\n",
      "\u001b[32m2023-08-03 14:20:45.347\u001b[0m | \u001b[1mINFO    \u001b[0m | \u001b[36m__main__\u001b[0m:\u001b[36mrun\u001b[0m:\u001b[36m203\u001b[0m - \u001b[1mvideo 1/1 (354/453) /home/jrenault/workspace/adomvi/adomvi/../resources/test/lav3.mp4: 384x640 (no detections), YOLO 6.6ms, TRACKING 0.8ms\u001b[0m\n",
      "\u001b[32m2023-08-03 14:20:45.361\u001b[0m | \u001b[1mINFO    \u001b[0m | \u001b[36m__main__\u001b[0m:\u001b[36mrun\u001b[0m:\u001b[36m203\u001b[0m - \u001b[1mvideo 1/1 (355/453) /home/jrenault/workspace/adomvi/adomvi/../resources/test/lav3.mp4: 384x640 (no detections), YOLO 6.8ms, TRACKING 0.9ms\u001b[0m\n",
      "\u001b[32m2023-08-03 14:20:45.375\u001b[0m | \u001b[1mINFO    \u001b[0m | \u001b[36m__main__\u001b[0m:\u001b[36mrun\u001b[0m:\u001b[36m203\u001b[0m - \u001b[1mvideo 1/1 (356/453) /home/jrenault/workspace/adomvi/adomvi/../resources/test/lav3.mp4: 384x640 (no detections), YOLO 6.8ms, TRACKING 0.9ms\u001b[0m\n",
      "\u001b[32m2023-08-03 14:20:45.390\u001b[0m | \u001b[1mINFO    \u001b[0m | \u001b[36m__main__\u001b[0m:\u001b[36mrun\u001b[0m:\u001b[36m203\u001b[0m - \u001b[1mvideo 1/1 (357/453) /home/jrenault/workspace/adomvi/adomvi/../resources/test/lav3.mp4: 384x640 (no detections), YOLO 6.7ms, TRACKING 0.9ms\u001b[0m\n",
      "\u001b[32m2023-08-03 14:20:45.403\u001b[0m | \u001b[1mINFO    \u001b[0m | \u001b[36m__main__\u001b[0m:\u001b[36mrun\u001b[0m:\u001b[36m203\u001b[0m - \u001b[1mvideo 1/1 (358/453) /home/jrenault/workspace/adomvi/adomvi/../resources/test/lav3.mp4: 384x640 (no detections), YOLO 6.6ms, TRACKING 0.9ms\u001b[0m\n",
      "\u001b[32m2023-08-03 14:20:45.417\u001b[0m | \u001b[1mINFO    \u001b[0m | \u001b[36m__main__\u001b[0m:\u001b[36mrun\u001b[0m:\u001b[36m203\u001b[0m - \u001b[1mvideo 1/1 (359/453) /home/jrenault/workspace/adomvi/adomvi/../resources/test/lav3.mp4: 384x640 (no detections), YOLO 6.6ms, TRACKING 0.9ms\u001b[0m\n",
      "\u001b[32m2023-08-03 14:20:45.431\u001b[0m | \u001b[1mINFO    \u001b[0m | \u001b[36m__main__\u001b[0m:\u001b[36mrun\u001b[0m:\u001b[36m203\u001b[0m - \u001b[1mvideo 1/1 (360/453) /home/jrenault/workspace/adomvi/adomvi/../resources/test/lav3.mp4: 384x640 (no detections), YOLO 6.8ms, TRACKING 0.9ms\u001b[0m\n",
      "\u001b[32m2023-08-03 14:20:45.444\u001b[0m | \u001b[1mINFO    \u001b[0m | \u001b[36m__main__\u001b[0m:\u001b[36mrun\u001b[0m:\u001b[36m203\u001b[0m - \u001b[1mvideo 1/1 (361/453) /home/jrenault/workspace/adomvi/adomvi/../resources/test/lav3.mp4: 384x640 (no detections), YOLO 6.6ms, TRACKING 0.9ms\u001b[0m\n",
      "\u001b[32m2023-08-03 14:20:45.458\u001b[0m | \u001b[1mINFO    \u001b[0m | \u001b[36m__main__\u001b[0m:\u001b[36mrun\u001b[0m:\u001b[36m203\u001b[0m - \u001b[1mvideo 1/1 (362/453) /home/jrenault/workspace/adomvi/adomvi/../resources/test/lav3.mp4: 384x640 (no detections), YOLO 6.5ms, TRACKING 0.9ms\u001b[0m\n",
      "\u001b[32m2023-08-03 14:20:45.472\u001b[0m | \u001b[1mINFO    \u001b[0m | \u001b[36m__main__\u001b[0m:\u001b[36mrun\u001b[0m:\u001b[36m203\u001b[0m - \u001b[1mvideo 1/1 (363/453) /home/jrenault/workspace/adomvi/adomvi/../resources/test/lav3.mp4: 384x640 (no detections), YOLO 6.8ms, TRACKING 0.8ms\u001b[0m\n",
      "\u001b[32m2023-08-03 14:20:45.496\u001b[0m | \u001b[1mINFO    \u001b[0m | \u001b[36m__main__\u001b[0m:\u001b[36mrun\u001b[0m:\u001b[36m203\u001b[0m - \u001b[1mvideo 1/1 (364/453) /home/jrenault/workspace/adomvi/adomvi/../resources/test/lav3.mp4: 384x640 1 AFV, YOLO 6.6ms, TRACKING 10.6ms\u001b[0m\n",
      "\u001b[32m2023-08-03 14:20:45.510\u001b[0m | \u001b[1mINFO    \u001b[0m | \u001b[36m__main__\u001b[0m:\u001b[36mrun\u001b[0m:\u001b[36m203\u001b[0m - \u001b[1mvideo 1/1 (365/453) /home/jrenault/workspace/adomvi/adomvi/../resources/test/lav3.mp4: 384x640 (no detections), YOLO 6.9ms, TRACKING 1.0ms\u001b[0m\n",
      "\u001b[32m2023-08-03 14:20:45.524\u001b[0m | \u001b[1mINFO    \u001b[0m | \u001b[36m__main__\u001b[0m:\u001b[36mrun\u001b[0m:\u001b[36m203\u001b[0m - \u001b[1mvideo 1/1 (366/453) /home/jrenault/workspace/adomvi/adomvi/../resources/test/lav3.mp4: 384x640 (no detections), YOLO 6.8ms, TRACKING 0.9ms\u001b[0m\n",
      "\u001b[32m2023-08-03 14:20:45.537\u001b[0m | \u001b[1mINFO    \u001b[0m | \u001b[36m__main__\u001b[0m:\u001b[36mrun\u001b[0m:\u001b[36m203\u001b[0m - \u001b[1mvideo 1/1 (367/453) /home/jrenault/workspace/adomvi/adomvi/../resources/test/lav3.mp4: 384x640 (no detections), YOLO 6.7ms, TRACKING 0.9ms\u001b[0m\n",
      "\u001b[32m2023-08-03 14:20:45.561\u001b[0m | \u001b[1mINFO    \u001b[0m | \u001b[36m__main__\u001b[0m:\u001b[36mrun\u001b[0m:\u001b[36m203\u001b[0m - \u001b[1mvideo 1/1 (368/453) /home/jrenault/workspace/adomvi/adomvi/../resources/test/lav3.mp4: 384x640 1 APC, YOLO 6.7ms, TRACKING 10.0ms\u001b[0m\n",
      "\u001b[32m2023-08-03 14:20:45.586\u001b[0m | \u001b[1mINFO    \u001b[0m | \u001b[36m__main__\u001b[0m:\u001b[36mrun\u001b[0m:\u001b[36m203\u001b[0m - \u001b[1mvideo 1/1 (369/453) /home/jrenault/workspace/adomvi/adomvi/../resources/test/lav3.mp4: 384x640 1 APC, YOLO 6.9ms, TRACKING 10.4ms\u001b[0m\n",
      "\u001b[32m2023-08-03 14:20:45.611\u001b[0m | \u001b[1mINFO    \u001b[0m | \u001b[36m__main__\u001b[0m:\u001b[36mrun\u001b[0m:\u001b[36m203\u001b[0m - \u001b[1mvideo 1/1 (370/453) /home/jrenault/workspace/adomvi/adomvi/../resources/test/lav3.mp4: 384x640 1 APC, YOLO 6.7ms, TRACKING 10.2ms\u001b[0m\n",
      "\u001b[32m2023-08-03 14:20:45.635\u001b[0m | \u001b[1mINFO    \u001b[0m | \u001b[36m__main__\u001b[0m:\u001b[36mrun\u001b[0m:\u001b[36m203\u001b[0m - \u001b[1mvideo 1/1 (371/453) /home/jrenault/workspace/adomvi/adomvi/../resources/test/lav3.mp4: 384x640 1 APC, YOLO 6.8ms, TRACKING 10.5ms\u001b[0m\n",
      "\u001b[32m2023-08-03 14:20:45.660\u001b[0m | \u001b[1mINFO    \u001b[0m | \u001b[36m__main__\u001b[0m:\u001b[36mrun\u001b[0m:\u001b[36m203\u001b[0m - \u001b[1mvideo 1/1 (372/453) /home/jrenault/workspace/adomvi/adomvi/../resources/test/lav3.mp4: 384x640 1 APC, YOLO 6.7ms, TRACKING 10.7ms\u001b[0m\n",
      "\u001b[32m2023-08-03 14:20:45.687\u001b[0m | \u001b[1mINFO    \u001b[0m | \u001b[36m__main__\u001b[0m:\u001b[36mrun\u001b[0m:\u001b[36m203\u001b[0m - \u001b[1mvideo 1/1 (373/453) /home/jrenault/workspace/adomvi/adomvi/../resources/test/lav3.mp4: 384x640 1 APC, YOLO 6.9ms, TRACKING 10.9ms\u001b[0m\n",
      "\u001b[32m2023-08-03 14:20:45.712\u001b[0m | \u001b[1mINFO    \u001b[0m | \u001b[36m__main__\u001b[0m:\u001b[36mrun\u001b[0m:\u001b[36m203\u001b[0m - \u001b[1mvideo 1/1 (374/453) /home/jrenault/workspace/adomvi/adomvi/../resources/test/lav3.mp4: 384x640 1 APC, YOLO 6.8ms, TRACKING 10.9ms\u001b[0m\n",
      "\u001b[32m2023-08-03 14:20:45.738\u001b[0m | \u001b[1mINFO    \u001b[0m | \u001b[36m__main__\u001b[0m:\u001b[36mrun\u001b[0m:\u001b[36m203\u001b[0m - \u001b[1mvideo 1/1 (375/453) /home/jrenault/workspace/adomvi/adomvi/../resources/test/lav3.mp4: 384x640 1 APC, YOLO 6.9ms, TRACKING 11.1ms\u001b[0m\n",
      "\u001b[32m2023-08-03 14:20:45.763\u001b[0m | \u001b[1mINFO    \u001b[0m | \u001b[36m__main__\u001b[0m:\u001b[36mrun\u001b[0m:\u001b[36m203\u001b[0m - \u001b[1mvideo 1/1 (376/453) /home/jrenault/workspace/adomvi/adomvi/../resources/test/lav3.mp4: 384x640 1 APC, YOLO 6.8ms, TRACKING 10.9ms\u001b[0m\n",
      "\u001b[32m2023-08-03 14:20:45.789\u001b[0m | \u001b[1mINFO    \u001b[0m | \u001b[36m__main__\u001b[0m:\u001b[36mrun\u001b[0m:\u001b[36m203\u001b[0m - \u001b[1mvideo 1/1 (377/453) /home/jrenault/workspace/adomvi/adomvi/../resources/test/lav3.mp4: 384x640 1 APC, YOLO 6.8ms, TRACKING 11.2ms\u001b[0m\n",
      "\u001b[32m2023-08-03 14:20:45.815\u001b[0m | \u001b[1mINFO    \u001b[0m | \u001b[36m__main__\u001b[0m:\u001b[36mrun\u001b[0m:\u001b[36m203\u001b[0m - \u001b[1mvideo 1/1 (378/453) /home/jrenault/workspace/adomvi/adomvi/../resources/test/lav3.mp4: 384x640 1 APC, YOLO 6.8ms, TRACKING 11.5ms\u001b[0m\n",
      "\u001b[32m2023-08-03 14:20:45.841\u001b[0m | \u001b[1mINFO    \u001b[0m | \u001b[36m__main__\u001b[0m:\u001b[36mrun\u001b[0m:\u001b[36m203\u001b[0m - \u001b[1mvideo 1/1 (379/453) /home/jrenault/workspace/adomvi/adomvi/../resources/test/lav3.mp4: 384x640 1 APC, YOLO 6.9ms, TRACKING 11.9ms\u001b[0m\n",
      "\u001b[32m2023-08-03 14:20:45.867\u001b[0m | \u001b[1mINFO    \u001b[0m | \u001b[36m__main__\u001b[0m:\u001b[36mrun\u001b[0m:\u001b[36m203\u001b[0m - \u001b[1mvideo 1/1 (380/453) /home/jrenault/workspace/adomvi/adomvi/../resources/test/lav3.mp4: 384x640 1 APC, YOLO 6.8ms, TRACKING 11.4ms\u001b[0m\n",
      "\u001b[32m2023-08-03 14:20:45.894\u001b[0m | \u001b[1mINFO    \u001b[0m | \u001b[36m__main__\u001b[0m:\u001b[36mrun\u001b[0m:\u001b[36m203\u001b[0m - \u001b[1mvideo 1/1 (381/453) /home/jrenault/workspace/adomvi/adomvi/../resources/test/lav3.mp4: 384x640 1 APC, YOLO 7.0ms, TRACKING 11.9ms\u001b[0m\n",
      "\u001b[32m2023-08-03 14:20:45.921\u001b[0m | \u001b[1mINFO    \u001b[0m | \u001b[36m__main__\u001b[0m:\u001b[36mrun\u001b[0m:\u001b[36m203\u001b[0m - \u001b[1mvideo 1/1 (382/453) /home/jrenault/workspace/adomvi/adomvi/../resources/test/lav3.mp4: 384x640 1 APC, YOLO 7.1ms, TRACKING 12.0ms\u001b[0m\n",
      "\u001b[32m2023-08-03 14:20:45.947\u001b[0m | \u001b[1mINFO    \u001b[0m | \u001b[36m__main__\u001b[0m:\u001b[36mrun\u001b[0m:\u001b[36m203\u001b[0m - \u001b[1mvideo 1/1 (383/453) /home/jrenault/workspace/adomvi/adomvi/../resources/test/lav3.mp4: 384x640 1 APC, YOLO 6.9ms, TRACKING 11.8ms\u001b[0m\n",
      "\u001b[32m2023-08-03 14:20:45.973\u001b[0m | \u001b[1mINFO    \u001b[0m | \u001b[36m__main__\u001b[0m:\u001b[36mrun\u001b[0m:\u001b[36m203\u001b[0m - \u001b[1mvideo 1/1 (384/453) /home/jrenault/workspace/adomvi/adomvi/../resources/test/lav3.mp4: 384x640 1 APC, YOLO 6.7ms, TRACKING 11.4ms\u001b[0m\n",
      "\u001b[32m2023-08-03 14:20:46.000\u001b[0m | \u001b[1mINFO    \u001b[0m | \u001b[36m__main__\u001b[0m:\u001b[36mrun\u001b[0m:\u001b[36m203\u001b[0m - \u001b[1mvideo 1/1 (385/453) /home/jrenault/workspace/adomvi/adomvi/../resources/test/lav3.mp4: 384x640 1 APC, YOLO 7.0ms, TRACKING 11.8ms\u001b[0m\n",
      "\u001b[32m2023-08-03 14:20:46.027\u001b[0m | \u001b[1mINFO    \u001b[0m | \u001b[36m__main__\u001b[0m:\u001b[36mrun\u001b[0m:\u001b[36m203\u001b[0m - \u001b[1mvideo 1/1 (386/453) /home/jrenault/workspace/adomvi/adomvi/../resources/test/lav3.mp4: 384x640 1 APC, YOLO 7.0ms, TRACKING 11.8ms\u001b[0m\n",
      "\u001b[32m2023-08-03 14:20:46.053\u001b[0m | \u001b[1mINFO    \u001b[0m | \u001b[36m__main__\u001b[0m:\u001b[36mrun\u001b[0m:\u001b[36m203\u001b[0m - \u001b[1mvideo 1/1 (387/453) /home/jrenault/workspace/adomvi/adomvi/../resources/test/lav3.mp4: 384x640 1 APC, YOLO 7.1ms, TRACKING 11.7ms\u001b[0m\n",
      "\u001b[32m2023-08-03 14:20:46.096\u001b[0m | \u001b[1mINFO    \u001b[0m | \u001b[36m__main__\u001b[0m:\u001b[36mrun\u001b[0m:\u001b[36m203\u001b[0m - \u001b[1mvideo 1/1 (388/453) /home/jrenault/workspace/adomvi/adomvi/../resources/test/lav3.mp4: 384x640 1 APC, YOLO 7.0ms, TRACKING 23.5ms\u001b[0m\n",
      "\u001b[32m2023-08-03 14:20:46.126\u001b[0m | \u001b[1mINFO    \u001b[0m | \u001b[36m__main__\u001b[0m:\u001b[36mrun\u001b[0m:\u001b[36m203\u001b[0m - \u001b[1mvideo 1/1 (389/453) /home/jrenault/workspace/adomvi/adomvi/../resources/test/lav3.mp4: 384x640 1 APC, YOLO 8.6ms, TRACKING 12.7ms\u001b[0m\n",
      "\u001b[32m2023-08-03 14:20:46.155\u001b[0m | \u001b[1mINFO    \u001b[0m | \u001b[36m__main__\u001b[0m:\u001b[36mrun\u001b[0m:\u001b[36m203\u001b[0m - \u001b[1mvideo 1/1 (390/453) /home/jrenault/workspace/adomvi/adomvi/../resources/test/lav3.mp4: 384x640 1 APC, YOLO 7.9ms, TRACKING 12.9ms\u001b[0m\n",
      "\u001b[32m2023-08-03 14:20:46.182\u001b[0m | \u001b[1mINFO    \u001b[0m | \u001b[36m__main__\u001b[0m:\u001b[36mrun\u001b[0m:\u001b[36m203\u001b[0m - \u001b[1mvideo 1/1 (391/453) /home/jrenault/workspace/adomvi/adomvi/../resources/test/lav3.mp4: 384x640 1 APC, YOLO 7.2ms, TRACKING 12.1ms\u001b[0m\n",
      "\u001b[32m2023-08-03 14:20:46.209\u001b[0m | \u001b[1mINFO    \u001b[0m | \u001b[36m__main__\u001b[0m:\u001b[36mrun\u001b[0m:\u001b[36m203\u001b[0m - \u001b[1mvideo 1/1 (392/453) /home/jrenault/workspace/adomvi/adomvi/../resources/test/lav3.mp4: 384x640 1 APC, YOLO 7.3ms, TRACKING 12.1ms\u001b[0m\n",
      "\u001b[32m2023-08-03 14:20:46.238\u001b[0m | \u001b[1mINFO    \u001b[0m | \u001b[36m__main__\u001b[0m:\u001b[36mrun\u001b[0m:\u001b[36m203\u001b[0m - \u001b[1mvideo 1/1 (393/453) /home/jrenault/workspace/adomvi/adomvi/../resources/test/lav3.mp4: 384x640 1 APC, YOLO 7.7ms, TRACKING 13.2ms\u001b[0m\n",
      "\u001b[32m2023-08-03 14:20:46.265\u001b[0m | \u001b[1mINFO    \u001b[0m | \u001b[36m__main__\u001b[0m:\u001b[36mrun\u001b[0m:\u001b[36m203\u001b[0m - \u001b[1mvideo 1/1 (394/453) /home/jrenault/workspace/adomvi/adomvi/../resources/test/lav3.mp4: 384x640 1 APC, YOLO 7.1ms, TRACKING 11.9ms\u001b[0m\n",
      "\u001b[32m2023-08-03 14:20:46.291\u001b[0m | \u001b[1mINFO    \u001b[0m | \u001b[36m__main__\u001b[0m:\u001b[36mrun\u001b[0m:\u001b[36m203\u001b[0m - \u001b[1mvideo 1/1 (395/453) /home/jrenault/workspace/adomvi/adomvi/../resources/test/lav3.mp4: 384x640 1 APC, YOLO 6.9ms, TRACKING 11.5ms\u001b[0m\n",
      "\u001b[32m2023-08-03 14:20:46.318\u001b[0m | \u001b[1mINFO    \u001b[0m | \u001b[36m__main__\u001b[0m:\u001b[36mrun\u001b[0m:\u001b[36m203\u001b[0m - \u001b[1mvideo 1/1 (396/453) /home/jrenault/workspace/adomvi/adomvi/../resources/test/lav3.mp4: 384x640 1 APC, YOLO 7.2ms, TRACKING 11.7ms\u001b[0m\n",
      "\u001b[32m2023-08-03 14:20:46.343\u001b[0m | \u001b[1mINFO    \u001b[0m | \u001b[36m__main__\u001b[0m:\u001b[36mrun\u001b[0m:\u001b[36m203\u001b[0m - \u001b[1mvideo 1/1 (397/453) /home/jrenault/workspace/adomvi/adomvi/../resources/test/lav3.mp4: 384x640 1 LAV, YOLO 7.0ms, TRACKING 10.4ms\u001b[0m\n",
      "\u001b[32m2023-08-03 14:20:46.367\u001b[0m | \u001b[1mINFO    \u001b[0m | \u001b[36m__main__\u001b[0m:\u001b[36mrun\u001b[0m:\u001b[36m203\u001b[0m - \u001b[1mvideo 1/1 (398/453) /home/jrenault/workspace/adomvi/adomvi/../resources/test/lav3.mp4: 384x640 1 LAV, YOLO 7.0ms, TRACKING 9.8ms\u001b[0m\n",
      "\u001b[32m2023-08-03 14:20:46.391\u001b[0m | \u001b[1mINFO    \u001b[0m | \u001b[36m__main__\u001b[0m:\u001b[36mrun\u001b[0m:\u001b[36m203\u001b[0m - \u001b[1mvideo 1/1 (399/453) /home/jrenault/workspace/adomvi/adomvi/../resources/test/lav3.mp4: 384x640 1 LAV, YOLO 6.9ms, TRACKING 9.9ms\u001b[0m\n",
      "\u001b[32m2023-08-03 14:20:46.416\u001b[0m | \u001b[1mINFO    \u001b[0m | \u001b[36m__main__\u001b[0m:\u001b[36mrun\u001b[0m:\u001b[36m203\u001b[0m - \u001b[1mvideo 1/1 (400/453) /home/jrenault/workspace/adomvi/adomvi/../resources/test/lav3.mp4: 384x640 1 LAV, YOLO 7.0ms, TRACKING 10.0ms\u001b[0m\n",
      "\u001b[32m2023-08-03 14:20:46.440\u001b[0m | \u001b[1mINFO    \u001b[0m | \u001b[36m__main__\u001b[0m:\u001b[36mrun\u001b[0m:\u001b[36m203\u001b[0m - \u001b[1mvideo 1/1 (401/453) /home/jrenault/workspace/adomvi/adomvi/../resources/test/lav3.mp4: 384x640 1 LAV, YOLO 6.9ms, TRACKING 9.9ms\u001b[0m\n",
      "\u001b[32m2023-08-03 14:20:46.465\u001b[0m | \u001b[1mINFO    \u001b[0m | \u001b[36m__main__\u001b[0m:\u001b[36mrun\u001b[0m:\u001b[36m203\u001b[0m - \u001b[1mvideo 1/1 (402/453) /home/jrenault/workspace/adomvi/adomvi/../resources/test/lav3.mp4: 384x640 1 LAV, YOLO 7.0ms, TRACKING 9.9ms\u001b[0m\n",
      "\u001b[32m2023-08-03 14:20:46.489\u001b[0m | \u001b[1mINFO    \u001b[0m | \u001b[36m__main__\u001b[0m:\u001b[36mrun\u001b[0m:\u001b[36m203\u001b[0m - \u001b[1mvideo 1/1 (403/453) /home/jrenault/workspace/adomvi/adomvi/../resources/test/lav3.mp4: 384x640 1 APC, YOLO 6.9ms, TRACKING 9.9ms\u001b[0m\n",
      "\u001b[32m2023-08-03 14:20:46.544\u001b[0m | \u001b[1mINFO    \u001b[0m | \u001b[36m__main__\u001b[0m:\u001b[36mrun\u001b[0m:\u001b[36m203\u001b[0m - \u001b[1mvideo 1/1 (404/453) /home/jrenault/workspace/adomvi/adomvi/../resources/test/lav3.mp4: 384x640 1 LAV, YOLO 7.1ms, TRACKING 40.0ms\u001b[0m\n",
      "\u001b[32m2023-08-03 14:20:46.558\u001b[0m | \u001b[1mINFO    \u001b[0m | \u001b[36m__main__\u001b[0m:\u001b[36mrun\u001b[0m:\u001b[36m203\u001b[0m - \u001b[1mvideo 1/1 (405/453) /home/jrenault/workspace/adomvi/adomvi/../resources/test/lav3.mp4: 384x640 (no detections), YOLO 7.0ms, TRACKING 1.3ms\u001b[0m\n",
      "\u001b[32m2023-08-03 14:20:46.583\u001b[0m | \u001b[1mINFO    \u001b[0m | \u001b[36m__main__\u001b[0m:\u001b[36mrun\u001b[0m:\u001b[36m203\u001b[0m - \u001b[1mvideo 1/1 (406/453) /home/jrenault/workspace/adomvi/adomvi/../resources/test/lav3.mp4: 384x640 1 LAV, YOLO 6.8ms, TRACKING 10.8ms\u001b[0m\n",
      "\u001b[32m2023-08-03 14:20:46.608\u001b[0m | \u001b[1mINFO    \u001b[0m | \u001b[36m__main__\u001b[0m:\u001b[36mrun\u001b[0m:\u001b[36m203\u001b[0m - \u001b[1mvideo 1/1 (407/453) /home/jrenault/workspace/adomvi/adomvi/../resources/test/lav3.mp4: 384x640 1 LAV, YOLO 6.7ms, TRACKING 10.7ms\u001b[0m\n",
      "\u001b[32m2023-08-03 14:20:46.636\u001b[0m | \u001b[1mINFO    \u001b[0m | \u001b[36m__main__\u001b[0m:\u001b[36mrun\u001b[0m:\u001b[36m203\u001b[0m - \u001b[1mvideo 1/1 (408/453) /home/jrenault/workspace/adomvi/adomvi/../resources/test/lav3.mp4: 384x640 1 LAV, YOLO 6.7ms, TRACKING 14.1ms\u001b[0m\n",
      "\u001b[32m2023-08-03 14:20:46.665\u001b[0m | \u001b[1mINFO    \u001b[0m | \u001b[36m__main__\u001b[0m:\u001b[36mrun\u001b[0m:\u001b[36m203\u001b[0m - \u001b[1mvideo 1/1 (409/453) /home/jrenault/workspace/adomvi/adomvi/../resources/test/lav3.mp4: 384x640 1 LAV, YOLO 6.9ms, TRACKING 13.7ms\u001b[0m\n",
      "\u001b[32m2023-08-03 14:20:46.689\u001b[0m | \u001b[1mINFO    \u001b[0m | \u001b[36m__main__\u001b[0m:\u001b[36mrun\u001b[0m:\u001b[36m203\u001b[0m - \u001b[1mvideo 1/1 (410/453) /home/jrenault/workspace/adomvi/adomvi/../resources/test/lav3.mp4: 384x640 1 LAV, YOLO 6.7ms, TRACKING 10.4ms\u001b[0m\n",
      "\u001b[32m2023-08-03 14:20:46.714\u001b[0m | \u001b[1mINFO    \u001b[0m | \u001b[36m__main__\u001b[0m:\u001b[36mrun\u001b[0m:\u001b[36m203\u001b[0m - \u001b[1mvideo 1/1 (411/453) /home/jrenault/workspace/adomvi/adomvi/../resources/test/lav3.mp4: 384x640 1 LAV, YOLO 7.0ms, TRACKING 10.3ms\u001b[0m\n",
      "\u001b[32m2023-08-03 14:20:46.739\u001b[0m | \u001b[1mINFO    \u001b[0m | \u001b[36m__main__\u001b[0m:\u001b[36mrun\u001b[0m:\u001b[36m203\u001b[0m - \u001b[1mvideo 1/1 (412/453) /home/jrenault/workspace/adomvi/adomvi/../resources/test/lav3.mp4: 384x640 1 LAV, YOLO 6.9ms, TRACKING 10.3ms\u001b[0m\n",
      "\u001b[32m2023-08-03 14:20:46.767\u001b[0m | \u001b[1mINFO    \u001b[0m | \u001b[36m__main__\u001b[0m:\u001b[36mrun\u001b[0m:\u001b[36m203\u001b[0m - \u001b[1mvideo 1/1 (413/453) /home/jrenault/workspace/adomvi/adomvi/../resources/test/lav3.mp4: 384x640 1 LAV, YOLO 6.8ms, TRACKING 14.2ms\u001b[0m\n",
      "\u001b[32m2023-08-03 14:20:46.791\u001b[0m | \u001b[1mINFO    \u001b[0m | \u001b[36m__main__\u001b[0m:\u001b[36mrun\u001b[0m:\u001b[36m203\u001b[0m - \u001b[1mvideo 1/1 (414/453) /home/jrenault/workspace/adomvi/adomvi/../resources/test/lav3.mp4: 384x640 1 LAV, YOLO 6.7ms, TRACKING 10.0ms\u001b[0m\n",
      "\u001b[32m2023-08-03 14:20:46.816\u001b[0m | \u001b[1mINFO    \u001b[0m | \u001b[36m__main__\u001b[0m:\u001b[36mrun\u001b[0m:\u001b[36m203\u001b[0m - \u001b[1mvideo 1/1 (415/453) /home/jrenault/workspace/adomvi/adomvi/../resources/test/lav3.mp4: 384x640 1 LAV, YOLO 7.1ms, TRACKING 10.1ms\u001b[0m\n",
      "\u001b[32m2023-08-03 14:20:46.840\u001b[0m | \u001b[1mINFO    \u001b[0m | \u001b[36m__main__\u001b[0m:\u001b[36mrun\u001b[0m:\u001b[36m203\u001b[0m - \u001b[1mvideo 1/1 (416/453) /home/jrenault/workspace/adomvi/adomvi/../resources/test/lav3.mp4: 384x640 1 LAV, YOLO 6.7ms, TRACKING 9.9ms\u001b[0m\n",
      "\u001b[32m2023-08-03 14:20:46.865\u001b[0m | \u001b[1mINFO    \u001b[0m | \u001b[36m__main__\u001b[0m:\u001b[36mrun\u001b[0m:\u001b[36m203\u001b[0m - \u001b[1mvideo 1/1 (417/453) /home/jrenault/workspace/adomvi/adomvi/../resources/test/lav3.mp4: 384x640 1 LAV, YOLO 6.9ms, TRACKING 10.0ms\u001b[0m\n",
      "\u001b[32m2023-08-03 14:20:46.889\u001b[0m | \u001b[1mINFO    \u001b[0m | \u001b[36m__main__\u001b[0m:\u001b[36mrun\u001b[0m:\u001b[36m203\u001b[0m - \u001b[1mvideo 1/1 (418/453) /home/jrenault/workspace/adomvi/adomvi/../resources/test/lav3.mp4: 384x640 1 LAV, YOLO 6.7ms, TRACKING 9.8ms\u001b[0m\n",
      "\u001b[32m2023-08-03 14:20:46.914\u001b[0m | \u001b[1mINFO    \u001b[0m | \u001b[36m__main__\u001b[0m:\u001b[36mrun\u001b[0m:\u001b[36m203\u001b[0m - \u001b[1mvideo 1/1 (419/453) /home/jrenault/workspace/adomvi/adomvi/../resources/test/lav3.mp4: 384x640 1 LAV, YOLO 6.8ms, TRACKING 10.3ms\u001b[0m\n",
      "\u001b[32m2023-08-03 14:20:46.943\u001b[0m | \u001b[1mINFO    \u001b[0m | \u001b[36m__main__\u001b[0m:\u001b[36mrun\u001b[0m:\u001b[36m203\u001b[0m - \u001b[1mvideo 1/1 (420/453) /home/jrenault/workspace/adomvi/adomvi/../resources/test/lav3.mp4: 384x640 1 LAV, YOLO 7.1ms, TRACKING 14.8ms\u001b[0m\n",
      "\u001b[32m2023-08-03 14:20:46.972\u001b[0m | \u001b[1mINFO    \u001b[0m | \u001b[36m__main__\u001b[0m:\u001b[36mrun\u001b[0m:\u001b[36m203\u001b[0m - \u001b[1mvideo 1/1 (421/453) /home/jrenault/workspace/adomvi/adomvi/../resources/test/lav3.mp4: 384x640 1 APC, YOLO 7.2ms, TRACKING 14.0ms\u001b[0m\n",
      "\u001b[32m2023-08-03 14:20:47.001\u001b[0m | \u001b[1mINFO    \u001b[0m | \u001b[36m__main__\u001b[0m:\u001b[36mrun\u001b[0m:\u001b[36m203\u001b[0m - \u001b[1mvideo 1/1 (422/453) /home/jrenault/workspace/adomvi/adomvi/../resources/test/lav3.mp4: 384x640 1 APC, 1 LAV, YOLO 6.8ms, TRACKING 14.0ms\u001b[0m\n",
      "\u001b[32m2023-08-03 14:20:47.030\u001b[0m | \u001b[1mINFO    \u001b[0m | \u001b[36m__main__\u001b[0m:\u001b[36mrun\u001b[0m:\u001b[36m203\u001b[0m - \u001b[1mvideo 1/1 (423/453) /home/jrenault/workspace/adomvi/adomvi/../resources/test/lav3.mp4: 384x640 1 APC, 1 LAV, YOLO 7.0ms, TRACKING 14.4ms\u001b[0m\n",
      "\u001b[32m2023-08-03 14:20:47.059\u001b[0m | \u001b[1mINFO    \u001b[0m | \u001b[36m__main__\u001b[0m:\u001b[36mrun\u001b[0m:\u001b[36m203\u001b[0m - \u001b[1mvideo 1/1 (424/453) /home/jrenault/workspace/adomvi/adomvi/../resources/test/lav3.mp4: 384x640 1 APC, 1 LAV, YOLO 6.7ms, TRACKING 14.3ms\u001b[0m\n",
      "\u001b[32m2023-08-03 14:20:47.088\u001b[0m | \u001b[1mINFO    \u001b[0m | \u001b[36m__main__\u001b[0m:\u001b[36mrun\u001b[0m:\u001b[36m203\u001b[0m - \u001b[1mvideo 1/1 (425/453) /home/jrenault/workspace/adomvi/adomvi/../resources/test/lav3.mp4: 384x640 1 APC, 1 LAV, YOLO 6.7ms, TRACKING 14.4ms\u001b[0m\n",
      "\u001b[32m2023-08-03 14:20:47.114\u001b[0m | \u001b[1mINFO    \u001b[0m | \u001b[36m__main__\u001b[0m:\u001b[36mrun\u001b[0m:\u001b[36m203\u001b[0m - \u001b[1mvideo 1/1 (426/453) /home/jrenault/workspace/adomvi/adomvi/../resources/test/lav3.mp4: 384x640 1 LAV, YOLO 6.9ms, TRACKING 10.9ms\u001b[0m\n",
      "\u001b[32m2023-08-03 14:20:47.116\u001b[0m | \u001b[1mINFO    \u001b[0m | \u001b[36m__main__\u001b[0m:\u001b[36mrun\u001b[0m:\u001b[36m217\u001b[0m - \u001b[1mResults saved to \u001b[1mruns/track/exp6\u001b[0m\u001b[0m\n"
     ]
    }
   ],
   "source": [
    "!python yolo_tracking/examples/track.py --yolo-model yolov8l-google.pt --reid-model mobilenetv2_x1_4_dukemtmcreid.pt --source ../resources/test/lav3.mp4 --save --project runs/track"
   ]
  },
  {
   "cell_type": "code",
   "execution_count": null,
   "id": "e3298243-0646-4b53-9f34-08d669960692",
   "metadata": {},
   "outputs": [],
   "source": []
  }
 ],
 "metadata": {
  "kernelspec": {
   "display_name": "Python 3 (ipykernel)",
   "language": "python",
   "name": "python3"
  },
  "language_info": {
   "codemirror_mode": {
    "name": "ipython",
    "version": 3
   },
   "file_extension": ".py",
   "mimetype": "text/x-python",
   "name": "python",
   "nbconvert_exporter": "python",
   "pygments_lexer": "ipython3",
   "version": "3.11.4"
  }
 },
 "nbformat": 4,
 "nbformat_minor": 5
}
