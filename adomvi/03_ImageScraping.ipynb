{
 "cells": [
  {
   "cell_type": "markdown",
   "id": "69af399f-7a84-4ff3-915a-4f95c4654614",
   "metadata": {},
   "source": [
    "# Scraping google images to create a multi-label dataset"
   ]
  },
  {
   "cell_type": "markdown",
   "id": "e60193d2-f991-4a20-8c98-4ec018f56c9e",
   "metadata": {},
   "source": [
    "The previous model that we trained with images collected from open-source datasets was limited by its size and its single label class. We'll run a scraping tool to download more images from Google Image for different classes of military vehicles. "
   ]
  },
  {
   "cell_type": "markdown",
   "id": "df2c718f-c2b3-4f23-8c87-68a22d400533",
   "metadata": {},
   "source": [
    "## Defining labels\n",
    "\n",
    "It's hard to find a unified taxonomy for military vehicles. We'll try to define large class labels by using Wikipedia's [Military vehicles by type](https://en.wikipedia.org/wiki/Category:Military_vehicles_by_type) category. Model names can be found in this list of [modern armoured fighting vehicles](https://en.wikipedia.org/wiki/List_of_modern_armoured_fighting_vehicles)"
   ]
  },
  {
   "cell_type": "markdown",
   "id": "d2f1cc31-e17b-413d-a4d9-ffc2e0ea3cd6",
   "metadata": {},
   "source": [
    "- **Armoured fighting vehicle (AFV)** is an armed combat vehicle protected by armour, generally combining operational mobility with offensive and defensive capabilities. AFVs can be wheeled or tracked. Examples of AFVs are tanks, armoured cars, assault guns, self-propelled guns, infantry fighting vehicles (IFV), and armoured personnel carriers (APC).\n",
    "- **Armoured personnel carrier (APC)** is a broad type of armoured military vehicle designed to transport personnel and equipment in combat zones.\n",
    "- **Military engineering vehicle (MEV)** is a vehicle built for construction work or for the transportation of combat engineers on the battlefield.\n",
    "- **Light armoured vehicle (LAV) (incl. Reconnaissance vehicle - RV)** is the lightest weight class military vehicle category. A Jeep-like four-wheel drive vehicle for military use, with light or no armour. **Reconnaissance vehicle (RV)** is a military vehicle used for forward reconnaissance. Both tracked and wheeled reconnaissance vehicles are in service."
   ]
  },
  {
   "cell_type": "markdown",
   "id": "beb65ae6-fdc5-437f-9c7e-9dee829babfd",
   "metadata": {},
   "source": [
    "Based on these categories, we can define some search terms."
   ]
  },
  {
   "cell_type": "code",
   "execution_count": 1,
   "id": "8d00ff1f-c8e8-4cc8-925b-31d5556535a9",
   "metadata": {},
   "outputs": [],
   "source": [
    "AFV = [\n",
    "    \"AFV Lynx\",\n",
    "    \"Boxer AFV\",\n",
    "    \"ZTZ-99\",\n",
    "    \"ZTZ-96\",\n",
    "    \"VT-4\",\n",
    "    \"ZBD-04\",\n",
    "    \"Leclerc tank\",\n",
    "    \"AMX 10 RC\",\n",
    "    \"Leopard tank\",\n",
    "    \"T-90\",\n",
    "    \"T-72\",\n",
    "    \"challenger tank\",\n",
    "    \"M1 abrams\",\n",
    "]\n",
    "APC = [\n",
    "    \"AMX-10P\",\n",
    "    \"VAB\",\n",
    "    \"LAV III\",\n",
    "    \"Berliet VXB\",\n",
    "    \"Panhard VCR\",\n",
    "    \"Didgori-3\",\n",
    "    \"M113 APC\",\n",
    "    \"AMPV\",\n",
    "    \"VBTP-MR Guarani\",\n",
    "    \"BTR-40\",\n",
    "    \"BTR-60\",\n",
    "    \"BTR-80\",\n",
    "    \"TPZ Fuchs\",\n",
    "    \"Bison APC\",\n",
    "    \"ZBL-08\",\n",
    "    \"fv103 spartan\",\n",
    "    \"MRAP\",\n",
    "]\n",
    "MEV = [\n",
    "    \"Engin blindé du génie\",\n",
    "    \"ebg vulcain\",\n",
    "    \"kodiak wisent armoured vehicle\",\n",
    "    \"m728 cev\",\n",
    "    \"terrier armoured vehicle\",\n",
    "    \"imr-2 armoured vehicle\",\n",
    "]\n",
    "LAV = [\n",
    "    \"LAV-25\",\n",
    "    \"Iveco VM 90\",\n",
    "    \"Panhard VBL\",\n",
    "    \"Panhard AML\",\n",
    "    \"Panhard ERC\",\n",
    "    \"Humvee\",\n",
    "    \"FV601 Saladin\",\n",
    "    \"AMX-10 RC\",\n",
    "    \"RG-32 Scout\",\n",
    "    \"fv101 scorpion\",\n",
    "    \"fv107 scimitar\",\n",
    "]"
   ]
  },
  {
   "cell_type": "markdown",
   "id": "cda03ed7-85fd-4a4a-9168-ee2c686456e7",
   "metadata": {},
   "source": [
    "## Downloading images from google"
   ]
  },
  {
   "cell_type": "markdown",
   "id": "054b72f0-8456-4433-8d99-9e10a72672da",
   "metadata": {},
   "source": [
    "Once we've defined our labels and search terms, we can download images from Google for each category. We'll create our dataset by downloading 50 images for each search term."
   ]
  },
  {
   "cell_type": "code",
   "execution_count": 2,
   "id": "29861b98-c1bb-48ef-ac99-b4542bd3770a",
   "metadata": {},
   "outputs": [],
   "source": [
    "import logging\n",
    "import sys\n",
    "\n",
    "logging.basicConfig(stream=sys.stdout, level=logging.INFO)"
   ]
  },
  {
   "cell_type": "code",
   "execution_count": 3,
   "id": "8cf61283-0a1d-4891-8eb2-3075c01a9e41",
   "metadata": {},
   "outputs": [],
   "source": [
    "MAX_IMAGES_PER_TERM = 50"
   ]
  },
  {
   "cell_type": "code",
   "execution_count": 4,
   "id": "8fa59ab9-ab7b-42b1-b51c-075ab4e660aa",
   "metadata": {},
   "outputs": [],
   "source": [
    "from adomvi.scraper.google import GoogleImageScraper\n",
    "from pathlib import Path\n",
    "\n",
    "def worker_thread(klass, search_term):\n",
    "    save_dir = Path(f\"google/{klass}\")\n",
    "    scraper = GoogleImageScraper(\n",
    "        save_dir,\n",
    "        search_term,\n",
    "        max_images=MAX_IMAGES_PER_TERM,\n",
    "        min_resolution=(400, 300),\n",
    "        max_resolution=(2048, 2048),\n",
    "    )\n",
    "    images = scraper.get_image_urls()\n",
    "    scraper.save_images(images)"
   ]
  },
  {
   "cell_type": "code",
   "execution_count": 5,
   "id": "d8d59268-b02d-47a8-89da-8c311cfab103",
   "metadata": {
    "scrolled": true
   },
   "outputs": [
    {
     "name": "stdout",
     "output_type": "stream",
     "text": [
      "INFO:adomvi.scraper.google:Chrome web driver initialized. Page title for https://www.google.com: Google\n",
      "INFO:adomvi.scraper.google:Chrome web driver initialized. Page title for https://www.google.com: Google\n",
      "INFO:adomvi.scraper.google:Seaching images for LAV-25\n",
      "INFO:adomvi.scraper.google:Seaching images for AFV Lynx\n",
      "INFO:adomvi.scraper.google:Clicking Images search button\n",
      "INFO:adomvi.scraper.google:Clicking Images search button\n",
      "INFO:adomvi.scraper.google:Fetching thumbnails.\n",
      "INFO:adomvi.scraper.google:Found 48 thumbnails (48 new).\n"
     ]
    },
    {
     "name": "stderr",
     "output_type": "stream",
     "text": [
      "  0%|                                                                                                                | 0/48 [00:00<?, ?it/s]"
     ]
    },
    {
     "name": "stdout",
     "output_type": "stream",
     "text": [
      "INFO:adomvi.scraper.google:Fetching thumbnails.\n",
      "INFO:adomvi.scraper.google:Found 48 thumbnails (48 new).\n"
     ]
    },
    {
     "name": "stderr",
     "output_type": "stream",
     "text": [
      "\n",
      "  2%|██▏                                                                                                     | 1/48 [00:00<00:29,  1.60it/s]\u001b[A\n",
      "  4%|████▎                                                                                                   | 2/48 [00:01<00:27,  1.67it/s]\u001b[A\n",
      "  6%|██████▌                                                                                                 | 3/48 [00:01<00:26,  1.69it/s]\u001b[A\n",
      "  8%|████████▋                                                                                               | 4/48 [00:02<00:26,  1.66it/s]\u001b[A\n",
      " 10%|██████████▊                                                                                             | 5/48 [00:02<00:25,  1.68it/s]\u001b[A\n",
      " 12%|█████████████                                                                                           | 6/48 [00:03<00:24,  1.69it/s]\u001b[A\n",
      " 15%|███████████████▏                                                                                        | 7/48 [00:04<00:24,  1.69it/s]\u001b[A\n",
      " 17%|█████████████████▎                                                                                      | 8/48 [00:04<00:23,  1.68it/s]\u001b[A\n",
      " 19%|███████████████████▌                                                                                    | 9/48 [00:05<00:23,  1.68it/s]\u001b[A\n",
      " 21%|█████████████████████▍                                                                                 | 10/48 [00:05<00:22,  1.68it/s]\u001b[A\n",
      " 21%|█████████████████████▍                                                                                 | 10/48 [00:06<00:24,  1.52it/s]\u001b[A"
     ]
    },
    {
     "name": "stdout",
     "output_type": "stream",
     "text": [
      "INFO:adomvi.scraper.google:Saving images to disk.\n"
     ]
    },
    {
     "name": "stderr",
     "output_type": "stream",
     "text": [
      "\n",
      "  0%|                                                                                                                | 0/10 [00:00<?, ?it/s]\n",
      " 30%|███████████████████████████████▏                                                                        | 3/10 [00:00<00:01,  4.00it/s]\u001b[A\n",
      " 50%|████████████████████████████████████████████████████                                                    | 5/10 [00:01<00:01,  3.70it/s]\u001b[A\n",
      " 70%|████████████████████████████████████████████████████████████████████████▊                               | 7/10 [00:01<00:00,  3.63it/s]\u001b[A\n",
      " 80%|███████████████████████████████████████████████████████████████████████████████████▏                    | 8/10 [00:02<00:00,  2.80it/s]\u001b[A\n",
      " 90%|█████████████████████████████████████████████████████████████████████████████████████████████▌          | 9/10 [00:02<00:00,  2.79it/s]\u001b[A\n",
      "100%|███████████████████████████████████████████████████████████████████████████████████████████████████████| 10/10 [00:03<00:00,  2.85it/s]\u001b[A"
     ]
    },
    {
     "name": "stdout",
     "output_type": "stream",
     "text": [
      "INFO:adomvi.scraper.google:Writing metadata file.\n"
     ]
    },
    {
     "name": "stderr",
     "output_type": "stream",
     "text": [
      "\n",
      "\n",
      " 35%|████████████████████████████████████▍                                                                  | 17/48 [00:10<00:18,  1.67it/s]\u001b[A\n",
      " 38%|██████████████████████████████████████▋                                                                | 18/48 [00:10<00:17,  1.67it/s]\u001b[A\n",
      " 40%|████████████████████████████████████████▊                                                              | 19/48 [00:11<00:17,  1.68it/s]\u001b[A"
     ]
    },
    {
     "name": "stdout",
     "output_type": "stream",
     "text": [
      "INFO:adomvi.scraper.google:Chrome web driver initialized. Page title for https://www.google.com: Google\n",
      "INFO:adomvi.scraper.google:Seaching images for Boxer AFV\n"
     ]
    },
    {
     "name": "stderr",
     "output_type": "stream",
     "text": [
      "\n",
      " 42%|██████████████████████████████████████████▉                                                            | 20/48 [00:11<00:17,  1.65it/s]\u001b[A"
     ]
    },
    {
     "name": "stdout",
     "output_type": "stream",
     "text": [
      "INFO:adomvi.scraper.google:Clicking Images search button\n"
     ]
    },
    {
     "name": "stderr",
     "output_type": "stream",
     "text": [
      "\n",
      " 44%|█████████████████████████████████████████████                                                          | 21/48 [00:12<00:16,  1.68it/s]\u001b[A\n",
      " 46%|███████████████████████████████████████████████▏                                                       | 22/48 [00:13<00:15,  1.70it/s]\u001b[A\n",
      " 48%|█████████████████████████████████████████████████▎                                                     | 23/48 [00:13<00:14,  1.72it/s]\u001b[A"
     ]
    },
    {
     "name": "stdout",
     "output_type": "stream",
     "text": [
      "INFO:adomvi.scraper.google:Fetching thumbnails.\n",
      "INFO:adomvi.scraper.google:Found 48 thumbnails (48 new).\n"
     ]
    },
    {
     "name": "stderr",
     "output_type": "stream",
     "text": [
      "  0%|                                                                                                                | 0/48 [00:00<?, ?it/s]\n",
      "  2%|██▏                                                                                                     | 1/48 [00:00<00:29,  1.60it/s]\u001b[A\n",
      "  4%|████▎                                                                                                   | 2/48 [00:01<00:27,  1.68it/s]\u001b[A\n",
      "  6%|██████▌                                                                                                 | 3/48 [00:01<00:26,  1.67it/s]\u001b[A\n",
      "  8%|████████▋                                                                                               | 4/48 [00:02<00:25,  1.70it/s]\u001b[A\n",
      " 10%|██████████▊                                                                                             | 5/48 [00:02<00:25,  1.68it/s]\u001b[A\n",
      " 12%|█████████████                                                                                           | 6/48 [00:03<00:24,  1.70it/s]\u001b[A\n",
      " 15%|███████████████▏                                                                                        | 7/48 [00:04<00:23,  1.71it/s]\u001b[A\n",
      " 65%|██████████████████████████████████████████████████████████████████▌                                    | 31/48 [00:18<00:10,  1.64it/s]\u001b[A"
     ]
    },
    {
     "name": "stdout",
     "output_type": "stream",
     "text": [
      "INFO:adomvi.scraper.google:Saving images to disk.\n"
     ]
    },
    {
     "name": "stderr",
     "output_type": "stream",
     "text": [
      "\n",
      "\n",
      "  0%|                                                                                                                | 0/10 [00:00<?, ?it/s]\u001b[A\n",
      " 19%|███████████████████▌                                                                                    | 9/48 [00:05<00:22,  1.73it/s]\u001b[A\n",
      " 20%|████████████████████▊                                                                                   | 2/10 [00:00<00:01,  7.69it/s]\u001b[A\n",
      " 30%|███████████████████████████████▏                                                                        | 3/10 [00:00<00:00,  8.45it/s]\u001b[A\n",
      " 40%|█████████████████████████████████████████▌                                                              | 4/10 [00:00<00:00,  8.61it/s]\u001b[A\n",
      " 21%|█████████████████████▍                                                                                 | 10/48 [00:05<00:21,  1.73it/s]\u001b[A\n",
      " 70%|████████████████████████████████████████████████████████████████████████▊                               | 7/10 [00:01<00:00,  6.81it/s]\u001b[A\n",
      " 23%|███████████████████████▌                                                                               | 11/48 [00:06<00:21,  1.72it/s]\u001b[A\n",
      " 90%|█████████████████████████████████████████████████████████████████████████████████████████████▌          | 9/10 [00:01<00:00,  3.96it/s]\u001b[A\n",
      "100%|███████████████████████████████████████████████████████████████████████████████████████████████████████| 10/10 [00:01<00:00,  5.23it/s]\u001b[A"
     ]
    },
    {
     "name": "stdout",
     "output_type": "stream",
     "text": [
      "INFO:adomvi.scraper.google:Writing metadata file.\n"
     ]
    },
    {
     "name": "stderr",
     "output_type": "stream",
     "text": [
      "\n",
      " 29%|██████████████████████████████                                                                         | 14/48 [00:08<00:20,  1.69it/s]"
     ]
    },
    {
     "name": "stdout",
     "output_type": "stream",
     "text": [
      "INFO:adomvi.scraper.google:Chrome web driver initialized. Page title for https://www.google.com: Google\n",
      "INFO:adomvi.scraper.google:Seaching images for LAV III\n"
     ]
    },
    {
     "name": "stderr",
     "output_type": "stream",
     "text": [
      " 31%|████████████████████████████████▏                                                                      | 15/48 [00:08<00:19,  1.70it/s]"
     ]
    },
    {
     "name": "stdout",
     "output_type": "stream",
     "text": [
      "INFO:adomvi.scraper.google:Clicking Images search button\n"
     ]
    },
    {
     "name": "stderr",
     "output_type": "stream",
     "text": [
      " 38%|██████████████████████████████████████▋                                                                | 18/48 [00:10<00:17,  1.71it/s]"
     ]
    },
    {
     "name": "stdout",
     "output_type": "stream",
     "text": [
      "INFO:adomvi.scraper.google:Fetching thumbnails.\n",
      "INFO:adomvi.scraper.google:Found 48 thumbnails (48 new).\n"
     ]
    },
    {
     "name": "stderr",
     "output_type": "stream",
     "text": [
      "\n",
      " 40%|████████████████████████████████████████▊                                                              | 19/48 [00:11<00:17,  1.70it/s]\u001b[A\n",
      " 42%|██████████████████████████████████████████▉                                                            | 20/48 [00:11<00:16,  1.69it/s]\u001b[A\n",
      " 42%|██████████████████████████████████████████▉                                                            | 20/48 [00:12<00:17,  1.62it/s]\u001b[A"
     ]
    },
    {
     "name": "stdout",
     "output_type": "stream",
     "text": [
      "INFO:adomvi.scraper.google:Saving images to disk.\n"
     ]
    },
    {
     "name": "stderr",
     "output_type": "stream",
     "text": [
      "\n",
      "  0%|                                                                                                                | 0/10 [00:00<?, ?it/s]\n",
      " 40%|█████████████████████████████████████████▌                                                              | 4/10 [00:00<00:00,  6.76it/s]\u001b[A\n",
      " 50%|████████████████████████████████████████████████████                                                    | 5/10 [00:01<00:01,  3.70it/s]\u001b[A\n",
      " 70%|████████████████████████████████████████████████████████████████████████▊                               | 7/10 [00:01<00:00,  3.45it/s]\u001b[A\n",
      "100%|███████████████████████████████████████████████████████████████████████████████████████████████████████| 10/10 [00:02<00:00,  4.30it/s]\u001b[A"
     ]
    },
    {
     "name": "stdout",
     "output_type": "stream",
     "text": [
      "INFO:adomvi.scraper.google:Writing metadata file.\n"
     ]
    },
    {
     "name": "stderr",
     "output_type": "stream",
     "text": [
      "\n",
      "\n",
      " 15%|███████████████▏                                                                                        | 7/48 [00:04<00:24,  1.69it/s]\u001b[A\n",
      " 17%|█████████████████▎                                                                                      | 8/48 [00:04<00:23,  1.68it/s]\u001b[A\n",
      " 19%|███████████████████▌                                                                                    | 9/48 [00:05<00:23,  1.68it/s]\u001b[A"
     ]
    },
    {
     "name": "stdout",
     "output_type": "stream",
     "text": [
      "INFO:adomvi.scraper.google:Chrome web driver initialized. Page title for https://www.google.com: Google\n",
      "INFO:adomvi.scraper.google:Seaching images for ZTZ-99\n"
     ]
    },
    {
     "name": "stderr",
     "output_type": "stream",
     "text": [
      "\n",
      " 21%|█████████████████████▍                                                                                 | 10/48 [00:06<00:22,  1.66it/s]\u001b[A\n",
      " 23%|███████████████████████▌                                                                               | 11/48 [00:06<00:22,  1.68it/s]\u001b[A"
     ]
    },
    {
     "name": "stdout",
     "output_type": "stream",
     "text": [
      "INFO:adomvi.scraper.google:Clicking Images search button\n"
     ]
    },
    {
     "name": "stderr",
     "output_type": "stream",
     "text": [
      "\n",
      " 25%|█████████████████████████▊                                                                             | 12/48 [00:07<00:21,  1.65it/s]\u001b[A"
     ]
    },
    {
     "name": "stdout",
     "output_type": "stream",
     "text": [
      "INFO:adomvi.scraper.google:Fetching thumbnails.\n",
      "INFO:adomvi.scraper.google:Found 48 thumbnails (48 new).\n"
     ]
    },
    {
     "name": "stderr",
     "output_type": "stream",
     "text": [
      "  0%|                                                                                                                | 0/48 [00:00<?, ?it/s]\n",
      " 27%|███████████████████████████▉                                                                           | 13/48 [00:07<00:21,  1.66it/s]\u001b[A\n",
      "  2%|██▏                                                                                                     | 1/48 [00:00<00:29,  1.58it/s]\u001b[A\n",
      "  4%|████▎                                                                                                   | 2/48 [00:01<00:28,  1.59it/s]\u001b[A\n",
      "  6%|██████▌                                                                                                 | 3/48 [00:01<00:27,  1.63it/s]\u001b[A\n",
      "  8%|████████▋                                                                                               | 4/48 [00:02<00:26,  1.64it/s]\u001b[A\n",
      " 10%|██████████▊                                                                                             | 5/48 [00:03<00:26,  1.65it/s]\u001b[A\n",
      " 12%|█████████████                                                                                           | 6/48 [00:03<00:24,  1.69it/s]\u001b[A\n",
      " 15%|███████████████▏                                                                                        | 7/48 [00:04<00:24,  1.71it/s]\u001b[A\n",
      " 17%|█████████████████▎                                                                                      | 8/48 [00:04<00:23,  1.71it/s]\u001b[A\n",
      " 19%|███████████████████▌                                                                                    | 9/48 [00:05<00:22,  1.71it/s]\u001b[A\n",
      " 21%|█████████████████████▍                                                                                 | 10/48 [00:05<00:22,  1.68it/s]\u001b[A\n",
      " 23%|███████████████████████▌                                                                               | 11/48 [00:06<00:21,  1.70it/s]\u001b[A\n",
      " 25%|█████████████████████████▊                                                                             | 12/48 [00:07<00:21,  1.69it/s]\u001b[A\n",
      " 29%|██████████████████████████████                                                                         | 14/48 [00:08<00:19,  1.71it/s]\u001b[A\n",
      " 31%|████████████████████████████████▏                                                                      | 15/48 [00:08<00:19,  1.70it/s]\u001b[A\n",
      " 33%|██████████████████████████████████▎                                                                    | 16/48 [00:09<00:18,  1.70it/s]\u001b[A\n",
      " 35%|████████████████████████████████████▍                                                                  | 17/48 [00:10<00:18,  1.68it/s]\u001b[A\n",
      " 38%|██████████████████████████████████████▋                                                                | 18/48 [00:10<00:17,  1.69it/s]\u001b[A\n",
      " 40%|████████████████████████████████████████▊                                                              | 19/48 [00:11<00:17,  1.69it/s]\u001b[A\n",
      " 42%|██████████████████████████████████████████▉                                                            | 20/48 [00:11<00:16,  1.67it/s]\u001b[A\n",
      " 44%|█████████████████████████████████████████████                                                          | 21/48 [00:12<00:16,  1.67it/s]\u001b[A\n",
      " 46%|███████████████████████████████████████████████▏                                                       | 22/48 [00:13<00:15,  1.67it/s]\u001b[A\n",
      " 48%|█████████████████████████████████████████████████▎                                                     | 23/48 [00:13<00:14,  1.67it/s]\u001b[A\n",
      " 50%|███████████████████████████████████████████████████▌                                                   | 24/48 [00:14<00:14,  1.65it/s]\u001b[A\n",
      " 52%|█████████████████████████████████████████████████████▋                                                 | 25/48 [00:14<00:13,  1.66it/s]\u001b[A\n",
      " 79%|█████████████████████████████████████████████████████████████████████████████████▌                     | 38/48 [00:23<00:06,  1.63it/s]\u001b[A"
     ]
    },
    {
     "name": "stdout",
     "output_type": "stream",
     "text": [
      "INFO:adomvi.scraper.google:Saving images to disk.\n"
     ]
    },
    {
     "name": "stderr",
     "output_type": "stream",
     "text": [
      "\n",
      "\n",
      "  0%|                                                                                                                | 0/10 [00:00<?, ?it/s]\u001b[A\n",
      " 54%|███████████████████████████████████████████████████████▊                                               | 26/48 [00:16<00:13,  1.62it/s]\u001b[A"
     ]
    },
    {
     "name": "stdout",
     "output_type": "stream",
     "text": [
      "INFO:adomvi.scraper.google:Saving images to disk.\n"
     ]
    },
    {
     "name": "stderr",
     "output_type": "stream",
     "text": [
      "\n",
      " 10%|██████████▍                                                                                             | 1/10 [00:00<00:02,  4.25it/s]\n",
      " 30%|███████████████████████████████▏                                                                        | 3/10 [00:00<00:01,  3.58it/s]\u001b[A\n",
      " 30%|███████████████████████████████▏                                                                        | 3/10 [00:00<00:01,  4.76it/s]\u001b[A\n",
      " 40%|█████████████████████████████████████████▌                                                              | 4/10 [00:00<00:01,  4.35it/s]\u001b[A\n",
      " 60%|██████████████████████████████████████████████████████████████▍                                         | 6/10 [00:01<00:01,  3.71it/s]\u001b[A\n",
      " 70%|████████████████████████████████████████████████████████████████████████▊                               | 7/10 [00:01<00:00,  3.90it/s]\u001b[A\n",
      " 80%|███████████████████████████████████████████████████████████████████████████████████▏                    | 8/10 [00:02<00:00,  2.21it/s]\u001b[A\n",
      "100%|███████████████████████████████████████████████████████████████████████████████████████████████████████| 10/10 [00:03<00:00,  3.00it/s]\u001b[A"
     ]
    },
    {
     "name": "stdout",
     "output_type": "stream",
     "text": [
      "INFO:adomvi.scraper.google:Writing metadata file.\n"
     ]
    },
    {
     "name": "stderr",
     "output_type": "stream",
     "text": [
      "\n",
      "100%|███████████████████████████████████████████████████████████████████████████████████████████████████████| 10/10 [00:03<00:00,  2.67it/s]"
     ]
    },
    {
     "name": "stdout",
     "output_type": "stream",
     "text": [
      "INFO:adomvi.scraper.google:Writing metadata file.\n"
     ]
    },
    {
     "name": "stderr",
     "output_type": "stream",
     "text": [
      "\n"
     ]
    },
    {
     "name": "stdout",
     "output_type": "stream",
     "text": [
      "INFO:adomvi.scraper.google:Chrome web driver initialized. Page title for https://www.google.com: Google\n",
      "INFO:adomvi.scraper.google:Seaching images for ZTZ-96\n",
      "INFO:adomvi.scraper.google:Clicking Images search button\n",
      "INFO:adomvi.scraper.google:Chrome web driver initialized. Page title for https://www.google.com: Google\n",
      "INFO:adomvi.scraper.google:Seaching images for VT-4\n",
      "INFO:adomvi.scraper.google:Fetching thumbnails.\n",
      "INFO:adomvi.scraper.google:Found 48 thumbnails (48 new).\n"
     ]
    },
    {
     "name": "stderr",
     "output_type": "stream",
     "text": [
      "  4%|████▎                                                                                                   | 2/48 [00:01<00:28,  1.63it/s]"
     ]
    },
    {
     "name": "stdout",
     "output_type": "stream",
     "text": [
      "INFO:adomvi.scraper.google:Clicking Images search button\n"
     ]
    },
    {
     "name": "stderr",
     "output_type": "stream",
     "text": [
      "  8%|████████▋                                                                                               | 4/48 [00:02<00:25,  1.71it/s]"
     ]
    },
    {
     "name": "stdout",
     "output_type": "stream",
     "text": [
      "INFO:adomvi.scraper.google:Fetching thumbnails.\n",
      "INFO:adomvi.scraper.google:Found 48 thumbnails (48 new).\n"
     ]
    },
    {
     "name": "stderr",
     "output_type": "stream",
     "text": [
      "\n",
      " 10%|██████████▊                                                                                             | 5/48 [00:02<00:25,  1.72it/s]\u001b[A\n",
      " 12%|█████████████                                                                                           | 6/48 [00:03<00:24,  1.68it/s]\u001b[A\n",
      " 15%|███████████████▏                                                                                        | 7/48 [00:04<00:24,  1.69it/s]\u001b[A\n",
      " 17%|█████████████████▎                                                                                      | 8/48 [00:04<00:23,  1.70it/s]\u001b[A\n",
      " 19%|███████████████████▌                                                                                    | 9/48 [00:05<00:22,  1.70it/s]\u001b[A\n",
      " 21%|█████████████████████▍                                                                                 | 10/48 [00:05<00:22,  1.70it/s]\u001b[A\n",
      " 23%|███████████████████████▌                                                                               | 11/48 [00:06<00:22,  1.66it/s]\u001b[A\n",
      " 25%|█████████████████████████▊                                                                             | 12/48 [00:07<00:21,  1.68it/s]\u001b[A\n",
      " 27%|███████████████████████████▉                                                                           | 13/48 [00:07<00:20,  1.70it/s]\u001b[A\n",
      " 29%|██████████████████████████████                                                                         | 14/48 [00:08<00:20,  1.69it/s]\u001b[A\n",
      " 31%|████████████████████████████████▏                                                                      | 15/48 [00:08<00:19,  1.70it/s]\u001b[A\n",
      " 33%|██████████████████████████████████▎                                                                    | 16/48 [00:09<00:18,  1.69it/s]\u001b[A\n",
      " 35%|████████████████████████████████████▍                                                                  | 17/48 [00:10<00:18,  1.71it/s]\u001b[A\n",
      " 38%|██████████████████████████████████████▋                                                                | 18/48 [00:10<00:17,  1.69it/s]\u001b[A\n",
      " 40%|████████████████████████████████████████▊                                                              | 19/48 [00:11<00:17,  1.68it/s]\u001b[A\n",
      " 42%|██████████████████████████████████████████▉                                                            | 20/48 [00:11<00:16,  1.69it/s]\u001b[A\n",
      " 44%|█████████████████████████████████████████████                                                          | 21/48 [00:12<00:15,  1.69it/s]\u001b[A\n",
      " 46%|███████████████████████████████████████████████▏                                                       | 22/48 [00:13<00:15,  1.69it/s]\u001b[A\n",
      " 48%|█████████████████████████████████████████████████▎                                                     | 23/48 [00:13<00:14,  1.71it/s]\u001b[A\n",
      " 48%|█████████████████████████████████████████████████▎                                                     | 23/48 [00:14<00:15,  1.62it/s]\u001b[A"
     ]
    },
    {
     "name": "stdout",
     "output_type": "stream",
     "text": [
      "INFO:adomvi.scraper.google:Saving images to disk.\n"
     ]
    },
    {
     "name": "stderr",
     "output_type": "stream",
     "text": [
      "\n",
      " 10%|██████████▍                                                                                             | 1/10 [00:00<00:01,  5.65it/s]\n",
      " 50%|████████████████████████████████████████████████████                                                    | 5/10 [00:00<00:00,  5.82it/s]\u001b[A\n",
      " 70%|████████████████████████████████████████████████████████████████████████▊                               | 7/10 [00:01<00:00,  5.75it/s]\u001b[A\n",
      " 90%|█████████████████████████████████████████████████████████████████████████████████████████████▌          | 9/10 [00:01<00:00,  4.66it/s]\u001b[A\n",
      "100%|███████████████████████████████████████████████████████████████████████████████████████████████████████| 10/10 [00:02<00:00,  4.60it/s]\u001b[A"
     ]
    },
    {
     "name": "stdout",
     "output_type": "stream",
     "text": [
      "INFO:adomvi.scraper.google:Writing metadata file.\n"
     ]
    },
    {
     "name": "stderr",
     "output_type": "stream",
     "text": [
      "\n",
      "\n",
      " 50%|███████████████████████████████████████████████████▌                                                   | 24/48 [00:14<00:14,  1.66it/s]\u001b[A\n",
      " 52%|█████████████████████████████████████████████████████▋                                                 | 25/48 [00:14<00:13,  1.66it/s]\u001b[A"
     ]
    },
    {
     "name": "stdout",
     "output_type": "stream",
     "text": [
      "INFO:adomvi.scraper.google:Chrome web driver initialized. Page title for https://www.google.com: Google\n",
      "INFO:adomvi.scraper.google:Seaching images for ZBD-04\n"
     ]
    },
    {
     "name": "stderr",
     "output_type": "stream",
     "text": [
      " 52%|█████████████████████████████████████████████████████▋                                                 | 25/48 [00:15<00:14,  1.62it/s]"
     ]
    },
    {
     "name": "stdout",
     "output_type": "stream",
     "text": [
      "INFO:adomvi.scraper.google:Saving images to disk.\n"
     ]
    },
    {
     "name": "stderr",
     "output_type": "stream",
     "text": [
      "\n",
      " 10%|██████████▍                                                                                             | 1/10 [00:00<00:02,  4.00it/s]"
     ]
    },
    {
     "name": "stdout",
     "output_type": "stream",
     "text": [
      "INFO:adomvi.scraper.google:Clicking Images search button\n"
     ]
    },
    {
     "name": "stderr",
     "output_type": "stream",
     "text": [
      " 60%|██████████████████████████████████████████████████████████████▍                                         | 6/10 [00:01<00:01,  3.31it/s]"
     ]
    },
    {
     "name": "stdout",
     "output_type": "stream",
     "text": [
      "INFO:adomvi.scraper.google:Fetching thumbnails.\n",
      "INFO:adomvi.scraper.google:Found 50 thumbnails (50 new).\n"
     ]
    },
    {
     "name": "stderr",
     "output_type": "stream",
     "text": [
      "\n",
      "  0%|                                                                                                                | 0/50 [00:00<?, ?it/s]\u001b[A"
     ]
    },
    {
     "name": "stdout",
     "output_type": "stream",
     "text": [
      "WARNING:adomvi.scraper.google:Exception saving image https://i.redd.it/ch0qbfg3j0431.jpg\n",
      "Traceback (most recent call last):\n",
      "  File \"/Users/jonas/workspace/adomvi/adomvi/scraper/google.py\", line 195, in save_images\n",
      "    with Image.open(\n",
      "  File \"/Users/jonas/workspace/adomvi/.venv/lib/python3.10/site-packages/PIL/Image.py\", line 3280, in open\n",
      "    raise UnidentifiedImageError(msg)\n",
      "PIL.UnidentifiedImageError: cannot identify image file <_io.BytesIO object at 0x106960ea0>\n"
     ]
    },
    {
     "name": "stderr",
     "output_type": "stream",
     "text": [
      " 70%|████████████████████████████████████████████████████████████████████████▊                               | 7/10 [00:02<00:00,  3.07it/s]\n",
      " 80%|███████████████████████████████████████████████████████████████████████████████████▏                    | 8/10 [00:02<00:00,  3.24it/s]\u001b[A\n",
      "  4%|████▏                                                                                                   | 2/50 [00:01<00:28,  1.67it/s]\u001b[A\n",
      "100%|███████████████████████████████████████████████████████████████████████████████████████████████████████| 10/10 [00:03<00:00,  2.67it/s]\u001b[A"
     ]
    },
    {
     "name": "stdout",
     "output_type": "stream",
     "text": [
      "INFO:adomvi.scraper.google:Writing metadata file.\n"
     ]
    },
    {
     "name": "stderr",
     "output_type": "stream",
     "text": [
      "\n",
      "\n",
      "  8%|████████▎                                                                                               | 4/50 [00:02<00:27,  1.64it/s]\u001b[A\n",
      " 10%|██████████▍                                                                                             | 5/50 [00:03<00:27,  1.66it/s]\u001b[A"
     ]
    },
    {
     "name": "stdout",
     "output_type": "stream",
     "text": [
      "INFO:adomvi.scraper.google:Chrome web driver initialized. Page title for https://www.google.com: Google\n",
      "INFO:adomvi.scraper.google:Seaching images for Leclerc tank\n"
     ]
    },
    {
     "name": "stderr",
     "output_type": "stream",
     "text": [
      "\n",
      " 12%|████████████▍                                                                                           | 6/50 [00:03<00:26,  1.68it/s]\u001b[A"
     ]
    },
    {
     "name": "stdout",
     "output_type": "stream",
     "text": [
      "INFO:adomvi.scraper.google:Clicking Images search button\n"
     ]
    },
    {
     "name": "stderr",
     "output_type": "stream",
     "text": [
      "\n",
      " 14%|██████████████▌                                                                                         | 7/50 [00:04<00:25,  1.67it/s]\u001b[A\n",
      " 16%|████████████████▋                                                                                       | 8/50 [00:04<00:25,  1.67it/s]\u001b[A\n",
      " 18%|██████████████████▋                                                                                     | 9/50 [00:05<00:24,  1.68it/s]\u001b[A"
     ]
    },
    {
     "name": "stdout",
     "output_type": "stream",
     "text": [
      "INFO:adomvi.scraper.google:Fetching thumbnails.\n",
      "INFO:adomvi.scraper.google:Found 48 thumbnails (48 new).\n"
     ]
    },
    {
     "name": "stderr",
     "output_type": "stream",
     "text": [
      "  0%|                                                                                                                | 0/48 [00:00<?, ?it/s]\n",
      "  2%|██▏                                                                                                     | 1/48 [00:00<00:28,  1.65it/s]\u001b[A\n",
      "  4%|████▎                                                                                                   | 2/48 [00:01<00:28,  1.64it/s]\u001b[A\n",
      "  6%|██████▌                                                                                                 | 3/48 [00:01<00:26,  1.68it/s]\u001b[A\n",
      "  8%|████████▋                                                                                               | 4/48 [00:02<00:25,  1.71it/s]\u001b[A\n",
      " 10%|██████████▊                                                                                             | 5/48 [00:02<00:25,  1.71it/s]\u001b[A\n",
      " 12%|█████████████                                                                                           | 6/48 [00:03<00:24,  1.70it/s]\u001b[A\n",
      " 15%|███████████████▏                                                                                        | 7/48 [00:04<00:23,  1.72it/s]\u001b[A\n",
      " 17%|█████████████████▎                                                                                      | 8/48 [00:04<00:23,  1.73it/s]\u001b[A\n",
      " 19%|███████████████████▌                                                                                    | 9/48 [00:05<00:22,  1.74it/s]\u001b[A\n",
      " 21%|█████████████████████▍                                                                                 | 10/48 [00:05<00:21,  1.73it/s]\u001b[A\n",
      " 23%|███████████████████████▌                                                                               | 11/48 [00:06<00:21,  1.74it/s]\u001b[A\n",
      " 25%|█████████████████████████▊                                                                             | 12/48 [00:07<00:21,  1.71it/s]\u001b[A\n",
      " 27%|███████████████████████████▉                                                                           | 13/48 [00:07<00:20,  1.72it/s]\u001b[A\n",
      " 31%|████████████████████████████████▏                                                                      | 15/48 [00:08<00:19,  1.72it/s]\u001b[A\n",
      " 33%|██████████████████████████████████▎                                                                    | 16/48 [00:09<00:18,  1.71it/s]\u001b[A\n",
      " 35%|████████████████████████████████████▍                                                                  | 17/48 [00:09<00:18,  1.69it/s]\u001b[A\n",
      " 38%|██████████████████████████████████████▋                                                                | 18/48 [00:10<00:18,  1.66it/s]\u001b[A\n",
      " 54%|███████████████████████████████████████████████████████▌                                               | 27/50 [00:16<00:13,  1.66it/s]\u001b[A\n",
      " 56%|█████████████████████████████████████████████████████████▋                                             | 28/50 [00:17<00:13,  1.62it/s]\u001b[A"
     ]
    },
    {
     "name": "stdout",
     "output_type": "stream",
     "text": [
      "INFO:adomvi.scraper.google:Saving images to disk.\n"
     ]
    },
    {
     "name": "stderr",
     "output_type": "stream",
     "text": [
      "\n",
      "\n",
      " 42%|██████████████████████████████████████████▉                                                            | 20/48 [00:11<00:16,  1.65it/s]\u001b[A\n",
      " 10%|██████████▍                                                                                             | 1/10 [00:00<00:02,  3.31it/s]\u001b[A\n",
      " 44%|█████████████████████████████████████████████                                                          | 21/48 [00:12<00:16,  1.65it/s]\u001b[A\n",
      " 30%|███████████████████████████████▏                                                                        | 3/10 [00:00<00:01,  3.97it/s]\u001b[A\n",
      " 46%|███████████████████████████████████████████████▏                                                       | 22/48 [00:12<00:15,  1.66it/s]\u001b[A\n",
      " 48%|█████████████████████████████████████████████████▎                                                     | 23/48 [00:13<00:14,  1.67it/s]\u001b[A\n",
      " 70%|████████████████████████████████████████████████████████████████████████▊                               | 7/10 [00:01<00:00,  3.18it/s]\u001b[A\n",
      " 80%|███████████████████████████████████████████████████████████████████████████████████▏                    | 8/10 [00:02<00:00,  3.79it/s]\u001b[A\n",
      " 90%|█████████████████████████████████████████████████████████████████████████████████████████████▌          | 9/10 [00:02<00:00,  4.07it/s]\u001b[A\n",
      "100%|███████████████████████████████████████████████████████████████████████████████████████████████████████| 10/10 [00:02<00:00,  4.17it/s]\u001b[A"
     ]
    },
    {
     "name": "stdout",
     "output_type": "stream",
     "text": [
      "INFO:adomvi.scraper.google:Writing metadata file.\n"
     ]
    },
    {
     "name": "stderr",
     "output_type": "stream",
     "text": [
      "\n",
      " 54%|███████████████████████████████████████████████████████▊                                               | 26/48 [00:15<00:12,  1.71it/s]"
     ]
    },
    {
     "name": "stdout",
     "output_type": "stream",
     "text": [
      "INFO:adomvi.scraper.google:Chrome web driver initialized. Page title for https://www.google.com: Google\n",
      "INFO:adomvi.scraper.google:Seaching images for AMX 10 RC\n"
     ]
    },
    {
     "name": "stderr",
     "output_type": "stream",
     "text": [
      " 58%|████████████████████████████████████████████████████████████                                           | 28/48 [00:16<00:11,  1.71it/s]"
     ]
    },
    {
     "name": "stdout",
     "output_type": "stream",
     "text": [
      "INFO:adomvi.scraper.google:Clicking Images search button\n"
     ]
    },
    {
     "name": "stderr",
     "output_type": "stream",
     "text": [
      " 62%|████████████████████████████████████████████████████████████████▍                                      | 30/48 [00:17<00:10,  1.67it/s]"
     ]
    },
    {
     "name": "stdout",
     "output_type": "stream",
     "text": [
      "INFO:adomvi.scraper.google:Fetching thumbnails.\n",
      "INFO:adomvi.scraper.google:Found 48 thumbnails (48 new).\n"
     ]
    },
    {
     "name": "stderr",
     "output_type": "stream",
     "text": [
      "\n",
      " 65%|██████████████████████████████████████████████████████████████████▌                                    | 31/48 [00:18<00:10,  1.68it/s]\u001b[A\n",
      " 67%|████████████████████████████████████████████████████████████████████▋                                  | 32/48 [00:18<00:09,  1.69it/s]\u001b[A\n",
      " 69%|██████████████████████████████████████████████████████████████████████▊                                | 33/48 [00:19<00:08,  1.71it/s]\u001b[A\n",
      " 69%|██████████████████████████████████████████████████████████████████████▊                                | 33/48 [00:20<00:09,  1.65it/s]\u001b[A"
     ]
    },
    {
     "name": "stdout",
     "output_type": "stream",
     "text": [
      "INFO:adomvi.scraper.google:Saving images to disk.\n"
     ]
    },
    {
     "name": "stderr",
     "output_type": "stream",
     "text": [
      "\n",
      " 10%|██████████▍                                                                                             | 1/10 [00:00<00:02,  3.60it/s]\n",
      " 20%|████████████████████▊                                                                                   | 2/10 [00:00<00:03,  2.10it/s]\u001b[A\n",
      " 30%|███████████████████████████████▏                                                                        | 3/10 [00:01<00:03,  2.11it/s]\u001b[A\n",
      " 60%|██████████████████████████████████████████████████████████████▍                                         | 6/10 [00:02<00:01,  3.10it/s]\u001b[A\n",
      " 70%|████████████████████████████████████████████████████████████████████████▊                               | 7/10 [00:02<00:00,  3.06it/s]\u001b[A\n",
      " 90%|█████████████████████████████████████████████████████████████████████████████████████████████▌          | 9/10 [00:03<00:00,  2.90it/s]\u001b[A\n",
      "100%|███████████████████████████████████████████████████████████████████████████████████████████████████████| 10/10 [00:03<00:00,  2.61it/s]\u001b[A"
     ]
    },
    {
     "name": "stdout",
     "output_type": "stream",
     "text": [
      "INFO:adomvi.scraper.google:Writing metadata file.\n"
     ]
    },
    {
     "name": "stderr",
     "output_type": "stream",
     "text": [
      "\n",
      "\n",
      " 21%|█████████████████████▍                                                                                 | 10/48 [00:06<00:22,  1.65it/s]\u001b[A\n",
      " 23%|███████████████████████▌                                                                               | 11/48 [00:06<00:22,  1.68it/s]\u001b[A"
     ]
    },
    {
     "name": "stdout",
     "output_type": "stream",
     "text": [
      "INFO:adomvi.scraper.google:Chrome web driver initialized. Page title for https://www.google.com: Google\n",
      "INFO:adomvi.scraper.google:Seaching images for Leopard tank\n"
     ]
    },
    {
     "name": "stderr",
     "output_type": "stream",
     "text": [
      "\n",
      " 25%|█████████████████████████▊                                                                             | 12/48 [00:07<00:21,  1.70it/s]\u001b[A\n",
      " 27%|███████████████████████████▉                                                                           | 13/48 [00:07<00:20,  1.69it/s]\u001b[A\n",
      " 29%|██████████████████████████████                                                                         | 14/48 [00:08<00:20,  1.69it/s]\u001b[A"
     ]
    },
    {
     "name": "stdout",
     "output_type": "stream",
     "text": [
      "INFO:adomvi.scraper.google:Clicking Images search button\n"
     ]
    },
    {
     "name": "stderr",
     "output_type": "stream",
     "text": [
      "\n",
      " 31%|████████████████████████████████▏                                                                      | 15/48 [00:09<00:19,  1.69it/s]\u001b[A\n",
      " 33%|██████████████████████████████████▎                                                                    | 16/48 [00:09<00:18,  1.70it/s]\u001b[A"
     ]
    },
    {
     "name": "stdout",
     "output_type": "stream",
     "text": [
      "INFO:adomvi.scraper.google:Fetching thumbnails.\n",
      "INFO:adomvi.scraper.google:Found 48 thumbnails (48 new).\n"
     ]
    },
    {
     "name": "stderr",
     "output_type": "stream",
     "text": [
      "  0%|                                                                                                                | 0/48 [00:00<?, ?it/s]\n",
      "  2%|██▏                                                                                                     | 1/48 [00:00<00:28,  1.65it/s]\u001b[A\n",
      "  4%|████▎                                                                                                   | 2/48 [00:01<00:27,  1.67it/s]\u001b[A\n",
      "  6%|██████▌                                                                                                 | 3/48 [00:01<00:27,  1.66it/s]\u001b[A\n",
      "  8%|████████▋                                                                                               | 4/48 [00:02<00:26,  1.69it/s]\u001b[A\n",
      " 10%|██████████▊                                                                                             | 5/48 [00:02<00:25,  1.70it/s]\u001b[A\n",
      " 12%|█████████████                                                                                           | 6/48 [00:03<00:24,  1.70it/s]\u001b[A\n",
      " 48%|█████████████████████████████████████████████████▎                                                     | 23/48 [00:14<00:15,  1.61it/s]\u001b[A"
     ]
    },
    {
     "name": "stdout",
     "output_type": "stream",
     "text": [
      "INFO:adomvi.scraper.google:Saving images to disk.\n"
     ]
    },
    {
     "name": "stderr",
     "output_type": "stream",
     "text": [
      "\n",
      "\n",
      "  0%|                                                                                                                | 0/10 [00:00<?, ?it/s]\u001b[A\n",
      " 17%|█████████████████▎                                                                                      | 8/48 [00:04<00:23,  1.71it/s]\u001b[A\n",
      " 20%|████████████████████▊                                                                                   | 2/10 [00:00<00:02,  3.80it/s]\u001b[A\n",
      " 21%|█████████████████████▍                                                                                 | 10/48 [00:05<00:22,  1.68it/s]\u001b[A\n",
      " 40%|█████████████████████████████████████████▌                                                              | 4/10 [00:01<00:02,  2.37it/s]\u001b[A\n",
      " 23%|███████████████████████▌                                                                               | 11/48 [00:06<00:21,  1.69it/s]\u001b[A\n",
      " 60%|██████████████████████████████████████████████████████████████▍                                         | 6/10 [00:02<00:01,  2.70it/s]\u001b[A\n",
      " 25%|█████████████████████████▊                                                                             | 12/48 [00:07<00:21,  1.70it/s]\u001b[A\n",
      " 27%|███████████████████████████▉                                                                           | 13/48 [00:07<00:20,  1.70it/s]\u001b[A\n",
      " 29%|██████████████████████████████                                                                         | 14/48 [00:08<00:19,  1.70it/s]\u001b[A\n",
      "100%|███████████████████████████████████████████████████████████████████████████████████████████████████████| 10/10 [00:04<00:00,  2.31it/s]\u001b[A"
     ]
    },
    {
     "name": "stdout",
     "output_type": "stream",
     "text": [
      "INFO:adomvi.scraper.google:Writing metadata file.\n"
     ]
    },
    {
     "name": "stderr",
     "output_type": "stream",
     "text": [
      "\n",
      " 60%|██████████████████████████████████████████████████████████████▏                                        | 29/48 [00:17<00:11,  1.65it/s]"
     ]
    },
    {
     "name": "stdout",
     "output_type": "stream",
     "text": [
      "INFO:adomvi.scraper.google:Saving images to disk.\n"
     ]
    },
    {
     "name": "stderr",
     "output_type": "stream",
     "text": [
      "\n",
      "  0%|                                                                                                                | 0/10 [00:00<?, ?it/s]"
     ]
    },
    {
     "name": "stdout",
     "output_type": "stream",
     "text": [
      "WARNING:adomvi.scraper.google:Exception saving image https://www.defensenews.com/resizer/sbYLeqss2ZUpS_HD3PGrr09Jz2s=/arc-photo-archetype/arc3-prod/public/OIFRAG2XKFDPPKI5KVUURA5474.jpg\n",
      "Traceback (most recent call last):\n",
      "  File \"/Users/jonas/workspace/adomvi/adomvi/scraper/google.py\", line 195, in save_images\n",
      "    with Image.open(\n",
      "  File \"/Users/jonas/workspace/adomvi/.venv/lib/python3.10/site-packages/PIL/Image.py\", line 3280, in open\n",
      "    raise UnidentifiedImageError(msg)\n",
      "PIL.UnidentifiedImageError: cannot identify image file <_io.BytesIO object at 0x1057e31f0>\n"
     ]
    },
    {
     "name": "stderr",
     "output_type": "stream",
     "text": [
      " 20%|████████████████████▊                                                                                   | 2/10 [00:00<00:02,  3.59it/s]"
     ]
    },
    {
     "name": "stdout",
     "output_type": "stream",
     "text": [
      "WARNING:adomvi.scraper.google:Exception saving image https://www.politico.eu/cdn-cgi/image/width=1160,height=723,quality=80,onerror=redirect,format=auto/wp-content/uploads/2023/01/12/GettyImages-1240615013-scaled.jpg\n",
      "Traceback (most recent call last):\n",
      "  File \"/Users/jonas/workspace/adomvi/adomvi/scraper/google.py\", line 195, in save_images\n",
      "    with Image.open(\n",
      "  File \"/Users/jonas/workspace/adomvi/.venv/lib/python3.10/site-packages/PIL/Image.py\", line 3280, in open\n",
      "    raise UnidentifiedImageError(msg)\n",
      "PIL.UnidentifiedImageError: cannot identify image file <_io.BytesIO object at 0x10579c310>\n"
     ]
    },
    {
     "name": "stderr",
     "output_type": "stream",
     "text": [
      " 50%|████████████████████████████████████████████████████                                                    | 5/10 [00:02<00:02,  1.90it/s]"
     ]
    },
    {
     "name": "stdout",
     "output_type": "stream",
     "text": [
      "WARNING:adomvi.scraper.google:Exception saving image https://onecms-res.cloudinary.com/image/upload/s--08VW56SF--/f_auto,q_auto/v1/mediacorp/cna/image/2023/01/25/20230120-leopard-2.png?itok=TnEijKCz\n",
      "Traceback (most recent call last):\n",
      "  File \"/Users/jonas/workspace/adomvi/adomvi/scraper/google.py\", line 195, in save_images\n",
      "    with Image.open(\n",
      "  File \"/Users/jonas/workspace/adomvi/.venv/lib/python3.10/site-packages/PIL/Image.py\", line 3280, in open\n",
      "    raise UnidentifiedImageError(msg)\n",
      "PIL.UnidentifiedImageError: cannot identify image file <_io.BytesIO object at 0x105802cf0>\n"
     ]
    },
    {
     "name": "stderr",
     "output_type": "stream",
     "text": [
      "100%|███████████████████████████████████████████████████████████████████████████████████████████████████████| 10/10 [00:03<00:00,  3.11it/s]"
     ]
    },
    {
     "name": "stdout",
     "output_type": "stream",
     "text": [
      "INFO:adomvi.scraper.google:Writing metadata file.\n"
     ]
    },
    {
     "name": "stderr",
     "output_type": "stream",
     "text": [
      "\n"
     ]
    },
    {
     "name": "stdout",
     "output_type": "stream",
     "text": [
      "INFO:adomvi.scraper.google:Chrome web driver initialized. Page title for https://www.google.com: Google\n",
      "INFO:adomvi.scraper.google:Seaching images for T-72\n",
      "INFO:adomvi.scraper.google:Chrome web driver initialized. Page title for https://www.google.com: Google\n",
      "INFO:adomvi.scraper.google:Seaching images for T-90\n",
      "INFO:adomvi.scraper.google:Clicking Images search button\n",
      "INFO:adomvi.scraper.google:Clicking Images search button\n",
      "INFO:adomvi.scraper.google:Fetching thumbnails.\n",
      "INFO:adomvi.scraper.google:Found 48 thumbnails (48 new).\n"
     ]
    },
    {
     "name": "stderr",
     "output_type": "stream",
     "text": [
      "  0%|                                                                                                                | 0/48 [00:00<?, ?it/s]"
     ]
    },
    {
     "name": "stdout",
     "output_type": "stream",
     "text": [
      "INFO:adomvi.scraper.google:Fetching thumbnails.\n",
      "INFO:adomvi.scraper.google:Found 48 thumbnails (48 new).\n"
     ]
    },
    {
     "name": "stderr",
     "output_type": "stream",
     "text": [
      "\n",
      "  2%|██▏                                                                                                     | 1/48 [00:00<00:30,  1.55it/s]\u001b[A\n",
      "  4%|████▎                                                                                                   | 2/48 [00:01<00:29,  1.57it/s]\u001b[A\n",
      "  6%|██████▌                                                                                                 | 3/48 [00:01<00:28,  1.59it/s]\u001b[A\n",
      "  8%|████████▋                                                                                               | 4/48 [00:02<00:26,  1.64it/s]\u001b[A\n",
      " 10%|██████████▊                                                                                             | 5/48 [00:03<00:26,  1.64it/s]\u001b[A\n",
      " 12%|█████████████                                                                                           | 6/48 [00:03<00:25,  1.67it/s]\u001b[A\n",
      " 15%|███████████████▏                                                                                        | 7/48 [00:04<00:24,  1.67it/s]\u001b[A\n",
      " 17%|█████████████████▎                                                                                      | 8/48 [00:04<00:24,  1.66it/s]\u001b[A\n",
      " 19%|███████████████████▌                                                                                    | 9/48 [00:05<00:23,  1.69it/s]\u001b[A\n",
      " 21%|█████████████████████▍                                                                                 | 10/48 [00:06<00:22,  1.68it/s]\u001b[A\n",
      " 23%|███████████████████████▌                                                                               | 11/48 [00:06<00:21,  1.70it/s]\u001b[A\n",
      " 25%|█████████████████████████▊                                                                             | 12/48 [00:07<00:21,  1.71it/s]\u001b[A\n",
      " 27%|███████████████████████████▉                                                                           | 13/48 [00:07<00:20,  1.71it/s]\u001b[A\n",
      " 29%|██████████████████████████████                                                                         | 14/48 [00:08<00:19,  1.72it/s]\u001b[A\n",
      " 31%|████████████████████████████████▏                                                                      | 15/48 [00:08<00:19,  1.72it/s]\u001b[A\n",
      " 33%|██████████████████████████████████▎                                                                    | 16/48 [00:09<00:18,  1.71it/s]\u001b[A\n",
      " 35%|████████████████████████████████████▍                                                                  | 17/48 [00:10<00:18,  1.69it/s]\u001b[A\n",
      " 38%|██████████████████████████████████████▋                                                                | 18/48 [00:10<00:17,  1.71it/s]\u001b[A\n",
      " 40%|████████████████████████████████████████▊                                                              | 19/48 [00:11<00:16,  1.71it/s]\u001b[A\n",
      " 42%|██████████████████████████████████████████▉                                                            | 20/48 [00:11<00:16,  1.69it/s]\u001b[A\n",
      " 44%|█████████████████████████████████████████████                                                          | 21/48 [00:12<00:16,  1.67it/s]\u001b[A\n",
      " 44%|█████████████████████████████████████████████                                                          | 21/48 [00:13<00:16,  1.61it/s]\u001b[A"
     ]
    },
    {
     "name": "stdout",
     "output_type": "stream",
     "text": [
      "INFO:adomvi.scraper.google:Saving images to disk.\n"
     ]
    },
    {
     "name": "stderr",
     "output_type": "stream",
     "text": [
      "\n",
      "\n",
      "  0%|                                                                                                                | 0/10 [00:00<?, ?it/s]\u001b[A\n",
      " 48%|█████████████████████████████████████████████████▎                                                     | 23/48 [00:13<00:14,  1.69it/s]\u001b[A\n",
      " 20%|████████████████████▊                                                                                   | 2/10 [00:00<00:01,  4.49it/s]\u001b[A\n",
      " 30%|███████████████████████████████▏                                                                        | 3/10 [00:00<00:01,  4.21it/s]\u001b[A\n",
      " 50%|███████████████████████████████████████████████████▌                                                   | 24/48 [00:14<00:14,  1.68it/s]\u001b[A\n",
      " 50%|████████████████████████████████████████████████████                                                    | 5/10 [00:01<00:01,  4.61it/s]\u001b[A\n",
      " 52%|█████████████████████████████████████████████████████▋                                                 | 25/48 [00:14<00:13,  1.69it/s]\u001b[A\n",
      " 54%|███████████████████████████████████████████████████████▊                                               | 26/48 [00:15<00:13,  1.65it/s]\u001b[A\n",
      " 58%|████████████████████████████████████████████████████████████                                           | 28/48 [00:16<00:12,  1.63it/s]\u001b[A\n",
      " 60%|██████████████████████████████████████████████████████████████▏                                        | 29/48 [00:17<00:11,  1.66it/s]\u001b[A\n",
      "100%|███████████████████████████████████████████████████████████████████████████████████████████████████████| 10/10 [00:04<00:00,  2.39it/s]\u001b[A"
     ]
    },
    {
     "name": "stdout",
     "output_type": "stream",
     "text": [
      "INFO:adomvi.scraper.google:Writing metadata file.\n"
     ]
    },
    {
     "name": "stderr",
     "output_type": "stream",
     "text": [
      "\n",
      " 62%|████████████████████████████████████████████████████████████████▍                                      | 30/48 [00:18<00:11,  1.62it/s]"
     ]
    },
    {
     "name": "stdout",
     "output_type": "stream",
     "text": [
      "INFO:adomvi.scraper.google:Saving images to disk.\n"
     ]
    },
    {
     "name": "stderr",
     "output_type": "stream",
     "text": [
      "\n",
      " 10%|██████████▍                                                                                             | 1/10 [00:00<00:02,  3.06it/s]"
     ]
    },
    {
     "name": "stdout",
     "output_type": "stream",
     "text": [
      "INFO:adomvi.scraper.google:Chrome web driver initialized. Page title for https://www.google.com: Google\n",
      "INFO:adomvi.scraper.google:Seaching images for challenger tank\n"
     ]
    },
    {
     "name": "stderr",
     "output_type": "stream",
     "text": [
      " 40%|█████████████████████████████████████████▌                                                              | 4/10 [00:01<00:02,  2.56it/s]"
     ]
    },
    {
     "name": "stdout",
     "output_type": "stream",
     "text": [
      "INFO:adomvi.scraper.google:Clicking Images search button\n"
     ]
    },
    {
     "name": "stderr",
     "output_type": "stream",
     "text": [
      " 70%|████████████████████████████████████████████████████████████████████████▊                               | 7/10 [00:03<00:01,  2.10it/s]"
     ]
    },
    {
     "name": "stdout",
     "output_type": "stream",
     "text": [
      "INFO:adomvi.scraper.google:Fetching thumbnails.\n",
      "INFO:adomvi.scraper.google:Found 48 thumbnails (48 new).\n"
     ]
    },
    {
     "name": "stderr",
     "output_type": "stream",
     "text": [
      "\n",
      " 90%|█████████████████████████████████████████████████████████████████████████████████████████████▌          | 9/10 [00:03<00:00,  2.85it/s]\u001b[A\n",
      "100%|███████████████████████████████████████████████████████████████████████████████████████████████████████| 10/10 [00:04<00:00,  2.40it/s]\u001b[A"
     ]
    },
    {
     "name": "stdout",
     "output_type": "stream",
     "text": [
      "INFO:adomvi.scraper.google:Writing metadata file.\n"
     ]
    },
    {
     "name": "stderr",
     "output_type": "stream",
     "text": [
      "\n",
      "\n",
      "  4%|████▎                                                                                                   | 2/48 [00:01<00:28,  1.62it/s]\u001b[A\n",
      "  6%|██████▌                                                                                                 | 3/48 [00:01<00:27,  1.64it/s]\u001b[A\n",
      "  8%|████████▋                                                                                               | 4/48 [00:02<00:26,  1.67it/s]\u001b[A"
     ]
    },
    {
     "name": "stdout",
     "output_type": "stream",
     "text": [
      "INFO:adomvi.scraper.google:Chrome web driver initialized. Page title for https://www.google.com: Google\n",
      "INFO:adomvi.scraper.google:Seaching images for M1 abrams\n"
     ]
    },
    {
     "name": "stderr",
     "output_type": "stream",
     "text": [
      "\n",
      " 10%|██████████▊                                                                                             | 5/48 [00:03<00:25,  1.68it/s]\u001b[A"
     ]
    },
    {
     "name": "stdout",
     "output_type": "stream",
     "text": [
      "INFO:adomvi.scraper.google:Clicking Images search button\n"
     ]
    },
    {
     "name": "stderr",
     "output_type": "stream",
     "text": [
      "\n",
      " 12%|█████████████                                                                                           | 6/48 [00:03<00:25,  1.66it/s]\u001b[A\n",
      " 15%|███████████████▏                                                                                        | 7/48 [00:04<00:24,  1.67it/s]\u001b[A\n",
      " 17%|█████████████████▎                                                                                      | 8/48 [00:04<00:23,  1.69it/s]\u001b[A"
     ]
    },
    {
     "name": "stdout",
     "output_type": "stream",
     "text": [
      "INFO:adomvi.scraper.google:Fetching thumbnails.\n",
      "INFO:adomvi.scraper.google:Found 48 thumbnails (48 new).\n"
     ]
    },
    {
     "name": "stderr",
     "output_type": "stream",
     "text": [
      "  0%|                                                                                                                | 0/48 [00:00<?, ?it/s]\n",
      "  2%|██▏                                                                                                     | 1/48 [00:00<00:29,  1.61it/s]\u001b[A\n",
      "  4%|████▎                                                                                                   | 2/48 [00:01<00:28,  1.63it/s]\u001b[A\n",
      "  6%|██████▌                                                                                                 | 3/48 [00:01<00:27,  1.66it/s]\u001b[A\n",
      "  8%|████████▋                                                                                               | 4/48 [00:02<00:25,  1.70it/s]\u001b[A\n",
      " 10%|██████████▊                                                                                             | 5/48 [00:02<00:25,  1.70it/s]\u001b[A\n",
      " 12%|█████████████                                                                                           | 6/48 [00:03<00:24,  1.68it/s]\u001b[A\n",
      " 15%|███████████████▏                                                                                        | 7/48 [00:04<00:24,  1.67it/s]\u001b[A\n",
      " 17%|█████████████████▎                                                                                      | 8/48 [00:04<00:23,  1.69it/s]\u001b[A\n",
      " 19%|███████████████████▌                                                                                    | 9/48 [00:05<00:23,  1.68it/s]\u001b[A\n",
      " 21%|█████████████████████▍                                                                                 | 10/48 [00:05<00:22,  1.67it/s]\u001b[A\n",
      " 23%|███████████████████████▌                                                                               | 11/48 [00:06<00:22,  1.67it/s]\u001b[A\n",
      " 25%|█████████████████████████▊                                                                             | 12/48 [00:07<00:21,  1.70it/s]\u001b[A\n",
      " 27%|███████████████████████████▉                                                                           | 13/48 [00:07<00:20,  1.69it/s]\u001b[A\n",
      " 29%|██████████████████████████████                                                                         | 14/48 [00:08<00:19,  1.71it/s]\u001b[A\n",
      " 31%|████████████████████████████████▏                                                                      | 15/48 [00:08<00:19,  1.69it/s]\u001b[A\n",
      " 33%|██████████████████████████████████▎                                                                    | 16/48 [00:09<00:18,  1.70it/s]\u001b[A\n",
      " 52%|█████████████████████████████████████████████████████▋                                                 | 25/48 [00:15<00:14,  1.63it/s]\u001b[A"
     ]
    },
    {
     "name": "stdout",
     "output_type": "stream",
     "text": [
      "INFO:adomvi.scraper.google:Saving images to disk.\n"
     ]
    },
    {
     "name": "stderr",
     "output_type": "stream",
     "text": [
      "\n",
      "\n",
      "  0%|                                                                                                                | 0/10 [00:00<?, ?it/s]\u001b[A\n",
      " 38%|██████████████████████████████████████▋                                                                | 18/48 [00:10<00:17,  1.72it/s]\u001b[A\n",
      " 20%|████████████████████▊                                                                                   | 2/10 [00:00<00:02,  3.21it/s]\u001b[A\n",
      " 40%|████████████████████████████████████████▊                                                              | 19/48 [00:11<00:16,  1.73it/s]\u001b[A\n",
      " 42%|██████████████████████████████████████████▉                                                            | 20/48 [00:11<00:16,  1.71it/s]\u001b[A\n",
      " 50%|████████████████████████████████████████████████████                                                    | 5/10 [00:01<00:01,  3.12it/s]\u001b[A\n",
      " 60%|██████████████████████████████████████████████████████████████▍                                         | 6/10 [00:01<00:01,  3.41it/s]\u001b[A\n",
      " 44%|█████████████████████████████████████████████                                                          | 21/48 [00:12<00:16,  1.68it/s]\u001b[A\n",
      " 80%|███████████████████████████████████████████████████████████████████████████████████▏                    | 8/10 [00:02<00:00,  3.63it/s]\u001b[A\n",
      " 90%|█████████████████████████████████████████████████████████████████████████████████████████████▌          | 9/10 [00:02<00:00,  4.19it/s]\u001b[A\n",
      "100%|███████████████████████████████████████████████████████████████████████████████████████████████████████| 10/10 [00:02<00:00,  3.80it/s]\u001b[A"
     ]
    },
    {
     "name": "stdout",
     "output_type": "stream",
     "text": [
      "INFO:adomvi.scraper.google:Writing metadata file.\n"
     ]
    },
    {
     "name": "stderr",
     "output_type": "stream",
     "text": [
      "\n",
      " 48%|█████████████████████████████████████████████████▎                                                     | 23/48 [00:14<00:15,  1.61it/s]"
     ]
    },
    {
     "name": "stdout",
     "output_type": "stream",
     "text": [
      "INFO:adomvi.scraper.google:Saving images to disk.\n"
     ]
    },
    {
     "name": "stderr",
     "output_type": "stream",
     "text": [
      "\n",
      "100%|███████████████████████████████████████████████████████████████████████████████████████████████████████| 10/10 [00:03<00:00,  2.66it/s]"
     ]
    },
    {
     "name": "stdout",
     "output_type": "stream",
     "text": [
      "INFO:adomvi.scraper.google:Writing metadata file.\n"
     ]
    },
    {
     "name": "stderr",
     "output_type": "stream",
     "text": [
      "\n"
     ]
    }
   ],
   "source": [
    "from concurrent.futures import ThreadPoolExecutor\n",
    "from itertools import repeat\n",
    "\n",
    "with ThreadPoolExecutor(max_workers=2) as executor:\n",
    "    executor.map(worker_thread, repeat(\"AFV\"), AFV)"
   ]
  },
  {
   "cell_type": "markdown",
   "id": "52bcbd94-213f-4b50-aa0f-2c1b4b6021ed",
   "metadata": {},
   "source": [
    "## Annotate the dataset\n",
    "\n",
    "To annotate the dataset, use a tool like [CVAT](https://app.cvat.ai/)"
   ]
  },
  {
   "cell_type": "markdown",
   "id": "6c34d776-1818-48da-8c02-d12a05281901",
   "metadata": {},
   "source": [
    "## Load the dataset"
   ]
  },
  {
   "cell_type": "markdown",
   "id": "7404a711-c69a-4b71-974f-306ed10cc8d5",
   "metadata": {},
   "source": [
    "We provided a sample annotated dataset with 4 classes (*AFV*, *APC*, *LAV* & *MEV*). We'll use fiftyone to load and preview the dataset."
   ]
  },
  {
   "cell_type": "code",
   "execution_count": 1,
   "id": "cbc034f4-4a04-4e1e-804c-e3449a5bb208",
   "metadata": {},
   "outputs": [
    {
     "name": "stdout",
     "output_type": "stream",
     "text": [
      "Images file '/Users/jonas/workspace/adomvi/resources/dataset/images.txt' not found. Listing data directory '/Users/jonas/workspace/adomvi/resources/dataset/data/' instead\n",
      " 100% |█████████████████| 669/669 [360.0ms elapsed, 0s remaining, 1.9K samples/s]      \n"
     ]
    }
   ],
   "source": [
    "import fiftyone as fo\n",
    "\n",
    "name = \"google-military-vehicles\"\n",
    "dataset_dir = \"../resources/dataset\"\n",
    "\n",
    "# Create the dataset\n",
    "dataset = fo.Dataset.from_dir(\n",
    "    dataset_dir=dataset_dir,\n",
    "    dataset_type=fo.types.YOLOv4Dataset,\n",
    "    name=name,\n",
    ")"
   ]
  },
  {
   "cell_type": "code",
   "execution_count": 2,
   "id": "fe762f6b-5a10-474a-a84b-48d4efe29240",
   "metadata": {},
   "outputs": [
    {
     "data": {
      "text/html": [
       "\n",
       "        <iframe\n",
       "            width=\"100%\"\n",
       "            height=\"800\"\n",
       "            src=\"http://localhost:5151/?notebook=True&subscription=40df1373-3ed4-47cc-913f-076df2247ca5\"\n",
       "            frameborder=\"0\"\n",
       "            allowfullscreen\n",
       "            \n",
       "        ></iframe>\n",
       "        "
      ],
      "text/plain": [
       "<IPython.lib.display.IFrame at 0x28cf8af50>"
      ]
     },
     "metadata": {},
     "output_type": "display_data"
    }
   ],
   "source": [
    "session = fo.launch_app(dataset)"
   ]
  },
  {
   "cell_type": "code",
   "execution_count": null,
   "id": "c755233f-ab15-4efe-81cc-8b18484d67c9",
   "metadata": {},
   "outputs": [],
   "source": []
  }
 ],
 "metadata": {
  "kernelspec": {
   "display_name": "Python 3 (ipykernel)",
   "language": "python",
   "name": "python3"
  },
  "language_info": {
   "codemirror_mode": {
    "name": "ipython",
    "version": 3
   },
   "file_extension": ".py",
   "mimetype": "text/x-python",
   "name": "python",
   "nbconvert_exporter": "python",
   "pygments_lexer": "ipython3",
   "version": "3.10.10"
  }
 },
 "nbformat": 4,
 "nbformat_minor": 5
}
